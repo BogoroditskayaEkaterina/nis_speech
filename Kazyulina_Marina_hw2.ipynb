{
  "nbformat": 4,
  "nbformat_minor": 0,
  "metadata": {
    "colab": {
      "name": "Kazyulina Marina hw2",
      "provenance": []
    },
    "kernelspec": {
      "name": "python3",
      "display_name": "Python 3"
    },
    "language_info": {
      "name": "python"
    },
    "accelerator": "GPU"
  },
  "cells": [
    {
      "cell_type": "code",
      "metadata": {
        "id": "8wUWVI-5OiQX"
      },
      "source": [
        "# c понедельничного семинара\n",
        "\n",
        "## Install dependencies\n",
        "!pip install wget\n",
        "!apt-get install sox libsndfile1 ffmpeg\n",
        "!pip install unidecode\n",
        "\n",
        "\n",
        "## Install NeMo\n",
        "!python -m pip install nemo_toolkit[all]\n",
        "\n",
        "!pip install torchtext==0.10.1\n",
        "!pip install matplotlib==3.1.3\n",
        "\"\"\"\n",
        "Remember to restart the runtime for the kernel to pick up any upgraded packages (e.g. matplotlib)!\n",
        "Alternatively, you can uncomment the exit() below to crash and restart the kernel, in the case\n",
        "that you want to use the \"Run All Cells\" (or similar) option.\n",
        "\"\"\"\n",
        "# exit()\n",
        "\n",
        "from IPython.display import clear_output\n",
        "clear_output()"
      ],
      "execution_count": 2,
      "outputs": []
    },
    {
      "cell_type": "markdown",
      "metadata": {
        "id": "KwCfLWVbPxHR"
      },
      "source": [
        "## Загрузка данных"
      ]
    },
    {
      "cell_type": "code",
      "metadata": {
        "id": "x8-I0-ehReAa"
      },
      "source": [
        "data_dir = '/content'"
      ],
      "execution_count": 2,
      "outputs": []
    },
    {
      "cell_type": "code",
      "metadata": {
        "id": "vQh2d0MeP0XV"
      },
      "source": [
        "import glob\n",
        "import os\n",
        "import subprocess\n",
        "import tarfile\n",
        "import wget\n",
        "\n",
        "# Загрузка датасета Golos\n",
        "def load(golos_url, fname):\n",
        "  if not os.path.exists(os.path.join(data_dir, fname)):\n",
        "      golos_path = wget.download(golos_url, os.path.join(data_dir, fname))\n",
        "      print(f\"Dataset downloaded at: {golos_path}\")\n",
        "  else:\n",
        "      print(\"Tarfile already exists.\")\n",
        "      golos_path = os.path.join(data_dir, fname)\n",
        "  return golos_path"
      ],
      "execution_count": 3,
      "outputs": []
    },
    {
      "cell_type": "markdown",
      "metadata": {
        "id": "19YwmuXJRmec"
      },
      "source": [
        "### обучающая выборка"
      ]
    },
    {
      "cell_type": "code",
      "metadata": {
        "colab": {
          "base_uri": "https://localhost:8080/"
        },
        "id": "S3IhiEqURiL1",
        "outputId": "076fcda0-3aea-4652-c2cd-97f85e991e6d"
      },
      "source": [
        "farfield_path = load(\"https://sc.link/1Z3\", \"farfield_train.tar\")\n",
        "if not os.path.exists(os.path.join(data_dir, '/farfield_train/')):\n",
        "    tar = tarfile.open(farfield_path)\n",
        "    tar.extractall(path=data_dir)"
      ],
      "execution_count": 4,
      "outputs": [
        {
          "output_type": "stream",
          "name": "stdout",
          "text": [
            "Dataset downloaded at: /content/farfield_train.tar\n"
          ]
        }
      ]
    },
    {
      "cell_type": "markdown",
      "metadata": {
        "id": "Y5ZR8qF3Rrtb"
      },
      "source": [
        "### тестовая выборка"
      ]
    },
    {
      "cell_type": "code",
      "metadata": {
        "colab": {
          "base_uri": "https://localhost:8080/"
        },
        "id": "rJKjZRHIRfLT",
        "outputId": "9a69917d-99e5-4c12-f1fc-03b367edd3f0"
      },
      "source": [
        "golos_path = load(\"https://sc.link/Kqr\", \"test.tar\")\n",
        "\n",
        "if not os.path.exists(os.path.join(data_dir, '/test/')):\n",
        "    tar = tarfile.open(golos_path)\n",
        "    tar.extractall(path=data_dir)"
      ],
      "execution_count": 5,
      "outputs": [
        {
          "output_type": "stream",
          "name": "stdout",
          "text": [
            "Dataset downloaded at: /content/test.tar\n"
          ]
        }
      ]
    },
    {
      "cell_type": "markdown",
      "metadata": {
        "id": "Fc4bbJQhcL7K"
      },
      "source": [
        "### Манифесты"
      ]
    },
    {
      "cell_type": "markdown",
      "metadata": {
        "id": "mXj1zz8R8pES"
      },
      "source": [
        "### достаем подгруженный манифет из репо"
      ]
    },
    {
      "cell_type": "code",
      "metadata": {
        "colab": {
          "base_uri": "https://localhost:8080/"
        },
        "id": "mRKwBs6CX5fV",
        "outputId": "156b2a9a-9337-4013-ed52-284513244fd0"
      },
      "source": [
        "! unzip /content/train_manifest.jsonl.zip"
      ],
      "execution_count": 7,
      "outputs": [
        {
          "output_type": "stream",
          "name": "stdout",
          "text": [
            "Archive:  /content/train_manifest.jsonl.zip\n",
            "  inflating: train_manifest.jsonl    \n"
          ]
        }
      ]
    },
    {
      "cell_type": "markdown",
      "metadata": {
        "id": "9wlzdZNz8wBK"
      },
      "source": [
        "### убеждаемся что они все действительно существуют "
      ]
    },
    {
      "cell_type": "code",
      "metadata": {
        "colab": {
          "base_uri": "https://localhost:8080/"
        },
        "id": "8gk1D6TzX7ed",
        "outputId": "33b48764-6fc2-4e2a-ad80-debe0aa941b2"
      },
      "source": [
        "! head /content/train_manifest.jsonl"
      ],
      "execution_count": 8,
      "outputs": [
        {
          "output_type": "stream",
          "name": "stdout",
          "text": [
            "{\"id\": \"77b380796d242cf5bc09cfb551cffecd\", \"audio_filepath\": \"crowd/0/77b380796d242cf5bc09cfb551cffecd.wav\", \"text\": \"\\u0430\\u043b\\u0438\\u0431\\u0438\", \"duration\": 1.21}\n",
            "{\"id\": \"404e1eecbc38a687e036739f2e5dd6d3\", \"audio_filepath\": \"crowd/0/404e1eecbc38a687e036739f2e5dd6d3.wav\", \"text\": \"\\u0441\\u043a\\u0430\\u0437\\u043a\\u0430\", \"duration\": 2.9}\n",
            "{\"id\": \"f913db484595c1bcdd9476194b08a1f4\", \"audio_filepath\": \"crowd/0/f913db484595c1bcdd9476194b08a1f4.wav\", \"text\": \"\\u043d\\u0430\\u0439\\u0434\\u0438 \\u0432 \\u043d\\u0435\\u0442\\u0435 \\u043c\\u0443\\u043b\\u044c\\u0442 \\u0441\\u0442\\u0430\\u043b\\u044c\\u043d\\u043e\\u0439 \\u0433\\u0438\\u0433\\u0430\\u043d\\u0442\", \"duration\": 4.76}\n",
            "{\"id\": \"eca448acf1712fa7ca08aede3d2df1ac\", \"audio_filepath\": \"crowd/0/eca448acf1712fa7ca08aede3d2df1ac.wav\", \"text\": \"\\u043c\\u043e\\u043d\\u0430 \\u043b\\u0438\\u0437\\u0430\", \"duration\": 2.3}\n",
            "{\"id\": \"a366eecb0a85ef76463e1f4b5188b698\", \"audio_filepath\": \"crowd/0/a366eecb0a85ef76463e1f4b5188b698.wav\", \"text\": \"\\u0441\\u043c\\u043e\\u0442\\u0440\\u0435\\u0442\\u044c \\u0441\\u0435\\u0440\\u0438\\u0430\\u043b \\u0432\\u043e\\u0441\\u0435\\u043c\\u044c \\u0441 \\u043f\\u043e\\u043b\\u043e\\u0432\\u0438\\u043d\\u043e\\u0439\", \"duration\": 3.78}\n",
            "{\"id\": \"37e7ee229ce692fc007e344e6376e90a\", \"audio_filepath\": \"crowd/0/37e7ee229ce692fc007e344e6376e90a.wav\", \"text\": \"\\u0432\\u0440\\u0443\\u0431\\u0438 \\u0440\\u043e\\u0441\\u0441\\u0438\\u0439\\u0441\\u043a\\u0438\\u0439 \\u0444\\u0438\\u043b\\u044c\\u043c \\u043c\\u043e\\u0441\\u0433\\u043e\\u0440\\u0441\\u043c\\u0435\\u0445\", \"duration\": 4.54}\n",
            "{\"id\": \"69c2473c78844219a6625157c0a9cb2d\", \"audio_filepath\": \"crowd/0/69c2473c78844219a6625157c0a9cb2d.wav\", \"text\": \"\\u043d\\u0430\\u0439\\u0434\\u0438 \\u043d\\u0430 \\u044e\\u0442\\u0443\\u0431\\u0435 \\u0444\\u0438\\u043b\\u044c\\u043c \\u043c\\u0435\\u043d\\u044f \\u0437\\u043e\\u0432\\u0443\\u0442 \\u043c\\u043e\\u0445\\u0430\\u043c\\u043c\\u0435\\u0434 \\u0430\\u043b\\u0438\", \"duration\": 4.24}\n",
            "{\"id\": \"3d5e79e898a2d4deadda9f728fc8a3ec\", \"audio_filepath\": \"crowd/0/3d5e79e898a2d4deadda9f728fc8a3ec.wav\", \"text\": \"\\u043c\\u043e\\u0436\\u0435\\u0448\\u044c \\u043c\\u043d\\u0435 \\u043f\\u043e\\u0441\\u0442\\u0430\\u0432\\u0438\\u0442\\u044c \\u043c\\u0443\\u043b\\u044c\\u0442\\u0444\\u0438\\u043b\\u044c\\u043c \\u043a\\u0432\\u0430\\u0434\\u0440\\u0430\\u0442\\u043d\\u044b\\u0435 \\u0437\\u0432\\u0435\\u0440\\u044e\\u0448\\u043a\\u0438\", \"duration\": 4.22}\n",
            "{\"id\": \"da1727c120db7575744bd2740755c57d\", \"audio_filepath\": \"crowd/0/da1727c120db7575744bd2740755c57d.wav\", \"text\": \"\\u0441\\u0432\\u0430\\u0442\\u044b \\u043f\\u043e\\u0431\\u044b\\u0441\\u0442\\u0440\\u0435\\u0435 \\u0432\\u043a\\u043b\\u044e\\u0447\\u0438 \\u043f\\u043e\\u0436\\u0430\\u043b\\u0443\\u0439\\u0441\\u0442\\u0430\", \"duration\": 4.62}\n",
            "{\"id\": \"ad4bbc81eb33d17f2ff22cbbd23c4eac\", \"audio_filepath\": \"crowd/0/ad4bbc81eb33d17f2ff22cbbd23c4eac.wav\", \"text\": \"\\u0440\\u043e\\u043a\\u0435\\u0442\\u043c\\u0435\\u043d \\u0441\\u043c\\u043e\\u0442\\u0440\\u0435\\u0442\\u044c \\u0441\\u0435\\u0440\\u0438\\u0430\\u043b \\u0440\\u043e\\u043a\\u0435\\u0442\\u043c\\u0435\\u043d\", \"duration\": 4.82}\n"
          ]
        }
      ]
    },
    {
      "cell_type": "code",
      "metadata": {
        "colab": {
          "base_uri": "https://localhost:8080/"
        },
        "id": "HChNsfn7X3qs",
        "outputId": "aaac6bb8-77dc-4b23-9268-d8f977f1dd8d"
      },
      "source": [
        "! head /content/test/farfield/manifest.jsonl"
      ],
      "execution_count": 9,
      "outputs": [
        {
          "output_type": "stream",
          "name": "stdout",
          "text": [
            "{\"id\": \"58b586f67f5e634506e215df5996b82e\", \"audio_filepath\": \"files/58b586f67f5e634506e215df5996b82e.wav\", \"text\": \"\\u0434\\u0436\\u043e\\u0439 \\u0445\\u0432\\u0430\\u0442\\u0438\\u0442\", \"duration\": 1.696625}\n",
            "{\"id\": \"26093ef7a8c5ec6a3c586a6a929c1bd3\", \"audio_filepath\": \"files/26093ef7a8c5ec6a3c586a6a929c1bd3.wav\", \"text\": \"\\u0441\\u0430\\u043b\\u044e\\u0442 \\u0432\\u044b\\u0437\\u043e\\u0432 \\u0441\\u0432\\u0435\\u0442\\u043b\\u0430\\u043d\\u0435 \\u0432\\u0430\\u0441\\u0438\\u043b\\u044c\\u0435\\u0432\\u043d\\u0435 \\u043d\\u0438\\u043a\\u043e\\u043b\\u0435\\u043d\\u043a\\u043e\", \"duration\": 3.1720625}\n",
            "{\"id\": \"b42d13ab3dc159fac39a1120e8011f66\", \"audio_filepath\": \"files/b42d13ab3dc159fac39a1120e8011f66.wav\", \"text\": \"\\u0441\\u0430\\u043b\\u044e\\u0442 \\u0445\\u0432\\u0430\\u0442\\u0438\\u0442\", \"duration\": 1.5226875}\n",
            "{\"id\": \"7e55843e745a239b35212e2caba77239\", \"audio_filepath\": \"files/7e55843e745a239b35212e2caba77239.wav\", \"text\": \"\\u0434\\u0436\\u043e\\u0439 \\u0437\\u0432\\u043e\\u043d\\u043e\\u043a \\u044e\\u0440\\u0438\\u044e \\u0438\\u0432\\u0430\\u043d\\u043e\\u0432\\u0438\\u0447\\u0443 \\u0446\\u0430\\u0440\\u044c\\u043a\\u043e\\u0432\\u0443\", \"duration\": 3.0640625}\n",
            "{\"id\": \"a0c621e2819a3747e42d05940aab0446\", \"audio_filepath\": \"files/a0c621e2819a3747e42d05940aab0446.wav\", \"text\": \"\\u0434\\u0436\\u043e\\u0439 \\u0432\\u044b\\u0439\\u0442\\u0438 \\u0438\\u0437 \\u0441\\u0446\\u0435\\u043d\\u0430\\u0440\\u0438\\u044f\", \"duration\": 2.31475}\n",
            "{\"id\": \"f293e3548bd266460c8ea6ac1fb76478\", \"audio_filepath\": \"files/f293e3548bd266460c8ea6ac1fb76478.wav\", \"text\": \"\\u0441\\u0430\\u043b\\u044e\\u0442 \\u0432\\u044b\\u0439\\u0442\\u0438\", \"duration\": 1.310125}\n",
            "{\"id\": \"b3fc5f249351a9087ffedc0a34385463\", \"audio_filepath\": \"files/b3fc5f249351a9087ffedc0a34385463.wav\", \"text\": \"\\u0441\\u0430\\u043b\\u044e\\u0442 \\u0437\\u0430\\u043a\\u0440\\u043e\\u0439\\u0441\\u044f\", \"duration\": 1.9009375}\n",
            "{\"id\": \"ee2144d4bc00e96131a9bef5c74edd97\", \"audio_filepath\": \"files/ee2144d4bc00e96131a9bef5c74edd97.wav\", \"text\": \"\\u0441\\u0430\\u043b\\u044e\\u0442 \\u043d\\u0430\\u0431\\u0435\\u0440\\u0438 \\u0434\\u0430\\u043d\\u0438\\u043b\\u043e\\u0432\\u0430\", \"duration\": 1.8129375}\n",
            "{\"id\": \"94f4ad577967f9f61d5d88cd92b1339c\", \"audio_filepath\": \"files/94f4ad577967f9f61d5d88cd92b1339c.wav\", \"text\": \"\\u0441\\u0431\\u0435\\u0440 \\u043c\\u043d\\u0435 \\u043d\\u0440\\u0430\\u0432\\u0438\\u0442\\u0441\\u044f\", \"duration\": 1.9945}\n",
            "{\"id\": \"a97958419827c57069bc3550c4353eb9\", \"audio_filepath\": \"files/a97958419827c57069bc3550c4353eb9.wav\", \"text\": \"\\u0441\\u0430\\u043b\\u044e\\u0442 \\u043f\\u0440\\u0435\\u043a\\u0440\\u0430\\u0442\\u0438\", \"duration\": 1.4965}\n"
          ]
        }
      ]
    },
    {
      "cell_type": "markdown",
      "metadata": {
        "id": "tRDULTLf8jB5"
      },
      "source": [
        "### меняем пути"
      ]
    },
    {
      "cell_type": "code",
      "metadata": {
        "id": "b4QRU6v8XnLI"
      },
      "source": [
        "# --- Building Manifest Files --- #\n",
        "import json\n",
        "# Function to build a manifest\n",
        "def build_manifest(manifest_rel, manifest_abs, test=False):\n",
        "    n = 0\n",
        "    manifest_path = os.path.split(os.path.abspath(manifest_rel))[0]\n",
        "    with open(manifest_rel, 'r') as fin:\n",
        "        with open(manifest_abs, 'w') as fout:\n",
        "            for line in fin:\n",
        "                n += 1\n",
        "                if n < 20000 and not test:\n",
        "                  continue\n",
        "                if n > 50000:\n",
        "                  break\n",
        "                metadata = json.loads(line)\n",
        "                if metadata['id'] == '375e547e51a71f9e18b811dd89244baf':\n",
        "                  # print('empty')\n",
        "                  continue\n",
        "                metadata[\"audio_filepath\"]=os.path.join(manifest_path, metadata[\"audio_filepath\"])\n",
        "                json.dump(metadata, fout)\n",
        "                fout.write('\\n')"
      ],
      "execution_count": 12,
      "outputs": []
    },
    {
      "cell_type": "code",
      "metadata": {
        "colab": {
          "base_uri": "https://localhost:8080/"
        },
        "id": "1jL1RZKsXbvH",
        "outputId": "e7d88502-679f-40ec-eb51-266cd6720f9b"
      },
      "source": [
        "# Building Manifests\n",
        "print(\"******\")\n",
        "train_rel = os.path.join(data_dir, '/content/train_manifest.jsonl')\n",
        "train_abs = os.path.join(data_dir, 'train/train_manifest.jsonl')\n",
        "if not os.path.isfile(train_abs):\n",
        "  build_manifest(train_rel, train_abs, False)\n",
        "train_manifest = train_abs\n",
        "print(\"train_manifest\", train_manifest)\n",
        "\n",
        "test_rel = os.path.join(data_dir, 'test/farfield/manifest.jsonl')\n",
        "test_abs = os.path.join(data_dir, 'test/farfield/test_manifest.jsonl')\n",
        "if not os.path.isfile(test_abs):\n",
        "  build_manifest(test_rel, test_abs, True)\n",
        "test_manifest = test_abs\n",
        "print(\"test_manifest\", test_manifest)"
      ],
      "execution_count": 10,
      "outputs": [
        {
          "output_type": "stream",
          "name": "stdout",
          "text": [
            "******\n",
            "train_manifest /content/train/train_manifest.jsonl\n",
            "test_manifest /content/test/farfield/test_manifest.jsonl\n"
          ]
        }
      ]
    },
    {
      "cell_type": "markdown",
      "metadata": {
        "id": "kWkdWmqM8_lY"
      },
      "source": [
        "## Достаем модель"
      ]
    },
    {
      "cell_type": "code",
      "metadata": {
        "colab": {
          "base_uri": "https://localhost:8080/"
        },
        "id": "AwydSNCewgnO",
        "outputId": "c3830063-9690-4198-cc5b-179955881c22"
      },
      "source": [
        "import nemo\n",
        "import nemo.collections.asr as nemo_asr"
      ],
      "execution_count": null,
      "outputs": [
        {
          "output_type": "stream",
          "name": "stderr",
          "text": [
            "[NeMo W 2021-11-30 12:50:19 optimizers:50] Apex was not found. Using the lamb or fused_adam optimizer will error out.\n",
            "################################################################################\n",
            "### WARNING, path does not exist: KALDI_ROOT=/mnt/matylda5/iveselyk/Tools/kaldi-trunk\n",
            "###          (please add 'export KALDI_ROOT=<your_path>' in your $HOME/.profile)\n",
            "###          (or run as: KALDI_ROOT=<your_path> python <your_script>.py)\n",
            "################################################################################\n",
            "\n"
          ]
        }
      ]
    },
    {
      "cell_type": "code",
      "metadata": {
        "colab": {
          "base_uri": "https://localhost:8080/"
        },
        "id": "mCHs2gbevYcO",
        "outputId": "b9429e7d-68b3-4198-ac51-7be049d18827"
      },
      "source": [
        "load(\"https://sc.link/ZMv\", \"QuartzNet15x5_golos.nemo\")\n",
        "model = nemo_asr.models.EncDecCTCModel.restore_from(os.path.join(data_dir, \"QuartzNet15x5_golos.nemo\"))"
      ],
      "execution_count": null,
      "outputs": [
        {
          "output_type": "stream",
          "name": "stdout",
          "text": [
            "Tarfile already exists.\n"
          ]
        },
        {
          "output_type": "stream",
          "name": "stderr",
          "text": [
            "[NeMo W 2021-11-29 12:49:16 modelPT:131] If you intend to do training or fine-tuning, please call the ModelPT.setup_training_data() method and provide a valid configuration file to setup the train data loader.\n",
            "    Train config : \n",
            "    manifest_filepath: train/golos_and_mcv.jsonl\n",
            "    sample_rate: 16000\n",
            "    labels:\n",
            "    - ' '\n",
            "    - а\n",
            "    - б\n",
            "    - в\n",
            "    - г\n",
            "    - д\n",
            "    - е\n",
            "    - ж\n",
            "    - з\n",
            "    - и\n",
            "    - й\n",
            "    - к\n",
            "    - л\n",
            "    - м\n",
            "    - н\n",
            "    - о\n",
            "    - п\n",
            "    - р\n",
            "    - с\n",
            "    - т\n",
            "    - у\n",
            "    - ф\n",
            "    - х\n",
            "    - ц\n",
            "    - ч\n",
            "    - ш\n",
            "    - щ\n",
            "    - ъ\n",
            "    - ы\n",
            "    - ь\n",
            "    - э\n",
            "    - ю\n",
            "    - я\n",
            "    batch_size: 64\n",
            "    trim_silence: false\n",
            "    max_duration: 20.0\n",
            "    min_duration: 0.1\n",
            "    num_workers: 20\n",
            "    shuffle: true\n",
            "    is_tarred: false\n",
            "    tarred_audio_filepaths: null\n",
            "    tarred_shard_strategy: scatter\n",
            "    parser: ru\n",
            "    \n",
            "[NeMo W 2021-11-29 12:49:16 modelPT:138] If you intend to do validation, please call the ModelPT.setup_validation_data() or ModelPT.setup_multiple_validation_data() method and provide a valid configuration file to setup the validation data loader(s). \n",
            "    Validation config : \n",
            "    manifest_filepath:\n",
            "    - test/mcv/dev_ru.jsonl\n",
            "    - test/mcv/test_ru.jsonl\n",
            "    - test/crowd/crowd.jsonl\n",
            "    - test/farfield/farfield.jsonl\n",
            "    sample_rate: 16000\n",
            "    labels:\n",
            "    - ' '\n",
            "    - а\n",
            "    - б\n",
            "    - в\n",
            "    - г\n",
            "    - д\n",
            "    - е\n",
            "    - ж\n",
            "    - з\n",
            "    - и\n",
            "    - й\n",
            "    - к\n",
            "    - л\n",
            "    - м\n",
            "    - н\n",
            "    - о\n",
            "    - п\n",
            "    - р\n",
            "    - с\n",
            "    - т\n",
            "    - у\n",
            "    - ф\n",
            "    - х\n",
            "    - ц\n",
            "    - ч\n",
            "    - ш\n",
            "    - щ\n",
            "    - ъ\n",
            "    - ы\n",
            "    - ь\n",
            "    - э\n",
            "    - ю\n",
            "    - я\n",
            "    batch_size: 64\n",
            "    num_workers: 20\n",
            "    shuffle: false\n",
            "    parser: ru\n",
            "    \n",
            "[NeMo W 2021-11-29 12:49:16 modelPT:144] Please call the ModelPT.setup_test_data() or ModelPT.setup_multiple_test_data() method and provide a valid configuration file to setup the test data loader(s).\n",
            "    Test config : \n",
            "    manifest_filepath: test/mcv/test_ru.jsonl\n",
            "    sample_rate: 16000\n",
            "    labels:\n",
            "    - ' '\n",
            "    - а\n",
            "    - б\n",
            "    - в\n",
            "    - г\n",
            "    - д\n",
            "    - е\n",
            "    - ж\n",
            "    - з\n",
            "    - и\n",
            "    - й\n",
            "    - к\n",
            "    - л\n",
            "    - м\n",
            "    - н\n",
            "    - о\n",
            "    - п\n",
            "    - р\n",
            "    - с\n",
            "    - т\n",
            "    - у\n",
            "    - ф\n",
            "    - х\n",
            "    - ц\n",
            "    - ч\n",
            "    - ш\n",
            "    - щ\n",
            "    - ъ\n",
            "    - ы\n",
            "    - ь\n",
            "    - э\n",
            "    - ю\n",
            "    - я\n",
            "    batch_size: 64\n",
            "    shuffle: false\n",
            "    parser: ru\n",
            "    \n"
          ]
        },
        {
          "output_type": "stream",
          "name": "stdout",
          "text": [
            "[NeMo I 2021-11-29 12:49:16 features:265] PADDING: 16\n",
            "[NeMo I 2021-11-29 12:49:16 features:282] STFT using torch\n",
            "[NeMo I 2021-11-29 12:49:17 save_restore_connector:149] Model EncDecCTCModel was successfully restored from /content/QuartzNet15x5_golos.nemo.\n"
          ]
        }
      ]
    },
    {
      "cell_type": "markdown",
      "metadata": {
        "id": "lp-qoIjs9Dy8"
      },
      "source": [
        "### настраиваем параметры"
      ]
    },
    {
      "cell_type": "code",
      "metadata": {
        "id": "QgLYX1vScj6p"
      },
      "source": [
        "import copy\n",
        "from omegaconf import DictConfig\n",
        "\n",
        "batch_size = 16\n",
        "\n",
        "params_model = model._cfg\n",
        "params_model['train_ds']['parser'] = 'base'\n",
        "params_model['validation_ds']['parser'] = 'base'\n",
        "params_model['test_ds']['parser'] = 'base'\n",
        "\n",
        "params_model['train_ds']['manifest_filepath'] = train_manifest\n",
        "params_model['train_ds']['batch_size'] = batch_size\n",
        "\n",
        "params_model['test_ds']['manifest_filepath'] = test_manifest\n",
        "params_model['test_ds']['batch_size'] = batch_size\n",
        "\n",
        "params_model['validation_ds']['manifest_filepath'] = test_manifest\n",
        "params_model['validation_ds']['batch_size'] = batch_size"
      ],
      "execution_count": null,
      "outputs": []
    },
    {
      "cell_type": "code",
      "metadata": {
        "colab": {
          "base_uri": "https://localhost:8080/",
          "height": 423
        },
        "id": "u7QHAwsbvYh9",
        "outputId": "3bd1db14-e071-4db5-be14-719953227b3c"
      },
      "source": [
        "model.setup_training_data(train_data_config=params_model['train_ds'])\n",
        "model.setup_test_data(test_data_config=params_model['test_ds'])\n",
        "model.setup_validation_data(val_data_config=params_model['validation_ds'])\n",
        "\n",
        "\n",
        "lr = 0.0005\n",
        "\n",
        "params_optim = copy.deepcopy(params_model['optim'])\n",
        "params_optim['lr'] = lr\n",
        "model.setup_optimization(optim_config=DictConfig(params_optim))"
      ],
      "execution_count": null,
      "outputs": [
        {
          "output_type": "stream",
          "name": "stdout",
          "text": [
            "[NeMo I 2021-11-29 12:49:33 collections:173] Dataset loaded with 29999 files totalling 31.31 hours\n",
            "[NeMo I 2021-11-29 12:49:33 collections:174] 1 files were filtered totalling 0.00 hours\n"
          ]
        },
        {
          "output_type": "stream",
          "name": "stderr",
          "text": [
            "[NeMo W 2021-11-29 12:49:33 nemo_logging:349] /usr/local/lib/python3.7/dist-packages/torch/utils/data/dataloader.py:481: UserWarning: This DataLoader will create 20 worker processes in total. Our suggested max number of worker in current system is 2, which is smaller than what this DataLoader is going to create. Please be aware that excessive worker creation might get DataLoader running slow or even freeze, lower the worker number to avoid potential slowness/freeze if necessary.\n",
            "      cpuset_checked))\n",
            "    \n"
          ]
        },
        {
          "output_type": "stream",
          "name": "stdout",
          "text": [
            "[NeMo I 2021-11-29 12:49:34 collections:173] Dataset loaded with 1916 files totalling 1.41 hours\n",
            "[NeMo I 2021-11-29 12:49:34 collections:174] 0 files were filtered totalling 0.00 hours\n",
            "[NeMo I 2021-11-29 12:49:34 collections:173] Dataset loaded with 1916 files totalling 1.41 hours\n",
            "[NeMo I 2021-11-29 12:49:34 collections:174] 0 files were filtered totalling 0.00 hours\n"
          ]
        },
        {
          "output_type": "stream",
          "name": "stderr",
          "text": [
            "[NeMo W 2021-11-29 12:49:34 modelPT:453] Trainer wasn't specified in model constructor. Make sure that you really wanted it.\n"
          ]
        },
        {
          "output_type": "stream",
          "name": "stdout",
          "text": [
            "[NeMo I 2021-11-29 12:49:34 modelPT:561] Optimizer config = Novograd (\n",
            "    Parameter Group 0\n",
            "        amsgrad: False\n",
            "        betas: [0.9, 0.98]\n",
            "        eps: 1e-08\n",
            "        grad_averaging: False\n",
            "        lr: 0.0005\n",
            "        weight_decay: 0.001\n",
            "    )\n"
          ]
        },
        {
          "output_type": "stream",
          "name": "stderr",
          "text": [
            "[NeMo W 2021-11-29 12:49:34 lr_scheduler:732] Neither `max_steps` nor `iters_per_batch` were provided to `optim.sched`, cannot compute effective `max_steps` !\n",
            "    Scheduler will not be instantiated !\n"
          ]
        }
      ]
    },
    {
      "cell_type": "code",
      "metadata": {
        "colab": {
          "base_uri": "https://localhost:8080/"
        },
        "id": "ySIaKlJfKo8f",
        "outputId": "ba85a9df-0719-49e8-90e1-e8f0dcc9e42b"
      },
      "source": [
        "# Bigger batch-size = bigger throughput\n",
        "# params['model']['validation_ds']['batch_size'] = 16\n",
        "# Setup the test data loader and make sure the model is on GPU\n",
        "# asr_model.setup_test_data(test_data_config=params['model']['validation_ds'])\n",
        "model.cuda()\n",
        "\n",
        "# We will be computing Word Error Rate (WER) metric between our hypothesis and predictions.\n",
        "# WER is computed as numerator/denominator.\n",
        "# We'll gather all the test batches' numerators and denominators.\n",
        "wer_nums = []\n",
        "wer_denoms = []\n",
        "\n",
        "# Loop over all test batches.\n",
        "# Iterating over the model's `test_dataloader` will give us:\n",
        "# (audio_signal, audio_signal_length, transcript_tokens, transcript_length)\n",
        "# See the AudioToCharDataset for more details.\n",
        "for test_batch in model.test_dataloader():\n",
        "        test_batch = [x.cuda() for x in test_batch]\n",
        "        targets = test_batch[2]\n",
        "        targets_lengths = test_batch[3]        \n",
        "        log_probs, encoded_len, greedy_predictions = asr_model(\n",
        "            input_signal=test_batch[0], input_signal_length=test_batch[1]\n",
        "        )\n",
        "        # Notice the model has a helper object to compute WER\n",
        "        model._wer.update(greedy_predictions, targets, targets_lengths)\n",
        "        _, wer_num, wer_denom = model._wer.compute()\n",
        "        model._wer.reset()\n",
        "        wer_nums.append(wer_num.detach().cpu().numpy())\n",
        "        wer_denoms.append(wer_denom.detach().cpu().numpy())\n",
        "\n",
        "        # Release tensors from GPU memory\n",
        "        del test_batch, log_probs, targets, targets_lengths, encoded_len, greedy_predictions\n",
        "\n",
        "# We need to sum all numerators and denominators first. Then divide.\n",
        "print(f\"WER = {sum(wer_nums)/sum(wer_denoms)}\")\n",
        "\n",
        "\n",
        "print(f'WER до дообучения составляет {sum(wer_nums)/sum(wer_denoms)}')\n"
      ],
      "execution_count": 8,
      "outputs": [
        {
          "output_type": "stream",
          "name": "stdout",
          "text": [
            "WER до дообучения составляет 0.6985648962206105\n"
          ]
        }
      ]
    },
    {
      "cell_type": "markdown",
      "metadata": {
        "id": "l5FPMjnI9Ie3"
      },
      "source": [
        "### Обучаем"
      ]
    },
    {
      "cell_type": "code",
      "metadata": {
        "colab": {
          "base_uri": "https://localhost:8080/"
        },
        "id": "X_dvdb8UvUyz",
        "outputId": "4f837615-9686-4ab9-ad5f-e8a71dea6e64"
      },
      "source": [
        "import pytorch_lightning as pl\n",
        "trainer = pl.Trainer(gpus=1, max_epochs=1, precision=16)"
      ],
      "execution_count": null,
      "outputs": [
        {
          "output_type": "stream",
          "name": "stderr",
          "text": [
            "Using 16bit native Automatic Mixed Precision (AMP)\n",
            "GPU available: True, used: True\n",
            "TPU available: False, using: 0 TPU cores\n",
            "IPU available: False, using: 0 IPUs\n"
          ]
        }
      ]
    },
    {
      "cell_type": "code",
      "metadata": {
        "colab": {
          "base_uri": "https://localhost:8080/",
          "height": 739,
          "referenced_widgets": [
            "218b1a601e8745649349ad4119d4c995",
            "2f501351ad7a412e9769037f557905b7",
            "e0c98c17961c41f38b58850a2f7c9479",
            "391641d30fd148f684d59a5448ed8ef5",
            "efae001db9ca423b965c7fc81b8b5148",
            "d21c25aa9f4743ea90202bb5f0708374",
            "1b0057a0530c4e6c98f5b2fdca61b25c",
            "d17c4a20377249de89d4b01d41d133ad",
            "32cc153025474bc38ed21c3660c571fb",
            "7169c26f054d4951805130f8e4b249ea",
            "5fc4615679324b308259fa008d7e417d",
            "85cec285b8884bc3bb3576a03245b421",
            "1e372b898e9a40b19219321ab895d52d",
            "57be2bf871174e3a99d6801b02c951a2",
            "f80bf54c535949f9ab0ae15242afd77a",
            "88415d6a81ff443a80d0fd29e593be08",
            "0c226a6f20804459852487c29e47f3f6",
            "dba6de68c8b64150902bd2742c0a23d1",
            "11537a764e1642288555acd1c1fb6d42",
            "18ae05ff69864a8d968726e3a4b5cdbe",
            "117834d60ca444cb997c03c9cdabdde1",
            "265dcf9c82d04b47aefce5ae1277a3c8",
            "954f2154dbf34b769248d7566b8b3cbf",
            "3a4be3e192d54181bd333ebbfca08f5e",
            "719f1d07f1854b5d93c3febae24cb714",
            "84f4fac564ec461a90ac292f689580c3",
            "bb4ca2b366004a4e822ee81f4a64e70d",
            "7b2e3404726d47b48cba417b04c2afb5",
            "eab300b6686943618b68fd98bc4248ae",
            "5c8bb642380f4faf8e8116d5a46e1485",
            "6542540db950419eac7e70d607a8ec80",
            "69e2d9e941014f01bf6f7216ff2cb686",
            "21beb3ec6c8745f7890d209030984f6a"
          ]
        },
        "id": "Mz7dypKpw0iQ",
        "outputId": "005b0fd5-63c0-4cb3-b819-34700fc61849"
      },
      "source": [
        "trainer.fit(model)"
      ],
      "execution_count": null,
      "outputs": [
        {
          "output_type": "stream",
          "name": "stderr",
          "text": [
            "LOCAL_RANK: 0 - CUDA_VISIBLE_DEVICES: [0]\n",
            "[NeMo W 2021-11-29 12:49:43 modelPT:453] Trainer wasn't specified in model constructor. Make sure that you really wanted it.\n"
          ]
        },
        {
          "output_type": "stream",
          "name": "stdout",
          "text": [
            "[NeMo I 2021-11-29 12:49:43 modelPT:561] Optimizer config = Novograd (\n",
            "    Parameter Group 0\n",
            "        amsgrad: False\n",
            "        betas: [0.9, 0.98]\n",
            "        eps: 1e-08\n",
            "        grad_averaging: False\n",
            "        lr: 0.0005\n",
            "        weight_decay: 0.001\n",
            "    )\n"
          ]
        },
        {
          "output_type": "stream",
          "name": "stderr",
          "text": [
            "[NeMo W 2021-11-29 12:49:43 lr_scheduler:732] Neither `max_steps` nor `iters_per_batch` were provided to `optim.sched`, cannot compute effective `max_steps` !\n",
            "    Scheduler will not be instantiated !\n",
            "\n",
            "  | Name              | Type                              | Params\n",
            "------------------------------------------------------------------------\n",
            "0 | preprocessor      | AudioToMelSpectrogramPreprocessor | 0     \n",
            "1 | encoder           | ConvASREncoder                    | 18.9 M\n",
            "2 | decoder           | ConvASRDecoder                    | 34.9 K\n",
            "3 | loss              | CTCLoss                           | 0     \n",
            "4 | spec_augmentation | SpectrogramAugmentation           | 0     \n",
            "5 | _wer              | WER                               | 0     \n",
            "------------------------------------------------------------------------\n",
            "18.9 M    Trainable params\n",
            "0         Non-trainable params\n",
            "18.9 M    Total params\n",
            "37.859    Total estimated model params size (MB)\n"
          ]
        },
        {
          "output_type": "display_data",
          "data": {
            "application/vnd.jupyter.widget-view+json": {
              "model_id": "218b1a601e8745649349ad4119d4c995",
              "version_minor": 0,
              "version_major": 2
            },
            "text/plain": [
              "Validation sanity check: 0it [00:00, ?it/s]"
            ]
          },
          "metadata": {}
        },
        {
          "output_type": "stream",
          "name": "stderr",
          "text": [
            "[NeMo W 2021-11-29 12:49:44 nemo_logging:349] /usr/local/lib/python3.7/dist-packages/torch/utils/data/dataloader.py:481: UserWarning: This DataLoader will create 20 worker processes in total. Our suggested max number of worker in current system is 2, which is smaller than what this DataLoader is going to create. Please be aware that excessive worker creation might get DataLoader running slow or even freeze, lower the worker number to avoid potential slowness/freeze if necessary.\n",
            "      cpuset_checked))\n",
            "    \n",
            "[NeMo W 2021-11-29 12:49:46 nemo_logging:349] /usr/local/lib/python3.7/dist-packages/nemo/collections/asr/parts/submodules/jasper.py:280: UserWarning: __floordiv__ is deprecated, and its behavior will change in a future version of pytorch. It currently rounds toward 0 (like the 'trunc' function NOT 'floor'). This results in incorrect rounding for negative values. To keep the current behavior, use torch.div(a, b, rounding_mode='trunc'), or for actual floor division, use torch.div(a, b, rounding_mode='floor').\n",
            "      ) // self.conv.stride[0] + 1\n",
            "    \n"
          ]
        },
        {
          "output_type": "display_data",
          "data": {
            "application/vnd.jupyter.widget-view+json": {
              "model_id": "85cec285b8884bc3bb3576a03245b421",
              "version_minor": 0,
              "version_major": 2
            },
            "text/plain": [
              "Training: 0it [00:00, ?it/s]"
            ]
          },
          "metadata": {}
        },
        {
          "output_type": "display_data",
          "data": {
            "application/vnd.jupyter.widget-view+json": {
              "model_id": "954f2154dbf34b769248d7566b8b3cbf",
              "version_minor": 0,
              "version_major": 2
            },
            "text/plain": [
              "Validating: 0it [00:00, ?it/s]"
            ]
          },
          "metadata": {}
        }
      ]
    },
    {
      "cell_type": "markdown",
      "metadata": {
        "id": "NIBf3VM-9L_E"
      },
      "source": [
        "### Считаем метрику"
      ]
    },
    {
      "cell_type": "code",
      "metadata": {
        "colab": {
          "base_uri": "https://localhost:8080/"
        },
        "id": "4vzj_QMzKvr8",
        "outputId": "e828121b-905d-4836-9126-3bc0dcd840a3"
      },
      "source": [
        "# Bigger batch-size = bigger throughput\n",
        "# params['model']['validation_ds']['batch_size'] = 16\n",
        "# Setup the test data loader and make sure the model is on GPU\n",
        "# asr_model.setup_test_data(test_data_config=params['model']['validation_ds'])\n",
        "model.cuda()\n",
        "\n",
        "# We will be computing Word Error Rate (WER) metric between our hypothesis and predictions.\n",
        "# WER is computed as numerator/denominator.\n",
        "# We'll gather all the test batches' numerators and denominators.\n",
        "wer_nums = []\n",
        "wer_denoms = []\n",
        "\n",
        "# Loop over all test batches.\n",
        "# Iterating over the model's `test_dataloader` will give us:\n",
        "# (audio_signal, audio_signal_length, transcript_tokens, transcript_length)\n",
        "# See the AudioToCharDataset for more details.\n",
        "for test_batch in model.test_dataloader():\n",
        "        test_batch = [x.cuda() for x in test_batch]\n",
        "        targets = test_batch[2]\n",
        "        targets_lengths = test_batch[3]        \n",
        "        log_probs, encoded_len, greedy_predictions = asr_model(\n",
        "            input_signal=test_batch[0], input_signal_length=test_batch[1]\n",
        "        )\n",
        "        # Notice the model has a helper object to compute WER\n",
        "        model._wer.update(greedy_predictions, targets, targets_lengths)\n",
        "        _, wer_num, wer_denom = model._wer.compute()\n",
        "        model._wer.reset()\n",
        "        wer_nums.append(wer_num.detach().cpu().numpy())\n",
        "        wer_denoms.append(wer_denom.detach().cpu().numpy())\n",
        "\n",
        "        # Release tensors from GPU memory\n",
        "        del test_batch, log_probs, targets, targets_lengths, encoded_len, greedy_predictions\n",
        "\n",
        "# We need to sum all numerators and denominators first. Then divide.\n",
        "print(f\"WER = {sum(wer_nums)/sum(wer_denoms)}\")"
      ],
      "execution_count": 9,
      "outputs": [
        {
          "output_type": "stream",
          "name": "stdout",
          "text": [
            "WER = 0.5802061062856485\n"
          ]
        }
      ]
    }
  ]
}