{
  "nbformat": 4,
  "nbformat_minor": 5,
  "metadata": {
    "kernelspec": {
      "display_name": "Python 3 (ipykernel)",
      "language": "python",
      "name": "python3"
    },
    "language_info": {
      "codemirror_mode": {
        "name": "ipython",
        "version": 3
      },
      "file_extension": ".py",
      "mimetype": "text/x-python",
      "name": "python",
      "nbconvert_exporter": "python",
      "pygments_lexer": "ipython3",
      "version": "3.7.10"
    },
    "colab": {
      "name": "data_explorer.ipynb",
      "provenance": []
    }
  },
  "cells": [
    {
      "cell_type": "code",
      "metadata": {
        "jupyter": {
          "outputs_hidden": true
        },
        "tags": [],
        "id": "9a0f3800-1abe-4817-a805-7e6bcb4fd5b4",
        "outputId": "e6666f57-903d-477e-f78a-46387d98dede"
      },
      "source": [
        "## Install dependencies\n",
        "# !pip install wget\n",
        "!apt-get install sox libsndfile1 ffmpeg\n",
        "!pip install unidecode\n",
        "\n",
        "\n",
        "## Install NeMo\n",
        "!python -m pip install nemo_toolkit[all]\n",
        "\n",
        "# !pip install torchtext==0.10.1\n",
        "# !pip install matplotlib==3.1.3\n",
        "\"\"\"\n",
        "Remember to restart the runtime for the kernel to pick up any upgraded packages (e.g. matplotlib)!\n",
        "Alternatively, you can uncomment the exit() below to crash and restart the kernel, in the case\n",
        "that you want to use the \"Run All Cells\" (or similar) option.\n",
        "\"\"\"\n",
        "# exit()"
      ],
      "id": "9a0f3800-1abe-4817-a805-7e6bcb4fd5b4",
      "execution_count": null,
      "outputs": [
        {
          "name": "stdout",
          "output_type": "stream",
          "text": [
            "E: Could not open lock file /var/lib/dpkg/lock-frontend - open (13: Permission denied)\n",
            "E: Unable to acquire the dpkg frontend lock (/var/lib/dpkg/lock-frontend), are you root?\n",
            "Collecting unidecode\n",
            "  Using cached Unidecode-1.3.2-py3-none-any.whl (235 kB)\n",
            "Installing collected packages: unidecode\n",
            "Successfully installed unidecode-1.3.2\n",
            "Collecting nemo_toolkit[all]\n",
            "  Using cached nemo_toolkit-1.5.0-py3-none-any.whl (2.7 MB)\n",
            "Requirement already satisfied: tqdm>=4.41.0 in /home/user/conda/lib/python3.7/site-packages (from nemo_toolkit[all]) (4.62.3)\n",
            "Requirement already satisfied: numpy>=1.18.2 in /home/user/conda/lib/python3.7/site-packages (from nemo_toolkit[all]) (1.19.5)\n",
            "Collecting frozendict\n",
            "  Using cached frozendict-2.1.1-py3-none-any.whl (12 kB)\n",
            "Requirement already satisfied: wrapt in /home/user/conda/lib/python3.7/site-packages (from nemo_toolkit[all]) (1.12.1)\n",
            "Requirement already satisfied: unidecode in /home/user/conda/lib/python3.7/site-packages (from nemo_toolkit[all]) (1.3.2)\n",
            "Collecting wget\n",
            "  Using cached wget-3.2-py3-none-any.whl\n",
            "Requirement already satisfied: torch in /home/user/conda/lib/python3.7/site-packages (from nemo_toolkit[all]) (1.7.0+cu110)\n",
            "Requirement already satisfied: scikit-learn in /home/user/conda/lib/python3.7/site-packages (from nemo_toolkit[all]) (1.0)\n",
            "Collecting onnx>=1.7.0\n",
            "  Using cached onnx-1.10.2-cp37-cp37m-manylinux_2_12_x86_64.manylinux2010_x86_64.whl (12.7 MB)\n",
            "Requirement already satisfied: python-dateutil in /home/user/conda/lib/python3.7/site-packages (from nemo_toolkit[all]) (2.8.2)\n",
            "Collecting ruamel.yaml\n",
            "  Using cached ruamel.yaml-0.17.17-py3-none-any.whl (109 kB)\n",
            "Requirement already satisfied: numba in /home/user/conda/lib/python3.7/site-packages (from nemo_toolkit[all]) (0.54.1)\n",
            "Requirement already satisfied: sentencepiece<1.0.0 in /home/user/conda/lib/python3.7/site-packages (from nemo_toolkit[all]) (0.1.96)\n",
            "Collecting parameterized\n",
            "  Using cached parameterized-0.8.1-py2.py3-none-any.whl (26 kB)\n",
            "Requirement already satisfied: matplotlib in /home/user/conda/lib/python3.7/site-packages (from nemo_toolkit[all]) (3.4.3)\n",
            "Requirement already satisfied: sox in /home/user/conda/lib/python3.7/site-packages (from nemo_toolkit[all]) (1.4.1)\n",
            "Collecting pesq\n",
            "  Using cached pesq-0.0.3-cp37-cp37m-linux_x86_64.whl\n",
            "Requirement already satisfied: pandas in /home/user/conda/lib/python3.7/site-packages (from nemo_toolkit[all]) (1.3.3)\n",
            "Collecting transformers>=4.0.1\n",
            "  Using cached transformers-4.12.5-py3-none-any.whl (3.1 MB)\n",
            "Collecting kaldi-io\n",
            "  Using cached kaldi_io-0.9.4-py3-none-any.whl (14 kB)\n",
            "Collecting black==19.10b0\n",
            "  Using cached black-19.10b0-py36-none-any.whl (97 kB)\n",
            "Collecting editdistance\n",
            "  Using cached editdistance-0.6.0-cp37-cp37m-manylinux2010_x86_64.whl (285 kB)\n",
            "Requirement already satisfied: ipywidgets in /home/user/conda/lib/python3.7/site-packages (from nemo_toolkit[all]) (7.6.5)\n",
            "Collecting pystoi\n",
            "  Using cached pystoi-0.3.3-py2.py3-none-any.whl\n",
            "Requirement already satisfied: scipy in /home/user/conda/lib/python3.7/site-packages (from nemo_toolkit[all]) (1.7.1)\n",
            "Collecting webdataset<=0.1.62,>=0.1.48\n",
            "  Using cached webdataset-0.1.62-py3-none-any.whl (32 kB)\n",
            "Requirement already satisfied: boto3 in /home/user/conda/lib/python3.7/site-packages (from nemo_toolkit[all]) (1.18.62)\n",
            "Collecting gdown\n",
            "  Using cached gdown-4.2.0-py3-none-any.whl\n",
            "Requirement already satisfied: pyyaml<6 in /home/user/conda/lib/python3.7/site-packages (from nemo_toolkit[all]) (5.4.1)\n",
            "Requirement already satisfied: pillow in /home/user/conda/lib/python3.7/site-packages (from nemo_toolkit[all]) (8.3.2)\n",
            "Requirement already satisfied: librosa in /home/user/conda/lib/python3.7/site-packages (from nemo_toolkit[all]) (0.8.1)\n",
            "Requirement already satisfied: inflect in /home/user/conda/lib/python3.7/site-packages (from nemo_toolkit[all]) (5.3.0)\n",
            "Requirement already satisfied: sacrebleu[ja] in /home/user/conda/lib/python3.7/site-packages (from nemo_toolkit[all]) (2.0.0)\n",
            "Requirement already satisfied: torchvision in /home/user/conda/lib/python3.7/site-packages (from nemo_toolkit[all]) (0.8.1+cu110)\n",
            "Collecting pytorch-lightning>=1.5.0\n",
            "  Using cached pytorch_lightning-1.5.3-py3-none-any.whl (523 kB)\n",
            "Collecting pangu\n",
            "  Using cached pangu-4.0.6.1-py3-none-any.whl (6.4 kB)\n",
            "Requirement already satisfied: nltk in /home/user/conda/lib/python3.7/site-packages (from nemo_toolkit[all]) (3.6.5)\n",
            "Requirement already satisfied: regex in /home/user/conda/lib/python3.7/site-packages (from nemo_toolkit[all]) (2021.10.8)\n",
            "Collecting wandb\n",
            "  Using cached wandb-0.12.7-py2.py3-none-any.whl (1.7 MB)\n",
            "Collecting omegaconf>=2.1.0\n",
            "  Using cached omegaconf-2.1.1-py3-none-any.whl (74 kB)\n",
            "Collecting pyannote.core\n",
            "  Using cached pyannote.core-4.3-py3-none-any.whl (59 kB)\n",
            "Collecting pyannote.metrics\n",
            "  Using cached pyannote.metrics-3.1-py3-none-any.whl (49 kB)\n",
            "Collecting g2p-en\n",
            "  Using cached g2p_en-2.1.0-py3-none-any.whl (3.1 MB)\n",
            "Collecting youtokentome>=1.0.5\n",
            "  Using cached youtokentome-1.0.6-cp37-cp37m-manylinux2010_x86_64.whl (1.7 MB)\n",
            "Collecting attrdict\n",
            "  Using cached attrdict-2.0.1-py2.py3-none-any.whl (9.9 kB)\n",
            "Collecting fasttext\n",
            "  Using cached fasttext-0.9.2-cp37-cp37m-linux_x86_64.whl\n",
            "Collecting opencc\n",
            "  Using cached OpenCC-1.1.3-cp37-cp37m-manylinux1_x86_64.whl (766 kB)\n",
            "Collecting torchmetrics>=0.4.1rc0\n",
            "  Using cached torchmetrics-0.6.0-py3-none-any.whl (329 kB)\n",
            "Collecting pydub\n",
            "  Using cached pydub-0.25.1-py2.py3-none-any.whl (32 kB)\n",
            "Collecting wordninja==2.0.0\n",
            "  Using cached wordninja-2.0.0-py3-none-any.whl\n",
            "Collecting sphinxcontrib-bibtex\n",
            "  Using cached sphinxcontrib_bibtex-2.4.1-py3-none-any.whl (38 kB)\n",
            "Collecting kaldi-python-io\n",
            "  Using cached kaldi_python_io-1.2.2-py3-none-any.whl\n",
            "Requirement already satisfied: h5py in /home/user/conda/lib/python3.7/site-packages (from nemo_toolkit[all]) (2.10.0)\n",
            "Requirement already satisfied: packaging in /home/user/conda/lib/python3.7/site-packages (from nemo_toolkit[all]) (21.0)\n",
            "Collecting pytest\n",
            "  Using cached pytest-6.2.5-py3-none-any.whl (280 kB)\n",
            "Collecting isort[requirements]<5\n",
            "  Using cached isort-4.3.21-py2.py3-none-any.whl (42 kB)\n",
            "Collecting braceexpand\n",
            "  Using cached braceexpand-0.1.7-py2.py3-none-any.whl (5.9 kB)\n",
            "Collecting marshmallow\n",
            "  Using cached marshmallow-3.14.1-py3-none-any.whl (47 kB)\n",
            "Collecting pytest-runner\n",
            "  Using cached pytest_runner-5.3.1-py3-none-any.whl (7.1 kB)\n",
            "Collecting pypinyin\n",
            "  Using cached pypinyin-0.44.0-py2.py3-none-any.whl (1.3 MB)\n",
            "Collecting kaldiio\n",
            "  Using cached kaldiio-2.17.2-py3-none-any.whl\n",
            "Collecting rapidfuzz\n",
            "  Using cached rapidfuzz-1.8.3-cp37-cp37m-manylinux_2_12_x86_64.manylinux2010_x86_64.whl (854 kB)\n",
            "Collecting sphinx\n",
            "  Using cached Sphinx-4.3.1-py3-none-any.whl (3.1 MB)\n",
            "Collecting jieba\n",
            "  Using cached jieba-0.42.1-py3-none-any.whl\n",
            "Collecting hydra-core>=1.1.0\n",
            "  Using cached hydra_core-1.1.1-py3-none-any.whl (145 kB)\n",
            "Collecting torch-stft\n",
            "  Using cached torch_stft-0.1.4-py3-none-any.whl (6.2 kB)\n",
            "Requirement already satisfied: soundfile in /home/user/conda/lib/python3.7/site-packages (from nemo_toolkit[all]) (0.10.3.post1)\n",
            "Collecting sacremoses>=0.0.43\n",
            "  Using cached sacremoses-0.0.46-py3-none-any.whl (895 kB)\n",
            "Collecting pathspec<1,>=0.6\n",
            "  Using cached pathspec-0.9.0-py2.py3-none-any.whl (31 kB)\n",
            "Collecting typed-ast>=1.4.0\n",
            "  Using cached typed_ast-1.5.0-cp37-cp37m-manylinux_2_5_x86_64.manylinux1_x86_64.manylinux_2_12_x86_64.manylinux2010_x86_64.whl (843 kB)\n",
            "Requirement already satisfied: attrs>=18.1.0 in /home/user/conda/lib/python3.7/site-packages (from black==19.10b0->nemo_toolkit[all]) (21.2.0)\n",
            "Collecting toml>=0.9.4\n",
            "  Using cached toml-0.10.2-py2.py3-none-any.whl (16 kB)\n",
            "Requirement already satisfied: appdirs in /home/user/conda/lib/python3.7/site-packages (from black==19.10b0->nemo_toolkit[all]) (1.4.4)\n",
            "Requirement already satisfied: click>=6.5 in /home/user/conda/lib/python3.7/site-packages (from black==19.10b0->nemo_toolkit[all]) (8.0.3)\n",
            "Collecting importlib-resources\n",
            "  Using cached importlib_resources-5.4.0-py3-none-any.whl (28 kB)\n",
            "Collecting antlr4-python3-runtime==4.8\n",
            "  Using cached antlr4_python3_runtime-4.8-py3-none-any.whl\n",
            "Collecting pipreqs\n",
            "  Using cached pipreqs-0.4.11-py2.py3-none-any.whl (32 kB)\n",
            "Collecting pip-api\n",
            "  Using cached pip_api-0.0.23-py3-none-any.whl (107 kB)\n",
            "Requirement already satisfied: pyparsing>=2.2.1 in /home/user/conda/lib/python3.7/site-packages (from matplotlib->nemo_toolkit[all]) (2.4.7)\n",
            "Requirement already satisfied: kiwisolver>=1.0.1 in /home/user/conda/lib/python3.7/site-packages (from matplotlib->nemo_toolkit[all]) (1.3.2)\n",
            "Requirement already satisfied: cycler>=0.10 in /home/user/conda/lib/python3.7/site-packages (from matplotlib->nemo_toolkit[all]) (0.10.0)\n",
            "Requirement already satisfied: joblib in /home/user/conda/lib/python3.7/site-packages (from nltk->nemo_toolkit[all]) (1.1.0)\n",
            "Requirement already satisfied: typing-extensions>=3.6.2.1 in /home/user/conda/lib/python3.7/site-packages (from onnx>=1.7.0->nemo_toolkit[all]) (3.10.0.2)\n",
            "Requirement already satisfied: six in /home/user/conda/lib/python3.7/site-packages (from onnx>=1.7.0->nemo_toolkit[all]) (1.15.0)\n",
            "Requirement already satisfied: protobuf in /home/user/conda/lib/python3.7/site-packages (from onnx>=1.7.0->nemo_toolkit[all]) (3.18.1)\n",
            "Requirement already satisfied: future>=0.17.1 in /home/user/conda/lib/python3.7/site-packages (from pytorch-lightning>=1.5.0->nemo_toolkit[all]) (0.18.2)\n",
            "Collecting pyDeprecate==0.3.1\n",
            "  Using cached pyDeprecate-0.3.1-py3-none-any.whl (10 kB)\n",
            "Requirement already satisfied: tensorboard>=2.2.0 in /home/user/conda/lib/python3.7/site-packages (from pytorch-lightning>=1.5.0->nemo_toolkit[all]) (2.2.1)\n",
            "Requirement already satisfied: fsspec[http]!=2021.06.0,>=2021.05.0 in /home/user/conda/lib/python3.7/site-packages (from pytorch-lightning>=1.5.0->nemo_toolkit[all]) (2021.10.0)\n",
            "Requirement already satisfied: dataclasses in /home/user/conda/lib/python3.7/site-packages (from torch->nemo_toolkit[all]) (0.6)\n",
            "Requirement already satisfied: filelock in /home/user/conda/lib/python3.7/site-packages (from transformers>=4.0.1->nemo_toolkit[all]) (3.3.0)\n",
            "Collecting tokenizers<0.11,>=0.10.1\n",
            "  Using cached tokenizers-0.10.3-cp37-cp37m-manylinux_2_5_x86_64.manylinux1_x86_64.manylinux_2_12_x86_64.manylinux2010_x86_64.whl (3.3 MB)\n",
            "Requirement already satisfied: importlib-metadata in /home/user/conda/lib/python3.7/site-packages (from transformers>=4.0.1->nemo_toolkit[all]) (4.8.1)\n",
            "Requirement already satisfied: requests in /home/user/conda/lib/python3.7/site-packages (from transformers>=4.0.1->nemo_toolkit[all]) (2.26.0)\n",
            "Collecting huggingface-hub<1.0,>=0.1.0\n",
            "  Using cached huggingface_hub-0.1.2-py3-none-any.whl (59 kB)\n",
            "Requirement already satisfied: botocore<1.22.0,>=1.21.62 in /home/user/conda/lib/python3.7/site-packages (from boto3->nemo_toolkit[all]) (1.21.62)\n",
            "Requirement already satisfied: jmespath<1.0.0,>=0.7.1 in /home/user/conda/lib/python3.7/site-packages (from boto3->nemo_toolkit[all]) (0.10.0)\n",
            "Requirement already satisfied: s3transfer<0.6.0,>=0.5.0 in /home/user/conda/lib/python3.7/site-packages (from boto3->nemo_toolkit[all]) (0.5.0)\n",
            "Collecting pybind11>=2.2\n",
            "  Using cached pybind11-2.8.1-py2.py3-none-any.whl (208 kB)\n",
            "Requirement already satisfied: setuptools>=0.7.0 in /home/user/conda/lib/python3.7/site-packages (from fasttext->nemo_toolkit[all]) (58.2.0)\n",
            "Collecting distance>=0.1.3\n",
            "  Using cached Distance-0.1.3-py3-none-any.whl\n",
            "Collecting beautifulsoup4\n",
            "  Using cached beautifulsoup4-4.10.0-py3-none-any.whl (97 kB)\n",
            "Requirement already satisfied: jupyterlab-widgets>=1.0.0 in /home/user/conda/lib/python3.7/site-packages (from ipywidgets->nemo_toolkit[all]) (1.0.2)\n",
            "Requirement already satisfied: traitlets>=4.3.1 in /home/user/conda/lib/python3.7/site-packages (from ipywidgets->nemo_toolkit[all]) (5.1.1)\n",
            "Requirement already satisfied: nbformat>=4.2.0 in /home/user/conda/lib/python3.7/site-packages (from ipywidgets->nemo_toolkit[all]) (5.1.3)\n",
            "Requirement already satisfied: ipykernel>=4.5.1 in /home/user/conda/lib/python3.7/site-packages (from ipywidgets->nemo_toolkit[all]) (6.5.0)\n",
            "Requirement already satisfied: ipython>=4.0.0 in /home/user/conda/lib/python3.7/site-packages (from ipywidgets->nemo_toolkit[all]) (7.29.0)\n",
            "Requirement already satisfied: ipython-genutils~=0.2.0 in /home/user/conda/lib/python3.7/site-packages (from ipywidgets->nemo_toolkit[all]) (0.2.0)\n",
            "Requirement already satisfied: widgetsnbextension~=3.5.0 in /home/user/conda/lib/python3.7/site-packages (from ipywidgets->nemo_toolkit[all]) (3.5.2)\n",
            "Requirement already satisfied: audioread>=2.0.0 in /home/user/conda/lib/python3.7/site-packages (from librosa->nemo_toolkit[all]) (2.1.9)\n",
            "Requirement already satisfied: decorator>=3.0.0 in /home/user/conda/lib/python3.7/site-packages (from librosa->nemo_toolkit[all]) (5.1.0)\n",
            "Requirement already satisfied: resampy>=0.2.2 in /home/user/conda/lib/python3.7/site-packages (from librosa->nemo_toolkit[all]) (0.2.2)\n",
            "Requirement already satisfied: pooch>=1.0 in /home/user/conda/lib/python3.7/site-packages (from librosa->nemo_toolkit[all]) (1.5.2)\n",
            "Requirement already satisfied: llvmlite<0.38,>=0.37.0rc1 in /home/user/conda/lib/python3.7/site-packages (from numba->nemo_toolkit[all]) (0.37.0)\n",
            "Requirement already satisfied: threadpoolctl>=2.0.0 in /home/user/conda/lib/python3.7/site-packages (from scikit-learn->nemo_toolkit[all]) (3.0.0)\n",
            "Requirement already satisfied: cffi>=1.0 in /home/user/conda/lib/python3.7/site-packages (from soundfile->nemo_toolkit[all]) (1.14.6)\n",
            "Requirement already satisfied: pytz>=2017.3 in /home/user/conda/lib/python3.7/site-packages (from pandas->nemo_toolkit[all]) (2021.3)\n",
            "Requirement already satisfied: sortedcontainers>=2.0.4 in /home/user/conda/lib/python3.7/site-packages (from pyannote.core->nemo_toolkit[all]) (2.4.0)\n",
            "Requirement already satisfied: simplejson>=3.8.1 in /home/user/conda/lib/python3.7/site-packages (from pyannote.core->nemo_toolkit[all]) (3.17.5)\n",
            "Collecting docopt>=0.6.2\n",
            "  Using cached docopt-0.6.2-py2.py3-none-any.whl\n",
            "Requirement already satisfied: tabulate>=0.7.7 in /home/user/conda/lib/python3.7/site-packages (from pyannote.metrics->nemo_toolkit[all]) (0.8.9)\n",
            "Collecting sympy>=1.1\n",
            "  Using cached sympy-1.9-py3-none-any.whl (6.2 MB)\n",
            "Collecting pyannote.database>=4.0.1\n",
            "  Using cached pyannote.database-4.1.1-py3-none-any.whl (41 kB)\n",
            "Collecting pluggy<2.0,>=0.12\n",
            "  Using cached pluggy-1.0.0-py2.py3-none-any.whl (13 kB)\n",
            "Collecting py>=1.8.2\n",
            "  Using cached py-1.11.0-py2.py3-none-any.whl (98 kB)\n",
            "Collecting iniconfig\n",
            "  Using cached iniconfig-1.1.1-py2.py3-none-any.whl (5.0 kB)\n",
            "Collecting ruamel.yaml.clib>=0.1.2\n",
            "  Using cached ruamel.yaml.clib-0.2.6-cp37-cp37m-manylinux1_x86_64.whl (546 kB)\n",
            "Requirement already satisfied: colorama in /home/user/conda/lib/python3.7/site-packages (from sacrebleu[ja]->nemo_toolkit[all]) (0.4.3)\n",
            "Requirement already satisfied: portalocker in /home/user/conda/lib/python3.7/site-packages (from sacrebleu[ja]->nemo_toolkit[all]) (2.3.2)\n",
            "Collecting mecab-python3==1.0.3\n",
            "  Using cached mecab_python3-1.0.3-cp37-cp37m-manylinux1_x86_64.whl (487 kB)\n",
            "Collecting ipadic<2.0,>=1.0\n",
            "  Using cached ipadic-1.0.0-py3-none-any.whl\n",
            "Collecting imagesize\n",
            "  Using cached imagesize-1.3.0-py2.py3-none-any.whl (5.2 kB)\n",
            "Requirement already satisfied: docutils<0.18,>=0.14 in /home/user/conda/lib/python3.7/site-packages (from sphinx->nemo_toolkit[all]) (0.15.2)\n",
            "Collecting snowballstemmer>=1.1\n",
            "  Using cached snowballstemmer-2.2.0-py2.py3-none-any.whl (93 kB)\n",
            "Requirement already satisfied: Pygments>=2.0 in /home/user/conda/lib/python3.7/site-packages (from sphinx->nemo_toolkit[all]) (2.10.0)\n",
            "Collecting sphinxcontrib-jsmath\n",
            "  Using cached sphinxcontrib_jsmath-1.0.1-py2.py3-none-any.whl (5.1 kB)\n",
            "Collecting sphinxcontrib-htmlhelp>=2.0.0\n",
            "  Using cached sphinxcontrib_htmlhelp-2.0.0-py2.py3-none-any.whl (100 kB)\n",
            "Requirement already satisfied: Jinja2>=2.3 in /home/user/conda/lib/python3.7/site-packages (from sphinx->nemo_toolkit[all]) (3.0.2)\n",
            "Collecting sphinxcontrib-serializinghtml>=1.1.5\n",
            "  Using cached sphinxcontrib_serializinghtml-1.1.5-py2.py3-none-any.whl (94 kB)\n",
            "Collecting alabaster<0.8,>=0.7\n",
            "  Using cached alabaster-0.7.12-py2.py3-none-any.whl (14 kB)\n",
            "Collecting sphinxcontrib-qthelp\n",
            "  Using cached sphinxcontrib_qthelp-1.0.3-py2.py3-none-any.whl (90 kB)\n",
            "Requirement already satisfied: babel>=1.3 in /home/user/conda/lib/python3.7/site-packages (from sphinx->nemo_toolkit[all]) (2.9.1)\n",
            "Collecting sphinxcontrib-devhelp\n",
            "  Using cached sphinxcontrib_devhelp-1.0.2-py2.py3-none-any.whl (84 kB)\n",
            "Collecting sphinxcontrib-applehelp\n",
            "  Using cached sphinxcontrib_applehelp-1.0.2-py2.py3-none-any.whl (121 kB)\n",
            "Collecting pybtex-docutils>=1.0.0\n",
            "  Using cached pybtex_docutils-1.0.1-py3-none-any.whl (4.8 kB)\n",
            "Collecting pybtex>=0.20\n",
            "  Using cached pybtex-0.24.0-py2.py3-none-any.whl (561 kB)\n",
            "Requirement already satisfied: configparser>=3.8.1 in /home/user/conda/lib/python3.7/site-packages (from wandb->nemo_toolkit[all]) (5.0.2)\n",
            "Collecting promise<3,>=2.0\n",
            "  Using cached promise-2.3-py3-none-any.whl\n",
            "Collecting shortuuid>=0.5.0\n",
            "  Using cached shortuuid-1.0.8-py3-none-any.whl (9.5 kB)\n",
            "Collecting subprocess32>=3.5.3\n",
            "  Using cached subprocess32-3.5.4-py3-none-any.whl\n",
            "Collecting yaspin>=1.0.0\n",
            "  Using cached yaspin-2.1.0-py3-none-any.whl (18 kB)\n",
            "Collecting docker-pycreds>=0.4.0\n",
            "  Using cached docker_pycreds-0.4.0-py2.py3-none-any.whl (9.0 kB)\n",
            "Requirement already satisfied: GitPython>=1.0.0 in /home/user/conda/lib/python3.7/site-packages (from wandb->nemo_toolkit[all]) (3.1.24)\n",
            "Collecting sentry-sdk>=1.0.0\n",
            "  Using cached sentry_sdk-1.5.0-py2.py3-none-any.whl (140 kB)\n",
            "Collecting pathtools\n",
            "  Using cached pathtools-0.1.2-py3-none-any.whl\n",
            "Requirement already satisfied: psutil>=5.0.0 in /home/user/conda/lib/python3.7/site-packages (from wandb->nemo_toolkit[all]) (5.8.0)\n",
            "Requirement already satisfied: urllib3<1.27,>=1.25.4 in /home/user/conda/lib/python3.7/site-packages (from botocore<1.22.0,>=1.21.62->boto3->nemo_toolkit[all]) (1.26.7)\n",
            "Requirement already satisfied: pycparser in /home/user/conda/lib/python3.7/site-packages (from cffi>=1.0->soundfile->nemo_toolkit[all]) (2.20)\n",
            "Requirement already satisfied: aiohttp in /home/user/conda/lib/python3.7/site-packages (from fsspec[http]!=2021.06.0,>=2021.05.0->pytorch-lightning>=1.5.0->nemo_toolkit[all]) (3.7.4.post0)\n",
            "Requirement already satisfied: gitdb<5,>=4.0.1 in /home/user/conda/lib/python3.7/site-packages (from GitPython>=1.0.0->wandb->nemo_toolkit[all]) (4.0.7)\n",
            "Requirement already satisfied: zipp>=0.5 in /home/user/conda/lib/python3.7/site-packages (from importlib-metadata->transformers>=4.0.1->nemo_toolkit[all]) (3.6.0)\n",
            "Requirement already satisfied: matplotlib-inline<0.2.0,>=0.1.0 in /home/user/conda/lib/python3.7/site-packages (from ipykernel>=4.5.1->ipywidgets->nemo_toolkit[all]) (0.1.3)\n",
            "Requirement already satisfied: debugpy<2.0,>=1.0.0 in /home/user/conda/lib/python3.7/site-packages (from ipykernel>=4.5.1->ipywidgets->nemo_toolkit[all]) (1.5.1)\n",
            "Requirement already satisfied: argcomplete>=1.12.3 in /home/user/conda/lib/python3.7/site-packages (from ipykernel>=4.5.1->ipywidgets->nemo_toolkit[all]) (1.12.3)\n",
            "Requirement already satisfied: tornado<7.0,>=4.2 in /home/user/conda/lib/python3.7/site-packages (from ipykernel>=4.5.1->ipywidgets->nemo_toolkit[all]) (6.1)\n",
            "Requirement already satisfied: jupyter-client<8.0 in /home/user/conda/lib/python3.7/site-packages (from ipykernel>=4.5.1->ipywidgets->nemo_toolkit[all]) (7.0.6)\n",
            "Requirement already satisfied: pickleshare in /home/user/conda/lib/python3.7/site-packages (from ipython>=4.0.0->ipywidgets->nemo_toolkit[all]) (0.7.5)\n",
            "Requirement already satisfied: backcall in /home/user/conda/lib/python3.7/site-packages (from ipython>=4.0.0->ipywidgets->nemo_toolkit[all]) (0.2.0)\n",
            "Requirement already satisfied: prompt-toolkit!=3.0.0,!=3.0.1,<3.1.0,>=2.0.0 in /home/user/conda/lib/python3.7/site-packages (from ipython>=4.0.0->ipywidgets->nemo_toolkit[all]) (3.0.21)\n",
            "Requirement already satisfied: jedi>=0.16 in /home/user/conda/lib/python3.7/site-packages (from ipython>=4.0.0->ipywidgets->nemo_toolkit[all]) (0.18.0)\n",
            "Requirement already satisfied: pexpect>4.3 in /home/user/conda/lib/python3.7/site-packages (from ipython>=4.0.0->ipywidgets->nemo_toolkit[all]) (4.8.0)\n",
            "Requirement already satisfied: MarkupSafe>=2.0 in /home/user/conda/lib/python3.7/site-packages (from Jinja2>=2.3->sphinx->nemo_toolkit[all]) (2.0.1)\n",
            "Requirement already satisfied: jsonschema!=2.5.0,>=2.4 in /home/user/conda/lib/python3.7/site-packages (from nbformat>=4.2.0->ipywidgets->nemo_toolkit[all]) (4.1.0)\n",
            "Requirement already satisfied: jupyter-core in /home/user/conda/lib/python3.7/site-packages (from nbformat>=4.2.0->ipywidgets->nemo_toolkit[all]) (4.9.1)\n",
            "Requirement already satisfied: typer[all]>=0.2.1 in /home/user/conda/lib/python3.7/site-packages (from pyannote.database>=4.0.1->pyannote.metrics->nemo_toolkit[all]) (0.4.0)\n",
            "Collecting latexcodec>=1.0.4\n",
            "  Using cached latexcodec-2.0.1-py2.py3-none-any.whl (18 kB)\n",
            "Requirement already satisfied: idna<4,>=2.5 in /home/user/conda/lib/python3.7/site-packages (from requests->transformers>=4.0.1->nemo_toolkit[all]) (3.1)\n",
            "Requirement already satisfied: certifi>=2017.4.17 in /home/user/conda/lib/python3.7/site-packages (from requests->transformers>=4.0.1->nemo_toolkit[all]) (2021.10.8)\n",
            "Requirement already satisfied: charset-normalizer~=2.0.0 in /home/user/conda/lib/python3.7/site-packages (from requests->transformers>=4.0.1->nemo_toolkit[all]) (2.0.0)\n",
            "Collecting mpmath>=0.19\n",
            "  Using cached mpmath-1.2.1-py3-none-any.whl (532 kB)\n",
            "Requirement already satisfied: google-auth<2,>=1.6.3 in /home/user/conda/lib/python3.7/site-packages (from tensorboard>=2.2.0->pytorch-lightning>=1.5.0->nemo_toolkit[all]) (1.35.0)\n",
            "Requirement already satisfied: tensorboard-plugin-wit>=1.6.0 in /home/user/conda/lib/python3.7/site-packages (from tensorboard>=2.2.0->pytorch-lightning>=1.5.0->nemo_toolkit[all]) (1.8.0)\n",
            "Requirement already satisfied: markdown>=2.6.8 in /home/user/conda/lib/python3.7/site-packages (from tensorboard>=2.2.0->pytorch-lightning>=1.5.0->nemo_toolkit[all]) (3.3.4)\n",
            "Requirement already satisfied: google-auth-oauthlib<0.5,>=0.4.1 in /home/user/conda/lib/python3.7/site-packages (from tensorboard>=2.2.0->pytorch-lightning>=1.5.0->nemo_toolkit[all]) (0.4.6)\n",
            "Requirement already satisfied: absl-py>=0.4 in /home/user/conda/lib/python3.7/site-packages (from tensorboard>=2.2.0->pytorch-lightning>=1.5.0->nemo_toolkit[all]) (0.14.1)\n",
            "Requirement already satisfied: werkzeug>=0.11.15 in /home/user/conda/lib/python3.7/site-packages (from tensorboard>=2.2.0->pytorch-lightning>=1.5.0->nemo_toolkit[all]) (2.0.2)\n",
            "Requirement already satisfied: wheel>=0.26 in /home/user/conda/lib/python3.7/site-packages (from tensorboard>=2.2.0->pytorch-lightning>=1.5.0->nemo_toolkit[all]) (0.37.0)\n",
            "Requirement already satisfied: grpcio>=1.24.3 in /home/user/conda/lib/python3.7/site-packages (from tensorboard>=2.2.0->pytorch-lightning>=1.5.0->nemo_toolkit[all]) (1.41.0)\n",
            "Requirement already satisfied: notebook>=4.4.1 in /home/user/conda/lib/python3.7/site-packages (from widgetsnbextension~=3.5.0->ipywidgets->nemo_toolkit[all]) (6.1.4)\n",
            "Requirement already satisfied: termcolor<2.0.0,>=1.1.0 in /home/user/conda/lib/python3.7/site-packages (from yaspin>=1.0.0->wandb->nemo_toolkit[all]) (1.1.0)\n",
            "Collecting soupsieve>1.2\n",
            "  Using cached soupsieve-2.3.1-py3-none-any.whl (37 kB)\n",
            "Requirement already satisfied: pip in /home/user/conda/lib/python3.7/site-packages (from pip-api->isort[requirements]<5->nemo_toolkit[all]) (21.3)\n",
            "Collecting yarg\n",
            "  Using cached yarg-0.1.9-py2.py3-none-any.whl (19 kB)\n",
            "Requirement already satisfied: PySocks!=1.5.7,>=1.5.6 in /home/user/conda/lib/python3.7/site-packages (from requests->transformers>=4.0.1->nemo_toolkit[all]) (1.7.1)\n",
            "Requirement already satisfied: smmap<5,>=3.0.1 in /home/user/conda/lib/python3.7/site-packages (from gitdb<5,>=4.0.1->GitPython>=1.0.0->wandb->nemo_toolkit[all]) (4.0.0)\n",
            "Requirement already satisfied: cachetools<5.0,>=2.0.0 in /home/user/conda/lib/python3.7/site-packages (from google-auth<2,>=1.6.3->tensorboard>=2.2.0->pytorch-lightning>=1.5.0->nemo_toolkit[all]) (4.2.4)\n",
            "Requirement already satisfied: rsa<5,>=3.1.4 in /home/user/conda/lib/python3.7/site-packages (from google-auth<2,>=1.6.3->tensorboard>=2.2.0->pytorch-lightning>=1.5.0->nemo_toolkit[all]) (4.7.2)\n",
            "Requirement already satisfied: pyasn1-modules>=0.2.1 in /home/user/conda/lib/python3.7/site-packages (from google-auth<2,>=1.6.3->tensorboard>=2.2.0->pytorch-lightning>=1.5.0->nemo_toolkit[all]) (0.2.8)\n",
            "Requirement already satisfied: requests-oauthlib>=0.7.0 in /home/user/conda/lib/python3.7/site-packages (from google-auth-oauthlib<0.5,>=0.4.1->tensorboard>=2.2.0->pytorch-lightning>=1.5.0->nemo_toolkit[all]) (1.3.0)\n",
            "Requirement already satisfied: parso<0.9.0,>=0.8.0 in /home/user/conda/lib/python3.7/site-packages (from jedi>=0.16->ipython>=4.0.0->ipywidgets->nemo_toolkit[all]) (0.8.2)\n",
            "Requirement already satisfied: pyrsistent!=0.17.0,!=0.17.1,!=0.17.2,>=0.14.0 in /home/user/conda/lib/python3.7/site-packages (from jsonschema!=2.5.0,>=2.4->nbformat>=4.2.0->ipywidgets->nemo_toolkit[all]) (0.18.0)\n",
            "Requirement already satisfied: pyzmq>=13 in /home/user/conda/lib/python3.7/site-packages (from jupyter-client<8.0->ipykernel>=4.5.1->ipywidgets->nemo_toolkit[all]) (22.3.0)\n",
            "Requirement already satisfied: entrypoints in /home/user/conda/lib/python3.7/site-packages (from jupyter-client<8.0->ipykernel>=4.5.1->ipywidgets->nemo_toolkit[all]) (0.3)\n",
            "Requirement already satisfied: nest-asyncio>=1.5 in /home/user/conda/lib/python3.7/site-packages (from jupyter-client<8.0->ipykernel>=4.5.1->ipywidgets->nemo_toolkit[all]) (1.5.1)\n",
            "Requirement already satisfied: prometheus-client in /home/user/conda/lib/python3.7/site-packages (from notebook>=4.4.1->widgetsnbextension~=3.5.0->ipywidgets->nemo_toolkit[all]) (0.11.0)\n",
            "Requirement already satisfied: terminado>=0.8.3 in /home/user/conda/lib/python3.7/site-packages (from notebook>=4.4.1->widgetsnbextension~=3.5.0->ipywidgets->nemo_toolkit[all]) (0.12.1)\n",
            "Requirement already satisfied: nbconvert in /home/user/conda/lib/python3.7/site-packages (from notebook>=4.4.1->widgetsnbextension~=3.5.0->ipywidgets->nemo_toolkit[all]) (6.2.0)\n",
            "Requirement already satisfied: argon2-cffi in /home/user/conda/lib/python3.7/site-packages (from notebook>=4.4.1->widgetsnbextension~=3.5.0->ipywidgets->nemo_toolkit[all]) (21.1.0)\n",
            "Requirement already satisfied: Send2Trash in /home/user/conda/lib/python3.7/site-packages (from notebook>=4.4.1->widgetsnbextension~=3.5.0->ipywidgets->nemo_toolkit[all]) (1.8.0)\n",
            "Requirement already satisfied: ptyprocess>=0.5 in /home/user/conda/lib/python3.7/site-packages (from pexpect>4.3->ipython>=4.0.0->ipywidgets->nemo_toolkit[all]) (0.7.0)\n",
            "Requirement already satisfied: wcwidth in /home/user/conda/lib/python3.7/site-packages (from prompt-toolkit!=3.0.0,!=3.0.1,<3.1.0,>=2.0.0->ipython>=4.0.0->ipywidgets->nemo_toolkit[all]) (0.2.5)\n",
            "Collecting shellingham<2.0.0,>=1.3.0\n",
            "  Using cached shellingham-1.4.0-py2.py3-none-any.whl (9.4 kB)\n",
            "Requirement already satisfied: multidict<7.0,>=4.5 in /home/user/conda/lib/python3.7/site-packages (from aiohttp->fsspec[http]!=2021.06.0,>=2021.05.0->pytorch-lightning>=1.5.0->nemo_toolkit[all]) (5.2.0)\n",
            "Requirement already satisfied: yarl<2.0,>=1.0 in /home/user/conda/lib/python3.7/site-packages (from aiohttp->fsspec[http]!=2021.06.0,>=2021.05.0->pytorch-lightning>=1.5.0->nemo_toolkit[all]) (1.7.0)\n",
            "Requirement already satisfied: async-timeout<4.0,>=3.0 in /home/user/conda/lib/python3.7/site-packages (from aiohttp->fsspec[http]!=2021.06.0,>=2021.05.0->pytorch-lightning>=1.5.0->nemo_toolkit[all]) (3.0.1)\n",
            "Requirement already satisfied: chardet<5.0,>=2.0 in /home/user/conda/lib/python3.7/site-packages (from aiohttp->fsspec[http]!=2021.06.0,>=2021.05.0->pytorch-lightning>=1.5.0->nemo_toolkit[all]) (4.0.0)\n",
            "Requirement already satisfied: pyasn1<0.5.0,>=0.4.6 in /home/user/conda/lib/python3.7/site-packages (from pyasn1-modules>=0.2.1->google-auth<2,>=1.6.3->tensorboard>=2.2.0->pytorch-lightning>=1.5.0->nemo_toolkit[all]) (0.4.8)\n",
            "Requirement already satisfied: oauthlib>=3.0.0 in /home/user/conda/lib/python3.7/site-packages (from requests-oauthlib>=0.7.0->google-auth-oauthlib<0.5,>=0.4.1->tensorboard>=2.2.0->pytorch-lightning>=1.5.0->nemo_toolkit[all]) (3.1.1)\n",
            "Requirement already satisfied: jupyterlab-pygments in /home/user/conda/lib/python3.7/site-packages (from nbconvert->notebook>=4.4.1->widgetsnbextension~=3.5.0->ipywidgets->nemo_toolkit[all]) (0.1.2)\n",
            "Requirement already satisfied: mistune<2,>=0.8.1 in /home/user/conda/lib/python3.7/site-packages (from nbconvert->notebook>=4.4.1->widgetsnbextension~=3.5.0->ipywidgets->nemo_toolkit[all]) (0.8.4)\n",
            "Requirement already satisfied: pandocfilters>=1.4.1 in /home/user/conda/lib/python3.7/site-packages (from nbconvert->notebook>=4.4.1->widgetsnbextension~=3.5.0->ipywidgets->nemo_toolkit[all]) (1.5.0)\n",
            "Requirement already satisfied: testpath in /home/user/conda/lib/python3.7/site-packages (from nbconvert->notebook>=4.4.1->widgetsnbextension~=3.5.0->ipywidgets->nemo_toolkit[all]) (0.5.0)\n",
            "Requirement already satisfied: defusedxml in /home/user/conda/lib/python3.7/site-packages (from nbconvert->notebook>=4.4.1->widgetsnbextension~=3.5.0->ipywidgets->nemo_toolkit[all]) (0.7.1)\n",
            "Requirement already satisfied: nbclient<0.6.0,>=0.5.0 in /home/user/conda/lib/python3.7/site-packages (from nbconvert->notebook>=4.4.1->widgetsnbextension~=3.5.0->ipywidgets->nemo_toolkit[all]) (0.5.4)\n",
            "Requirement already satisfied: bleach in /home/user/conda/lib/python3.7/site-packages (from nbconvert->notebook>=4.4.1->widgetsnbextension~=3.5.0->ipywidgets->nemo_toolkit[all]) (4.1.0)\n",
            "Requirement already satisfied: webencodings in /home/user/conda/lib/python3.7/site-packages (from bleach->nbconvert->notebook>=4.4.1->widgetsnbextension~=3.5.0->ipywidgets->nemo_toolkit[all]) (0.5.1)\n",
            "Installing collected packages: shellingham, latexcodec, yarg, sphinxcontrib-serializinghtml, sphinxcontrib-qthelp, sphinxcontrib-jsmath, sphinxcontrib-htmlhelp, sphinxcontrib-devhelp, sphinxcontrib-applehelp, soupsieve, snowballstemmer, ruamel.yaml.clib, pybtex, pyannote.core, mpmath, imagesize, docopt, antlr4-python3-runtime, alabaster, yaspin, wget, typed-ast, torchmetrics, toml, tokenizers, sympy, subprocess32, sphinx, shortuuid, sentry-sdk, sacremoses, ruamel.yaml, pyDeprecate, pybtex-docutils, pybind11, pyannote.database, py, promise, pluggy, pipreqs, pip-api, pathtools, pathspec, onnx, omegaconf, mecab-python3, isort, ipadic, iniconfig, importlib-resources, huggingface-hub, frozendict, docker-pycreds, distance, braceexpand, beautifulsoup4, youtokentome, wordninja, webdataset, wandb, transformers, torch-stft, sphinxcontrib-bibtex, rapidfuzz, pytorch-lightning, pytest-runner, pytest, pystoi, pypinyin, pydub, pyannote.metrics, pesq, parameterized, pangu, opencc, nemo-toolkit, marshmallow, kaldiio, kaldi-python-io, kaldi-io, jieba, hydra-core, gdown, g2p-en, fasttext, editdistance, black, attrdict\n",
            "Successfully installed alabaster-0.7.12 antlr4-python3-runtime-4.8 attrdict-2.0.1 beautifulsoup4-4.10.0 black-19.10b0 braceexpand-0.1.7 distance-0.1.3 docker-pycreds-0.4.0 docopt-0.6.2 editdistance-0.6.0 fasttext-0.9.2 frozendict-2.1.1 g2p-en-2.1.0 gdown-4.2.0 huggingface-hub-0.1.2 hydra-core-1.1.1 imagesize-1.3.0 importlib-resources-5.4.0 iniconfig-1.1.1 ipadic-1.0.0 isort-4.3.21 jieba-0.42.1 kaldi-io-0.9.4 kaldi-python-io-1.2.2 kaldiio-2.17.2 latexcodec-2.0.1 marshmallow-3.14.1 mecab-python3-1.0.3 mpmath-1.2.1 nemo-toolkit-1.5.0 omegaconf-2.1.1 onnx-1.10.2 opencc-1.1.3 pangu-4.0.6.1 parameterized-0.8.1 pathspec-0.9.0 pathtools-0.1.2 pesq-0.0.3 pip-api-0.0.23 pipreqs-0.4.11 pluggy-1.0.0 promise-2.3 py-1.11.0 pyDeprecate-0.3.1 pyannote.core-4.3 pyannote.database-4.1.1 pyannote.metrics-3.1 pybind11-2.8.1 pybtex-0.24.0 pybtex-docutils-1.0.1 pydub-0.25.1 pypinyin-0.44.0 pystoi-0.3.3 pytest-6.2.5 pytest-runner-5.3.1 pytorch-lightning-1.5.3 rapidfuzz-1.8.3 ruamel.yaml-0.17.17 ruamel.yaml.clib-0.2.6 sacremoses-0.0.46 sentry-sdk-1.5.0 shellingham-1.4.0 shortuuid-1.0.8 snowballstemmer-2.2.0 soupsieve-2.3.1 sphinx-4.3.1 sphinxcontrib-applehelp-1.0.2 sphinxcontrib-bibtex-2.4.1 sphinxcontrib-devhelp-1.0.2 sphinxcontrib-htmlhelp-2.0.0 sphinxcontrib-jsmath-1.0.1 sphinxcontrib-qthelp-1.0.3 sphinxcontrib-serializinghtml-1.1.5 subprocess32-3.5.4 sympy-1.9 tokenizers-0.10.3 toml-0.10.2 torch-stft-0.1.4 torchmetrics-0.6.0 transformers-4.12.5 typed-ast-1.5.0 wandb-0.12.7 webdataset-0.1.62 wget-3.2 wordninja-2.0.0 yarg-0.1.9 yaspin-2.1.0 youtokentome-1.0.6\n"
          ]
        }
      ]
    },
    {
      "cell_type": "code",
      "metadata": {
        "id": "59dac66b-3965-4450-bba3-521e152fd65e"
      },
      "source": [
        "data_dir = '../asr_data'"
      ],
      "id": "59dac66b-3965-4450-bba3-521e152fd65e",
      "execution_count": null,
      "outputs": []
    },
    {
      "cell_type": "code",
      "metadata": {
        "id": "ea683567-b04c-4424-ad89-30cf67a900b7"
      },
      "source": [
        "import glob\n",
        "import os\n",
        "import subprocess\n",
        "import tarfile\n",
        "import torch"
      ],
      "id": "ea683567-b04c-4424-ad89-30cf67a900b7",
      "execution_count": null,
      "outputs": []
    },
    {
      "cell_type": "code",
      "metadata": {
        "tags": [],
        "id": "c75ad83a-11fb-45d3-a362-d9be437b76cb",
        "outputId": "7b9a2119-8b64-4e58-f49d-fa908d8bf1e0"
      },
      "source": [
        "import nemo\n",
        "import nemo.collections.asr as nemo_asr"
      ],
      "id": "c75ad83a-11fb-45d3-a362-d9be437b76cb",
      "execution_count": null,
      "outputs": [
        {
          "name": "stderr",
          "output_type": "stream",
          "text": [
            "2021-11-29 20:45:39.623545: I tensorflow/stream_executor/platform/default/dso_loader.cc:49] Successfully opened dynamic library libcudart.so.11.0\n",
            "[NeMo W 2021-11-29 20:45:43 nmse_clustering:54] Using eigen decomposition from scipy, upgrade torch to 1.9 or higher for faster clustering\n"
          ]
        }
      ]
    },
    {
      "cell_type": "code",
      "metadata": {
        "jupyter": {
          "outputs_hidden": true
        },
        "tags": [],
        "id": "ddc8fc60-7d4c-4609-8be9-cfcf2fd46fe2",
        "outputId": "eccf153a-172b-4173-cc7b-6d051971398e"
      },
      "source": [
        "# asr_model = nemo_asr.models.EncDecCTCModel.from_pretrained(model_name=\"stt_ru_quartznet15x5\")\n",
        "asr_model = nemo_asr.models.EncDecCTCModel.restore_from(os.path.join(data_dir, \"QuartzNet15x5_golos.nemo\"))"
      ],
      "id": "ddc8fc60-7d4c-4609-8be9-cfcf2fd46fe2",
      "execution_count": null,
      "outputs": [
        {
          "name": "stderr",
          "output_type": "stream",
          "text": [
            "[NeMo W 2021-11-29 20:45:44 modelPT:131] If you intend to do training or fine-tuning, please call the ModelPT.setup_training_data() method and provide a valid configuration file to setup the train data loader.\n",
            "    Train config : \n",
            "    manifest_filepath: train/golos_and_mcv.jsonl\n",
            "    sample_rate: 16000\n",
            "    labels:\n",
            "    - ' '\n",
            "    - а\n",
            "    - б\n",
            "    - в\n",
            "    - г\n",
            "    - д\n",
            "    - е\n",
            "    - ж\n",
            "    - з\n",
            "    - и\n",
            "    - й\n",
            "    - к\n",
            "    - л\n",
            "    - м\n",
            "    - н\n",
            "    - о\n",
            "    - п\n",
            "    - р\n",
            "    - с\n",
            "    - т\n",
            "    - у\n",
            "    - ф\n",
            "    - х\n",
            "    - ц\n",
            "    - ч\n",
            "    - ш\n",
            "    - щ\n",
            "    - ъ\n",
            "    - ы\n",
            "    - ь\n",
            "    - э\n",
            "    - ю\n",
            "    - я\n",
            "    batch_size: 64\n",
            "    trim_silence: false\n",
            "    max_duration: 20.0\n",
            "    min_duration: 0.1\n",
            "    num_workers: 20\n",
            "    shuffle: true\n",
            "    is_tarred: false\n",
            "    tarred_audio_filepaths: null\n",
            "    tarred_shard_strategy: scatter\n",
            "    parser: ru\n",
            "    \n",
            "[NeMo W 2021-11-29 20:45:44 modelPT:138] If you intend to do validation, please call the ModelPT.setup_validation_data() or ModelPT.setup_multiple_validation_data() method and provide a valid configuration file to setup the validation data loader(s). \n",
            "    Validation config : \n",
            "    manifest_filepath:\n",
            "    - test/mcv/dev_ru.jsonl\n",
            "    - test/mcv/test_ru.jsonl\n",
            "    - test/crowd/crowd.jsonl\n",
            "    - test/farfield/farfield.jsonl\n",
            "    sample_rate: 16000\n",
            "    labels:\n",
            "    - ' '\n",
            "    - а\n",
            "    - б\n",
            "    - в\n",
            "    - г\n",
            "    - д\n",
            "    - е\n",
            "    - ж\n",
            "    - з\n",
            "    - и\n",
            "    - й\n",
            "    - к\n",
            "    - л\n",
            "    - м\n",
            "    - н\n",
            "    - о\n",
            "    - п\n",
            "    - р\n",
            "    - с\n",
            "    - т\n",
            "    - у\n",
            "    - ф\n",
            "    - х\n",
            "    - ц\n",
            "    - ч\n",
            "    - ш\n",
            "    - щ\n",
            "    - ъ\n",
            "    - ы\n",
            "    - ь\n",
            "    - э\n",
            "    - ю\n",
            "    - я\n",
            "    batch_size: 64\n",
            "    num_workers: 20\n",
            "    shuffle: false\n",
            "    parser: ru\n",
            "    \n",
            "[NeMo W 2021-11-29 20:45:44 modelPT:144] Please call the ModelPT.setup_test_data() or ModelPT.setup_multiple_test_data() method and provide a valid configuration file to setup the test data loader(s).\n",
            "    Test config : \n",
            "    manifest_filepath: test/mcv/test_ru.jsonl\n",
            "    sample_rate: 16000\n",
            "    labels:\n",
            "    - ' '\n",
            "    - а\n",
            "    - б\n",
            "    - в\n",
            "    - г\n",
            "    - д\n",
            "    - е\n",
            "    - ж\n",
            "    - з\n",
            "    - и\n",
            "    - й\n",
            "    - к\n",
            "    - л\n",
            "    - м\n",
            "    - н\n",
            "    - о\n",
            "    - п\n",
            "    - р\n",
            "    - с\n",
            "    - т\n",
            "    - у\n",
            "    - ф\n",
            "    - х\n",
            "    - ц\n",
            "    - ч\n",
            "    - ш\n",
            "    - щ\n",
            "    - ъ\n",
            "    - ы\n",
            "    - ь\n",
            "    - э\n",
            "    - ю\n",
            "    - я\n",
            "    batch_size: 64\n",
            "    shuffle: false\n",
            "    parser: ru\n",
            "    \n"
          ]
        },
        {
          "name": "stdout",
          "output_type": "stream",
          "text": [
            "[NeMo I 2021-11-29 20:45:44 features:265] PADDING: 16\n",
            "[NeMo I 2021-11-29 20:45:44 features:282] STFT using torch\n",
            "[NeMo I 2021-11-29 20:45:48 save_restore_connector:149] Model EncDecCTCModel was successfully restored from /home/jovyan/asr_data/QuartzNet15x5_golos.nemo.\n"
          ]
        }
      ]
    },
    {
      "cell_type": "code",
      "metadata": {
        "tags": [],
        "id": "35541b23-a105-478f-ade2-84ca90577bff",
        "outputId": "1fcb26b4-4108-4710-ee3b-4761148837c8"
      },
      "source": [
        "# --- Building Manifest Files --- #\n",
        "import json\n",
        "\n",
        "# Function to build a manifest\n",
        "def build_manifest(manifest_rel, manifest_abs):\n",
        "    manifest_path = os.path.split(os.path.abspath(manifest_rel))[0]\n",
        "    with open(manifest_rel, 'r') as fin:\n",
        "        with open(manifest_abs, 'w') as fout:\n",
        "            for line in fin:\n",
        "                metadata = json.loads(line)\n",
        "                metadata[\"audio_filepath\"]=os.path.join(manifest_path, metadata[\"audio_filepath\"])\n",
        "                json.dump(metadata, fout)\n",
        "                fout.write('\\n')\n",
        "                \n",
        "# Building Manifests\n",
        "print(\"******\")\n",
        "train_rel = os.path.join(data_dir, 'test/manifest.jsonl')\n",
        "train_abs = os.path.join(data_dir, 'test/test.jsonl')\n",
        "if not os.path.isfile(train_abs):\n",
        "    build_manifest(train_rel, train_abs)\n",
        "test_manifest = train_abs\n",
        "print(\"test_manifest\", test_manifest)\n",
        "\n",
        "train_rel = os.path.join(data_dir, 'train/farfield_train_manifest.jsonl')\n",
        "train_abs = os.path.join(data_dir, 'train/train.jsonl')\n",
        "if not os.path.isfile(train_abs):\n",
        "    build_manifest(train_rel, train_abs)\n",
        "train_manifest = train_abs\n",
        "print(\"train_manifest\", train_manifest)"
      ],
      "id": "35541b23-a105-478f-ade2-84ca90577bff",
      "execution_count": null,
      "outputs": [
        {
          "name": "stdout",
          "output_type": "stream",
          "text": [
            "******\n",
            "test_manifest ../asr_data/test/test.jsonl\n",
            "train_manifest ../asr_data/train/train.jsonl\n"
          ]
        }
      ]
    },
    {
      "cell_type": "code",
      "metadata": {
        "tags": [],
        "colab": {
          "referenced_widgets": [
            ""
          ]
        },
        "id": "837872cf-e1ac-4080-bf0b-09d482714571",
        "outputId": "43d5098e-28a2-4480-d7ce-1d1161facdda"
      },
      "source": [
        "import wandb\n",
        "\n",
        "wandb.init(anonymous=\"must\")"
      ],
      "id": "837872cf-e1ac-4080-bf0b-09d482714571",
      "execution_count": null,
      "outputs": [
        {
          "data": {
            "text/html": [
              "Finishing last run (ID:2rngjl8r) before initializing another..."
            ],
            "text/plain": [
              "<IPython.core.display.HTML object>"
            ]
          },
          "metadata": {},
          "output_type": "display_data"
        },
        {
          "data": {
            "text/html": [
              "<br/>Waiting for W&B process to finish, PID 4279... <strong style=\"color:green\">(success).</strong>"
            ],
            "text/plain": [
              "<IPython.core.display.HTML object>"
            ]
          },
          "metadata": {},
          "output_type": "display_data"
        },
        {
          "data": {
            "application/vnd.jupyter.widget-view+json": {
              "model_id": "",
              "version_major": 2,
              "version_minor": 0
            },
            "text/plain": [
              "VBox(children=(Label(value=' 0.00MB of 0.00MB uploaded (0.00MB deduped)\\r'), FloatProgress(value=1.0, max=1.0)…"
            ]
          },
          "metadata": {},
          "output_type": "display_data"
        },
        {
          "data": {
            "text/html": [
              "<style>\n",
              "    table.wandb td:nth-child(1) { padding: 0 10px; text-align: right }\n",
              "    .wandb-row { display: flex; flex-direction: row; flex-wrap: wrap; width: 100% }\n",
              "    .wandb-col { display: flex; flex-direction: column; flex-basis: 100%; flex: 1; padding: 10px; }\n",
              "    </style>\n",
              "<div class=\"wandb-row\"><div class=\"wandb-col\">\n",
              "<h3>Run history:</h3><br/><table class=\"wandb\"><tr><td>epoch</td><td>▁▁▁▁▁▁▁▁▁▁▁▁▁▁▁▁▁▁▁▁▁▁▁▁▁▁▁▁▁▁▁▁▁███████</td></tr><tr><td>learning_rate</td><td>▁▁▁▁▁▁▁▁▁▁▁▁▁▁▁▁▁▁▁▁▁▁▁▁▁▁▁▁▁▁▁▁▁▁▁▁▁▁▁▁</td></tr><tr><td>train_loss</td><td>▇▄▂▃▅▃▇▄▄▁▅▂▄▄▇▃█▅▇▁▆▆▄▆▄▇▅▃▆▄▆▄▄▄▄▄▁▃█▆</td></tr><tr><td>trainer/global_step</td><td>▁▁▁▁▂▂▂▂▂▃▃▃▃▃▃▄▄▄▄▄▅▅▅▅▅▅▆▆▆▆▆▇▇▇▇▇▇███</td></tr><tr><td>training_batch_wer</td><td>▇▃▂▁▅▂▅▄▄▁▅▃▄▃▅▄█▄▄▁▅▅▃▃▄▅▃▃▅▃▄▃▃▃▃▂▂▃▆▄</td></tr><tr><td>val_loss</td><td>▆▇█▁▅▅</td></tr><tr><td>val_wer</td><td>▁▃█▃▇▇</td></tr></table><br/></div><div class=\"wandb-col\">\n",
              "<h3>Run summary:</h3><br/><table class=\"wandb\"><tr><td>epoch</td><td>1</td></tr><tr><td>learning_rate</td><td>0.001</td></tr><tr><td>train_loss</td><td>7.61502</td></tr><tr><td>trainer/global_step</td><td>2324</td></tr><tr><td>training_batch_wer</td><td>0.12032</td></tr><tr><td>val_loss</td><td>7.82392</td></tr><tr><td>val_wer</td><td>0.19673</td></tr></table>\n",
              "</div></div>\n",
              "Synced 5 W&B file(s), 0 media file(s), 0 artifact file(s) and 0 other file(s)\n",
              "<br/>Synced <strong style=\"color:#cdcd00\">exalted-planet-6</strong>: <a href=\"https://wandb.ai/anmyfe/uncategorized/runs/2rngjl8r\" target=\"_blank\">https://wandb.ai/anmyfe/uncategorized/runs/2rngjl8r</a><br/>\n",
              "Find logs at: <code>./wandb/run-20211129_204549-2rngjl8r/logs</code><br/>\n"
            ],
            "text/plain": [
              "<IPython.core.display.HTML object>"
            ]
          },
          "metadata": {},
          "output_type": "display_data"
        },
        {
          "data": {
            "text/html": [
              "Successfully finished last run (ID:2rngjl8r). Initializing new run:<br/>"
            ],
            "text/plain": [
              "<IPython.core.display.HTML object>"
            ]
          },
          "metadata": {},
          "output_type": "display_data"
        },
        {
          "name": "stderr",
          "output_type": "stream",
          "text": [
            "2021-11-29 21:18:50.648835: I tensorflow/stream_executor/platform/default/dso_loader.cc:49] Successfully opened dynamic library libcudart.so.11.0\n"
          ]
        },
        {
          "data": {
            "text/html": [
              "\n",
              "                    Syncing run <strong><a href=\"https://wandb.ai/anmyfe/uncategorized/runs/15idohsl\" target=\"_blank\">polar-pyramid-7</a></strong> to <a href=\"https://wandb.ai/anmyfe/uncategorized\" target=\"_blank\">Weights & Biases</a> (<a href=\"https://docs.wandb.com/integrations/jupyter.html\" target=\"_blank\">docs</a>).<br/>\n",
              "\n",
              "                "
            ],
            "text/plain": [
              "<IPython.core.display.HTML object>"
            ]
          },
          "metadata": {},
          "output_type": "display_data"
        },
        {
          "data": {
            "text/html": [
              "<button onClick=\"this.nextSibling.style.display='block';this.style.display='none';\">Display W&B run</button><iframe src=\"https://wandb.ai/anmyfe/uncategorized/runs/15idohsl?jupyter=true\" style=\"border:none;width:100%;height:420px;display:none;\"></iframe>"
            ],
            "text/plain": [
              "<wandb.sdk.wandb_run.Run at 0x7f665e193b90>"
            ]
          },
          "execution_count": 28,
          "metadata": {},
          "output_type": "execute_result"
        }
      ]
    },
    {
      "cell_type": "code",
      "metadata": {
        "tags": [],
        "id": "9281a152-24e4-4433-84f7-f17e4ab26455",
        "outputId": "709c8975-90cb-47c7-f532-8835d6aeda2f"
      },
      "source": [
        "import pytorch_lightning as pl\n",
        "from pytorch_lightning.callbacks.early_stopping import EarlyStopping\n",
        "from pytorch_lightning.loggers import WandbLogger\n",
        "\n",
        "logger = WandbLogger()\n",
        "\n",
        "trainer = pl.Trainer(\n",
        "    gpus=1, \n",
        "    max_epochs=2,\n",
        "    val_check_interval=0.2,\n",
        "    precision=16,\n",
        "    callbacks=[EarlyStopping(monitor=\"val_wer\", patience=5, mode=\"min\")],\n",
        "    logger=logger\n",
        ")"
      ],
      "id": "9281a152-24e4-4433-84f7-f17e4ab26455",
      "execution_count": null,
      "outputs": [
        {
          "name": "stderr",
          "output_type": "stream",
          "text": [
            "Using 16bit native Automatic Mixed Precision (AMP)\n",
            "GPU available: True, used: True\n",
            "TPU available: False, using: 0 TPU cores\n",
            "IPU available: False, using: 0 IPUs\n"
          ]
        }
      ]
    },
    {
      "cell_type": "code",
      "metadata": {
        "id": "7f637300-dc54-42ca-b15f-aa777aac5556",
        "outputId": "63897642-6a16-44f0-cb29-9c69866f7cf2"
      },
      "source": [
        "# Bigger batch-size = bigger throughput\n",
        "# params['model']['validation_ds']['batch_size'] = 16\n",
        "# Setup the test data loader and make sure the model is on GPU\n",
        "# asr_model.setup_test_data(test_data_config=params['model']['validation_ds'])\n",
        "asr_model.cuda()\n",
        "\n",
        "# We will be computing Word Error Rate (WER) metric between our hypothesis and predictions.\n",
        "# WER is computed as numerator/denominator.\n",
        "# We'll gather all the test batches' numerators and denominators.\n",
        "wer_nums = []\n",
        "wer_denoms = []\n",
        "\n",
        "# Loop over all test batches.\n",
        "# Iterating over the model's `test_dataloader` will give us:\n",
        "# (audio_signal, audio_signal_length, transcript_tokens, transcript_length)\n",
        "# See the AudioToCharDataset for more details.\n",
        "for test_batch in asr_model.test_dataloader():\n",
        "        test_batch = [x.cuda() for x in test_batch]\n",
        "        targets = test_batch[2]\n",
        "        targets_lengths = test_batch[3]        \n",
        "        log_probs, encoded_len, greedy_predictions = asr_model(\n",
        "            input_signal=test_batch[0], input_signal_length=test_batch[1]\n",
        "        )\n",
        "        # Notice the model has a helper object to compute WER\n",
        "        asr_model._wer.update(greedy_predictions, targets, targets_lengths)\n",
        "        _, wer_num, wer_denom = asr_model._wer.compute()\n",
        "        asr_model._wer.reset()\n",
        "        wer_nums.append(wer_num.detach().cpu().numpy())\n",
        "        wer_denoms.append(wer_denom.detach().cpu().numpy())\n",
        "\n",
        "        # Release tensors from GPU memory\n",
        "        del test_batch, log_probs, targets, targets_lengths, encoded_len, greedy_predictions\n",
        "\n",
        "# We need to sum all numerators and denominators first. Then divide.\n",
        "print(f\"WER = {sum(wer_nums)/sum(wer_denoms)}\")"
      ],
      "id": "7f637300-dc54-42ca-b15f-aa777aac5556",
      "execution_count": null,
      "outputs": [
        {
          "name": "stdout",
          "output_type": "stream",
          "text": [
            "WER = 0.9101646385110952\n"
          ]
        }
      ]
    },
    {
      "cell_type": "code",
      "metadata": {
        "id": "152d74fc-1445-438e-acbb-2fb6df0cb59a"
      },
      "source": [
        "params_model = asr_model._cfg\n",
        "\n",
        "# --- Config Information ---#\n",
        "# try:\n",
        "#     from ruamel.yaml import YAML\n",
        "# except ModuleNotFoundError:\n",
        "#     from ruamel_yaml import YAML\n",
        "# config_path = '/usr/local/lib/python3.7/dist-packages/nemo/collections/asr/models/configs/'\n",
        "\n",
        "# yaml = YAML(typ='safe')\n",
        "# with open(config_path) as f:\n",
        "#     params = yaml.load(f)\n",
        "# print(params)\n",
        "params_model['train_ds']['parser'] = 'base'\n",
        "params_model['validation_ds']['parser'] = 'base'\n",
        "params_model['test_ds']['parser'] = 'base'\n",
        "params_model['train_ds']['manifest_filepath'] = train_manifest\n",
        "params_model['train_ds']['batch_size'] = 64\n",
        "params_model['validation_ds']['manifest_filepath'] = test_manifest\n",
        "params_model['validation_ds']['batch_size'] = 64\n",
        "params_model['test_ds']['manifest_filepath'] = test_manifest\n",
        "params_model['test_ds']['batch_size'] = 64"
      ],
      "id": "152d74fc-1445-438e-acbb-2fb6df0cb59a",
      "execution_count": null,
      "outputs": []
    },
    {
      "cell_type": "code",
      "metadata": {
        "jupyter": {
          "outputs_hidden": true
        },
        "tags": [],
        "id": "9e11e5cb-7970-44ec-8ae4-7c5fa4590cfb",
        "outputId": "144d15ef-01e2-4386-b8ce-fb7ce760dfa1"
      },
      "source": [
        "params_model"
      ],
      "id": "9e11e5cb-7970-44ec-8ae4-7c5fa4590cfb",
      "execution_count": null,
      "outputs": [
        {
          "data": {
            "text/plain": [
              "{'sample_rate': 16000, 'repeat': 5, 'dropout': 0.0, 'separable': True, 'labels': [' ', 'а', 'б', 'в', 'г', 'д', 'е', 'ж', 'з', 'и', 'й', 'к', 'л', 'м', 'н', 'о', 'п', 'р', 'с', 'т', 'у', 'ф', 'х', 'ц', 'ч', 'ш', 'щ', 'ъ', 'ы', 'ь', 'э', 'ю', 'я'], 'optim': {'name': 'novograd', 'lr': 0.05, 'betas': [0.9, 0.98], 'weight_decay': 0.001, 'sched': {'name': 'CosineAnnealing', 'warmup_steps': 500, 'warmup_ratio': None, 'min_lr': 0.0, 'last_epoch': -1}}, 'train_ds': {'manifest_filepath': '../asr_data/train/train.jsonl', 'sample_rate': 16000, 'labels': [' ', 'а', 'б', 'в', 'г', 'д', 'е', 'ж', 'з', 'и', 'й', 'к', 'л', 'м', 'н', 'о', 'п', 'р', 'с', 'т', 'у', 'ф', 'х', 'ц', 'ч', 'ш', 'щ', 'ъ', 'ы', 'ь', 'э', 'ю', 'я'], 'batch_size': 64, 'trim_silence': False, 'max_duration': 20.0, 'min_duration': 0.1, 'num_workers': 20, 'shuffle': True, 'is_tarred': False, 'tarred_audio_filepaths': None, 'tarred_shard_strategy': 'scatter', 'parser': 'base'}, 'validation_ds': {'manifest_filepath': '../asr_data/test/test.jsonl', 'sample_rate': 16000, 'labels': [' ', 'а', 'б', 'в', 'г', 'д', 'е', 'ж', 'з', 'и', 'й', 'к', 'л', 'м', 'н', 'о', 'п', 'р', 'с', 'т', 'у', 'ф', 'х', 'ц', 'ч', 'ш', 'щ', 'ъ', 'ы', 'ь', 'э', 'ю', 'я'], 'batch_size': 64, 'num_workers': 20, 'shuffle': False, 'parser': 'base'}, 'test_ds': {'manifest_filepath': '../asr_data/test/test.jsonl', 'sample_rate': 16000, 'labels': [' ', 'а', 'б', 'в', 'г', 'д', 'е', 'ж', 'з', 'и', 'й', 'к', 'л', 'м', 'н', 'о', 'п', 'р', 'с', 'т', 'у', 'ф', 'х', 'ц', 'ч', 'ш', 'щ', 'ъ', 'ы', 'ь', 'э', 'ю', 'я'], 'batch_size': 64, 'shuffle': False, 'parser': 'base'}, 'preprocessor': {'_target_': 'nemo.collections.asr.modules.AudioToMelSpectrogramPreprocessor', 'normalize': 'per_feature', 'window_size': 0.02, 'sample_rate': 16000, 'window_stride': 0.01, 'window': 'hann', 'features': 64, 'n_fft': 512, 'frame_splicing': 1, 'dither': 1e-05, 'stft_conv': False}, 'spec_augment': {'_target_': 'nemo.collections.asr.modules.SpectrogramAugmentation', 'rect_freq': 50, 'rect_masks': 5, 'rect_time': 120}, 'encoder': {'_target_': 'nemo.collections.asr.modules.ConvASREncoder', 'feat_in': 64, 'activation': 'relu', 'conv_mask': True, 'jasper': [{'dilation': [1], 'dropout': 0.0, 'filters': 256, 'kernel': [33], 'repeat': 1, 'residual': False, 'separable': True, 'stride': [2]}, {'dilation': [1], 'dropout': 0.0, 'filters': 256, 'kernel': [33], 'repeat': 5, 'residual': True, 'separable': True, 'stride': [1]}, {'dilation': [1], 'dropout': 0.0, 'filters': 256, 'kernel': [33], 'repeat': 5, 'residual': True, 'separable': True, 'stride': [1]}, {'dilation': [1], 'dropout': 0.0, 'filters': 256, 'kernel': [33], 'repeat': 5, 'residual': True, 'separable': True, 'stride': [1]}, {'dilation': [1], 'dropout': 0.0, 'filters': 256, 'kernel': [39], 'repeat': 5, 'residual': True, 'separable': True, 'stride': [1]}, {'dilation': [1], 'dropout': 0.0, 'filters': 256, 'kernel': [39], 'repeat': 5, 'residual': True, 'separable': True, 'stride': [1]}, {'dilation': [1], 'dropout': 0.0, 'filters': 256, 'kernel': [39], 'repeat': 5, 'residual': True, 'separable': True, 'stride': [1]}, {'dilation': [1], 'dropout': 0.0, 'filters': 512, 'kernel': [51], 'repeat': 5, 'residual': True, 'separable': True, 'stride': [1]}, {'dilation': [1], 'dropout': 0.0, 'filters': 512, 'kernel': [51], 'repeat': 5, 'residual': True, 'separable': True, 'stride': [1]}, {'dilation': [1], 'dropout': 0.0, 'filters': 512, 'kernel': [51], 'repeat': 5, 'residual': True, 'separable': True, 'stride': [1]}, {'dilation': [1], 'dropout': 0.0, 'filters': 512, 'kernel': [63], 'repeat': 5, 'residual': True, 'separable': True, 'stride': [1]}, {'dilation': [1], 'dropout': 0.0, 'filters': 512, 'kernel': [63], 'repeat': 5, 'residual': True, 'separable': True, 'stride': [1]}, {'dilation': [1], 'dropout': 0.0, 'filters': 512, 'kernel': [63], 'repeat': 5, 'residual': True, 'separable': True, 'stride': [1]}, {'dilation': [1], 'dropout': 0.0, 'filters': 512, 'kernel': [75], 'repeat': 5, 'residual': True, 'separable': True, 'stride': [1]}, {'dilation': [1], 'dropout': 0.0, 'filters': 512, 'kernel': [75], 'repeat': 5, 'residual': True, 'separable': True, 'stride': [1]}, {'dilation': [1], 'dropout': 0.0, 'filters': 512, 'kernel': [75], 'repeat': 5, 'residual': True, 'separable': True, 'stride': [1]}, {'dilation': [2], 'dropout': 0.0, 'filters': 512, 'kernel': [87], 'repeat': 1, 'residual': False, 'separable': True, 'stride': [1]}, {'dilation': [1], 'dropout': 0.0, 'filters': 1024, 'kernel': [1], 'repeat': 1, 'residual': False, 'stride': [1]}]}, 'decoder': {'_target_': 'nemo.collections.asr.modules.ConvASRDecoder', 'feat_in': 1024, 'num_classes': 33, 'vocabulary': [' ', 'а', 'б', 'в', 'г', 'д', 'е', 'ж', 'з', 'и', 'й', 'к', 'л', 'м', 'н', 'о', 'п', 'р', 'с', 'т', 'у', 'ф', 'х', 'ц', 'ч', 'ш', 'щ', 'ъ', 'ы', 'ь', 'э', 'ю', 'я']}, 'target': 'nemo.collections.asr.models.ctc_models.EncDecCTCModel'}"
            ]
          },
          "execution_count": 15,
          "metadata": {},
          "output_type": "execute_result"
        }
      ]
    },
    {
      "cell_type": "code",
      "metadata": {
        "tags": [],
        "id": "07895c0f-43c5-4379-a96a-b760c28e54b1",
        "outputId": "1ef1d471-0bae-42ec-a631-1accaaa113f3"
      },
      "source": [
        "from omegaconf import DictConfig\n",
        "\n",
        "import copy\n",
        "new_opt = copy.deepcopy(params_model['optim'])\n",
        "new_opt['lr'] = 0.0001\n",
        "asr_model.setup_optimization(optim_config=DictConfig(new_opt))"
      ],
      "id": "07895c0f-43c5-4379-a96a-b760c28e54b1",
      "execution_count": null,
      "outputs": [
        {
          "name": "stderr",
          "output_type": "stream",
          "text": [
            "[NeMo W 2021-11-29 21:17:21 modelPT:453] Trainer wasn't specified in model constructor. Make sure that you really wanted it.\n"
          ]
        },
        {
          "name": "stdout",
          "output_type": "stream",
          "text": [
            "[NeMo I 2021-11-29 21:17:21 modelPT:561] Optimizer config = Novograd (\n",
            "    Parameter Group 0\n",
            "        amsgrad: False\n",
            "        betas: [0.9, 0.98]\n",
            "        eps: 1e-08\n",
            "        grad_averaging: False\n",
            "        lr: 0.0001\n",
            "        weight_decay: 0.001\n",
            "    )\n"
          ]
        },
        {
          "name": "stderr",
          "output_type": "stream",
          "text": [
            "[NeMo W 2021-11-29 21:17:21 lr_scheduler:732] Neither `max_steps` nor `iters_per_batch` were provided to `optim.sched`, cannot compute effective `max_steps` !\n",
            "    Scheduler will not be instantiated !\n"
          ]
        },
        {
          "data": {
            "text/plain": [
              "(Novograd (\n",
              " Parameter Group 0\n",
              "     amsgrad: False\n",
              "     betas: [0.9, 0.98]\n",
              "     eps: 1e-08\n",
              "     grad_averaging: False\n",
              "     lr: 0.0001\n",
              "     weight_decay: 0.001\n",
              " ),\n",
              " None)"
            ]
          },
          "execution_count": 23,
          "metadata": {},
          "output_type": "execute_result"
        }
      ]
    },
    {
      "cell_type": "code",
      "metadata": {
        "tags": [],
        "id": "1b1604f3-7f65-4c40-b03e-044d34fd4550",
        "outputId": "456418ca-8312-4f54-83a0-dff5856dd2f1"
      },
      "source": [
        "asr_model.setup_training_data(train_data_config=params_model['train_ds'])\n",
        "asr_model.setup_test_data(test_data_config=params_model['test_ds'])\n",
        "asr_model.setup_validation_data(val_data_config=params_model['validation_ds'])"
      ],
      "id": "1b1604f3-7f65-4c40-b03e-044d34fd4550",
      "execution_count": null,
      "outputs": [
        {
          "name": "stdout",
          "output_type": "stream",
          "text": [
            "[NeMo I 2021-11-29 21:17:30 collections:173] Dataset loaded with 123995 files totalling 132.43 hours\n",
            "[NeMo I 2021-11-29 21:17:30 collections:174] 8 files were filtered totalling 0.03 hours\n",
            "[NeMo I 2021-11-29 21:17:30 collections:173] Dataset loaded with 1916 files totalling 1.41 hours\n",
            "[NeMo I 2021-11-29 21:17:30 collections:174] 0 files were filtered totalling 0.00 hours\n",
            "[NeMo I 2021-11-29 21:17:30 collections:173] Dataset loaded with 1916 files totalling 1.41 hours\n",
            "[NeMo I 2021-11-29 21:17:30 collections:174] 0 files were filtered totalling 0.00 hours\n"
          ]
        }
      ]
    },
    {
      "cell_type": "code",
      "metadata": {
        "tags": [],
        "id": "380b2941-beb7-4f8a-83b6-fa947d000269",
        "outputId": "9fc7444b-cc05-41f5-f4be-160d592448f6"
      },
      "source": [
        "# Bigger batch-size = bigger throughput\n",
        "# params['model']['validation_ds']['batch_size'] = 16\n",
        "# Setup the test data loader and make sure the model is on GPU\n",
        "# asr_model.setup_test_data(test_data_config=params['model']['validation_ds'])\n",
        "asr_model.cuda()\n",
        "\n",
        "# We will be computing Word Error Rate (WER) metric between our hypothesis and predictions.\n",
        "# WER is computed as numerator/denominator.\n",
        "# We'll gather all the test batches' numerators and denominators.\n",
        "wer_nums = []\n",
        "wer_denoms = []\n",
        "\n",
        "# Loop over all test batches.\n",
        "# Iterating over the model's `test_dataloader` will give us:\n",
        "# (audio_signal, audio_signal_length, transcript_tokens, transcript_length)\n",
        "# See the AudioToCharDataset for more details.\n",
        "for test_batch in asr_model.test_dataloader():\n",
        "        test_batch = [x.cuda() for x in test_batch]\n",
        "        targets = test_batch[2]\n",
        "        targets_lengths = test_batch[3]        \n",
        "        log_probs, encoded_len, greedy_predictions = asr_model(\n",
        "            input_signal=test_batch[0], input_signal_length=test_batch[1]\n",
        "        )\n",
        "        # Notice the model has a helper object to compute WER\n",
        "        asr_model._wer.update(greedy_predictions, targets, targets_lengths)\n",
        "        _, wer_num, wer_denom = asr_model._wer.compute()\n",
        "        asr_model._wer.reset()\n",
        "        wer_nums.append(wer_num.detach().cpu().numpy())\n",
        "        wer_denoms.append(wer_denom.detach().cpu().numpy())\n",
        "\n",
        "        # Release tensors from GPU memory\n",
        "        del test_batch, log_probs, targets, targets_lengths, encoded_len, greedy_predictions\n",
        "\n",
        "# We need to sum all numerators and denominators first. Then divide.\n",
        "print(f\"WER = {sum(wer_nums)/sum(wer_denoms)}\")"
      ],
      "id": "380b2941-beb7-4f8a-83b6-fa947d000269",
      "execution_count": null,
      "outputs": [
        {
          "name": "stdout",
          "output_type": "stream",
          "text": [
            "WER = 0.5050107372942019\n"
          ]
        }
      ]
    },
    {
      "cell_type": "markdown",
      "metadata": {
        "id": "254fc037-0d12-4ede-a525-5f72d491c282"
      },
      "source": [
        ""
      ],
      "id": "254fc037-0d12-4ede-a525-5f72d491c282"
    },
    {
      "cell_type": "code",
      "metadata": {
        "colab": {
          "referenced_widgets": [
            "",
            "cf7486d1d1e0463f82a4366658afc4d4"
          ]
        },
        "id": "9d65eaca-aff2-4318-ab91-77b7b9486c20",
        "outputId": "70a39849-5ca9-46a5-b8b7-e21bb34336ed"
      },
      "source": [
        "trainer.fit(first_asr_model)"
      ],
      "id": "9d65eaca-aff2-4318-ab91-77b7b9486c20",
      "execution_count": null,
      "outputs": [
        {
          "name": "stderr",
          "output_type": "stream",
          "text": [
            "LOCAL_RANK: 0 - CUDA_VISIBLE_DEVICES: [0]\n",
            "[NeMo W 2021-11-29 21:19:15 modelPT:453] Trainer wasn't specified in model constructor. Make sure that you really wanted it.\n"
          ]
        },
        {
          "name": "stdout",
          "output_type": "stream",
          "text": [
            "[NeMo I 2021-11-29 21:19:15 modelPT:561] Optimizer config = Novograd (\n",
            "    Parameter Group 0\n",
            "        amsgrad: False\n",
            "        betas: [0.9, 0.98]\n",
            "        eps: 1e-08\n",
            "        grad_averaging: False\n",
            "        lr: 0.0001\n",
            "        weight_decay: 0.001\n",
            "    )\n"
          ]
        },
        {
          "name": "stderr",
          "output_type": "stream",
          "text": [
            "[NeMo W 2021-11-29 21:19:15 lr_scheduler:732] Neither `max_steps` nor `iters_per_batch` were provided to `optim.sched`, cannot compute effective `max_steps` !\n",
            "    Scheduler will not be instantiated !\n",
            "\n",
            "  | Name              | Type                              | Params\n",
            "------------------------------------------------------------------------\n",
            "0 | preprocessor      | AudioToMelSpectrogramPreprocessor | 0     \n",
            "1 | encoder           | ConvASREncoder                    | 18.9 M\n",
            "2 | decoder           | ConvASRDecoder                    | 34.9 K\n",
            "3 | loss              | CTCLoss                           | 0     \n",
            "4 | spec_augmentation | SpectrogramAugmentation           | 0     \n",
            "5 | _wer              | WER                               | 0     \n",
            "------------------------------------------------------------------------\n",
            "18.9 M    Trainable params\n",
            "0         Non-trainable params\n",
            "18.9 M    Total params\n",
            "37.859    Total estimated model params size (MB)\n"
          ]
        },
        {
          "data": {
            "application/vnd.jupyter.widget-view+json": {
              "model_id": "",
              "version_major": 2,
              "version_minor": 0
            },
            "text/plain": [
              "Validation sanity check: 0it [00:00, ?it/s]"
            ]
          },
          "metadata": {},
          "output_type": "display_data"
        },
        {
          "data": {
            "application/vnd.jupyter.widget-view+json": {
              "model_id": "cf7486d1d1e0463f82a4366658afc4d4",
              "version_major": 2,
              "version_minor": 0
            },
            "text/plain": [
              "Training: 0it [00:00, ?it/s]"
            ]
          },
          "metadata": {},
          "output_type": "display_data"
        },
        {
          "data": {
            "application/vnd.jupyter.widget-view+json": {
              "model_id": "",
              "version_major": 2,
              "version_minor": 0
            },
            "text/plain": [
              "Validating: 0it [00:00, ?it/s]"
            ]
          },
          "metadata": {},
          "output_type": "display_data"
        },
        {
          "data": {
            "application/vnd.jupyter.widget-view+json": {
              "model_id": "",
              "version_major": 2,
              "version_minor": 0
            },
            "text/plain": [
              "Validating: 0it [00:00, ?it/s]"
            ]
          },
          "metadata": {},
          "output_type": "display_data"
        },
        {
          "data": {
            "application/vnd.jupyter.widget-view+json": {
              "model_id": "",
              "version_major": 2,
              "version_minor": 0
            },
            "text/plain": [
              "Validating: 0it [00:00, ?it/s]"
            ]
          },
          "metadata": {},
          "output_type": "display_data"
        },
        {
          "data": {
            "application/vnd.jupyter.widget-view+json": {
              "model_id": "",
              "version_major": 2,
              "version_minor": 0
            },
            "text/plain": [
              "Validating: 0it [00:00, ?it/s]"
            ]
          },
          "metadata": {},
          "output_type": "display_data"
        },
        {
          "data": {
            "application/vnd.jupyter.widget-view+json": {
              "model_id": "",
              "version_major": 2,
              "version_minor": 0
            },
            "text/plain": [
              "Validating: 0it [00:00, ?it/s]"
            ]
          },
          "metadata": {},
          "output_type": "display_data"
        },
        {
          "data": {
            "application/vnd.jupyter.widget-view+json": {
              "model_id": "",
              "version_major": 2,
              "version_minor": 0
            },
            "text/plain": [
              "Validating: 0it [00:00, ?it/s]"
            ]
          },
          "metadata": {},
          "output_type": "display_data"
        },
        {
          "data": {
            "application/vnd.jupyter.widget-view+json": {
              "model_id": "",
              "version_major": 2,
              "version_minor": 0
            },
            "text/plain": [
              "Validating: 0it [00:00, ?it/s]"
            ]
          },
          "metadata": {},
          "output_type": "display_data"
        },
        {
          "data": {
            "application/vnd.jupyter.widget-view+json": {
              "model_id": "",
              "version_major": 2,
              "version_minor": 0
            },
            "text/plain": [
              "Validating: 0it [00:00, ?it/s]"
            ]
          },
          "metadata": {},
          "output_type": "display_data"
        },
        {
          "data": {
            "application/vnd.jupyter.widget-view+json": {
              "model_id": "",
              "version_major": 2,
              "version_minor": 0
            },
            "text/plain": [
              "Validating: 0it [00:00, ?it/s]"
            ]
          },
          "metadata": {},
          "output_type": "display_data"
        },
        {
          "data": {
            "application/vnd.jupyter.widget-view+json": {
              "model_id": "",
              "version_major": 2,
              "version_minor": 0
            },
            "text/plain": [
              "Validating: 0it [00:00, ?it/s]"
            ]
          },
          "metadata": {},
          "output_type": "display_data"
        }
      ]
    },
    {
      "cell_type": "code",
      "metadata": {
        "id": "9fae2090-4bb4-44aa-9a89-ee9ced2b1bed"
      },
      "source": [
        "first_asr_model.save_to('model_1.nemo')"
      ],
      "id": "9fae2090-4bb4-44aa-9a89-ee9ced2b1bed",
      "execution_count": null,
      "outputs": []
    },
    {
      "cell_type": "code",
      "metadata": {
        "id": "9198840f-1be6-4351-9373-b7956bc6689e",
        "outputId": "05211451-67da-4ea4-cb9d-06133d24ed13"
      },
      "source": [
        "# Bigger batch-size = bigger throughput\n",
        "# params['model']['validation_ds']['batch_size'] = 16\n",
        "# Setup the test data loader and make sure the model is on GPU\n",
        "# asr_model.setup_test_data(test_data_config=params['model']['validation_ds'])\n",
        "asr_model.cuda()\n",
        "\n",
        "# We will be computing Word Error Rate (WER) metric between our hypothesis and predictions.\n",
        "# WER is computed as numerator/denominator.\n",
        "# We'll gather all the test batches' numerators and denominators.\n",
        "wer_nums = []\n",
        "wer_denoms = []\n",
        "\n",
        "# Loop over all test batches.\n",
        "# Iterating over the model's `test_dataloader` will give us:\n",
        "# (audio_signal, audio_signal_length, transcript_tokens, transcript_length)\n",
        "# See the AudioToCharDataset for more details.\n",
        "for test_batch in asr_model.test_dataloader():\n",
        "        test_batch = [x.cuda() for x in test_batch]\n",
        "        targets = test_batch[2]\n",
        "        targets_lengths = test_batch[3]        \n",
        "        log_probs, encoded_len, greedy_predictions = asr_model(\n",
        "            input_signal=test_batch[0], input_signal_length=test_batch[1]\n",
        "        )\n",
        "        # Notice the model has a helper object to compute WER\n",
        "        asr_model._wer.update(greedy_predictions, targets, targets_lengths)\n",
        "        _, wer_num, wer_denom = asr_model._wer.compute()\n",
        "        asr_model._wer.reset()\n",
        "        wer_nums.append(wer_num.detach().cpu().numpy())\n",
        "        wer_denoms.append(wer_denom.detach().cpu().numpy())\n",
        "\n",
        "        # Release tensors from GPU memory\n",
        "        del test_batch, log_probs, targets, targets_lengths, encoded_len, greedy_predictions\n",
        "\n",
        "# We need to sum all numerators and denominators first. Then divide.\n",
        "print(f\"WER = {sum(wer_nums)/sum(wer_denoms)}\")"
      ],
      "id": "9198840f-1be6-4351-9373-b7956bc6689e",
      "execution_count": null,
      "outputs": [
        {
          "name": "stdout",
          "output_type": "stream",
          "text": [
            "WER = 0.47399188737771414\n"
          ]
        }
      ]
    }
  ]
}