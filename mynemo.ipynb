{
  "nbformat": 4,
  "nbformat_minor": 0,
  "metadata": {
    "accelerator": "GPU",
    "colab": {
      "name": "mynemo.ipynb",
      "provenance": [],
      "collapsed_sections": []
    },
    "kernelspec": {
      "display_name": "Python 3",
      "language": "python",
      "name": "python3"
    },
    "language_info": {
      "codemirror_mode": {
        "name": "ipython",
        "version": 3
      },
      "file_extension": ".py",
      "mimetype": "text/x-python",
      "name": "python",
      "nbconvert_exporter": "python",
      "pygments_lexer": "ipython3",
      "version": "3.7.7"
    },
    "pycharm": {
      "stem_cell": {
        "cell_type": "raw",
        "source": [],
        "metadata": {
          "collapsed": false
        }
      }
    },
    "widgets": {
      "application/vnd.jupyter.widget-state+json": {
        "e2867e13c09f45ffb149d55fdba068f6": {
          "model_module": "@jupyter-widgets/controls",
          "model_name": "HBoxModel",
          "model_module_version": "1.5.0",
          "state": {
            "_view_name": "HBoxView",
            "_dom_classes": [],
            "_model_name": "HBoxModel",
            "_view_module": "@jupyter-widgets/controls",
            "_model_module_version": "1.5.0",
            "_view_count": null,
            "_view_module_version": "1.5.0",
            "box_style": "",
            "layout": "IPY_MODEL_b27889bcdda34b32924faf8319d3cc3c",
            "_model_module": "@jupyter-widgets/controls",
            "children": [
              "IPY_MODEL_262cfe85615b4b7aba1a3449463bc740",
              "IPY_MODEL_e2b76b3bea364c83845005c3d0c652af",
              "IPY_MODEL_34e3182ee4d74e8c9fd7f3281053ec55"
            ]
          }
        },
        "b27889bcdda34b32924faf8319d3cc3c": {
          "model_module": "@jupyter-widgets/base",
          "model_name": "LayoutModel",
          "model_module_version": "1.2.0",
          "state": {
            "_view_name": "LayoutView",
            "grid_template_rows": null,
            "right": null,
            "justify_content": null,
            "_view_module": "@jupyter-widgets/base",
            "overflow": null,
            "_model_module_version": "1.2.0",
            "_view_count": null,
            "flex_flow": null,
            "width": null,
            "min_width": null,
            "border": null,
            "align_items": null,
            "bottom": null,
            "_model_module": "@jupyter-widgets/base",
            "top": null,
            "grid_column": null,
            "overflow_y": null,
            "overflow_x": null,
            "grid_auto_flow": null,
            "grid_area": null,
            "grid_template_columns": null,
            "flex": null,
            "_model_name": "LayoutModel",
            "justify_items": null,
            "grid_row": null,
            "max_height": null,
            "align_content": null,
            "visibility": null,
            "align_self": null,
            "height": null,
            "min_height": null,
            "padding": null,
            "grid_auto_rows": null,
            "grid_gap": null,
            "max_width": null,
            "order": null,
            "_view_module_version": "1.2.0",
            "grid_template_areas": null,
            "object_position": null,
            "object_fit": null,
            "grid_auto_columns": null,
            "margin": null,
            "display": null,
            "left": null
          }
        },
        "262cfe85615b4b7aba1a3449463bc740": {
          "model_module": "@jupyter-widgets/controls",
          "model_name": "HTMLModel",
          "model_module_version": "1.5.0",
          "state": {
            "_view_name": "HTMLView",
            "style": "IPY_MODEL_35870271d71042ae855be988055f6d71",
            "_dom_classes": [],
            "description": "",
            "_model_name": "HTMLModel",
            "placeholder": "​",
            "_view_module": "@jupyter-widgets/controls",
            "_model_module_version": "1.5.0",
            "value": "Transcribing: 100%",
            "_view_count": null,
            "_view_module_version": "1.5.0",
            "description_tooltip": null,
            "_model_module": "@jupyter-widgets/controls",
            "layout": "IPY_MODEL_57b652a311674cda96e5debf23a54b1b"
          }
        },
        "e2b76b3bea364c83845005c3d0c652af": {
          "model_module": "@jupyter-widgets/controls",
          "model_name": "FloatProgressModel",
          "model_module_version": "1.5.0",
          "state": {
            "_view_name": "ProgressView",
            "style": "IPY_MODEL_92a248a8b2144d62b7b1a52f3fe2541b",
            "_dom_classes": [],
            "description": "",
            "_model_name": "FloatProgressModel",
            "bar_style": "success",
            "max": 1,
            "_view_module": "@jupyter-widgets/controls",
            "_model_module_version": "1.5.0",
            "value": 1,
            "_view_count": null,
            "_view_module_version": "1.5.0",
            "orientation": "horizontal",
            "min": 0,
            "description_tooltip": null,
            "_model_module": "@jupyter-widgets/controls",
            "layout": "IPY_MODEL_5530980921c4464caf3ce628ab338cb7"
          }
        },
        "34e3182ee4d74e8c9fd7f3281053ec55": {
          "model_module": "@jupyter-widgets/controls",
          "model_name": "HTMLModel",
          "model_module_version": "1.5.0",
          "state": {
            "_view_name": "HTMLView",
            "style": "IPY_MODEL_843b5129a3cd4fe8a6017ee2e605a684",
            "_dom_classes": [],
            "description": "",
            "_model_name": "HTMLModel",
            "placeholder": "​",
            "_view_module": "@jupyter-widgets/controls",
            "_model_module_version": "1.5.0",
            "value": " 1/1 [00:00&lt;00:00,  1.52it/s]",
            "_view_count": null,
            "_view_module_version": "1.5.0",
            "description_tooltip": null,
            "_model_module": "@jupyter-widgets/controls",
            "layout": "IPY_MODEL_aa0379ff38ab414ca3b54e7dff66ca65"
          }
        },
        "35870271d71042ae855be988055f6d71": {
          "model_module": "@jupyter-widgets/controls",
          "model_name": "DescriptionStyleModel",
          "model_module_version": "1.5.0",
          "state": {
            "_view_name": "StyleView",
            "_model_name": "DescriptionStyleModel",
            "description_width": "",
            "_view_module": "@jupyter-widgets/base",
            "_model_module_version": "1.5.0",
            "_view_count": null,
            "_view_module_version": "1.2.0",
            "_model_module": "@jupyter-widgets/controls"
          }
        },
        "57b652a311674cda96e5debf23a54b1b": {
          "model_module": "@jupyter-widgets/base",
          "model_name": "LayoutModel",
          "model_module_version": "1.2.0",
          "state": {
            "_view_name": "LayoutView",
            "grid_template_rows": null,
            "right": null,
            "justify_content": null,
            "_view_module": "@jupyter-widgets/base",
            "overflow": null,
            "_model_module_version": "1.2.0",
            "_view_count": null,
            "flex_flow": null,
            "width": null,
            "min_width": null,
            "border": null,
            "align_items": null,
            "bottom": null,
            "_model_module": "@jupyter-widgets/base",
            "top": null,
            "grid_column": null,
            "overflow_y": null,
            "overflow_x": null,
            "grid_auto_flow": null,
            "grid_area": null,
            "grid_template_columns": null,
            "flex": null,
            "_model_name": "LayoutModel",
            "justify_items": null,
            "grid_row": null,
            "max_height": null,
            "align_content": null,
            "visibility": null,
            "align_self": null,
            "height": null,
            "min_height": null,
            "padding": null,
            "grid_auto_rows": null,
            "grid_gap": null,
            "max_width": null,
            "order": null,
            "_view_module_version": "1.2.0",
            "grid_template_areas": null,
            "object_position": null,
            "object_fit": null,
            "grid_auto_columns": null,
            "margin": null,
            "display": null,
            "left": null
          }
        },
        "92a248a8b2144d62b7b1a52f3fe2541b": {
          "model_module": "@jupyter-widgets/controls",
          "model_name": "ProgressStyleModel",
          "model_module_version": "1.5.0",
          "state": {
            "_view_name": "StyleView",
            "_model_name": "ProgressStyleModel",
            "description_width": "",
            "_view_module": "@jupyter-widgets/base",
            "_model_module_version": "1.5.0",
            "_view_count": null,
            "_view_module_version": "1.2.0",
            "bar_color": null,
            "_model_module": "@jupyter-widgets/controls"
          }
        },
        "5530980921c4464caf3ce628ab338cb7": {
          "model_module": "@jupyter-widgets/base",
          "model_name": "LayoutModel",
          "model_module_version": "1.2.0",
          "state": {
            "_view_name": "LayoutView",
            "grid_template_rows": null,
            "right": null,
            "justify_content": null,
            "_view_module": "@jupyter-widgets/base",
            "overflow": null,
            "_model_module_version": "1.2.0",
            "_view_count": null,
            "flex_flow": null,
            "width": null,
            "min_width": null,
            "border": null,
            "align_items": null,
            "bottom": null,
            "_model_module": "@jupyter-widgets/base",
            "top": null,
            "grid_column": null,
            "overflow_y": null,
            "overflow_x": null,
            "grid_auto_flow": null,
            "grid_area": null,
            "grid_template_columns": null,
            "flex": null,
            "_model_name": "LayoutModel",
            "justify_items": null,
            "grid_row": null,
            "max_height": null,
            "align_content": null,
            "visibility": null,
            "align_self": null,
            "height": null,
            "min_height": null,
            "padding": null,
            "grid_auto_rows": null,
            "grid_gap": null,
            "max_width": null,
            "order": null,
            "_view_module_version": "1.2.0",
            "grid_template_areas": null,
            "object_position": null,
            "object_fit": null,
            "grid_auto_columns": null,
            "margin": null,
            "display": null,
            "left": null
          }
        },
        "843b5129a3cd4fe8a6017ee2e605a684": {
          "model_module": "@jupyter-widgets/controls",
          "model_name": "DescriptionStyleModel",
          "model_module_version": "1.5.0",
          "state": {
            "_view_name": "StyleView",
            "_model_name": "DescriptionStyleModel",
            "description_width": "",
            "_view_module": "@jupyter-widgets/base",
            "_model_module_version": "1.5.0",
            "_view_count": null,
            "_view_module_version": "1.2.0",
            "_model_module": "@jupyter-widgets/controls"
          }
        },
        "aa0379ff38ab414ca3b54e7dff66ca65": {
          "model_module": "@jupyter-widgets/base",
          "model_name": "LayoutModel",
          "model_module_version": "1.2.0",
          "state": {
            "_view_name": "LayoutView",
            "grid_template_rows": null,
            "right": null,
            "justify_content": null,
            "_view_module": "@jupyter-widgets/base",
            "overflow": null,
            "_model_module_version": "1.2.0",
            "_view_count": null,
            "flex_flow": null,
            "width": null,
            "min_width": null,
            "border": null,
            "align_items": null,
            "bottom": null,
            "_model_module": "@jupyter-widgets/base",
            "top": null,
            "grid_column": null,
            "overflow_y": null,
            "overflow_x": null,
            "grid_auto_flow": null,
            "grid_area": null,
            "grid_template_columns": null,
            "flex": null,
            "_model_name": "LayoutModel",
            "justify_items": null,
            "grid_row": null,
            "max_height": null,
            "align_content": null,
            "visibility": null,
            "align_self": null,
            "height": null,
            "min_height": null,
            "padding": null,
            "grid_auto_rows": null,
            "grid_gap": null,
            "max_width": null,
            "order": null,
            "_view_module_version": "1.2.0",
            "grid_template_areas": null,
            "object_position": null,
            "object_fit": null,
            "grid_auto_columns": null,
            "margin": null,
            "display": null,
            "left": null
          }
        },
        "ffdfb4255e2e4fd5845a8242fe71cf0c": {
          "model_module": "@jupyter-widgets/controls",
          "model_name": "HBoxModel",
          "model_module_version": "1.5.0",
          "state": {
            "_view_name": "HBoxView",
            "_dom_classes": [],
            "_model_name": "HBoxModel",
            "_view_module": "@jupyter-widgets/controls",
            "_model_module_version": "1.5.0",
            "_view_count": null,
            "_view_module_version": "1.5.0",
            "box_style": "",
            "layout": "IPY_MODEL_d75abdbc2381437786bad70c0d3d2c27",
            "_model_module": "@jupyter-widgets/controls",
            "children": [
              "IPY_MODEL_aa0af6138fc84656a9e254072d46ffe0",
              "IPY_MODEL_f928ed870227426baeb779274a6db25c",
              "IPY_MODEL_f1efb2da07604c6a91877ceafb73b699"
            ]
          }
        },
        "d75abdbc2381437786bad70c0d3d2c27": {
          "model_module": "@jupyter-widgets/base",
          "model_name": "LayoutModel",
          "model_module_version": "1.2.0",
          "state": {
            "_view_name": "LayoutView",
            "grid_template_rows": null,
            "right": null,
            "justify_content": null,
            "_view_module": "@jupyter-widgets/base",
            "overflow": null,
            "_model_module_version": "1.2.0",
            "_view_count": null,
            "flex_flow": "row wrap",
            "width": "100%",
            "min_width": null,
            "border": null,
            "align_items": null,
            "bottom": null,
            "_model_module": "@jupyter-widgets/base",
            "top": null,
            "grid_column": null,
            "overflow_y": null,
            "overflow_x": null,
            "grid_auto_flow": null,
            "grid_area": null,
            "grid_template_columns": null,
            "flex": null,
            "_model_name": "LayoutModel",
            "justify_items": null,
            "grid_row": null,
            "max_height": null,
            "align_content": null,
            "visibility": null,
            "align_self": null,
            "height": null,
            "min_height": null,
            "padding": null,
            "grid_auto_rows": null,
            "grid_gap": null,
            "max_width": null,
            "order": null,
            "_view_module_version": "1.2.0",
            "grid_template_areas": null,
            "object_position": null,
            "object_fit": null,
            "grid_auto_columns": null,
            "margin": null,
            "display": "inline-flex",
            "left": null
          }
        },
        "aa0af6138fc84656a9e254072d46ffe0": {
          "model_module": "@jupyter-widgets/controls",
          "model_name": "HTMLModel",
          "model_module_version": "1.5.0",
          "state": {
            "_view_name": "HTMLView",
            "style": "IPY_MODEL_a510311df3eb4620942340ee6df625a2",
            "_dom_classes": [],
            "description": "",
            "_model_name": "HTMLModel",
            "placeholder": "​",
            "_view_module": "@jupyter-widgets/controls",
            "_model_module_version": "1.5.0",
            "value": "Validation sanity check:   0%",
            "_view_count": null,
            "_view_module_version": "1.5.0",
            "description_tooltip": null,
            "_model_module": "@jupyter-widgets/controls",
            "layout": "IPY_MODEL_72764862f079460c9964bcddfb315076"
          }
        },
        "f928ed870227426baeb779274a6db25c": {
          "model_module": "@jupyter-widgets/controls",
          "model_name": "FloatProgressModel",
          "model_module_version": "1.5.0",
          "state": {
            "_view_name": "ProgressView",
            "style": "IPY_MODEL_36de6c59bc1c4614870f059bed6ba9c8",
            "_dom_classes": [],
            "description": "",
            "_model_name": "FloatProgressModel",
            "bar_style": "danger",
            "max": 2,
            "_view_module": "@jupyter-widgets/controls",
            "_model_module_version": "1.5.0",
            "value": 0,
            "_view_count": null,
            "_view_module_version": "1.5.0",
            "orientation": "horizontal",
            "min": 0,
            "description_tooltip": null,
            "_model_module": "@jupyter-widgets/controls",
            "layout": "IPY_MODEL_f4750bc9ad964fc4b29b3770169ae26a"
          }
        },
        "f1efb2da07604c6a91877ceafb73b699": {
          "model_module": "@jupyter-widgets/controls",
          "model_name": "HTMLModel",
          "model_module_version": "1.5.0",
          "state": {
            "_view_name": "HTMLView",
            "style": "IPY_MODEL_b840d524d6504f7181b6cfb6da311fe8",
            "_dom_classes": [],
            "description": "",
            "_model_name": "HTMLModel",
            "placeholder": "​",
            "_view_module": "@jupyter-widgets/controls",
            "_model_module_version": "1.5.0",
            "value": " 0/2 [00:02&lt;?, ?it/s]",
            "_view_count": null,
            "_view_module_version": "1.5.0",
            "description_tooltip": null,
            "_model_module": "@jupyter-widgets/controls",
            "layout": "IPY_MODEL_91b6c532fa0f455eb8876f9097cb6f2c"
          }
        },
        "a510311df3eb4620942340ee6df625a2": {
          "model_module": "@jupyter-widgets/controls",
          "model_name": "DescriptionStyleModel",
          "model_module_version": "1.5.0",
          "state": {
            "_view_name": "StyleView",
            "_model_name": "DescriptionStyleModel",
            "description_width": "",
            "_view_module": "@jupyter-widgets/base",
            "_model_module_version": "1.5.0",
            "_view_count": null,
            "_view_module_version": "1.2.0",
            "_model_module": "@jupyter-widgets/controls"
          }
        },
        "72764862f079460c9964bcddfb315076": {
          "model_module": "@jupyter-widgets/base",
          "model_name": "LayoutModel",
          "model_module_version": "1.2.0",
          "state": {
            "_view_name": "LayoutView",
            "grid_template_rows": null,
            "right": null,
            "justify_content": null,
            "_view_module": "@jupyter-widgets/base",
            "overflow": null,
            "_model_module_version": "1.2.0",
            "_view_count": null,
            "flex_flow": null,
            "width": null,
            "min_width": null,
            "border": null,
            "align_items": null,
            "bottom": null,
            "_model_module": "@jupyter-widgets/base",
            "top": null,
            "grid_column": null,
            "overflow_y": null,
            "overflow_x": null,
            "grid_auto_flow": null,
            "grid_area": null,
            "grid_template_columns": null,
            "flex": null,
            "_model_name": "LayoutModel",
            "justify_items": null,
            "grid_row": null,
            "max_height": null,
            "align_content": null,
            "visibility": null,
            "align_self": null,
            "height": null,
            "min_height": null,
            "padding": null,
            "grid_auto_rows": null,
            "grid_gap": null,
            "max_width": null,
            "order": null,
            "_view_module_version": "1.2.0",
            "grid_template_areas": null,
            "object_position": null,
            "object_fit": null,
            "grid_auto_columns": null,
            "margin": null,
            "display": null,
            "left": null
          }
        },
        "36de6c59bc1c4614870f059bed6ba9c8": {
          "model_module": "@jupyter-widgets/controls",
          "model_name": "ProgressStyleModel",
          "model_module_version": "1.5.0",
          "state": {
            "_view_name": "StyleView",
            "_model_name": "ProgressStyleModel",
            "description_width": "",
            "_view_module": "@jupyter-widgets/base",
            "_model_module_version": "1.5.0",
            "_view_count": null,
            "_view_module_version": "1.2.0",
            "bar_color": null,
            "_model_module": "@jupyter-widgets/controls"
          }
        },
        "f4750bc9ad964fc4b29b3770169ae26a": {
          "model_module": "@jupyter-widgets/base",
          "model_name": "LayoutModel",
          "model_module_version": "1.2.0",
          "state": {
            "_view_name": "LayoutView",
            "grid_template_rows": null,
            "right": null,
            "justify_content": null,
            "_view_module": "@jupyter-widgets/base",
            "overflow": null,
            "_model_module_version": "1.2.0",
            "_view_count": null,
            "flex_flow": null,
            "width": null,
            "min_width": null,
            "border": null,
            "align_items": null,
            "bottom": null,
            "_model_module": "@jupyter-widgets/base",
            "top": null,
            "grid_column": null,
            "overflow_y": null,
            "overflow_x": null,
            "grid_auto_flow": null,
            "grid_area": null,
            "grid_template_columns": null,
            "flex": "2",
            "_model_name": "LayoutModel",
            "justify_items": null,
            "grid_row": null,
            "max_height": null,
            "align_content": null,
            "visibility": null,
            "align_self": null,
            "height": null,
            "min_height": null,
            "padding": null,
            "grid_auto_rows": null,
            "grid_gap": null,
            "max_width": null,
            "order": null,
            "_view_module_version": "1.2.0",
            "grid_template_areas": null,
            "object_position": null,
            "object_fit": null,
            "grid_auto_columns": null,
            "margin": null,
            "display": null,
            "left": null
          }
        },
        "b840d524d6504f7181b6cfb6da311fe8": {
          "model_module": "@jupyter-widgets/controls",
          "model_name": "DescriptionStyleModel",
          "model_module_version": "1.5.0",
          "state": {
            "_view_name": "StyleView",
            "_model_name": "DescriptionStyleModel",
            "description_width": "",
            "_view_module": "@jupyter-widgets/base",
            "_model_module_version": "1.5.0",
            "_view_count": null,
            "_view_module_version": "1.2.0",
            "_model_module": "@jupyter-widgets/controls"
          }
        },
        "91b6c532fa0f455eb8876f9097cb6f2c": {
          "model_module": "@jupyter-widgets/base",
          "model_name": "LayoutModel",
          "model_module_version": "1.2.0",
          "state": {
            "_view_name": "LayoutView",
            "grid_template_rows": null,
            "right": null,
            "justify_content": null,
            "_view_module": "@jupyter-widgets/base",
            "overflow": null,
            "_model_module_version": "1.2.0",
            "_view_count": null,
            "flex_flow": null,
            "width": null,
            "min_width": null,
            "border": null,
            "align_items": null,
            "bottom": null,
            "_model_module": "@jupyter-widgets/base",
            "top": null,
            "grid_column": null,
            "overflow_y": null,
            "overflow_x": null,
            "grid_auto_flow": null,
            "grid_area": null,
            "grid_template_columns": null,
            "flex": null,
            "_model_name": "LayoutModel",
            "justify_items": null,
            "grid_row": null,
            "max_height": null,
            "align_content": null,
            "visibility": null,
            "align_self": null,
            "height": null,
            "min_height": null,
            "padding": null,
            "grid_auto_rows": null,
            "grid_gap": null,
            "max_width": null,
            "order": null,
            "_view_module_version": "1.2.0",
            "grid_template_areas": null,
            "object_position": null,
            "object_fit": null,
            "grid_auto_columns": null,
            "margin": null,
            "display": null,
            "left": null
          }
        },
        "fb50767c67b34410b1b1036842458d1f": {
          "model_module": "@jupyter-widgets/controls",
          "model_name": "HBoxModel",
          "model_module_version": "1.5.0",
          "state": {
            "_view_name": "HBoxView",
            "_dom_classes": [],
            "_model_name": "HBoxModel",
            "_view_module": "@jupyter-widgets/controls",
            "_model_module_version": "1.5.0",
            "_view_count": null,
            "_view_module_version": "1.5.0",
            "box_style": "",
            "layout": "IPY_MODEL_975a0ce7ed0a4efc810ac8cacfeb6bc6",
            "_model_module": "@jupyter-widgets/controls",
            "children": [
              "IPY_MODEL_17454fcd8aa0437db83a43d2762af769",
              "IPY_MODEL_e6cae573e04b4d61806b3e3a5bc50981",
              "IPY_MODEL_8546501503ff402b800adc9f0adb6feb"
            ]
          }
        },
        "975a0ce7ed0a4efc810ac8cacfeb6bc6": {
          "model_module": "@jupyter-widgets/base",
          "model_name": "LayoutModel",
          "model_module_version": "1.2.0",
          "state": {
            "_view_name": "LayoutView",
            "grid_template_rows": null,
            "right": null,
            "justify_content": null,
            "_view_module": "@jupyter-widgets/base",
            "overflow": null,
            "_model_module_version": "1.2.0",
            "_view_count": null,
            "flex_flow": "row wrap",
            "width": "100%",
            "min_width": null,
            "border": null,
            "align_items": null,
            "bottom": null,
            "_model_module": "@jupyter-widgets/base",
            "top": null,
            "grid_column": null,
            "overflow_y": null,
            "overflow_x": null,
            "grid_auto_flow": null,
            "grid_area": null,
            "grid_template_columns": null,
            "flex": null,
            "_model_name": "LayoutModel",
            "justify_items": null,
            "grid_row": null,
            "max_height": null,
            "align_content": null,
            "visibility": null,
            "align_self": null,
            "height": null,
            "min_height": null,
            "padding": null,
            "grid_auto_rows": null,
            "grid_gap": null,
            "max_width": null,
            "order": null,
            "_view_module_version": "1.2.0",
            "grid_template_areas": null,
            "object_position": null,
            "object_fit": null,
            "grid_auto_columns": null,
            "margin": null,
            "display": "inline-flex",
            "left": null
          }
        },
        "17454fcd8aa0437db83a43d2762af769": {
          "model_module": "@jupyter-widgets/controls",
          "model_name": "HTMLModel",
          "model_module_version": "1.5.0",
          "state": {
            "_view_name": "HTMLView",
            "style": "IPY_MODEL_1a9f8285354d421984b9f1955c481ab6",
            "_dom_classes": [],
            "description": "",
            "_model_name": "HTMLModel",
            "placeholder": "​",
            "_view_module": "@jupyter-widgets/controls",
            "_model_module_version": "1.5.0",
            "value": "Epoch 0: 100%",
            "_view_count": null,
            "_view_module_version": "1.5.0",
            "description_tooltip": null,
            "_model_module": "@jupyter-widgets/controls",
            "layout": "IPY_MODEL_8dd936ce70144ca89a1cb735b2d3c608"
          }
        },
        "e6cae573e04b4d61806b3e3a5bc50981": {
          "model_module": "@jupyter-widgets/controls",
          "model_name": "FloatProgressModel",
          "model_module_version": "1.5.0",
          "state": {
            "_view_name": "ProgressView",
            "style": "IPY_MODEL_f3e223536d1640a3a177afe72b2cff2e",
            "_dom_classes": [],
            "description": "",
            "_model_name": "FloatProgressModel",
            "bar_style": "success",
            "max": 7870,
            "_view_module": "@jupyter-widgets/controls",
            "_model_module_version": "1.5.0",
            "value": 7870,
            "_view_count": null,
            "_view_module_version": "1.5.0",
            "orientation": "horizontal",
            "min": 0,
            "description_tooltip": null,
            "_model_module": "@jupyter-widgets/controls",
            "layout": "IPY_MODEL_665ed20aa90e4f8fbd7e450dc2e593b7"
          }
        },
        "8546501503ff402b800adc9f0adb6feb": {
          "model_module": "@jupyter-widgets/controls",
          "model_name": "HTMLModel",
          "model_module_version": "1.5.0",
          "state": {
            "_view_name": "HTMLView",
            "style": "IPY_MODEL_d17e40f97a5a47ad93cffd3791e16003",
            "_dom_classes": [],
            "description": "",
            "_model_name": "HTMLModel",
            "placeholder": "​",
            "_view_module": "@jupyter-widgets/controls",
            "_model_module_version": "1.5.0",
            "value": " 7870/7870 [3:52:29&lt;00:00,  1.77s/it, loss=103, v_num=0]",
            "_view_count": null,
            "_view_module_version": "1.5.0",
            "description_tooltip": null,
            "_model_module": "@jupyter-widgets/controls",
            "layout": "IPY_MODEL_3a2c4a1401a04c1eb3b37ce7cbdd31c4"
          }
        },
        "1a9f8285354d421984b9f1955c481ab6": {
          "model_module": "@jupyter-widgets/controls",
          "model_name": "DescriptionStyleModel",
          "model_module_version": "1.5.0",
          "state": {
            "_view_name": "StyleView",
            "_model_name": "DescriptionStyleModel",
            "description_width": "",
            "_view_module": "@jupyter-widgets/base",
            "_model_module_version": "1.5.0",
            "_view_count": null,
            "_view_module_version": "1.2.0",
            "_model_module": "@jupyter-widgets/controls"
          }
        },
        "8dd936ce70144ca89a1cb735b2d3c608": {
          "model_module": "@jupyter-widgets/base",
          "model_name": "LayoutModel",
          "model_module_version": "1.2.0",
          "state": {
            "_view_name": "LayoutView",
            "grid_template_rows": null,
            "right": null,
            "justify_content": null,
            "_view_module": "@jupyter-widgets/base",
            "overflow": null,
            "_model_module_version": "1.2.0",
            "_view_count": null,
            "flex_flow": null,
            "width": null,
            "min_width": null,
            "border": null,
            "align_items": null,
            "bottom": null,
            "_model_module": "@jupyter-widgets/base",
            "top": null,
            "grid_column": null,
            "overflow_y": null,
            "overflow_x": null,
            "grid_auto_flow": null,
            "grid_area": null,
            "grid_template_columns": null,
            "flex": null,
            "_model_name": "LayoutModel",
            "justify_items": null,
            "grid_row": null,
            "max_height": null,
            "align_content": null,
            "visibility": null,
            "align_self": null,
            "height": null,
            "min_height": null,
            "padding": null,
            "grid_auto_rows": null,
            "grid_gap": null,
            "max_width": null,
            "order": null,
            "_view_module_version": "1.2.0",
            "grid_template_areas": null,
            "object_position": null,
            "object_fit": null,
            "grid_auto_columns": null,
            "margin": null,
            "display": null,
            "left": null
          }
        },
        "f3e223536d1640a3a177afe72b2cff2e": {
          "model_module": "@jupyter-widgets/controls",
          "model_name": "ProgressStyleModel",
          "model_module_version": "1.5.0",
          "state": {
            "_view_name": "StyleView",
            "_model_name": "ProgressStyleModel",
            "description_width": "",
            "_view_module": "@jupyter-widgets/base",
            "_model_module_version": "1.5.0",
            "_view_count": null,
            "_view_module_version": "1.2.0",
            "bar_color": null,
            "_model_module": "@jupyter-widgets/controls"
          }
        },
        "665ed20aa90e4f8fbd7e450dc2e593b7": {
          "model_module": "@jupyter-widgets/base",
          "model_name": "LayoutModel",
          "model_module_version": "1.2.0",
          "state": {
            "_view_name": "LayoutView",
            "grid_template_rows": null,
            "right": null,
            "justify_content": null,
            "_view_module": "@jupyter-widgets/base",
            "overflow": null,
            "_model_module_version": "1.2.0",
            "_view_count": null,
            "flex_flow": null,
            "width": null,
            "min_width": null,
            "border": null,
            "align_items": null,
            "bottom": null,
            "_model_module": "@jupyter-widgets/base",
            "top": null,
            "grid_column": null,
            "overflow_y": null,
            "overflow_x": null,
            "grid_auto_flow": null,
            "grid_area": null,
            "grid_template_columns": null,
            "flex": "2",
            "_model_name": "LayoutModel",
            "justify_items": null,
            "grid_row": null,
            "max_height": null,
            "align_content": null,
            "visibility": null,
            "align_self": null,
            "height": null,
            "min_height": null,
            "padding": null,
            "grid_auto_rows": null,
            "grid_gap": null,
            "max_width": null,
            "order": null,
            "_view_module_version": "1.2.0",
            "grid_template_areas": null,
            "object_position": null,
            "object_fit": null,
            "grid_auto_columns": null,
            "margin": null,
            "display": null,
            "left": null
          }
        },
        "d17e40f97a5a47ad93cffd3791e16003": {
          "model_module": "@jupyter-widgets/controls",
          "model_name": "DescriptionStyleModel",
          "model_module_version": "1.5.0",
          "state": {
            "_view_name": "StyleView",
            "_model_name": "DescriptionStyleModel",
            "description_width": "",
            "_view_module": "@jupyter-widgets/base",
            "_model_module_version": "1.5.0",
            "_view_count": null,
            "_view_module_version": "1.2.0",
            "_model_module": "@jupyter-widgets/controls"
          }
        },
        "3a2c4a1401a04c1eb3b37ce7cbdd31c4": {
          "model_module": "@jupyter-widgets/base",
          "model_name": "LayoutModel",
          "model_module_version": "1.2.0",
          "state": {
            "_view_name": "LayoutView",
            "grid_template_rows": null,
            "right": null,
            "justify_content": null,
            "_view_module": "@jupyter-widgets/base",
            "overflow": null,
            "_model_module_version": "1.2.0",
            "_view_count": null,
            "flex_flow": null,
            "width": null,
            "min_width": null,
            "border": null,
            "align_items": null,
            "bottom": null,
            "_model_module": "@jupyter-widgets/base",
            "top": null,
            "grid_column": null,
            "overflow_y": null,
            "overflow_x": null,
            "grid_auto_flow": null,
            "grid_area": null,
            "grid_template_columns": null,
            "flex": null,
            "_model_name": "LayoutModel",
            "justify_items": null,
            "grid_row": null,
            "max_height": null,
            "align_content": null,
            "visibility": null,
            "align_self": null,
            "height": null,
            "min_height": null,
            "padding": null,
            "grid_auto_rows": null,
            "grid_gap": null,
            "max_width": null,
            "order": null,
            "_view_module_version": "1.2.0",
            "grid_template_areas": null,
            "object_position": null,
            "object_fit": null,
            "grid_auto_columns": null,
            "margin": null,
            "display": null,
            "left": null
          }
        },
        "dae1d7f182464522aba48ad40ce04810": {
          "model_module": "@jupyter-widgets/controls",
          "model_name": "HBoxModel",
          "model_module_version": "1.5.0",
          "state": {
            "_view_name": "HBoxView",
            "_dom_classes": [],
            "_model_name": "HBoxModel",
            "_view_module": "@jupyter-widgets/controls",
            "_model_module_version": "1.5.0",
            "_view_count": null,
            "_view_module_version": "1.5.0",
            "box_style": "",
            "layout": "IPY_MODEL_de72b91135554b99af6d0e4685aed6d1",
            "_model_module": "@jupyter-widgets/controls",
            "children": [
              "IPY_MODEL_3b8db7076a1247e481e3d353ff5a0d16",
              "IPY_MODEL_28c228a51f144b27a737e9cda7c875ed",
              "IPY_MODEL_d1463a703f6a4cf290e7eb788d33ccf1"
            ]
          }
        },
        "de72b91135554b99af6d0e4685aed6d1": {
          "model_module": "@jupyter-widgets/base",
          "model_name": "LayoutModel",
          "model_module_version": "1.2.0",
          "state": {
            "_view_name": "LayoutView",
            "grid_template_rows": null,
            "right": null,
            "justify_content": null,
            "_view_module": "@jupyter-widgets/base",
            "overflow": null,
            "_model_module_version": "1.2.0",
            "_view_count": null,
            "flex_flow": "row wrap",
            "width": "100%",
            "min_width": null,
            "border": null,
            "align_items": null,
            "bottom": null,
            "_model_module": "@jupyter-widgets/base",
            "top": null,
            "grid_column": null,
            "overflow_y": null,
            "overflow_x": null,
            "grid_auto_flow": null,
            "grid_area": null,
            "grid_template_columns": null,
            "flex": null,
            "_model_name": "LayoutModel",
            "justify_items": null,
            "grid_row": null,
            "max_height": null,
            "align_content": null,
            "visibility": null,
            "align_self": null,
            "height": null,
            "min_height": null,
            "padding": null,
            "grid_auto_rows": null,
            "grid_gap": null,
            "max_width": null,
            "order": null,
            "_view_module_version": "1.2.0",
            "grid_template_areas": null,
            "object_position": null,
            "object_fit": null,
            "grid_auto_columns": null,
            "margin": null,
            "display": "inline-flex",
            "left": null
          }
        },
        "3b8db7076a1247e481e3d353ff5a0d16": {
          "model_module": "@jupyter-widgets/controls",
          "model_name": "HTMLModel",
          "model_module_version": "1.5.0",
          "state": {
            "_view_name": "HTMLView",
            "style": "IPY_MODEL_84e37a58f7ec4da9bb47050b6fd6b8d9",
            "_dom_classes": [],
            "description": "",
            "_model_name": "HTMLModel",
            "placeholder": "​",
            "_view_module": "@jupyter-widgets/controls",
            "_model_module_version": "1.5.0",
            "value": "Validating: 100%",
            "_view_count": null,
            "_view_module_version": "1.5.0",
            "description_tooltip": null,
            "_model_module": "@jupyter-widgets/controls",
            "layout": "IPY_MODEL_0bd1017307044a36bb63812f2d54f3a7"
          }
        },
        "28c228a51f144b27a737e9cda7c875ed": {
          "model_module": "@jupyter-widgets/controls",
          "model_name": "FloatProgressModel",
          "model_module_version": "1.5.0",
          "state": {
            "_view_name": "ProgressView",
            "style": "IPY_MODEL_2792a7c9baa3426cb8dac7ef982678f0",
            "_dom_classes": [],
            "description": "",
            "_model_name": "FloatProgressModel",
            "bar_style": "",
            "max": 120,
            "_view_module": "@jupyter-widgets/controls",
            "_model_module_version": "1.5.0",
            "value": 120,
            "_view_count": null,
            "_view_module_version": "1.5.0",
            "orientation": "horizontal",
            "min": 0,
            "description_tooltip": null,
            "_model_module": "@jupyter-widgets/controls",
            "layout": "IPY_MODEL_593a92df381d459b9c9e9ecde7d4b746"
          }
        },
        "d1463a703f6a4cf290e7eb788d33ccf1": {
          "model_module": "@jupyter-widgets/controls",
          "model_name": "HTMLModel",
          "model_module_version": "1.5.0",
          "state": {
            "_view_name": "HTMLView",
            "style": "IPY_MODEL_1a56553fc6754113af27cd6da0f8f97d",
            "_dom_classes": [],
            "description": "",
            "_model_name": "HTMLModel",
            "placeholder": "​",
            "_view_module": "@jupyter-widgets/controls",
            "_model_module_version": "1.5.0",
            "value": " 120/120 [00:41&lt;00:00,  3.05it/s]",
            "_view_count": null,
            "_view_module_version": "1.5.0",
            "description_tooltip": null,
            "_model_module": "@jupyter-widgets/controls",
            "layout": "IPY_MODEL_8dff796b6f6e4437989ee2c63021b069"
          }
        },
        "84e37a58f7ec4da9bb47050b6fd6b8d9": {
          "model_module": "@jupyter-widgets/controls",
          "model_name": "DescriptionStyleModel",
          "model_module_version": "1.5.0",
          "state": {
            "_view_name": "StyleView",
            "_model_name": "DescriptionStyleModel",
            "description_width": "",
            "_view_module": "@jupyter-widgets/base",
            "_model_module_version": "1.5.0",
            "_view_count": null,
            "_view_module_version": "1.2.0",
            "_model_module": "@jupyter-widgets/controls"
          }
        },
        "0bd1017307044a36bb63812f2d54f3a7": {
          "model_module": "@jupyter-widgets/base",
          "model_name": "LayoutModel",
          "model_module_version": "1.2.0",
          "state": {
            "_view_name": "LayoutView",
            "grid_template_rows": null,
            "right": null,
            "justify_content": null,
            "_view_module": "@jupyter-widgets/base",
            "overflow": null,
            "_model_module_version": "1.2.0",
            "_view_count": null,
            "flex_flow": null,
            "width": null,
            "min_width": null,
            "border": null,
            "align_items": null,
            "bottom": null,
            "_model_module": "@jupyter-widgets/base",
            "top": null,
            "grid_column": null,
            "overflow_y": null,
            "overflow_x": null,
            "grid_auto_flow": null,
            "grid_area": null,
            "grid_template_columns": null,
            "flex": null,
            "_model_name": "LayoutModel",
            "justify_items": null,
            "grid_row": null,
            "max_height": null,
            "align_content": null,
            "visibility": null,
            "align_self": null,
            "height": null,
            "min_height": null,
            "padding": null,
            "grid_auto_rows": null,
            "grid_gap": null,
            "max_width": null,
            "order": null,
            "_view_module_version": "1.2.0",
            "grid_template_areas": null,
            "object_position": null,
            "object_fit": null,
            "grid_auto_columns": null,
            "margin": null,
            "display": null,
            "left": null
          }
        },
        "2792a7c9baa3426cb8dac7ef982678f0": {
          "model_module": "@jupyter-widgets/controls",
          "model_name": "ProgressStyleModel",
          "model_module_version": "1.5.0",
          "state": {
            "_view_name": "StyleView",
            "_model_name": "ProgressStyleModel",
            "description_width": "",
            "_view_module": "@jupyter-widgets/base",
            "_model_module_version": "1.5.0",
            "_view_count": null,
            "_view_module_version": "1.2.0",
            "bar_color": null,
            "_model_module": "@jupyter-widgets/controls"
          }
        },
        "593a92df381d459b9c9e9ecde7d4b746": {
          "model_module": "@jupyter-widgets/base",
          "model_name": "LayoutModel",
          "model_module_version": "1.2.0",
          "state": {
            "_view_name": "LayoutView",
            "grid_template_rows": null,
            "right": null,
            "justify_content": null,
            "_view_module": "@jupyter-widgets/base",
            "overflow": null,
            "_model_module_version": "1.2.0",
            "_view_count": null,
            "flex_flow": null,
            "width": null,
            "min_width": null,
            "border": null,
            "align_items": null,
            "bottom": null,
            "_model_module": "@jupyter-widgets/base",
            "top": null,
            "grid_column": null,
            "overflow_y": null,
            "overflow_x": null,
            "grid_auto_flow": null,
            "grid_area": null,
            "grid_template_columns": null,
            "flex": "2",
            "_model_name": "LayoutModel",
            "justify_items": null,
            "grid_row": null,
            "max_height": null,
            "align_content": null,
            "visibility": null,
            "align_self": null,
            "height": null,
            "min_height": null,
            "padding": null,
            "grid_auto_rows": null,
            "grid_gap": null,
            "max_width": null,
            "order": null,
            "_view_module_version": "1.2.0",
            "grid_template_areas": null,
            "object_position": null,
            "object_fit": null,
            "grid_auto_columns": null,
            "margin": null,
            "display": null,
            "left": null
          }
        },
        "1a56553fc6754113af27cd6da0f8f97d": {
          "model_module": "@jupyter-widgets/controls",
          "model_name": "DescriptionStyleModel",
          "model_module_version": "1.5.0",
          "state": {
            "_view_name": "StyleView",
            "_model_name": "DescriptionStyleModel",
            "description_width": "",
            "_view_module": "@jupyter-widgets/base",
            "_model_module_version": "1.5.0",
            "_view_count": null,
            "_view_module_version": "1.2.0",
            "_model_module": "@jupyter-widgets/controls"
          }
        },
        "8dff796b6f6e4437989ee2c63021b069": {
          "model_module": "@jupyter-widgets/base",
          "model_name": "LayoutModel",
          "model_module_version": "1.2.0",
          "state": {
            "_view_name": "LayoutView",
            "grid_template_rows": null,
            "right": null,
            "justify_content": null,
            "_view_module": "@jupyter-widgets/base",
            "overflow": null,
            "_model_module_version": "1.2.0",
            "_view_count": null,
            "flex_flow": null,
            "width": null,
            "min_width": null,
            "border": null,
            "align_items": null,
            "bottom": null,
            "_model_module": "@jupyter-widgets/base",
            "top": null,
            "grid_column": null,
            "overflow_y": null,
            "overflow_x": null,
            "grid_auto_flow": null,
            "grid_area": null,
            "grid_template_columns": null,
            "flex": null,
            "_model_name": "LayoutModel",
            "justify_items": null,
            "grid_row": null,
            "max_height": null,
            "align_content": null,
            "visibility": null,
            "align_self": null,
            "height": null,
            "min_height": null,
            "padding": null,
            "grid_auto_rows": null,
            "grid_gap": null,
            "max_width": null,
            "order": null,
            "_view_module_version": "1.2.0",
            "grid_template_areas": null,
            "object_position": null,
            "object_fit": null,
            "grid_auto_columns": null,
            "margin": null,
            "display": null,
            "left": null
          }
        },
        "973189c3820f46408c3e47a78d4e4acd": {
          "model_module": "@jupyter-widgets/controls",
          "model_name": "HBoxModel",
          "model_module_version": "1.5.0",
          "state": {
            "_view_name": "HBoxView",
            "_dom_classes": [],
            "_model_name": "HBoxModel",
            "_view_module": "@jupyter-widgets/controls",
            "_model_module_version": "1.5.0",
            "_view_count": null,
            "_view_module_version": "1.5.0",
            "box_style": "",
            "layout": "IPY_MODEL_f81ddff1b70c4027883c794902a38a22",
            "_model_module": "@jupyter-widgets/controls",
            "children": [
              "IPY_MODEL_c0718826441649d582cf79f190e521a9",
              "IPY_MODEL_5f2373ed7cdd48e7ad42addc51dc7598",
              "IPY_MODEL_d1e307df0c6045d194733b343dbf0170"
            ]
          }
        },
        "f81ddff1b70c4027883c794902a38a22": {
          "model_module": "@jupyter-widgets/base",
          "model_name": "LayoutModel",
          "model_module_version": "1.2.0",
          "state": {
            "_view_name": "LayoutView",
            "grid_template_rows": null,
            "right": null,
            "justify_content": null,
            "_view_module": "@jupyter-widgets/base",
            "overflow": null,
            "_model_module_version": "1.2.0",
            "_view_count": null,
            "flex_flow": null,
            "width": null,
            "min_width": null,
            "border": null,
            "align_items": null,
            "bottom": null,
            "_model_module": "@jupyter-widgets/base",
            "top": null,
            "grid_column": null,
            "overflow_y": null,
            "overflow_x": null,
            "grid_auto_flow": null,
            "grid_area": null,
            "grid_template_columns": null,
            "flex": null,
            "_model_name": "LayoutModel",
            "justify_items": null,
            "grid_row": null,
            "max_height": null,
            "align_content": null,
            "visibility": null,
            "align_self": null,
            "height": null,
            "min_height": null,
            "padding": null,
            "grid_auto_rows": null,
            "grid_gap": null,
            "max_width": null,
            "order": null,
            "_view_module_version": "1.2.0",
            "grid_template_areas": null,
            "object_position": null,
            "object_fit": null,
            "grid_auto_columns": null,
            "margin": null,
            "display": null,
            "left": null
          }
        },
        "c0718826441649d582cf79f190e521a9": {
          "model_module": "@jupyter-widgets/controls",
          "model_name": "HTMLModel",
          "model_module_version": "1.5.0",
          "state": {
            "_view_name": "HTMLView",
            "style": "IPY_MODEL_7951b2c06cc94267a1c6c1c11f8cb063",
            "_dom_classes": [],
            "description": "",
            "_model_name": "HTMLModel",
            "placeholder": "​",
            "_view_module": "@jupyter-widgets/controls",
            "_model_module_version": "1.5.0",
            "value": "Transcribing: 100%",
            "_view_count": null,
            "_view_module_version": "1.5.0",
            "description_tooltip": null,
            "_model_module": "@jupyter-widgets/controls",
            "layout": "IPY_MODEL_1b3788b89c154ca5a8348187e3b2f16e"
          }
        },
        "5f2373ed7cdd48e7ad42addc51dc7598": {
          "model_module": "@jupyter-widgets/controls",
          "model_name": "FloatProgressModel",
          "model_module_version": "1.5.0",
          "state": {
            "_view_name": "ProgressView",
            "style": "IPY_MODEL_889483a50d9247bb94d924e008b7203b",
            "_dom_classes": [],
            "description": "",
            "_model_name": "FloatProgressModel",
            "bar_style": "success",
            "max": 1,
            "_view_module": "@jupyter-widgets/controls",
            "_model_module_version": "1.5.0",
            "value": 1,
            "_view_count": null,
            "_view_module_version": "1.5.0",
            "orientation": "horizontal",
            "min": 0,
            "description_tooltip": null,
            "_model_module": "@jupyter-widgets/controls",
            "layout": "IPY_MODEL_b0c901f084244f33b4a109636b074b00"
          }
        },
        "d1e307df0c6045d194733b343dbf0170": {
          "model_module": "@jupyter-widgets/controls",
          "model_name": "HTMLModel",
          "model_module_version": "1.5.0",
          "state": {
            "_view_name": "HTMLView",
            "style": "IPY_MODEL_3732ae052dbe4c3a9037113489ddd9ec",
            "_dom_classes": [],
            "description": "",
            "_model_name": "HTMLModel",
            "placeholder": "​",
            "_view_module": "@jupyter-widgets/controls",
            "_model_module_version": "1.5.0",
            "value": " 1/1 [00:01&lt;00:00,  1.64s/it]",
            "_view_count": null,
            "_view_module_version": "1.5.0",
            "description_tooltip": null,
            "_model_module": "@jupyter-widgets/controls",
            "layout": "IPY_MODEL_4f1925c7c82f402690e058b69eb89120"
          }
        },
        "7951b2c06cc94267a1c6c1c11f8cb063": {
          "model_module": "@jupyter-widgets/controls",
          "model_name": "DescriptionStyleModel",
          "model_module_version": "1.5.0",
          "state": {
            "_view_name": "StyleView",
            "_model_name": "DescriptionStyleModel",
            "description_width": "",
            "_view_module": "@jupyter-widgets/base",
            "_model_module_version": "1.5.0",
            "_view_count": null,
            "_view_module_version": "1.2.0",
            "_model_module": "@jupyter-widgets/controls"
          }
        },
        "1b3788b89c154ca5a8348187e3b2f16e": {
          "model_module": "@jupyter-widgets/base",
          "model_name": "LayoutModel",
          "model_module_version": "1.2.0",
          "state": {
            "_view_name": "LayoutView",
            "grid_template_rows": null,
            "right": null,
            "justify_content": null,
            "_view_module": "@jupyter-widgets/base",
            "overflow": null,
            "_model_module_version": "1.2.0",
            "_view_count": null,
            "flex_flow": null,
            "width": null,
            "min_width": null,
            "border": null,
            "align_items": null,
            "bottom": null,
            "_model_module": "@jupyter-widgets/base",
            "top": null,
            "grid_column": null,
            "overflow_y": null,
            "overflow_x": null,
            "grid_auto_flow": null,
            "grid_area": null,
            "grid_template_columns": null,
            "flex": null,
            "_model_name": "LayoutModel",
            "justify_items": null,
            "grid_row": null,
            "max_height": null,
            "align_content": null,
            "visibility": null,
            "align_self": null,
            "height": null,
            "min_height": null,
            "padding": null,
            "grid_auto_rows": null,
            "grid_gap": null,
            "max_width": null,
            "order": null,
            "_view_module_version": "1.2.0",
            "grid_template_areas": null,
            "object_position": null,
            "object_fit": null,
            "grid_auto_columns": null,
            "margin": null,
            "display": null,
            "left": null
          }
        },
        "889483a50d9247bb94d924e008b7203b": {
          "model_module": "@jupyter-widgets/controls",
          "model_name": "ProgressStyleModel",
          "model_module_version": "1.5.0",
          "state": {
            "_view_name": "StyleView",
            "_model_name": "ProgressStyleModel",
            "description_width": "",
            "_view_module": "@jupyter-widgets/base",
            "_model_module_version": "1.5.0",
            "_view_count": null,
            "_view_module_version": "1.2.0",
            "bar_color": null,
            "_model_module": "@jupyter-widgets/controls"
          }
        },
        "b0c901f084244f33b4a109636b074b00": {
          "model_module": "@jupyter-widgets/base",
          "model_name": "LayoutModel",
          "model_module_version": "1.2.0",
          "state": {
            "_view_name": "LayoutView",
            "grid_template_rows": null,
            "right": null,
            "justify_content": null,
            "_view_module": "@jupyter-widgets/base",
            "overflow": null,
            "_model_module_version": "1.2.0",
            "_view_count": null,
            "flex_flow": null,
            "width": null,
            "min_width": null,
            "border": null,
            "align_items": null,
            "bottom": null,
            "_model_module": "@jupyter-widgets/base",
            "top": null,
            "grid_column": null,
            "overflow_y": null,
            "overflow_x": null,
            "grid_auto_flow": null,
            "grid_area": null,
            "grid_template_columns": null,
            "flex": null,
            "_model_name": "LayoutModel",
            "justify_items": null,
            "grid_row": null,
            "max_height": null,
            "align_content": null,
            "visibility": null,
            "align_self": null,
            "height": null,
            "min_height": null,
            "padding": null,
            "grid_auto_rows": null,
            "grid_gap": null,
            "max_width": null,
            "order": null,
            "_view_module_version": "1.2.0",
            "grid_template_areas": null,
            "object_position": null,
            "object_fit": null,
            "grid_auto_columns": null,
            "margin": null,
            "display": null,
            "left": null
          }
        },
        "3732ae052dbe4c3a9037113489ddd9ec": {
          "model_module": "@jupyter-widgets/controls",
          "model_name": "DescriptionStyleModel",
          "model_module_version": "1.5.0",
          "state": {
            "_view_name": "StyleView",
            "_model_name": "DescriptionStyleModel",
            "description_width": "",
            "_view_module": "@jupyter-widgets/base",
            "_model_module_version": "1.5.0",
            "_view_count": null,
            "_view_module_version": "1.2.0",
            "_model_module": "@jupyter-widgets/controls"
          }
        },
        "4f1925c7c82f402690e058b69eb89120": {
          "model_module": "@jupyter-widgets/base",
          "model_name": "LayoutModel",
          "model_module_version": "1.2.0",
          "state": {
            "_view_name": "LayoutView",
            "grid_template_rows": null,
            "right": null,
            "justify_content": null,
            "_view_module": "@jupyter-widgets/base",
            "overflow": null,
            "_model_module_version": "1.2.0",
            "_view_count": null,
            "flex_flow": null,
            "width": null,
            "min_width": null,
            "border": null,
            "align_items": null,
            "bottom": null,
            "_model_module": "@jupyter-widgets/base",
            "top": null,
            "grid_column": null,
            "overflow_y": null,
            "overflow_x": null,
            "grid_auto_flow": null,
            "grid_area": null,
            "grid_template_columns": null,
            "flex": null,
            "_model_name": "LayoutModel",
            "justify_items": null,
            "grid_row": null,
            "max_height": null,
            "align_content": null,
            "visibility": null,
            "align_self": null,
            "height": null,
            "min_height": null,
            "padding": null,
            "grid_auto_rows": null,
            "grid_gap": null,
            "max_width": null,
            "order": null,
            "_view_module_version": "1.2.0",
            "grid_template_areas": null,
            "object_position": null,
            "object_fit": null,
            "grid_auto_columns": null,
            "margin": null,
            "display": null,
            "left": null
          }
        }
      }
    }
  },
  "cells": [
    {
      "cell_type": "code",
      "metadata": {
        "id": "lJz6FDU1lRzc",
        "colab": {
          "base_uri": "https://localhost:8080/",
          "height": 1000
        },
        "outputId": "bcf76018-0512-4b7c-9609-b1c74c0bb4a7"
      },
      "source": [
        "# If you're using Google Colab and not running locally, run this cell.\n",
        "\n",
        "## Install dependencies\n",
        "!pip install wget\n",
        "!apt-get install sox libsndfile1 ffmpeg\n",
        "!pip install unidecode\n",
        "\n",
        "\n",
        "## Install NeMo\n",
        "!python -m pip install nemo_toolkit[all]\n",
        "\n",
        "# !pip install torchtext==0.10.1\n",
        "# !pip install matplotlib==3.1.3\n",
        "\"\"\"\n",
        "Remember to restart the runtime for the kernel to pick up any upgraded packages (e.g. matplotlib)!\n",
        "Alternatively, you can uncomment the exit() below to crash and restart the kernel, in the case\n",
        "that you want to use the \"Run All Cells\" (or similar) option.\n",
        "\"\"\"\n",
        "#exit()"
      ],
      "execution_count": 1,
      "outputs": [
        {
          "output_type": "stream",
          "name": "stdout",
          "text": [
            "Collecting wget\n",
            "  Downloading wget-3.2.zip (10 kB)\n",
            "Building wheels for collected packages: wget\n",
            "  Building wheel for wget (setup.py) ... \u001b[?25l\u001b[?25hdone\n",
            "  Created wheel for wget: filename=wget-3.2-py3-none-any.whl size=9672 sha256=fffe45d82dcdb41834179224a2a842390e6569d12a515d1322589506e83225b6\n",
            "  Stored in directory: /root/.cache/pip/wheels/a1/b6/7c/0e63e34eb06634181c63adacca38b79ff8f35c37e3c13e3c02\n",
            "Successfully built wget\n",
            "Installing collected packages: wget\n",
            "Successfully installed wget-3.2\n",
            "Reading package lists... Done\n",
            "Building dependency tree       \n",
            "Reading state information... Done\n",
            "libsndfile1 is already the newest version (1.0.28-4ubuntu0.18.04.2).\n",
            "ffmpeg is already the newest version (7:3.4.8-0ubuntu0.2).\n",
            "The following additional packages will be installed:\n",
            "  libmagic-mgc libmagic1 libopencore-amrnb0 libopencore-amrwb0 libsox-fmt-alsa\n",
            "  libsox-fmt-base libsox3\n",
            "Suggested packages:\n",
            "  file libsox-fmt-all\n",
            "The following NEW packages will be installed:\n",
            "  libmagic-mgc libmagic1 libopencore-amrnb0 libopencore-amrwb0 libsox-fmt-alsa\n",
            "  libsox-fmt-base libsox3 sox\n",
            "0 upgraded, 8 newly installed, 0 to remove and 37 not upgraded.\n",
            "Need to get 760 kB of archives.\n",
            "After this operation, 6,717 kB of additional disk space will be used.\n",
            "Get:1 http://archive.ubuntu.com/ubuntu bionic/universe amd64 libopencore-amrnb0 amd64 0.1.3-2.1 [92.0 kB]\n",
            "Get:2 http://archive.ubuntu.com/ubuntu bionic/universe amd64 libopencore-amrwb0 amd64 0.1.3-2.1 [45.8 kB]\n",
            "Get:3 http://archive.ubuntu.com/ubuntu bionic-updates/main amd64 libmagic-mgc amd64 1:5.32-2ubuntu0.4 [184 kB]\n",
            "Get:4 http://archive.ubuntu.com/ubuntu bionic-updates/main amd64 libmagic1 amd64 1:5.32-2ubuntu0.4 [68.6 kB]\n",
            "Get:5 http://archive.ubuntu.com/ubuntu bionic-updates/universe amd64 libsox3 amd64 14.4.2-3ubuntu0.18.04.1 [226 kB]\n",
            "Get:6 http://archive.ubuntu.com/ubuntu bionic-updates/universe amd64 libsox-fmt-alsa amd64 14.4.2-3ubuntu0.18.04.1 [10.6 kB]\n",
            "Get:7 http://archive.ubuntu.com/ubuntu bionic-updates/universe amd64 libsox-fmt-base amd64 14.4.2-3ubuntu0.18.04.1 [32.1 kB]\n",
            "Get:8 http://archive.ubuntu.com/ubuntu bionic-updates/universe amd64 sox amd64 14.4.2-3ubuntu0.18.04.1 [101 kB]\n",
            "Fetched 760 kB in 1s (663 kB/s)\n",
            "Selecting previously unselected package libopencore-amrnb0:amd64.\n",
            "(Reading database ... 155222 files and directories currently installed.)\n",
            "Preparing to unpack .../0-libopencore-amrnb0_0.1.3-2.1_amd64.deb ...\n",
            "Unpacking libopencore-amrnb0:amd64 (0.1.3-2.1) ...\n",
            "Selecting previously unselected package libopencore-amrwb0:amd64.\n",
            "Preparing to unpack .../1-libopencore-amrwb0_0.1.3-2.1_amd64.deb ...\n",
            "Unpacking libopencore-amrwb0:amd64 (0.1.3-2.1) ...\n",
            "Selecting previously unselected package libmagic-mgc.\n",
            "Preparing to unpack .../2-libmagic-mgc_1%3a5.32-2ubuntu0.4_amd64.deb ...\n",
            "Unpacking libmagic-mgc (1:5.32-2ubuntu0.4) ...\n",
            "Selecting previously unselected package libmagic1:amd64.\n",
            "Preparing to unpack .../3-libmagic1_1%3a5.32-2ubuntu0.4_amd64.deb ...\n",
            "Unpacking libmagic1:amd64 (1:5.32-2ubuntu0.4) ...\n",
            "Selecting previously unselected package libsox3:amd64.\n",
            "Preparing to unpack .../4-libsox3_14.4.2-3ubuntu0.18.04.1_amd64.deb ...\n",
            "Unpacking libsox3:amd64 (14.4.2-3ubuntu0.18.04.1) ...\n",
            "Selecting previously unselected package libsox-fmt-alsa:amd64.\n",
            "Preparing to unpack .../5-libsox-fmt-alsa_14.4.2-3ubuntu0.18.04.1_amd64.deb ...\n",
            "Unpacking libsox-fmt-alsa:amd64 (14.4.2-3ubuntu0.18.04.1) ...\n",
            "Selecting previously unselected package libsox-fmt-base:amd64.\n",
            "Preparing to unpack .../6-libsox-fmt-base_14.4.2-3ubuntu0.18.04.1_amd64.deb ...\n",
            "Unpacking libsox-fmt-base:amd64 (14.4.2-3ubuntu0.18.04.1) ...\n",
            "Selecting previously unselected package sox.\n",
            "Preparing to unpack .../7-sox_14.4.2-3ubuntu0.18.04.1_amd64.deb ...\n",
            "Unpacking sox (14.4.2-3ubuntu0.18.04.1) ...\n",
            "Setting up libmagic-mgc (1:5.32-2ubuntu0.4) ...\n",
            "Setting up libmagic1:amd64 (1:5.32-2ubuntu0.4) ...\n",
            "Setting up libopencore-amrnb0:amd64 (0.1.3-2.1) ...\n",
            "Setting up libopencore-amrwb0:amd64 (0.1.3-2.1) ...\n",
            "Setting up libsox3:amd64 (14.4.2-3ubuntu0.18.04.1) ...\n",
            "Setting up libsox-fmt-base:amd64 (14.4.2-3ubuntu0.18.04.1) ...\n",
            "Setting up libsox-fmt-alsa:amd64 (14.4.2-3ubuntu0.18.04.1) ...\n",
            "Setting up sox (14.4.2-3ubuntu0.18.04.1) ...\n",
            "Processing triggers for libc-bin (2.27-3ubuntu1.3) ...\n",
            "/sbin/ldconfig.real: /usr/local/lib/python3.7/dist-packages/ideep4py/lib/libmkldnn.so.0 is not a symbolic link\n",
            "\n",
            "Processing triggers for man-db (2.8.3-2ubuntu0.1) ...\n",
            "Processing triggers for mime-support (3.60ubuntu1) ...\n",
            "Collecting unidecode\n",
            "  Downloading Unidecode-1.3.2-py3-none-any.whl (235 kB)\n",
            "\u001b[K     |████████████████████████████████| 235 kB 5.2 MB/s \n",
            "\u001b[?25hInstalling collected packages: unidecode\n",
            "Successfully installed unidecode-1.3.2\n",
            "Collecting nemo_toolkit[all]\n",
            "  Downloading nemo_toolkit-1.5.0-py3-none-any.whl (2.7 MB)\n",
            "\u001b[K     |████████████████████████████████| 2.7 MB 5.4 MB/s \n",
            "\u001b[?25hCollecting ruamel.yaml\n",
            "  Downloading ruamel.yaml-0.17.17-py3-none-any.whl (109 kB)\n",
            "\u001b[K     |████████████████████████████████| 109 kB 45.7 MB/s \n",
            "\u001b[?25hCollecting sentencepiece<1.0.0\n",
            "  Downloading sentencepiece-0.1.96-cp37-cp37m-manylinux_2_17_x86_64.manylinux2014_x86_64.whl (1.2 MB)\n",
            "\u001b[K     |████████████████████████████████| 1.2 MB 37.5 MB/s \n",
            "\u001b[?25hRequirement already satisfied: tqdm>=4.41.0 in /usr/local/lib/python3.7/dist-packages (from nemo_toolkit[all]) (4.62.3)\n",
            "Requirement already satisfied: wrapt in /usr/local/lib/python3.7/dist-packages (from nemo_toolkit[all]) (1.13.3)\n",
            "Requirement already satisfied: numpy>=1.18.2 in /usr/local/lib/python3.7/dist-packages (from nemo_toolkit[all]) (1.19.5)\n",
            "Requirement already satisfied: wget in /usr/local/lib/python3.7/dist-packages (from nemo_toolkit[all]) (3.2)\n",
            "Requirement already satisfied: scikit-learn in /usr/local/lib/python3.7/dist-packages (from nemo_toolkit[all]) (1.0.1)\n",
            "Collecting onnx>=1.7.0\n",
            "  Downloading onnx-1.10.2-cp37-cp37m-manylinux_2_12_x86_64.manylinux2010_x86_64.whl (12.7 MB)\n",
            "\u001b[K     |████████████████████████████████| 12.7 MB 31.0 MB/s \n",
            "\u001b[?25hRequirement already satisfied: python-dateutil in /usr/local/lib/python3.7/dist-packages (from nemo_toolkit[all]) (2.8.2)\n",
            "Requirement already satisfied: numba in /usr/local/lib/python3.7/dist-packages (from nemo_toolkit[all]) (0.51.2)\n",
            "Requirement already satisfied: torch in /usr/local/lib/python3.7/dist-packages (from nemo_toolkit[all]) (1.10.0+cu111)\n",
            "Requirement already satisfied: unidecode in /usr/local/lib/python3.7/dist-packages (from nemo_toolkit[all]) (1.3.2)\n",
            "Collecting frozendict\n",
            "  Downloading frozendict-2.1.1-py3-none-any.whl (12 kB)\n",
            "Collecting youtokentome>=1.0.5\n",
            "  Downloading youtokentome-1.0.6-cp37-cp37m-manylinux2010_x86_64.whl (1.7 MB)\n",
            "\u001b[K     |████████████████████████████████| 1.7 MB 37.5 MB/s \n",
            "\u001b[?25hCollecting torch-stft\n",
            "  Downloading torch_stft-0.1.4-py3-none-any.whl (6.2 kB)\n",
            "Requirement already satisfied: librosa in /usr/local/lib/python3.7/dist-packages (from nemo_toolkit[all]) (0.8.1)\n",
            "Requirement already satisfied: regex in /usr/local/lib/python3.7/dist-packages (from nemo_toolkit[all]) (2019.12.20)\n",
            "Collecting pesq\n",
            "  Downloading pesq-0.0.3.tar.gz (35 kB)\n",
            "Collecting attrdict\n",
            "  Downloading attrdict-2.0.1-py2.py3-none-any.whl (9.9 kB)\n",
            "Collecting kaldiio\n",
            "  Downloading kaldiio-2.17.2.tar.gz (24 kB)\n",
            "Requirement already satisfied: gdown in /usr/local/lib/python3.7/dist-packages (from nemo_toolkit[all]) (3.6.4)\n",
            "Collecting sacremoses>=0.0.43\n",
            "  Downloading sacremoses-0.0.46-py3-none-any.whl (895 kB)\n",
            "\u001b[K     |████████████████████████████████| 895 kB 36.8 MB/s \n",
            "\u001b[?25hRequirement already satisfied: pytest in /usr/local/lib/python3.7/dist-packages (from nemo_toolkit[all]) (3.6.4)\n",
            "Collecting pypinyin\n",
            "  Downloading pypinyin-0.44.0-py2.py3-none-any.whl (1.3 MB)\n",
            "\u001b[K     |████████████████████████████████| 1.3 MB 47.9 MB/s \n",
            "\u001b[?25hCollecting kaldi-io\n",
            "  Downloading kaldi_io-0.9.4-py3-none-any.whl (14 kB)\n",
            "Requirement already satisfied: sphinx in /usr/local/lib/python3.7/dist-packages (from nemo_toolkit[all]) (1.8.6)\n",
            "Collecting matplotlib>=3.3.2\n",
            "  Downloading matplotlib-3.5.0-cp37-cp37m-manylinux_2_5_x86_64.manylinux1_x86_64.whl (11.2 MB)\n",
            "\u001b[K     |████████████████████████████████| 11.2 MB 38.9 MB/s \n",
            "\u001b[?25hRequirement already satisfied: nltk in /usr/local/lib/python3.7/dist-packages (from nemo_toolkit[all]) (3.2.5)\n",
            "Requirement already satisfied: jieba in /usr/local/lib/python3.7/dist-packages (from nemo_toolkit[all]) (0.42.1)\n",
            "Collecting marshmallow\n",
            "  Downloading marshmallow-3.14.1-py3-none-any.whl (47 kB)\n",
            "\u001b[K     |████████████████████████████████| 47 kB 4.5 MB/s \n",
            "\u001b[?25hCollecting sphinxcontrib-bibtex\n",
            "  Downloading sphinxcontrib_bibtex-2.4.1-py3-none-any.whl (38 kB)\n",
            "Collecting wordninja==2.0.0\n",
            "  Downloading wordninja-2.0.0.tar.gz (541 kB)\n",
            "\u001b[K     |████████████████████████████████| 541 kB 37.7 MB/s \n",
            "\u001b[?25hRequirement already satisfied: editdistance in /usr/local/lib/python3.7/dist-packages (from nemo_toolkit[all]) (0.5.3)\n",
            "Collecting transformers>=4.0.1\n",
            "  Downloading transformers-4.12.5-py3-none-any.whl (3.1 MB)\n",
            "\u001b[K     |████████████████████████████████| 3.1 MB 34.6 MB/s \n",
            "\u001b[?25hCollecting g2p-en\n",
            "  Downloading g2p_en-2.1.0-py3-none-any.whl (3.1 MB)\n",
            "\u001b[K     |████████████████████████████████| 3.1 MB 30.3 MB/s \n",
            "\u001b[?25hCollecting black==19.10b0\n",
            "  Downloading black-19.10b0-py36-none-any.whl (97 kB)\n",
            "\u001b[K     |████████████████████████████████| 97 kB 6.5 MB/s \n",
            "\u001b[?25hRequirement already satisfied: packaging in /usr/local/lib/python3.7/dist-packages (from nemo_toolkit[all]) (21.3)\n",
            "Requirement already satisfied: pillow in /usr/local/lib/python3.7/dist-packages (from nemo_toolkit[all]) (7.1.2)\n",
            "Requirement already satisfied: pyyaml<6 in /usr/local/lib/python3.7/dist-packages (from nemo_toolkit[all]) (3.13)\n",
            "Collecting boto3\n",
            "  Downloading boto3-1.20.16-py3-none-any.whl (131 kB)\n",
            "\u001b[K     |████████████████████████████████| 131 kB 49.9 MB/s \n",
            "\u001b[?25hCollecting omegaconf>=2.1.0\n",
            "  Downloading omegaconf-2.1.1-py3-none-any.whl (74 kB)\n",
            "\u001b[K     |████████████████████████████████| 74 kB 3.1 MB/s \n",
            "\u001b[?25hCollecting isort[requirements]<5\n",
            "  Downloading isort-4.3.21-py2.py3-none-any.whl (42 kB)\n",
            "\u001b[K     |████████████████████████████████| 42 kB 1.0 MB/s \n",
            "\u001b[?25hCollecting wandb\n",
            "  Downloading wandb-0.12.7-py2.py3-none-any.whl (1.7 MB)\n",
            "\u001b[K     |████████████████████████████████| 1.7 MB 35.7 MB/s \n",
            "\u001b[?25hRequirement already satisfied: pandas in /usr/local/lib/python3.7/dist-packages (from nemo_toolkit[all]) (1.1.5)\n",
            "Collecting pydub\n",
            "  Downloading pydub-0.25.1-py2.py3-none-any.whl (32 kB)\n",
            "Collecting hydra-core>=1.1.0\n",
            "  Downloading hydra_core-1.1.1-py3-none-any.whl (145 kB)\n",
            "\u001b[K     |████████████████████████████████| 145 kB 53.6 MB/s \n",
            "\u001b[?25hCollecting pyannote.core\n",
            "  Downloading pyannote.core-4.3-py3-none-any.whl (59 kB)\n",
            "\u001b[K     |████████████████████████████████| 59 kB 6.4 MB/s \n",
            "\u001b[?25hCollecting rapidfuzz\n",
            "  Downloading rapidfuzz-1.8.3-cp37-cp37m-manylinux_2_12_x86_64.manylinux2010_x86_64.whl (854 kB)\n",
            "\u001b[K     |████████████████████████████████| 854 kB 45.9 MB/s \n",
            "\u001b[?25hCollecting pytest-runner\n",
            "  Using cached pytest_runner-5.3.1-py3-none-any.whl (7.1 kB)\n",
            "Collecting kaldi-python-io\n",
            "  Downloading kaldi-python-io-1.2.2.tar.gz (8.8 kB)\n",
            "Requirement already satisfied: torchvision in /usr/local/lib/python3.7/dist-packages (from nemo_toolkit[all]) (0.11.1+cu111)\n",
            "Requirement already satisfied: ipywidgets in /usr/local/lib/python3.7/dist-packages (from nemo_toolkit[all]) (7.6.5)\n",
            "Collecting pystoi\n",
            "  Downloading pystoi-0.3.3.tar.gz (7.0 kB)\n",
            "Collecting braceexpand\n",
            "  Downloading braceexpand-0.1.7-py2.py3-none-any.whl (5.9 kB)\n",
            "Collecting opencc\n",
            "  Downloading OpenCC-1.1.3-cp37-cp37m-manylinux1_x86_64.whl (766 kB)\n",
            "\u001b[K     |████████████████████████████████| 766 kB 40.1 MB/s \n",
            "\u001b[?25hRequirement already satisfied: scipy in /usr/local/lib/python3.7/dist-packages (from nemo_toolkit[all]) (1.4.1)\n",
            "Requirement already satisfied: matplotlib in /usr/local/lib/python3.7/dist-packages (from nemo_toolkit[all]) (3.2.2)\n",
            "Collecting nltk>=3.6.5\n",
            "  Downloading nltk-3.6.5-py3-none-any.whl (1.5 MB)\n",
            "\u001b[K     |████████████████████████████████| 1.5 MB 34.3 MB/s \n",
            "\u001b[?25hCollecting pyannote.metrics\n",
            "  Downloading pyannote.metrics-3.1-py3-none-any.whl (49 kB)\n",
            "\u001b[K     |████████████████████████████████| 49 kB 5.7 MB/s \n",
            "\u001b[?25hRequirement already satisfied: soundfile in /usr/local/lib/python3.7/dist-packages (from nemo_toolkit[all]) (0.10.3.post1)\n",
            "Requirement already satisfied: inflect in /usr/local/lib/python3.7/dist-packages (from nemo_toolkit[all]) (2.1.0)\n",
            "Requirement already satisfied: h5py in /usr/local/lib/python3.7/dist-packages (from nemo_toolkit[all]) (3.1.0)\n",
            "Collecting sacrebleu[ja]\n",
            "  Downloading sacrebleu-2.0.0-py3-none-any.whl (90 kB)\n",
            "\u001b[K     |████████████████████████████████| 90 kB 9.2 MB/s \n",
            "\u001b[?25hCollecting pangu\n",
            "  Downloading pangu-4.0.6.1-py3-none-any.whl (6.4 kB)\n",
            "Collecting fasttext\n",
            "  Downloading fasttext-0.9.2.tar.gz (68 kB)\n",
            "\u001b[K     |████████████████████████████████| 68 kB 6.6 MB/s \n",
            "\u001b[?25hCollecting torchmetrics>=0.4.1rc0\n",
            "  Downloading torchmetrics-0.6.0-py3-none-any.whl (329 kB)\n",
            "\u001b[K     |████████████████████████████████| 329 kB 46.9 MB/s \n",
            "\u001b[?25hCollecting parameterized\n",
            "  Downloading parameterized-0.8.1-py2.py3-none-any.whl (26 kB)\n",
            "Collecting webdataset<=0.1.62,>=0.1.48\n",
            "  Downloading webdataset-0.1.62-py3-none-any.whl (32 kB)\n",
            "Collecting pytorch-lightning>=1.5.0\n",
            "  Downloading pytorch_lightning-1.5.3-py3-none-any.whl (523 kB)\n",
            "\u001b[K     |████████████████████████████████| 523 kB 42.3 MB/s \n",
            "\u001b[?25hCollecting sox\n",
            "  Downloading sox-1.4.1-py2.py3-none-any.whl (39 kB)\n",
            "Requirement already satisfied: appdirs in /usr/local/lib/python3.7/dist-packages (from black==19.10b0->nemo_toolkit[all]) (1.4.4)\n",
            "Collecting typed-ast>=1.4.0\n",
            "  Downloading typed_ast-1.5.0-cp37-cp37m-manylinux_2_5_x86_64.manylinux1_x86_64.manylinux_2_12_x86_64.manylinux2010_x86_64.whl (843 kB)\n",
            "\u001b[K     |████████████████████████████████| 843 kB 39.9 MB/s \n",
            "\u001b[?25hRequirement already satisfied: toml>=0.9.4 in /usr/local/lib/python3.7/dist-packages (from black==19.10b0->nemo_toolkit[all]) (0.10.2)\n",
            "Requirement already satisfied: attrs>=18.1.0 in /usr/local/lib/python3.7/dist-packages (from black==19.10b0->nemo_toolkit[all]) (21.2.0)\n",
            "Collecting pathspec<1,>=0.6\n",
            "  Downloading pathspec-0.9.0-py2.py3-none-any.whl (31 kB)\n",
            "Requirement already satisfied: click>=6.5 in /usr/local/lib/python3.7/dist-packages (from black==19.10b0->nemo_toolkit[all]) (7.1.2)\n",
            "Requirement already satisfied: importlib-resources in /usr/local/lib/python3.7/dist-packages (from hydra-core>=1.1.0->nemo_toolkit[all]) (5.4.0)\n",
            "Collecting antlr4-python3-runtime==4.8\n",
            "  Downloading antlr4-python3-runtime-4.8.tar.gz (112 kB)\n",
            "\u001b[K     |████████████████████████████████| 112 kB 49.4 MB/s \n",
            "\u001b[?25hCollecting pyyaml<6\n",
            "  Downloading PyYAML-5.4.1-cp37-cp37m-manylinux1_x86_64.whl (636 kB)\n",
            "\u001b[K     |████████████████████████████████| 636 kB 47.1 MB/s \n",
            "\u001b[?25hCollecting pipreqs\n",
            "  Downloading pipreqs-0.4.11-py2.py3-none-any.whl (32 kB)\n",
            "Collecting pip-api\n",
            "  Downloading pip_api-0.0.23-py3-none-any.whl (107 kB)\n",
            "\u001b[K     |████████████████████████████████| 107 kB 49.7 MB/s \n",
            "\u001b[?25hRequirement already satisfied: joblib in /usr/local/lib/python3.7/dist-packages (from nltk>=3.6.5->nemo_toolkit[all]) (1.1.0)\n",
            "Collecting regex\n",
            "  Downloading regex-2021.11.10-cp37-cp37m-manylinux_2_17_x86_64.manylinux2014_x86_64.whl (749 kB)\n",
            "\u001b[K     |████████████████████████████████| 749 kB 41.4 MB/s \n",
            "\u001b[?25hRequirement already satisfied: six in /usr/local/lib/python3.7/dist-packages (from onnx>=1.7.0->nemo_toolkit[all]) (1.15.0)\n",
            "Requirement already satisfied: typing-extensions>=3.6.2.1 in /usr/local/lib/python3.7/dist-packages (from onnx>=1.7.0->nemo_toolkit[all]) (3.10.0.2)\n",
            "Requirement already satisfied: protobuf in /usr/local/lib/python3.7/dist-packages (from onnx>=1.7.0->nemo_toolkit[all]) (3.17.3)\n",
            "Collecting future>=0.17.1\n",
            "  Downloading future-0.18.2.tar.gz (829 kB)\n",
            "\u001b[K     |████████████████████████████████| 829 kB 47.0 MB/s \n",
            "\u001b[?25hCollecting pyDeprecate==0.3.1\n",
            "  Downloading pyDeprecate-0.3.1-py3-none-any.whl (10 kB)\n",
            "Collecting fsspec[http]!=2021.06.0,>=2021.05.0\n",
            "  Downloading fsspec-2021.11.1-py3-none-any.whl (132 kB)\n",
            "\u001b[K     |████████████████████████████████| 132 kB 45.1 MB/s \n",
            "\u001b[?25hRequirement already satisfied: tensorboard>=2.2.0 in /usr/local/lib/python3.7/dist-packages (from pytorch-lightning>=1.5.0->nemo_toolkit[all]) (2.7.0)\n",
            "Collecting aiohttp\n",
            "  Downloading aiohttp-3.8.1-cp37-cp37m-manylinux_2_5_x86_64.manylinux1_x86_64.manylinux_2_12_x86_64.manylinux2010_x86_64.whl (1.1 MB)\n",
            "\u001b[K     |████████████████████████████████| 1.1 MB 36.1 MB/s \n",
            "\u001b[?25hRequirement already satisfied: requests in /usr/local/lib/python3.7/dist-packages (from fsspec[http]!=2021.06.0,>=2021.05.0->pytorch-lightning>=1.5.0->nemo_toolkit[all]) (2.23.0)\n",
            "Requirement already satisfied: pyparsing!=3.0.5,>=2.0.2 in /usr/local/lib/python3.7/dist-packages (from packaging->nemo_toolkit[all]) (3.0.6)\n",
            "Requirement already satisfied: wheel>=0.26 in /usr/local/lib/python3.7/dist-packages (from tensorboard>=2.2.0->pytorch-lightning>=1.5.0->nemo_toolkit[all]) (0.37.0)\n",
            "Requirement already satisfied: google-auth<3,>=1.6.3 in /usr/local/lib/python3.7/dist-packages (from tensorboard>=2.2.0->pytorch-lightning>=1.5.0->nemo_toolkit[all]) (1.35.0)\n",
            "Requirement already satisfied: markdown>=2.6.8 in /usr/local/lib/python3.7/dist-packages (from tensorboard>=2.2.0->pytorch-lightning>=1.5.0->nemo_toolkit[all]) (3.3.6)\n",
            "Requirement already satisfied: tensorboard-plugin-wit>=1.6.0 in /usr/local/lib/python3.7/dist-packages (from tensorboard>=2.2.0->pytorch-lightning>=1.5.0->nemo_toolkit[all]) (1.8.0)\n",
            "Requirement already satisfied: absl-py>=0.4 in /usr/local/lib/python3.7/dist-packages (from tensorboard>=2.2.0->pytorch-lightning>=1.5.0->nemo_toolkit[all]) (0.12.0)\n",
            "Requirement already satisfied: google-auth-oauthlib<0.5,>=0.4.1 in /usr/local/lib/python3.7/dist-packages (from tensorboard>=2.2.0->pytorch-lightning>=1.5.0->nemo_toolkit[all]) (0.4.6)\n",
            "Requirement already satisfied: werkzeug>=0.11.15 in /usr/local/lib/python3.7/dist-packages (from tensorboard>=2.2.0->pytorch-lightning>=1.5.0->nemo_toolkit[all]) (1.0.1)\n",
            "Requirement already satisfied: grpcio>=1.24.3 in /usr/local/lib/python3.7/dist-packages (from tensorboard>=2.2.0->pytorch-lightning>=1.5.0->nemo_toolkit[all]) (1.42.0)\n",
            "Requirement already satisfied: tensorboard-data-server<0.7.0,>=0.6.0 in /usr/local/lib/python3.7/dist-packages (from tensorboard>=2.2.0->pytorch-lightning>=1.5.0->nemo_toolkit[all]) (0.6.1)\n",
            "Requirement already satisfied: setuptools>=41.0.0 in /usr/local/lib/python3.7/dist-packages (from tensorboard>=2.2.0->pytorch-lightning>=1.5.0->nemo_toolkit[all]) (57.4.0)\n",
            "Requirement already satisfied: cachetools<5.0,>=2.0.0 in /usr/local/lib/python3.7/dist-packages (from google-auth<3,>=1.6.3->tensorboard>=2.2.0->pytorch-lightning>=1.5.0->nemo_toolkit[all]) (4.2.4)\n",
            "Requirement already satisfied: pyasn1-modules>=0.2.1 in /usr/local/lib/python3.7/dist-packages (from google-auth<3,>=1.6.3->tensorboard>=2.2.0->pytorch-lightning>=1.5.0->nemo_toolkit[all]) (0.2.8)\n",
            "Requirement already satisfied: rsa<5,>=3.1.4 in /usr/local/lib/python3.7/dist-packages (from google-auth<3,>=1.6.3->tensorboard>=2.2.0->pytorch-lightning>=1.5.0->nemo_toolkit[all]) (4.7.2)\n",
            "Requirement already satisfied: requests-oauthlib>=0.7.0 in /usr/local/lib/python3.7/dist-packages (from google-auth-oauthlib<0.5,>=0.4.1->tensorboard>=2.2.0->pytorch-lightning>=1.5.0->nemo_toolkit[all]) (1.3.0)\n",
            "Requirement already satisfied: importlib-metadata>=4.4 in /usr/local/lib/python3.7/dist-packages (from markdown>=2.6.8->tensorboard>=2.2.0->pytorch-lightning>=1.5.0->nemo_toolkit[all]) (4.8.2)\n",
            "Requirement already satisfied: zipp>=0.5 in /usr/local/lib/python3.7/dist-packages (from importlib-metadata>=4.4->markdown>=2.6.8->tensorboard>=2.2.0->pytorch-lightning>=1.5.0->nemo_toolkit[all]) (3.6.0)\n",
            "Requirement already satisfied: pyasn1<0.5.0,>=0.4.6 in /usr/local/lib/python3.7/dist-packages (from pyasn1-modules>=0.2.1->google-auth<3,>=1.6.3->tensorboard>=2.2.0->pytorch-lightning>=1.5.0->nemo_toolkit[all]) (0.4.8)\n",
            "Requirement already satisfied: chardet<4,>=3.0.2 in /usr/local/lib/python3.7/dist-packages (from requests->fsspec[http]!=2021.06.0,>=2021.05.0->pytorch-lightning>=1.5.0->nemo_toolkit[all]) (3.0.4)\n",
            "Requirement already satisfied: idna<3,>=2.5 in /usr/local/lib/python3.7/dist-packages (from requests->fsspec[http]!=2021.06.0,>=2021.05.0->pytorch-lightning>=1.5.0->nemo_toolkit[all]) (2.10)\n",
            "Requirement already satisfied: certifi>=2017.4.17 in /usr/local/lib/python3.7/dist-packages (from requests->fsspec[http]!=2021.06.0,>=2021.05.0->pytorch-lightning>=1.5.0->nemo_toolkit[all]) (2021.10.8)\n",
            "Requirement already satisfied: urllib3!=1.25.0,!=1.25.1,<1.26,>=1.21.1 in /usr/local/lib/python3.7/dist-packages (from requests->fsspec[http]!=2021.06.0,>=2021.05.0->pytorch-lightning>=1.5.0->nemo_toolkit[all]) (1.24.3)\n",
            "Requirement already satisfied: oauthlib>=3.0.0 in /usr/local/lib/python3.7/dist-packages (from requests-oauthlib>=0.7.0->google-auth-oauthlib<0.5,>=0.4.1->tensorboard>=2.2.0->pytorch-lightning>=1.5.0->nemo_toolkit[all]) (3.1.1)\n",
            "Requirement already satisfied: filelock in /usr/local/lib/python3.7/dist-packages (from transformers>=4.0.1->nemo_toolkit[all]) (3.4.0)\n",
            "Collecting huggingface-hub<1.0,>=0.1.0\n",
            "  Downloading huggingface_hub-0.1.2-py3-none-any.whl (59 kB)\n",
            "\u001b[K     |████████████████████████████████| 59 kB 6.8 MB/s \n",
            "\u001b[?25hCollecting tokenizers<0.11,>=0.10.1\n",
            "  Downloading tokenizers-0.10.3-cp37-cp37m-manylinux_2_5_x86_64.manylinux1_x86_64.manylinux_2_12_x86_64.manylinux2010_x86_64.whl (3.3 MB)\n",
            "\u001b[K     |████████████████████████████████| 3.3 MB 41.4 MB/s \n",
            "\u001b[?25hCollecting multidict<7.0,>=4.5\n",
            "  Downloading multidict-5.2.0-cp37-cp37m-manylinux_2_5_x86_64.manylinux1_x86_64.manylinux_2_12_x86_64.manylinux2010_x86_64.whl (160 kB)\n",
            "\u001b[K     |████████████████████████████████| 160 kB 47.1 MB/s \n",
            "\u001b[?25hRequirement already satisfied: charset-normalizer<3.0,>=2.0 in /usr/local/lib/python3.7/dist-packages (from aiohttp->fsspec[http]!=2021.06.0,>=2021.05.0->pytorch-lightning>=1.5.0->nemo_toolkit[all]) (2.0.7)\n",
            "Collecting aiosignal>=1.1.2\n",
            "  Downloading aiosignal-1.2.0-py3-none-any.whl (8.2 kB)\n",
            "Collecting asynctest==0.13.0\n",
            "  Downloading asynctest-0.13.0-py3-none-any.whl (26 kB)\n",
            "Collecting frozenlist>=1.1.1\n",
            "  Downloading frozenlist-1.2.0-cp37-cp37m-manylinux_2_5_x86_64.manylinux1_x86_64.manylinux_2_12_x86_64.manylinux2010_x86_64.whl (192 kB)\n",
            "\u001b[K     |████████████████████████████████| 192 kB 44.9 MB/s \n",
            "\u001b[?25hCollecting yarl<2.0,>=1.0\n",
            "  Downloading yarl-1.7.2-cp37-cp37m-manylinux_2_5_x86_64.manylinux1_x86_64.manylinux_2_12_x86_64.manylinux2010_x86_64.whl (271 kB)\n",
            "\u001b[K     |████████████████████████████████| 271 kB 48.5 MB/s \n",
            "\u001b[?25hCollecting async-timeout<5.0,>=4.0.0a3\n",
            "  Downloading async_timeout-4.0.1-py3-none-any.whl (5.7 kB)\n",
            "Collecting s3transfer<0.6.0,>=0.5.0\n",
            "  Downloading s3transfer-0.5.0-py3-none-any.whl (79 kB)\n",
            "\u001b[K     |████████████████████████████████| 79 kB 7.7 MB/s \n",
            "\u001b[?25hCollecting jmespath<1.0.0,>=0.7.1\n",
            "  Downloading jmespath-0.10.0-py2.py3-none-any.whl (24 kB)\n",
            "Collecting botocore<1.24.0,>=1.23.16\n",
            "  Downloading botocore-1.23.16-py3-none-any.whl (8.3 MB)\n",
            "\u001b[K     |████████████████████████████████| 8.3 MB 44.8 MB/s \n",
            "\u001b[?25hCollecting urllib3!=1.25.0,!=1.25.1,<1.26,>=1.21.1\n",
            "  Downloading urllib3-1.25.11-py2.py3-none-any.whl (127 kB)\n",
            "\u001b[K     |████████████████████████████████| 127 kB 47.1 MB/s \n",
            "\u001b[?25hCollecting pybind11>=2.2\n",
            "  Using cached pybind11-2.8.1-py2.py3-none-any.whl (208 kB)\n",
            "Collecting distance>=0.1.3\n",
            "  Downloading Distance-0.1.3.tar.gz (180 kB)\n",
            "\u001b[K     |████████████████████████████████| 180 kB 52.6 MB/s \n",
            "\u001b[?25hRequirement already satisfied: cached-property in /usr/local/lib/python3.7/dist-packages (from h5py->nemo_toolkit[all]) (1.5.2)\n",
            "Requirement already satisfied: traitlets>=4.3.1 in /usr/local/lib/python3.7/dist-packages (from ipywidgets->nemo_toolkit[all]) (5.1.1)\n",
            "Requirement already satisfied: widgetsnbextension~=3.5.0 in /usr/local/lib/python3.7/dist-packages (from ipywidgets->nemo_toolkit[all]) (3.5.2)\n",
            "Requirement already satisfied: ipython-genutils~=0.2.0 in /usr/local/lib/python3.7/dist-packages (from ipywidgets->nemo_toolkit[all]) (0.2.0)\n",
            "Requirement already satisfied: ipykernel>=4.5.1 in /usr/local/lib/python3.7/dist-packages (from ipywidgets->nemo_toolkit[all]) (4.10.1)\n",
            "Requirement already satisfied: jupyterlab-widgets>=1.0.0 in /usr/local/lib/python3.7/dist-packages (from ipywidgets->nemo_toolkit[all]) (1.0.2)\n",
            "Requirement already satisfied: ipython>=4.0.0 in /usr/local/lib/python3.7/dist-packages (from ipywidgets->nemo_toolkit[all]) (5.5.0)\n",
            "Requirement already satisfied: nbformat>=4.2.0 in /usr/local/lib/python3.7/dist-packages (from ipywidgets->nemo_toolkit[all]) (5.1.3)\n",
            "Requirement already satisfied: jupyter-client in /usr/local/lib/python3.7/dist-packages (from ipykernel>=4.5.1->ipywidgets->nemo_toolkit[all]) (5.3.5)\n",
            "Requirement already satisfied: tornado>=4.0 in /usr/local/lib/python3.7/dist-packages (from ipykernel>=4.5.1->ipywidgets->nemo_toolkit[all]) (5.1.1)\n",
            "Requirement already satisfied: simplegeneric>0.8 in /usr/local/lib/python3.7/dist-packages (from ipython>=4.0.0->ipywidgets->nemo_toolkit[all]) (0.8.1)\n",
            "Requirement already satisfied: pygments in /usr/local/lib/python3.7/dist-packages (from ipython>=4.0.0->ipywidgets->nemo_toolkit[all]) (2.6.1)\n",
            "Requirement already satisfied: decorator in /usr/local/lib/python3.7/dist-packages (from ipython>=4.0.0->ipywidgets->nemo_toolkit[all]) (4.4.2)\n",
            "Requirement already satisfied: pexpect in /usr/local/lib/python3.7/dist-packages (from ipython>=4.0.0->ipywidgets->nemo_toolkit[all]) (4.8.0)\n",
            "Requirement already satisfied: pickleshare in /usr/local/lib/python3.7/dist-packages (from ipython>=4.0.0->ipywidgets->nemo_toolkit[all]) (0.7.5)\n",
            "Requirement already satisfied: prompt-toolkit<2.0.0,>=1.0.4 in /usr/local/lib/python3.7/dist-packages (from ipython>=4.0.0->ipywidgets->nemo_toolkit[all]) (1.0.18)\n",
            "Requirement already satisfied: jsonschema!=2.5.0,>=2.4 in /usr/local/lib/python3.7/dist-packages (from nbformat>=4.2.0->ipywidgets->nemo_toolkit[all]) (2.6.0)\n",
            "Requirement already satisfied: jupyter-core in /usr/local/lib/python3.7/dist-packages (from nbformat>=4.2.0->ipywidgets->nemo_toolkit[all]) (4.9.1)\n",
            "Requirement already satisfied: wcwidth in /usr/local/lib/python3.7/dist-packages (from prompt-toolkit<2.0.0,>=1.0.4->ipython>=4.0.0->ipywidgets->nemo_toolkit[all]) (0.2.5)\n",
            "Requirement already satisfied: notebook>=4.4.1 in /usr/local/lib/python3.7/dist-packages (from widgetsnbextension~=3.5.0->ipywidgets->nemo_toolkit[all]) (5.3.1)\n",
            "Requirement already satisfied: Send2Trash in /usr/local/lib/python3.7/dist-packages (from notebook>=4.4.1->widgetsnbextension~=3.5.0->ipywidgets->nemo_toolkit[all]) (1.8.0)\n",
            "Requirement already satisfied: terminado>=0.8.1 in /usr/local/lib/python3.7/dist-packages (from notebook>=4.4.1->widgetsnbextension~=3.5.0->ipywidgets->nemo_toolkit[all]) (0.12.1)\n",
            "Requirement already satisfied: nbconvert in /usr/local/lib/python3.7/dist-packages (from notebook>=4.4.1->widgetsnbextension~=3.5.0->ipywidgets->nemo_toolkit[all]) (5.6.1)\n",
            "Requirement already satisfied: jinja2 in /usr/local/lib/python3.7/dist-packages (from notebook>=4.4.1->widgetsnbextension~=3.5.0->ipywidgets->nemo_toolkit[all]) (2.11.3)\n",
            "Requirement already satisfied: pyzmq>=13 in /usr/local/lib/python3.7/dist-packages (from jupyter-client->ipykernel>=4.5.1->ipywidgets->nemo_toolkit[all]) (22.3.0)\n",
            "Requirement already satisfied: ptyprocess in /usr/local/lib/python3.7/dist-packages (from terminado>=0.8.1->notebook>=4.4.1->widgetsnbextension~=3.5.0->ipywidgets->nemo_toolkit[all]) (0.7.0)\n",
            "Requirement already satisfied: MarkupSafe>=0.23 in /usr/local/lib/python3.7/dist-packages (from jinja2->notebook>=4.4.1->widgetsnbextension~=3.5.0->ipywidgets->nemo_toolkit[all]) (2.0.1)\n",
            "Requirement already satisfied: pooch>=1.0 in /usr/local/lib/python3.7/dist-packages (from librosa->nemo_toolkit[all]) (1.5.2)\n",
            "Requirement already satisfied: resampy>=0.2.2 in /usr/local/lib/python3.7/dist-packages (from librosa->nemo_toolkit[all]) (0.2.2)\n",
            "Requirement already satisfied: audioread>=2.0.0 in /usr/local/lib/python3.7/dist-packages (from librosa->nemo_toolkit[all]) (2.1.9)\n",
            "Requirement already satisfied: llvmlite<0.35,>=0.34.0.dev0 in /usr/local/lib/python3.7/dist-packages (from numba->nemo_toolkit[all]) (0.34.0)\n",
            "Requirement already satisfied: threadpoolctl>=2.0.0 in /usr/local/lib/python3.7/dist-packages (from scikit-learn->nemo_toolkit[all]) (3.0.0)\n",
            "Requirement already satisfied: cffi>=1.0 in /usr/local/lib/python3.7/dist-packages (from soundfile->nemo_toolkit[all]) (1.15.0)\n",
            "Requirement already satisfied: pycparser in /usr/local/lib/python3.7/dist-packages (from cffi>=1.0->soundfile->nemo_toolkit[all]) (2.21)\n",
            "Requirement already satisfied: kiwisolver>=1.0.1 in /usr/local/lib/python3.7/dist-packages (from matplotlib->nemo_toolkit[all]) (1.3.2)\n",
            "Requirement already satisfied: cycler>=0.10 in /usr/local/lib/python3.7/dist-packages (from matplotlib->nemo_toolkit[all]) (0.11.0)\n",
            "Requirement already satisfied: mistune<2,>=0.8.1 in /usr/local/lib/python3.7/dist-packages (from nbconvert->notebook>=4.4.1->widgetsnbextension~=3.5.0->ipywidgets->nemo_toolkit[all]) (0.8.4)\n",
            "Requirement already satisfied: pandocfilters>=1.4.1 in /usr/local/lib/python3.7/dist-packages (from nbconvert->notebook>=4.4.1->widgetsnbextension~=3.5.0->ipywidgets->nemo_toolkit[all]) (1.5.0)\n",
            "Requirement already satisfied: entrypoints>=0.2.2 in /usr/local/lib/python3.7/dist-packages (from nbconvert->notebook>=4.4.1->widgetsnbextension~=3.5.0->ipywidgets->nemo_toolkit[all]) (0.3)\n",
            "Requirement already satisfied: bleach in /usr/local/lib/python3.7/dist-packages (from nbconvert->notebook>=4.4.1->widgetsnbextension~=3.5.0->ipywidgets->nemo_toolkit[all]) (4.1.0)\n",
            "Requirement already satisfied: defusedxml in /usr/local/lib/python3.7/dist-packages (from nbconvert->notebook>=4.4.1->widgetsnbextension~=3.5.0->ipywidgets->nemo_toolkit[all]) (0.7.1)\n",
            "Requirement already satisfied: testpath in /usr/local/lib/python3.7/dist-packages (from nbconvert->notebook>=4.4.1->widgetsnbextension~=3.5.0->ipywidgets->nemo_toolkit[all]) (0.5.0)\n",
            "Requirement already satisfied: webencodings in /usr/local/lib/python3.7/dist-packages (from bleach->nbconvert->notebook>=4.4.1->widgetsnbextension~=3.5.0->ipywidgets->nemo_toolkit[all]) (0.5.1)\n",
            "Requirement already satisfied: pytz>=2017.2 in /usr/local/lib/python3.7/dist-packages (from pandas->nemo_toolkit[all]) (2018.9)\n",
            "Requirement already satisfied: pip in /usr/local/lib/python3.7/dist-packages (from pip-api->isort[requirements]<5->nemo_toolkit[all]) (21.1.3)\n",
            "Collecting yarg\n",
            "  Downloading yarg-0.1.9-py2.py3-none-any.whl (19 kB)\n",
            "Requirement already satisfied: docopt in /usr/local/lib/python3.7/dist-packages (from pipreqs->isort[requirements]<5->nemo_toolkit[all]) (0.6.2)\n",
            "Requirement already satisfied: sortedcontainers>=2.0.4 in /usr/local/lib/python3.7/dist-packages (from pyannote.core->nemo_toolkit[all]) (2.4.0)\n",
            "Collecting simplejson>=3.8.1\n",
            "  Downloading simplejson-3.17.6-cp37-cp37m-manylinux_2_5_x86_64.manylinux1_x86_64.manylinux_2_12_x86_64.manylinux2010_x86_64.whl (130 kB)\n",
            "\u001b[K     |████████████████████████████████| 130 kB 49.8 MB/s \n",
            "\u001b[?25hCollecting pyannote.database>=4.0.1\n",
            "  Downloading pyannote.database-4.1.1-py3-none-any.whl (41 kB)\n",
            "\u001b[K     |████████████████████████████████| 41 kB 260 kB/s \n",
            "\u001b[?25hRequirement already satisfied: tabulate>=0.7.7 in /usr/local/lib/python3.7/dist-packages (from pyannote.metrics->nemo_toolkit[all]) (0.8.9)\n",
            "Requirement already satisfied: sympy>=1.1 in /usr/local/lib/python3.7/dist-packages (from pyannote.metrics->nemo_toolkit[all]) (1.7.1)\n",
            "Collecting typer[all]>=0.2.1\n",
            "  Downloading typer-0.4.0-py3-none-any.whl (27 kB)\n",
            "Requirement already satisfied: mpmath>=0.19 in /usr/local/lib/python3.7/dist-packages (from sympy>=1.1->pyannote.metrics->nemo_toolkit[all]) (1.2.1)\n",
            "Collecting shellingham<2.0.0,>=1.3.0\n",
            "  Downloading shellingham-1.4.0-py2.py3-none-any.whl (9.4 kB)\n",
            "Collecting colorama<0.5.0,>=0.4.3\n",
            "  Downloading colorama-0.4.4-py2.py3-none-any.whl (16 kB)\n",
            "Requirement already satisfied: atomicwrites>=1.0 in /usr/local/lib/python3.7/dist-packages (from pytest->nemo_toolkit[all]) (1.4.0)\n",
            "Requirement already satisfied: more-itertools>=4.0.0 in /usr/local/lib/python3.7/dist-packages (from pytest->nemo_toolkit[all]) (8.11.0)\n",
            "Requirement already satisfied: pluggy<0.8,>=0.5 in /usr/local/lib/python3.7/dist-packages (from pytest->nemo_toolkit[all]) (0.7.1)\n",
            "Requirement already satisfied: py>=1.5.0 in /usr/local/lib/python3.7/dist-packages (from pytest->nemo_toolkit[all]) (1.11.0)\n",
            "Collecting ruamel.yaml.clib>=0.1.2\n",
            "  Downloading ruamel.yaml.clib-0.2.6-cp37-cp37m-manylinux1_x86_64.whl (546 kB)\n",
            "\u001b[K     |████████████████████████████████| 546 kB 43.1 MB/s \n",
            "\u001b[?25hCollecting portalocker\n",
            "  Downloading portalocker-2.3.2-py2.py3-none-any.whl (15 kB)\n",
            "Collecting mecab-python3==1.0.3\n",
            "  Downloading mecab_python3-1.0.3-cp37-cp37m-manylinux1_x86_64.whl (487 kB)\n",
            "\u001b[K     |████████████████████████████████| 487 kB 46.8 MB/s \n",
            "\u001b[?25hCollecting ipadic<2.0,>=1.0\n",
            "  Downloading ipadic-1.0.0.tar.gz (13.4 MB)\n",
            "\u001b[K     |████████████████████████████████| 13.4 MB 35.6 MB/s \n",
            "\u001b[?25hRequirement already satisfied: alabaster<0.8,>=0.7 in /usr/local/lib/python3.7/dist-packages (from sphinx->nemo_toolkit[all]) (0.7.12)\n",
            "Requirement already satisfied: sphinxcontrib-websupport in /usr/local/lib/python3.7/dist-packages (from sphinx->nemo_toolkit[all]) (1.2.4)\n",
            "Requirement already satisfied: docutils<0.18,>=0.11 in /usr/local/lib/python3.7/dist-packages (from sphinx->nemo_toolkit[all]) (0.17.1)\n",
            "Requirement already satisfied: imagesize in /usr/local/lib/python3.7/dist-packages (from sphinx->nemo_toolkit[all]) (1.3.0)\n",
            "Requirement already satisfied: babel!=2.0,>=1.3 in /usr/local/lib/python3.7/dist-packages (from sphinx->nemo_toolkit[all]) (2.9.1)\n",
            "Requirement already satisfied: snowballstemmer>=1.1 in /usr/local/lib/python3.7/dist-packages (from sphinx->nemo_toolkit[all]) (2.2.0)\n",
            "Collecting pybtex-docutils>=1.0.0\n",
            "  Downloading pybtex_docutils-1.0.1-py3-none-any.whl (4.8 kB)\n",
            "Collecting sphinx\n",
            "  Downloading Sphinx-4.3.1-py3-none-any.whl (3.1 MB)\n",
            "\u001b[K     |████████████████████████████████| 3.1 MB 32.8 MB/s \n",
            "\u001b[?25hCollecting pybtex>=0.20\n",
            "  Downloading pybtex-0.24.0-py2.py3-none-any.whl (561 kB)\n",
            "\u001b[K     |████████████████████████████████| 561 kB 33.6 MB/s \n",
            "\u001b[?25hCollecting latexcodec>=1.0.4\n",
            "  Downloading latexcodec-2.0.1-py2.py3-none-any.whl (18 kB)\n",
            "Collecting sphinxcontrib-jsmath\n",
            "  Downloading sphinxcontrib_jsmath-1.0.1-py2.py3-none-any.whl (5.1 kB)\n",
            "Collecting sphinxcontrib-devhelp\n",
            "  Downloading sphinxcontrib_devhelp-1.0.2-py2.py3-none-any.whl (84 kB)\n",
            "\u001b[K     |████████████████████████████████| 84 kB 3.5 MB/s \n",
            "\u001b[?25hRequirement already satisfied: sphinxcontrib-serializinghtml>=1.1.5 in /usr/local/lib/python3.7/dist-packages (from sphinx->nemo_toolkit[all]) (1.1.5)\n",
            "Collecting sphinxcontrib-applehelp\n",
            "  Downloading sphinxcontrib_applehelp-1.0.2-py2.py3-none-any.whl (121 kB)\n",
            "\u001b[K     |████████████████████████████████| 121 kB 48.7 MB/s \n",
            "\u001b[?25hCollecting sphinxcontrib-qthelp\n",
            "  Downloading sphinxcontrib_qthelp-1.0.3-py2.py3-none-any.whl (90 kB)\n",
            "\u001b[K     |████████████████████████████████| 90 kB 8.8 MB/s \n",
            "\u001b[?25hCollecting sphinxcontrib-htmlhelp>=2.0.0\n",
            "  Downloading sphinxcontrib_htmlhelp-2.0.0-py2.py3-none-any.whl (100 kB)\n",
            "\u001b[K     |████████████████████████████████| 100 kB 9.7 MB/s \n",
            "\u001b[?25hCollecting sentry-sdk>=1.0.0\n",
            "  Downloading sentry_sdk-1.5.0-py2.py3-none-any.whl (140 kB)\n",
            "\u001b[K     |████████████████████████████████| 140 kB 49.5 MB/s \n",
            "\u001b[?25hCollecting subprocess32>=3.5.3\n",
            "  Downloading subprocess32-3.5.4.tar.gz (97 kB)\n",
            "\u001b[K     |████████████████████████████████| 97 kB 7.0 MB/s \n",
            "\u001b[?25hCollecting configparser>=3.8.1\n",
            "  Downloading configparser-5.1.0-py3-none-any.whl (19 kB)\n",
            "Collecting pathtools\n",
            "  Downloading pathtools-0.1.2.tar.gz (11 kB)\n",
            "Requirement already satisfied: promise<3,>=2.0 in /usr/local/lib/python3.7/dist-packages (from wandb->nemo_toolkit[all]) (2.3)\n",
            "Collecting shortuuid>=0.5.0\n",
            "  Downloading shortuuid-1.0.8-py3-none-any.whl (9.5 kB)\n",
            "Requirement already satisfied: psutil>=5.0.0 in /usr/local/lib/python3.7/dist-packages (from wandb->nemo_toolkit[all]) (5.4.8)\n",
            "Collecting yaspin>=1.0.0\n",
            "  Downloading yaspin-2.1.0-py3-none-any.whl (18 kB)\n",
            "Collecting docker-pycreds>=0.4.0\n",
            "  Downloading docker_pycreds-0.4.0-py2.py3-none-any.whl (9.0 kB)\n",
            "Collecting GitPython>=1.0.0\n",
            "  Downloading GitPython-3.1.24-py3-none-any.whl (180 kB)\n",
            "\u001b[K     |████████████████████████████████| 180 kB 44.9 MB/s \n",
            "\u001b[?25hCollecting gitdb<5,>=4.0.1\n",
            "  Downloading gitdb-4.0.9-py3-none-any.whl (63 kB)\n",
            "\u001b[K     |████████████████████████████████| 63 kB 1.7 MB/s \n",
            "\u001b[?25hCollecting smmap<6,>=3.0.1\n",
            "  Downloading smmap-5.0.0-py3-none-any.whl (24 kB)\n",
            "Requirement already satisfied: termcolor<2.0.0,>=1.1.0 in /usr/local/lib/python3.7/dist-packages (from yaspin>=1.0.0->wandb->nemo_toolkit[all]) (1.1.0)\n",
            "Building wheels for collected packages: wordninja, antlr4-python3-runtime, future, fasttext, distance, kaldi-python-io, kaldiio, pesq, pystoi, ipadic, subprocess32, pathtools\n",
            "  Building wheel for wordninja (setup.py) ... \u001b[?25l\u001b[?25hdone\n",
            "  Created wheel for wordninja: filename=wordninja-2.0.0-py3-none-any.whl size=541551 sha256=8772188ec9acfaf19bcd6455c6348dff5634507d3b3dba17efdc5ffeb9ec17c0\n",
            "  Stored in directory: /root/.cache/pip/wheels/dd/3f/eb/a2692e3d2b9deb1487b09ba4967dd6920bd5032bfd9ff7acfc\n",
            "  Building wheel for antlr4-python3-runtime (setup.py) ... \u001b[?25l\u001b[?25hdone\n",
            "  Created wheel for antlr4-python3-runtime: filename=antlr4_python3_runtime-4.8-py3-none-any.whl size=141230 sha256=538c0dd03f55e9bfb187236ae6ff7bd81df648f57b1a77816bbd0072fc22d405\n",
            "  Stored in directory: /root/.cache/pip/wheels/ca/33/b7/336836125fc9bb4ceaa4376d8abca10ca8bc84ddc824baea6c\n",
            "  Building wheel for future (setup.py) ... \u001b[?25l\u001b[?25hdone\n",
            "  Created wheel for future: filename=future-0.18.2-py3-none-any.whl size=491070 sha256=917bff98ff7ca1d13dfbcd73246014ca8e5f7bb68a97df114794c77bcf25a9a0\n",
            "  Stored in directory: /root/.cache/pip/wheels/56/b0/fe/4410d17b32f1f0c3cf54cdfb2bc04d7b4b8f4ae377e2229ba0\n",
            "  Building wheel for fasttext (setup.py) ... \u001b[?25l\u001b[?25hdone\n",
            "  Created wheel for fasttext: filename=fasttext-0.9.2-cp37-cp37m-linux_x86_64.whl size=3122640 sha256=84bd076a388a21747fe94f3ce325ef44c325ead24ea385722508b67c7d0b986f\n",
            "  Stored in directory: /root/.cache/pip/wheels/4e/ca/bf/b020d2be95f7641801a6597a29c8f4f19e38f9c02a345bab9b\n",
            "  Building wheel for distance (setup.py) ... \u001b[?25l\u001b[?25hdone\n",
            "  Created wheel for distance: filename=Distance-0.1.3-py3-none-any.whl size=16275 sha256=4476627788b014671624b80867e19d396c3843f9a35d5a1d6d57b001eb26cbc7\n",
            "  Stored in directory: /root/.cache/pip/wheels/b2/10/1b/96fca621a1be378e2fe104cfb0d160bb6cdf3d04a3d35266cc\n",
            "  Building wheel for kaldi-python-io (setup.py) ... \u001b[?25l\u001b[?25hdone\n",
            "  Created wheel for kaldi-python-io: filename=kaldi_python_io-1.2.2-py3-none-any.whl size=8968 sha256=1767002a990c1a213952d0201450795da78326ef6453c0d122e0f16f46ac154a\n",
            "  Stored in directory: /root/.cache/pip/wheels/a9/26/38/7678d1ff6cd1bbcbfc0d80b0a29d94d917dfa9ad790b4a85a9\n",
            "  Building wheel for kaldiio (setup.py) ... \u001b[?25l\u001b[?25hdone\n",
            "  Created wheel for kaldiio: filename=kaldiio-2.17.2-py3-none-any.whl size=24472 sha256=082dede1c06bffa90c73552306ab411e3ef2722a389fd8cdb142099d2dbc2f34\n",
            "  Stored in directory: /root/.cache/pip/wheels/04/07/e8/45641287c59bf6ce41e22259f8680b521c31e6306cb88392ac\n",
            "  Building wheel for pesq (setup.py) ... \u001b[?25l\u001b[?25hdone\n",
            "  Created wheel for pesq: filename=pesq-0.0.3-cp37-cp37m-linux_x86_64.whl size=209965 sha256=db31ef6991658e5028b33d4bea3ca274b5ae9083e2c069af6f652ce0f721c5bf\n",
            "  Stored in directory: /root/.cache/pip/wheels/4f/67/5b/aa7cf31fe0c7199e35c604bb7bc91c629a13726bf221fedba0\n",
            "  Building wheel for pystoi (setup.py) ... \u001b[?25l\u001b[?25hdone\n",
            "  Created wheel for pystoi: filename=pystoi-0.3.3-py2.py3-none-any.whl size=7793 sha256=4d2f75d990104df79be258daf8394fe67143a4100f5638bdffb824a751a194cc\n",
            "  Stored in directory: /root/.cache/pip/wheels/46/4a/ad/3ab460193ed0535430b4b1575f255aa6bae69df17453628e86\n",
            "  Building wheel for ipadic (setup.py) ... \u001b[?25l\u001b[?25hdone\n",
            "  Created wheel for ipadic: filename=ipadic-1.0.0-py3-none-any.whl size=13556723 sha256=8cf8388c3c7210b6be9dfd25f956f649d7b54d1f186b56bbc4d649929cffda97\n",
            "  Stored in directory: /root/.cache/pip/wheels/33/8b/99/cf0d27191876637cd3639a560f93aa982d7855ce826c94348b\n",
            "  Building wheel for subprocess32 (setup.py) ... \u001b[?25l\u001b[?25hdone\n",
            "  Created wheel for subprocess32: filename=subprocess32-3.5.4-py3-none-any.whl size=6502 sha256=a345504cb6707842ec620a02f3c2a1ffefc9232a34c450bd410b863f9ec8b7cc\n",
            "  Stored in directory: /root/.cache/pip/wheels/50/ca/fa/8fca8d246e64f19488d07567547ddec8eb084e8c0d7a59226a\n",
            "  Building wheel for pathtools (setup.py) ... \u001b[?25l\u001b[?25hdone\n",
            "  Created wheel for pathtools: filename=pathtools-0.1.2-py3-none-any.whl size=8807 sha256=a3ce186375d5ed4b9c10e369e972b12374920525fda371c19bbd7ff6228e9bb5\n",
            "  Stored in directory: /root/.cache/pip/wheels/3e/31/09/fa59cef12cdcfecc627b3d24273699f390e71828921b2cbba2\n",
            "Successfully built wordninja antlr4-python3-runtime future fasttext distance kaldi-python-io kaldiio pesq pystoi ipadic subprocess32 pathtools\n",
            "Installing collected packages: urllib3, multidict, frozenlist, yarl, typer, smmap, simplejson, shellingham, pyyaml, latexcodec, jmespath, colorama, asynctest, async-timeout, aiosignal, yarg, sphinxcontrib-qthelp, sphinxcontrib-jsmath, sphinxcontrib-htmlhelp, sphinxcontrib-devhelp, sphinxcontrib-applehelp, ruamel.yaml.clib, regex, pybtex, pyannote.core, portalocker, gitdb, fsspec, botocore, antlr4-python3-runtime, aiohttp, yaspin, typed-ast, torchmetrics, tokenizers, subprocess32, sphinx, shortuuid, sentry-sdk, sentencepiece, sacremoses, sacrebleu, s3transfer, ruamel.yaml, pyDeprecate, pybtex-docutils, pybind11, pyannote.database, pipreqs, pip-api, pathtools, pathspec, onnx, omegaconf, nltk, mecab-python3, isort, ipadic, huggingface-hub, GitPython, future, frozendict, docker-pycreds, distance, configparser, braceexpand, youtokentome, wordninja, webdataset, wandb, transformers, torch-stft, sphinxcontrib-bibtex, sox, rapidfuzz, pytorch-lightning, pytest-runner, pystoi, pypinyin, pydub, pyannote.metrics, pesq, parameterized, pangu, opencc, nemo-toolkit, marshmallow, kaldiio, kaldi-python-io, kaldi-io, hydra-core, g2p-en, fasttext, boto3, black, attrdict\n",
            "  Attempting uninstall: urllib3\n",
            "    Found existing installation: urllib3 1.24.3\n",
            "    Uninstalling urllib3-1.24.3:\n",
            "      Successfully uninstalled urllib3-1.24.3\n",
            "  Attempting uninstall: pyyaml\n",
            "    Found existing installation: PyYAML 3.13\n",
            "    Uninstalling PyYAML-3.13:\n",
            "      Successfully uninstalled PyYAML-3.13\n",
            "  Attempting uninstall: regex\n",
            "    Found existing installation: regex 2019.12.20\n",
            "    Uninstalling regex-2019.12.20:\n",
            "      Successfully uninstalled regex-2019.12.20\n",
            "  Attempting uninstall: sphinx\n",
            "    Found existing installation: Sphinx 1.8.6\n",
            "    Uninstalling Sphinx-1.8.6:\n",
            "      Successfully uninstalled Sphinx-1.8.6\n",
            "  Attempting uninstall: nltk\n",
            "    Found existing installation: nltk 3.2.5\n",
            "    Uninstalling nltk-3.2.5:\n",
            "      Successfully uninstalled nltk-3.2.5\n",
            "  Attempting uninstall: future\n",
            "    Found existing installation: future 0.16.0\n",
            "    Uninstalling future-0.16.0:\n",
            "      Successfully uninstalled future-0.16.0\n",
            "\u001b[31mERROR: pip's dependency resolver does not currently take into account all the packages that are installed. This behaviour is the source of the following dependency conflicts.\n",
            "datascience 0.10.6 requires folium==0.2.1, but you have folium 0.8.3 which is incompatible.\u001b[0m\n",
            "Successfully installed GitPython-3.1.24 aiohttp-3.8.1 aiosignal-1.2.0 antlr4-python3-runtime-4.8 async-timeout-4.0.1 asynctest-0.13.0 attrdict-2.0.1 black-19.10b0 boto3-1.20.16 botocore-1.23.16 braceexpand-0.1.7 colorama-0.4.4 configparser-5.1.0 distance-0.1.3 docker-pycreds-0.4.0 fasttext-0.9.2 frozendict-2.1.1 frozenlist-1.2.0 fsspec-2021.11.1 future-0.18.2 g2p-en-2.1.0 gitdb-4.0.9 huggingface-hub-0.1.2 hydra-core-1.1.1 ipadic-1.0.0 isort-4.3.21 jmespath-0.10.0 kaldi-io-0.9.4 kaldi-python-io-1.2.2 kaldiio-2.17.2 latexcodec-2.0.1 marshmallow-3.14.1 mecab-python3-1.0.3 multidict-5.2.0 nemo-toolkit-1.5.0 nltk-3.6.5 omegaconf-2.1.1 onnx-1.10.2 opencc-1.1.3 pangu-4.0.6.1 parameterized-0.8.1 pathspec-0.9.0 pathtools-0.1.2 pesq-0.0.3 pip-api-0.0.23 pipreqs-0.4.11 portalocker-2.3.2 pyDeprecate-0.3.1 pyannote.core-4.3 pyannote.database-4.1.1 pyannote.metrics-3.1 pybind11-2.8.1 pybtex-0.24.0 pybtex-docutils-1.0.1 pydub-0.25.1 pypinyin-0.44.0 pystoi-0.3.3 pytest-runner-5.3.1 pytorch-lightning-1.5.3 pyyaml-5.4.1 rapidfuzz-1.8.3 regex-2021.11.10 ruamel.yaml-0.17.17 ruamel.yaml.clib-0.2.6 s3transfer-0.5.0 sacrebleu-2.0.0 sacremoses-0.0.46 sentencepiece-0.1.96 sentry-sdk-1.5.0 shellingham-1.4.0 shortuuid-1.0.8 simplejson-3.17.6 smmap-5.0.0 sox-1.4.1 sphinx-4.3.1 sphinxcontrib-applehelp-1.0.2 sphinxcontrib-bibtex-2.4.1 sphinxcontrib-devhelp-1.0.2 sphinxcontrib-htmlhelp-2.0.0 sphinxcontrib-jsmath-1.0.1 sphinxcontrib-qthelp-1.0.3 subprocess32-3.5.4 tokenizers-0.10.3 torch-stft-0.1.4 torchmetrics-0.6.0 transformers-4.12.5 typed-ast-1.5.0 typer-0.4.0 urllib3-1.25.11 wandb-0.12.7 webdataset-0.1.62 wordninja-2.0.0 yarg-0.1.9 yarl-1.7.2 yaspin-2.1.0 youtokentome-1.0.6\n"
          ]
        },
        {
          "output_type": "execute_result",
          "data": {
            "application/vnd.google.colaboratory.intrinsic+json": {
              "type": "string"
            },
            "text/plain": [
              "'\\nRemember to restart the runtime for the kernel to pick up any upgraded packages (e.g. matplotlib)!\\nAlternatively, you can uncomment the exit() below to crash and restart the kernel, in the case\\nthat you want to use the \"Run All Cells\" (or similar) option.\\n'"
            ]
          },
          "metadata": {},
          "execution_count": 1
        }
      ]
    },
    {
      "cell_type": "code",
      "metadata": {
        "id": "gAhsmi6HlRzh"
      },
      "source": [
        "# Папка, где будет размещаться датасет Golos\n",
        "data_dir = '/content'"
      ],
      "execution_count": 2,
      "outputs": []
    },
    {
      "cell_type": "code",
      "metadata": {
        "colab": {
          "base_uri": "https://localhost:8080/"
        },
        "id": "wIWkld7od6-o",
        "outputId": "e38d6fc5-214e-4846-c757-ac69143dc2b0"
      },
      "source": [
        "! ls /content"
      ],
      "execution_count": 3,
      "outputs": [
        {
          "output_type": "stream",
          "name": "stdout",
          "text": [
            "sample_data\n"
          ]
        }
      ]
    },
    {
      "cell_type": "code",
      "metadata": {
        "id": "Yb4fuUvWlRzk",
        "scrolled": true,
        "colab": {
          "base_uri": "https://localhost:8080/"
        },
        "outputId": "8f82efd1-2863-4d7a-be97-4066f77e8c93"
      },
      "source": [
        "import glob\n",
        "import os\n",
        "import subprocess\n",
        "import tarfile\n",
        "import wget\n",
        "\n",
        "# Загрузка датасета Golos\n",
        "def load(golos_url, fname):\n",
        "  if not os.path.exists(os.path.join(data_dir, fname)):\n",
        "      golos_path = wget.download(golos_url, os.path.join(data_dir, fname))\n",
        "      print(f\"Dataset downloaded at: {golos_path}\")\n",
        "  else:\n",
        "      print(\"Tarfile already exists.\")\n",
        "      golos_path = os.path.join(data_dir, fname)\n",
        "  return golos_path\n",
        "\n",
        "golos_path = load(\"https://sc.link/1Z3\", \"train.tar\")\n",
        "\n",
        "if not os.path.exists(os.path.join(data_dir, '/train/')):\n",
        "    tar = tarfile.open(golos_path)\n",
        "    tar.extractall(path=data_dir)"
      ],
      "execution_count": 4,
      "outputs": [
        {
          "output_type": "stream",
          "name": "stdout",
          "text": [
            "Dataset downloaded at: /content/train.tar\n"
          ]
        }
      ]
    },
    {
      "cell_type": "code",
      "metadata": {
        "colab": {
          "base_uri": "https://localhost:8080/"
        },
        "id": "6V6kExB_fW9R",
        "outputId": "954d1a54-8ef7-4d05-8f28-1e913606f23b"
      },
      "source": [
        "golos_path = load(\"https://sc.link/Kqr\", \"test.tar\")\n",
        "\n",
        "if not os.path.exists(os.path.join(data_dir, '/test/')):\n",
        "    tar = tarfile.open(golos_path)\n",
        "    tar.extractall(path=data_dir)"
      ],
      "execution_count": 5,
      "outputs": [
        {
          "output_type": "stream",
          "name": "stdout",
          "text": [
            "Dataset downloaded at: /content/test.tar\n"
          ]
        }
      ]
    },
    {
      "cell_type": "code",
      "metadata": {
        "colab": {
          "base_uri": "https://localhost:8080/"
        },
        "id": "tIlLEymnNZho",
        "outputId": "5de0f403-19bd-4ff9-e26a-d1aa1f3bda45"
      },
      "source": [
        "! head /content/train/farfield/manifest.jsonl"
      ],
      "execution_count": 6,
      "outputs": [
        {
          "output_type": "stream",
          "name": "stdout",
          "text": [
            "{\"id\": \"855e01d6ba9a4aa59950d62037b87709\", \"audio_filepath\": \"farfield/855e01d6ba9a4aa59950d62037b87709.wav\", \"text\": \"\\u0430\\u0444\\u0438\\u043d\\u0430 \\u0445\\u043e\\u0442\\u0435\\u043b\\u0430 \\u043d\\u043e\\u043c\\u0435\\u0440 \\u0442\\u0435\\u043b\\u0435\\u0444\\u043e\\u043d\\u0430 \\u043f\\u043e\\u043c\\u0435\\u043d\\u044f\\u0442\\u044c \\u043a\\u0430\\u0440\\u0442\\u044b\", \"duration\": 5.4596875}\r\n",
            "{\"id\": \"f6075fae0c592183f107cf781117d9b5\", \"audio_filepath\": \"farfield/f6075fae0c592183f107cf781117d9b5.wav\", \"text\": \"\\u0441\\u0430\\u043b\\u044e\\u0442 \\u0445\\u043e\\u0447\\u0443 \\u043f\\u043e\\u0433\\u043e\\u0432\\u043e\\u0440\\u0438\\u0442\\u044c \\u0441 \\u0434\\u0436\\u043e\\u0439\", \"duration\": 4.15125}\r\n",
            "{\"id\": \"2599a6cb55795b38ddd80b849d8670bc\", \"audio_filepath\": \"farfield/2599a6cb55795b38ddd80b849d8670bc.wav\", \"text\": \"\\u0434\\u0436\\u043e\\u0439 \\u043a\\u0430\\u043a\\u0430\\u044f \\u0432\\u0430\\u043b\\u044e\\u0442\\u0430 \\u0432 \\u043a\\u0430\\u043c\\u0431\\u043e\\u0434\\u0436\\u0435\", \"duration\": 3.9185625}\r\n",
            "{\"id\": \"5f7483035b2f26b773b0d3fb125b779d\", \"audio_filepath\": \"farfield/5f7483035b2f26b773b0d3fb125b779d.wav\", \"text\": \"\\u0441\\u0430\\u043b\\u044e\\u0442 \\u044f \\u043c\\u043e\\u0433\\u0443 \\u0447\\u0442\\u043e \\u043d\\u0438\\u0431\\u0443\\u0434\\u044c \\u0441\\u0434\\u0435\\u043b\\u0430\\u0442\\u044c\", \"duration\": 5.063625}\r\n",
            "{\"id\": \"4c95a12b71e1262ac937d2fe6a803906\", \"audio_filepath\": \"farfield/4c95a12b71e1262ac937d2fe6a803906.wav\", \"text\": \"\\u0434\\u0436\\u043e\\u0439 \\u0441\\u043c\\u043e\\u0442\\u0440\\u0435\\u0442\\u044c \\u043e\\u043f\\u0435\\u0440\\u0430\\u0446\\u0438\\u044e \\u044b \\u0438 \\u0434\\u0440\\u0443\\u0433\\u0438\\u0435 \\u043f\\u0440\\u0438\\u043a\\u043b\\u044e\\u0447\\u0435\\u043d\\u0438\\u044f \\u0448\\u0443\\u0440\\u0438\\u043a\\u0430 \\u043e\\u043d\\u043b\\u0430\\u0439\\u043d\", \"duration\": 7.3826875}\r\n",
            "{\"id\": \"90655e9a042c4e79c424cd7dd82b37a6\", \"audio_filepath\": \"farfield/90655e9a042c4e79c424cd7dd82b37a6.wav\", \"text\": \"\\u0441\\u0430\\u043b\\u044e\\u0442 \\u043d\\u0430 \\u043a\\u0430\\u043a\\u043e\\u043c \\u044f\\u0437\\u044b\\u043a\\u0435 \\u0441\\u043e\\u0437\\u0434\\u0430\\u043d\\u0430 \\u043a\\u0430\\u0432\\u043a\\u0430 \\u043d\\u0430 \\u043f\\u043b\\u044f\\u0436\\u0435\", \"duration\": 5.232625}\r\n",
            "{\"id\": \"14b5e99616d446c3887c8927403632a0\", \"audio_filepath\": \"farfield/14b5e99616d446c3887c8927403632a0.wav\", \"text\": \"\\u0441\\u0431\\u0435\\u0440 \\u0447\\u0435\\u043c \\u043f\\u043b\\u0430\\u0442\\u0438\\u0442\\u044c \\u043d\\u0430 \\u043a\\u0430\\u043d\\u0430\\u0440\\u0430\\u0445\", \"duration\": 4.524}\r\n",
            "{\"id\": \"d71107319855ef21249be2ab0edea9c2\", \"audio_filepath\": \"farfield/d71107319855ef21249be2ab0edea9c2.wav\", \"text\": \"\\u0430\\u0444\\u0438\\u043d\\u0430 \\u043d\\u0430 \\u043f\\u0430\\u0440\\u0443 \\u043c\\u0438\\u043d\\u0443\\u0442 \\u043f\\u0435\\u0440\\u0435\\u043c\\u043e\\u0442\\u0430\\u0439 \\u0432\\u043f\\u0435\\u0440\\u0435\\u0434\", \"duration\": 4.4630625}\r\n",
            "{\"id\": \"566e4f7d788d755e2fa76ab57837d7dd\", \"audio_filepath\": \"farfield/566e4f7d788d755e2fa76ab57837d7dd.wav\", \"text\": \"\\u0430\\u0444\\u0438\\u043d\\u0430 \\u043f\\u043b\\u043e\\u0449\\u0430\\u0434\\u044c \\u043a\\u043e\\u0440\\u043e\\u043b\\u0435\\u0432\\u0441\\u0442\\u0432\\u0430 \\u0442\\u043e\\u043d\\u0433\\u0430\", \"duration\": 4.75025}\r\n",
            "{\"id\": \"40bf19adace8d787cd3c63784ed0b27b\", \"audio_filepath\": \"farfield/40bf19adace8d787cd3c63784ed0b27b.wav\", \"text\": \"\\u0430\\u0444\\u0438\\u043d\\u0430 \\u0447\\u0442\\u043e \\u0442\\u0430\\u043a\\u043e\\u0435 \\u0434\\u0435\\u043b\\u0444\\u0442\", \"duration\": 3.74225}\r\n"
          ]
        }
      ]
    },
    {
      "cell_type": "code",
      "metadata": {
        "colab": {
          "base_uri": "https://localhost:8080/"
        },
        "id": "nYzGDKl2H_5p",
        "outputId": "06ca7c48-5b4b-4395-e98d-4b795eeca41e"
      },
      "source": [
        "! head /content/test/farfield/manifest.jsonl"
      ],
      "execution_count": 7,
      "outputs": [
        {
          "output_type": "stream",
          "name": "stdout",
          "text": [
            "{\"id\": \"58b586f67f5e634506e215df5996b82e\", \"audio_filepath\": \"files/58b586f67f5e634506e215df5996b82e.wav\", \"text\": \"\\u0434\\u0436\\u043e\\u0439 \\u0445\\u0432\\u0430\\u0442\\u0438\\u0442\", \"duration\": 1.696625}\n",
            "{\"id\": \"26093ef7a8c5ec6a3c586a6a929c1bd3\", \"audio_filepath\": \"files/26093ef7a8c5ec6a3c586a6a929c1bd3.wav\", \"text\": \"\\u0441\\u0430\\u043b\\u044e\\u0442 \\u0432\\u044b\\u0437\\u043e\\u0432 \\u0441\\u0432\\u0435\\u0442\\u043b\\u0430\\u043d\\u0435 \\u0432\\u0430\\u0441\\u0438\\u043b\\u044c\\u0435\\u0432\\u043d\\u0435 \\u043d\\u0438\\u043a\\u043e\\u043b\\u0435\\u043d\\u043a\\u043e\", \"duration\": 3.1720625}\n",
            "{\"id\": \"b42d13ab3dc159fac39a1120e8011f66\", \"audio_filepath\": \"files/b42d13ab3dc159fac39a1120e8011f66.wav\", \"text\": \"\\u0441\\u0430\\u043b\\u044e\\u0442 \\u0445\\u0432\\u0430\\u0442\\u0438\\u0442\", \"duration\": 1.5226875}\n",
            "{\"id\": \"7e55843e745a239b35212e2caba77239\", \"audio_filepath\": \"files/7e55843e745a239b35212e2caba77239.wav\", \"text\": \"\\u0434\\u0436\\u043e\\u0439 \\u0437\\u0432\\u043e\\u043d\\u043e\\u043a \\u044e\\u0440\\u0438\\u044e \\u0438\\u0432\\u0430\\u043d\\u043e\\u0432\\u0438\\u0447\\u0443 \\u0446\\u0430\\u0440\\u044c\\u043a\\u043e\\u0432\\u0443\", \"duration\": 3.0640625}\n",
            "{\"id\": \"a0c621e2819a3747e42d05940aab0446\", \"audio_filepath\": \"files/a0c621e2819a3747e42d05940aab0446.wav\", \"text\": \"\\u0434\\u0436\\u043e\\u0439 \\u0432\\u044b\\u0439\\u0442\\u0438 \\u0438\\u0437 \\u0441\\u0446\\u0435\\u043d\\u0430\\u0440\\u0438\\u044f\", \"duration\": 2.31475}\n",
            "{\"id\": \"f293e3548bd266460c8ea6ac1fb76478\", \"audio_filepath\": \"files/f293e3548bd266460c8ea6ac1fb76478.wav\", \"text\": \"\\u0441\\u0430\\u043b\\u044e\\u0442 \\u0432\\u044b\\u0439\\u0442\\u0438\", \"duration\": 1.310125}\n",
            "{\"id\": \"b3fc5f249351a9087ffedc0a34385463\", \"audio_filepath\": \"files/b3fc5f249351a9087ffedc0a34385463.wav\", \"text\": \"\\u0441\\u0430\\u043b\\u044e\\u0442 \\u0437\\u0430\\u043a\\u0440\\u043e\\u0439\\u0441\\u044f\", \"duration\": 1.9009375}\n",
            "{\"id\": \"ee2144d4bc00e96131a9bef5c74edd97\", \"audio_filepath\": \"files/ee2144d4bc00e96131a9bef5c74edd97.wav\", \"text\": \"\\u0441\\u0430\\u043b\\u044e\\u0442 \\u043d\\u0430\\u0431\\u0435\\u0440\\u0438 \\u0434\\u0430\\u043d\\u0438\\u043b\\u043e\\u0432\\u0430\", \"duration\": 1.8129375}\n",
            "{\"id\": \"94f4ad577967f9f61d5d88cd92b1339c\", \"audio_filepath\": \"files/94f4ad577967f9f61d5d88cd92b1339c.wav\", \"text\": \"\\u0441\\u0431\\u0435\\u0440 \\u043c\\u043d\\u0435 \\u043d\\u0440\\u0430\\u0432\\u0438\\u0442\\u0441\\u044f\", \"duration\": 1.9945}\n",
            "{\"id\": \"a97958419827c57069bc3550c4353eb9\", \"audio_filepath\": \"files/a97958419827c57069bc3550c4353eb9.wav\", \"text\": \"\\u0441\\u0430\\u043b\\u044e\\u0442 \\u043f\\u0440\\u0435\\u043a\\u0440\\u0430\\u0442\\u0438\", \"duration\": 1.4965}\n"
          ]
        }
      ]
    },
    {
      "cell_type": "markdown",
      "metadata": {
        "id": "m_LFeM0elRzm"
      },
      "source": [
        "Теперь в папке `/content` должна размещаться папка `test` с тестовыми данных датасета Golos. Она содержит файлы манифесты `./test/crowd/manifest.jsonl`, `./test/farfield/manifest.jsonl` и аудио файлы в подпапках `./test/crowd/files/` и `./test/farfield/files/`.\n",
        "\n",
        "Мы можем загрузить и посмотреть данные. Например файл `./test/crowd/files/e632f7d39c15e7edfc665b91e6f2071f.wav` это четырехсекундная запись мужчины, который произносит фразу `Купить моющее средство`. Чтобы убедиться в этом давайте послушаем запись:"
      ]
    },
    {
      "cell_type": "code",
      "metadata": {
        "id": "_M_bSs3MjQlz",
        "colab": {
          "base_uri": "https://localhost:8080/",
          "height": 75
        },
        "outputId": "3dc74c15-89a2-4859-cd95-a367832e4e76"
      },
      "source": [
        "import librosa\n",
        "import IPython.display as ipd\n",
        "\n",
        "# Load and listen to the audio file\n",
        "example_file = data_dir + '/train/farfield/farfield/000140f4107fabaf6e5b58520b13a6f2.wav'\n",
        "\n",
        "audio, sample_rate = librosa.load(example_file)\n",
        "\n",
        "ipd.Audio(example_file, rate=sample_rate)"
      ],
      "execution_count": null,
      "outputs": [
        {
          "output_type": "execute_result",
          "data": {
            "text/html": [
              "\n",
              "                <audio controls=\"controls\" >\n",
              "                    <source src=\"data:audio/x-wav;base64,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\" type=\"audio/x-wav\" />\n",
              "                    Your browser does not support the audio element.\n",
              "                </audio>\n",
              "              "
            ],
            "text/plain": [
              "<IPython.lib.display.Audio object>"
            ]
          },
          "metadata": {},
          "execution_count": 8
        }
      ]
    },
    {
      "cell_type": "markdown",
      "metadata": {
        "id": "qZyElgPVjQl5"
      },
      "source": [
        "В задаче распознавания речи, если этот WAV файлявляется нашим входом в систему, то фраза `Купить моющее средство` будет желаемым выходом из системы.\n",
        "\n",
        "Давайте изобразим форму волны по точкам, которые содержатся в файлах. \n",
        "Этот формат отображения аудио, который скорее всего вам знаком, така как используется во многих аудио радакторах и плеерах:"
      ]
    },
    {
      "cell_type": "code",
      "metadata": {
        "id": "MqIAKkqelRzm",
        "colab": {
          "base_uri": "https://localhost:8080/",
          "height": 397
        },
        "outputId": "d431e788-abfc-4287-956d-5e7d14d12632"
      },
      "source": [
        "%matplotlib inline\n",
        "import librosa.display\n",
        "import matplotlib.pyplot as plt\n",
        "\n",
        "# Plot our example audio file's waveform\n",
        "plt.rcParams['figure.figsize'] = (15,7)\n",
        "plt.title('Waveform of Audio Example')\n",
        "plt.ylabel('Amplitude')\n",
        "\n",
        "_ = librosa.display.waveplot(audio)"
      ],
      "execution_count": null,
      "outputs": [
        {
          "output_type": "error",
          "ename": "ImportError",
          "evalue": "ignored",
          "traceback": [
            "\u001b[0;31m---------------------------------------------------------------------------\u001b[0m",
            "\u001b[0;31mImportError\u001b[0m                               Traceback (most recent call last)",
            "\u001b[0;32m/usr/local/lib/python3.7/dist-packages/IPython/core/formatters.py\u001b[0m in \u001b[0;36m__call__\u001b[0;34m(self, obj)\u001b[0m\n\u001b[1;32m    332\u001b[0m                 \u001b[0;32mpass\u001b[0m\u001b[0;34m\u001b[0m\u001b[0;34m\u001b[0m\u001b[0m\n\u001b[1;32m    333\u001b[0m             \u001b[0;32melse\u001b[0m\u001b[0;34m:\u001b[0m\u001b[0;34m\u001b[0m\u001b[0;34m\u001b[0m\u001b[0m\n\u001b[0;32m--> 334\u001b[0;31m                 \u001b[0;32mreturn\u001b[0m \u001b[0mprinter\u001b[0m\u001b[0;34m(\u001b[0m\u001b[0mobj\u001b[0m\u001b[0;34m)\u001b[0m\u001b[0;34m\u001b[0m\u001b[0;34m\u001b[0m\u001b[0m\n\u001b[0m\u001b[1;32m    335\u001b[0m             \u001b[0;31m# Finally look for special method names\u001b[0m\u001b[0;34m\u001b[0m\u001b[0;34m\u001b[0m\u001b[0;34m\u001b[0m\u001b[0m\n\u001b[1;32m    336\u001b[0m             \u001b[0mmethod\u001b[0m \u001b[0;34m=\u001b[0m \u001b[0mget_real_method\u001b[0m\u001b[0;34m(\u001b[0m\u001b[0mobj\u001b[0m\u001b[0;34m,\u001b[0m \u001b[0mself\u001b[0m\u001b[0;34m.\u001b[0m\u001b[0mprint_method\u001b[0m\u001b[0;34m)\u001b[0m\u001b[0;34m\u001b[0m\u001b[0;34m\u001b[0m\u001b[0m\n",
            "\u001b[0;32m/usr/local/lib/python3.7/dist-packages/IPython/core/pylabtools.py\u001b[0m in \u001b[0;36m<lambda>\u001b[0;34m(fig)\u001b[0m\n\u001b[1;32m    239\u001b[0m \u001b[0;34m\u001b[0m\u001b[0m\n\u001b[1;32m    240\u001b[0m     \u001b[0;32mif\u001b[0m \u001b[0;34m'png'\u001b[0m \u001b[0;32min\u001b[0m \u001b[0mformats\u001b[0m\u001b[0;34m:\u001b[0m\u001b[0;34m\u001b[0m\u001b[0;34m\u001b[0m\u001b[0m\n\u001b[0;32m--> 241\u001b[0;31m         \u001b[0mpng_formatter\u001b[0m\u001b[0;34m.\u001b[0m\u001b[0mfor_type\u001b[0m\u001b[0;34m(\u001b[0m\u001b[0mFigure\u001b[0m\u001b[0;34m,\u001b[0m \u001b[0;32mlambda\u001b[0m \u001b[0mfig\u001b[0m\u001b[0;34m:\u001b[0m \u001b[0mprint_figure\u001b[0m\u001b[0;34m(\u001b[0m\u001b[0mfig\u001b[0m\u001b[0;34m,\u001b[0m \u001b[0;34m'png'\u001b[0m\u001b[0;34m,\u001b[0m \u001b[0;34m**\u001b[0m\u001b[0mkwargs\u001b[0m\u001b[0;34m)\u001b[0m\u001b[0;34m)\u001b[0m\u001b[0;34m\u001b[0m\u001b[0;34m\u001b[0m\u001b[0m\n\u001b[0m\u001b[1;32m    242\u001b[0m     \u001b[0;32mif\u001b[0m \u001b[0;34m'retina'\u001b[0m \u001b[0;32min\u001b[0m \u001b[0mformats\u001b[0m \u001b[0;32mor\u001b[0m \u001b[0;34m'png2x'\u001b[0m \u001b[0;32min\u001b[0m \u001b[0mformats\u001b[0m\u001b[0;34m:\u001b[0m\u001b[0;34m\u001b[0m\u001b[0;34m\u001b[0m\u001b[0m\n\u001b[1;32m    243\u001b[0m         \u001b[0mpng_formatter\u001b[0m\u001b[0;34m.\u001b[0m\u001b[0mfor_type\u001b[0m\u001b[0;34m(\u001b[0m\u001b[0mFigure\u001b[0m\u001b[0;34m,\u001b[0m \u001b[0;32mlambda\u001b[0m \u001b[0mfig\u001b[0m\u001b[0;34m:\u001b[0m \u001b[0mretina_figure\u001b[0m\u001b[0;34m(\u001b[0m\u001b[0mfig\u001b[0m\u001b[0;34m,\u001b[0m \u001b[0;34m**\u001b[0m\u001b[0mkwargs\u001b[0m\u001b[0;34m)\u001b[0m\u001b[0;34m)\u001b[0m\u001b[0;34m\u001b[0m\u001b[0;34m\u001b[0m\u001b[0m\n",
            "\u001b[0;32m/usr/local/lib/python3.7/dist-packages/IPython/core/pylabtools.py\u001b[0m in \u001b[0;36mprint_figure\u001b[0;34m(fig, fmt, bbox_inches, **kwargs)\u001b[0m\n\u001b[1;32m    123\u001b[0m \u001b[0;34m\u001b[0m\u001b[0m\n\u001b[1;32m    124\u001b[0m     \u001b[0mbytes_io\u001b[0m \u001b[0;34m=\u001b[0m \u001b[0mBytesIO\u001b[0m\u001b[0;34m(\u001b[0m\u001b[0;34m)\u001b[0m\u001b[0;34m\u001b[0m\u001b[0;34m\u001b[0m\u001b[0m\n\u001b[0;32m--> 125\u001b[0;31m     \u001b[0mfig\u001b[0m\u001b[0;34m.\u001b[0m\u001b[0mcanvas\u001b[0m\u001b[0;34m.\u001b[0m\u001b[0mprint_figure\u001b[0m\u001b[0;34m(\u001b[0m\u001b[0mbytes_io\u001b[0m\u001b[0;34m,\u001b[0m \u001b[0;34m**\u001b[0m\u001b[0mkw\u001b[0m\u001b[0;34m)\u001b[0m\u001b[0;34m\u001b[0m\u001b[0;34m\u001b[0m\u001b[0m\n\u001b[0m\u001b[1;32m    126\u001b[0m     \u001b[0mdata\u001b[0m \u001b[0;34m=\u001b[0m \u001b[0mbytes_io\u001b[0m\u001b[0;34m.\u001b[0m\u001b[0mgetvalue\u001b[0m\u001b[0;34m(\u001b[0m\u001b[0;34m)\u001b[0m\u001b[0;34m\u001b[0m\u001b[0;34m\u001b[0m\u001b[0m\n\u001b[1;32m    127\u001b[0m     \u001b[0;32mif\u001b[0m \u001b[0mfmt\u001b[0m \u001b[0;34m==\u001b[0m \u001b[0;34m'svg'\u001b[0m\u001b[0;34m:\u001b[0m\u001b[0;34m\u001b[0m\u001b[0;34m\u001b[0m\u001b[0m\n",
            "\u001b[0;32m/usr/local/lib/python3.7/dist-packages/matplotlib/backend_bases.py\u001b[0m in \u001b[0;36mprint_figure\u001b[0;34m(self, filename, dpi, facecolor, edgecolor, orientation, format, bbox_inches, **kwargs)\u001b[0m\n\u001b[1;32m   2092\u001b[0m         \u001b[0mbool\u001b[0m\u001b[0;34m\u001b[0m\u001b[0;34m\u001b[0m\u001b[0m\n\u001b[1;32m   2093\u001b[0m             \u001b[0mWhether\u001b[0m \u001b[0mthe\u001b[0m \u001b[0mratio\u001b[0m \u001b[0mhas\u001b[0m \u001b[0mchanged\u001b[0m\u001b[0;34m.\u001b[0m \u001b[0mBackends\u001b[0m \u001b[0mmay\u001b[0m \u001b[0minterpret\u001b[0m \u001b[0mthis\u001b[0m \u001b[0;32mas\u001b[0m \u001b[0ma\u001b[0m\u001b[0;34m\u001b[0m\u001b[0;34m\u001b[0m\u001b[0m\n\u001b[0;32m-> 2094\u001b[0;31m             \u001b[0msignal\u001b[0m \u001b[0mto\u001b[0m \u001b[0mresize\u001b[0m \u001b[0mthe\u001b[0m \u001b[0mwindow\u001b[0m\u001b[0;34m,\u001b[0m \u001b[0mrepaint\u001b[0m \u001b[0mthe\u001b[0m \u001b[0mcanvas\u001b[0m\u001b[0;34m,\u001b[0m \u001b[0;32mor\u001b[0m \u001b[0mchange\u001b[0m \u001b[0many\u001b[0m\u001b[0;34m\u001b[0m\u001b[0;34m\u001b[0m\u001b[0m\n\u001b[0m\u001b[1;32m   2095\u001b[0m             \u001b[0mother\u001b[0m \u001b[0mrelevant\u001b[0m \u001b[0mproperties\u001b[0m\u001b[0;34m.\u001b[0m\u001b[0;34m\u001b[0m\u001b[0;34m\u001b[0m\u001b[0m\n\u001b[1;32m   2096\u001b[0m         \"\"\"\n",
            "\u001b[0;32m/usr/local/lib/python3.7/dist-packages/matplotlib/backend_bases.py\u001b[0m in \u001b[0;36m_get_renderer\u001b[0;34m(figure, print_method)\u001b[0m\n\u001b[1;32m   1558\u001b[0m     \u001b[0mfigure\u001b[0m\u001b[0;34m.\u001b[0m\u001b[0mdraw_without_rendering\u001b[0m\u001b[0;34m(\u001b[0m\u001b[0;34m)\u001b[0m\u001b[0;34m\u001b[0m\u001b[0;34m\u001b[0m\u001b[0m\n\u001b[1;32m   1559\u001b[0m \u001b[0;34m\u001b[0m\u001b[0m\n\u001b[0;32m-> 1560\u001b[0;31m \u001b[0;34m\u001b[0m\u001b[0m\n\u001b[0m\u001b[1;32m   1561\u001b[0m \u001b[0;32mdef\u001b[0m \u001b[0m_is_non_interactive_terminal_ipython\u001b[0m\u001b[0;34m(\u001b[0m\u001b[0mip\u001b[0m\u001b[0;34m)\u001b[0m\u001b[0;34m:\u001b[0m\u001b[0;34m\u001b[0m\u001b[0;34m\u001b[0m\u001b[0m\n\u001b[1;32m   1562\u001b[0m     \"\"\"\n",
            "\u001b[0;32m/usr/local/lib/python3.7/dist-packages/matplotlib/backends/backend_agg.py\u001b[0m in \u001b[0;36mprint_png\u001b[0;34m(self, filename_or_obj, metadata, pil_kwargs, *args, **kwargs)\u001b[0m\n\u001b[1;32m    503\u001b[0m             \u001b[0mMetadata\u001b[0m \u001b[0;32min\u001b[0m \u001b[0mthe\u001b[0m \u001b[0mPNG\u001b[0m \u001b[0mfile\u001b[0m \u001b[0;32mas\u001b[0m \u001b[0mkey\u001b[0m\u001b[0;34m-\u001b[0m\u001b[0mvalue\u001b[0m \u001b[0mpairs\u001b[0m \u001b[0mof\u001b[0m \u001b[0mbytes\u001b[0m \u001b[0;32mor\u001b[0m \u001b[0mlatin\u001b[0m\u001b[0;34m-\u001b[0m\u001b[0;36m1\u001b[0m\u001b[0;34m\u001b[0m\u001b[0;34m\u001b[0m\u001b[0m\n\u001b[1;32m    504\u001b[0m             \u001b[0mencodable\u001b[0m \u001b[0mstrings\u001b[0m\u001b[0;34m.\u001b[0m\u001b[0;34m\u001b[0m\u001b[0;34m\u001b[0m\u001b[0m\n\u001b[0;32m--> 505\u001b[0;31m             \u001b[0mAccording\u001b[0m \u001b[0mto\u001b[0m \u001b[0mthe\u001b[0m \u001b[0mPNG\u001b[0m \u001b[0mspecification\u001b[0m\u001b[0;34m,\u001b[0m \u001b[0mkeys\u001b[0m \u001b[0mmust\u001b[0m \u001b[0mbe\u001b[0m \u001b[0mshorter\u001b[0m \u001b[0mthan\u001b[0m \u001b[0;36m79\u001b[0m\u001b[0;34m\u001b[0m\u001b[0;34m\u001b[0m\u001b[0m\n\u001b[0m\u001b[1;32m    506\u001b[0m             \u001b[0mchars\u001b[0m\u001b[0;34m.\u001b[0m\u001b[0;34m\u001b[0m\u001b[0;34m\u001b[0m\u001b[0m\n\u001b[1;32m    507\u001b[0m \u001b[0;34m\u001b[0m\u001b[0m\n",
            "\u001b[0;31mImportError\u001b[0m: cannot import name '_png' from 'matplotlib' (/usr/local/lib/python3.7/dist-packages/matplotlib/__init__.py)"
          ]
        },
        {
          "output_type": "display_data",
          "data": {
            "text/plain": [
              "<Figure size 1080x504 with 1 Axes>"
            ]
          },
          "metadata": {
            "needs_background": "light"
          }
        }
      ]
    },
    {
      "cell_type": "markdown",
      "metadata": {
        "id": "Gg6RR_yolRzo"
      },
      "source": [
        "### Спектрограмма и мел-спектрограмма\n",
        "\n",
        "Давайте применим [Фурье преобразование](https://en.wikipedia.org/wiki/Fourier_transform) к аудио сигналу, чтобы получить что то более полезное: **спектрограмму**, которая представляет собой величину энергии (амплитуда или громкость) для каждой частоты (гармоники) сигнала на каждом промежутке времени.\n",
        "\n",
        "Спектрограмма (которую можно рассматривать как тепловую карту) является хорошим способом увидеть, как *амплитуды различных частот в звуке меняются с течением времени*. Спектрограмма получается путем разбиения сигнала на короткие фреймы, обычно перекрывающиеся и выполнения кратковременного преобразования Фурье (STFT) для каждого из фреймов.\n",
        "\n",
        "Двайте посмотрим как выглядит спекторграмма для нашего звука. "
      ]
    },
    {
      "cell_type": "code",
      "metadata": {
        "id": "oCFneEs1lRzp",
        "colab": {
          "base_uri": "https://localhost:8080/",
          "height": 397
        },
        "outputId": "f0ebfa17-ef54-44b8-ef94-3c3e460f29dc"
      },
      "source": [
        "import numpy as np\n",
        "\n",
        "# Get spectrogram using Librosa's Short-Time Fourier Transform (stft)\n",
        "spec = np.abs(librosa.stft(audio))\n",
        "spec_db = librosa.amplitude_to_db(spec, ref=np.max)  # Decibels\n",
        "\n",
        "# Use log scale to view frequencies\n",
        "librosa.display.specshow(spec_db, y_axis='log', x_axis='time')\n",
        "plt.colorbar()\n",
        "plt.title('Audio Spectrogram');"
      ],
      "execution_count": null,
      "outputs": [
        {
          "output_type": "error",
          "ename": "ImportError",
          "evalue": "ignored",
          "traceback": [
            "\u001b[0;31m---------------------------------------------------------------------------\u001b[0m",
            "\u001b[0;31mImportError\u001b[0m                               Traceback (most recent call last)",
            "\u001b[0;32m/usr/local/lib/python3.7/dist-packages/IPython/core/formatters.py\u001b[0m in \u001b[0;36m__call__\u001b[0;34m(self, obj)\u001b[0m\n\u001b[1;32m    332\u001b[0m                 \u001b[0;32mpass\u001b[0m\u001b[0;34m\u001b[0m\u001b[0;34m\u001b[0m\u001b[0m\n\u001b[1;32m    333\u001b[0m             \u001b[0;32melse\u001b[0m\u001b[0;34m:\u001b[0m\u001b[0;34m\u001b[0m\u001b[0;34m\u001b[0m\u001b[0m\n\u001b[0;32m--> 334\u001b[0;31m                 \u001b[0;32mreturn\u001b[0m \u001b[0mprinter\u001b[0m\u001b[0;34m(\u001b[0m\u001b[0mobj\u001b[0m\u001b[0;34m)\u001b[0m\u001b[0;34m\u001b[0m\u001b[0;34m\u001b[0m\u001b[0m\n\u001b[0m\u001b[1;32m    335\u001b[0m             \u001b[0;31m# Finally look for special method names\u001b[0m\u001b[0;34m\u001b[0m\u001b[0;34m\u001b[0m\u001b[0;34m\u001b[0m\u001b[0m\n\u001b[1;32m    336\u001b[0m             \u001b[0mmethod\u001b[0m \u001b[0;34m=\u001b[0m \u001b[0mget_real_method\u001b[0m\u001b[0;34m(\u001b[0m\u001b[0mobj\u001b[0m\u001b[0;34m,\u001b[0m \u001b[0mself\u001b[0m\u001b[0;34m.\u001b[0m\u001b[0mprint_method\u001b[0m\u001b[0;34m)\u001b[0m\u001b[0;34m\u001b[0m\u001b[0;34m\u001b[0m\u001b[0m\n",
            "\u001b[0;32m/usr/local/lib/python3.7/dist-packages/IPython/core/pylabtools.py\u001b[0m in \u001b[0;36m<lambda>\u001b[0;34m(fig)\u001b[0m\n\u001b[1;32m    239\u001b[0m \u001b[0;34m\u001b[0m\u001b[0m\n\u001b[1;32m    240\u001b[0m     \u001b[0;32mif\u001b[0m \u001b[0;34m'png'\u001b[0m \u001b[0;32min\u001b[0m \u001b[0mformats\u001b[0m\u001b[0;34m:\u001b[0m\u001b[0;34m\u001b[0m\u001b[0;34m\u001b[0m\u001b[0m\n\u001b[0;32m--> 241\u001b[0;31m         \u001b[0mpng_formatter\u001b[0m\u001b[0;34m.\u001b[0m\u001b[0mfor_type\u001b[0m\u001b[0;34m(\u001b[0m\u001b[0mFigure\u001b[0m\u001b[0;34m,\u001b[0m \u001b[0;32mlambda\u001b[0m \u001b[0mfig\u001b[0m\u001b[0;34m:\u001b[0m \u001b[0mprint_figure\u001b[0m\u001b[0;34m(\u001b[0m\u001b[0mfig\u001b[0m\u001b[0;34m,\u001b[0m \u001b[0;34m'png'\u001b[0m\u001b[0;34m,\u001b[0m \u001b[0;34m**\u001b[0m\u001b[0mkwargs\u001b[0m\u001b[0;34m)\u001b[0m\u001b[0;34m)\u001b[0m\u001b[0;34m\u001b[0m\u001b[0;34m\u001b[0m\u001b[0m\n\u001b[0m\u001b[1;32m    242\u001b[0m     \u001b[0;32mif\u001b[0m \u001b[0;34m'retina'\u001b[0m \u001b[0;32min\u001b[0m \u001b[0mformats\u001b[0m \u001b[0;32mor\u001b[0m \u001b[0;34m'png2x'\u001b[0m \u001b[0;32min\u001b[0m \u001b[0mformats\u001b[0m\u001b[0;34m:\u001b[0m\u001b[0;34m\u001b[0m\u001b[0;34m\u001b[0m\u001b[0m\n\u001b[1;32m    243\u001b[0m         \u001b[0mpng_formatter\u001b[0m\u001b[0;34m.\u001b[0m\u001b[0mfor_type\u001b[0m\u001b[0;34m(\u001b[0m\u001b[0mFigure\u001b[0m\u001b[0;34m,\u001b[0m \u001b[0;32mlambda\u001b[0m \u001b[0mfig\u001b[0m\u001b[0;34m:\u001b[0m \u001b[0mretina_figure\u001b[0m\u001b[0;34m(\u001b[0m\u001b[0mfig\u001b[0m\u001b[0;34m,\u001b[0m \u001b[0;34m**\u001b[0m\u001b[0mkwargs\u001b[0m\u001b[0;34m)\u001b[0m\u001b[0;34m)\u001b[0m\u001b[0;34m\u001b[0m\u001b[0;34m\u001b[0m\u001b[0m\n",
            "\u001b[0;32m/usr/local/lib/python3.7/dist-packages/IPython/core/pylabtools.py\u001b[0m in \u001b[0;36mprint_figure\u001b[0;34m(fig, fmt, bbox_inches, **kwargs)\u001b[0m\n\u001b[1;32m    123\u001b[0m \u001b[0;34m\u001b[0m\u001b[0m\n\u001b[1;32m    124\u001b[0m     \u001b[0mbytes_io\u001b[0m \u001b[0;34m=\u001b[0m \u001b[0mBytesIO\u001b[0m\u001b[0;34m(\u001b[0m\u001b[0;34m)\u001b[0m\u001b[0;34m\u001b[0m\u001b[0;34m\u001b[0m\u001b[0m\n\u001b[0;32m--> 125\u001b[0;31m     \u001b[0mfig\u001b[0m\u001b[0;34m.\u001b[0m\u001b[0mcanvas\u001b[0m\u001b[0;34m.\u001b[0m\u001b[0mprint_figure\u001b[0m\u001b[0;34m(\u001b[0m\u001b[0mbytes_io\u001b[0m\u001b[0;34m,\u001b[0m \u001b[0;34m**\u001b[0m\u001b[0mkw\u001b[0m\u001b[0;34m)\u001b[0m\u001b[0;34m\u001b[0m\u001b[0;34m\u001b[0m\u001b[0m\n\u001b[0m\u001b[1;32m    126\u001b[0m     \u001b[0mdata\u001b[0m \u001b[0;34m=\u001b[0m \u001b[0mbytes_io\u001b[0m\u001b[0;34m.\u001b[0m\u001b[0mgetvalue\u001b[0m\u001b[0;34m(\u001b[0m\u001b[0;34m)\u001b[0m\u001b[0;34m\u001b[0m\u001b[0;34m\u001b[0m\u001b[0m\n\u001b[1;32m    127\u001b[0m     \u001b[0;32mif\u001b[0m \u001b[0mfmt\u001b[0m \u001b[0;34m==\u001b[0m \u001b[0;34m'svg'\u001b[0m\u001b[0;34m:\u001b[0m\u001b[0;34m\u001b[0m\u001b[0;34m\u001b[0m\u001b[0m\n",
            "\u001b[0;32m/usr/local/lib/python3.7/dist-packages/matplotlib/backend_bases.py\u001b[0m in \u001b[0;36mprint_figure\u001b[0;34m(self, filename, dpi, facecolor, edgecolor, orientation, format, bbox_inches, **kwargs)\u001b[0m\n\u001b[1;32m   2092\u001b[0m         \u001b[0mbool\u001b[0m\u001b[0;34m\u001b[0m\u001b[0;34m\u001b[0m\u001b[0m\n\u001b[1;32m   2093\u001b[0m             \u001b[0mWhether\u001b[0m \u001b[0mthe\u001b[0m \u001b[0mratio\u001b[0m \u001b[0mhas\u001b[0m \u001b[0mchanged\u001b[0m\u001b[0;34m.\u001b[0m \u001b[0mBackends\u001b[0m \u001b[0mmay\u001b[0m \u001b[0minterpret\u001b[0m \u001b[0mthis\u001b[0m \u001b[0;32mas\u001b[0m \u001b[0ma\u001b[0m\u001b[0;34m\u001b[0m\u001b[0;34m\u001b[0m\u001b[0m\n\u001b[0;32m-> 2094\u001b[0;31m             \u001b[0msignal\u001b[0m \u001b[0mto\u001b[0m \u001b[0mresize\u001b[0m \u001b[0mthe\u001b[0m \u001b[0mwindow\u001b[0m\u001b[0;34m,\u001b[0m \u001b[0mrepaint\u001b[0m \u001b[0mthe\u001b[0m \u001b[0mcanvas\u001b[0m\u001b[0;34m,\u001b[0m \u001b[0;32mor\u001b[0m \u001b[0mchange\u001b[0m \u001b[0many\u001b[0m\u001b[0;34m\u001b[0m\u001b[0;34m\u001b[0m\u001b[0m\n\u001b[0m\u001b[1;32m   2095\u001b[0m             \u001b[0mother\u001b[0m \u001b[0mrelevant\u001b[0m \u001b[0mproperties\u001b[0m\u001b[0;34m.\u001b[0m\u001b[0;34m\u001b[0m\u001b[0;34m\u001b[0m\u001b[0m\n\u001b[1;32m   2096\u001b[0m         \"\"\"\n",
            "\u001b[0;32m/usr/local/lib/python3.7/dist-packages/matplotlib/backend_bases.py\u001b[0m in \u001b[0;36m_get_renderer\u001b[0;34m(figure, print_method)\u001b[0m\n\u001b[1;32m   1558\u001b[0m     \u001b[0mfigure\u001b[0m\u001b[0;34m.\u001b[0m\u001b[0mdraw_without_rendering\u001b[0m\u001b[0;34m(\u001b[0m\u001b[0;34m)\u001b[0m\u001b[0;34m\u001b[0m\u001b[0;34m\u001b[0m\u001b[0m\n\u001b[1;32m   1559\u001b[0m \u001b[0;34m\u001b[0m\u001b[0m\n\u001b[0;32m-> 1560\u001b[0;31m \u001b[0;34m\u001b[0m\u001b[0m\n\u001b[0m\u001b[1;32m   1561\u001b[0m \u001b[0;32mdef\u001b[0m \u001b[0m_is_non_interactive_terminal_ipython\u001b[0m\u001b[0;34m(\u001b[0m\u001b[0mip\u001b[0m\u001b[0;34m)\u001b[0m\u001b[0;34m:\u001b[0m\u001b[0;34m\u001b[0m\u001b[0;34m\u001b[0m\u001b[0m\n\u001b[1;32m   1562\u001b[0m     \"\"\"\n",
            "\u001b[0;32m/usr/local/lib/python3.7/dist-packages/matplotlib/backends/backend_agg.py\u001b[0m in \u001b[0;36mprint_png\u001b[0;34m(self, filename_or_obj, metadata, pil_kwargs, *args, **kwargs)\u001b[0m\n\u001b[1;32m    503\u001b[0m             \u001b[0mMetadata\u001b[0m \u001b[0;32min\u001b[0m \u001b[0mthe\u001b[0m \u001b[0mPNG\u001b[0m \u001b[0mfile\u001b[0m \u001b[0;32mas\u001b[0m \u001b[0mkey\u001b[0m\u001b[0;34m-\u001b[0m\u001b[0mvalue\u001b[0m \u001b[0mpairs\u001b[0m \u001b[0mof\u001b[0m \u001b[0mbytes\u001b[0m \u001b[0;32mor\u001b[0m \u001b[0mlatin\u001b[0m\u001b[0;34m-\u001b[0m\u001b[0;36m1\u001b[0m\u001b[0;34m\u001b[0m\u001b[0;34m\u001b[0m\u001b[0m\n\u001b[1;32m    504\u001b[0m             \u001b[0mencodable\u001b[0m \u001b[0mstrings\u001b[0m\u001b[0;34m.\u001b[0m\u001b[0;34m\u001b[0m\u001b[0;34m\u001b[0m\u001b[0m\n\u001b[0;32m--> 505\u001b[0;31m             \u001b[0mAccording\u001b[0m \u001b[0mto\u001b[0m \u001b[0mthe\u001b[0m \u001b[0mPNG\u001b[0m \u001b[0mspecification\u001b[0m\u001b[0;34m,\u001b[0m \u001b[0mkeys\u001b[0m \u001b[0mmust\u001b[0m \u001b[0mbe\u001b[0m \u001b[0mshorter\u001b[0m \u001b[0mthan\u001b[0m \u001b[0;36m79\u001b[0m\u001b[0;34m\u001b[0m\u001b[0;34m\u001b[0m\u001b[0m\n\u001b[0m\u001b[1;32m    506\u001b[0m             \u001b[0mchars\u001b[0m\u001b[0;34m.\u001b[0m\u001b[0;34m\u001b[0m\u001b[0;34m\u001b[0m\u001b[0m\n\u001b[1;32m    507\u001b[0m \u001b[0;34m\u001b[0m\u001b[0m\n",
            "\u001b[0;31mImportError\u001b[0m: cannot import name '_png' from 'matplotlib' (/usr/local/lib/python3.7/dist-packages/matplotlib/__init__.py)"
          ]
        },
        {
          "output_type": "display_data",
          "data": {
            "text/plain": [
              "<Figure size 1080x504 with 2 Axes>"
            ]
          },
          "metadata": {
            "needs_background": "light"
          }
        }
      ]
    },
    {
      "cell_type": "markdown",
      "metadata": {
        "id": "9OPc4tcalRzs"
      },
      "source": [
        "Можем сделать еще одну потенциально полезную настройку: использовать **Mel** спектрограмму вместо обычной спектрограммы. Это просто изменение шкалы частот, которую мы используем, с линейной (или логарифмической) на шкалу mel, которая представляет собой \"шкалу восприятия тонов, которые слушатели оценивают как равные на расстоянии друг от друга\" (из [Wikipedia](https://en.wikipedia.org/wiki/Mel_scale)).\n",
        "\n",
        "Другими словами, это преобразование частот, чтобы быть более согласованным с тем, что воспринимают люди; изменение +1000 Гц с 2000 Гц->3000 Гц звучит для нас как большая разница, чем 9000 Гц->10000 Гц, поэтому шкала mel нормализует это так, что равные расстояния звучат как равные различия для человеческого уха. Интуитивно мы используем спектрограмму mel, потому что в этом случае мы обрабатываем и расшифровываем человеческую речь, так что преобразование шкалы для лучшего соответствия тому, что мы слышим, является полезной процедурой."
      ]
    },
    {
      "cell_type": "code",
      "metadata": {
        "id": "7yQXVn-TlRzt",
        "colab": {
          "base_uri": "https://localhost:8080/",
          "height": 457
        },
        "outputId": "395a0a63-04d2-4df0-d951-578f2b0eb786"
      },
      "source": [
        "# Plot the mel spectrogram of our sample\n",
        "mel_spec = librosa.feature.melspectrogram(audio, sr=sample_rate)\n",
        "mel_spec_db = librosa.power_to_db(mel_spec, ref=np.max)\n",
        "\n",
        "librosa.display.specshow(\n",
        "    mel_spec_db, x_axis='time', y_axis='mel')\n",
        "plt.colorbar()\n",
        "plt.title('Mel Spectrogram');"
      ],
      "execution_count": null,
      "outputs": [
        {
          "output_type": "display_data",
          "data": {
            "image/png": "[encoded data removed]",
            "text/plain": [
              "<Figure size 1080x504 with 2 Axes>"
            ]
          },
          "metadata": {
            "needs_background": "light"
          }
        }
      ]
    },
    {
      "cell_type": "markdown",
      "metadata": {
        "id": "RSCyVizDlRz1"
      },
      "source": [
        "## Сверточная модель распознавания речи\n",
        "### Jasper модель\n",
        "\n",
        "Мы будем тренировать небольшую модель [Jasper (Just Another SPeech Recognizer) model](https://arxiv.org/abs/1904.03288) с нуля (инициализируется случайным образом).\n",
        "Архитектуры Jasper состоят из повторяющейся блочной структуры, которая использует 1D-свертки.\n",
        "В модели Jasper_KxR подблоки `R` (состоящие из 1D свертки, batchnorm, ReLU и dropout) группируются в один блок, который затем повторяется `K` раз.\n",
        "Также есть один дополнительный блок в начале и еще несколько в конце, которые инвариантны к `K` и `R`, идалее используем CTC loss.\n",
        "\n",
        "### Модель QuartzNet\n",
        "\n",
        "QuartzNet является улучшенным вариантом Jasper с ключевым отличием в том, что она использует 1D-свертки, разделяемые по временному каналу. Это позволяет ему значительно сократить количество весов при сохранении аналогичной точности.\n",
        "\n",
        "Модели Jasper/QuartzNet выглядят так (на фото изображена модель QuartzNet):\n",
        "\n",
        "![QuartzNet with CTC](https://developer.nvidia.com/blog/wp-content/uploads/2020/05/quartznet-model-architecture-1-625x742.png)"
      ]
    },
    {
      "cell_type": "markdown",
      "metadata": {
        "id": "gEpNci7slRzw"
      },
      "source": [
        "# Использование NeMo для распонавания речи\n",
        "\n",
        "Теперь мы знаем что такое задача автоматичского распознавания речи и речевые данные, давайте использовать NeMo для распознавания речи.\n",
        "\n",
        "Мы будем использовать **Neural Modules (NeMo) toolkit**, поэтому нужно скачать и установить все ее зависимости. Для этого следуйте инструкции в репозитории [GitHub page](https://github.com/NVIDIA/NeMo), или документации [documentation](https://docs.nvidia.com/deeplearning/nemo/user-guide/docs/en/stable/).\n",
        "\n",
        "NeMo позволяет нам легко использовать все необходимые компоненты для нашей модели: dataloader,  промежуточные сверточные или рекурентные слои, разные loss  функции без необходимости разбираться в деталях реализации разных моедлей. В NeMo содержатся готовые реализованные модели в которых достаточно подать свои данные и задать гиперпараметры для обучения."
      ]
    },
    {
      "cell_type": "code",
      "metadata": {
        "id": "4_W0lhaQlRzx",
        "colab": {
          "base_uri": "https://localhost:8080/"
        },
        "outputId": "f6740953-be1d-44d7-8bca-33e3a27a5be8"
      },
      "source": [
        "# NeMo's \"core\" package\n",
        "import nemo\n",
        "# NeMo's ASR collection - this collections contains complete ASR models and\n",
        "# building blocks (modules) for ASR\n",
        "import nemo.collections.asr as nemo_asr"
      ],
      "execution_count": 8,
      "outputs": [
        {
          "output_type": "stream",
          "name": "stderr",
          "text": [
            "[NeMo W 2021-11-30 14:41:45 optimizers:50] Apex was not found. Using the lamb or fused_adam optimizer will error out.\n",
            "################################################################################\n",
            "### WARNING, path does not exist: KALDI_ROOT=/mnt/matylda5/iveselyk/Tools/kaldi-trunk\n",
            "###          (please add 'export KALDI_ROOT=<your_path>' in your $HOME/.profile)\n",
            "###          (or run as: KALDI_ROOT=<your_path> python <your_script>.py)\n",
            "################################################################################\n",
            "\n"
          ]
        }
      ]
    },
    {
      "cell_type": "markdown",
      "metadata": {
        "id": "v_W8EbYktZE3"
      },
      "source": [
        "## Исползование предобученной модели\n",
        "\n",
        "\n",
        "Коллекция для распознавания речи в NeMo содержит готовые блоки, которые можно использовать чтобы тренировать и использовать свою модель. Кроме этого существет ряд предобученных моделей, которые можно просто скачать и исползовать. Давайте скачаем и инициализируем готовую модель QuartzNet15x5, обученную на открытом датасете Golos.\n",
        "\n"
      ]
    },
    {
      "cell_type": "code",
      "metadata": {
        "id": "KFZZpYult96G",
        "colab": {
          "base_uri": "https://localhost:8080/"
        },
        "outputId": "f5cac52c-a98c-42e5-bfda-74251d00f708"
      },
      "source": [
        "# asr_model = nemo_asr.models.EncDecCTCModel.from_pretrained(model_name=\"stt_ru_quartznet15x5\")\n",
        "\n",
        "load(\"https://sc.link/ZMv\", \"QuartzNet15x5_golos.nemo\")\n",
        "asr_model = nemo_asr.models.EncDecCTCModel.restore_from(os.path.join(data_dir, \"QuartzNet15x5_golos.nemo\"))"
      ],
      "execution_count": 9,
      "outputs": [
        {
          "output_type": "stream",
          "name": "stdout",
          "text": [
            "Dataset downloaded at: /content/QuartzNet15x5_golos.nemo\n"
          ]
        },
        {
          "output_type": "stream",
          "name": "stderr",
          "text": [
            "[NeMo W 2021-11-30 14:41:59 modelPT:131] If you intend to do training or fine-tuning, please call the ModelPT.setup_training_data() method and provide a valid configuration file to setup the train data loader.\n",
            "    Train config : \n",
            "    manifest_filepath: train/golos_and_mcv.jsonl\n",
            "    sample_rate: 16000\n",
            "    labels:\n",
            "    - ' '\n",
            "    - а\n",
            "    - б\n",
            "    - в\n",
            "    - г\n",
            "    - д\n",
            "    - е\n",
            "    - ж\n",
            "    - з\n",
            "    - и\n",
            "    - й\n",
            "    - к\n",
            "    - л\n",
            "    - м\n",
            "    - н\n",
            "    - о\n",
            "    - п\n",
            "    - р\n",
            "    - с\n",
            "    - т\n",
            "    - у\n",
            "    - ф\n",
            "    - х\n",
            "    - ц\n",
            "    - ч\n",
            "    - ш\n",
            "    - щ\n",
            "    - ъ\n",
            "    - ы\n",
            "    - ь\n",
            "    - э\n",
            "    - ю\n",
            "    - я\n",
            "    batch_size: 64\n",
            "    trim_silence: false\n",
            "    max_duration: 20.0\n",
            "    min_duration: 0.1\n",
            "    num_workers: 20\n",
            "    shuffle: true\n",
            "    is_tarred: false\n",
            "    tarred_audio_filepaths: null\n",
            "    tarred_shard_strategy: scatter\n",
            "    parser: ru\n",
            "    \n",
            "[NeMo W 2021-11-30 14:41:59 modelPT:138] If you intend to do validation, please call the ModelPT.setup_validation_data() or ModelPT.setup_multiple_validation_data() method and provide a valid configuration file to setup the validation data loader(s). \n",
            "    Validation config : \n",
            "    manifest_filepath:\n",
            "    - test/mcv/dev_ru.jsonl\n",
            "    - test/mcv/test_ru.jsonl\n",
            "    - test/crowd/crowd.jsonl\n",
            "    - test/farfield/farfield.jsonl\n",
            "    sample_rate: 16000\n",
            "    labels:\n",
            "    - ' '\n",
            "    - а\n",
            "    - б\n",
            "    - в\n",
            "    - г\n",
            "    - д\n",
            "    - е\n",
            "    - ж\n",
            "    - з\n",
            "    - и\n",
            "    - й\n",
            "    - к\n",
            "    - л\n",
            "    - м\n",
            "    - н\n",
            "    - о\n",
            "    - п\n",
            "    - р\n",
            "    - с\n",
            "    - т\n",
            "    - у\n",
            "    - ф\n",
            "    - х\n",
            "    - ц\n",
            "    - ч\n",
            "    - ш\n",
            "    - щ\n",
            "    - ъ\n",
            "    - ы\n",
            "    - ь\n",
            "    - э\n",
            "    - ю\n",
            "    - я\n",
            "    batch_size: 64\n",
            "    num_workers: 20\n",
            "    shuffle: false\n",
            "    parser: ru\n",
            "    \n",
            "[NeMo W 2021-11-30 14:41:59 modelPT:144] Please call the ModelPT.setup_test_data() or ModelPT.setup_multiple_test_data() method and provide a valid configuration file to setup the test data loader(s).\n",
            "    Test config : \n",
            "    manifest_filepath: test/mcv/test_ru.jsonl\n",
            "    sample_rate: 16000\n",
            "    labels:\n",
            "    - ' '\n",
            "    - а\n",
            "    - б\n",
            "    - в\n",
            "    - г\n",
            "    - д\n",
            "    - е\n",
            "    - ж\n",
            "    - з\n",
            "    - и\n",
            "    - й\n",
            "    - к\n",
            "    - л\n",
            "    - м\n",
            "    - н\n",
            "    - о\n",
            "    - п\n",
            "    - р\n",
            "    - с\n",
            "    - т\n",
            "    - у\n",
            "    - ф\n",
            "    - х\n",
            "    - ц\n",
            "    - ч\n",
            "    - ш\n",
            "    - щ\n",
            "    - ъ\n",
            "    - ы\n",
            "    - ь\n",
            "    - э\n",
            "    - ю\n",
            "    - я\n",
            "    batch_size: 64\n",
            "    shuffle: false\n",
            "    parser: ru\n",
            "    \n"
          ]
        },
        {
          "output_type": "stream",
          "name": "stdout",
          "text": [
            "[NeMo I 2021-11-30 14:41:59 features:265] PADDING: 16\n",
            "[NeMo I 2021-11-30 14:41:59 features:282] STFT using torch\n",
            "[NeMo I 2021-11-30 14:42:14 save_restore_connector:149] Model EncDecCTCModel was successfully restored from /content/QuartzNet15x5_golos.nemo.\n"
          ]
        }
      ]
    },
    {
      "cell_type": "markdown",
      "metadata": {
        "id": "KucxoFJhum0i"
      },
      "source": [
        "Теперь указваем список фалов которые мы хотим транскрибировать и передаем в нашу модель. Это будет работать для относительно коротких аудио (<25 секунд) файлов. "
      ]
    },
    {
      "cell_type": "code",
      "metadata": {
        "id": "3QCpR_93u1hp",
        "colab": {
          "base_uri": "https://localhost:8080/",
          "height": 173,
          "referenced_widgets": [
            "e2867e13c09f45ffb149d55fdba068f6",
            "b27889bcdda34b32924faf8319d3cc3c",
            "262cfe85615b4b7aba1a3449463bc740",
            "e2b76b3bea364c83845005c3d0c652af",
            "34e3182ee4d74e8c9fd7f3281053ec55",
            "35870271d71042ae855be988055f6d71",
            "57b652a311674cda96e5debf23a54b1b",
            "92a248a8b2144d62b7b1a52f3fe2541b",
            "5530980921c4464caf3ce628ab338cb7",
            "843b5129a3cd4fe8a6017ee2e605a684",
            "aa0379ff38ab414ca3b54e7dff66ca65"
          ]
        },
        "outputId": "a6ddb555-e6d2-4bcd-c657-89a25f0820ce"
      },
      "source": [
        "files = [data_dir + \"/train/farfield/farfield/855e01d6ba9a4aa59950d62037b87709.wav\"]\n",
        "transcriptions = asr_model.transcribe(paths2audio_files=files)\n",
        "\n",
        "for fname, transcription in zip(files, transcriptions):\n",
        "  print(f\"Audio in {fname} was recognized as: {transcription}\")"
      ],
      "execution_count": 10,
      "outputs": [
        {
          "output_type": "display_data",
          "data": {
            "application/vnd.jupyter.widget-view+json": {
              "model_id": "e2867e13c09f45ffb149d55fdba068f6",
              "version_minor": 0,
              "version_major": 2
            },
            "text/plain": [
              "Transcribing:   0%|          | 0/1 [00:00<?, ?it/s]"
            ]
          },
          "metadata": {}
        },
        {
          "output_type": "stream",
          "name": "stderr",
          "text": [
            "[NeMo W 2021-11-30 14:42:24 patch_utils:50] torch.stft() signature has been updated for PyTorch 1.7+\n",
            "    Please update PyTorch to remain compatible with later versions of NeMo.\n",
            "[NeMo W 2021-11-30 14:42:24 nemo_logging:349] /usr/local/lib/python3.7/dist-packages/nemo/collections/asr/parts/submodules/jasper.py:280: UserWarning: __floordiv__ is deprecated, and its behavior will change in a future version of pytorch. It currently rounds toward 0 (like the 'trunc' function NOT 'floor'). This results in incorrect rounding for negative values. To keep the current behavior, use torch.div(a, b, rounding_mode='trunc'), or for actual floor division, use torch.div(a, b, rounding_mode='floor').\n",
            "      ) // self.conv.stride[0] + 1\n",
            "    \n"
          ]
        },
        {
          "output_type": "stream",
          "name": "stdout",
          "text": [
            "Audio in /content/train/farfield/farfield/855e01d6ba9a4aa59950d62037b87709.wav was recognized as: афина хотела номер телефона поменять карты\n"
          ]
        }
      ]
    },
    {
      "cell_type": "markdown",
      "metadata": {
        "id": "ppUm_kuavm_f"
      },
      "source": [
        "Это было просто! Но существует масса сценариев, когда мы хотим дообучить модель на наших данных или обучить заново. Например это модель не сможет распознать украинский язык и скоре всего будет плохо распознавать речь в телефонных разговорах. Поэтому, если вы применяете модель на своих данных, то без сомнения, вам нужно дообучать модель на них!"
      ]
    },
    {
      "cell_type": "markdown",
      "metadata": {
        "id": "ABUDaC5Js7AW"
      },
      "source": [
        "## Обучение \n",
        "\n",
        "\n",
        "Для обучения нужно подготовить данные в нужном формате. Для этого добавим абсолютные пути к относительным в наших манифестах и используем их для обучения."
      ]
    },
    {
      "cell_type": "code",
      "metadata": {
        "colab": {
          "base_uri": "https://localhost:8080/"
        },
        "id": "uWtStF94z46m",
        "outputId": "e59ead19-1da7-492d-9510-960c865415d9"
      },
      "source": [
        "# --- Building Manifest Files --- #\n",
        "import json\n",
        "\n",
        "# Function to build a manifest\n",
        "def build_manifest(manifest_rel, manifest_abs):\n",
        "    manifest_path = os.path.split(os.path.abspath(manifest_rel))[0]\n",
        "    with open(manifest_rel, 'r') as fin:\n",
        "        with open(manifest_abs, 'w') as fout:\n",
        "            for line in fin:\n",
        "                metadata = json.loads(line)\n",
        "                metadata[\"audio_filepath\"]=os.path.join(manifest_path, metadata[\"audio_filepath\"])\n",
        "                json.dump(metadata, fout)\n",
        "                fout.write('\\n')\n",
        "                \n",
        "# Building Manifests\n",
        "print(\"******\")\n",
        "train_rel = os.path.join(data_dir, 'test/farfield/manifest.jsonl')\n",
        "train_abs = os.path.join(data_dir, 'test/farfield/farfield.jsonl')\n",
        "if not os.path.isfile(train_abs):\n",
        "  build_manifest(train_rel, train_abs)\n",
        "test_manifest = train_abs\n",
        "print(\"test_manifest\", test_manifest)\n",
        "\n",
        "train_rel = os.path.join(data_dir, 'train/farfield/manifest.jsonl')\n",
        "train_abs = os.path.join(data_dir, 'train/farfield/farfield.jsonl')\n",
        "if not os.path.isfile(train_abs):\n",
        "  build_manifest(train_rel, train_abs)\n",
        "train_manifest = train_abs\n",
        "print(\"train_manifest\", train_manifest)"
      ],
      "execution_count": 11,
      "outputs": [
        {
          "output_type": "stream",
          "name": "stdout",
          "text": [
            "******\n",
            "test_manifest /content/test/farfield/farfield.jsonl\n",
            "train_manifest /content/train/farfield/farfield.jsonl\n"
          ]
        }
      ]
    },
    {
      "cell_type": "code",
      "metadata": {
        "colab": {
          "base_uri": "https://localhost:8080/"
        },
        "id": "uctl3t5qrY2c",
        "outputId": "244b7256-d65c-4646-ad7e-8c7a6b4c7ac8"
      },
      "source": [
        "# ! head /content/test/farfield/manifest.jsonl\n",
        "! head /content/train/farfield/farfield.jsonl"
      ],
      "execution_count": 12,
      "outputs": [
        {
          "output_type": "stream",
          "name": "stdout",
          "text": [
            "{\"id\": \"855e01d6ba9a4aa59950d62037b87709\", \"audio_filepath\": \"/content/train/farfield/farfield/855e01d6ba9a4aa59950d62037b87709.wav\", \"text\": \"\\u0430\\u0444\\u0438\\u043d\\u0430 \\u0445\\u043e\\u0442\\u0435\\u043b\\u0430 \\u043d\\u043e\\u043c\\u0435\\u0440 \\u0442\\u0435\\u043b\\u0435\\u0444\\u043e\\u043d\\u0430 \\u043f\\u043e\\u043c\\u0435\\u043d\\u044f\\u0442\\u044c \\u043a\\u0430\\u0440\\u0442\\u044b\", \"duration\": 5.4596875}\n",
            "{\"id\": \"f6075fae0c592183f107cf781117d9b5\", \"audio_filepath\": \"/content/train/farfield/farfield/f6075fae0c592183f107cf781117d9b5.wav\", \"text\": \"\\u0441\\u0430\\u043b\\u044e\\u0442 \\u0445\\u043e\\u0447\\u0443 \\u043f\\u043e\\u0433\\u043e\\u0432\\u043e\\u0440\\u0438\\u0442\\u044c \\u0441 \\u0434\\u0436\\u043e\\u0439\", \"duration\": 4.15125}\n",
            "{\"id\": \"2599a6cb55795b38ddd80b849d8670bc\", \"audio_filepath\": \"/content/train/farfield/farfield/2599a6cb55795b38ddd80b849d8670bc.wav\", \"text\": \"\\u0434\\u0436\\u043e\\u0439 \\u043a\\u0430\\u043a\\u0430\\u044f \\u0432\\u0430\\u043b\\u044e\\u0442\\u0430 \\u0432 \\u043a\\u0430\\u043c\\u0431\\u043e\\u0434\\u0436\\u0435\", \"duration\": 3.9185625}\n",
            "{\"id\": \"5f7483035b2f26b773b0d3fb125b779d\", \"audio_filepath\": \"/content/train/farfield/farfield/5f7483035b2f26b773b0d3fb125b779d.wav\", \"text\": \"\\u0441\\u0430\\u043b\\u044e\\u0442 \\u044f \\u043c\\u043e\\u0433\\u0443 \\u0447\\u0442\\u043e \\u043d\\u0438\\u0431\\u0443\\u0434\\u044c \\u0441\\u0434\\u0435\\u043b\\u0430\\u0442\\u044c\", \"duration\": 5.063625}\n",
            "{\"id\": \"4c95a12b71e1262ac937d2fe6a803906\", \"audio_filepath\": \"/content/train/farfield/farfield/4c95a12b71e1262ac937d2fe6a803906.wav\", \"text\": \"\\u0434\\u0436\\u043e\\u0439 \\u0441\\u043c\\u043e\\u0442\\u0440\\u0435\\u0442\\u044c \\u043e\\u043f\\u0435\\u0440\\u0430\\u0446\\u0438\\u044e \\u044b \\u0438 \\u0434\\u0440\\u0443\\u0433\\u0438\\u0435 \\u043f\\u0440\\u0438\\u043a\\u043b\\u044e\\u0447\\u0435\\u043d\\u0438\\u044f \\u0448\\u0443\\u0440\\u0438\\u043a\\u0430 \\u043e\\u043d\\u043b\\u0430\\u0439\\u043d\", \"duration\": 7.3826875}\n",
            "{\"id\": \"90655e9a042c4e79c424cd7dd82b37a6\", \"audio_filepath\": \"/content/train/farfield/farfield/90655e9a042c4e79c424cd7dd82b37a6.wav\", \"text\": \"\\u0441\\u0430\\u043b\\u044e\\u0442 \\u043d\\u0430 \\u043a\\u0430\\u043a\\u043e\\u043c \\u044f\\u0437\\u044b\\u043a\\u0435 \\u0441\\u043e\\u0437\\u0434\\u0430\\u043d\\u0430 \\u043a\\u0430\\u0432\\u043a\\u0430 \\u043d\\u0430 \\u043f\\u043b\\u044f\\u0436\\u0435\", \"duration\": 5.232625}\n",
            "{\"id\": \"14b5e99616d446c3887c8927403632a0\", \"audio_filepath\": \"/content/train/farfield/farfield/14b5e99616d446c3887c8927403632a0.wav\", \"text\": \"\\u0441\\u0431\\u0435\\u0440 \\u0447\\u0435\\u043c \\u043f\\u043b\\u0430\\u0442\\u0438\\u0442\\u044c \\u043d\\u0430 \\u043a\\u0430\\u043d\\u0430\\u0440\\u0430\\u0445\", \"duration\": 4.524}\n",
            "{\"id\": \"d71107319855ef21249be2ab0edea9c2\", \"audio_filepath\": \"/content/train/farfield/farfield/d71107319855ef21249be2ab0edea9c2.wav\", \"text\": \"\\u0430\\u0444\\u0438\\u043d\\u0430 \\u043d\\u0430 \\u043f\\u0430\\u0440\\u0443 \\u043c\\u0438\\u043d\\u0443\\u0442 \\u043f\\u0435\\u0440\\u0435\\u043c\\u043e\\u0442\\u0430\\u0439 \\u0432\\u043f\\u0435\\u0440\\u0435\\u0434\", \"duration\": 4.4630625}\n",
            "{\"id\": \"566e4f7d788d755e2fa76ab57837d7dd\", \"audio_filepath\": \"/content/train/farfield/farfield/566e4f7d788d755e2fa76ab57837d7dd.wav\", \"text\": \"\\u0430\\u0444\\u0438\\u043d\\u0430 \\u043f\\u043b\\u043e\\u0449\\u0430\\u0434\\u044c \\u043a\\u043e\\u0440\\u043e\\u043b\\u0435\\u0432\\u0441\\u0442\\u0432\\u0430 \\u0442\\u043e\\u043d\\u0433\\u0430\", \"duration\": 4.75025}\n",
            "{\"id\": \"40bf19adace8d787cd3c63784ed0b27b\", \"audio_filepath\": \"/content/train/farfield/farfield/40bf19adace8d787cd3c63784ed0b27b.wav\", \"text\": \"\\u0430\\u0444\\u0438\\u043d\\u0430 \\u0447\\u0442\\u043e \\u0442\\u0430\\u043a\\u043e\\u0435 \\u0434\\u0435\\u043b\\u0444\\u0442\", \"duration\": 3.74225}\n"
          ]
        }
      ]
    },
    {
      "cell_type": "markdown",
      "metadata": {
        "id": "W2fShQzRzo-M"
      },
      "source": [
        "### Задаем модель при помощи YAML конфиг файла\n",
        "\n",
        "\n",
        "Ниже приведен конфиг файл, давайте рассмотрим его и найдем части описанной архитектуры Jasper. Модель (model) содержит поле под названием `encoder` с под-полем `jasper` который состоит из списка полей. Каждое поле в списке задает конфигурацию блока в нашей моделе. Каждый блок выглядит примерно так:\n",
        "\n",
        "```\n",
        "- filters: 128\n",
        "  repeat: 1\n",
        "  kernel: [11]\n",
        "  stride: [2]\n",
        "  dilation: [1]\n",
        "  dropout: 0.2\n",
        "  residual: false\n",
        "  separable: true\n",
        "  se: true\n",
        "  se_context_size: -1\n",
        "```\n",
        "\n",
        "\n",
        "Первый элемент в спике соответствует первому блоку в Jasper архитектуре.\n",
        "\n",
        "Параметры обучающего и тестового датасета в полях (`train_ds`) и (`validation_ds`)\n",
        "\n",
        "Конфиг в формате YAML позволяем легко и в читаемой форме читать и модифицировать модель без необходимости менять код пррограммы."
      ]
    },
    {
      "cell_type": "markdown",
      "metadata": {
        "id": "wUmq3p2Aw_5N"
      },
      "source": [
        "### Использование PyTorch Lightning\n",
        "\n",
        "NeMo модели и модули могуть исползоваться в любом PyTorch проекте где ожидается тип torch.nn.Module.\n",
        "\n",
        "Однако, NeMo модели созданы на основе [PytorchLightning's](https://github.com/PyTorchLightning/pytorch-lightning) LightningModule, поэтому рекомендуется использовать PytorchLightning для обучения и дообучения (fine-tuning) так как это позволяет легко применять mixed precision и распределенное обучение. Давайте создадим объект Trainer для обучения на GPU 5 эпох."
      ]
    },
    {
      "cell_type": "code",
      "metadata": {
        "id": "GUfR6tAK0k2u",
        "colab": {
          "base_uri": "https://localhost:8080/"
        },
        "outputId": "8ec0ab95-66f3-4beb-9c58-a686f7db78ef"
      },
      "source": [
        "import pytorch_lightning as pl\n",
        "trainer = pl.Trainer(gpus=1, max_epochs=1, precision=16)"
      ],
      "execution_count": 13,
      "outputs": [
        {
          "output_type": "stream",
          "name": "stderr",
          "text": [
            "Using 16bit native Automatic Mixed Precision (AMP)\n",
            "GPU available: True, used: True\n",
            "TPU available: False, using: 0 TPU cores\n",
            "IPU available: False, using: 0 IPUs\n"
          ]
        }
      ]
    },
    {
      "cell_type": "code",
      "metadata": {
        "id": "mRqwuhHAoCvo"
      },
      "source": [
        "params_model = asr_model._cfg\n",
        "\n",
        "# --- Config Information ---#\n",
        "# try:\n",
        "#     from ruamel.yaml import YAML\n",
        "# except ModuleNotFoundError:\n",
        "#     from ruamel_yaml import YAML\n",
        "# config_path = '/usr/local/lib/python3.7/dist-packages/nemo/collections/asr/models/configs/'\n",
        "\n",
        "# yaml = YAML(typ='safe')\n",
        "# with open(config_path) as f:\n",
        "#     params = yaml.load(f)\n",
        "# print(params)\n",
        "params_model['train_ds']['parser']='base'\n",
        "params_model['validation_ds']['parser']='base'\n",
        "params_model['test_ds']['parser']='base'\n",
        "params_model['train_ds']['manifest_filepath'] = train_manifest\n",
        "params_model['train_ds']['batch_size']=16\n",
        "params_model['validation_ds']['manifest_filepath'] = test_manifest\n",
        "params_model['validation_ds']['batch_size']=16\n",
        "params_model['test_ds']['manifest_filepath'] = test_manifest\n",
        "params_model['test_ds']['batch_size']=16"
      ],
      "execution_count": 14,
      "outputs": []
    },
    {
      "cell_type": "code",
      "metadata": {
        "colab": {
          "base_uri": "https://localhost:8080/"
        },
        "id": "wNJAKtKUJvCx",
        "outputId": "c345ee95-ef57-4a79-c140-6ae34cf61093"
      },
      "source": [
        "params_model"
      ],
      "execution_count": 15,
      "outputs": [
        {
          "output_type": "execute_result",
          "data": {
            "text/plain": [
              "{'sample_rate': 16000, 'repeat': 5, 'dropout': 0.0, 'separable': True, 'labels': [' ', 'а', 'б', 'в', 'г', 'д', 'е', 'ж', 'з', 'и', 'й', 'к', 'л', 'м', 'н', 'о', 'п', 'р', 'с', 'т', 'у', 'ф', 'х', 'ц', 'ч', 'ш', 'щ', 'ъ', 'ы', 'ь', 'э', 'ю', 'я'], 'optim': {'name': 'novograd', 'lr': 0.05, 'betas': [0.9, 0.98], 'weight_decay': 0.001, 'sched': {'name': 'CosineAnnealing', 'warmup_steps': 500, 'warmup_ratio': None, 'min_lr': 0.0, 'last_epoch': -1}}, 'train_ds': {'manifest_filepath': '/content/train/farfield/farfield.jsonl', 'sample_rate': 16000, 'labels': [' ', 'а', 'б', 'в', 'г', 'д', 'е', 'ж', 'з', 'и', 'й', 'к', 'л', 'м', 'н', 'о', 'п', 'р', 'с', 'т', 'у', 'ф', 'х', 'ц', 'ч', 'ш', 'щ', 'ъ', 'ы', 'ь', 'э', 'ю', 'я'], 'batch_size': 16, 'trim_silence': False, 'max_duration': 20.0, 'min_duration': 0.1, 'num_workers': 20, 'shuffle': True, 'is_tarred': False, 'tarred_audio_filepaths': None, 'tarred_shard_strategy': 'scatter', 'parser': 'base'}, 'validation_ds': {'manifest_filepath': '/content/test/farfield/farfield.jsonl', 'sample_rate': 16000, 'labels': [' ', 'а', 'б', 'в', 'г', 'д', 'е', 'ж', 'з', 'и', 'й', 'к', 'л', 'м', 'н', 'о', 'п', 'р', 'с', 'т', 'у', 'ф', 'х', 'ц', 'ч', 'ш', 'щ', 'ъ', 'ы', 'ь', 'э', 'ю', 'я'], 'batch_size': 16, 'num_workers': 20, 'shuffle': False, 'parser': 'base'}, 'test_ds': {'manifest_filepath': '/content/test/farfield/farfield.jsonl', 'sample_rate': 16000, 'labels': [' ', 'а', 'б', 'в', 'г', 'д', 'е', 'ж', 'з', 'и', 'й', 'к', 'л', 'м', 'н', 'о', 'п', 'р', 'с', 'т', 'у', 'ф', 'х', 'ц', 'ч', 'ш', 'щ', 'ъ', 'ы', 'ь', 'э', 'ю', 'я'], 'batch_size': 16, 'shuffle': False, 'parser': 'base'}, 'preprocessor': {'_target_': 'nemo.collections.asr.modules.AudioToMelSpectrogramPreprocessor', 'normalize': 'per_feature', 'window_size': 0.02, 'sample_rate': 16000, 'window_stride': 0.01, 'window': 'hann', 'features': 64, 'n_fft': 512, 'frame_splicing': 1, 'dither': 1e-05, 'stft_conv': False}, 'spec_augment': {'_target_': 'nemo.collections.asr.modules.SpectrogramAugmentation', 'rect_freq': 50, 'rect_masks': 5, 'rect_time': 120}, 'encoder': {'_target_': 'nemo.collections.asr.modules.ConvASREncoder', 'feat_in': 64, 'activation': 'relu', 'conv_mask': True, 'jasper': [{'dilation': [1], 'dropout': 0.0, 'filters': 256, 'kernel': [33], 'repeat': 1, 'residual': False, 'separable': True, 'stride': [2]}, {'dilation': [1], 'dropout': 0.0, 'filters': 256, 'kernel': [33], 'repeat': 5, 'residual': True, 'separable': True, 'stride': [1]}, {'dilation': [1], 'dropout': 0.0, 'filters': 256, 'kernel': [33], 'repeat': 5, 'residual': True, 'separable': True, 'stride': [1]}, {'dilation': [1], 'dropout': 0.0, 'filters': 256, 'kernel': [33], 'repeat': 5, 'residual': True, 'separable': True, 'stride': [1]}, {'dilation': [1], 'dropout': 0.0, 'filters': 256, 'kernel': [39], 'repeat': 5, 'residual': True, 'separable': True, 'stride': [1]}, {'dilation': [1], 'dropout': 0.0, 'filters': 256, 'kernel': [39], 'repeat': 5, 'residual': True, 'separable': True, 'stride': [1]}, {'dilation': [1], 'dropout': 0.0, 'filters': 256, 'kernel': [39], 'repeat': 5, 'residual': True, 'separable': True, 'stride': [1]}, {'dilation': [1], 'dropout': 0.0, 'filters': 512, 'kernel': [51], 'repeat': 5, 'residual': True, 'separable': True, 'stride': [1]}, {'dilation': [1], 'dropout': 0.0, 'filters': 512, 'kernel': [51], 'repeat': 5, 'residual': True, 'separable': True, 'stride': [1]}, {'dilation': [1], 'dropout': 0.0, 'filters': 512, 'kernel': [51], 'repeat': 5, 'residual': True, 'separable': True, 'stride': [1]}, {'dilation': [1], 'dropout': 0.0, 'filters': 512, 'kernel': [63], 'repeat': 5, 'residual': True, 'separable': True, 'stride': [1]}, {'dilation': [1], 'dropout': 0.0, 'filters': 512, 'kernel': [63], 'repeat': 5, 'residual': True, 'separable': True, 'stride': [1]}, {'dilation': [1], 'dropout': 0.0, 'filters': 512, 'kernel': [63], 'repeat': 5, 'residual': True, 'separable': True, 'stride': [1]}, {'dilation': [1], 'dropout': 0.0, 'filters': 512, 'kernel': [75], 'repeat': 5, 'residual': True, 'separable': True, 'stride': [1]}, {'dilation': [1], 'dropout': 0.0, 'filters': 512, 'kernel': [75], 'repeat': 5, 'residual': True, 'separable': True, 'stride': [1]}, {'dilation': [1], 'dropout': 0.0, 'filters': 512, 'kernel': [75], 'repeat': 5, 'residual': True, 'separable': True, 'stride': [1]}, {'dilation': [2], 'dropout': 0.0, 'filters': 512, 'kernel': [87], 'repeat': 1, 'residual': False, 'separable': True, 'stride': [1]}, {'dilation': [1], 'dropout': 0.0, 'filters': 1024, 'kernel': [1], 'repeat': 1, 'residual': False, 'stride': [1]}]}, 'decoder': {'_target_': 'nemo.collections.asr.modules.ConvASRDecoder', 'feat_in': 1024, 'num_classes': 33, 'vocabulary': [' ', 'а', 'б', 'в', 'г', 'д', 'е', 'ж', 'з', 'и', 'й', 'к', 'л', 'м', 'н', 'о', 'п', 'р', 'с', 'т', 'у', 'ф', 'х', 'ц', 'ч', 'ш', 'щ', 'ъ', 'ы', 'ь', 'э', 'ю', 'я']}, 'target': 'nemo.collections.asr.models.ctc_models.EncDecCTCModel'}"
            ]
          },
          "metadata": {},
          "execution_count": 15
        }
      ]
    },
    {
      "cell_type": "code",
      "metadata": {
        "id": "nsqMhCWAXzw2"
      },
      "source": [
        "params_model['optim']['lr'] = 0.001"
      ],
      "execution_count": 16,
      "outputs": []
    },
    {
      "cell_type": "markdown",
      "metadata": {
        "id": "IEn2RyvgxxvO"
      },
      "source": [
        "Затем мы создадим экземпляр и модель ASR на основе нашего файла ``config.yaml`` из предыдущего раздела. \n",
        "Обратите внимание, что это этап, на котором мы также сообщаем модели, где находятся наши обучающие и тестовые манифесты."
      ]
    },
    {
      "cell_type": "code",
      "metadata": {
        "id": "Cbf0fsMK09lk",
        "colab": {
          "base_uri": "https://localhost:8080/"
        },
        "outputId": "e57ac26d-2f91-4266-bb11-618e3558a732"
      },
      "source": [
        "from omegaconf import DictConfig\n",
        "\n",
        "\n",
        "first_asr_model = nemo_asr.models.EncDecCTCModel(cfg=DictConfig(params_model), trainer=trainer)"
      ],
      "execution_count": 17,
      "outputs": [
        {
          "output_type": "stream",
          "name": "stdout",
          "text": [
            "[NeMo I 2021-11-30 14:45:21 collections:173] Dataset loaded with 123995 files totalling 132.43 hours\n",
            "[NeMo I 2021-11-30 14:45:21 collections:174] 8 files were filtered totalling 0.03 hours\n"
          ]
        },
        {
          "output_type": "stream",
          "name": "stderr",
          "text": [
            "[NeMo W 2021-11-30 14:45:21 nemo_logging:349] /usr/local/lib/python3.7/dist-packages/torch/utils/data/dataloader.py:481: UserWarning: This DataLoader will create 20 worker processes in total. Our suggested max number of worker in current system is 2, which is smaller than what this DataLoader is going to create. Please be aware that excessive worker creation might get DataLoader running slow or even freeze, lower the worker number to avoid potential slowness/freeze if necessary.\n",
            "      cpuset_checked))\n",
            "    \n"
          ]
        },
        {
          "output_type": "stream",
          "name": "stdout",
          "text": [
            "[NeMo I 2021-11-30 14:45:21 collections:173] Dataset loaded with 1916 files totalling 1.41 hours\n",
            "[NeMo I 2021-11-30 14:45:21 collections:174] 0 files were filtered totalling 0.00 hours\n",
            "[NeMo I 2021-11-30 14:45:21 collections:173] Dataset loaded with 1916 files totalling 1.41 hours\n",
            "[NeMo I 2021-11-30 14:45:21 collections:174] 0 files were filtered totalling 0.00 hours\n",
            "[NeMo I 2021-11-30 14:45:21 features:265] PADDING: 16\n",
            "[NeMo I 2021-11-30 14:45:21 features:282] STFT using torch\n"
          ]
        }
      ]
    },
    {
      "cell_type": "markdown",
      "metadata": {
        "id": "hWtzwL5qXTYq"
      },
      "source": [
        "Мы можем начать обучение всего одной строчкой!"
      ]
    },
    {
      "cell_type": "code",
      "metadata": {
        "id": "inRJsnrz1psq",
        "colab": {
          "base_uri": "https://localhost:8080/",
          "height": 847,
          "referenced_widgets": [
            "ffdfb4255e2e4fd5845a8242fe71cf0c",
            "d75abdbc2381437786bad70c0d3d2c27",
            "aa0af6138fc84656a9e254072d46ffe0",
            "f928ed870227426baeb779274a6db25c",
            "f1efb2da07604c6a91877ceafb73b699",
            "a510311df3eb4620942340ee6df625a2",
            "72764862f079460c9964bcddfb315076",
            "36de6c59bc1c4614870f059bed6ba9c8",
            "f4750bc9ad964fc4b29b3770169ae26a",
            "b840d524d6504f7181b6cfb6da311fe8",
            "91b6c532fa0f455eb8876f9097cb6f2c",
            "fb50767c67b34410b1b1036842458d1f",
            "975a0ce7ed0a4efc810ac8cacfeb6bc6",
            "17454fcd8aa0437db83a43d2762af769",
            "e6cae573e04b4d61806b3e3a5bc50981",
            "8546501503ff402b800adc9f0adb6feb",
            "1a9f8285354d421984b9f1955c481ab6",
            "8dd936ce70144ca89a1cb735b2d3c608",
            "f3e223536d1640a3a177afe72b2cff2e",
            "665ed20aa90e4f8fbd7e450dc2e593b7",
            "d17e40f97a5a47ad93cffd3791e16003",
            "3a2c4a1401a04c1eb3b37ce7cbdd31c4",
            "dae1d7f182464522aba48ad40ce04810",
            "de72b91135554b99af6d0e4685aed6d1",
            "3b8db7076a1247e481e3d353ff5a0d16",
            "28c228a51f144b27a737e9cda7c875ed",
            "d1463a703f6a4cf290e7eb788d33ccf1",
            "84e37a58f7ec4da9bb47050b6fd6b8d9",
            "0bd1017307044a36bb63812f2d54f3a7",
            "2792a7c9baa3426cb8dac7ef982678f0",
            "593a92df381d459b9c9e9ecde7d4b746",
            "1a56553fc6754113af27cd6da0f8f97d",
            "8dff796b6f6e4437989ee2c63021b069"
          ]
        },
        "outputId": "abce9c0d-fac3-4380-dfd4-41ae785b63f2"
      },
      "source": [
        "# Start training!!!\n",
        "trainer.fit(first_asr_model)"
      ],
      "execution_count": 19,
      "outputs": [
        {
          "output_type": "stream",
          "name": "stderr",
          "text": [
            "LOCAL_RANK: 0 - CUDA_VISIBLE_DEVICES: [0]\n",
            "[NeMo W 2021-11-30 14:46:25 modelPT:471] The lightning trainer received accelerator: <pytorch_lightning.accelerators.gpu.GPUAccelerator object at 0x7f512c664c90>. We recommend to use 'ddp' instead.\n"
          ]
        },
        {
          "output_type": "stream",
          "name": "stdout",
          "text": [
            "[NeMo I 2021-11-30 14:46:25 modelPT:561] Optimizer config = Novograd (\n",
            "    Parameter Group 0\n",
            "        amsgrad: False\n",
            "        betas: [0.9, 0.98]\n",
            "        eps: 1e-08\n",
            "        grad_averaging: False\n",
            "        lr: 0.001\n",
            "        weight_decay: 0.001\n",
            "    )\n",
            "[NeMo I 2021-11-30 14:46:25 lr_scheduler:752] Scheduler \"<nemo.core.optim.lr_scheduler.CosineAnnealing object at 0x7f510a35ff10>\" \n",
            "    will be used during training (effective maximum steps = 7750) - \n",
            "    Parameters : \n",
            "    (warmup_steps: 500\n",
            "    warmup_ratio: null\n",
            "    min_lr: 0.0\n",
            "    last_epoch: -1\n",
            "    max_steps: 7750\n",
            "    )\n"
          ]
        },
        {
          "output_type": "stream",
          "name": "stderr",
          "text": [
            "\n",
            "  | Name              | Type                              | Params\n",
            "------------------------------------------------------------------------\n",
            "0 | preprocessor      | AudioToMelSpectrogramPreprocessor | 0     \n",
            "1 | encoder           | ConvASREncoder                    | 18.9 M\n",
            "2 | decoder           | ConvASRDecoder                    | 34.9 K\n",
            "3 | loss              | CTCLoss                           | 0     \n",
            "4 | spec_augmentation | SpectrogramAugmentation           | 0     \n",
            "5 | _wer              | WER                               | 0     \n",
            "------------------------------------------------------------------------\n",
            "18.9 M    Trainable params\n",
            "0         Non-trainable params\n",
            "18.9 M    Total params\n",
            "37.859    Total estimated model params size (MB)\n"
          ]
        },
        {
          "output_type": "display_data",
          "data": {
            "application/vnd.jupyter.widget-view+json": {
              "model_id": "ffdfb4255e2e4fd5845a8242fe71cf0c",
              "version_minor": 0,
              "version_major": 2
            },
            "text/plain": [
              "Validation sanity check: 0it [00:00, ?it/s]"
            ]
          },
          "metadata": {}
        },
        {
          "output_type": "stream",
          "name": "stderr",
          "text": [
            "[NeMo W 2021-11-30 14:46:25 nemo_logging:349] /usr/local/lib/python3.7/dist-packages/torch/utils/data/dataloader.py:481: UserWarning: This DataLoader will create 20 worker processes in total. Our suggested max number of worker in current system is 2, which is smaller than what this DataLoader is going to create. Please be aware that excessive worker creation might get DataLoader running slow or even freeze, lower the worker number to avoid potential slowness/freeze if necessary.\n",
            "      cpuset_checked))\n",
            "    \n",
            "[NeMo W 2021-11-30 14:46:28 nemo_logging:349] /usr/local/lib/python3.7/dist-packages/nemo/collections/asr/parts/submodules/jasper.py:280: UserWarning: __floordiv__ is deprecated, and its behavior will change in a future version of pytorch. It currently rounds toward 0 (like the 'trunc' function NOT 'floor'). This results in incorrect rounding for negative values. To keep the current behavior, use torch.div(a, b, rounding_mode='trunc'), or for actual floor division, use torch.div(a, b, rounding_mode='floor').\n",
            "      ) // self.conv.stride[0] + 1\n",
            "    \n"
          ]
        },
        {
          "output_type": "display_data",
          "data": {
            "application/vnd.jupyter.widget-view+json": {
              "model_id": "fb50767c67b34410b1b1036842458d1f",
              "version_minor": 0,
              "version_major": 2
            },
            "text/plain": [
              "Training: 0it [00:00, ?it/s]"
            ]
          },
          "metadata": {}
        },
        {
          "output_type": "stream",
          "name": "stderr",
          "text": [
            "[NeMo W 2021-11-30 14:46:33 nemo_logging:349] /usr/local/lib/python3.7/dist-packages/torch/optim/lr_scheduler.py:134: UserWarning: Detected call of `lr_scheduler.step()` before `optimizer.step()`. In PyTorch 1.1.0 and later, you should call them in the opposite order: `optimizer.step()` before `lr_scheduler.step()`.  Failure to do this will result in PyTorch skipping the first value of the learning rate schedule. See more details at https://pytorch.org/docs/stable/optim.html#how-to-adjust-learning-rate\n",
            "      \"https://pytorch.org/docs/stable/optim.html#how-to-adjust-learning-rate\", UserWarning)\n",
            "    \n"
          ]
        },
        {
          "output_type": "display_data",
          "data": {
            "application/vnd.jupyter.widget-view+json": {
              "model_id": "dae1d7f182464522aba48ad40ce04810",
              "version_minor": 0,
              "version_major": 2
            },
            "text/plain": [
              "Validating: 0it [00:00, ?it/s]"
            ]
          },
          "metadata": {}
        }
      ]
    },
    {
      "cell_type": "code",
      "metadata": {
        "id": "niC8XGtyDXQJ"
      },
      "source": [
        "first_asr_model.save_to('model_cp.nemo')"
      ],
      "execution_count": 21,
      "outputs": []
    },
    {
      "cell_type": "markdown",
      "metadata": {
        "id": "jpYXX-GslR0E"
      },
      "source": [
        "There we go! We've put together a full training pipeline for the model and trained it for 5 epochs.\n",
        "\n",
        "If you'd like to save this model checkpoint for loading later (e.g. for fine-tuning, or for continuing training), you can simply call `first_asr_model.save_to(<checkpoint_path>)`. Then, to restore your weights, you can rebuild the model using the config (let's say you call it `first_asr_model_continued` this time) and call `first_asr_model_continued.restore_from(<checkpoint_path>)`."
      ]
    },
    {
      "cell_type": "markdown",
      "metadata": {
        "id": "D5Kwg8Cz-aaO"
      },
      "source": [
        "## Inference\n",
        "\n",
        "Let's have a quick look at how one could run inference with NeMo's ASR model.\n",
        "\n",
        "First, ``EncDecCTCModel`` and its subclasses contain a handy ``transcribe`` method which can be used to simply obtain audio files' transcriptions. It also has batch_size argument to improve performance."
      ]
    },
    {
      "cell_type": "code",
      "metadata": {
        "id": "3FT0klSV268p",
        "colab": {
          "base_uri": "https://localhost:8080/",
          "height": 138,
          "referenced_widgets": [
            "973189c3820f46408c3e47a78d4e4acd",
            "f81ddff1b70c4027883c794902a38a22",
            "c0718826441649d582cf79f190e521a9",
            "5f2373ed7cdd48e7ad42addc51dc7598",
            "d1e307df0c6045d194733b343dbf0170",
            "7951b2c06cc94267a1c6c1c11f8cb063",
            "1b3788b89c154ca5a8348187e3b2f16e",
            "889483a50d9247bb94d924e008b7203b",
            "b0c901f084244f33b4a109636b074b00",
            "3732ae052dbe4c3a9037113489ddd9ec",
            "4f1925c7c82f402690e058b69eb89120"
          ]
        },
        "outputId": "838ee2c6-c1ab-40a7-f8e1-2789e54d8344"
      },
      "source": [
        "print(first_asr_model.transcribe(paths2audio_files=files,\n",
        "                                 batch_size=4))"
      ],
      "execution_count": 22,
      "outputs": [
        {
          "output_type": "display_data",
          "data": {
            "application/vnd.jupyter.widget-view+json": {
              "model_id": "973189c3820f46408c3e47a78d4e4acd",
              "version_minor": 0,
              "version_major": 2
            },
            "text/plain": [
              "Transcribing:   0%|          | 0/1 [00:00<?, ?it/s]"
            ]
          },
          "metadata": {}
        },
        {
          "output_type": "stream",
          "name": "stderr",
          "text": [
            "[NeMo W 2021-11-30 18:39:24 nemo_logging:349] /usr/local/lib/python3.7/dist-packages/nemo/collections/asr/parts/submodules/jasper.py:280: UserWarning: __floordiv__ is deprecated, and its behavior will change in a future version of pytorch. It currently rounds toward 0 (like the 'trunc' function NOT 'floor'). This results in incorrect rounding for negative values. To keep the current behavior, use torch.div(a, b, rounding_mode='trunc'), or for actual floor division, use torch.div(a, b, rounding_mode='floor').\n",
            "      ) // self.conv.stride[0] + 1\n",
            "    \n"
          ]
        },
        {
          "output_type": "stream",
          "name": "stdout",
          "text": [
            "['афлн ка  а ']\n"
          ]
        }
      ]
    },
    {
      "cell_type": "markdown",
      "metadata": {
        "id": "6FiCfLX0D7py"
      },
      "source": [
        "Below is an example of a simple inference loop in pure PyTorch. It also shows how one can compute Word Error Rate (WER) metric between predictions and references."
      ]
    },
    {
      "cell_type": "code",
      "metadata": {
        "id": "7mP4r1Gx_Ilt",
        "colab": {
          "base_uri": "https://localhost:8080/"
        },
        "outputId": "91286f5c-0ecf-4b1d-e56d-795afd7106b7"
      },
      "source": [
        "# Bigger batch-size = bigger throughput\n",
        "# params['model']['validation_ds']['batch_size'] = 16\n",
        "# Setup the test data loader and make sure the model is on GPU\n",
        "# first_asr_model.setup_test_data(test_data_config=params['model']['validation_ds'])\n",
        "first_asr_model.cuda()\n",
        "\n",
        "# We will be computing Word Error Rate (WER) metric between our hypothesis and predictions.\n",
        "# WER is computed as numerator/denominator.\n",
        "# We'll gather all the test batches' numerators and denominators.\n",
        "wer_nums = []\n",
        "wer_denoms = []\n",
        "\n",
        "# Loop over all test batches.\n",
        "# Iterating over the model's `test_dataloader` will give us:\n",
        "# (audio_signal, audio_signal_length, transcript_tokens, transcript_length)\n",
        "# See the AudioToCharDataset for more details.\n",
        "for test_batch in first_asr_model.test_dataloader():\n",
        "        test_batch = [x.cuda() for x in test_batch]\n",
        "        targets = test_batch[2]\n",
        "        targets_lengths = test_batch[3]        \n",
        "        log_probs, encoded_len, greedy_predictions = first_asr_model(\n",
        "            input_signal=test_batch[0], input_signal_length=test_batch[1]\n",
        "        )\n",
        "        # Notice the model has a helper object to compute WER\n",
        "        first_asr_model._wer.update(greedy_predictions, targets, targets_lengths)\n",
        "        _, wer_num, wer_denom = first_asr_model._wer.compute()\n",
        "        first_asr_model._wer.reset()\n",
        "        wer_nums.append(wer_num.detach().cpu().numpy())\n",
        "        wer_denoms.append(wer_denom.detach().cpu().numpy())\n",
        "\n",
        "        # Release tensors from GPU memory\n",
        "        del test_batch, log_probs, targets, targets_lengths, encoded_len, greedy_predictions\n",
        "\n",
        "# We need to sum all numerators and denominators first. Then divide.\n",
        "print(f\"WER = {sum(wer_nums)/sum(wer_denoms)}\")"
      ],
      "execution_count": 25,
      "outputs": [
        {
          "output_type": "stream",
          "name": "stderr",
          "text": [
            "[NeMo W 2021-11-30 18:41:27 nemo_logging:349] /usr/local/lib/python3.7/dist-packages/nemo/collections/asr/parts/submodules/jasper.py:280: UserWarning: __floordiv__ is deprecated, and its behavior will change in a future version of pytorch. It currently rounds toward 0 (like the 'trunc' function NOT 'floor'). This results in incorrect rounding for negative values. To keep the current behavior, use torch.div(a, b, rounding_mode='trunc'), or for actual floor division, use torch.div(a, b, rounding_mode='floor').\n",
            "      ) // self.conv.stride[0] + 1\n",
            "    \n"
          ]
        },
        {
          "output_type": "stream",
          "name": "stdout",
          "text": [
            "WER = 0.9766165592937246\n"
          ]
        }
      ]
    },
    {
      "cell_type": "markdown",
      "metadata": {
        "id": "0kM9kBNOCptf"
      },
      "source": [
        "This WER is not particularly impressive and could be significantly improved. You could train longer (try 100 epochs) to get a better number. Check out the next section on how to improve it further."
      ]
    },
    {
      "cell_type": "markdown",
      "metadata": {
        "id": "RBcJtg5ulR0H"
      },
      "source": [
        "## Model Improvements\n",
        "\n",
        "You already have all you need to create your own ASR model in NeMo, but there are a few more tricks that you can employ if you so desire. In this section, we'll briefly cover a few possibilities for improving an ASR model.\n",
        "\n",
        "### Data Augmentation\n",
        "\n",
        "There exist several ASR data augmentation methods that can increase the size of our training set.\n",
        "\n",
        "For example, we can perform augmentation on the spectrograms by zeroing out specific frequency segments (\"frequency masking\") or time segments (\"time masking\") as described by [SpecAugment](https://arxiv.org/abs/1904.08779), or zero out rectangles on the spectrogram as in [Cutout](https://arxiv.org/pdf/1708.04552.pdf). In NeMo, we can do all three of these by simply adding in a `SpectrogramAugmentation` neural module. (As of now, it does not perform the time warping from the SpecAugment paper.)\n",
        "\n",
        "Our toy model does not do spectrogram augmentation. But the real one we got from cloud does:"
      ]
    },
    {
      "cell_type": "code",
      "metadata": {
        "id": "9glGogaPlR0H"
      },
      "source": [
        "print(first_asr_model._cfg['spec_augment'])"
      ],
      "execution_count": null,
      "outputs": []
    },
    {
      "cell_type": "markdown",
      "metadata": {
        "id": "LdwdcA_a640R"
      },
      "source": [
        "If you want to enable SpecAugment in your model, make sure your .yaml config file contains 'model/spec_augment' section which looks like the one above."
      ]
    },
    {
      "cell_type": "markdown",
      "metadata": {
        "id": "wteGqroafWg1"
      },
      "source": [
        "## Under the Hood\n",
        "\n",
        "NeMo is open-source and we do all our model development in the open, so you can inspect our code if you wish.\n",
        "\n",
        "In particular, ``nemo_asr.model.EncDecCTCModel`` is an encoder-decoder model which is constructed using several ``Neural Modules`` taken from ``nemo_asr.modules.`` Here is what its forward pass looks like:\n",
        "```python\n",
        "def forward(self, input_signal, input_signal_length):\n",
        "    processed_signal, processed_signal_len = self.preprocessor(\n",
        "        input_signal=input_signal, length=input_signal_length,\n",
        "    )\n",
        "    # Spec augment is not applied during evaluation/testing\n",
        "    if self.spec_augmentation is not None and self.training:\n",
        "        processed_signal = self.spec_augmentation(input_spec=processed_signal)\n",
        "    encoded, encoded_len = self.encoder(audio_signal=processed_signal, length=processed_signal_len)\n",
        "    log_probs = self.decoder(encoder_output=encoded)\n",
        "    greedy_predictions = log_probs.argmax(dim=-1, keepdim=False)\n",
        "    return log_probs, encoded_len, greedy_predictions\n",
        "```\n",
        "Here:\n",
        "\n",
        "* ``self.preprocessor`` is an instance of ``nemo_asr.modules.AudioToMelSpectrogramPreprocessor``, which is a neural module that takes audio signal and converts it into a Mel-Spectrogram\n",
        "* ``self.spec_augmentation`` - is a neural module of type ```nemo_asr.modules.SpectrogramAugmentation``, which implements data augmentation. \n",
        "* ``self.encoder`` - is a convolutional Jasper/QuartzNet-like encoder of type ``nemo_asr.modules.ConvASREncoder``\n",
        "* ``self.decoder`` - is a ``nemo_asr.modules.ConvASRDecoder`` which simply projects into the target alphabet (vocabulary).\n",
        "\n",
        "Also, ``EncDecCTCModel`` uses the audio dataset class ``nemo_asr.data.AudioToCharDataset`` and CTC loss implemented in ``nemo_asr.losses.CTCLoss``.\n",
        "\n",
        "You can use these and other neural modules (or create new ones yourself!) to construct new ASR models."
      ]
    },
    {
      "cell_type": "markdown",
      "metadata": {
        "id": "smzlvbhelR0U"
      },
      "source": [
        "# Further Reading/Watching:\n",
        "\n",
        "That's all for now! If you'd like to learn more about the topics covered in this tutorial, here are some resources that may interest you:\n",
        "- [Stanford Lecture on ASR](https://www.youtube.com/watch?v=3MjIkWxXigM)\n",
        "- [\"An Intuitive Explanation of Connectionist Temporal Classification\"](https://towardsdatascience.com/intuitively-understanding-connectionist-temporal-classification-3797e43a86c)\n",
        "- [Explanation of CTC with Prefix Beam Search](https://medium.com/corti-ai/ctc-networks-and-language-models-prefix-beam-search-explained-c11d1ee23306)\n",
        "- [Listen Attend and Spell Paper (seq2seq ASR model)](https://arxiv.org/abs/1508.01211)\n",
        "- [Explanation of the mel spectrogram in more depth](https://towardsdatascience.com/getting-to-know-the-mel-spectrogram-31bca3e2d9d0)\n",
        "- [Jasper Paper](https://arxiv.org/abs/1904.03288)\n",
        "- [QuartzNet paper](https://arxiv.org/abs/1910.10261)\n",
        "- [SpecAugment Paper](https://arxiv.org/abs/1904.08779)\n",
        "- [Explanation and visualization of SpecAugment](https://towardsdatascience.com/state-of-the-art-audio-data-augmentation-with-google-brains-specaugment-and-pytorch-d3d1a3ce291e)\n",
        "- [Cutout Paper](https://arxiv.org/pdf/1708.04552.pdf)\n",
        "- [Transfer Learning Blogpost](https://developer.nvidia.com/blog/jump-start-training-for-speech-recognition-models-with-nemo/)"
      ]
    },
    {
      "cell_type": "code",
      "metadata": {
        "id": "V3ERGX86lR0V"
      },
      "source": [
        ""
      ],
      "execution_count": null,
      "outputs": []
    }
  ]
}