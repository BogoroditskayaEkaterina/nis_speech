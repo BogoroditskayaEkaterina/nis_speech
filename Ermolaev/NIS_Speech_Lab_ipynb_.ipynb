{
  "nbformat": 4,
  "nbformat_minor": 0,
  "metadata": {
    "colab": {
      "name": "NIS_Speech_Lab.ipynb\"",
      "provenance": [],
      "collapsed_sections": []
    },
    "kernelspec": {
      "name": "python3",
      "display_name": "Python 3"
    },
    "language_info": {
      "name": "python"
    },
    "accelerator": "GPU",
    "widgets": {
      "application/vnd.jupyter.widget-state+json": {
        "b4bc3d79d023460ca52fbc1dad095c35": {
          "model_module": "@jupyter-widgets/controls",
          "model_name": "HBoxModel",
          "model_module_version": "1.5.0",
          "state": {
            "_view_name": "HBoxView",
            "_dom_classes": [],
            "_model_name": "HBoxModel",
            "_view_module": "@jupyter-widgets/controls",
            "_model_module_version": "1.5.0",
            "_view_count": null,
            "_view_module_version": "1.5.0",
            "box_style": "",
            "layout": "IPY_MODEL_eaed1a5a47be49ad8aed86b788d5d5f2",
            "_model_module": "@jupyter-widgets/controls",
            "children": [
              "IPY_MODEL_18a629cb57ba4b94b695db7322aaae19",
              "IPY_MODEL_6211ee270e5442f5bf07332858e82dd1",
              "IPY_MODEL_ff393089cafc418c87d942ca76f57ce3"
            ]
          }
        },
        "eaed1a5a47be49ad8aed86b788d5d5f2": {
          "model_module": "@jupyter-widgets/base",
          "model_name": "LayoutModel",
          "model_module_version": "1.2.0",
          "state": {
            "_view_name": "LayoutView",
            "grid_template_rows": null,
            "right": null,
            "justify_content": null,
            "_view_module": "@jupyter-widgets/base",
            "overflow": null,
            "_model_module_version": "1.2.0",
            "_view_count": null,
            "flex_flow": "row wrap",
            "width": "100%",
            "min_width": null,
            "border": null,
            "align_items": null,
            "bottom": null,
            "_model_module": "@jupyter-widgets/base",
            "top": null,
            "grid_column": null,
            "overflow_y": null,
            "overflow_x": null,
            "grid_auto_flow": null,
            "grid_area": null,
            "grid_template_columns": null,
            "flex": null,
            "_model_name": "LayoutModel",
            "justify_items": null,
            "grid_row": null,
            "max_height": null,
            "align_content": null,
            "visibility": null,
            "align_self": null,
            "height": null,
            "min_height": null,
            "padding": null,
            "grid_auto_rows": null,
            "grid_gap": null,
            "max_width": null,
            "order": null,
            "_view_module_version": "1.2.0",
            "grid_template_areas": null,
            "object_position": null,
            "object_fit": null,
            "grid_auto_columns": null,
            "margin": null,
            "display": "inline-flex",
            "left": null
          }
        },
        "18a629cb57ba4b94b695db7322aaae19": {
          "model_module": "@jupyter-widgets/controls",
          "model_name": "HTMLModel",
          "model_module_version": "1.5.0",
          "state": {
            "_view_name": "HTMLView",
            "style": "IPY_MODEL_086b00f426664144bb4981f5bd916f7e",
            "_dom_classes": [],
            "description": "",
            "_model_name": "HTMLModel",
            "placeholder": "​",
            "_view_module": "@jupyter-widgets/controls",
            "_model_module_version": "1.5.0",
            "value": "Validation sanity check:   0%",
            "_view_count": null,
            "_view_module_version": "1.5.0",
            "description_tooltip": null,
            "_model_module": "@jupyter-widgets/controls",
            "layout": "IPY_MODEL_35de1b042a9e4ff1ada7d0470ad07ca9"
          }
        },
        "6211ee270e5442f5bf07332858e82dd1": {
          "model_module": "@jupyter-widgets/controls",
          "model_name": "FloatProgressModel",
          "model_module_version": "1.5.0",
          "state": {
            "_view_name": "ProgressView",
            "style": "IPY_MODEL_b990482a82ec42f69d70faf874cf99ab",
            "_dom_classes": [],
            "description": "",
            "_model_name": "FloatProgressModel",
            "bar_style": "danger",
            "max": 2,
            "_view_module": "@jupyter-widgets/controls",
            "_model_module_version": "1.5.0",
            "value": 0,
            "_view_count": null,
            "_view_module_version": "1.5.0",
            "orientation": "horizontal",
            "min": 0,
            "description_tooltip": null,
            "_model_module": "@jupyter-widgets/controls",
            "layout": "IPY_MODEL_805f22e1305c4a7aa824529c906165b8"
          }
        },
        "ff393089cafc418c87d942ca76f57ce3": {
          "model_module": "@jupyter-widgets/controls",
          "model_name": "HTMLModel",
          "model_module_version": "1.5.0",
          "state": {
            "_view_name": "HTMLView",
            "style": "IPY_MODEL_2f5e9052cc364880838ee5b68c8dfe69",
            "_dom_classes": [],
            "description": "",
            "_model_name": "HTMLModel",
            "placeholder": "​",
            "_view_module": "@jupyter-widgets/controls",
            "_model_module_version": "1.5.0",
            "value": " 0/2 [00:02&lt;?, ?it/s]",
            "_view_count": null,
            "_view_module_version": "1.5.0",
            "description_tooltip": null,
            "_model_module": "@jupyter-widgets/controls",
            "layout": "IPY_MODEL_f4f46151160b480fa798de5e1aed3479"
          }
        },
        "086b00f426664144bb4981f5bd916f7e": {
          "model_module": "@jupyter-widgets/controls",
          "model_name": "DescriptionStyleModel",
          "model_module_version": "1.5.0",
          "state": {
            "_view_name": "StyleView",
            "_model_name": "DescriptionStyleModel",
            "description_width": "",
            "_view_module": "@jupyter-widgets/base",
            "_model_module_version": "1.5.0",
            "_view_count": null,
            "_view_module_version": "1.2.0",
            "_model_module": "@jupyter-widgets/controls"
          }
        },
        "35de1b042a9e4ff1ada7d0470ad07ca9": {
          "model_module": "@jupyter-widgets/base",
          "model_name": "LayoutModel",
          "model_module_version": "1.2.0",
          "state": {
            "_view_name": "LayoutView",
            "grid_template_rows": null,
            "right": null,
            "justify_content": null,
            "_view_module": "@jupyter-widgets/base",
            "overflow": null,
            "_model_module_version": "1.2.0",
            "_view_count": null,
            "flex_flow": null,
            "width": null,
            "min_width": null,
            "border": null,
            "align_items": null,
            "bottom": null,
            "_model_module": "@jupyter-widgets/base",
            "top": null,
            "grid_column": null,
            "overflow_y": null,
            "overflow_x": null,
            "grid_auto_flow": null,
            "grid_area": null,
            "grid_template_columns": null,
            "flex": null,
            "_model_name": "LayoutModel",
            "justify_items": null,
            "grid_row": null,
            "max_height": null,
            "align_content": null,
            "visibility": null,
            "align_self": null,
            "height": null,
            "min_height": null,
            "padding": null,
            "grid_auto_rows": null,
            "grid_gap": null,
            "max_width": null,
            "order": null,
            "_view_module_version": "1.2.0",
            "grid_template_areas": null,
            "object_position": null,
            "object_fit": null,
            "grid_auto_columns": null,
            "margin": null,
            "display": null,
            "left": null
          }
        },
        "b990482a82ec42f69d70faf874cf99ab": {
          "model_module": "@jupyter-widgets/controls",
          "model_name": "ProgressStyleModel",
          "model_module_version": "1.5.0",
          "state": {
            "_view_name": "StyleView",
            "_model_name": "ProgressStyleModel",
            "description_width": "",
            "_view_module": "@jupyter-widgets/base",
            "_model_module_version": "1.5.0",
            "_view_count": null,
            "_view_module_version": "1.2.0",
            "bar_color": null,
            "_model_module": "@jupyter-widgets/controls"
          }
        },
        "805f22e1305c4a7aa824529c906165b8": {
          "model_module": "@jupyter-widgets/base",
          "model_name": "LayoutModel",
          "model_module_version": "1.2.0",
          "state": {
            "_view_name": "LayoutView",
            "grid_template_rows": null,
            "right": null,
            "justify_content": null,
            "_view_module": "@jupyter-widgets/base",
            "overflow": null,
            "_model_module_version": "1.2.0",
            "_view_count": null,
            "flex_flow": null,
            "width": null,
            "min_width": null,
            "border": null,
            "align_items": null,
            "bottom": null,
            "_model_module": "@jupyter-widgets/base",
            "top": null,
            "grid_column": null,
            "overflow_y": null,
            "overflow_x": null,
            "grid_auto_flow": null,
            "grid_area": null,
            "grid_template_columns": null,
            "flex": "2",
            "_model_name": "LayoutModel",
            "justify_items": null,
            "grid_row": null,
            "max_height": null,
            "align_content": null,
            "visibility": null,
            "align_self": null,
            "height": null,
            "min_height": null,
            "padding": null,
            "grid_auto_rows": null,
            "grid_gap": null,
            "max_width": null,
            "order": null,
            "_view_module_version": "1.2.0",
            "grid_template_areas": null,
            "object_position": null,
            "object_fit": null,
            "grid_auto_columns": null,
            "margin": null,
            "display": null,
            "left": null
          }
        },
        "2f5e9052cc364880838ee5b68c8dfe69": {
          "model_module": "@jupyter-widgets/controls",
          "model_name": "DescriptionStyleModel",
          "model_module_version": "1.5.0",
          "state": {
            "_view_name": "StyleView",
            "_model_name": "DescriptionStyleModel",
            "description_width": "",
            "_view_module": "@jupyter-widgets/base",
            "_model_module_version": "1.5.0",
            "_view_count": null,
            "_view_module_version": "1.2.0",
            "_model_module": "@jupyter-widgets/controls"
          }
        },
        "f4f46151160b480fa798de5e1aed3479": {
          "model_module": "@jupyter-widgets/base",
          "model_name": "LayoutModel",
          "model_module_version": "1.2.0",
          "state": {
            "_view_name": "LayoutView",
            "grid_template_rows": null,
            "right": null,
            "justify_content": null,
            "_view_module": "@jupyter-widgets/base",
            "overflow": null,
            "_model_module_version": "1.2.0",
            "_view_count": null,
            "flex_flow": null,
            "width": null,
            "min_width": null,
            "border": null,
            "align_items": null,
            "bottom": null,
            "_model_module": "@jupyter-widgets/base",
            "top": null,
            "grid_column": null,
            "overflow_y": null,
            "overflow_x": null,
            "grid_auto_flow": null,
            "grid_area": null,
            "grid_template_columns": null,
            "flex": null,
            "_model_name": "LayoutModel",
            "justify_items": null,
            "grid_row": null,
            "max_height": null,
            "align_content": null,
            "visibility": null,
            "align_self": null,
            "height": null,
            "min_height": null,
            "padding": null,
            "grid_auto_rows": null,
            "grid_gap": null,
            "max_width": null,
            "order": null,
            "_view_module_version": "1.2.0",
            "grid_template_areas": null,
            "object_position": null,
            "object_fit": null,
            "grid_auto_columns": null,
            "margin": null,
            "display": null,
            "left": null
          }
        },
        "a39f754ce86e48349981b84b3e8df5f2": {
          "model_module": "@jupyter-widgets/controls",
          "model_name": "HBoxModel",
          "model_module_version": "1.5.0",
          "state": {
            "_view_name": "HBoxView",
            "_dom_classes": [],
            "_model_name": "HBoxModel",
            "_view_module": "@jupyter-widgets/controls",
            "_model_module_version": "1.5.0",
            "_view_count": null,
            "_view_module_version": "1.5.0",
            "box_style": "",
            "layout": "IPY_MODEL_44f6c8936ae546f390f4c8b0573a3953",
            "_model_module": "@jupyter-widgets/controls",
            "children": [
              "IPY_MODEL_4962d3acb4964a699f997d9a00d3779c",
              "IPY_MODEL_086cd576c0a847d8b014a54a4c475914",
              "IPY_MODEL_a93c0ee86656423088002f8548e74d11"
            ]
          }
        },
        "44f6c8936ae546f390f4c8b0573a3953": {
          "model_module": "@jupyter-widgets/base",
          "model_name": "LayoutModel",
          "model_module_version": "1.2.0",
          "state": {
            "_view_name": "LayoutView",
            "grid_template_rows": null,
            "right": null,
            "justify_content": null,
            "_view_module": "@jupyter-widgets/base",
            "overflow": null,
            "_model_module_version": "1.2.0",
            "_view_count": null,
            "flex_flow": "row wrap",
            "width": "100%",
            "min_width": null,
            "border": null,
            "align_items": null,
            "bottom": null,
            "_model_module": "@jupyter-widgets/base",
            "top": null,
            "grid_column": null,
            "overflow_y": null,
            "overflow_x": null,
            "grid_auto_flow": null,
            "grid_area": null,
            "grid_template_columns": null,
            "flex": null,
            "_model_name": "LayoutModel",
            "justify_items": null,
            "grid_row": null,
            "max_height": null,
            "align_content": null,
            "visibility": null,
            "align_self": null,
            "height": null,
            "min_height": null,
            "padding": null,
            "grid_auto_rows": null,
            "grid_gap": null,
            "max_width": null,
            "order": null,
            "_view_module_version": "1.2.0",
            "grid_template_areas": null,
            "object_position": null,
            "object_fit": null,
            "grid_auto_columns": null,
            "margin": null,
            "display": "inline-flex",
            "left": null
          }
        },
        "4962d3acb4964a699f997d9a00d3779c": {
          "model_module": "@jupyter-widgets/controls",
          "model_name": "HTMLModel",
          "model_module_version": "1.5.0",
          "state": {
            "_view_name": "HTMLView",
            "style": "IPY_MODEL_e699c35e505940e3adcdcc373f8f36f2",
            "_dom_classes": [],
            "description": "",
            "_model_name": "HTMLModel",
            "placeholder": "​",
            "_view_module": "@jupyter-widgets/controls",
            "_model_module_version": "1.5.0",
            "value": "Epoch 1: 100%",
            "_view_count": null,
            "_view_module_version": "1.5.0",
            "description_tooltip": null,
            "_model_module": "@jupyter-widgets/controls",
            "layout": "IPY_MODEL_927a13f073e24f6781b246923af7ff21"
          }
        },
        "086cd576c0a847d8b014a54a4c475914": {
          "model_module": "@jupyter-widgets/controls",
          "model_name": "FloatProgressModel",
          "model_module_version": "1.5.0",
          "state": {
            "_view_name": "ProgressView",
            "style": "IPY_MODEL_388adb92d1f0404f8ab2ec031b180bfe",
            "_dom_classes": [],
            "description": "",
            "_model_name": "FloatProgressModel",
            "bar_style": "success",
            "max": 2452,
            "_view_module": "@jupyter-widgets/controls",
            "_model_module_version": "1.5.0",
            "value": 2452,
            "_view_count": null,
            "_view_module_version": "1.5.0",
            "orientation": "horizontal",
            "min": 0,
            "description_tooltip": null,
            "_model_module": "@jupyter-widgets/controls",
            "layout": "IPY_MODEL_51fdb78d8fd249ba9e1f1d83a4c05742"
          }
        },
        "a93c0ee86656423088002f8548e74d11": {
          "model_module": "@jupyter-widgets/controls",
          "model_name": "HTMLModel",
          "model_module_version": "1.5.0",
          "state": {
            "_view_name": "HTMLView",
            "style": "IPY_MODEL_5a504b9ce18d4bf9a26ddb93551a202a",
            "_dom_classes": [],
            "description": "",
            "_model_name": "HTMLModel",
            "placeholder": "​",
            "_view_module": "@jupyter-widgets/controls",
            "_model_module_version": "1.5.0",
            "value": " 2452/2452 [1:12:01&lt;00:00,  1.76s/it, loss=9.97, v_num=2]",
            "_view_count": null,
            "_view_module_version": "1.5.0",
            "description_tooltip": null,
            "_model_module": "@jupyter-widgets/controls",
            "layout": "IPY_MODEL_5cb0757b5b954e0bb73fc61045e6f024"
          }
        },
        "e699c35e505940e3adcdcc373f8f36f2": {
          "model_module": "@jupyter-widgets/controls",
          "model_name": "DescriptionStyleModel",
          "model_module_version": "1.5.0",
          "state": {
            "_view_name": "StyleView",
            "_model_name": "DescriptionStyleModel",
            "description_width": "",
            "_view_module": "@jupyter-widgets/base",
            "_model_module_version": "1.5.0",
            "_view_count": null,
            "_view_module_version": "1.2.0",
            "_model_module": "@jupyter-widgets/controls"
          }
        },
        "927a13f073e24f6781b246923af7ff21": {
          "model_module": "@jupyter-widgets/base",
          "model_name": "LayoutModel",
          "model_module_version": "1.2.0",
          "state": {
            "_view_name": "LayoutView",
            "grid_template_rows": null,
            "right": null,
            "justify_content": null,
            "_view_module": "@jupyter-widgets/base",
            "overflow": null,
            "_model_module_version": "1.2.0",
            "_view_count": null,
            "flex_flow": null,
            "width": null,
            "min_width": null,
            "border": null,
            "align_items": null,
            "bottom": null,
            "_model_module": "@jupyter-widgets/base",
            "top": null,
            "grid_column": null,
            "overflow_y": null,
            "overflow_x": null,
            "grid_auto_flow": null,
            "grid_area": null,
            "grid_template_columns": null,
            "flex": null,
            "_model_name": "LayoutModel",
            "justify_items": null,
            "grid_row": null,
            "max_height": null,
            "align_content": null,
            "visibility": null,
            "align_self": null,
            "height": null,
            "min_height": null,
            "padding": null,
            "grid_auto_rows": null,
            "grid_gap": null,
            "max_width": null,
            "order": null,
            "_view_module_version": "1.2.0",
            "grid_template_areas": null,
            "object_position": null,
            "object_fit": null,
            "grid_auto_columns": null,
            "margin": null,
            "display": null,
            "left": null
          }
        },
        "388adb92d1f0404f8ab2ec031b180bfe": {
          "model_module": "@jupyter-widgets/controls",
          "model_name": "ProgressStyleModel",
          "model_module_version": "1.5.0",
          "state": {
            "_view_name": "StyleView",
            "_model_name": "ProgressStyleModel",
            "description_width": "",
            "_view_module": "@jupyter-widgets/base",
            "_model_module_version": "1.5.0",
            "_view_count": null,
            "_view_module_version": "1.2.0",
            "bar_color": null,
            "_model_module": "@jupyter-widgets/controls"
          }
        },
        "51fdb78d8fd249ba9e1f1d83a4c05742": {
          "model_module": "@jupyter-widgets/base",
          "model_name": "LayoutModel",
          "model_module_version": "1.2.0",
          "state": {
            "_view_name": "LayoutView",
            "grid_template_rows": null,
            "right": null,
            "justify_content": null,
            "_view_module": "@jupyter-widgets/base",
            "overflow": null,
            "_model_module_version": "1.2.0",
            "_view_count": null,
            "flex_flow": null,
            "width": null,
            "min_width": null,
            "border": null,
            "align_items": null,
            "bottom": null,
            "_model_module": "@jupyter-widgets/base",
            "top": null,
            "grid_column": null,
            "overflow_y": null,
            "overflow_x": null,
            "grid_auto_flow": null,
            "grid_area": null,
            "grid_template_columns": null,
            "flex": "2",
            "_model_name": "LayoutModel",
            "justify_items": null,
            "grid_row": null,
            "max_height": null,
            "align_content": null,
            "visibility": null,
            "align_self": null,
            "height": null,
            "min_height": null,
            "padding": null,
            "grid_auto_rows": null,
            "grid_gap": null,
            "max_width": null,
            "order": null,
            "_view_module_version": "1.2.0",
            "grid_template_areas": null,
            "object_position": null,
            "object_fit": null,
            "grid_auto_columns": null,
            "margin": null,
            "display": null,
            "left": null
          }
        },
        "5a504b9ce18d4bf9a26ddb93551a202a": {
          "model_module": "@jupyter-widgets/controls",
          "model_name": "DescriptionStyleModel",
          "model_module_version": "1.5.0",
          "state": {
            "_view_name": "StyleView",
            "_model_name": "DescriptionStyleModel",
            "description_width": "",
            "_view_module": "@jupyter-widgets/base",
            "_model_module_version": "1.5.0",
            "_view_count": null,
            "_view_module_version": "1.2.0",
            "_model_module": "@jupyter-widgets/controls"
          }
        },
        "5cb0757b5b954e0bb73fc61045e6f024": {
          "model_module": "@jupyter-widgets/base",
          "model_name": "LayoutModel",
          "model_module_version": "1.2.0",
          "state": {
            "_view_name": "LayoutView",
            "grid_template_rows": null,
            "right": null,
            "justify_content": null,
            "_view_module": "@jupyter-widgets/base",
            "overflow": null,
            "_model_module_version": "1.2.0",
            "_view_count": null,
            "flex_flow": null,
            "width": null,
            "min_width": null,
            "border": null,
            "align_items": null,
            "bottom": null,
            "_model_module": "@jupyter-widgets/base",
            "top": null,
            "grid_column": null,
            "overflow_y": null,
            "overflow_x": null,
            "grid_auto_flow": null,
            "grid_area": null,
            "grid_template_columns": null,
            "flex": null,
            "_model_name": "LayoutModel",
            "justify_items": null,
            "grid_row": null,
            "max_height": null,
            "align_content": null,
            "visibility": null,
            "align_self": null,
            "height": null,
            "min_height": null,
            "padding": null,
            "grid_auto_rows": null,
            "grid_gap": null,
            "max_width": null,
            "order": null,
            "_view_module_version": "1.2.0",
            "grid_template_areas": null,
            "object_position": null,
            "object_fit": null,
            "grid_auto_columns": null,
            "margin": null,
            "display": null,
            "left": null
          }
        },
        "a79b56784c94491780cc45abf4498acf": {
          "model_module": "@jupyter-widgets/controls",
          "model_name": "HBoxModel",
          "model_module_version": "1.5.0",
          "state": {
            "_view_name": "HBoxView",
            "_dom_classes": [],
            "_model_name": "HBoxModel",
            "_view_module": "@jupyter-widgets/controls",
            "_model_module_version": "1.5.0",
            "_view_count": null,
            "_view_module_version": "1.5.0",
            "box_style": "",
            "layout": "IPY_MODEL_113c74ca67f5468cb34fffb2bb4a8d1e",
            "_model_module": "@jupyter-widgets/controls",
            "children": [
              "IPY_MODEL_2efaa43982864428adab2103ecce2921",
              "IPY_MODEL_34d79b9352d34b4bb5fd1317622a8adc",
              "IPY_MODEL_70688b0c908746fdafc1a83968cd0211"
            ]
          }
        },
        "113c74ca67f5468cb34fffb2bb4a8d1e": {
          "model_module": "@jupyter-widgets/base",
          "model_name": "LayoutModel",
          "model_module_version": "1.2.0",
          "state": {
            "_view_name": "LayoutView",
            "grid_template_rows": null,
            "right": null,
            "justify_content": null,
            "_view_module": "@jupyter-widgets/base",
            "overflow": null,
            "_model_module_version": "1.2.0",
            "_view_count": null,
            "flex_flow": "row wrap",
            "width": "100%",
            "min_width": null,
            "border": null,
            "align_items": null,
            "bottom": null,
            "_model_module": "@jupyter-widgets/base",
            "top": null,
            "grid_column": null,
            "overflow_y": null,
            "overflow_x": null,
            "grid_auto_flow": null,
            "grid_area": null,
            "grid_template_columns": null,
            "flex": null,
            "_model_name": "LayoutModel",
            "justify_items": null,
            "grid_row": null,
            "max_height": null,
            "align_content": null,
            "visibility": null,
            "align_self": null,
            "height": null,
            "min_height": null,
            "padding": null,
            "grid_auto_rows": null,
            "grid_gap": null,
            "max_width": null,
            "order": null,
            "_view_module_version": "1.2.0",
            "grid_template_areas": null,
            "object_position": null,
            "object_fit": null,
            "grid_auto_columns": null,
            "margin": null,
            "display": "inline-flex",
            "left": null
          }
        },
        "2efaa43982864428adab2103ecce2921": {
          "model_module": "@jupyter-widgets/controls",
          "model_name": "HTMLModel",
          "model_module_version": "1.5.0",
          "state": {
            "_view_name": "HTMLView",
            "style": "IPY_MODEL_e203af2f8d8645bcb5073c0da2bf329e",
            "_dom_classes": [],
            "description": "",
            "_model_name": "HTMLModel",
            "placeholder": "​",
            "_view_module": "@jupyter-widgets/controls",
            "_model_module_version": "1.5.0",
            "value": "Validating: 100%",
            "_view_count": null,
            "_view_module_version": "1.5.0",
            "description_tooltip": null,
            "_model_module": "@jupyter-widgets/controls",
            "layout": "IPY_MODEL_ad9fd73ba2564204afb741746302cf35"
          }
        },
        "34d79b9352d34b4bb5fd1317622a8adc": {
          "model_module": "@jupyter-widgets/controls",
          "model_name": "FloatProgressModel",
          "model_module_version": "1.5.0",
          "state": {
            "_view_name": "ProgressView",
            "style": "IPY_MODEL_f09ceca648534c73b6acbbdc1bcfa2cf",
            "_dom_classes": [],
            "description": "",
            "_model_name": "FloatProgressModel",
            "bar_style": "",
            "max": 120,
            "_view_module": "@jupyter-widgets/controls",
            "_model_module_version": "1.5.0",
            "value": 120,
            "_view_count": null,
            "_view_module_version": "1.5.0",
            "orientation": "horizontal",
            "min": 0,
            "description_tooltip": null,
            "_model_module": "@jupyter-widgets/controls",
            "layout": "IPY_MODEL_2bcb0a56a5764fca9da2d26f59322f9f"
          }
        },
        "70688b0c908746fdafc1a83968cd0211": {
          "model_module": "@jupyter-widgets/controls",
          "model_name": "HTMLModel",
          "model_module_version": "1.5.0",
          "state": {
            "_view_name": "HTMLView",
            "style": "IPY_MODEL_55c1aa46e7fa41ac83dfc056c348457b",
            "_dom_classes": [],
            "description": "",
            "_model_name": "HTMLModel",
            "placeholder": "​",
            "_view_module": "@jupyter-widgets/controls",
            "_model_module_version": "1.5.0",
            "value": " 120/120 [00:41&lt;00:00,  3.05it/s]",
            "_view_count": null,
            "_view_module_version": "1.5.0",
            "description_tooltip": null,
            "_model_module": "@jupyter-widgets/controls",
            "layout": "IPY_MODEL_6def689f23c34f6e8302706ab1463dfa"
          }
        },
        "e203af2f8d8645bcb5073c0da2bf329e": {
          "model_module": "@jupyter-widgets/controls",
          "model_name": "DescriptionStyleModel",
          "model_module_version": "1.5.0",
          "state": {
            "_view_name": "StyleView",
            "_model_name": "DescriptionStyleModel",
            "description_width": "",
            "_view_module": "@jupyter-widgets/base",
            "_model_module_version": "1.5.0",
            "_view_count": null,
            "_view_module_version": "1.2.0",
            "_model_module": "@jupyter-widgets/controls"
          }
        },
        "ad9fd73ba2564204afb741746302cf35": {
          "model_module": "@jupyter-widgets/base",
          "model_name": "LayoutModel",
          "model_module_version": "1.2.0",
          "state": {
            "_view_name": "LayoutView",
            "grid_template_rows": null,
            "right": null,
            "justify_content": null,
            "_view_module": "@jupyter-widgets/base",
            "overflow": null,
            "_model_module_version": "1.2.0",
            "_view_count": null,
            "flex_flow": null,
            "width": null,
            "min_width": null,
            "border": null,
            "align_items": null,
            "bottom": null,
            "_model_module": "@jupyter-widgets/base",
            "top": null,
            "grid_column": null,
            "overflow_y": null,
            "overflow_x": null,
            "grid_auto_flow": null,
            "grid_area": null,
            "grid_template_columns": null,
            "flex": null,
            "_model_name": "LayoutModel",
            "justify_items": null,
            "grid_row": null,
            "max_height": null,
            "align_content": null,
            "visibility": null,
            "align_self": null,
            "height": null,
            "min_height": null,
            "padding": null,
            "grid_auto_rows": null,
            "grid_gap": null,
            "max_width": null,
            "order": null,
            "_view_module_version": "1.2.0",
            "grid_template_areas": null,
            "object_position": null,
            "object_fit": null,
            "grid_auto_columns": null,
            "margin": null,
            "display": null,
            "left": null
          }
        },
        "f09ceca648534c73b6acbbdc1bcfa2cf": {
          "model_module": "@jupyter-widgets/controls",
          "model_name": "ProgressStyleModel",
          "model_module_version": "1.5.0",
          "state": {
            "_view_name": "StyleView",
            "_model_name": "ProgressStyleModel",
            "description_width": "",
            "_view_module": "@jupyter-widgets/base",
            "_model_module_version": "1.5.0",
            "_view_count": null,
            "_view_module_version": "1.2.0",
            "bar_color": null,
            "_model_module": "@jupyter-widgets/controls"
          }
        },
        "2bcb0a56a5764fca9da2d26f59322f9f": {
          "model_module": "@jupyter-widgets/base",
          "model_name": "LayoutModel",
          "model_module_version": "1.2.0",
          "state": {
            "_view_name": "LayoutView",
            "grid_template_rows": null,
            "right": null,
            "justify_content": null,
            "_view_module": "@jupyter-widgets/base",
            "overflow": null,
            "_model_module_version": "1.2.0",
            "_view_count": null,
            "flex_flow": null,
            "width": null,
            "min_width": null,
            "border": null,
            "align_items": null,
            "bottom": null,
            "_model_module": "@jupyter-widgets/base",
            "top": null,
            "grid_column": null,
            "overflow_y": null,
            "overflow_x": null,
            "grid_auto_flow": null,
            "grid_area": null,
            "grid_template_columns": null,
            "flex": "2",
            "_model_name": "LayoutModel",
            "justify_items": null,
            "grid_row": null,
            "max_height": null,
            "align_content": null,
            "visibility": null,
            "align_self": null,
            "height": null,
            "min_height": null,
            "padding": null,
            "grid_auto_rows": null,
            "grid_gap": null,
            "max_width": null,
            "order": null,
            "_view_module_version": "1.2.0",
            "grid_template_areas": null,
            "object_position": null,
            "object_fit": null,
            "grid_auto_columns": null,
            "margin": null,
            "display": null,
            "left": null
          }
        },
        "55c1aa46e7fa41ac83dfc056c348457b": {
          "model_module": "@jupyter-widgets/controls",
          "model_name": "DescriptionStyleModel",
          "model_module_version": "1.5.0",
          "state": {
            "_view_name": "StyleView",
            "_model_name": "DescriptionStyleModel",
            "description_width": "",
            "_view_module": "@jupyter-widgets/base",
            "_model_module_version": "1.5.0",
            "_view_count": null,
            "_view_module_version": "1.2.0",
            "_model_module": "@jupyter-widgets/controls"
          }
        },
        "6def689f23c34f6e8302706ab1463dfa": {
          "model_module": "@jupyter-widgets/base",
          "model_name": "LayoutModel",
          "model_module_version": "1.2.0",
          "state": {
            "_view_name": "LayoutView",
            "grid_template_rows": null,
            "right": null,
            "justify_content": null,
            "_view_module": "@jupyter-widgets/base",
            "overflow": null,
            "_model_module_version": "1.2.0",
            "_view_count": null,
            "flex_flow": null,
            "width": null,
            "min_width": null,
            "border": null,
            "align_items": null,
            "bottom": null,
            "_model_module": "@jupyter-widgets/base",
            "top": null,
            "grid_column": null,
            "overflow_y": null,
            "overflow_x": null,
            "grid_auto_flow": null,
            "grid_area": null,
            "grid_template_columns": null,
            "flex": null,
            "_model_name": "LayoutModel",
            "justify_items": null,
            "grid_row": null,
            "max_height": null,
            "align_content": null,
            "visibility": null,
            "align_self": null,
            "height": null,
            "min_height": null,
            "padding": null,
            "grid_auto_rows": null,
            "grid_gap": null,
            "max_width": null,
            "order": null,
            "_view_module_version": "1.2.0",
            "grid_template_areas": null,
            "object_position": null,
            "object_fit": null,
            "grid_auto_columns": null,
            "margin": null,
            "display": null,
            "left": null
          }
        },
        "c5de39876a8045df915027de74705209": {
          "model_module": "@jupyter-widgets/controls",
          "model_name": "HBoxModel",
          "model_module_version": "1.5.0",
          "state": {
            "_view_name": "HBoxView",
            "_dom_classes": [],
            "_model_name": "HBoxModel",
            "_view_module": "@jupyter-widgets/controls",
            "_model_module_version": "1.5.0",
            "_view_count": null,
            "_view_module_version": "1.5.0",
            "box_style": "",
            "layout": "IPY_MODEL_a76597979cb8477fb7cb04c8d3190035",
            "_model_module": "@jupyter-widgets/controls",
            "children": [
              "IPY_MODEL_7366f58bfa1f4980a90d81952b3eaba8",
              "IPY_MODEL_a51c18851c554ebfb846ab942a4ccaff",
              "IPY_MODEL_a79f747df5b0485a8e69603189345b77"
            ]
          }
        },
        "a76597979cb8477fb7cb04c8d3190035": {
          "model_module": "@jupyter-widgets/base",
          "model_name": "LayoutModel",
          "model_module_version": "1.2.0",
          "state": {
            "_view_name": "LayoutView",
            "grid_template_rows": null,
            "right": null,
            "justify_content": null,
            "_view_module": "@jupyter-widgets/base",
            "overflow": null,
            "_model_module_version": "1.2.0",
            "_view_count": null,
            "flex_flow": "row wrap",
            "width": "100%",
            "min_width": null,
            "border": null,
            "align_items": null,
            "bottom": null,
            "_model_module": "@jupyter-widgets/base",
            "top": null,
            "grid_column": null,
            "overflow_y": null,
            "overflow_x": null,
            "grid_auto_flow": null,
            "grid_area": null,
            "grid_template_columns": null,
            "flex": null,
            "_model_name": "LayoutModel",
            "justify_items": null,
            "grid_row": null,
            "max_height": null,
            "align_content": null,
            "visibility": null,
            "align_self": null,
            "height": null,
            "min_height": null,
            "padding": null,
            "grid_auto_rows": null,
            "grid_gap": null,
            "max_width": null,
            "order": null,
            "_view_module_version": "1.2.0",
            "grid_template_areas": null,
            "object_position": null,
            "object_fit": null,
            "grid_auto_columns": null,
            "margin": null,
            "display": "inline-flex",
            "left": null
          }
        },
        "7366f58bfa1f4980a90d81952b3eaba8": {
          "model_module": "@jupyter-widgets/controls",
          "model_name": "HTMLModel",
          "model_module_version": "1.5.0",
          "state": {
            "_view_name": "HTMLView",
            "style": "IPY_MODEL_a598aacc17134f03b29a6fd11ad84835",
            "_dom_classes": [],
            "description": "",
            "_model_name": "HTMLModel",
            "placeholder": "​",
            "_view_module": "@jupyter-widgets/controls",
            "_model_module_version": "1.5.0",
            "value": "Validating: 100%",
            "_view_count": null,
            "_view_module_version": "1.5.0",
            "description_tooltip": null,
            "_model_module": "@jupyter-widgets/controls",
            "layout": "IPY_MODEL_308cfa006b974334870eeb1d8bc7a368"
          }
        },
        "a51c18851c554ebfb846ab942a4ccaff": {
          "model_module": "@jupyter-widgets/controls",
          "model_name": "FloatProgressModel",
          "model_module_version": "1.5.0",
          "state": {
            "_view_name": "ProgressView",
            "style": "IPY_MODEL_1fc31166e18c424db6f5893edbcbf43a",
            "_dom_classes": [],
            "description": "",
            "_model_name": "FloatProgressModel",
            "bar_style": "",
            "max": 120,
            "_view_module": "@jupyter-widgets/controls",
            "_model_module_version": "1.5.0",
            "value": 120,
            "_view_count": null,
            "_view_module_version": "1.5.0",
            "orientation": "horizontal",
            "min": 0,
            "description_tooltip": null,
            "_model_module": "@jupyter-widgets/controls",
            "layout": "IPY_MODEL_d9bf5a223cac4728850b280f22a1c461"
          }
        },
        "a79f747df5b0485a8e69603189345b77": {
          "model_module": "@jupyter-widgets/controls",
          "model_name": "HTMLModel",
          "model_module_version": "1.5.0",
          "state": {
            "_view_name": "HTMLView",
            "style": "IPY_MODEL_39a0d67e274a47f68584c7aaf6aae03b",
            "_dom_classes": [],
            "description": "",
            "_model_name": "HTMLModel",
            "placeholder": "​",
            "_view_module": "@jupyter-widgets/controls",
            "_model_module_version": "1.5.0",
            "value": " 120/120 [00:41&lt;00:00,  3.06it/s]",
            "_view_count": null,
            "_view_module_version": "1.5.0",
            "description_tooltip": null,
            "_model_module": "@jupyter-widgets/controls",
            "layout": "IPY_MODEL_edca482da447440ab3c947db836ffab5"
          }
        },
        "a598aacc17134f03b29a6fd11ad84835": {
          "model_module": "@jupyter-widgets/controls",
          "model_name": "DescriptionStyleModel",
          "model_module_version": "1.5.0",
          "state": {
            "_view_name": "StyleView",
            "_model_name": "DescriptionStyleModel",
            "description_width": "",
            "_view_module": "@jupyter-widgets/base",
            "_model_module_version": "1.5.0",
            "_view_count": null,
            "_view_module_version": "1.2.0",
            "_model_module": "@jupyter-widgets/controls"
          }
        },
        "308cfa006b974334870eeb1d8bc7a368": {
          "model_module": "@jupyter-widgets/base",
          "model_name": "LayoutModel",
          "model_module_version": "1.2.0",
          "state": {
            "_view_name": "LayoutView",
            "grid_template_rows": null,
            "right": null,
            "justify_content": null,
            "_view_module": "@jupyter-widgets/base",
            "overflow": null,
            "_model_module_version": "1.2.0",
            "_view_count": null,
            "flex_flow": null,
            "width": null,
            "min_width": null,
            "border": null,
            "align_items": null,
            "bottom": null,
            "_model_module": "@jupyter-widgets/base",
            "top": null,
            "grid_column": null,
            "overflow_y": null,
            "overflow_x": null,
            "grid_auto_flow": null,
            "grid_area": null,
            "grid_template_columns": null,
            "flex": null,
            "_model_name": "LayoutModel",
            "justify_items": null,
            "grid_row": null,
            "max_height": null,
            "align_content": null,
            "visibility": null,
            "align_self": null,
            "height": null,
            "min_height": null,
            "padding": null,
            "grid_auto_rows": null,
            "grid_gap": null,
            "max_width": null,
            "order": null,
            "_view_module_version": "1.2.0",
            "grid_template_areas": null,
            "object_position": null,
            "object_fit": null,
            "grid_auto_columns": null,
            "margin": null,
            "display": null,
            "left": null
          }
        },
        "1fc31166e18c424db6f5893edbcbf43a": {
          "model_module": "@jupyter-widgets/controls",
          "model_name": "ProgressStyleModel",
          "model_module_version": "1.5.0",
          "state": {
            "_view_name": "StyleView",
            "_model_name": "ProgressStyleModel",
            "description_width": "",
            "_view_module": "@jupyter-widgets/base",
            "_model_module_version": "1.5.0",
            "_view_count": null,
            "_view_module_version": "1.2.0",
            "bar_color": null,
            "_model_module": "@jupyter-widgets/controls"
          }
        },
        "d9bf5a223cac4728850b280f22a1c461": {
          "model_module": "@jupyter-widgets/base",
          "model_name": "LayoutModel",
          "model_module_version": "1.2.0",
          "state": {
            "_view_name": "LayoutView",
            "grid_template_rows": null,
            "right": null,
            "justify_content": null,
            "_view_module": "@jupyter-widgets/base",
            "overflow": null,
            "_model_module_version": "1.2.0",
            "_view_count": null,
            "flex_flow": null,
            "width": null,
            "min_width": null,
            "border": null,
            "align_items": null,
            "bottom": null,
            "_model_module": "@jupyter-widgets/base",
            "top": null,
            "grid_column": null,
            "overflow_y": null,
            "overflow_x": null,
            "grid_auto_flow": null,
            "grid_area": null,
            "grid_template_columns": null,
            "flex": "2",
            "_model_name": "LayoutModel",
            "justify_items": null,
            "grid_row": null,
            "max_height": null,
            "align_content": null,
            "visibility": null,
            "align_self": null,
            "height": null,
            "min_height": null,
            "padding": null,
            "grid_auto_rows": null,
            "grid_gap": null,
            "max_width": null,
            "order": null,
            "_view_module_version": "1.2.0",
            "grid_template_areas": null,
            "object_position": null,
            "object_fit": null,
            "grid_auto_columns": null,
            "margin": null,
            "display": null,
            "left": null
          }
        },
        "39a0d67e274a47f68584c7aaf6aae03b": {
          "model_module": "@jupyter-widgets/controls",
          "model_name": "DescriptionStyleModel",
          "model_module_version": "1.5.0",
          "state": {
            "_view_name": "StyleView",
            "_model_name": "DescriptionStyleModel",
            "description_width": "",
            "_view_module": "@jupyter-widgets/base",
            "_model_module_version": "1.5.0",
            "_view_count": null,
            "_view_module_version": "1.2.0",
            "_model_module": "@jupyter-widgets/controls"
          }
        },
        "edca482da447440ab3c947db836ffab5": {
          "model_module": "@jupyter-widgets/base",
          "model_name": "LayoutModel",
          "model_module_version": "1.2.0",
          "state": {
            "_view_name": "LayoutView",
            "grid_template_rows": null,
            "right": null,
            "justify_content": null,
            "_view_module": "@jupyter-widgets/base",
            "overflow": null,
            "_model_module_version": "1.2.0",
            "_view_count": null,
            "flex_flow": null,
            "width": null,
            "min_width": null,
            "border": null,
            "align_items": null,
            "bottom": null,
            "_model_module": "@jupyter-widgets/base",
            "top": null,
            "grid_column": null,
            "overflow_y": null,
            "overflow_x": null,
            "grid_auto_flow": null,
            "grid_area": null,
            "grid_template_columns": null,
            "flex": null,
            "_model_name": "LayoutModel",
            "justify_items": null,
            "grid_row": null,
            "max_height": null,
            "align_content": null,
            "visibility": null,
            "align_self": null,
            "height": null,
            "min_height": null,
            "padding": null,
            "grid_auto_rows": null,
            "grid_gap": null,
            "max_width": null,
            "order": null,
            "_view_module_version": "1.2.0",
            "grid_template_areas": null,
            "object_position": null,
            "object_fit": null,
            "grid_auto_columns": null,
            "margin": null,
            "display": null,
            "left": null
          }
        }
      }
    }
  },
  "cells": [
    {
      "cell_type": "code",
      "metadata": {
        "colab": {
          "base_uri": "https://localhost:8080/"
        },
        "id": "XGl9rbYW1wd5",
        "outputId": "2ae18b6a-729e-4169-ab12-fbec94fc5a7a"
      },
      "source": [
        "!pip install wget\n",
        "!apt-get install sox libsndfile1 ffmpeg\n",
        "!pip install unidecode\n",
        "!python -m pip install nemo_toolkit[all]\n",
        "exit()"
      ],
      "execution_count": 1,
      "outputs": [
        {
          "output_type": "stream",
          "name": "stdout",
          "text": [
            "Requirement already satisfied: wget in /usr/local/lib/python3.7/dist-packages (3.2)\n",
            "Reading package lists... Done\n",
            "Building dependency tree       \n",
            "Reading state information... Done\n",
            "libsndfile1 is already the newest version (1.0.28-4ubuntu0.18.04.2).\n",
            "ffmpeg is already the newest version (7:3.4.8-0ubuntu0.2).\n",
            "sox is already the newest version (14.4.2-3ubuntu0.18.04.1).\n",
            "0 upgraded, 0 newly installed, 0 to remove and 37 not upgraded.\n",
            "Requirement already satisfied: unidecode in /usr/local/lib/python3.7/dist-packages (1.3.2)\n",
            "Requirement already satisfied: nemo_toolkit[all] in /usr/local/lib/python3.7/dist-packages (1.5.0)\n",
            "Requirement already satisfied: numpy>=1.18.2 in /usr/local/lib/python3.7/dist-packages (from nemo_toolkit[all]) (1.19.5)\n",
            "Requirement already satisfied: onnx>=1.7.0 in /usr/local/lib/python3.7/dist-packages (from nemo_toolkit[all]) (1.10.2)\n",
            "Requirement already satisfied: sentencepiece<1.0.0 in /usr/local/lib/python3.7/dist-packages (from nemo_toolkit[all]) (0.1.96)\n",
            "Requirement already satisfied: torch in /usr/local/lib/python3.7/dist-packages (from nemo_toolkit[all]) (1.10.0+cu111)\n",
            "Requirement already satisfied: ruamel.yaml in /usr/local/lib/python3.7/dist-packages (from nemo_toolkit[all]) (0.17.17)\n",
            "Requirement already satisfied: wrapt in /usr/local/lib/python3.7/dist-packages (from nemo_toolkit[all]) (1.13.3)\n",
            "Requirement already satisfied: tqdm>=4.41.0 in /usr/local/lib/python3.7/dist-packages (from nemo_toolkit[all]) (4.62.3)\n",
            "Requirement already satisfied: python-dateutil in /usr/local/lib/python3.7/dist-packages (from nemo_toolkit[all]) (2.8.2)\n",
            "Requirement already satisfied: unidecode in /usr/local/lib/python3.7/dist-packages (from nemo_toolkit[all]) (1.3.2)\n",
            "Requirement already satisfied: scikit-learn in /usr/local/lib/python3.7/dist-packages (from nemo_toolkit[all]) (1.0.1)\n",
            "Requirement already satisfied: wget in /usr/local/lib/python3.7/dist-packages (from nemo_toolkit[all]) (3.2)\n",
            "Requirement already satisfied: frozendict in /usr/local/lib/python3.7/dist-packages (from nemo_toolkit[all]) (2.1.1)\n",
            "Requirement already satisfied: numba in /usr/local/lib/python3.7/dist-packages (from nemo_toolkit[all]) (0.51.2)\n",
            "Requirement already satisfied: braceexpand in /usr/local/lib/python3.7/dist-packages (from nemo_toolkit[all]) (0.1.7)\n",
            "Requirement already satisfied: kaldiio in /usr/local/lib/python3.7/dist-packages (from nemo_toolkit[all]) (2.17.2)\n",
            "Requirement already satisfied: boto3 in /usr/local/lib/python3.7/dist-packages (from nemo_toolkit[all]) (1.20.16)\n",
            "Requirement already satisfied: pangu in /usr/local/lib/python3.7/dist-packages (from nemo_toolkit[all]) (4.0.6.1)\n",
            "Requirement already satisfied: pyyaml<6 in /usr/local/lib/python3.7/dist-packages (from nemo_toolkit[all]) (5.4.1)\n",
            "Requirement already satisfied: kaldi-io in /usr/local/lib/python3.7/dist-packages (from nemo_toolkit[all]) (0.9.4)\n",
            "Requirement already satisfied: marshmallow in /usr/local/lib/python3.7/dist-packages (from nemo_toolkit[all]) (3.14.1)\n",
            "Requirement already satisfied: sox in /usr/local/lib/python3.7/dist-packages (from nemo_toolkit[all]) (1.4.1)\n",
            "Requirement already satisfied: fasttext in /usr/local/lib/python3.7/dist-packages (from nemo_toolkit[all]) (0.9.2)\n",
            "Requirement already satisfied: torchmetrics>=0.4.1rc0 in /usr/local/lib/python3.7/dist-packages (from nemo_toolkit[all]) (0.6.0)\n",
            "Requirement already satisfied: pesq in /usr/local/lib/python3.7/dist-packages (from nemo_toolkit[all]) (0.0.3)\n",
            "Requirement already satisfied: pystoi in /usr/local/lib/python3.7/dist-packages (from nemo_toolkit[all]) (0.3.3)\n",
            "Requirement already satisfied: pyannote.metrics in /usr/local/lib/python3.7/dist-packages (from nemo_toolkit[all]) (3.1)\n",
            "Requirement already satisfied: packaging in /usr/local/lib/python3.7/dist-packages (from nemo_toolkit[all]) (21.3)\n",
            "Requirement already satisfied: pytest-runner in /usr/local/lib/python3.7/dist-packages (from nemo_toolkit[all]) (5.3.1)\n",
            "Requirement already satisfied: g2p-en in /usr/local/lib/python3.7/dist-packages (from nemo_toolkit[all]) (2.1.0)\n",
            "Requirement already satisfied: editdistance in /usr/local/lib/python3.7/dist-packages (from nemo_toolkit[all]) (0.5.3)\n",
            "Requirement already satisfied: omegaconf>=2.1.0 in /usr/local/lib/python3.7/dist-packages (from nemo_toolkit[all]) (2.1.1)\n",
            "Requirement already satisfied: rapidfuzz in /usr/local/lib/python3.7/dist-packages (from nemo_toolkit[all]) (1.8.3)\n",
            "Requirement already satisfied: sphinx in /usr/local/lib/python3.7/dist-packages (from nemo_toolkit[all]) (4.3.1)\n",
            "Requirement already satisfied: torchvision in /usr/local/lib/python3.7/dist-packages (from nemo_toolkit[all]) (0.11.1+cu111)\n",
            "Requirement already satisfied: jieba in /usr/local/lib/python3.7/dist-packages (from nemo_toolkit[all]) (0.42.1)\n",
            "Requirement already satisfied: librosa in /usr/local/lib/python3.7/dist-packages (from nemo_toolkit[all]) (0.8.1)\n",
            "Requirement already satisfied: pyannote.core in /usr/local/lib/python3.7/dist-packages (from nemo_toolkit[all]) (4.3)\n",
            "Requirement already satisfied: parameterized in /usr/local/lib/python3.7/dist-packages (from nemo_toolkit[all]) (0.8.1)\n",
            "Requirement already satisfied: sacremoses>=0.0.43 in /usr/local/lib/python3.7/dist-packages (from nemo_toolkit[all]) (0.0.46)\n",
            "Requirement already satisfied: pillow in /usr/local/lib/python3.7/dist-packages (from nemo_toolkit[all]) (7.1.2)\n",
            "Requirement already satisfied: soundfile in /usr/local/lib/python3.7/dist-packages (from nemo_toolkit[all]) (0.10.3.post1)\n",
            "Requirement already satisfied: scipy in /usr/local/lib/python3.7/dist-packages (from nemo_toolkit[all]) (1.4.1)\n",
            "Requirement already satisfied: sacrebleu[ja] in /usr/local/lib/python3.7/dist-packages (from nemo_toolkit[all]) (2.0.0)\n",
            "Collecting matplotlib>=3.3.2\n",
            "  Using cached matplotlib-3.5.0-cp37-cp37m-manylinux_2_5_x86_64.manylinux1_x86_64.whl (11.2 MB)\n",
            "Requirement already satisfied: matplotlib in /usr/local/lib/python3.7/dist-packages (from nemo_toolkit[all]) (3.2.2)\n",
            "Requirement already satisfied: opencc in /usr/local/lib/python3.7/dist-packages (from nemo_toolkit[all]) (1.1.3)\n",
            "Requirement already satisfied: hydra-core>=1.1.0 in /usr/local/lib/python3.7/dist-packages (from nemo_toolkit[all]) (1.1.1)\n",
            "Requirement already satisfied: youtokentome>=1.0.5 in /usr/local/lib/python3.7/dist-packages (from nemo_toolkit[all]) (1.0.6)\n",
            "Requirement already satisfied: pandas in /usr/local/lib/python3.7/dist-packages (from nemo_toolkit[all]) (1.1.5)\n",
            "Requirement already satisfied: pypinyin in /usr/local/lib/python3.7/dist-packages (from nemo_toolkit[all]) (0.44.0)\n",
            "Requirement already satisfied: ipywidgets in /usr/local/lib/python3.7/dist-packages (from nemo_toolkit[all]) (7.6.5)\n",
            "Requirement already satisfied: wandb in /usr/local/lib/python3.7/dist-packages (from nemo_toolkit[all]) (0.12.7)\n",
            "Requirement already satisfied: inflect in /usr/local/lib/python3.7/dist-packages (from nemo_toolkit[all]) (2.1.0)\n",
            "Requirement already satisfied: webdataset<=0.1.62,>=0.1.48 in /usr/local/lib/python3.7/dist-packages (from nemo_toolkit[all]) (0.1.62)\n",
            "Requirement already satisfied: pytorch-lightning>=1.5.0 in /usr/local/lib/python3.7/dist-packages (from nemo_toolkit[all]) (1.5.3)\n",
            "Requirement already satisfied: torch-stft in /usr/local/lib/python3.7/dist-packages (from nemo_toolkit[all]) (0.1.4)\n",
            "Requirement already satisfied: pytest in /usr/local/lib/python3.7/dist-packages (from nemo_toolkit[all]) (3.6.4)\n",
            "Requirement already satisfied: wordninja==2.0.0 in /usr/local/lib/python3.7/dist-packages (from nemo_toolkit[all]) (2.0.0)\n",
            "Requirement already satisfied: h5py in /usr/local/lib/python3.7/dist-packages (from nemo_toolkit[all]) (3.1.0)\n",
            "Requirement already satisfied: gdown in /usr/local/lib/python3.7/dist-packages (from nemo_toolkit[all]) (3.6.4)\n",
            "Requirement already satisfied: kaldi-python-io in /usr/local/lib/python3.7/dist-packages (from nemo_toolkit[all]) (1.2.2)\n",
            "Requirement already satisfied: nltk>=3.6.5 in /usr/local/lib/python3.7/dist-packages (from nemo_toolkit[all]) (3.6.5)\n",
            "Requirement already satisfied: sphinxcontrib-bibtex in /usr/local/lib/python3.7/dist-packages (from nemo_toolkit[all]) (2.4.1)\n",
            "Requirement already satisfied: transformers>=4.0.1 in /usr/local/lib/python3.7/dist-packages (from nemo_toolkit[all]) (4.12.5)\n",
            "Requirement already satisfied: isort[requirements]<5 in /usr/local/lib/python3.7/dist-packages (from nemo_toolkit[all]) (4.3.21)\n",
            "Requirement already satisfied: black==19.10b0 in /usr/local/lib/python3.7/dist-packages (from nemo_toolkit[all]) (19.10b0)\n",
            "Requirement already satisfied: regex in /usr/local/lib/python3.7/dist-packages (from nemo_toolkit[all]) (2021.11.10)\n",
            "Requirement already satisfied: pydub in /usr/local/lib/python3.7/dist-packages (from nemo_toolkit[all]) (0.25.1)\n",
            "Requirement already satisfied: attrdict in /usr/local/lib/python3.7/dist-packages (from nemo_toolkit[all]) (2.0.1)\n",
            "Requirement already satisfied: toml>=0.9.4 in /usr/local/lib/python3.7/dist-packages (from black==19.10b0->nemo_toolkit[all]) (0.10.2)\n",
            "Requirement already satisfied: appdirs in /usr/local/lib/python3.7/dist-packages (from black==19.10b0->nemo_toolkit[all]) (1.4.4)\n",
            "Requirement already satisfied: typed-ast>=1.4.0 in /usr/local/lib/python3.7/dist-packages (from black==19.10b0->nemo_toolkit[all]) (1.5.0)\n",
            "Requirement already satisfied: click>=6.5 in /usr/local/lib/python3.7/dist-packages (from black==19.10b0->nemo_toolkit[all]) (7.1.2)\n",
            "Requirement already satisfied: pathspec<1,>=0.6 in /usr/local/lib/python3.7/dist-packages (from black==19.10b0->nemo_toolkit[all]) (0.9.0)\n",
            "Requirement already satisfied: attrs>=18.1.0 in /usr/local/lib/python3.7/dist-packages (from black==19.10b0->nemo_toolkit[all]) (21.2.0)\n",
            "Requirement already satisfied: importlib-resources in /usr/local/lib/python3.7/dist-packages (from hydra-core>=1.1.0->nemo_toolkit[all]) (5.4.0)\n",
            "Requirement already satisfied: antlr4-python3-runtime==4.8 in /usr/local/lib/python3.7/dist-packages (from hydra-core>=1.1.0->nemo_toolkit[all]) (4.8)\n",
            "Requirement already satisfied: pipreqs in /usr/local/lib/python3.7/dist-packages (from isort[requirements]<5->nemo_toolkit[all]) (0.4.11)\n",
            "Requirement already satisfied: pip-api in /usr/local/lib/python3.7/dist-packages (from isort[requirements]<5->nemo_toolkit[all]) (0.0.23)\n",
            "Requirement already satisfied: typing-extensions>=3.6.2.1 in /usr/local/lib/python3.7/dist-packages (from onnx>=1.7.0->nemo_toolkit[all]) (3.10.0.2)\n",
            "Requirement already satisfied: six in /usr/local/lib/python3.7/dist-packages (from onnx>=1.7.0->nemo_toolkit[all]) (1.15.0)\n",
            "Requirement already satisfied: protobuf in /usr/local/lib/python3.7/dist-packages (from onnx>=1.7.0->nemo_toolkit[all]) (3.17.3)\n",
            "Requirement already satisfied: future>=0.17.1 in /usr/local/lib/python3.7/dist-packages (from pytorch-lightning>=1.5.0->nemo_toolkit[all]) (0.18.2)\n",
            "Requirement already satisfied: fsspec[http]!=2021.06.0,>=2021.05.0 in /usr/local/lib/python3.7/dist-packages (from pytorch-lightning>=1.5.0->nemo_toolkit[all]) (2021.11.1)\n",
            "Requirement already satisfied: pyDeprecate==0.3.1 in /usr/local/lib/python3.7/dist-packages (from pytorch-lightning>=1.5.0->nemo_toolkit[all]) (0.3.1)\n",
            "Requirement already satisfied: tensorboard>=2.2.0 in /usr/local/lib/python3.7/dist-packages (from pytorch-lightning>=1.5.0->nemo_toolkit[all]) (2.7.0)\n",
            "Requirement already satisfied: aiohttp in /usr/local/lib/python3.7/dist-packages (from fsspec[http]!=2021.06.0,>=2021.05.0->pytorch-lightning>=1.5.0->nemo_toolkit[all]) (3.8.1)\n",
            "Requirement already satisfied: requests in /usr/local/lib/python3.7/dist-packages (from fsspec[http]!=2021.06.0,>=2021.05.0->pytorch-lightning>=1.5.0->nemo_toolkit[all]) (2.23.0)\n",
            "Requirement already satisfied: pyparsing!=3.0.5,>=2.0.2 in /usr/local/lib/python3.7/dist-packages (from packaging->nemo_toolkit[all]) (3.0.6)\n",
            "Requirement already satisfied: joblib in /usr/local/lib/python3.7/dist-packages (from sacremoses>=0.0.43->nemo_toolkit[all]) (1.1.0)\n",
            "Requirement already satisfied: tensorboard-plugin-wit>=1.6.0 in /usr/local/lib/python3.7/dist-packages (from tensorboard>=2.2.0->pytorch-lightning>=1.5.0->nemo_toolkit[all]) (1.8.0)\n",
            "Requirement already satisfied: setuptools>=41.0.0 in /usr/local/lib/python3.7/dist-packages (from tensorboard>=2.2.0->pytorch-lightning>=1.5.0->nemo_toolkit[all]) (57.4.0)\n",
            "Requirement already satisfied: google-auth<3,>=1.6.3 in /usr/local/lib/python3.7/dist-packages (from tensorboard>=2.2.0->pytorch-lightning>=1.5.0->nemo_toolkit[all]) (1.35.0)\n",
            "Requirement already satisfied: google-auth-oauthlib<0.5,>=0.4.1 in /usr/local/lib/python3.7/dist-packages (from tensorboard>=2.2.0->pytorch-lightning>=1.5.0->nemo_toolkit[all]) (0.4.6)\n",
            "Requirement already satisfied: grpcio>=1.24.3 in /usr/local/lib/python3.7/dist-packages (from tensorboard>=2.2.0->pytorch-lightning>=1.5.0->nemo_toolkit[all]) (1.42.0)\n",
            "Requirement already satisfied: absl-py>=0.4 in /usr/local/lib/python3.7/dist-packages (from tensorboard>=2.2.0->pytorch-lightning>=1.5.0->nemo_toolkit[all]) (0.12.0)\n",
            "Requirement already satisfied: tensorboard-data-server<0.7.0,>=0.6.0 in /usr/local/lib/python3.7/dist-packages (from tensorboard>=2.2.0->pytorch-lightning>=1.5.0->nemo_toolkit[all]) (0.6.1)\n",
            "Requirement already satisfied: wheel>=0.26 in /usr/local/lib/python3.7/dist-packages (from tensorboard>=2.2.0->pytorch-lightning>=1.5.0->nemo_toolkit[all]) (0.37.0)\n",
            "Requirement already satisfied: markdown>=2.6.8 in /usr/local/lib/python3.7/dist-packages (from tensorboard>=2.2.0->pytorch-lightning>=1.5.0->nemo_toolkit[all]) (3.3.6)\n",
            "Requirement already satisfied: werkzeug>=0.11.15 in /usr/local/lib/python3.7/dist-packages (from tensorboard>=2.2.0->pytorch-lightning>=1.5.0->nemo_toolkit[all]) (1.0.1)\n",
            "Requirement already satisfied: cachetools<5.0,>=2.0.0 in /usr/local/lib/python3.7/dist-packages (from google-auth<3,>=1.6.3->tensorboard>=2.2.0->pytorch-lightning>=1.5.0->nemo_toolkit[all]) (4.2.4)\n",
            "Requirement already satisfied: rsa<5,>=3.1.4 in /usr/local/lib/python3.7/dist-packages (from google-auth<3,>=1.6.3->tensorboard>=2.2.0->pytorch-lightning>=1.5.0->nemo_toolkit[all]) (4.7.2)\n",
            "Requirement already satisfied: pyasn1-modules>=0.2.1 in /usr/local/lib/python3.7/dist-packages (from google-auth<3,>=1.6.3->tensorboard>=2.2.0->pytorch-lightning>=1.5.0->nemo_toolkit[all]) (0.2.8)\n",
            "Requirement already satisfied: requests-oauthlib>=0.7.0 in /usr/local/lib/python3.7/dist-packages (from google-auth-oauthlib<0.5,>=0.4.1->tensorboard>=2.2.0->pytorch-lightning>=1.5.0->nemo_toolkit[all]) (1.3.0)\n",
            "Requirement already satisfied: importlib-metadata>=4.4 in /usr/local/lib/python3.7/dist-packages (from markdown>=2.6.8->tensorboard>=2.2.0->pytorch-lightning>=1.5.0->nemo_toolkit[all]) (4.8.2)\n",
            "Requirement already satisfied: zipp>=0.5 in /usr/local/lib/python3.7/dist-packages (from importlib-metadata>=4.4->markdown>=2.6.8->tensorboard>=2.2.0->pytorch-lightning>=1.5.0->nemo_toolkit[all]) (3.6.0)\n",
            "Requirement already satisfied: pyasn1<0.5.0,>=0.4.6 in /usr/local/lib/python3.7/dist-packages (from pyasn1-modules>=0.2.1->google-auth<3,>=1.6.3->tensorboard>=2.2.0->pytorch-lightning>=1.5.0->nemo_toolkit[all]) (0.4.8)\n",
            "Requirement already satisfied: chardet<4,>=3.0.2 in /usr/local/lib/python3.7/dist-packages (from requests->fsspec[http]!=2021.06.0,>=2021.05.0->pytorch-lightning>=1.5.0->nemo_toolkit[all]) (3.0.4)\n",
            "Requirement already satisfied: urllib3!=1.25.0,!=1.25.1,<1.26,>=1.21.1 in /usr/local/lib/python3.7/dist-packages (from requests->fsspec[http]!=2021.06.0,>=2021.05.0->pytorch-lightning>=1.5.0->nemo_toolkit[all]) (1.25.11)\n",
            "Requirement already satisfied: certifi>=2017.4.17 in /usr/local/lib/python3.7/dist-packages (from requests->fsspec[http]!=2021.06.0,>=2021.05.0->pytorch-lightning>=1.5.0->nemo_toolkit[all]) (2021.10.8)\n",
            "Requirement already satisfied: idna<3,>=2.5 in /usr/local/lib/python3.7/dist-packages (from requests->fsspec[http]!=2021.06.0,>=2021.05.0->pytorch-lightning>=1.5.0->nemo_toolkit[all]) (2.10)\n",
            "Requirement already satisfied: oauthlib>=3.0.0 in /usr/local/lib/python3.7/dist-packages (from requests-oauthlib>=0.7.0->google-auth-oauthlib<0.5,>=0.4.1->tensorboard>=2.2.0->pytorch-lightning>=1.5.0->nemo_toolkit[all]) (3.1.1)\n",
            "Requirement already satisfied: filelock in /usr/local/lib/python3.7/dist-packages (from transformers>=4.0.1->nemo_toolkit[all]) (3.4.0)\n",
            "Requirement already satisfied: tokenizers<0.11,>=0.10.1 in /usr/local/lib/python3.7/dist-packages (from transformers>=4.0.1->nemo_toolkit[all]) (0.10.3)\n",
            "Requirement already satisfied: huggingface-hub<1.0,>=0.1.0 in /usr/local/lib/python3.7/dist-packages (from transformers>=4.0.1->nemo_toolkit[all]) (0.1.2)\n",
            "Requirement already satisfied: yarl<2.0,>=1.0 in /usr/local/lib/python3.7/dist-packages (from aiohttp->fsspec[http]!=2021.06.0,>=2021.05.0->pytorch-lightning>=1.5.0->nemo_toolkit[all]) (1.7.2)\n",
            "Requirement already satisfied: multidict<7.0,>=4.5 in /usr/local/lib/python3.7/dist-packages (from aiohttp->fsspec[http]!=2021.06.0,>=2021.05.0->pytorch-lightning>=1.5.0->nemo_toolkit[all]) (5.2.0)\n",
            "Requirement already satisfied: aiosignal>=1.1.2 in /usr/local/lib/python3.7/dist-packages (from aiohttp->fsspec[http]!=2021.06.0,>=2021.05.0->pytorch-lightning>=1.5.0->nemo_toolkit[all]) (1.2.0)\n",
            "Requirement already satisfied: asynctest==0.13.0 in /usr/local/lib/python3.7/dist-packages (from aiohttp->fsspec[http]!=2021.06.0,>=2021.05.0->pytorch-lightning>=1.5.0->nemo_toolkit[all]) (0.13.0)\n",
            "Requirement already satisfied: frozenlist>=1.1.1 in /usr/local/lib/python3.7/dist-packages (from aiohttp->fsspec[http]!=2021.06.0,>=2021.05.0->pytorch-lightning>=1.5.0->nemo_toolkit[all]) (1.2.0)\n",
            "Requirement already satisfied: async-timeout<5.0,>=4.0.0a3 in /usr/local/lib/python3.7/dist-packages (from aiohttp->fsspec[http]!=2021.06.0,>=2021.05.0->pytorch-lightning>=1.5.0->nemo_toolkit[all]) (4.0.1)\n",
            "Requirement already satisfied: charset-normalizer<3.0,>=2.0 in /usr/local/lib/python3.7/dist-packages (from aiohttp->fsspec[http]!=2021.06.0,>=2021.05.0->pytorch-lightning>=1.5.0->nemo_toolkit[all]) (2.0.7)\n",
            "Requirement already satisfied: jmespath<1.0.0,>=0.7.1 in /usr/local/lib/python3.7/dist-packages (from boto3->nemo_toolkit[all]) (0.10.0)\n",
            "Requirement already satisfied: botocore<1.24.0,>=1.23.16 in /usr/local/lib/python3.7/dist-packages (from boto3->nemo_toolkit[all]) (1.23.16)\n",
            "Requirement already satisfied: s3transfer<0.6.0,>=0.5.0 in /usr/local/lib/python3.7/dist-packages (from boto3->nemo_toolkit[all]) (0.5.0)\n",
            "Requirement already satisfied: pybind11>=2.2 in /usr/local/lib/python3.7/dist-packages (from fasttext->nemo_toolkit[all]) (2.8.1)\n",
            "Requirement already satisfied: distance>=0.1.3 in /usr/local/lib/python3.7/dist-packages (from g2p-en->nemo_toolkit[all]) (0.1.3)\n",
            "Requirement already satisfied: cached-property in /usr/local/lib/python3.7/dist-packages (from h5py->nemo_toolkit[all]) (1.5.2)\n",
            "Requirement already satisfied: ipykernel>=4.5.1 in /usr/local/lib/python3.7/dist-packages (from ipywidgets->nemo_toolkit[all]) (4.10.1)\n",
            "Requirement already satisfied: nbformat>=4.2.0 in /usr/local/lib/python3.7/dist-packages (from ipywidgets->nemo_toolkit[all]) (5.1.3)\n",
            "Requirement already satisfied: ipython>=4.0.0 in /usr/local/lib/python3.7/dist-packages (from ipywidgets->nemo_toolkit[all]) (5.5.0)\n",
            "Requirement already satisfied: traitlets>=4.3.1 in /usr/local/lib/python3.7/dist-packages (from ipywidgets->nemo_toolkit[all]) (5.1.1)\n",
            "Requirement already satisfied: widgetsnbextension~=3.5.0 in /usr/local/lib/python3.7/dist-packages (from ipywidgets->nemo_toolkit[all]) (3.5.2)\n",
            "Requirement already satisfied: jupyterlab-widgets>=1.0.0 in /usr/local/lib/python3.7/dist-packages (from ipywidgets->nemo_toolkit[all]) (1.0.2)\n",
            "Requirement already satisfied: ipython-genutils~=0.2.0 in /usr/local/lib/python3.7/dist-packages (from ipywidgets->nemo_toolkit[all]) (0.2.0)\n",
            "Requirement already satisfied: jupyter-client in /usr/local/lib/python3.7/dist-packages (from ipykernel>=4.5.1->ipywidgets->nemo_toolkit[all]) (5.3.5)\n",
            "Requirement already satisfied: tornado>=4.0 in /usr/local/lib/python3.7/dist-packages (from ipykernel>=4.5.1->ipywidgets->nemo_toolkit[all]) (5.1.1)\n",
            "Requirement already satisfied: decorator in /usr/local/lib/python3.7/dist-packages (from ipython>=4.0.0->ipywidgets->nemo_toolkit[all]) (4.4.2)\n",
            "Requirement already satisfied: pickleshare in /usr/local/lib/python3.7/dist-packages (from ipython>=4.0.0->ipywidgets->nemo_toolkit[all]) (0.7.5)\n",
            "Requirement already satisfied: simplegeneric>0.8 in /usr/local/lib/python3.7/dist-packages (from ipython>=4.0.0->ipywidgets->nemo_toolkit[all]) (0.8.1)\n",
            "Requirement already satisfied: pexpect in /usr/local/lib/python3.7/dist-packages (from ipython>=4.0.0->ipywidgets->nemo_toolkit[all]) (4.8.0)\n",
            "Requirement already satisfied: prompt-toolkit<2.0.0,>=1.0.4 in /usr/local/lib/python3.7/dist-packages (from ipython>=4.0.0->ipywidgets->nemo_toolkit[all]) (1.0.18)\n",
            "Requirement already satisfied: pygments in /usr/local/lib/python3.7/dist-packages (from ipython>=4.0.0->ipywidgets->nemo_toolkit[all]) (2.6.1)\n",
            "Requirement already satisfied: jsonschema!=2.5.0,>=2.4 in /usr/local/lib/python3.7/dist-packages (from nbformat>=4.2.0->ipywidgets->nemo_toolkit[all]) (2.6.0)\n",
            "Requirement already satisfied: jupyter-core in /usr/local/lib/python3.7/dist-packages (from nbformat>=4.2.0->ipywidgets->nemo_toolkit[all]) (4.9.1)\n",
            "Requirement already satisfied: wcwidth in /usr/local/lib/python3.7/dist-packages (from prompt-toolkit<2.0.0,>=1.0.4->ipython>=4.0.0->ipywidgets->nemo_toolkit[all]) (0.2.5)\n",
            "Requirement already satisfied: notebook>=4.4.1 in /usr/local/lib/python3.7/dist-packages (from widgetsnbextension~=3.5.0->ipywidgets->nemo_toolkit[all]) (5.3.1)\n",
            "Requirement already satisfied: terminado>=0.8.1 in /usr/local/lib/python3.7/dist-packages (from notebook>=4.4.1->widgetsnbextension~=3.5.0->ipywidgets->nemo_toolkit[all]) (0.12.1)\n",
            "Requirement already satisfied: jinja2 in /usr/local/lib/python3.7/dist-packages (from notebook>=4.4.1->widgetsnbextension~=3.5.0->ipywidgets->nemo_toolkit[all]) (2.11.3)\n",
            "Requirement already satisfied: nbconvert in /usr/local/lib/python3.7/dist-packages (from notebook>=4.4.1->widgetsnbextension~=3.5.0->ipywidgets->nemo_toolkit[all]) (5.6.1)\n",
            "Requirement already satisfied: Send2Trash in /usr/local/lib/python3.7/dist-packages (from notebook>=4.4.1->widgetsnbextension~=3.5.0->ipywidgets->nemo_toolkit[all]) (1.8.0)\n",
            "Requirement already satisfied: pyzmq>=13 in /usr/local/lib/python3.7/dist-packages (from jupyter-client->ipykernel>=4.5.1->ipywidgets->nemo_toolkit[all]) (22.3.0)\n",
            "Requirement already satisfied: ptyprocess in /usr/local/lib/python3.7/dist-packages (from terminado>=0.8.1->notebook>=4.4.1->widgetsnbextension~=3.5.0->ipywidgets->nemo_toolkit[all]) (0.7.0)\n",
            "Requirement already satisfied: MarkupSafe>=0.23 in /usr/local/lib/python3.7/dist-packages (from jinja2->notebook>=4.4.1->widgetsnbextension~=3.5.0->ipywidgets->nemo_toolkit[all]) (2.0.1)\n",
            "Requirement already satisfied: audioread>=2.0.0 in /usr/local/lib/python3.7/dist-packages (from librosa->nemo_toolkit[all]) (2.1.9)\n",
            "Requirement already satisfied: pooch>=1.0 in /usr/local/lib/python3.7/dist-packages (from librosa->nemo_toolkit[all]) (1.5.2)\n",
            "Requirement already satisfied: resampy>=0.2.2 in /usr/local/lib/python3.7/dist-packages (from librosa->nemo_toolkit[all]) (0.2.2)\n",
            "Requirement already satisfied: llvmlite<0.35,>=0.34.0.dev0 in /usr/local/lib/python3.7/dist-packages (from numba->nemo_toolkit[all]) (0.34.0)\n",
            "Requirement already satisfied: threadpoolctl>=2.0.0 in /usr/local/lib/python3.7/dist-packages (from scikit-learn->nemo_toolkit[all]) (3.0.0)\n",
            "Requirement already satisfied: cffi>=1.0 in /usr/local/lib/python3.7/dist-packages (from soundfile->nemo_toolkit[all]) (1.15.0)\n",
            "Requirement already satisfied: pycparser in /usr/local/lib/python3.7/dist-packages (from cffi>=1.0->soundfile->nemo_toolkit[all]) (2.21)\n",
            "Requirement already satisfied: kiwisolver>=1.0.1 in /usr/local/lib/python3.7/dist-packages (from matplotlib->nemo_toolkit[all]) (1.3.2)\n",
            "Requirement already satisfied: cycler>=0.10 in /usr/local/lib/python3.7/dist-packages (from matplotlib->nemo_toolkit[all]) (0.11.0)\n",
            "Requirement already satisfied: testpath in /usr/local/lib/python3.7/dist-packages (from nbconvert->notebook>=4.4.1->widgetsnbextension~=3.5.0->ipywidgets->nemo_toolkit[all]) (0.5.0)\n",
            "Requirement already satisfied: bleach in /usr/local/lib/python3.7/dist-packages (from nbconvert->notebook>=4.4.1->widgetsnbextension~=3.5.0->ipywidgets->nemo_toolkit[all]) (4.1.0)\n",
            "Requirement already satisfied: entrypoints>=0.2.2 in /usr/local/lib/python3.7/dist-packages (from nbconvert->notebook>=4.4.1->widgetsnbextension~=3.5.0->ipywidgets->nemo_toolkit[all]) (0.3)\n",
            "Requirement already satisfied: mistune<2,>=0.8.1 in /usr/local/lib/python3.7/dist-packages (from nbconvert->notebook>=4.4.1->widgetsnbextension~=3.5.0->ipywidgets->nemo_toolkit[all]) (0.8.4)\n",
            "Requirement already satisfied: defusedxml in /usr/local/lib/python3.7/dist-packages (from nbconvert->notebook>=4.4.1->widgetsnbextension~=3.5.0->ipywidgets->nemo_toolkit[all]) (0.7.1)\n",
            "Requirement already satisfied: pandocfilters>=1.4.1 in /usr/local/lib/python3.7/dist-packages (from nbconvert->notebook>=4.4.1->widgetsnbextension~=3.5.0->ipywidgets->nemo_toolkit[all]) (1.5.0)\n",
            "Requirement already satisfied: webencodings in /usr/local/lib/python3.7/dist-packages (from bleach->nbconvert->notebook>=4.4.1->widgetsnbextension~=3.5.0->ipywidgets->nemo_toolkit[all]) (0.5.1)\n",
            "Requirement already satisfied: pytz>=2017.2 in /usr/local/lib/python3.7/dist-packages (from pandas->nemo_toolkit[all]) (2018.9)\n",
            "Requirement already satisfied: pip in /usr/local/lib/python3.7/dist-packages (from pip-api->isort[requirements]<5->nemo_toolkit[all]) (21.1.3)\n",
            "Requirement already satisfied: docopt in /usr/local/lib/python3.7/dist-packages (from pipreqs->isort[requirements]<5->nemo_toolkit[all]) (0.6.2)\n",
            "Requirement already satisfied: yarg in /usr/local/lib/python3.7/dist-packages (from pipreqs->isort[requirements]<5->nemo_toolkit[all]) (0.1.9)\n",
            "Requirement already satisfied: simplejson>=3.8.1 in /usr/local/lib/python3.7/dist-packages (from pyannote.core->nemo_toolkit[all]) (3.17.6)\n",
            "Requirement already satisfied: sortedcontainers>=2.0.4 in /usr/local/lib/python3.7/dist-packages (from pyannote.core->nemo_toolkit[all]) (2.4.0)\n",
            "Requirement already satisfied: tabulate>=0.7.7 in /usr/local/lib/python3.7/dist-packages (from pyannote.metrics->nemo_toolkit[all]) (0.8.9)\n",
            "Requirement already satisfied: pyannote.database>=4.0.1 in /usr/local/lib/python3.7/dist-packages (from pyannote.metrics->nemo_toolkit[all]) (4.1.1)\n",
            "Requirement already satisfied: sympy>=1.1 in /usr/local/lib/python3.7/dist-packages (from pyannote.metrics->nemo_toolkit[all]) (1.7.1)\n",
            "Requirement already satisfied: typer[all]>=0.2.1 in /usr/local/lib/python3.7/dist-packages (from pyannote.database>=4.0.1->pyannote.metrics->nemo_toolkit[all]) (0.4.0)\n",
            "Requirement already satisfied: mpmath>=0.19 in /usr/local/lib/python3.7/dist-packages (from sympy>=1.1->pyannote.metrics->nemo_toolkit[all]) (1.2.1)\n",
            "Requirement already satisfied: colorama<0.5.0,>=0.4.3 in /usr/local/lib/python3.7/dist-packages (from typer[all]>=0.2.1->pyannote.database>=4.0.1->pyannote.metrics->nemo_toolkit[all]) (0.4.4)\n",
            "Requirement already satisfied: shellingham<2.0.0,>=1.3.0 in /usr/local/lib/python3.7/dist-packages (from typer[all]>=0.2.1->pyannote.database>=4.0.1->pyannote.metrics->nemo_toolkit[all]) (1.4.0)\n",
            "Requirement already satisfied: py>=1.5.0 in /usr/local/lib/python3.7/dist-packages (from pytest->nemo_toolkit[all]) (1.11.0)\n",
            "Requirement already satisfied: pluggy<0.8,>=0.5 in /usr/local/lib/python3.7/dist-packages (from pytest->nemo_toolkit[all]) (0.7.1)\n",
            "Requirement already satisfied: more-itertools>=4.0.0 in /usr/local/lib/python3.7/dist-packages (from pytest->nemo_toolkit[all]) (8.11.0)\n",
            "Requirement already satisfied: atomicwrites>=1.0 in /usr/local/lib/python3.7/dist-packages (from pytest->nemo_toolkit[all]) (1.4.0)\n",
            "Requirement already satisfied: ruamel.yaml.clib>=0.1.2 in /usr/local/lib/python3.7/dist-packages (from ruamel.yaml->nemo_toolkit[all]) (0.2.6)\n",
            "Requirement already satisfied: portalocker in /usr/local/lib/python3.7/dist-packages (from sacrebleu[ja]->nemo_toolkit[all]) (2.3.2)\n",
            "Requirement already satisfied: mecab-python3==1.0.3 in /usr/local/lib/python3.7/dist-packages (from sacrebleu[ja]->nemo_toolkit[all]) (1.0.3)\n",
            "Requirement already satisfied: ipadic<2.0,>=1.0 in /usr/local/lib/python3.7/dist-packages (from sacrebleu[ja]->nemo_toolkit[all]) (1.0.0)\n",
            "Requirement already satisfied: sphinxcontrib-jsmath in /usr/local/lib/python3.7/dist-packages (from sphinx->nemo_toolkit[all]) (1.0.1)\n",
            "Requirement already satisfied: sphinxcontrib-htmlhelp>=2.0.0 in /usr/local/lib/python3.7/dist-packages (from sphinx->nemo_toolkit[all]) (2.0.0)\n",
            "Requirement already satisfied: sphinxcontrib-qthelp in /usr/local/lib/python3.7/dist-packages (from sphinx->nemo_toolkit[all]) (1.0.3)\n",
            "Requirement already satisfied: docutils<0.18,>=0.14 in /usr/local/lib/python3.7/dist-packages (from sphinx->nemo_toolkit[all]) (0.17.1)\n",
            "Requirement already satisfied: sphinxcontrib-applehelp in /usr/local/lib/python3.7/dist-packages (from sphinx->nemo_toolkit[all]) (1.0.2)\n",
            "Requirement already satisfied: sphinxcontrib-devhelp in /usr/local/lib/python3.7/dist-packages (from sphinx->nemo_toolkit[all]) (1.0.2)\n",
            "Requirement already satisfied: alabaster<0.8,>=0.7 in /usr/local/lib/python3.7/dist-packages (from sphinx->nemo_toolkit[all]) (0.7.12)\n",
            "Requirement already satisfied: snowballstemmer>=1.1 in /usr/local/lib/python3.7/dist-packages (from sphinx->nemo_toolkit[all]) (2.2.0)\n",
            "Requirement already satisfied: babel>=1.3 in /usr/local/lib/python3.7/dist-packages (from sphinx->nemo_toolkit[all]) (2.9.1)\n",
            "Requirement already satisfied: imagesize in /usr/local/lib/python3.7/dist-packages (from sphinx->nemo_toolkit[all]) (1.3.0)\n",
            "Requirement already satisfied: sphinxcontrib-serializinghtml>=1.1.5 in /usr/local/lib/python3.7/dist-packages (from sphinx->nemo_toolkit[all]) (1.1.5)\n",
            "Requirement already satisfied: pybtex-docutils>=1.0.0 in /usr/local/lib/python3.7/dist-packages (from sphinxcontrib-bibtex->nemo_toolkit[all]) (1.0.1)\n",
            "Requirement already satisfied: pybtex>=0.20 in /usr/local/lib/python3.7/dist-packages (from sphinxcontrib-bibtex->nemo_toolkit[all]) (0.24.0)\n",
            "Requirement already satisfied: latexcodec>=1.0.4 in /usr/local/lib/python3.7/dist-packages (from pybtex>=0.20->sphinxcontrib-bibtex->nemo_toolkit[all]) (2.0.1)\n",
            "Requirement already satisfied: shortuuid>=0.5.0 in /usr/local/lib/python3.7/dist-packages (from wandb->nemo_toolkit[all]) (1.0.8)\n",
            "Requirement already satisfied: GitPython>=1.0.0 in /usr/local/lib/python3.7/dist-packages (from wandb->nemo_toolkit[all]) (3.1.24)\n",
            "Requirement already satisfied: yaspin>=1.0.0 in /usr/local/lib/python3.7/dist-packages (from wandb->nemo_toolkit[all]) (2.1.0)\n",
            "Requirement already satisfied: sentry-sdk>=1.0.0 in /usr/local/lib/python3.7/dist-packages (from wandb->nemo_toolkit[all]) (1.5.0)\n",
            "Requirement already satisfied: psutil>=5.0.0 in /usr/local/lib/python3.7/dist-packages (from wandb->nemo_toolkit[all]) (5.4.8)\n",
            "Requirement already satisfied: configparser>=3.8.1 in /usr/local/lib/python3.7/dist-packages (from wandb->nemo_toolkit[all]) (5.1.0)\n",
            "Requirement already satisfied: subprocess32>=3.5.3 in /usr/local/lib/python3.7/dist-packages (from wandb->nemo_toolkit[all]) (3.5.4)\n",
            "Requirement already satisfied: pathtools in /usr/local/lib/python3.7/dist-packages (from wandb->nemo_toolkit[all]) (0.1.2)\n",
            "Requirement already satisfied: promise<3,>=2.0 in /usr/local/lib/python3.7/dist-packages (from wandb->nemo_toolkit[all]) (2.3)\n",
            "Requirement already satisfied: docker-pycreds>=0.4.0 in /usr/local/lib/python3.7/dist-packages (from wandb->nemo_toolkit[all]) (0.4.0)\n",
            "Requirement already satisfied: gitdb<5,>=4.0.1 in /usr/local/lib/python3.7/dist-packages (from GitPython>=1.0.0->wandb->nemo_toolkit[all]) (4.0.9)\n",
            "Requirement already satisfied: smmap<6,>=3.0.1 in /usr/local/lib/python3.7/dist-packages (from gitdb<5,>=4.0.1->GitPython>=1.0.0->wandb->nemo_toolkit[all]) (5.0.0)\n",
            "Requirement already satisfied: termcolor<2.0.0,>=1.1.0 in /usr/local/lib/python3.7/dist-packages (from yaspin>=1.0.0->wandb->nemo_toolkit[all]) (1.1.0)\n"
          ]
        }
      ]
    },
    {
      "cell_type": "code",
      "metadata": {
        "id": "8C6Q5IFY29KW"
      },
      "source": [
        "data_dir = '/content'"
      ],
      "execution_count": 1,
      "outputs": []
    },
    {
      "cell_type": "code",
      "metadata": {
        "colab": {
          "base_uri": "https://localhost:8080/"
        },
        "id": "ejl5dz-y29NI",
        "outputId": "b09e624d-2172-4db2-8050-6f92b5309513"
      },
      "source": [
        "! ls /content"
      ],
      "execution_count": 5,
      "outputs": [
        {
          "output_type": "stream",
          "name": "stdout",
          "text": [
            "drive\t\tQuartzNet15x5_golos.nemo  test\t    train\n",
            "lightning_logs\tsample_data\t\t  test.tar  train_farfield.tar\n"
          ]
        }
      ]
    },
    {
      "cell_type": "code",
      "metadata": {
        "colab": {
          "base_uri": "https://localhost:8080/"
        },
        "id": "_bCTCpB9gZwJ",
        "outputId": "db473097-17ac-407a-f640-9a5e2e7c9246"
      },
      "source": [
        "from google.colab import drive\n",
        "drive.mount('/content/drive')"
      ],
      "execution_count": 28,
      "outputs": [
        {
          "output_type": "stream",
          "name": "stdout",
          "text": [
            "Drive already mounted at /content/drive; to attempt to forcibly remount, call drive.mount(\"/content/drive\", force_remount=True).\n"
          ]
        }
      ]
    },
    {
      "cell_type": "code",
      "metadata": {
        "id": "fM8MmkgOkTu6"
      },
      "source": [
        "import glob\n",
        "import os\n",
        "import subprocess\n",
        "import tarfile\n",
        "import wget\n",
        "\n",
        "# Загрузка датасета Golos\n",
        "def load(golos_url, fname):\n",
        "  if not os.path.exists(os.path.join(data_dir, fname)):\n",
        "      golos_path = wget.download(golos_url, os.path.join(data_dir, fname))\n",
        "      print(f\"Dataset downloaded at: {golos_path}\")\n",
        "  else:\n",
        "      print(\"Tarfile already exists.\")\n",
        "      golos_path = os.path.join(data_dir, fname)\n",
        "  return golos_path"
      ],
      "execution_count": 10,
      "outputs": []
    },
    {
      "cell_type": "code",
      "metadata": {
        "colab": {
          "base_uri": "https://localhost:8080/"
        },
        "id": "5t9ZLYGh29Pm",
        "outputId": "a93eadc7-f79a-4c02-dc18-5ca78b8afd48"
      },
      "source": [
        "\n",
        "test_path = load(\"https://sc.link/Kqr\", \"test.tar\")\n",
        "\n",
        "if not os.path.exists(os.path.join(data_dir, '/test/')):\n",
        "    tar = tarfile.open(test_path)\n",
        "    tar.extractall(path=data_dir)\n",
        "\n",
        "train_path = load(\"https://sc.link/1Z3\", \"train_farfield.tar\")\n",
        "\n",
        "if not os.path.exists(os.path.join(data_dir, '/train/')):\n",
        "    tar = tarfile.open(train_path)\n",
        "    tar.extractall(path=data_dir)\n"
      ],
      "execution_count": 4,
      "outputs": [
        {
          "output_type": "stream",
          "name": "stdout",
          "text": [
            "Dataset downloaded at: /content/test.tar\n",
            "Dataset downloaded at: /content/train_farfield.tar\n"
          ]
        }
      ]
    },
    {
      "cell_type": "code",
      "metadata": {
        "colab": {
          "base_uri": "https://localhost:8080/",
          "height": 75
        },
        "id": "ztJFvri3rB__",
        "outputId": "f7ed2cff-867d-4efd-8bdf-170e692ecabb"
      },
      "source": [
        "import librosa\n",
        "import IPython.display as ipd\n",
        "\n",
        "# Load and listen to the audio file\n",
        "example_file = data_dir + '/train/farfield/000f6cd3b67ec7eea4fa122dbc0b4852.wav'\n",
        "\n",
        "audio, sample_rate = librosa.load(example_file)\n",
        "\n",
        "ipd.Audio(example_file, rate=sample_rate)"
      ],
      "execution_count": null,
      "outputs": [
        {
          "output_type": "execute_result",
          "data": {
            "text/html": [
              "\n",
              "                <audio controls=\"controls\" >\n",
              "                    <source src=\"data:audio/x-wav;base64,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\" type=\"audio/x-wav\" />\n",
              "                    Your browser does not support the audio element.\n",
              "                </audio>\n",
              "              "
            ],
            "text/plain": [
              "<IPython.lib.display.Audio object>"
            ]
          },
          "metadata": {},
          "execution_count": 21
        }
      ]
    },
    {
      "cell_type": "code",
      "metadata": {
        "colab": {
          "base_uri": "https://localhost:8080/"
        },
        "id": "zKY-4S-j6BgE",
        "outputId": "1f91513a-43a5-4e5c-96c7-f513249fa257"
      },
      "source": [
        "import nemo\n",
        "import nemo.collections.asr as nemo_asr"
      ],
      "execution_count": 3,
      "outputs": [
        {
          "output_type": "stream",
          "name": "stderr",
          "text": [
            "[NeMo W 2021-11-30 15:57:09 optimizers:50] Apex was not found. Using the lamb or fused_adam optimizer will error out.\n",
            "################################################################################\n",
            "### WARNING, path does not exist: KALDI_ROOT=/mnt/matylda5/iveselyk/Tools/kaldi-trunk\n",
            "###          (please add 'export KALDI_ROOT=<your_path>' in your $HOME/.profile)\n",
            "###          (or run as: KALDI_ROOT=<your_path> python <your_script>.py)\n",
            "################################################################################\n",
            "\n"
          ]
        }
      ]
    },
    {
      "cell_type": "code",
      "metadata": {
        "colab": {
          "base_uri": "https://localhost:8080/"
        },
        "id": "N2eiDkim6Fbd",
        "outputId": "8fb9f36d-bbcb-4f99-ee5e-1aa797aaee85"
      },
      "source": [
        "load(\"https://sc.link/ZMv\", \"QuartzNet15x5_golos.nemo\")\n",
        "asr_model = nemo_asr.models.EncDecCTCModel.restore_from(os.path.join(data_dir, \"QuartzNet15x5_golos.nemo\"))"
      ],
      "execution_count": 11,
      "outputs": [
        {
          "output_type": "stream",
          "name": "stdout",
          "text": [
            "Tarfile already exists.\n"
          ]
        },
        {
          "output_type": "stream",
          "name": "stderr",
          "text": [
            "[NeMo W 2021-11-30 15:58:19 modelPT:131] If you intend to do training or fine-tuning, please call the ModelPT.setup_training_data() method and provide a valid configuration file to setup the train data loader.\n",
            "    Train config : \n",
            "    manifest_filepath: train/golos_and_mcv.jsonl\n",
            "    sample_rate: 16000\n",
            "    labels:\n",
            "    - ' '\n",
            "    - а\n",
            "    - б\n",
            "    - в\n",
            "    - г\n",
            "    - д\n",
            "    - е\n",
            "    - ж\n",
            "    - з\n",
            "    - и\n",
            "    - й\n",
            "    - к\n",
            "    - л\n",
            "    - м\n",
            "    - н\n",
            "    - о\n",
            "    - п\n",
            "    - р\n",
            "    - с\n",
            "    - т\n",
            "    - у\n",
            "    - ф\n",
            "    - х\n",
            "    - ц\n",
            "    - ч\n",
            "    - ш\n",
            "    - щ\n",
            "    - ъ\n",
            "    - ы\n",
            "    - ь\n",
            "    - э\n",
            "    - ю\n",
            "    - я\n",
            "    batch_size: 64\n",
            "    trim_silence: false\n",
            "    max_duration: 20.0\n",
            "    min_duration: 0.1\n",
            "    num_workers: 20\n",
            "    shuffle: true\n",
            "    is_tarred: false\n",
            "    tarred_audio_filepaths: null\n",
            "    tarred_shard_strategy: scatter\n",
            "    parser: ru\n",
            "    \n",
            "[NeMo W 2021-11-30 15:58:19 modelPT:138] If you intend to do validation, please call the ModelPT.setup_validation_data() or ModelPT.setup_multiple_validation_data() method and provide a valid configuration file to setup the validation data loader(s). \n",
            "    Validation config : \n",
            "    manifest_filepath:\n",
            "    - test/mcv/dev_ru.jsonl\n",
            "    - test/mcv/test_ru.jsonl\n",
            "    - test/crowd/crowd.jsonl\n",
            "    - test/farfield/farfield.jsonl\n",
            "    sample_rate: 16000\n",
            "    labels:\n",
            "    - ' '\n",
            "    - а\n",
            "    - б\n",
            "    - в\n",
            "    - г\n",
            "    - д\n",
            "    - е\n",
            "    - ж\n",
            "    - з\n",
            "    - и\n",
            "    - й\n",
            "    - к\n",
            "    - л\n",
            "    - м\n",
            "    - н\n",
            "    - о\n",
            "    - п\n",
            "    - р\n",
            "    - с\n",
            "    - т\n",
            "    - у\n",
            "    - ф\n",
            "    - х\n",
            "    - ц\n",
            "    - ч\n",
            "    - ш\n",
            "    - щ\n",
            "    - ъ\n",
            "    - ы\n",
            "    - ь\n",
            "    - э\n",
            "    - ю\n",
            "    - я\n",
            "    batch_size: 64\n",
            "    num_workers: 20\n",
            "    shuffle: false\n",
            "    parser: ru\n",
            "    \n",
            "[NeMo W 2021-11-30 15:58:19 modelPT:144] Please call the ModelPT.setup_test_data() or ModelPT.setup_multiple_test_data() method and provide a valid configuration file to setup the test data loader(s).\n",
            "    Test config : \n",
            "    manifest_filepath: test/mcv/test_ru.jsonl\n",
            "    sample_rate: 16000\n",
            "    labels:\n",
            "    - ' '\n",
            "    - а\n",
            "    - б\n",
            "    - в\n",
            "    - г\n",
            "    - д\n",
            "    - е\n",
            "    - ж\n",
            "    - з\n",
            "    - и\n",
            "    - й\n",
            "    - к\n",
            "    - л\n",
            "    - м\n",
            "    - н\n",
            "    - о\n",
            "    - п\n",
            "    - р\n",
            "    - с\n",
            "    - т\n",
            "    - у\n",
            "    - ф\n",
            "    - х\n",
            "    - ц\n",
            "    - ч\n",
            "    - ш\n",
            "    - щ\n",
            "    - ъ\n",
            "    - ы\n",
            "    - ь\n",
            "    - э\n",
            "    - ю\n",
            "    - я\n",
            "    batch_size: 64\n",
            "    shuffle: false\n",
            "    parser: ru\n",
            "    \n"
          ]
        },
        {
          "output_type": "stream",
          "name": "stdout",
          "text": [
            "[NeMo I 2021-11-30 15:58:19 features:265] PADDING: 16\n",
            "[NeMo I 2021-11-30 15:58:19 features:282] STFT using torch\n",
            "[NeMo I 2021-11-30 15:58:24 save_restore_connector:149] Model EncDecCTCModel was successfully restored from /content/QuartzNet15x5_golos.nemo.\n"
          ]
        }
      ]
    },
    {
      "cell_type": "code",
      "metadata": {
        "id": "JzBzKWKR6Shz",
        "colab": {
          "base_uri": "https://localhost:8080/"
        },
        "outputId": "5381bfca-0309-4ced-9620-f739d0efc06d"
      },
      "source": [
        "import json\n",
        "import random \n",
        "# Function to build a manifest\n",
        "def build_manifest(manifest_rel, manifest_abs, farfield=False):\n",
        "    manifest_path = os.path.split(os.path.abspath(manifest_rel))[0]\n",
        "    with open(manifest_rel, 'r') as fin:\n",
        "        with open(manifest_abs, 'w') as fout:\n",
        "          if farfield:\n",
        "            counter=0\n",
        "            for line in fin:\n",
        "                chance = random.random()\n",
        "                if chance>0.3:\n",
        "                  continue\n",
        "                if counter > 40000:\n",
        "                    break\n",
        "                metadata = json.loads(line)\n",
        "                if metadata[\"duration\"]>0.1:\n",
        "                  metadata[\"audio_filepath\"]=os.path.join(\"/content/train/farfield\", metadata[\"audio_filepath\"])\n",
        "                  json.dump(metadata, fout)\n",
        "                  fout.write('\\n')\n",
        "                  counter+=1\n",
        "            print(counter)\n",
        "          else:\n",
        "            for line in fin:\n",
        "                metadata = json.loads(line)\n",
        "                metadata[\"audio_filepath\"]=os.path.join(\"/content/test/farfield/files\", metadata[\"audio_filepath\"])\n",
        "                json.dump(metadata, fout)\n",
        "                fout.write('\\n')\n",
        "                \n",
        "# Building Manifests\n",
        "print(\"******\")\n",
        "test_rel = os.path.join(data_dir, 'test/farfield/manifest.jsonl')\n",
        "test_abs = os.path.join(data_dir, 'test/farfield/farfield_test.jsonl')\n",
        "if not os.path.isfile(test_abs):\n",
        "  build_manifest(test_rel, test_abs)\n",
        "test_manifest =test_abs\n",
        "print(\"test_manifest\", test_manifest)"
      ],
      "execution_count": 13,
      "outputs": [
        {
          "output_type": "stream",
          "name": "stdout",
          "text": [
            "******\n",
            "test_manifest /content/test/farfield/farfield_test.jsonl\n"
          ]
        }
      ]
    },
    {
      "cell_type": "code",
      "metadata": {
        "colab": {
          "base_uri": "https://localhost:8080/"
        },
        "id": "DuuepRuFT3yq",
        "outputId": "b93b2289-5a9b-4d74-9b0c-a9a25eaadb79"
      },
      "source": [
        "! head /content/test/farfield/farfield_test.jsonl\n"
      ],
      "execution_count": 14,
      "outputs": [
        {
          "output_type": "stream",
          "name": "stdout",
          "text": [
            "{\"id\": \"58b586f67f5e634506e215df5996b82e\", \"audio_filepath\": \"/content/test/farfield/files/58b586f67f5e634506e215df5996b82e.wav\", \"text\": \"\\u0434\\u0436\\u043e\\u0439 \\u0445\\u0432\\u0430\\u0442\\u0438\\u0442\", \"duration\": 1.696625}\n",
            "{\"id\": \"26093ef7a8c5ec6a3c586a6a929c1bd3\", \"audio_filepath\": \"/content/test/farfield/files/26093ef7a8c5ec6a3c586a6a929c1bd3.wav\", \"text\": \"\\u0441\\u0430\\u043b\\u044e\\u0442 \\u0432\\u044b\\u0437\\u043e\\u0432 \\u0441\\u0432\\u0435\\u0442\\u043b\\u0430\\u043d\\u0435 \\u0432\\u0430\\u0441\\u0438\\u043b\\u044c\\u0435\\u0432\\u043d\\u0435 \\u043d\\u0438\\u043a\\u043e\\u043b\\u0435\\u043d\\u043a\\u043e\", \"duration\": 3.1720625}\n",
            "{\"id\": \"b42d13ab3dc159fac39a1120e8011f66\", \"audio_filepath\": \"/content/test/farfield/files/b42d13ab3dc159fac39a1120e8011f66.wav\", \"text\": \"\\u0441\\u0430\\u043b\\u044e\\u0442 \\u0445\\u0432\\u0430\\u0442\\u0438\\u0442\", \"duration\": 1.5226875}\n",
            "{\"id\": \"7e55843e745a239b35212e2caba77239\", \"audio_filepath\": \"/content/test/farfield/files/7e55843e745a239b35212e2caba77239.wav\", \"text\": \"\\u0434\\u0436\\u043e\\u0439 \\u0437\\u0432\\u043e\\u043d\\u043e\\u043a \\u044e\\u0440\\u0438\\u044e \\u0438\\u0432\\u0430\\u043d\\u043e\\u0432\\u0438\\u0447\\u0443 \\u0446\\u0430\\u0440\\u044c\\u043a\\u043e\\u0432\\u0443\", \"duration\": 3.0640625}\n",
            "{\"id\": \"a0c621e2819a3747e42d05940aab0446\", \"audio_filepath\": \"/content/test/farfield/files/a0c621e2819a3747e42d05940aab0446.wav\", \"text\": \"\\u0434\\u0436\\u043e\\u0439 \\u0432\\u044b\\u0439\\u0442\\u0438 \\u0438\\u0437 \\u0441\\u0446\\u0435\\u043d\\u0430\\u0440\\u0438\\u044f\", \"duration\": 2.31475}\n",
            "{\"id\": \"f293e3548bd266460c8ea6ac1fb76478\", \"audio_filepath\": \"/content/test/farfield/files/f293e3548bd266460c8ea6ac1fb76478.wav\", \"text\": \"\\u0441\\u0430\\u043b\\u044e\\u0442 \\u0432\\u044b\\u0439\\u0442\\u0438\", \"duration\": 1.310125}\n",
            "{\"id\": \"b3fc5f249351a9087ffedc0a34385463\", \"audio_filepath\": \"/content/test/farfield/files/b3fc5f249351a9087ffedc0a34385463.wav\", \"text\": \"\\u0441\\u0430\\u043b\\u044e\\u0442 \\u0437\\u0430\\u043a\\u0440\\u043e\\u0439\\u0441\\u044f\", \"duration\": 1.9009375}\n",
            "{\"id\": \"ee2144d4bc00e96131a9bef5c74edd97\", \"audio_filepath\": \"/content/test/farfield/files/ee2144d4bc00e96131a9bef5c74edd97.wav\", \"text\": \"\\u0441\\u0430\\u043b\\u044e\\u0442 \\u043d\\u0430\\u0431\\u0435\\u0440\\u0438 \\u0434\\u0430\\u043d\\u0438\\u043b\\u043e\\u0432\\u0430\", \"duration\": 1.8129375}\n",
            "{\"id\": \"94f4ad577967f9f61d5d88cd92b1339c\", \"audio_filepath\": \"/content/test/farfield/files/94f4ad577967f9f61d5d88cd92b1339c.wav\", \"text\": \"\\u0441\\u0431\\u0435\\u0440 \\u043c\\u043d\\u0435 \\u043d\\u0440\\u0430\\u0432\\u0438\\u0442\\u0441\\u044f\", \"duration\": 1.9945}\n",
            "{\"id\": \"a97958419827c57069bc3550c4353eb9\", \"audio_filepath\": \"/content/test/farfield/files/a97958419827c57069bc3550c4353eb9.wav\", \"text\": \"\\u0441\\u0430\\u043b\\u044e\\u0442 \\u043f\\u0440\\u0435\\u043a\\u0440\\u0430\\u0442\\u0438\", \"duration\": 1.4965}\n"
          ]
        }
      ]
    },
    {
      "cell_type": "code",
      "metadata": {
        "colab": {
          "base_uri": "https://localhost:8080/"
        },
        "id": "e537jndRiAup",
        "outputId": "b1345e6b-4491-46ae-e76a-8b04d052bbdb"
      },
      "source": [
        "print(\"******\")\n",
        "train_rel = \"/content/drive/MyDrive/data/train_farfield.jsonl\"\n",
        "train_abs = os.path.join(data_dir, 'train/farfield/farfield_train_n.jsonl')\n",
        "\n",
        "# if not os.path.isfile(train_abs):\n",
        "build_manifest(train_rel, train_abs, farfield=True)\n",
        "train_manifest = train_abs\n",
        "print(\"train_manifest\", train_manifest)"
      ],
      "execution_count": 15,
      "outputs": [
        {
          "output_type": "stream",
          "name": "stdout",
          "text": [
            "******\n",
            "37297\n",
            "train_manifest /content/train/farfield/farfield_train_n.jsonl\n"
          ]
        }
      ]
    },
    {
      "cell_type": "code",
      "metadata": {
        "id": "dI9HuHqS6GFq",
        "colab": {
          "base_uri": "https://localhost:8080/"
        },
        "outputId": "ba577892-9dea-4522-c1eb-34ce5bfea66a"
      },
      "source": [
        "! head /content/train/farfield/farfield_train_n.jsonl"
      ],
      "execution_count": 16,
      "outputs": [
        {
          "output_type": "stream",
          "name": "stdout",
          "text": [
            "{\"id\": \"855e01d6ba9a4aa59950d62037b87709\", \"audio_filepath\": \"/content/train/farfield/855e01d6ba9a4aa59950d62037b87709.wav\", \"text\": \"\\u0430\\u0444\\u0438\\u043d\\u0430 \\u0445\\u043e\\u0442\\u0435\\u043b\\u0430 \\u043d\\u043e\\u043c\\u0435\\u0440 \\u0442\\u0435\\u043b\\u0435\\u0444\\u043e\\u043d\\u0430 \\u043f\\u043e\\u043c\\u0435\\u043d\\u044f\\u0442\\u044c \\u043a\\u0430\\u0440\\u0442\\u044b\", \"duration\": 5.4596875}\n",
            "{\"id\": \"566e4f7d788d755e2fa76ab57837d7dd\", \"audio_filepath\": \"/content/train/farfield/566e4f7d788d755e2fa76ab57837d7dd.wav\", \"text\": \"\\u0430\\u0444\\u0438\\u043d\\u0430 \\u043f\\u043b\\u043e\\u0449\\u0430\\u0434\\u044c \\u043a\\u043e\\u0440\\u043e\\u043b\\u0435\\u0432\\u0441\\u0442\\u0432\\u0430 \\u0442\\u043e\\u043d\\u0433\\u0430\", \"duration\": 4.75025}\n",
            "{\"id\": \"a46c2afa0ca8a678644677db869044d9\", \"audio_filepath\": \"/content/train/farfield/a46c2afa0ca8a678644677db869044d9.wav\", \"text\": \"\\u0434\\u0436\\u043e\\u0439 \\u0435\\u0441\\u043b\\u0438 \\u044f \\u043f\\u043e\\u0434\\u0442\\u0432\\u0435\\u0440\\u0436\\u0434\\u0430\\u044e \\u043e\\u043f\\u0435\\u0440\\u0430\\u0446\\u0438\\u044e \\u0432\\u044b \\u0440\\u0430\\u0437\\u0431\\u043b\\u043e\\u043a\\u0438\\u0440\\u0443\\u0435\\u0442\\u0435 \\u043a\\u0430\\u0440\\u0442\\u0443\", \"duration\": 6.350125}\n",
            "{\"id\": \"7c7bdfd56e3d7f22c607f4247135f7eb\", \"audio_filepath\": \"/content/train/farfield/7c7bdfd56e3d7f22c607f4247135f7eb.wav\", \"text\": \"\\u0430\\u0444\\u0438\\u043d\\u0430 \\u043a\\u0430\\u043a\\u0438\\u0435 \\u0432\\u0438\\u0434\\u044b \\u0430\\u043a\\u0440\\u043e\\u0444\\u043e\\u0431\\u0438\\u044f \\u0442\\u044b \\u0437\\u043d\\u0430\\u0435\\u0448\\u044c\", \"duration\": 5.1695}\n",
            "{\"id\": \"6e5f21c556219907dd4a9e6e3001c826\", \"audio_filepath\": \"/content/train/farfield/6e5f21c556219907dd4a9e6e3001c826.wav\", \"text\": \"\\u0441\\u0431\\u0435\\u0440 \\u0447\\u0435\\u043c \\u043f\\u043b\\u0430\\u0442\\u0438\\u0442\\u044c \\u0432 \\u0438\\u0441\\u043f\\u0430\\u043d\\u0438\\u0438\", \"duration\": 4.1195625}\n",
            "{\"id\": \"4b0f2305599e03ec86722d02666c072b\", \"audio_filepath\": \"/content/train/farfield/4b0f2305599e03ec86722d02666c072b.wav\", \"text\": \"\\u0441\\u0431\\u0435\\u0440 \\u043a\\u0430\\u043a \\u0432\\u044b\\u0433\\u043b\\u044f\\u0434\\u0438\\u0442 \\u0433\\u0435\\u0440\\u0431 \\u043a\\u043e\\u043c\\u043e\\u0440\\u044b\", \"duration\": 4.3609375}\n",
            "{\"id\": \"0463e7a4b613599ffe5df33f3cc6b840\", \"audio_filepath\": \"/content/train/farfield/0463e7a4b613599ffe5df33f3cc6b840.wav\", \"text\": \"\\u0441\\u0430\\u043b\\u044e\\u0442 \\u043f\\u043e\\u043a\\u0430\\u0436\\u0438 \\u0442\\u0435\\u043b\\u0435\\u043a\\u0430\\u043d\\u0430\\u043b \\u0430\\u0432\\u0442\\u043e \\u0434\\u0432\\u0430\\u0434\\u0446\\u0430\\u0442\\u044c \\u0447\\u0435\\u0442\\u044b\\u0440\\u0435\", \"duration\": 4.5553125}\n",
            "{\"id\": \"4c736d9f257819a6ab6a017852912e86\", \"audio_filepath\": \"/content/train/farfield/4c736d9f257819a6ab6a017852912e86.wav\", \"text\": \"\\u0441\\u0431\\u0435\\u0440 \\u0437\\u0430\\u043f\\u0443\\u0441\\u0442\\u0438 \\u0444\\u0443\\u0442\\u0431\\u043e\\u043b\", \"duration\": 4.6981875}\n",
            "{\"id\": \"55233a6e07fa9e5eedcacf5ae8e8da18\", \"audio_filepath\": \"/content/train/farfield/55233a6e07fa9e5eedcacf5ae8e8da18.wav\", \"text\": \"\\u0441\\u0430\\u043b\\u044e\\u0442 \\u0433\\u0434\\u0435 \\u043f\\u043e\\u0441\\u043b\\u0435 \\u0432\\u043e\\u0439\\u043d\\u044b \\u0440\\u0430\\u0431\\u043e\\u0442\\u0430\\u043b \\u0442\\u044c\\u044e\\u0440\\u0438\\u043d\\u0433\", \"duration\": 5.23175}\n",
            "{\"id\": \"a016b121cd3ab60d16e17df214f2d682\", \"audio_filepath\": \"/content/train/farfield/a016b121cd3ab60d16e17df214f2d682.wav\", \"text\": \"\\u0441\\u0430\\u043b\\u044e\\u0442 \\u0437\\u0430\\u043a\\u0430\\u0437\\u0430\\u0442\\u044c \\u0447\\u0438\\u043f\\u0441\\u044b \\u0432 \\u043a\\u0438\\u043d\\u043e\", \"duration\": 3.9739375}\n"
          ]
        }
      ]
    },
    {
      "cell_type": "code",
      "metadata": {
        "id": "gAv8ow3cR7Aw",
        "colab": {
          "base_uri": "https://localhost:8080/"
        },
        "outputId": "0be3ba5a-affc-40fa-e888-bec9978e3aea"
      },
      "source": [
        "import pytorch_lightning as pl\n",
        "trainer = pl.Trainer(gpus=1, max_epochs=1, precision=16)"
      ],
      "execution_count": 8,
      "outputs": [
        {
          "output_type": "stream",
          "name": "stderr",
          "text": [
            "Using 16bit native Automatic Mixed Precision (AMP)\n",
            "GPU available: True, used: True\n",
            "TPU available: False, using: 0 TPU cores\n",
            "IPU available: False, using: 0 IPUs\n"
          ]
        }
      ]
    },
    {
      "cell_type": "code",
      "metadata": {
        "id": "jiVKSrkqR7DV"
      },
      "source": [
        "params_model = asr_model._cfg\n",
        "\n",
        "# --- Config Information ---#\n",
        "# try:\n",
        "#     from ruamel.yaml import YAML\n",
        "# except ModuleNotFoundError:\n",
        "#     from ruamel_yaml import YAML\n",
        "# config_path = '/usr/local/lib/python3.7/dist-packages/nemo/collections/asr/models/configs/'\n",
        "\n",
        "# yaml = YAML(typ='safe')\n",
        "# with open(config_path) as f:\n",
        "#     params = yaml.load(f)\n",
        "# print(params)\n",
        "params_model['train_ds']['parser']='base'\n",
        "params_model['validation_ds']['parser']='base'\n",
        "params_model['test_ds']['parser']='base'\n",
        "params_model['train_ds']['manifest_filepath'] = train_manifest\n",
        "params_model['train_ds']['batch_size']=16\n",
        "params_model['validation_ds']['manifest_filepath'] = test_manifest\n",
        "params_model['validation_ds']['batch_size']=16\n",
        "params_model['test_ds']['manifest_filepath'] = test_manifest\n",
        "params_model['test_ds']['batch_size']=16"
      ],
      "execution_count": 17,
      "outputs": []
    },
    {
      "cell_type": "code",
      "metadata": {
        "id": "DT3zg_jUmu3S",
        "colab": {
          "base_uri": "https://localhost:8080/"
        },
        "outputId": "ca18a054-8ad6-4b51-f3e5-98edde8688ee"
      },
      "source": [
        "params_model['optim']['lr'] = 0.0005\n",
        "params_model"
      ],
      "execution_count": 18,
      "outputs": [
        {
          "output_type": "execute_result",
          "data": {
            "text/plain": [
              "{'sample_rate': 16000, 'repeat': 5, 'dropout': 0.0, 'separable': True, 'labels': [' ', 'а', 'б', 'в', 'г', 'д', 'е', 'ж', 'з', 'и', 'й', 'к', 'л', 'м', 'н', 'о', 'п', 'р', 'с', 'т', 'у', 'ф', 'х', 'ц', 'ч', 'ш', 'щ', 'ъ', 'ы', 'ь', 'э', 'ю', 'я'], 'optim': {'name': 'novograd', 'lr': 0.0005, 'betas': [0.9, 0.98], 'weight_decay': 0.001, 'sched': {'name': 'CosineAnnealing', 'warmup_steps': 500, 'warmup_ratio': None, 'min_lr': 0.0, 'last_epoch': -1}}, 'train_ds': {'manifest_filepath': '/content/train/farfield/farfield_train_n.jsonl', 'sample_rate': 16000, 'labels': [' ', 'а', 'б', 'в', 'г', 'д', 'е', 'ж', 'з', 'и', 'й', 'к', 'л', 'м', 'н', 'о', 'п', 'р', 'с', 'т', 'у', 'ф', 'х', 'ц', 'ч', 'ш', 'щ', 'ъ', 'ы', 'ь', 'э', 'ю', 'я'], 'batch_size': 16, 'trim_silence': False, 'max_duration': 20.0, 'min_duration': 0.1, 'num_workers': 20, 'shuffle': True, 'is_tarred': False, 'tarred_audio_filepaths': None, 'tarred_shard_strategy': 'scatter', 'parser': 'base'}, 'validation_ds': {'manifest_filepath': '/content/test/farfield/farfield_test.jsonl', 'sample_rate': 16000, 'labels': [' ', 'а', 'б', 'в', 'г', 'д', 'е', 'ж', 'з', 'и', 'й', 'к', 'л', 'м', 'н', 'о', 'п', 'р', 'с', 'т', 'у', 'ф', 'х', 'ц', 'ч', 'ш', 'щ', 'ъ', 'ы', 'ь', 'э', 'ю', 'я'], 'batch_size': 16, 'num_workers': 20, 'shuffle': False, 'parser': 'base'}, 'test_ds': {'manifest_filepath': '/content/test/farfield/farfield_test.jsonl', 'sample_rate': 16000, 'labels': [' ', 'а', 'б', 'в', 'г', 'д', 'е', 'ж', 'з', 'и', 'й', 'к', 'л', 'м', 'н', 'о', 'п', 'р', 'с', 'т', 'у', 'ф', 'х', 'ц', 'ч', 'ш', 'щ', 'ъ', 'ы', 'ь', 'э', 'ю', 'я'], 'batch_size': 16, 'shuffle': False, 'parser': 'base'}, 'preprocessor': {'_target_': 'nemo.collections.asr.modules.AudioToMelSpectrogramPreprocessor', 'normalize': 'per_feature', 'window_size': 0.02, 'sample_rate': 16000, 'window_stride': 0.01, 'window': 'hann', 'features': 64, 'n_fft': 512, 'frame_splicing': 1, 'dither': 1e-05, 'stft_conv': False}, 'spec_augment': {'_target_': 'nemo.collections.asr.modules.SpectrogramAugmentation', 'rect_freq': 50, 'rect_masks': 5, 'rect_time': 120}, 'encoder': {'_target_': 'nemo.collections.asr.modules.ConvASREncoder', 'feat_in': 64, 'activation': 'relu', 'conv_mask': True, 'jasper': [{'dilation': [1], 'dropout': 0.0, 'filters': 256, 'kernel': [33], 'repeat': 1, 'residual': False, 'separable': True, 'stride': [2]}, {'dilation': [1], 'dropout': 0.0, 'filters': 256, 'kernel': [33], 'repeat': 5, 'residual': True, 'separable': True, 'stride': [1]}, {'dilation': [1], 'dropout': 0.0, 'filters': 256, 'kernel': [33], 'repeat': 5, 'residual': True, 'separable': True, 'stride': [1]}, {'dilation': [1], 'dropout': 0.0, 'filters': 256, 'kernel': [33], 'repeat': 5, 'residual': True, 'separable': True, 'stride': [1]}, {'dilation': [1], 'dropout': 0.0, 'filters': 256, 'kernel': [39], 'repeat': 5, 'residual': True, 'separable': True, 'stride': [1]}, {'dilation': [1], 'dropout': 0.0, 'filters': 256, 'kernel': [39], 'repeat': 5, 'residual': True, 'separable': True, 'stride': [1]}, {'dilation': [1], 'dropout': 0.0, 'filters': 256, 'kernel': [39], 'repeat': 5, 'residual': True, 'separable': True, 'stride': [1]}, {'dilation': [1], 'dropout': 0.0, 'filters': 512, 'kernel': [51], 'repeat': 5, 'residual': True, 'separable': True, 'stride': [1]}, {'dilation': [1], 'dropout': 0.0, 'filters': 512, 'kernel': [51], 'repeat': 5, 'residual': True, 'separable': True, 'stride': [1]}, {'dilation': [1], 'dropout': 0.0, 'filters': 512, 'kernel': [51], 'repeat': 5, 'residual': True, 'separable': True, 'stride': [1]}, {'dilation': [1], 'dropout': 0.0, 'filters': 512, 'kernel': [63], 'repeat': 5, 'residual': True, 'separable': True, 'stride': [1]}, {'dilation': [1], 'dropout': 0.0, 'filters': 512, 'kernel': [63], 'repeat': 5, 'residual': True, 'separable': True, 'stride': [1]}, {'dilation': [1], 'dropout': 0.0, 'filters': 512, 'kernel': [63], 'repeat': 5, 'residual': True, 'separable': True, 'stride': [1]}, {'dilation': [1], 'dropout': 0.0, 'filters': 512, 'kernel': [75], 'repeat': 5, 'residual': True, 'separable': True, 'stride': [1]}, {'dilation': [1], 'dropout': 0.0, 'filters': 512, 'kernel': [75], 'repeat': 5, 'residual': True, 'separable': True, 'stride': [1]}, {'dilation': [1], 'dropout': 0.0, 'filters': 512, 'kernel': [75], 'repeat': 5, 'residual': True, 'separable': True, 'stride': [1]}, {'dilation': [2], 'dropout': 0.0, 'filters': 512, 'kernel': [87], 'repeat': 1, 'residual': False, 'separable': True, 'stride': [1]}, {'dilation': [1], 'dropout': 0.0, 'filters': 1024, 'kernel': [1], 'repeat': 1, 'residual': False, 'stride': [1]}]}, 'decoder': {'_target_': 'nemo.collections.asr.modules.ConvASRDecoder', 'feat_in': 1024, 'num_classes': 33, 'vocabulary': [' ', 'а', 'б', 'в', 'г', 'д', 'е', 'ж', 'з', 'и', 'й', 'к', 'л', 'м', 'н', 'о', 'п', 'р', 'с', 'т', 'у', 'ф', 'х', 'ц', 'ч', 'ш', 'щ', 'ъ', 'ы', 'ь', 'э', 'ю', 'я']}, 'target': 'nemo.collections.asr.models.ctc_models.EncDecCTCModel'}"
            ]
          },
          "metadata": {},
          "execution_count": 18
        }
      ]
    },
    {
      "cell_type": "code",
      "metadata": {
        "id": "vyTvDgX3nPtC",
        "colab": {
          "base_uri": "https://localhost:8080/"
        },
        "outputId": "dd6c0d19-9c2e-4d79-8f8b-35296bbd1f15"
      },
      "source": [
        "from omegaconf import DictConfig\n",
        "import copy\n",
        "first_asr_model = asr_model\n",
        "new_opt = copy.deepcopy(params_model['optim'])\n",
        "new_opt['lr'] = 0.00015\n",
        "first_asr_model.setup_optimization(optim_config=DictConfig(new_opt))"
      ],
      "execution_count": 24,
      "outputs": [
        {
          "output_type": "stream",
          "name": "stderr",
          "text": [
            "[NeMo W 2021-11-30 16:00:40 modelPT:453] Trainer wasn't specified in model constructor. Make sure that you really wanted it.\n"
          ]
        },
        {
          "output_type": "stream",
          "name": "stdout",
          "text": [
            "[NeMo I 2021-11-30 16:00:40 modelPT:561] Optimizer config = Novograd (\n",
            "    Parameter Group 0\n",
            "        amsgrad: False\n",
            "        betas: [0.9, 0.98]\n",
            "        eps: 1e-08\n",
            "        grad_averaging: False\n",
            "        lr: 0.00015\n",
            "        weight_decay: 0.001\n",
            "    )\n"
          ]
        },
        {
          "output_type": "stream",
          "name": "stderr",
          "text": [
            "[NeMo W 2021-11-30 16:00:40 lr_scheduler:732] Neither `max_steps` nor `iters_per_batch` were provided to `optim.sched`, cannot compute effective `max_steps` !\n",
            "    Scheduler will not be instantiated !\n"
          ]
        },
        {
          "output_type": "execute_result",
          "data": {
            "text/plain": [
              "(Novograd (\n",
              " Parameter Group 0\n",
              "     amsgrad: False\n",
              "     betas: [0.9, 0.98]\n",
              "     eps: 1e-08\n",
              "     grad_averaging: False\n",
              "     lr: 0.00015\n",
              "     weight_decay: 0.001\n",
              " ), None)"
            ]
          },
          "metadata": {},
          "execution_count": 24
        }
      ]
    },
    {
      "cell_type": "code",
      "metadata": {
        "colab": {
          "base_uri": "https://localhost:8080/"
        },
        "id": "GATFj7t6hBWj",
        "outputId": "933f90d2-3aab-4479-b150-d4b6fdabbc80"
      },
      "source": [
        "first_asr_model.setup_training_data(train_data_config=params_model['train_ds'])\n",
        "first_asr_model.setup_validation_data(val_data_config=params_model['validation_ds'])\n",
        "first_asr_model.setup_test_data(test_data_config=params_model['test_ds'])"
      ],
      "execution_count": 25,
      "outputs": [
        {
          "output_type": "stream",
          "name": "stdout",
          "text": [
            "[NeMo I 2021-11-30 16:00:45 collections:173] Dataset loaded with 37297 files totalling 39.89 hours\n",
            "[NeMo I 2021-11-30 16:00:45 collections:174] 0 files were filtered totalling 0.00 hours\n"
          ]
        },
        {
          "output_type": "stream",
          "name": "stderr",
          "text": [
            "[NeMo W 2021-11-30 16:00:45 nemo_logging:349] /usr/local/lib/python3.7/dist-packages/torch/utils/data/dataloader.py:481: UserWarning: This DataLoader will create 20 worker processes in total. Our suggested max number of worker in current system is 2, which is smaller than what this DataLoader is going to create. Please be aware that excessive worker creation might get DataLoader running slow or even freeze, lower the worker number to avoid potential slowness/freeze if necessary.\n",
            "      cpuset_checked))\n",
            "    \n"
          ]
        },
        {
          "output_type": "stream",
          "name": "stdout",
          "text": [
            "[NeMo I 2021-11-30 16:00:45 collections:173] Dataset loaded with 1916 files totalling 1.41 hours\n",
            "[NeMo I 2021-11-30 16:00:45 collections:174] 0 files were filtered totalling 0.00 hours\n",
            "[NeMo I 2021-11-30 16:00:45 collections:173] Dataset loaded with 1916 files totalling 1.41 hours\n",
            "[NeMo I 2021-11-30 16:00:45 collections:174] 0 files were filtered totalling 0.00 hours\n"
          ]
        }
      ]
    },
    {
      "cell_type": "code",
      "metadata": {
        "colab": {
          "base_uri": "https://localhost:8080/"
        },
        "id": "RmjZ1LbMhio-",
        "outputId": "65ba1d0e-0d70-43f8-e29a-d9e891d597eb"
      },
      "source": [
        "first_asr_model.cuda()\n",
        "\n",
        "# We will be computing Word Error Rate (WER) metric between our hypothesis and predictions.\n",
        "# WER is computed as numerator/denominator.\n",
        "# We'll gather all the test batches' numerators and denominators.\n",
        "wer_nums = []\n",
        "wer_denoms = []\n",
        "\n",
        "# Loop over all test batches.\n",
        "# Iterating over the model's `test_dataloader` will give us:\n",
        "# (audio_signal, audio_signal_length, transcript_tokens, transcript_length)\n",
        "# See the AudioToCharDataset for more details.\n",
        "for test_batch in first_asr_model.test_dataloader():\n",
        "        test_batch = [x.cuda() for x in test_batch]\n",
        "        targets = test_batch[2]\n",
        "        targets_lengths = test_batch[3]        \n",
        "        log_probs, encoded_len, greedy_predictions = first_asr_model(\n",
        "            input_signal=test_batch[0], input_signal_length=test_batch[1]\n",
        "        )\n",
        "        first_asr_model._wer.update(greedy_predictions, targets, targets_lengths)\n",
        "        _, wer_num, wer_denom = first_asr_model._wer.compute()\n",
        "        first_asr_model._wer.reset()\n",
        "        wer_nums.append(wer_num.detach().cpu().numpy())\n",
        "        wer_denoms.append(wer_denom.detach().cpu().numpy())\n",
        "        \n",
        "        del test_batch, log_probs, targets, targets_lengths, encoded_len, greedy_predictions\n",
        "\n",
        "# We need to sum all numerators and denominators first. Then divide.\n",
        "print(f\"WER = {sum(wer_nums)/sum(wer_denoms)}\")"
      ],
      "execution_count": 26,
      "outputs": [
        {
          "output_type": "stream",
          "name": "stderr",
          "text": [
            "[NeMo W 2021-11-30 16:00:46 nemo_logging:349] /usr/local/lib/python3.7/dist-packages/nemo/collections/asr/parts/submodules/jasper.py:280: UserWarning: __floordiv__ is deprecated, and its behavior will change in a future version of pytorch. It currently rounds toward 0 (like the 'trunc' function NOT 'floor'). This results in incorrect rounding for negative values. To keep the current behavior, use torch.div(a, b, rounding_mode='trunc'), or for actual floor division, use torch.div(a, b, rounding_mode='floor').\n",
            "      ) // self.conv.stride[0] + 1\n",
            "    \n"
          ]
        },
        {
          "output_type": "stream",
          "name": "stdout",
          "text": [
            "WER = 0.6560486757337151\n"
          ]
        }
      ]
    },
    {
      "cell_type": "code",
      "metadata": {
        "colab": {
          "base_uri": "https://localhost:8080/"
        },
        "id": "VRoSDx2RlZHl",
        "outputId": "eb28abcf-b690-43f6-e5e3-f07237b09de2"
      },
      "source": [
        "import pytorch_lightning as pl\n",
        "trainer = pl.Trainer(gpus=1, max_epochs=2, precision=16)"
      ],
      "execution_count": 27,
      "outputs": [
        {
          "output_type": "stream",
          "name": "stderr",
          "text": [
            "Using 16bit native Automatic Mixed Precision (AMP)\n",
            "GPU available: True, used: True\n",
            "TPU available: False, using: 0 TPU cores\n",
            "IPU available: False, using: 0 IPUs\n"
          ]
        }
      ]
    },
    {
      "cell_type": "code",
      "metadata": {
        "id": "RAfozyVinP1T",
        "colab": {
          "base_uri": "https://localhost:8080/",
          "height": 674,
          "referenced_widgets": [
            "b4bc3d79d023460ca52fbc1dad095c35",
            "eaed1a5a47be49ad8aed86b788d5d5f2",
            "18a629cb57ba4b94b695db7322aaae19",
            "6211ee270e5442f5bf07332858e82dd1",
            "ff393089cafc418c87d942ca76f57ce3",
            "086b00f426664144bb4981f5bd916f7e",
            "35de1b042a9e4ff1ada7d0470ad07ca9",
            "b990482a82ec42f69d70faf874cf99ab",
            "805f22e1305c4a7aa824529c906165b8",
            "2f5e9052cc364880838ee5b68c8dfe69",
            "f4f46151160b480fa798de5e1aed3479",
            "a39f754ce86e48349981b84b3e8df5f2",
            "44f6c8936ae546f390f4c8b0573a3953",
            "4962d3acb4964a699f997d9a00d3779c",
            "086cd576c0a847d8b014a54a4c475914",
            "a93c0ee86656423088002f8548e74d11",
            "e699c35e505940e3adcdcc373f8f36f2",
            "927a13f073e24f6781b246923af7ff21",
            "388adb92d1f0404f8ab2ec031b180bfe",
            "51fdb78d8fd249ba9e1f1d83a4c05742",
            "5a504b9ce18d4bf9a26ddb93551a202a",
            "5cb0757b5b954e0bb73fc61045e6f024",
            "a79b56784c94491780cc45abf4498acf",
            "113c74ca67f5468cb34fffb2bb4a8d1e",
            "2efaa43982864428adab2103ecce2921",
            "34d79b9352d34b4bb5fd1317622a8adc",
            "70688b0c908746fdafc1a83968cd0211",
            "e203af2f8d8645bcb5073c0da2bf329e",
            "ad9fd73ba2564204afb741746302cf35",
            "f09ceca648534c73b6acbbdc1bcfa2cf",
            "2bcb0a56a5764fca9da2d26f59322f9f",
            "55c1aa46e7fa41ac83dfc056c348457b",
            "6def689f23c34f6e8302706ab1463dfa",
            "c5de39876a8045df915027de74705209",
            "a76597979cb8477fb7cb04c8d3190035",
            "7366f58bfa1f4980a90d81952b3eaba8",
            "a51c18851c554ebfb846ab942a4ccaff",
            "a79f747df5b0485a8e69603189345b77",
            "a598aacc17134f03b29a6fd11ad84835",
            "308cfa006b974334870eeb1d8bc7a368",
            "1fc31166e18c424db6f5893edbcbf43a",
            "d9bf5a223cac4728850b280f22a1c461",
            "39a0d67e274a47f68584c7aaf6aae03b",
            "edca482da447440ab3c947db836ffab5"
          ]
        },
        "outputId": "95488b3f-fc5e-4753-9bd0-f7335cc82f1b"
      },
      "source": [
        "trainer.fit(first_asr_model)"
      ],
      "execution_count": 28,
      "outputs": [
        {
          "output_type": "stream",
          "name": "stderr",
          "text": [
            "LOCAL_RANK: 0 - CUDA_VISIBLE_DEVICES: [0]\n",
            "[NeMo W 2021-11-30 16:03:49 modelPT:453] Trainer wasn't specified in model constructor. Make sure that you really wanted it.\n"
          ]
        },
        {
          "output_type": "stream",
          "name": "stdout",
          "text": [
            "[NeMo I 2021-11-30 16:03:49 modelPT:561] Optimizer config = Novograd (\n",
            "    Parameter Group 0\n",
            "        amsgrad: False\n",
            "        betas: [0.9, 0.98]\n",
            "        eps: 1e-08\n",
            "        grad_averaging: False\n",
            "        lr: 0.00015\n",
            "        weight_decay: 0.001\n",
            "    )\n"
          ]
        },
        {
          "output_type": "stream",
          "name": "stderr",
          "text": [
            "[NeMo W 2021-11-30 16:03:49 lr_scheduler:732] Neither `max_steps` nor `iters_per_batch` were provided to `optim.sched`, cannot compute effective `max_steps` !\n",
            "    Scheduler will not be instantiated !\n",
            "\n",
            "  | Name              | Type                              | Params\n",
            "------------------------------------------------------------------------\n",
            "0 | preprocessor      | AudioToMelSpectrogramPreprocessor | 0     \n",
            "1 | encoder           | ConvASREncoder                    | 18.9 M\n",
            "2 | decoder           | ConvASRDecoder                    | 34.9 K\n",
            "3 | loss              | CTCLoss                           | 0     \n",
            "4 | spec_augmentation | SpectrogramAugmentation           | 0     \n",
            "5 | _wer              | WER                               | 0     \n",
            "------------------------------------------------------------------------\n",
            "18.9 M    Trainable params\n",
            "0         Non-trainable params\n",
            "18.9 M    Total params\n",
            "37.859    Total estimated model params size (MB)\n"
          ]
        },
        {
          "output_type": "display_data",
          "data": {
            "application/vnd.jupyter.widget-view+json": {
              "model_id": "b4bc3d79d023460ca52fbc1dad095c35",
              "version_minor": 0,
              "version_major": 2
            },
            "text/plain": [
              "Validation sanity check: 0it [00:00, ?it/s]"
            ]
          },
          "metadata": {}
        },
        {
          "output_type": "stream",
          "name": "stderr",
          "text": [
            "[NeMo W 2021-11-30 16:03:50 nemo_logging:349] /usr/local/lib/python3.7/dist-packages/torch/utils/data/dataloader.py:481: UserWarning: This DataLoader will create 20 worker processes in total. Our suggested max number of worker in current system is 2, which is smaller than what this DataLoader is going to create. Please be aware that excessive worker creation might get DataLoader running slow or even freeze, lower the worker number to avoid potential slowness/freeze if necessary.\n",
            "      cpuset_checked))\n",
            "    \n",
            "[NeMo W 2021-11-30 16:03:52 nemo_logging:349] /usr/local/lib/python3.7/dist-packages/nemo/collections/asr/parts/submodules/jasper.py:280: UserWarning: __floordiv__ is deprecated, and its behavior will change in a future version of pytorch. It currently rounds toward 0 (like the 'trunc' function NOT 'floor'). This results in incorrect rounding for negative values. To keep the current behavior, use torch.div(a, b, rounding_mode='trunc'), or for actual floor division, use torch.div(a, b, rounding_mode='floor').\n",
            "      ) // self.conv.stride[0] + 1\n",
            "    \n"
          ]
        },
        {
          "output_type": "display_data",
          "data": {
            "application/vnd.jupyter.widget-view+json": {
              "model_id": "a39f754ce86e48349981b84b3e8df5f2",
              "version_minor": 0,
              "version_major": 2
            },
            "text/plain": [
              "Training: 0it [00:00, ?it/s]"
            ]
          },
          "metadata": {}
        },
        {
          "output_type": "display_data",
          "data": {
            "application/vnd.jupyter.widget-view+json": {
              "model_id": "a79b56784c94491780cc45abf4498acf",
              "version_minor": 0,
              "version_major": 2
            },
            "text/plain": [
              "Validating: 0it [00:00, ?it/s]"
            ]
          },
          "metadata": {}
        },
        {
          "output_type": "display_data",
          "data": {
            "application/vnd.jupyter.widget-view+json": {
              "model_id": "c5de39876a8045df915027de74705209",
              "version_minor": 0,
              "version_major": 2
            },
            "text/plain": [
              "Validating: 0it [00:00, ?it/s]"
            ]
          },
          "metadata": {}
        }
      ]
    },
    {
      "cell_type": "code",
      "metadata": {
        "id": "MxDNcZSIG0V2"
      },
      "source": [
        "first_asr_model.save_to('/content/drive/MyDrive/data/model_save.nemo')"
      ],
      "execution_count": 29,
      "outputs": []
    },
    {
      "cell_type": "code",
      "metadata": {
        "id": "AEPzfPvwHjKj"
      },
      "source": [
        "params_model['train_ds']['parser']='base'\n",
        "params_model['validation_ds']['parser']='base'\n",
        "params_model['test_ds']['parser']='base'\n",
        "params_model['train_ds']['manifest_filepath'] = train_manifest\n",
        "params_model['train_ds']['batch_size']=16\n",
        "params_model['validation_ds']['manifest_filepath'] = test_manifest\n",
        "params_model['validation_ds']['batch_size']=16\n",
        "params_model['test_ds']['manifest_filepath'] = test_manifest\n",
        "params_model['test_ds']['batch_size']=16\n",
        "params_model['optim']['lr'] = 0.00015"
      ],
      "execution_count": 77,
      "outputs": []
    },
    {
      "cell_type": "code",
      "metadata": {
        "colab": {
          "base_uri": "https://localhost:8080/"
        },
        "id": "aoMmRgDYIxce",
        "outputId": "c2090611-f298-4502-a00f-22e85bd98599"
      },
      "source": [
        "first_asr_model.setup_training_data(train_data_config=params_model['train_ds'])\n",
        "first_asr_model.setup_validation_data(val_data_config=params_model['validation_ds'])\n",
        "first_asr_model.setup_test_data(test_data_config=params_model['test_ds'])"
      ],
      "execution_count": 78,
      "outputs": [
        {
          "output_type": "stream",
          "name": "stdout",
          "text": [
            "[NeMo I 2021-11-30 18:50:36 collections:173] Dataset loaded with 37297 files totalling 39.89 hours\n",
            "[NeMo I 2021-11-30 18:50:36 collections:174] 0 files were filtered totalling 0.00 hours\n"
          ]
        },
        {
          "output_type": "stream",
          "name": "stderr",
          "text": [
            "[NeMo W 2021-11-30 18:50:36 nemo_logging:349] /usr/local/lib/python3.7/dist-packages/torch/utils/data/dataloader.py:481: UserWarning: This DataLoader will create 20 worker processes in total. Our suggested max number of worker in current system is 2, which is smaller than what this DataLoader is going to create. Please be aware that excessive worker creation might get DataLoader running slow or even freeze, lower the worker number to avoid potential slowness/freeze if necessary.\n",
            "      cpuset_checked))\n",
            "    \n"
          ]
        },
        {
          "output_type": "stream",
          "name": "stdout",
          "text": [
            "[NeMo I 2021-11-30 18:50:36 collections:173] Dataset loaded with 1916 files totalling 1.41 hours\n",
            "[NeMo I 2021-11-30 18:50:36 collections:174] 0 files were filtered totalling 0.00 hours\n",
            "[NeMo I 2021-11-30 18:50:36 collections:173] Dataset loaded with 1916 files totalling 1.41 hours\n",
            "[NeMo I 2021-11-30 18:50:36 collections:174] 0 files were filtered totalling 0.00 hours\n"
          ]
        }
      ]
    },
    {
      "cell_type": "code",
      "metadata": {
        "id": "CLMXHaPunP6b",
        "colab": {
          "base_uri": "https://localhost:8080/"
        },
        "outputId": "fd5b39f3-221c-405b-c914-bdcdb9949705"
      },
      "source": [
        "first_asr_model.cuda()\n",
        "\n",
        "# We will be computing Word Error Rate (WER) metric between our hypothesis and predictions.\n",
        "# WER is computed as numerator/denominator.\n",
        "# We'll gather all the test batches' numerators and denominators.\n",
        "wer_nums = []\n",
        "wer_denoms = []\n",
        "\n",
        "# Loop over all test batches.\n",
        "# Iterating over the model's `test_dataloader` will give us:\n",
        "# (audio_signal, audio_signal_length, transcript_tokens, transcript_length)\n",
        "# See the AudioToCharDataset for more details.\n",
        "\n",
        "for test_batch in first_asr_model.test_dataloader():\n",
        "        test_batch = [x.cuda() for x in test_batch]\n",
        "        targets = test_batch[2]\n",
        "        targets_lengths = test_batch[3]        \n",
        "        log_probs, encoded_len, greedy_predictions = first_asr_model(\n",
        "            input_signal=test_batch[0], input_signal_length=test_batch[1]\n",
        "        )\n",
        "        first_asr_model._wer.update(greedy_predictions, targets, targets_lengths)\n",
        "        _, wer_num, wer_denom = first_asr_model._wer.compute()\n",
        "        first_asr_model._wer.reset()\n",
        "        wer_nums.append(wer_num.detach().cpu().numpy())\n",
        "        wer_denoms.append(wer_denom.detach().cpu().numpy())\n",
        "        \n",
        "        del test_batch, log_probs, targets, targets_lengths, encoded_len, greedy_predictions\n",
        "\n",
        "# We need to sum all numerators and denominators first. Then divide.\n",
        "print(f\"WER = {sum(wer_nums)/sum(wer_denoms)}\")"
      ],
      "execution_count": 79,
      "outputs": [
        {
          "output_type": "stream",
          "name": "stderr",
          "text": [
            "[NeMo W 2021-11-30 18:50:37 nemo_logging:349] /usr/local/lib/python3.7/dist-packages/nemo/collections/asr/parts/submodules/jasper.py:280: UserWarning: __floordiv__ is deprecated, and its behavior will change in a future version of pytorch. It currently rounds toward 0 (like the 'trunc' function NOT 'floor'). This results in incorrect rounding for negative values. To keep the current behavior, use torch.div(a, b, rounding_mode='trunc'), or for actual floor division, use torch.div(a, b, rounding_mode='floor').\n",
            "      ) // self.conv.stride[0] + 1\n",
            "    \n"
          ]
        },
        {
          "output_type": "stream",
          "name": "stdout",
          "text": [
            "WER = 0.5384156525888809\n"
          ]
        }
      ]
    }
  ]
}