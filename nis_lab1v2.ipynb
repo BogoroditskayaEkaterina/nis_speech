{
  "nbformat": 4,
  "nbformat_minor": 0,
  "metadata": {
    "accelerator": "GPU",
    "colab": {
      "name": "nis_lab1v2.ipynb",
      "provenance": [],
      "collapsed_sections": []
    },
    "kernelspec": {
      "display_name": "Python 3",
      "language": "python",
      "name": "python3"
    },
    "language_info": {
      "codemirror_mode": {
        "name": "ipython",
        "version": 3
      },
      "file_extension": ".py",
      "mimetype": "text/x-python",
      "name": "python",
      "nbconvert_exporter": "python",
      "pygments_lexer": "ipython3",
      "version": "3.7.7"
    },
    "pycharm": {
      "stem_cell": {
        "cell_type": "raw",
        "metadata": {
          "collapsed": false
        },
        "source": []
      }
    },
    "widgets": {
      "application/vnd.jupyter.widget-state+json": {
        "97eeb25446d04a26938b10b28c2c7066": {
          "model_module": "@jupyter-widgets/controls",
          "model_name": "HBoxModel",
          "model_module_version": "1.5.0",
          "state": {
            "_view_name": "HBoxView",
            "_dom_classes": [],
            "_model_name": "HBoxModel",
            "_view_module": "@jupyter-widgets/controls",
            "_model_module_version": "1.5.0",
            "_view_count": null,
            "_view_module_version": "1.5.0",
            "box_style": "",
            "layout": "IPY_MODEL_8104539d5d2b4a5788d5e28a6c66fdb1",
            "_model_module": "@jupyter-widgets/controls",
            "children": [
              "IPY_MODEL_bde48daa1569477e9f5c876f65115276",
              "IPY_MODEL_5448e44e7e774b4289cf4bcf088f1257",
              "IPY_MODEL_406d0aeabb7f477ab58caebf1a24fca9"
            ]
          }
        },
        "8104539d5d2b4a5788d5e28a6c66fdb1": {
          "model_module": "@jupyter-widgets/base",
          "model_name": "LayoutModel",
          "model_module_version": "1.2.0",
          "state": {
            "_view_name": "LayoutView",
            "grid_template_rows": null,
            "right": null,
            "justify_content": null,
            "_view_module": "@jupyter-widgets/base",
            "overflow": null,
            "_model_module_version": "1.2.0",
            "_view_count": null,
            "flex_flow": null,
            "width": null,
            "min_width": null,
            "border": null,
            "align_items": null,
            "bottom": null,
            "_model_module": "@jupyter-widgets/base",
            "top": null,
            "grid_column": null,
            "overflow_y": null,
            "overflow_x": null,
            "grid_auto_flow": null,
            "grid_area": null,
            "grid_template_columns": null,
            "flex": null,
            "_model_name": "LayoutModel",
            "justify_items": null,
            "grid_row": null,
            "max_height": null,
            "align_content": null,
            "visibility": null,
            "align_self": null,
            "height": null,
            "min_height": null,
            "padding": null,
            "grid_auto_rows": null,
            "grid_gap": null,
            "max_width": null,
            "order": null,
            "_view_module_version": "1.2.0",
            "grid_template_areas": null,
            "object_position": null,
            "object_fit": null,
            "grid_auto_columns": null,
            "margin": null,
            "display": null,
            "left": null
          }
        },
        "bde48daa1569477e9f5c876f65115276": {
          "model_module": "@jupyter-widgets/controls",
          "model_name": "HTMLModel",
          "model_module_version": "1.5.0",
          "state": {
            "_view_name": "HTMLView",
            "style": "IPY_MODEL_ffafbebb34814f8894f418c81acafd2e",
            "_dom_classes": [],
            "description": "",
            "_model_name": "HTMLModel",
            "placeholder": "​",
            "_view_module": "@jupyter-widgets/controls",
            "_model_module_version": "1.5.0",
            "value": "Transcribing: 100%",
            "_view_count": null,
            "_view_module_version": "1.5.0",
            "description_tooltip": null,
            "_model_module": "@jupyter-widgets/controls",
            "layout": "IPY_MODEL_6ad01ec47d8d40228443c9d83a3c5695"
          }
        },
        "5448e44e7e774b4289cf4bcf088f1257": {
          "model_module": "@jupyter-widgets/controls",
          "model_name": "FloatProgressModel",
          "model_module_version": "1.5.0",
          "state": {
            "_view_name": "ProgressView",
            "style": "IPY_MODEL_20ebcfec7bba4d47bcdfb368c572e663",
            "_dom_classes": [],
            "description": "",
            "_model_name": "FloatProgressModel",
            "bar_style": "success",
            "max": 1,
            "_view_module": "@jupyter-widgets/controls",
            "_model_module_version": "1.5.0",
            "value": 1,
            "_view_count": null,
            "_view_module_version": "1.5.0",
            "orientation": "horizontal",
            "min": 0,
            "description_tooltip": null,
            "_model_module": "@jupyter-widgets/controls",
            "layout": "IPY_MODEL_24c0da05de4e44ccb1516f6177a81ea2"
          }
        },
        "406d0aeabb7f477ab58caebf1a24fca9": {
          "model_module": "@jupyter-widgets/controls",
          "model_name": "HTMLModel",
          "model_module_version": "1.5.0",
          "state": {
            "_view_name": "HTMLView",
            "style": "IPY_MODEL_cf0f3d03e44944c5b84a73b83063c5a5",
            "_dom_classes": [],
            "description": "",
            "_model_name": "HTMLModel",
            "placeholder": "​",
            "_view_module": "@jupyter-widgets/controls",
            "_model_module_version": "1.5.0",
            "value": " 1/1 [00:01&lt;00:00,  1.51s/it]",
            "_view_count": null,
            "_view_module_version": "1.5.0",
            "description_tooltip": null,
            "_model_module": "@jupyter-widgets/controls",
            "layout": "IPY_MODEL_24660bb109784a4a8521008caf8f1d9d"
          }
        },
        "ffafbebb34814f8894f418c81acafd2e": {
          "model_module": "@jupyter-widgets/controls",
          "model_name": "DescriptionStyleModel",
          "model_module_version": "1.5.0",
          "state": {
            "_view_name": "StyleView",
            "_model_name": "DescriptionStyleModel",
            "description_width": "",
            "_view_module": "@jupyter-widgets/base",
            "_model_module_version": "1.5.0",
            "_view_count": null,
            "_view_module_version": "1.2.0",
            "_model_module": "@jupyter-widgets/controls"
          }
        },
        "6ad01ec47d8d40228443c9d83a3c5695": {
          "model_module": "@jupyter-widgets/base",
          "model_name": "LayoutModel",
          "model_module_version": "1.2.0",
          "state": {
            "_view_name": "LayoutView",
            "grid_template_rows": null,
            "right": null,
            "justify_content": null,
            "_view_module": "@jupyter-widgets/base",
            "overflow": null,
            "_model_module_version": "1.2.0",
            "_view_count": null,
            "flex_flow": null,
            "width": null,
            "min_width": null,
            "border": null,
            "align_items": null,
            "bottom": null,
            "_model_module": "@jupyter-widgets/base",
            "top": null,
            "grid_column": null,
            "overflow_y": null,
            "overflow_x": null,
            "grid_auto_flow": null,
            "grid_area": null,
            "grid_template_columns": null,
            "flex": null,
            "_model_name": "LayoutModel",
            "justify_items": null,
            "grid_row": null,
            "max_height": null,
            "align_content": null,
            "visibility": null,
            "align_self": null,
            "height": null,
            "min_height": null,
            "padding": null,
            "grid_auto_rows": null,
            "grid_gap": null,
            "max_width": null,
            "order": null,
            "_view_module_version": "1.2.0",
            "grid_template_areas": null,
            "object_position": null,
            "object_fit": null,
            "grid_auto_columns": null,
            "margin": null,
            "display": null,
            "left": null
          }
        },
        "20ebcfec7bba4d47bcdfb368c572e663": {
          "model_module": "@jupyter-widgets/controls",
          "model_name": "ProgressStyleModel",
          "model_module_version": "1.5.0",
          "state": {
            "_view_name": "StyleView",
            "_model_name": "ProgressStyleModel",
            "description_width": "",
            "_view_module": "@jupyter-widgets/base",
            "_model_module_version": "1.5.0",
            "_view_count": null,
            "_view_module_version": "1.2.0",
            "bar_color": null,
            "_model_module": "@jupyter-widgets/controls"
          }
        },
        "24c0da05de4e44ccb1516f6177a81ea2": {
          "model_module": "@jupyter-widgets/base",
          "model_name": "LayoutModel",
          "model_module_version": "1.2.0",
          "state": {
            "_view_name": "LayoutView",
            "grid_template_rows": null,
            "right": null,
            "justify_content": null,
            "_view_module": "@jupyter-widgets/base",
            "overflow": null,
            "_model_module_version": "1.2.0",
            "_view_count": null,
            "flex_flow": null,
            "width": null,
            "min_width": null,
            "border": null,
            "align_items": null,
            "bottom": null,
            "_model_module": "@jupyter-widgets/base",
            "top": null,
            "grid_column": null,
            "overflow_y": null,
            "overflow_x": null,
            "grid_auto_flow": null,
            "grid_area": null,
            "grid_template_columns": null,
            "flex": null,
            "_model_name": "LayoutModel",
            "justify_items": null,
            "grid_row": null,
            "max_height": null,
            "align_content": null,
            "visibility": null,
            "align_self": null,
            "height": null,
            "min_height": null,
            "padding": null,
            "grid_auto_rows": null,
            "grid_gap": null,
            "max_width": null,
            "order": null,
            "_view_module_version": "1.2.0",
            "grid_template_areas": null,
            "object_position": null,
            "object_fit": null,
            "grid_auto_columns": null,
            "margin": null,
            "display": null,
            "left": null
          }
        },
        "cf0f3d03e44944c5b84a73b83063c5a5": {
          "model_module": "@jupyter-widgets/controls",
          "model_name": "DescriptionStyleModel",
          "model_module_version": "1.5.0",
          "state": {
            "_view_name": "StyleView",
            "_model_name": "DescriptionStyleModel",
            "description_width": "",
            "_view_module": "@jupyter-widgets/base",
            "_model_module_version": "1.5.0",
            "_view_count": null,
            "_view_module_version": "1.2.0",
            "_model_module": "@jupyter-widgets/controls"
          }
        },
        "24660bb109784a4a8521008caf8f1d9d": {
          "model_module": "@jupyter-widgets/base",
          "model_name": "LayoutModel",
          "model_module_version": "1.2.0",
          "state": {
            "_view_name": "LayoutView",
            "grid_template_rows": null,
            "right": null,
            "justify_content": null,
            "_view_module": "@jupyter-widgets/base",
            "overflow": null,
            "_model_module_version": "1.2.0",
            "_view_count": null,
            "flex_flow": null,
            "width": null,
            "min_width": null,
            "border": null,
            "align_items": null,
            "bottom": null,
            "_model_module": "@jupyter-widgets/base",
            "top": null,
            "grid_column": null,
            "overflow_y": null,
            "overflow_x": null,
            "grid_auto_flow": null,
            "grid_area": null,
            "grid_template_columns": null,
            "flex": null,
            "_model_name": "LayoutModel",
            "justify_items": null,
            "grid_row": null,
            "max_height": null,
            "align_content": null,
            "visibility": null,
            "align_self": null,
            "height": null,
            "min_height": null,
            "padding": null,
            "grid_auto_rows": null,
            "grid_gap": null,
            "max_width": null,
            "order": null,
            "_view_module_version": "1.2.0",
            "grid_template_areas": null,
            "object_position": null,
            "object_fit": null,
            "grid_auto_columns": null,
            "margin": null,
            "display": null,
            "left": null
          }
        },
        "d08b3cc9e9d847b8bb80eb038794d99f": {
          "model_module": "@jupyter-widgets/controls",
          "model_name": "HBoxModel",
          "model_module_version": "1.5.0",
          "state": {
            "_view_name": "HBoxView",
            "_dom_classes": [],
            "_model_name": "HBoxModel",
            "_view_module": "@jupyter-widgets/controls",
            "_model_module_version": "1.5.0",
            "_view_count": null,
            "_view_module_version": "1.5.0",
            "box_style": "",
            "layout": "IPY_MODEL_2bc2123b982f417db04def2e0ed5bf6a",
            "_model_module": "@jupyter-widgets/controls",
            "children": [
              "IPY_MODEL_cad991023339433fbd86663baa9d9af1",
              "IPY_MODEL_83d8d60a66ad45f0ae380e03920d0baf",
              "IPY_MODEL_5d7d5cc70c8c41718c42a2220a39c731"
            ]
          }
        },
        "2bc2123b982f417db04def2e0ed5bf6a": {
          "model_module": "@jupyter-widgets/base",
          "model_name": "LayoutModel",
          "model_module_version": "1.2.0",
          "state": {
            "_view_name": "LayoutView",
            "grid_template_rows": null,
            "right": null,
            "justify_content": null,
            "_view_module": "@jupyter-widgets/base",
            "overflow": null,
            "_model_module_version": "1.2.0",
            "_view_count": null,
            "flex_flow": null,
            "width": null,
            "min_width": null,
            "border": null,
            "align_items": null,
            "bottom": null,
            "_model_module": "@jupyter-widgets/base",
            "top": null,
            "grid_column": null,
            "overflow_y": null,
            "overflow_x": null,
            "grid_auto_flow": null,
            "grid_area": null,
            "grid_template_columns": null,
            "flex": null,
            "_model_name": "LayoutModel",
            "justify_items": null,
            "grid_row": null,
            "max_height": null,
            "align_content": null,
            "visibility": null,
            "align_self": null,
            "height": null,
            "min_height": null,
            "padding": null,
            "grid_auto_rows": null,
            "grid_gap": null,
            "max_width": null,
            "order": null,
            "_view_module_version": "1.2.0",
            "grid_template_areas": null,
            "object_position": null,
            "object_fit": null,
            "grid_auto_columns": null,
            "margin": null,
            "display": null,
            "left": null
          }
        },
        "cad991023339433fbd86663baa9d9af1": {
          "model_module": "@jupyter-widgets/controls",
          "model_name": "HTMLModel",
          "model_module_version": "1.5.0",
          "state": {
            "_view_name": "HTMLView",
            "style": "IPY_MODEL_9c47b1895f414b2aba4306bc9fed9731",
            "_dom_classes": [],
            "description": "",
            "_model_name": "HTMLModel",
            "placeholder": "​",
            "_view_module": "@jupyter-widgets/controls",
            "_model_module_version": "1.5.0",
            "value": "Transcribing: 100%",
            "_view_count": null,
            "_view_module_version": "1.5.0",
            "description_tooltip": null,
            "_model_module": "@jupyter-widgets/controls",
            "layout": "IPY_MODEL_5fe4b32d127843a6ab721171c41ecff6"
          }
        },
        "83d8d60a66ad45f0ae380e03920d0baf": {
          "model_module": "@jupyter-widgets/controls",
          "model_name": "FloatProgressModel",
          "model_module_version": "1.5.0",
          "state": {
            "_view_name": "ProgressView",
            "style": "IPY_MODEL_da73acc9a90c41b79f7fcac662f77288",
            "_dom_classes": [],
            "description": "",
            "_model_name": "FloatProgressModel",
            "bar_style": "success",
            "max": 1,
            "_view_module": "@jupyter-widgets/controls",
            "_model_module_version": "1.5.0",
            "value": 1,
            "_view_count": null,
            "_view_module_version": "1.5.0",
            "orientation": "horizontal",
            "min": 0,
            "description_tooltip": null,
            "_model_module": "@jupyter-widgets/controls",
            "layout": "IPY_MODEL_e3ff0f1bc5614b80ae24c4db90f8eb76"
          }
        },
        "5d7d5cc70c8c41718c42a2220a39c731": {
          "model_module": "@jupyter-widgets/controls",
          "model_name": "HTMLModel",
          "model_module_version": "1.5.0",
          "state": {
            "_view_name": "HTMLView",
            "style": "IPY_MODEL_95417a4bebc94984b7d28aa14a9444d7",
            "_dom_classes": [],
            "description": "",
            "_model_name": "HTMLModel",
            "placeholder": "​",
            "_view_module": "@jupyter-widgets/controls",
            "_model_module_version": "1.5.0",
            "value": " 1/1 [00:00&lt;00:00,  2.97it/s]",
            "_view_count": null,
            "_view_module_version": "1.5.0",
            "description_tooltip": null,
            "_model_module": "@jupyter-widgets/controls",
            "layout": "IPY_MODEL_eafad944661d488ea33afc929884345b"
          }
        },
        "9c47b1895f414b2aba4306bc9fed9731": {
          "model_module": "@jupyter-widgets/controls",
          "model_name": "DescriptionStyleModel",
          "model_module_version": "1.5.0",
          "state": {
            "_view_name": "StyleView",
            "_model_name": "DescriptionStyleModel",
            "description_width": "",
            "_view_module": "@jupyter-widgets/base",
            "_model_module_version": "1.5.0",
            "_view_count": null,
            "_view_module_version": "1.2.0",
            "_model_module": "@jupyter-widgets/controls"
          }
        },
        "5fe4b32d127843a6ab721171c41ecff6": {
          "model_module": "@jupyter-widgets/base",
          "model_name": "LayoutModel",
          "model_module_version": "1.2.0",
          "state": {
            "_view_name": "LayoutView",
            "grid_template_rows": null,
            "right": null,
            "justify_content": null,
            "_view_module": "@jupyter-widgets/base",
            "overflow": null,
            "_model_module_version": "1.2.0",
            "_view_count": null,
            "flex_flow": null,
            "width": null,
            "min_width": null,
            "border": null,
            "align_items": null,
            "bottom": null,
            "_model_module": "@jupyter-widgets/base",
            "top": null,
            "grid_column": null,
            "overflow_y": null,
            "overflow_x": null,
            "grid_auto_flow": null,
            "grid_area": null,
            "grid_template_columns": null,
            "flex": null,
            "_model_name": "LayoutModel",
            "justify_items": null,
            "grid_row": null,
            "max_height": null,
            "align_content": null,
            "visibility": null,
            "align_self": null,
            "height": null,
            "min_height": null,
            "padding": null,
            "grid_auto_rows": null,
            "grid_gap": null,
            "max_width": null,
            "order": null,
            "_view_module_version": "1.2.0",
            "grid_template_areas": null,
            "object_position": null,
            "object_fit": null,
            "grid_auto_columns": null,
            "margin": null,
            "display": null,
            "left": null
          }
        },
        "da73acc9a90c41b79f7fcac662f77288": {
          "model_module": "@jupyter-widgets/controls",
          "model_name": "ProgressStyleModel",
          "model_module_version": "1.5.0",
          "state": {
            "_view_name": "StyleView",
            "_model_name": "ProgressStyleModel",
            "description_width": "",
            "_view_module": "@jupyter-widgets/base",
            "_model_module_version": "1.5.0",
            "_view_count": null,
            "_view_module_version": "1.2.0",
            "bar_color": null,
            "_model_module": "@jupyter-widgets/controls"
          }
        },
        "e3ff0f1bc5614b80ae24c4db90f8eb76": {
          "model_module": "@jupyter-widgets/base",
          "model_name": "LayoutModel",
          "model_module_version": "1.2.0",
          "state": {
            "_view_name": "LayoutView",
            "grid_template_rows": null,
            "right": null,
            "justify_content": null,
            "_view_module": "@jupyter-widgets/base",
            "overflow": null,
            "_model_module_version": "1.2.0",
            "_view_count": null,
            "flex_flow": null,
            "width": null,
            "min_width": null,
            "border": null,
            "align_items": null,
            "bottom": null,
            "_model_module": "@jupyter-widgets/base",
            "top": null,
            "grid_column": null,
            "overflow_y": null,
            "overflow_x": null,
            "grid_auto_flow": null,
            "grid_area": null,
            "grid_template_columns": null,
            "flex": null,
            "_model_name": "LayoutModel",
            "justify_items": null,
            "grid_row": null,
            "max_height": null,
            "align_content": null,
            "visibility": null,
            "align_self": null,
            "height": null,
            "min_height": null,
            "padding": null,
            "grid_auto_rows": null,
            "grid_gap": null,
            "max_width": null,
            "order": null,
            "_view_module_version": "1.2.0",
            "grid_template_areas": null,
            "object_position": null,
            "object_fit": null,
            "grid_auto_columns": null,
            "margin": null,
            "display": null,
            "left": null
          }
        },
        "95417a4bebc94984b7d28aa14a9444d7": {
          "model_module": "@jupyter-widgets/controls",
          "model_name": "DescriptionStyleModel",
          "model_module_version": "1.5.0",
          "state": {
            "_view_name": "StyleView",
            "_model_name": "DescriptionStyleModel",
            "description_width": "",
            "_view_module": "@jupyter-widgets/base",
            "_model_module_version": "1.5.0",
            "_view_count": null,
            "_view_module_version": "1.2.0",
            "_model_module": "@jupyter-widgets/controls"
          }
        },
        "eafad944661d488ea33afc929884345b": {
          "model_module": "@jupyter-widgets/base",
          "model_name": "LayoutModel",
          "model_module_version": "1.2.0",
          "state": {
            "_view_name": "LayoutView",
            "grid_template_rows": null,
            "right": null,
            "justify_content": null,
            "_view_module": "@jupyter-widgets/base",
            "overflow": null,
            "_model_module_version": "1.2.0",
            "_view_count": null,
            "flex_flow": null,
            "width": null,
            "min_width": null,
            "border": null,
            "align_items": null,
            "bottom": null,
            "_model_module": "@jupyter-widgets/base",
            "top": null,
            "grid_column": null,
            "overflow_y": null,
            "overflow_x": null,
            "grid_auto_flow": null,
            "grid_area": null,
            "grid_template_columns": null,
            "flex": null,
            "_model_name": "LayoutModel",
            "justify_items": null,
            "grid_row": null,
            "max_height": null,
            "align_content": null,
            "visibility": null,
            "align_self": null,
            "height": null,
            "min_height": null,
            "padding": null,
            "grid_auto_rows": null,
            "grid_gap": null,
            "max_width": null,
            "order": null,
            "_view_module_version": "1.2.0",
            "grid_template_areas": null,
            "object_position": null,
            "object_fit": null,
            "grid_auto_columns": null,
            "margin": null,
            "display": null,
            "left": null
          }
        },
        "0094e2975cc6400c9f14c5a554193bf2": {
          "model_module": "@jupyter-widgets/controls",
          "model_name": "HBoxModel",
          "model_module_version": "1.5.0",
          "state": {
            "_view_name": "HBoxView",
            "_dom_classes": [],
            "_model_name": "HBoxModel",
            "_view_module": "@jupyter-widgets/controls",
            "_model_module_version": "1.5.0",
            "_view_count": null,
            "_view_module_version": "1.5.0",
            "box_style": "",
            "layout": "IPY_MODEL_12374309db3a4bb8bc18422fbd196352",
            "_model_module": "@jupyter-widgets/controls",
            "children": [
              "IPY_MODEL_137981a94ab242d69e5bfbc3732d1dc0",
              "IPY_MODEL_178eafb8e9d54cbca466d77f43de8000",
              "IPY_MODEL_ec68f97de082474685a0661922a1c9c7"
            ]
          }
        },
        "12374309db3a4bb8bc18422fbd196352": {
          "model_module": "@jupyter-widgets/base",
          "model_name": "LayoutModel",
          "model_module_version": "1.2.0",
          "state": {
            "_view_name": "LayoutView",
            "grid_template_rows": null,
            "right": null,
            "justify_content": null,
            "_view_module": "@jupyter-widgets/base",
            "overflow": null,
            "_model_module_version": "1.2.0",
            "_view_count": null,
            "flex_flow": "row wrap",
            "width": "100%",
            "min_width": null,
            "border": null,
            "align_items": null,
            "bottom": null,
            "_model_module": "@jupyter-widgets/base",
            "top": null,
            "grid_column": null,
            "overflow_y": null,
            "overflow_x": null,
            "grid_auto_flow": null,
            "grid_area": null,
            "grid_template_columns": null,
            "flex": null,
            "_model_name": "LayoutModel",
            "justify_items": null,
            "grid_row": null,
            "max_height": null,
            "align_content": null,
            "visibility": null,
            "align_self": null,
            "height": null,
            "min_height": null,
            "padding": null,
            "grid_auto_rows": null,
            "grid_gap": null,
            "max_width": null,
            "order": null,
            "_view_module_version": "1.2.0",
            "grid_template_areas": null,
            "object_position": null,
            "object_fit": null,
            "grid_auto_columns": null,
            "margin": null,
            "display": "inline-flex",
            "left": null
          }
        },
        "137981a94ab242d69e5bfbc3732d1dc0": {
          "model_module": "@jupyter-widgets/controls",
          "model_name": "HTMLModel",
          "model_module_version": "1.5.0",
          "state": {
            "_view_name": "HTMLView",
            "style": "IPY_MODEL_eff541e5251a4bcc92eae94cb60a48ac",
            "_dom_classes": [],
            "description": "",
            "_model_name": "HTMLModel",
            "placeholder": "​",
            "_view_module": "@jupyter-widgets/controls",
            "_model_module_version": "1.5.0",
            "value": "Validation sanity check:   0%",
            "_view_count": null,
            "_view_module_version": "1.5.0",
            "description_tooltip": null,
            "_model_module": "@jupyter-widgets/controls",
            "layout": "IPY_MODEL_a542e62fca364fe0a50cbe3bca460f36"
          }
        },
        "178eafb8e9d54cbca466d77f43de8000": {
          "model_module": "@jupyter-widgets/controls",
          "model_name": "FloatProgressModel",
          "model_module_version": "1.5.0",
          "state": {
            "_view_name": "ProgressView",
            "style": "IPY_MODEL_888700697a4447c6956d40abb1e1553b",
            "_dom_classes": [],
            "description": "",
            "_model_name": "FloatProgressModel",
            "bar_style": "danger",
            "max": 2,
            "_view_module": "@jupyter-widgets/controls",
            "_model_module_version": "1.5.0",
            "value": 0,
            "_view_count": null,
            "_view_module_version": "1.5.0",
            "orientation": "horizontal",
            "min": 0,
            "description_tooltip": null,
            "_model_module": "@jupyter-widgets/controls",
            "layout": "IPY_MODEL_122a709ab9604a28ba4c9a542c164998"
          }
        },
        "ec68f97de082474685a0661922a1c9c7": {
          "model_module": "@jupyter-widgets/controls",
          "model_name": "HTMLModel",
          "model_module_version": "1.5.0",
          "state": {
            "_view_name": "HTMLView",
            "style": "IPY_MODEL_d14a97ee3ee041babb40592ce4b78bc2",
            "_dom_classes": [],
            "description": "",
            "_model_name": "HTMLModel",
            "placeholder": "​",
            "_view_module": "@jupyter-widgets/controls",
            "_model_module_version": "1.5.0",
            "value": " 0/2 [00:08&lt;?, ?it/s]",
            "_view_count": null,
            "_view_module_version": "1.5.0",
            "description_tooltip": null,
            "_model_module": "@jupyter-widgets/controls",
            "layout": "IPY_MODEL_c7d214c3476b4b84a48e74df13efa238"
          }
        },
        "eff541e5251a4bcc92eae94cb60a48ac": {
          "model_module": "@jupyter-widgets/controls",
          "model_name": "DescriptionStyleModel",
          "model_module_version": "1.5.0",
          "state": {
            "_view_name": "StyleView",
            "_model_name": "DescriptionStyleModel",
            "description_width": "",
            "_view_module": "@jupyter-widgets/base",
            "_model_module_version": "1.5.0",
            "_view_count": null,
            "_view_module_version": "1.2.0",
            "_model_module": "@jupyter-widgets/controls"
          }
        },
        "a542e62fca364fe0a50cbe3bca460f36": {
          "model_module": "@jupyter-widgets/base",
          "model_name": "LayoutModel",
          "model_module_version": "1.2.0",
          "state": {
            "_view_name": "LayoutView",
            "grid_template_rows": null,
            "right": null,
            "justify_content": null,
            "_view_module": "@jupyter-widgets/base",
            "overflow": null,
            "_model_module_version": "1.2.0",
            "_view_count": null,
            "flex_flow": null,
            "width": null,
            "min_width": null,
            "border": null,
            "align_items": null,
            "bottom": null,
            "_model_module": "@jupyter-widgets/base",
            "top": null,
            "grid_column": null,
            "overflow_y": null,
            "overflow_x": null,
            "grid_auto_flow": null,
            "grid_area": null,
            "grid_template_columns": null,
            "flex": null,
            "_model_name": "LayoutModel",
            "justify_items": null,
            "grid_row": null,
            "max_height": null,
            "align_content": null,
            "visibility": null,
            "align_self": null,
            "height": null,
            "min_height": null,
            "padding": null,
            "grid_auto_rows": null,
            "grid_gap": null,
            "max_width": null,
            "order": null,
            "_view_module_version": "1.2.0",
            "grid_template_areas": null,
            "object_position": null,
            "object_fit": null,
            "grid_auto_columns": null,
            "margin": null,
            "display": null,
            "left": null
          }
        },
        "888700697a4447c6956d40abb1e1553b": {
          "model_module": "@jupyter-widgets/controls",
          "model_name": "ProgressStyleModel",
          "model_module_version": "1.5.0",
          "state": {
            "_view_name": "StyleView",
            "_model_name": "ProgressStyleModel",
            "description_width": "",
            "_view_module": "@jupyter-widgets/base",
            "_model_module_version": "1.5.0",
            "_view_count": null,
            "_view_module_version": "1.2.0",
            "bar_color": null,
            "_model_module": "@jupyter-widgets/controls"
          }
        },
        "122a709ab9604a28ba4c9a542c164998": {
          "model_module": "@jupyter-widgets/base",
          "model_name": "LayoutModel",
          "model_module_version": "1.2.0",
          "state": {
            "_view_name": "LayoutView",
            "grid_template_rows": null,
            "right": null,
            "justify_content": null,
            "_view_module": "@jupyter-widgets/base",
            "overflow": null,
            "_model_module_version": "1.2.0",
            "_view_count": null,
            "flex_flow": null,
            "width": null,
            "min_width": null,
            "border": null,
            "align_items": null,
            "bottom": null,
            "_model_module": "@jupyter-widgets/base",
            "top": null,
            "grid_column": null,
            "overflow_y": null,
            "overflow_x": null,
            "grid_auto_flow": null,
            "grid_area": null,
            "grid_template_columns": null,
            "flex": "2",
            "_model_name": "LayoutModel",
            "justify_items": null,
            "grid_row": null,
            "max_height": null,
            "align_content": null,
            "visibility": null,
            "align_self": null,
            "height": null,
            "min_height": null,
            "padding": null,
            "grid_auto_rows": null,
            "grid_gap": null,
            "max_width": null,
            "order": null,
            "_view_module_version": "1.2.0",
            "grid_template_areas": null,
            "object_position": null,
            "object_fit": null,
            "grid_auto_columns": null,
            "margin": null,
            "display": null,
            "left": null
          }
        },
        "d14a97ee3ee041babb40592ce4b78bc2": {
          "model_module": "@jupyter-widgets/controls",
          "model_name": "DescriptionStyleModel",
          "model_module_version": "1.5.0",
          "state": {
            "_view_name": "StyleView",
            "_model_name": "DescriptionStyleModel",
            "description_width": "",
            "_view_module": "@jupyter-widgets/base",
            "_model_module_version": "1.5.0",
            "_view_count": null,
            "_view_module_version": "1.2.0",
            "_model_module": "@jupyter-widgets/controls"
          }
        },
        "c7d214c3476b4b84a48e74df13efa238": {
          "model_module": "@jupyter-widgets/base",
          "model_name": "LayoutModel",
          "model_module_version": "1.2.0",
          "state": {
            "_view_name": "LayoutView",
            "grid_template_rows": null,
            "right": null,
            "justify_content": null,
            "_view_module": "@jupyter-widgets/base",
            "overflow": null,
            "_model_module_version": "1.2.0",
            "_view_count": null,
            "flex_flow": null,
            "width": null,
            "min_width": null,
            "border": null,
            "align_items": null,
            "bottom": null,
            "_model_module": "@jupyter-widgets/base",
            "top": null,
            "grid_column": null,
            "overflow_y": null,
            "overflow_x": null,
            "grid_auto_flow": null,
            "grid_area": null,
            "grid_template_columns": null,
            "flex": null,
            "_model_name": "LayoutModel",
            "justify_items": null,
            "grid_row": null,
            "max_height": null,
            "align_content": null,
            "visibility": null,
            "align_self": null,
            "height": null,
            "min_height": null,
            "padding": null,
            "grid_auto_rows": null,
            "grid_gap": null,
            "max_width": null,
            "order": null,
            "_view_module_version": "1.2.0",
            "grid_template_areas": null,
            "object_position": null,
            "object_fit": null,
            "grid_auto_columns": null,
            "margin": null,
            "display": null,
            "left": null
          }
        },
        "18d6684787fe4c52b8c30b1b21d5b8d7": {
          "model_module": "@jupyter-widgets/controls",
          "model_name": "HBoxModel",
          "model_module_version": "1.5.0",
          "state": {
            "_view_name": "HBoxView",
            "_dom_classes": [],
            "_model_name": "HBoxModel",
            "_view_module": "@jupyter-widgets/controls",
            "_model_module_version": "1.5.0",
            "_view_count": null,
            "_view_module_version": "1.5.0",
            "box_style": "",
            "layout": "IPY_MODEL_a0993084766e43b481da3fb5edd6fb58",
            "_model_module": "@jupyter-widgets/controls",
            "children": [
              "IPY_MODEL_00eb198430564cd7b796fe156a10962e",
              "IPY_MODEL_55ff8d4c26574e1dab35abd97ee87525",
              "IPY_MODEL_93110c17b9cc4fa499bb72bce942c31d"
            ]
          }
        },
        "a0993084766e43b481da3fb5edd6fb58": {
          "model_module": "@jupyter-widgets/base",
          "model_name": "LayoutModel",
          "model_module_version": "1.2.0",
          "state": {
            "_view_name": "LayoutView",
            "grid_template_rows": null,
            "right": null,
            "justify_content": null,
            "_view_module": "@jupyter-widgets/base",
            "overflow": null,
            "_model_module_version": "1.2.0",
            "_view_count": null,
            "flex_flow": "row wrap",
            "width": "100%",
            "min_width": null,
            "border": null,
            "align_items": null,
            "bottom": null,
            "_model_module": "@jupyter-widgets/base",
            "top": null,
            "grid_column": null,
            "overflow_y": null,
            "overflow_x": null,
            "grid_auto_flow": null,
            "grid_area": null,
            "grid_template_columns": null,
            "flex": null,
            "_model_name": "LayoutModel",
            "justify_items": null,
            "grid_row": null,
            "max_height": null,
            "align_content": null,
            "visibility": null,
            "align_self": null,
            "height": null,
            "min_height": null,
            "padding": null,
            "grid_auto_rows": null,
            "grid_gap": null,
            "max_width": null,
            "order": null,
            "_view_module_version": "1.2.0",
            "grid_template_areas": null,
            "object_position": null,
            "object_fit": null,
            "grid_auto_columns": null,
            "margin": null,
            "display": "inline-flex",
            "left": null
          }
        },
        "00eb198430564cd7b796fe156a10962e": {
          "model_module": "@jupyter-widgets/controls",
          "model_name": "HTMLModel",
          "model_module_version": "1.5.0",
          "state": {
            "_view_name": "HTMLView",
            "style": "IPY_MODEL_9dbdf11eefc942e783460fa21d0875c4",
            "_dom_classes": [],
            "description": "",
            "_model_name": "HTMLModel",
            "placeholder": "​",
            "_view_module": "@jupyter-widgets/controls",
            "_model_module_version": "1.5.0",
            "value": "Epoch 0: 100%",
            "_view_count": null,
            "_view_module_version": "1.5.0",
            "description_tooltip": null,
            "_model_module": "@jupyter-widgets/controls",
            "layout": "IPY_MODEL_0a2e4df157b2478792124223f064f1e7"
          }
        },
        "55ff8d4c26574e1dab35abd97ee87525": {
          "model_module": "@jupyter-widgets/controls",
          "model_name": "FloatProgressModel",
          "model_module_version": "1.5.0",
          "state": {
            "_view_name": "ProgressView",
            "style": "IPY_MODEL_513f93eb99874feebdc5f74c2abc94a7",
            "_dom_classes": [],
            "description": "",
            "_model_name": "FloatProgressModel",
            "bar_style": "success",
            "max": 7870,
            "_view_module": "@jupyter-widgets/controls",
            "_model_module_version": "1.5.0",
            "value": 7870,
            "_view_count": null,
            "_view_module_version": "1.5.0",
            "orientation": "horizontal",
            "min": 0,
            "description_tooltip": null,
            "_model_module": "@jupyter-widgets/controls",
            "layout": "IPY_MODEL_98548da6d2a64216bcd83cbfe662ef59"
          }
        },
        "93110c17b9cc4fa499bb72bce942c31d": {
          "model_module": "@jupyter-widgets/controls",
          "model_name": "HTMLModel",
          "model_module_version": "1.5.0",
          "state": {
            "_view_name": "HTMLView",
            "style": "IPY_MODEL_231b2f98b0144f51a4b504db83798fbf",
            "_dom_classes": [],
            "description": "",
            "_model_name": "HTMLModel",
            "placeholder": "​",
            "_view_module": "@jupyter-widgets/controls",
            "_model_module_version": "1.5.0",
            "value": " 7870/7870 [3:51:37&lt;00:00,  1.77s/it, loss=4.41, v_num=0]",
            "_view_count": null,
            "_view_module_version": "1.5.0",
            "description_tooltip": null,
            "_model_module": "@jupyter-widgets/controls",
            "layout": "IPY_MODEL_decde56281164cba94b53c0fc3ce72fa"
          }
        },
        "9dbdf11eefc942e783460fa21d0875c4": {
          "model_module": "@jupyter-widgets/controls",
          "model_name": "DescriptionStyleModel",
          "model_module_version": "1.5.0",
          "state": {
            "_view_name": "StyleView",
            "_model_name": "DescriptionStyleModel",
            "description_width": "",
            "_view_module": "@jupyter-widgets/base",
            "_model_module_version": "1.5.0",
            "_view_count": null,
            "_view_module_version": "1.2.0",
            "_model_module": "@jupyter-widgets/controls"
          }
        },
        "0a2e4df157b2478792124223f064f1e7": {
          "model_module": "@jupyter-widgets/base",
          "model_name": "LayoutModel",
          "model_module_version": "1.2.0",
          "state": {
            "_view_name": "LayoutView",
            "grid_template_rows": null,
            "right": null,
            "justify_content": null,
            "_view_module": "@jupyter-widgets/base",
            "overflow": null,
            "_model_module_version": "1.2.0",
            "_view_count": null,
            "flex_flow": null,
            "width": null,
            "min_width": null,
            "border": null,
            "align_items": null,
            "bottom": null,
            "_model_module": "@jupyter-widgets/base",
            "top": null,
            "grid_column": null,
            "overflow_y": null,
            "overflow_x": null,
            "grid_auto_flow": null,
            "grid_area": null,
            "grid_template_columns": null,
            "flex": null,
            "_model_name": "LayoutModel",
            "justify_items": null,
            "grid_row": null,
            "max_height": null,
            "align_content": null,
            "visibility": null,
            "align_self": null,
            "height": null,
            "min_height": null,
            "padding": null,
            "grid_auto_rows": null,
            "grid_gap": null,
            "max_width": null,
            "order": null,
            "_view_module_version": "1.2.0",
            "grid_template_areas": null,
            "object_position": null,
            "object_fit": null,
            "grid_auto_columns": null,
            "margin": null,
            "display": null,
            "left": null
          }
        },
        "513f93eb99874feebdc5f74c2abc94a7": {
          "model_module": "@jupyter-widgets/controls",
          "model_name": "ProgressStyleModel",
          "model_module_version": "1.5.0",
          "state": {
            "_view_name": "StyleView",
            "_model_name": "ProgressStyleModel",
            "description_width": "",
            "_view_module": "@jupyter-widgets/base",
            "_model_module_version": "1.5.0",
            "_view_count": null,
            "_view_module_version": "1.2.0",
            "bar_color": null,
            "_model_module": "@jupyter-widgets/controls"
          }
        },
        "98548da6d2a64216bcd83cbfe662ef59": {
          "model_module": "@jupyter-widgets/base",
          "model_name": "LayoutModel",
          "model_module_version": "1.2.0",
          "state": {
            "_view_name": "LayoutView",
            "grid_template_rows": null,
            "right": null,
            "justify_content": null,
            "_view_module": "@jupyter-widgets/base",
            "overflow": null,
            "_model_module_version": "1.2.0",
            "_view_count": null,
            "flex_flow": null,
            "width": null,
            "min_width": null,
            "border": null,
            "align_items": null,
            "bottom": null,
            "_model_module": "@jupyter-widgets/base",
            "top": null,
            "grid_column": null,
            "overflow_y": null,
            "overflow_x": null,
            "grid_auto_flow": null,
            "grid_area": null,
            "grid_template_columns": null,
            "flex": "2",
            "_model_name": "LayoutModel",
            "justify_items": null,
            "grid_row": null,
            "max_height": null,
            "align_content": null,
            "visibility": null,
            "align_self": null,
            "height": null,
            "min_height": null,
            "padding": null,
            "grid_auto_rows": null,
            "grid_gap": null,
            "max_width": null,
            "order": null,
            "_view_module_version": "1.2.0",
            "grid_template_areas": null,
            "object_position": null,
            "object_fit": null,
            "grid_auto_columns": null,
            "margin": null,
            "display": null,
            "left": null
          }
        },
        "231b2f98b0144f51a4b504db83798fbf": {
          "model_module": "@jupyter-widgets/controls",
          "model_name": "DescriptionStyleModel",
          "model_module_version": "1.5.0",
          "state": {
            "_view_name": "StyleView",
            "_model_name": "DescriptionStyleModel",
            "description_width": "",
            "_view_module": "@jupyter-widgets/base",
            "_model_module_version": "1.5.0",
            "_view_count": null,
            "_view_module_version": "1.2.0",
            "_model_module": "@jupyter-widgets/controls"
          }
        },
        "decde56281164cba94b53c0fc3ce72fa": {
          "model_module": "@jupyter-widgets/base",
          "model_name": "LayoutModel",
          "model_module_version": "1.2.0",
          "state": {
            "_view_name": "LayoutView",
            "grid_template_rows": null,
            "right": null,
            "justify_content": null,
            "_view_module": "@jupyter-widgets/base",
            "overflow": null,
            "_model_module_version": "1.2.0",
            "_view_count": null,
            "flex_flow": null,
            "width": null,
            "min_width": null,
            "border": null,
            "align_items": null,
            "bottom": null,
            "_model_module": "@jupyter-widgets/base",
            "top": null,
            "grid_column": null,
            "overflow_y": null,
            "overflow_x": null,
            "grid_auto_flow": null,
            "grid_area": null,
            "grid_template_columns": null,
            "flex": null,
            "_model_name": "LayoutModel",
            "justify_items": null,
            "grid_row": null,
            "max_height": null,
            "align_content": null,
            "visibility": null,
            "align_self": null,
            "height": null,
            "min_height": null,
            "padding": null,
            "grid_auto_rows": null,
            "grid_gap": null,
            "max_width": null,
            "order": null,
            "_view_module_version": "1.2.0",
            "grid_template_areas": null,
            "object_position": null,
            "object_fit": null,
            "grid_auto_columns": null,
            "margin": null,
            "display": null,
            "left": null
          }
        },
        "b559f4f2fbce421a895426c21b5e1d2a": {
          "model_module": "@jupyter-widgets/controls",
          "model_name": "HBoxModel",
          "model_module_version": "1.5.0",
          "state": {
            "_view_name": "HBoxView",
            "_dom_classes": [],
            "_model_name": "HBoxModel",
            "_view_module": "@jupyter-widgets/controls",
            "_model_module_version": "1.5.0",
            "_view_count": null,
            "_view_module_version": "1.5.0",
            "box_style": "",
            "layout": "IPY_MODEL_43e7cadaee784b1d9848cde6ab9f9ac0",
            "_model_module": "@jupyter-widgets/controls",
            "children": [
              "IPY_MODEL_39a563851f1646d49c0ca3d7783a2add",
              "IPY_MODEL_d68913b3b7074b9191ab2769454555ff",
              "IPY_MODEL_bd60e86b6bf34702badabe55248f3c04"
            ]
          }
        },
        "43e7cadaee784b1d9848cde6ab9f9ac0": {
          "model_module": "@jupyter-widgets/base",
          "model_name": "LayoutModel",
          "model_module_version": "1.2.0",
          "state": {
            "_view_name": "LayoutView",
            "grid_template_rows": null,
            "right": null,
            "justify_content": null,
            "_view_module": "@jupyter-widgets/base",
            "overflow": null,
            "_model_module_version": "1.2.0",
            "_view_count": null,
            "flex_flow": "row wrap",
            "width": "100%",
            "min_width": null,
            "border": null,
            "align_items": null,
            "bottom": null,
            "_model_module": "@jupyter-widgets/base",
            "top": null,
            "grid_column": null,
            "overflow_y": null,
            "overflow_x": null,
            "grid_auto_flow": null,
            "grid_area": null,
            "grid_template_columns": null,
            "flex": null,
            "_model_name": "LayoutModel",
            "justify_items": null,
            "grid_row": null,
            "max_height": null,
            "align_content": null,
            "visibility": null,
            "align_self": null,
            "height": null,
            "min_height": null,
            "padding": null,
            "grid_auto_rows": null,
            "grid_gap": null,
            "max_width": null,
            "order": null,
            "_view_module_version": "1.2.0",
            "grid_template_areas": null,
            "object_position": null,
            "object_fit": null,
            "grid_auto_columns": null,
            "margin": null,
            "display": "inline-flex",
            "left": null
          }
        },
        "39a563851f1646d49c0ca3d7783a2add": {
          "model_module": "@jupyter-widgets/controls",
          "model_name": "HTMLModel",
          "model_module_version": "1.5.0",
          "state": {
            "_view_name": "HTMLView",
            "style": "IPY_MODEL_4e5eda075b164264aefcf463070c6461",
            "_dom_classes": [],
            "description": "",
            "_model_name": "HTMLModel",
            "placeholder": "​",
            "_view_module": "@jupyter-widgets/controls",
            "_model_module_version": "1.5.0",
            "value": "Validating: 100%",
            "_view_count": null,
            "_view_module_version": "1.5.0",
            "description_tooltip": null,
            "_model_module": "@jupyter-widgets/controls",
            "layout": "IPY_MODEL_f31e06ef321c468ca1e9ab38d904c3c7"
          }
        },
        "d68913b3b7074b9191ab2769454555ff": {
          "model_module": "@jupyter-widgets/controls",
          "model_name": "FloatProgressModel",
          "model_module_version": "1.5.0",
          "state": {
            "_view_name": "ProgressView",
            "style": "IPY_MODEL_c622bf409c804ca7b4a88912a00a5186",
            "_dom_classes": [],
            "description": "",
            "_model_name": "FloatProgressModel",
            "bar_style": "",
            "max": 120,
            "_view_module": "@jupyter-widgets/controls",
            "_model_module_version": "1.5.0",
            "value": 120,
            "_view_count": null,
            "_view_module_version": "1.5.0",
            "orientation": "horizontal",
            "min": 0,
            "description_tooltip": null,
            "_model_module": "@jupyter-widgets/controls",
            "layout": "IPY_MODEL_387a08b3229c4effb82973f794a06ef1"
          }
        },
        "bd60e86b6bf34702badabe55248f3c04": {
          "model_module": "@jupyter-widgets/controls",
          "model_name": "HTMLModel",
          "model_module_version": "1.5.0",
          "state": {
            "_view_name": "HTMLView",
            "style": "IPY_MODEL_6469866504e24855ae9b4d9c5917edc5",
            "_dom_classes": [],
            "description": "",
            "_model_name": "HTMLModel",
            "placeholder": "​",
            "_view_module": "@jupyter-widgets/controls",
            "_model_module_version": "1.5.0",
            "value": " 120/120 [00:49&lt;00:00,  2.39it/s]",
            "_view_count": null,
            "_view_module_version": "1.5.0",
            "description_tooltip": null,
            "_model_module": "@jupyter-widgets/controls",
            "layout": "IPY_MODEL_2a903d3354c34c47bb6c8072b4abc9fb"
          }
        },
        "4e5eda075b164264aefcf463070c6461": {
          "model_module": "@jupyter-widgets/controls",
          "model_name": "DescriptionStyleModel",
          "model_module_version": "1.5.0",
          "state": {
            "_view_name": "StyleView",
            "_model_name": "DescriptionStyleModel",
            "description_width": "",
            "_view_module": "@jupyter-widgets/base",
            "_model_module_version": "1.5.0",
            "_view_count": null,
            "_view_module_version": "1.2.0",
            "_model_module": "@jupyter-widgets/controls"
          }
        },
        "f31e06ef321c468ca1e9ab38d904c3c7": {
          "model_module": "@jupyter-widgets/base",
          "model_name": "LayoutModel",
          "model_module_version": "1.2.0",
          "state": {
            "_view_name": "LayoutView",
            "grid_template_rows": null,
            "right": null,
            "justify_content": null,
            "_view_module": "@jupyter-widgets/base",
            "overflow": null,
            "_model_module_version": "1.2.0",
            "_view_count": null,
            "flex_flow": null,
            "width": null,
            "min_width": null,
            "border": null,
            "align_items": null,
            "bottom": null,
            "_model_module": "@jupyter-widgets/base",
            "top": null,
            "grid_column": null,
            "overflow_y": null,
            "overflow_x": null,
            "grid_auto_flow": null,
            "grid_area": null,
            "grid_template_columns": null,
            "flex": null,
            "_model_name": "LayoutModel",
            "justify_items": null,
            "grid_row": null,
            "max_height": null,
            "align_content": null,
            "visibility": null,
            "align_self": null,
            "height": null,
            "min_height": null,
            "padding": null,
            "grid_auto_rows": null,
            "grid_gap": null,
            "max_width": null,
            "order": null,
            "_view_module_version": "1.2.0",
            "grid_template_areas": null,
            "object_position": null,
            "object_fit": null,
            "grid_auto_columns": null,
            "margin": null,
            "display": null,
            "left": null
          }
        },
        "c622bf409c804ca7b4a88912a00a5186": {
          "model_module": "@jupyter-widgets/controls",
          "model_name": "ProgressStyleModel",
          "model_module_version": "1.5.0",
          "state": {
            "_view_name": "StyleView",
            "_model_name": "ProgressStyleModel",
            "description_width": "",
            "_view_module": "@jupyter-widgets/base",
            "_model_module_version": "1.5.0",
            "_view_count": null,
            "_view_module_version": "1.2.0",
            "bar_color": null,
            "_model_module": "@jupyter-widgets/controls"
          }
        },
        "387a08b3229c4effb82973f794a06ef1": {
          "model_module": "@jupyter-widgets/base",
          "model_name": "LayoutModel",
          "model_module_version": "1.2.0",
          "state": {
            "_view_name": "LayoutView",
            "grid_template_rows": null,
            "right": null,
            "justify_content": null,
            "_view_module": "@jupyter-widgets/base",
            "overflow": null,
            "_model_module_version": "1.2.0",
            "_view_count": null,
            "flex_flow": null,
            "width": null,
            "min_width": null,
            "border": null,
            "align_items": null,
            "bottom": null,
            "_model_module": "@jupyter-widgets/base",
            "top": null,
            "grid_column": null,
            "overflow_y": null,
            "overflow_x": null,
            "grid_auto_flow": null,
            "grid_area": null,
            "grid_template_columns": null,
            "flex": "2",
            "_model_name": "LayoutModel",
            "justify_items": null,
            "grid_row": null,
            "max_height": null,
            "align_content": null,
            "visibility": null,
            "align_self": null,
            "height": null,
            "min_height": null,
            "padding": null,
            "grid_auto_rows": null,
            "grid_gap": null,
            "max_width": null,
            "order": null,
            "_view_module_version": "1.2.0",
            "grid_template_areas": null,
            "object_position": null,
            "object_fit": null,
            "grid_auto_columns": null,
            "margin": null,
            "display": null,
            "left": null
          }
        },
        "6469866504e24855ae9b4d9c5917edc5": {
          "model_module": "@jupyter-widgets/controls",
          "model_name": "DescriptionStyleModel",
          "model_module_version": "1.5.0",
          "state": {
            "_view_name": "StyleView",
            "_model_name": "DescriptionStyleModel",
            "description_width": "",
            "_view_module": "@jupyter-widgets/base",
            "_model_module_version": "1.5.0",
            "_view_count": null,
            "_view_module_version": "1.2.0",
            "_model_module": "@jupyter-widgets/controls"
          }
        },
        "2a903d3354c34c47bb6c8072b4abc9fb": {
          "model_module": "@jupyter-widgets/base",
          "model_name": "LayoutModel",
          "model_module_version": "1.2.0",
          "state": {
            "_view_name": "LayoutView",
            "grid_template_rows": null,
            "right": null,
            "justify_content": null,
            "_view_module": "@jupyter-widgets/base",
            "overflow": null,
            "_model_module_version": "1.2.0",
            "_view_count": null,
            "flex_flow": null,
            "width": null,
            "min_width": null,
            "border": null,
            "align_items": null,
            "bottom": null,
            "_model_module": "@jupyter-widgets/base",
            "top": null,
            "grid_column": null,
            "overflow_y": null,
            "overflow_x": null,
            "grid_auto_flow": null,
            "grid_area": null,
            "grid_template_columns": null,
            "flex": null,
            "_model_name": "LayoutModel",
            "justify_items": null,
            "grid_row": null,
            "max_height": null,
            "align_content": null,
            "visibility": null,
            "align_self": null,
            "height": null,
            "min_height": null,
            "padding": null,
            "grid_auto_rows": null,
            "grid_gap": null,
            "max_width": null,
            "order": null,
            "_view_module_version": "1.2.0",
            "grid_template_areas": null,
            "object_position": null,
            "object_fit": null,
            "grid_auto_columns": null,
            "margin": null,
            "display": null,
            "left": null
          }
        }
      }
    }
  },
  "cells": [
    {
      "cell_type": "markdown",
      "metadata": {
        "id": "TSsepwWw5kPN"
      },
      "source": [
        "# НИС. Лабораторная работа 1. \n",
        "### Мельников Евгений 18ПМИ"
      ]
    },
    {
      "cell_type": "markdown",
      "metadata": {
        "id": "xR0uZOiTPVYX"
      },
      "source": [
        "## Установка зависимостей"
      ]
    },
    {
      "cell_type": "code",
      "metadata": {
        "id": "lJz6FDU1lRzc"
      },
      "source": [
        "# If you're using Google Colab and not running locally, run this cell.\n",
        "\n",
        "## Install dependencies\n",
        "!pip install wget\n",
        "!apt-get install sox libsndfile1 ffmpeg\n",
        "!pip install unidecode\n",
        "\n",
        "\n",
        "## Install NeMo\n",
        "!python -m pip install nemo_toolkit[all]\n",
        "\n",
        "# !pip install torchtext==0.10.1\n",
        "# !pip install matplotlib==3.1.3\n",
        "\"\"\"\n",
        "Remember to restart the runtime for the kernel to pick up any upgraded packages (e.g. matplotlib)!\n",
        "Alternatively, you can uncomment the exit() below to crash and restart the kernel, in the case\n",
        "that you want to use the \"Run All Cells\" (or similar) option.\n",
        "\"\"\"\n",
        "\n",
        "! pip install python-Levenshtein\n",
        "\n",
        "! rm -rf sample_data\n",
        "# exit()"
      ],
      "execution_count": null,
      "outputs": []
    },
    {
      "cell_type": "code",
      "metadata": {
        "id": "s77jHZiZRDNb"
      },
      "source": [
        "from omegaconf import DictConfig"
      ],
      "execution_count": 2,
      "outputs": []
    },
    {
      "cell_type": "code",
      "metadata": {
        "colab": {
          "base_uri": "https://localhost:8080/"
        },
        "id": "FSHQKEPz4q0T",
        "outputId": "7feafee8-9546-4e24-8815-3d9242d3a9d1"
      },
      "source": [
        "from Levenshtein import distance as lv_dist\n",
        "from Levenshtein import ratio as lv_ratio\n",
        "lv_dist(\"hello\", \"hedf\"), lv_ratio(\"hello\", \"hedf\")"
      ],
      "execution_count": 3,
      "outputs": [
        {
          "output_type": "execute_result",
          "data": {
            "text/plain": [
              "(3, 0.4444444444444444)"
            ]
          },
          "metadata": {},
          "execution_count": 3
        }
      ]
    },
    {
      "cell_type": "markdown",
      "metadata": {
        "id": "N1_vbx3GPaKa"
      },
      "source": [
        "## Загрузка тренировочного датасета на колаб машину и подготовка данных\n",
        "\n"
      ]
    },
    {
      "cell_type": "markdown",
      "metadata": {
        "id": "g_NCXMVv4eff"
      },
      "source": [
        "Записи голосов для тренировки будут загружаться на колаб машину и распаковываться в папку /content/farfield_data/train на ней же\n",
        "\n",
        "Манифесты для тренировки находятся в гугл драйве в папке /drive/MyDrive/nis_data/farfield_train\n",
        "\n",
        "Записи голосов для тестирования, а также манифесты находятся в папке /drive/MyDrive/nis_data/farfield_test"
      ]
    },
    {
      "cell_type": "code",
      "metadata": {
        "id": "9-3UUjBpmpgi",
        "colab": {
          "base_uri": "https://localhost:8080/"
        },
        "outputId": "393026b7-6efa-49eb-c67c-82648bde9e37"
      },
      "source": [
        "# mounting the google drive\n",
        "from google.colab import drive\n",
        "import os\n",
        "drive.mount('/drive')"
      ],
      "execution_count": 11,
      "outputs": [
        {
          "output_type": "stream",
          "name": "stdout",
          "text": [
            "Drive already mounted at /drive; to attempt to forcibly remount, call drive.mount(\"/drive\", force_remount=True).\n"
          ]
        }
      ]
    },
    {
      "cell_type": "code",
      "metadata": {
        "id": "Um2Ro7VWzrGE",
        "colab": {
          "base_uri": "https://localhost:8080/"
        },
        "outputId": "d8843680-8a95-489f-c2bc-b92efb2ca0c1"
      },
      "source": [
        "print(os.listdir('/drive/MyDrive/nis_data'))\n",
        "print(os.listdir('/drive/MyDrive/nis_data/farfield_test'))\n",
        "print(os.listdir('/drive/MyDrive/nis_data/farfield_train'))"
      ],
      "execution_count": 12,
      "outputs": [
        {
          "output_type": "stream",
          "name": "stdout",
          "text": [
            "['farfield_test', 'farfield_train']\n",
            "['files', 'manifest_abs.jsonl', 'manifest.jsonl']\n",
            "['files', 'manifest_abs.jsonl', 'manifest.jsonl', 'manifest_all.jsonl']\n"
          ]
        }
      ]
    },
    {
      "cell_type": "code",
      "metadata": {
        "id": "DapQvbS8lXuz"
      },
      "source": [
        "# Очистка файла с манифестами для тренировки\n",
        "import json\n",
        "def clear_json(path, filename_in, filename_out):\n",
        "  path_in = os.path.join(path, filename_in)\n",
        "  path_out = os.path.join(path, filename_out)\n",
        "  with open(path_in, 'r') as fin:\n",
        "    with open(path_out, 'w+') as fout:\n",
        "      for line in fin:\n",
        "        metadata = json.loads(line)\n",
        "        if metadata['audio_filepath'].startswith(\"farfield\"):\n",
        "          json.dump(metadata, fout)\n",
        "          fout.write('\\n')\n",
        "\n",
        "# clear_json(\"/drive/MyDrive/nis_data/farfield_train/\", \"manifest_all.jsonl\", \"manifest.jsonl\")"
      ],
      "execution_count": 14,
      "outputs": []
    },
    {
      "cell_type": "code",
      "metadata": {
        "id": "gAhsmi6HlRzh"
      },
      "source": [
        "# Папка, где будет размещаться датасет Golos\n",
        "data_dir = '/content'\n",
        "tar_dir = 'tar' # directory where all .tar files are stored \n",
        "\n",
        "test_data_abs_path = '/drive/MyDrive/nis_data/farfield_test/files'\n",
        "train_data_abs_path = '/content/farfield_data/train/farfield'"
      ],
      "execution_count": 6,
      "outputs": []
    },
    {
      "cell_type": "markdown",
      "metadata": {
        "id": "e1Yiovl85LQT"
      },
      "source": [
        "### Загружаем и распаковываем архив с записями для тренировки в колаб машине\n",
        "\n"
      ]
    },
    {
      "cell_type": "code",
      "metadata": {
        "id": "Yb4fuUvWlRzk",
        "scrolled": true,
        "colab": {
          "base_uri": "https://localhost:8080/"
        },
        "outputId": "3cf17f0e-9d0b-41c6-a4bc-ccda6de0343b"
      },
      "source": [
        "import glob\n",
        "import os\n",
        "import subprocess\n",
        "import tarfile\n",
        "import wget\n",
        "from shutil import copyfile\n",
        "\n",
        "def load(url, fname, path):\n",
        "  if not os.path.exists(os.path.join(path, fname)):\n",
        "    print(f\"Downloading {fname}...\")\n",
        "    out_path = wget.download(url, os.path.join(path, fname))\n",
        "    print(f\"Downloaded at: {out_path}\")\n",
        "  else:\n",
        "    print(\"File already exists\")\n",
        "    out_path = os.path.join(path, fname)\n",
        "  return out_path\n",
        "\n",
        "if not os.path.exists(os.path.join(data_dir, tar_dir)):\n",
        "  os.mkdir(tar_dir) # directory where all .tar files are stored\n",
        "\n",
        "train_tar_path = load(\"https://sc.link/1Z3\", \"farfield.tar\", os.path.join(data_dir, tar_dir)) # farfield link\n",
        "\n",
        "if not os.path.exists(os.path.join(data_dir, 'farfield_data/')):\n",
        "  os.mkdir(os.path.join(data_dir, 'farfield_data/'))\n",
        "\n",
        "if not os.path.exists(os.path.join(data_dir, 'farfield_data/train')):\n",
        "  with tarfile.open(train_tar_path) as tar:\n",
        "    print(f\"Extracting train...\")\n",
        "    tar.extractall(path=os.path.join(data_dir, 'farfield_data'))\n"
      ],
      "execution_count": 8,
      "outputs": [
        {
          "output_type": "stream",
          "name": "stdout",
          "text": [
            "Downloading farfield.tar...\n",
            "Downloaded at: /content/tar/farfield.tar\n",
            "Extracting train...\n"
          ]
        }
      ]
    },
    {
      "cell_type": "code",
      "metadata": {
        "id": "rIHkvDNG_hvT",
        "colab": {
          "base_uri": "https://localhost:8080/"
        },
        "outputId": "aeedd16f-6ee5-48fb-c54b-f2b5dd4f9cc3"
      },
      "source": [
        "! ls /drive/MyDrive/nis_data/farfield_test/files/ | head -n 2\n",
        "! echo \"-------\"\n",
        "! ls /content/farfield_data/train/farfield | head -n 2"
      ],
      "execution_count": 9,
      "outputs": [
        {
          "output_type": "stream",
          "name": "stdout",
          "text": [
            "ls: cannot access '/drive/MyDrive/nis_data/farfield_test/files/': No such file or directory\n",
            "-------\n",
            "000140f4107fabaf6e5b58520b13a6f2.wav\n",
            "0001795eae39554a7167da2b9d495a28.wav\n"
          ]
        }
      ]
    },
    {
      "cell_type": "markdown",
      "metadata": {
        "id": "9xZ_3XUB5R6a"
      },
      "source": [
        "### Создаем .jsonl манифесты с абсолютными путями и сохраняем их в Гугл драйв"
      ]
    },
    {
      "cell_type": "code",
      "metadata": {
        "id": "C4pC091119Bl",
        "colab": {
          "base_uri": "https://localhost:8080/"
        },
        "outputId": "cd6cceab-a575-4f26-8345-cdcc2842a23c"
      },
      "source": [
        "# функция для построения .jsonl файлов с абсолютными путями\n",
        "def build_abs_manifest(json_path, filename_in, filename_out, data_abs_path, rel_path_starts_with):\n",
        "  path_in = os.path.join(json_path, filename_in)\n",
        "  path_out = os.path.join(json_path, filename_out)\n",
        "  with open(path_in, 'r') as fin:\n",
        "    with open(path_out, 'w+') as fout:\n",
        "      for line in fin:\n",
        "        metadata = json.loads(line)\n",
        "        if metadata['audio_filepath'].startswith(rel_path_starts_with): # ищем пути, которые начинаются с заданного значения\n",
        "          filename = metadata['audio_filepath'].replace(rel_path_starts_with, '')  # если нашли, то очищаем путь от заданного значения, чтобы получить \"голое\" название файла\n",
        "          metadata['audio_filepath'] = os.path.join(data_abs_path, filename) # заменяем путь к файлу на абсолютный\n",
        "         #print(metadata['audio_filepath'])\n",
        "          json.dump(metadata, fout)\n",
        "          fout.write('\\n')\n",
        "  return path_out\n",
        "  \n",
        "test_manifest_abs_path = build_abs_manifest(json_path='/drive/MyDrive/nis_data/farfield_test',\n",
        "                                            filename_in='manifest.jsonl',\n",
        "                                            filename_out='manifest_abs.jsonl', \n",
        "                                            data_abs_path=test_data_abs_path,\n",
        "                                            rel_path_starts_with='files/'\n",
        "                                            ) # манифесты с абслютными путями для farfield_test\n",
        "\n",
        "train_manifest_abs_path = build_abs_manifest(json_path='/drive/MyDrive/nis_data/farfield_train',\n",
        "                                            filename_in='manifest.jsonl',\n",
        "                                            filename_out='manifest_abs.jsonl', \n",
        "                                            data_abs_path=train_data_abs_path,\n",
        "                                            rel_path_starts_with='farfield/'\n",
        "                                            ) # манифесты с абслютными путями для farfield_train\n",
        "\n",
        "print(test_manifest_abs_path)\n",
        "print(train_manifest_abs_path)"
      ],
      "execution_count": 15,
      "outputs": [
        {
          "output_type": "stream",
          "name": "stdout",
          "text": [
            "/drive/MyDrive/nis_data/farfield_test/manifest_abs.jsonl\n",
            "/drive/MyDrive/nis_data/farfield_train/manifest_abs.jsonl\n"
          ]
        }
      ]
    },
    {
      "cell_type": "code",
      "metadata": {
        "id": "sYnz0HjG0Kkr",
        "colab": {
          "base_uri": "https://localhost:8080/"
        },
        "outputId": "dc1d5ab2-100d-422b-b67e-5ca8c57fdbc7"
      },
      "source": [
        "! echo \"Test:\"\n",
        "! head -n 1 /drive/MyDrive/nis_data/farfield_test/manifest.jsonl\n",
        "! echo \n",
        "! head -n 1 /drive/MyDrive/nis_data/farfield_test/manifest_abs.jsonl\n",
        "! echo \"-------\"\n",
        "! echo \"Train:\"\n",
        "! head -n 1 /drive/MyDrive/nis_data/farfield_train/manifest.jsonl\n",
        "! echo \n",
        "! head -n 1 /drive/MyDrive/nis_data/farfield_train/manifest_abs.jsonl"
      ],
      "execution_count": 16,
      "outputs": [
        {
          "output_type": "stream",
          "name": "stdout",
          "text": [
            "Test:\n",
            "{\"id\": \"58b586f67f5e634506e215df5996b82e\", \"audio_filepath\": \"files/58b586f67f5e634506e215df5996b82e.wav\", \"text\": \"\\u0434\\u0436\\u043e\\u0439 \\u0445\\u0432\\u0430\\u0442\\u0438\\u0442\", \"duration\": 1.696625}\n",
            "\n",
            "{\"id\": \"58b586f67f5e634506e215df5996b82e\", \"audio_filepath\": \"/drive/MyDrive/nis_data/farfield_test/files/58b586f67f5e634506e215df5996b82e.wav\", \"text\": \"\\u0434\\u0436\\u043e\\u0439 \\u0445\\u0432\\u0430\\u0442\\u0438\\u0442\", \"duration\": 1.696625}\n",
            "-------\n",
            "Train:\n",
            "{\"id\": \"855e01d6ba9a4aa59950d62037b87709\", \"audio_filepath\": \"farfield/855e01d6ba9a4aa59950d62037b87709.wav\", \"text\": \"\\u0430\\u0444\\u0438\\u043d\\u0430 \\u0445\\u043e\\u0442\\u0435\\u043b\\u0430 \\u043d\\u043e\\u043c\\u0435\\u0440 \\u0442\\u0435\\u043b\\u0435\\u0444\\u043e\\u043d\\u0430 \\u043f\\u043e\\u043c\\u0435\\u043d\\u044f\\u0442\\u044c \\u043a\\u0430\\u0440\\u0442\\u044b\", \"duration\": 5.4596875}\n",
            "\n",
            "{\"id\": \"855e01d6ba9a4aa59950d62037b87709\", \"audio_filepath\": \"/content/farfield_data/train/farfield/855e01d6ba9a4aa59950d62037b87709.wav\", \"text\": \"\\u0430\\u0444\\u0438\\u043d\\u0430 \\u0445\\u043e\\u0442\\u0435\\u043b\\u0430 \\u043d\\u043e\\u043c\\u0435\\u0440 \\u0442\\u0435\\u043b\\u0435\\u0444\\u043e\\u043d\\u0430 \\u043f\\u043e\\u043c\\u0435\\u043d\\u044f\\u0442\\u044c \\u043a\\u0430\\u0440\\u0442\\u044b\", \"duration\": 5.4596875}\n"
          ]
        }
      ]
    },
    {
      "cell_type": "markdown",
      "metadata": {
        "id": "gebi4NYpTGUH"
      },
      "source": [
        "## Установка NeMo"
      ]
    },
    {
      "cell_type": "code",
      "metadata": {
        "id": "4_W0lhaQlRzx",
        "colab": {
          "base_uri": "https://localhost:8080/"
        },
        "outputId": "212bb6d4-2b6d-48b3-8c96-988f4d7b108c"
      },
      "source": [
        "# NeMo's \"core\" package\n",
        "import nemo\n",
        "# NeMo's ASR collection - this collections contains complete ASR models and\n",
        "# building blocks (modules) for ASR\n",
        "import nemo.collections.asr as nemo_asr"
      ],
      "execution_count": 17,
      "outputs": [
        {
          "output_type": "stream",
          "name": "stderr",
          "text": [
            "[NeMo W 2021-12-01 18:12:28 optimizers:50] Apex was not found. Using the lamb or fused_adam optimizer will error out.\n",
            "################################################################################\n",
            "### WARNING, path does not exist: KALDI_ROOT=/mnt/matylda5/iveselyk/Tools/kaldi-trunk\n",
            "###          (please add 'export KALDI_ROOT=<your_path>' in your $HOME/.profile)\n",
            "###          (or run as: KALDI_ROOT=<your_path> python <your_script>.py)\n",
            "################################################################################\n",
            "\n"
          ]
        }
      ]
    },
    {
      "cell_type": "markdown",
      "metadata": {
        "id": "v_W8EbYktZE3"
      },
      "source": [
        "## Загрузка предобученной модели\n"
      ]
    },
    {
      "cell_type": "code",
      "metadata": {
        "id": "KFZZpYult96G"
      },
      "source": [
        "# asr_model = nemo_asr.models.EncDecCTCModel.from_pretrained(model_name=\"stt_ru_quartznet15x5\")\n",
        "\n",
        "load(\"https://sc.link/ZMv\", \"QuartzNet15x5_golos.nemo\", data_dir)\n",
        "base_asr_model = nemo_asr.models.EncDecCTCModel.restore_from(os.path.join(data_dir, \"QuartzNet15x5_golos.nemo\")) # модель с весами"
      ],
      "execution_count": null,
      "outputs": []
    },
    {
      "cell_type": "markdown",
      "metadata": {
        "id": "KucxoFJhum0i"
      },
      "source": [
        "## Использование модели для распознавания"
      ]
    },
    {
      "cell_type": "code",
      "metadata": {
        "colab": {
          "base_uri": "https://localhost:8080/"
        },
        "id": "F2PEO1T37C-F",
        "outputId": "8b86211e-f584-4324-d31e-07d3eee48dc6"
      },
      "source": [
        "! ls /drive/MyDrive/nis_data/farfield_test/files/ | head -n 1\n",
        "! echo \"-------\"\n",
        "! ls /content/farfield_data/train/farfield | head -n 1"
      ],
      "execution_count": 19,
      "outputs": [
        {
          "output_type": "stream",
          "name": "stdout",
          "text": [
            "0043592661b915d774bc17e89fd695de.wav\n",
            "-------\n",
            "000140f4107fabaf6e5b58520b13a6f2.wav\n"
          ]
        }
      ]
    },
    {
      "cell_type": "code",
      "metadata": {
        "colab": {
          "base_uri": "https://localhost:8080/",
          "height": 208,
          "referenced_widgets": [
            "97eeb25446d04a26938b10b28c2c7066",
            "8104539d5d2b4a5788d5e28a6c66fdb1",
            "bde48daa1569477e9f5c876f65115276",
            "5448e44e7e774b4289cf4bcf088f1257",
            "406d0aeabb7f477ab58caebf1a24fca9",
            "ffafbebb34814f8894f418c81acafd2e",
            "6ad01ec47d8d40228443c9d83a3c5695",
            "20ebcfec7bba4d47bcdfb368c572e663",
            "24c0da05de4e44ccb1516f6177a81ea2",
            "cf0f3d03e44944c5b84a73b83063c5a5",
            "24660bb109784a4a8521008caf8f1d9d"
          ]
        },
        "id": "3QCpR_93u1hp",
        "outputId": "39ae3c63-7097-4eff-f9f7-9eeee3465f7e"
      },
      "source": [
        "files = [os.path.join(test_data_abs_path, '0043592661b915d774bc17e89fd695de.wav'),\n",
        "         os.path.join(train_data_abs_path, '000140f4107fabaf6e5b58520b13a6f2.wav'),\n",
        "         '/drive/MyDrive/nis_data/farfield_test/files/58b586f67f5e634506e215df5996b82e.wav']\n",
        "\n",
        "transcriptions = base_asr_model.transcribe(paths2audio_files=files)\n",
        "\n",
        "for fname, transcription in zip(files, transcriptions):\n",
        "  print(f\"Audio in {fname} was recognized as: {transcription}\")"
      ],
      "execution_count": 20,
      "outputs": [
        {
          "output_type": "display_data",
          "data": {
            "application/vnd.jupyter.widget-view+json": {
              "model_id": "97eeb25446d04a26938b10b28c2c7066",
              "version_minor": 0,
              "version_major": 2
            },
            "text/plain": [
              "Transcribing:   0%|          | 0/1 [00:00<?, ?it/s]"
            ]
          },
          "metadata": {}
        },
        {
          "output_type": "stream",
          "name": "stderr",
          "text": [
            "[NeMo W 2021-12-01 18:12:58 patch_utils:50] torch.stft() signature has been updated for PyTorch 1.7+\n",
            "    Please update PyTorch to remain compatible with later versions of NeMo.\n",
            "[NeMo W 2021-12-01 18:12:58 nemo_logging:349] /usr/local/lib/python3.7/dist-packages/nemo/collections/asr/parts/submodules/jasper.py:280: UserWarning: __floordiv__ is deprecated, and its behavior will change in a future version of pytorch. It currently rounds toward 0 (like the 'trunc' function NOT 'floor'). This results in incorrect rounding for negative values. To keep the current behavior, use torch.div(a, b, rounding_mode='trunc'), or for actual floor division, use torch.div(a, b, rounding_mode='floor').\n",
            "      ) // self.conv.stride[0] + 1\n",
            "    \n"
          ]
        },
        {
          "output_type": "stream",
          "name": "stdout",
          "text": [
            "Audio in /drive/MyDrive/nis_data/farfield_test/files/0043592661b915d774bc17e89fd695de.wav was recognized as: салют сколько предприятий зявляются крезентами сбера\n",
            "Audio in /content/farfield_data/train/farfield/000140f4107fabaf6e5b58520b13a6f2.wav was recognized as: какая будет погода завтра утром\n",
            "Audio in /drive/MyDrive/nis_data/farfield_test/files/58b586f67f5e634506e215df5996b82e.wav was recognized as: джой хватит\n"
          ]
        }
      ]
    },
    {
      "cell_type": "markdown",
      "metadata": {
        "id": "fFUSGTp6UmJi"
      },
      "source": [
        "## Расчет метрики WER для базовой модели до обучения\n"
      ]
    },
    {
      "cell_type": "code",
      "metadata": {
        "id": "KQQvpGDYD0Hf"
      },
      "source": [
        "def calc_wer(model):\n",
        "  # Bigger batch-size = bigger throughput\n",
        "  # params['model']['validation_ds']['batch_size'] = 16\n",
        "  # Setup the test data loader and make sure the model is on GPU\n",
        "  # asr_model.setup_test_data(test_data_config=params['model']['validation_ds'])\n",
        "  model.cuda()\n",
        "\n",
        "  # We will be computing Word Error Rate (WER) metric between our hypothesis and predictions.\n",
        "  # WER is computed as numerator/denominator.\n",
        "  # We'll gather all the test batches' numerators and denominators.\n",
        "  wer_nums = []\n",
        "  wer_denoms = []\n",
        "\n",
        "  # Loop over all test batches.\n",
        "  # Iterating over the model's `test_dataloader` will give us:\n",
        "  # (audio_signal, audio_signal_length, transcript_tokens, transcript_length)\n",
        "  # See the AudioToCharDataset for more details.\n",
        "  for test_batch in model.test_dataloader():\n",
        "          test_batch = [x.cuda() for x in test_batch]\n",
        "          targets = test_batch[2]\n",
        "          targets_lengths = test_batch[3]        \n",
        "          log_probs, encoded_len, greedy_predictions = model(\n",
        "              input_signal=test_batch[0], input_signal_length=test_batch[1]\n",
        "          )\n",
        "          # Notice the model has a helper object to compute WER\n",
        "          model._wer.update(greedy_predictions, targets, targets_lengths)\n",
        "          _, wer_num, wer_denom = model._wer.compute()\n",
        "          model._wer.reset()\n",
        "          wer_nums.append(wer_num.detach().cpu().numpy())\n",
        "          wer_denoms.append(wer_denom.detach().cpu().numpy())\n",
        "\n",
        "          # Release tensors from GPU memory\n",
        "          del test_batch, log_probs, targets, targets_lengths, encoded_len, greedy_predictions\n",
        "\n",
        "  # We need to sum all numerators and denominators first. Then divide.\n",
        "\n",
        "  wer = sum(wer_nums)/sum(wer_denoms)\n",
        "  print(f\"WER модели = {wer}\")\n",
        "  return wer"
      ],
      "execution_count": 21,
      "outputs": []
    },
    {
      "cell_type": "markdown",
      "metadata": {
        "id": "bsxLVi1nHQnr"
      },
      "source": [
        "Конфигурация базовой модели"
      ]
    },
    {
      "cell_type": "code",
      "metadata": {
        "id": "giSAkgFKYO4p",
        "colab": {
          "base_uri": "https://localhost:8080/"
        },
        "outputId": "fa4cdd39-5942-454d-d59a-608d58b0c049"
      },
      "source": [
        "from omegaconf import DictConfig\n",
        "\n",
        "params_model = base_asr_model._cfg\n",
        "\n",
        "params_model['train_ds']['parser']='base'\n",
        "params_model['validation_ds']['parser']='base'\n",
        "params_model['test_ds']['parser']='base'\n",
        "params_model['train_ds']['manifest_filepath'] = train_manifest_abs_path\n",
        "params_model['train_ds']['batch_size']=16\n",
        "params_model['validation_ds']['manifest_filepath'] = test_manifest_abs_path\n",
        "params_model['validation_ds']['batch_size']=16\n",
        "params_model['test_ds']['manifest_filepath'] = test_manifest_abs_path\n",
        "params_model['test_ds']['batch_size']=16\n",
        "params_model['optim']['lr'] = 0.05\n",
        "\n",
        "base_asr_model.setup_optimization(optim_config=DictConfig(params_model['optim']))\n",
        "base_asr_model.setup_training_data(train_data_config=params_model['train_ds'])\n",
        "base_asr_model.setup_test_data(test_data_config=params_model['test_ds'])\n",
        "base_asr_model.setup_validation_data(val_data_config=params_model['validation_ds'])\n"
      ],
      "execution_count": 22,
      "outputs": [
        {
          "output_type": "stream",
          "name": "stderr",
          "text": [
            "[NeMo W 2021-12-01 18:12:59 modelPT:453] Trainer wasn't specified in model constructor. Make sure that you really wanted it.\n"
          ]
        },
        {
          "output_type": "stream",
          "name": "stdout",
          "text": [
            "[NeMo I 2021-12-01 18:12:59 modelPT:561] Optimizer config = Novograd (\n",
            "    Parameter Group 0\n",
            "        amsgrad: False\n",
            "        betas: [0.9, 0.98]\n",
            "        eps: 1e-08\n",
            "        grad_averaging: False\n",
            "        lr: 0.05\n",
            "        weight_decay: 0.001\n",
            "    )\n"
          ]
        },
        {
          "output_type": "stream",
          "name": "stderr",
          "text": [
            "[NeMo W 2021-12-01 18:12:59 lr_scheduler:732] Neither `max_steps` nor `iters_per_batch` were provided to `optim.sched`, cannot compute effective `max_steps` !\n",
            "    Scheduler will not be instantiated !\n"
          ]
        },
        {
          "output_type": "stream",
          "name": "stdout",
          "text": [
            "[NeMo I 2021-12-01 18:13:08 collections:173] Dataset loaded with 123995 files totalling 132.43 hours\n",
            "[NeMo I 2021-12-01 18:13:08 collections:174] 8 files were filtered totalling 0.03 hours\n"
          ]
        },
        {
          "output_type": "stream",
          "name": "stderr",
          "text": [
            "[NeMo W 2021-12-01 18:13:08 nemo_logging:349] /usr/local/lib/python3.7/dist-packages/torch/utils/data/dataloader.py:481: UserWarning: This DataLoader will create 20 worker processes in total. Our suggested max number of worker in current system is 2, which is smaller than what this DataLoader is going to create. Please be aware that excessive worker creation might get DataLoader running slow or even freeze, lower the worker number to avoid potential slowness/freeze if necessary.\n",
            "      cpuset_checked))\n",
            "    \n"
          ]
        },
        {
          "output_type": "stream",
          "name": "stdout",
          "text": [
            "[NeMo I 2021-12-01 18:13:09 collections:173] Dataset loaded with 1916 files totalling 1.41 hours\n",
            "[NeMo I 2021-12-01 18:13:09 collections:174] 0 files were filtered totalling 0.00 hours\n",
            "[NeMo I 2021-12-01 18:13:09 collections:173] Dataset loaded with 1916 files totalling 1.41 hours\n",
            "[NeMo I 2021-12-01 18:13:09 collections:174] 0 files were filtered totalling 0.00 hours\n"
          ]
        }
      ]
    },
    {
      "cell_type": "code",
      "metadata": {
        "colab": {
          "base_uri": "https://localhost:8080/"
        },
        "id": "jD0oG52mD1zp",
        "outputId": "ce2a6efc-9b0b-43ec-c0c1-df30aade735a"
      },
      "source": [
        "calc_wer(base_asr_model)"
      ],
      "execution_count": null,
      "outputs": [
        {
          "output_type": "stream",
          "name": "stderr",
          "text": [
            "[NeMo W 2021-12-01 14:19:36 nemo_logging:349] /usr/local/lib/python3.7/dist-packages/nemo/collections/asr/parts/submodules/jasper.py:280: UserWarning: __floordiv__ is deprecated, and its behavior will change in a future version of pytorch. It currently rounds toward 0 (like the 'trunc' function NOT 'floor'). This results in incorrect rounding for negative values. To keep the current behavior, use torch.div(a, b, rounding_mode='trunc'), or for actual floor division, use torch.div(a, b, rounding_mode='floor').\n",
            "      ) // self.conv.stride[0] + 1\n",
            "    \n"
          ]
        },
        {
          "output_type": "stream",
          "name": "stdout",
          "text": [
            "WER модели = 0.663803388212837\n"
          ]
        },
        {
          "output_type": "execute_result",
          "data": {
            "text/plain": [
              "0.663803388212837"
            ]
          },
          "metadata": {},
          "execution_count": 18
        }
      ]
    },
    {
      "cell_type": "markdown",
      "metadata": {
        "id": "e5lAxnnpzUlk"
      },
      "source": [
        "## Чистка данных\n",
        "\n",
        "Вычислим расстояния и отношения Левенштейна для каждой пары текст-предсказанный текст. Уберем те записи, которые базовая сеть распознала идеально (расстояние=0, отношение=1)"
      ]
    },
    {
      "cell_type": "code",
      "metadata": {
        "id": "I-sP6aJueBKr"
      },
      "source": [
        "# unfinished\n",
        "import pandas as pd\n",
        "\n",
        "audio_filepaths = []\n",
        "true_texts = []\n",
        "predicted_texts = []\n",
        "json_data = []\n",
        "count = 0\n",
        "\n",
        "with open(train_manifest_abs_path, 'r') as fin: # train\n",
        "  for line in fin:\n",
        "    count += 1\n",
        "    if count != 12367:\n",
        "      input_metadata = json.loads(line)\n",
        "      audio_filepaths.append(input_metadata['audio_filepath'])\n",
        "      true_texts.append(input_metadata['text'])\n",
        "      json_data.append(input_metadata)\n",
        "\n",
        "predicted_texts = base_asr_model.transcribe(paths2audio_files=audio_filepaths)\n"
      ],
      "execution_count": null,
      "outputs": []
    },
    {
      "cell_type": "code",
      "metadata": {
        "id": "niRgxd2Mg1Vs"
      },
      "source": [
        "lv_dists = []\n",
        "lv_ratios = []\n",
        "\n",
        "for i in range(len(predicted_texts)):\n",
        "  lv_dists.append(lv_dist(true_texts[i], predicted_texts[i]))\n",
        "  lv_ratios.append(lv_ratio(true_texts[i], predicted_texts[i]))\n",
        "\n",
        "data_dic = {\"Levenshtein distance\": lv_dists,\n",
        "            \"Levenshtein ratio\": lv_ratios,\n",
        "            \"true text\": true_texts,\n",
        "            \"predicted text\": predicted_texts, \n",
        "            \"json\": json_data\n",
        "            }\n",
        "data = pd.DataFrame(data_dic)"
      ],
      "execution_count": null,
      "outputs": []
    },
    {
      "cell_type": "code",
      "metadata": {
        "colab": {
          "base_uri": "https://localhost:8080/",
          "height": 424
        },
        "id": "EAANe6LSv741",
        "outputId": "65e2168c-2fc9-4761-fc2d-78938f26e735"
      },
      "source": [
        "data[(data['Levenshtein ratio'] < 0.95) & (data['Levenshtein ratio'] > 0.1)].sort_values(by=['Levenshtein ratio'])"
      ],
      "execution_count": null,
      "outputs": [
        {
          "data": {
            "text/html": [
              "<div>\n",
              "<style scoped>\n",
              "    .dataframe tbody tr th:only-of-type {\n",
              "        vertical-align: middle;\n",
              "    }\n",
              "\n",
              "    .dataframe tbody tr th {\n",
              "        vertical-align: top;\n",
              "    }\n",
              "\n",
              "    .dataframe thead th {\n",
              "        text-align: right;\n",
              "    }\n",
              "</style>\n",
              "<table border=\"1\" class=\"dataframe\">\n",
              "  <thead>\n",
              "    <tr style=\"text-align: right;\">\n",
              "      <th></th>\n",
              "      <th>Levenshtein distance</th>\n",
              "      <th>Levenshtein ratio</th>\n",
              "      <th>true text</th>\n",
              "      <th>predicted text</th>\n",
              "      <th>json</th>\n",
              "    </tr>\n",
              "  </thead>\n",
              "  <tbody>\n",
              "    <tr>\n",
              "      <th>214</th>\n",
              "      <td>17</td>\n",
              "      <td>0.105263</td>\n",
              "      <td>кто придумал лампы</td>\n",
              "      <td></td>\n",
              "      <td>{'id': '9cb1ddfff3548e93697c6c9128a9e758', 'au...</td>\n",
              "    </tr>\n",
              "    <tr>\n",
              "      <th>499</th>\n",
              "      <td>48</td>\n",
              "      <td>0.111111</td>\n",
              "      <td>сбер как я могу узнать тарифы за обслуживание ...</td>\n",
              "      <td>реа</td>\n",
              "      <td>{'id': '25d4ffa19eadcbae631eb4c42b660787', 'au...</td>\n",
              "    </tr>\n",
              "    <tr>\n",
              "      <th>262</th>\n",
              "      <td>21</td>\n",
              "      <td>0.153846</td>\n",
              "      <td>салют выйти из сценария</td>\n",
              "      <td>лим</td>\n",
              "      <td>{'id': '44ed0337886cddb41cf995923acc1aca', 'au...</td>\n",
              "    </tr>\n",
              "    <tr>\n",
              "      <th>248</th>\n",
              "      <td>14</td>\n",
              "      <td>0.222222</td>\n",
              "      <td>салют остановить</td>\n",
              "      <td>а</td>\n",
              "      <td>{'id': '390ed807a936a72375677088533ed401', 'au...</td>\n",
              "    </tr>\n",
              "    <tr>\n",
              "      <th>907</th>\n",
              "      <td>71</td>\n",
              "      <td>0.314050</td>\n",
              "      <td>афина здравствуйте могу ли я разблокировать св...</td>\n",
              "      <td>бле надевдх хроче деления гораза</td>\n",
              "      <td>{'id': '7212cfa3f3339cf8ca710c89023c7fb2', 'au...</td>\n",
              "    </tr>\n",
              "    <tr>\n",
              "      <th>...</th>\n",
              "      <td>...</td>\n",
              "      <td>...</td>\n",
              "      <td>...</td>\n",
              "      <td>...</td>\n",
              "      <td>...</td>\n",
              "    </tr>\n",
              "    <tr>\n",
              "      <th>1877</th>\n",
              "      <td>3</td>\n",
              "      <td>0.949153</td>\n",
              "      <td>джой заверши данный видеозвонок</td>\n",
              "      <td>о заверши данный видеозвонок</td>\n",
              "      <td>{'id': '2c5c512e8ecd103424fcf903d7b100cf', 'au...</td>\n",
              "    </tr>\n",
              "    <tr>\n",
              "      <th>933</th>\n",
              "      <td>2</td>\n",
              "      <td>0.949153</td>\n",
              "      <td>салют почтовый индекс батурин</td>\n",
              "      <td>салют почтовый ен декс батурин</td>\n",
              "      <td>{'id': '0a44b030ecfcdae86b5849209e3cb457', 'au...</td>\n",
              "    </tr>\n",
              "    <tr>\n",
              "      <th>957</th>\n",
              "      <td>2</td>\n",
              "      <td>0.949153</td>\n",
              "      <td>сбер включай каналы конный мир</td>\n",
              "      <td>сбер включи каналы конный мир</td>\n",
              "      <td>{'id': 'a6f79e68bf27956d23b36efc67359168', 'au...</td>\n",
              "    </tr>\n",
              "    <tr>\n",
              "      <th>1074</th>\n",
              "      <td>3</td>\n",
              "      <td>0.949495</td>\n",
              "      <td>афина сделай звонок валентине викторовне карпенко</td>\n",
              "      <td>афина сделай звонок валентине викторовне картр...</td>\n",
              "      <td>{'id': 'c9b75c4492062b7c164a51bd5614c769', 'au...</td>\n",
              "    </tr>\n",
              "    <tr>\n",
              "      <th>787</th>\n",
              "      <td>4</td>\n",
              "      <td>0.949495</td>\n",
              "      <td>сбер сделай звонок валентине викторовне дворни...</td>\n",
              "      <td>бер сделай звонок валентине икторовне лорниковой</td>\n",
              "      <td>{'id': '71477f724a912010edc3d1a262114429', 'au...</td>\n",
              "    </tr>\n",
              "  </tbody>\n",
              "</table>\n",
              "<p>890 rows × 5 columns</p>\n",
              "</div>"
            ],
            "text/plain": [
              "      Levenshtein distance  ...                                               json\n",
              "214                     17  ...  {'id': '9cb1ddfff3548e93697c6c9128a9e758', 'au...\n",
              "499                     48  ...  {'id': '25d4ffa19eadcbae631eb4c42b660787', 'au...\n",
              "262                     21  ...  {'id': '44ed0337886cddb41cf995923acc1aca', 'au...\n",
              "248                     14  ...  {'id': '390ed807a936a72375677088533ed401', 'au...\n",
              "907                     71  ...  {'id': '7212cfa3f3339cf8ca710c89023c7fb2', 'au...\n",
              "...                    ...  ...                                                ...\n",
              "1877                     3  ...  {'id': '2c5c512e8ecd103424fcf903d7b100cf', 'au...\n",
              "933                      2  ...  {'id': '0a44b030ecfcdae86b5849209e3cb457', 'au...\n",
              "957                      2  ...  {'id': 'a6f79e68bf27956d23b36efc67359168', 'au...\n",
              "1074                     3  ...  {'id': 'c9b75c4492062b7c164a51bd5614c769', 'au...\n",
              "787                      4  ...  {'id': '71477f724a912010edc3d1a262114429', 'au...\n",
              "\n",
              "[890 rows x 5 columns]"
            ]
          },
          "execution_count": 21,
          "metadata": {},
          "output_type": "execute_result"
        }
      ]
    },
    {
      "cell_type": "code",
      "metadata": {
        "id": "VaavBcsn4nE8"
      },
      "source": [
        "with open(path_out, 'w+') as fout:\n",
        "  json.dump(metadata, fout)\n",
        "  fout.write('\\n')"
      ],
      "execution_count": null,
      "outputs": []
    },
    {
      "cell_type": "markdown",
      "metadata": {
        "id": "wUmq3p2Aw_5N"
      },
      "source": [
        "## Дообучение с помощью PyTorch Lightning\n"
      ]
    },
    {
      "cell_type": "markdown",
      "metadata": {
        "id": "dIiGjM386RWq"
      },
      "source": [
        "Конфигурация первой модели, которую будем дообучать (без чистки данных) \n"
      ]
    },
    {
      "cell_type": "code",
      "metadata": {
        "colab": {
          "base_uri": "https://localhost:8080/"
        },
        "id": "GUfR6tAK0k2u",
        "outputId": "6840d5f6-4829-45c0-c96c-ad82ea2c9745"
      },
      "source": [
        "import pytorch_lightning as pl\n",
        "#trainer = pl.Trainer(gpus=1, max_epochs=1, precision=16)\n",
        "trainer = pl.Trainer(gpus=1, max_epochs=1, precision=16) \n",
        "trained_asr_model = base_asr_model\n",
        "\n",
        "# trained_asr_model = nemo_asr.models.EncDecCTCModel.restore_from(os.path.join(data_dir, \"QuartzNet15x5_golos.nemo\"))\n",
        "\n",
        "params_model = trained_asr_model._cfg\n",
        "\n",
        "params_model['train_ds']['parser']='base'\n",
        "params_model['validation_ds']['parser']='base'\n",
        "params_model['test_ds']['parser']='base'\n",
        "params_model['train_ds']['manifest_filepath'] = train_manifest_abs_path\n",
        "params_model['train_ds']['batch_size']=16\n",
        "params_model['validation_ds']['manifest_filepath'] = test_manifest_abs_path\n",
        "params_model['validation_ds']['batch_size']=16\n",
        "params_model['test_ds']['manifest_filepath'] = test_manifest_abs_path\n",
        "params_model['test_ds']['batch_size']=16\n",
        "\n",
        "params_model['optim']['lr'] = 0.0001\n",
        "\n",
        "trained_asr_model.setup_optimization(optim_config=DictConfig(params_model['optim']))\n",
        "trained_asr_model.setup_training_data(train_data_config=params_model['train_ds'])\n",
        "trained_asr_model.setup_test_data(test_data_config=params_model['test_ds'])\n",
        "trained_asr_model.setup_validation_data(val_data_config=params_model['validation_ds'])"
      ],
      "execution_count": 23,
      "outputs": [
        {
          "output_type": "stream",
          "name": "stderr",
          "text": [
            "Using 16bit native Automatic Mixed Precision (AMP)\n",
            "GPU available: True, used: True\n",
            "TPU available: False, using: 0 TPU cores\n",
            "IPU available: False, using: 0 IPUs\n",
            "[NeMo W 2021-12-01 18:13:10 modelPT:453] Trainer wasn't specified in model constructor. Make sure that you really wanted it.\n"
          ]
        },
        {
          "output_type": "stream",
          "name": "stdout",
          "text": [
            "[NeMo I 2021-12-01 18:13:10 modelPT:561] Optimizer config = Novograd (\n",
            "    Parameter Group 0\n",
            "        amsgrad: False\n",
            "        betas: [0.9, 0.98]\n",
            "        eps: 1e-08\n",
            "        grad_averaging: False\n",
            "        lr: 0.0001\n",
            "        weight_decay: 0.001\n",
            "    )\n"
          ]
        },
        {
          "output_type": "stream",
          "name": "stderr",
          "text": [
            "[NeMo W 2021-12-01 18:13:10 lr_scheduler:732] Neither `max_steps` nor `iters_per_batch` were provided to `optim.sched`, cannot compute effective `max_steps` !\n",
            "    Scheduler will not be instantiated !\n"
          ]
        },
        {
          "output_type": "stream",
          "name": "stdout",
          "text": [
            "[NeMo I 2021-12-01 18:13:14 collections:173] Dataset loaded with 123995 files totalling 132.43 hours\n",
            "[NeMo I 2021-12-01 18:13:14 collections:174] 8 files were filtered totalling 0.03 hours\n"
          ]
        },
        {
          "output_type": "stream",
          "name": "stderr",
          "text": [
            "[NeMo W 2021-12-01 18:13:14 nemo_logging:349] /usr/local/lib/python3.7/dist-packages/torch/utils/data/dataloader.py:481: UserWarning: This DataLoader will create 20 worker processes in total. Our suggested max number of worker in current system is 2, which is smaller than what this DataLoader is going to create. Please be aware that excessive worker creation might get DataLoader running slow or even freeze, lower the worker number to avoid potential slowness/freeze if necessary.\n",
            "      cpuset_checked))\n",
            "    \n"
          ]
        },
        {
          "output_type": "stream",
          "name": "stdout",
          "text": [
            "[NeMo I 2021-12-01 18:13:14 collections:173] Dataset loaded with 1916 files totalling 1.41 hours\n",
            "[NeMo I 2021-12-01 18:13:14 collections:174] 0 files were filtered totalling 0.00 hours\n",
            "[NeMo I 2021-12-01 18:13:14 collections:173] Dataset loaded with 1916 files totalling 1.41 hours\n",
            "[NeMo I 2021-12-01 18:13:14 collections:174] 0 files were filtered totalling 0.00 hours\n"
          ]
        }
      ]
    },
    {
      "cell_type": "code",
      "metadata": {
        "colab": {
          "base_uri": "https://localhost:8080/",
          "height": 173,
          "referenced_widgets": [
            "d08b3cc9e9d847b8bb80eb038794d99f",
            "2bc2123b982f417db04def2e0ed5bf6a",
            "cad991023339433fbd86663baa9d9af1",
            "83d8d60a66ad45f0ae380e03920d0baf",
            "5d7d5cc70c8c41718c42a2220a39c731",
            "9c47b1895f414b2aba4306bc9fed9731",
            "5fe4b32d127843a6ab721171c41ecff6",
            "da73acc9a90c41b79f7fcac662f77288",
            "e3ff0f1bc5614b80ae24c4db90f8eb76",
            "95417a4bebc94984b7d28aa14a9444d7",
            "eafad944661d488ea33afc929884345b"
          ]
        },
        "id": "ie_TmNwKRHvO",
        "outputId": "5348a4a4-8a06-4706-e5f5-63006cbd483d"
      },
      "source": [
        "# files = [os.path.join(test_data_abs_path, '0043592661b915d774bc17e89fd695de.wav'),\n",
        "#          os.path.join(train_data_abs_path, '000140f4107fabaf6e5b58520b13a6f2.wav'),\n",
        "#          '/drive/MyDrive/nis_data/farfield_test/files/58b586f67f5e634506e215df5996b82e.wav']\n",
        "\n",
        "# trained_asr_model.transcribe(paths2audio_files=files)\n"
      ],
      "execution_count": null,
      "outputs": [
        {
          "output_type": "display_data",
          "data": {
            "application/vnd.jupyter.widget-view+json": {
              "model_id": "d08b3cc9e9d847b8bb80eb038794d99f",
              "version_minor": 0,
              "version_major": 2
            },
            "text/plain": [
              "Transcribing:   0%|          | 0/1 [00:00<?, ?it/s]"
            ]
          },
          "metadata": {}
        },
        {
          "output_type": "stream",
          "name": "stderr",
          "text": [
            "[NeMo W 2021-11-30 14:34:49 nemo_logging:349] /usr/local/lib/python3.7/dist-packages/nemo/collections/asr/parts/submodules/jasper.py:280: UserWarning: __floordiv__ is deprecated, and its behavior will change in a future version of pytorch. It currently rounds toward 0 (like the 'trunc' function NOT 'floor'). This results in incorrect rounding for negative values. To keep the current behavior, use torch.div(a, b, rounding_mode='trunc'), or for actual floor division, use torch.div(a, b, rounding_mode='floor').\n",
            "      ) // self.conv.stride[0] + 1\n",
            "    \n"
          ]
        },
        {
          "output_type": "execute_result",
          "data": {
            "text/plain": [
              "['салют сколько предприятий зявляются крезентами сбера',\n",
              " 'какая будет погода завтра утром',\n",
              " 'джой хватит']"
            ]
          },
          "metadata": {},
          "execution_count": 18
        }
      ]
    },
    {
      "cell_type": "markdown",
      "metadata": {
        "id": "hWtzwL5qXTYq"
      },
      "source": [
        "Начинаем обучение"
      ]
    },
    {
      "cell_type": "code",
      "metadata": {
        "colab": {
          "base_uri": "https://localhost:8080/",
          "height": 691,
          "referenced_widgets": [
            "0094e2975cc6400c9f14c5a554193bf2",
            "12374309db3a4bb8bc18422fbd196352",
            "137981a94ab242d69e5bfbc3732d1dc0",
            "178eafb8e9d54cbca466d77f43de8000",
            "ec68f97de082474685a0661922a1c9c7",
            "eff541e5251a4bcc92eae94cb60a48ac",
            "a542e62fca364fe0a50cbe3bca460f36",
            "888700697a4447c6956d40abb1e1553b",
            "122a709ab9604a28ba4c9a542c164998",
            "d14a97ee3ee041babb40592ce4b78bc2",
            "c7d214c3476b4b84a48e74df13efa238",
            "18d6684787fe4c52b8c30b1b21d5b8d7",
            "a0993084766e43b481da3fb5edd6fb58",
            "00eb198430564cd7b796fe156a10962e",
            "55ff8d4c26574e1dab35abd97ee87525",
            "93110c17b9cc4fa499bb72bce942c31d",
            "9dbdf11eefc942e783460fa21d0875c4",
            "0a2e4df157b2478792124223f064f1e7",
            "513f93eb99874feebdc5f74c2abc94a7",
            "98548da6d2a64216bcd83cbfe662ef59",
            "231b2f98b0144f51a4b504db83798fbf",
            "decde56281164cba94b53c0fc3ce72fa",
            "b559f4f2fbce421a895426c21b5e1d2a",
            "43e7cadaee784b1d9848cde6ab9f9ac0",
            "39a563851f1646d49c0ca3d7783a2add",
            "d68913b3b7074b9191ab2769454555ff",
            "bd60e86b6bf34702badabe55248f3c04",
            "4e5eda075b164264aefcf463070c6461",
            "f31e06ef321c468ca1e9ab38d904c3c7",
            "c622bf409c804ca7b4a88912a00a5186",
            "387a08b3229c4effb82973f794a06ef1",
            "6469866504e24855ae9b4d9c5917edc5",
            "2a903d3354c34c47bb6c8072b4abc9fb"
          ]
        },
        "id": "inRJsnrz1psq",
        "outputId": "597a57f0-4410-4955-e4eb-b72c2a04a2a2"
      },
      "source": [
        "trainer.fit(trained_asr_model)"
      ],
      "execution_count": 24,
      "outputs": [
        {
          "output_type": "stream",
          "name": "stderr",
          "text": [
            "LOCAL_RANK: 0 - CUDA_VISIBLE_DEVICES: [0]\n",
            "[NeMo W 2021-12-01 18:13:14 modelPT:453] Trainer wasn't specified in model constructor. Make sure that you really wanted it.\n"
          ]
        },
        {
          "output_type": "stream",
          "name": "stdout",
          "text": [
            "[NeMo I 2021-12-01 18:13:14 modelPT:561] Optimizer config = Novograd (\n",
            "    Parameter Group 0\n",
            "        amsgrad: False\n",
            "        betas: [0.9, 0.98]\n",
            "        eps: 1e-08\n",
            "        grad_averaging: False\n",
            "        lr: 0.0001\n",
            "        weight_decay: 0.001\n",
            "    )\n"
          ]
        },
        {
          "output_type": "stream",
          "name": "stderr",
          "text": [
            "[NeMo W 2021-12-01 18:13:14 lr_scheduler:732] Neither `max_steps` nor `iters_per_batch` were provided to `optim.sched`, cannot compute effective `max_steps` !\n",
            "    Scheduler will not be instantiated !\n",
            "\n",
            "  | Name              | Type                              | Params\n",
            "------------------------------------------------------------------------\n",
            "0 | preprocessor      | AudioToMelSpectrogramPreprocessor | 0     \n",
            "1 | encoder           | ConvASREncoder                    | 18.9 M\n",
            "2 | decoder           | ConvASRDecoder                    | 34.9 K\n",
            "3 | loss              | CTCLoss                           | 0     \n",
            "4 | spec_augmentation | SpectrogramAugmentation           | 0     \n",
            "5 | _wer              | WER                               | 0     \n",
            "------------------------------------------------------------------------\n",
            "18.9 M    Trainable params\n",
            "0         Non-trainable params\n",
            "18.9 M    Total params\n",
            "37.859    Total estimated model params size (MB)\n"
          ]
        },
        {
          "output_type": "display_data",
          "data": {
            "application/vnd.jupyter.widget-view+json": {
              "model_id": "0094e2975cc6400c9f14c5a554193bf2",
              "version_minor": 0,
              "version_major": 2
            },
            "text/plain": [
              "Validation sanity check: 0it [00:00, ?it/s]"
            ]
          },
          "metadata": {}
        },
        {
          "output_type": "stream",
          "name": "stderr",
          "text": [
            "[NeMo W 2021-12-01 18:13:15 nemo_logging:349] /usr/local/lib/python3.7/dist-packages/torch/utils/data/dataloader.py:481: UserWarning: This DataLoader will create 20 worker processes in total. Our suggested max number of worker in current system is 2, which is smaller than what this DataLoader is going to create. Please be aware that excessive worker creation might get DataLoader running slow or even freeze, lower the worker number to avoid potential slowness/freeze if necessary.\n",
            "      cpuset_checked))\n",
            "    \n",
            "[NeMo E 2021-12-01 18:13:22 segment:156] Loading /drive/MyDrive/nis_data/farfield_test/files/5463033113ec14d87ac2e357ef1b8dcb.wav via SoundFile raised RuntimeError: `Error opening '/drive/MyDrive/nis_data/farfield_test/files/5463033113ec14d87ac2e357ef1b8dcb.wav': System error.`. NeMo will fallback to loading via pydub.\n",
            "[NeMo W 2021-12-01 18:13:23 nemo_logging:349] /usr/local/lib/python3.7/dist-packages/nemo/collections/asr/parts/submodules/jasper.py:280: UserWarning: __floordiv__ is deprecated, and its behavior will change in a future version of pytorch. It currently rounds toward 0 (like the 'trunc' function NOT 'floor'). This results in incorrect rounding for negative values. To keep the current behavior, use torch.div(a, b, rounding_mode='trunc'), or for actual floor division, use torch.div(a, b, rounding_mode='floor').\n",
            "      ) // self.conv.stride[0] + 1\n",
            "    \n"
          ]
        },
        {
          "output_type": "display_data",
          "data": {
            "application/vnd.jupyter.widget-view+json": {
              "model_id": "18d6684787fe4c52b8c30b1b21d5b8d7",
              "version_minor": 0,
              "version_major": 2
            },
            "text/plain": [
              "Training: 0it [00:00, ?it/s]"
            ]
          },
          "metadata": {}
        },
        {
          "output_type": "display_data",
          "data": {
            "application/vnd.jupyter.widget-view+json": {
              "model_id": "b559f4f2fbce421a895426c21b5e1d2a",
              "version_minor": 0,
              "version_major": 2
            },
            "text/plain": [
              "Validating: 0it [00:00, ?it/s]"
            ]
          },
          "metadata": {}
        }
      ]
    },
    {
      "cell_type": "code",
      "metadata": {
        "id": "krbqyDPfHLIF",
        "colab": {
          "base_uri": "https://localhost:8080/"
        },
        "outputId": "9593d72f-d5a3-45c9-f1d8-7ba2c3687ad6"
      },
      "source": [
        "calc_wer(trained_asr_model) "
      ],
      "execution_count": 25,
      "outputs": [
        {
          "output_type": "stream",
          "name": "stderr",
          "text": [
            "[NeMo W 2021-12-01 22:05:02 nemo_logging:349] /usr/local/lib/python3.7/dist-packages/nemo/collections/asr/parts/submodules/jasper.py:280: UserWarning: __floordiv__ is deprecated, and its behavior will change in a future version of pytorch. It currently rounds toward 0 (like the 'trunc' function NOT 'floor'). This results in incorrect rounding for negative values. To keep the current behavior, use torch.div(a, b, rounding_mode='trunc'), or for actual floor division, use torch.div(a, b, rounding_mode='floor').\n",
            "      ) // self.conv.stride[0] + 1\n",
            "    \n"
          ]
        },
        {
          "output_type": "stream",
          "name": "stdout",
          "text": [
            "WER модели = 0.5329277022190408\n"
          ]
        },
        {
          "output_type": "execute_result",
          "data": {
            "text/plain": [
              "0.5329277022190408"
            ]
          },
          "metadata": {},
          "execution_count": 25
        }
      ]
    },
    {
      "cell_type": "code",
      "metadata": {
        "id": "hUka2s1FSLvB"
      },
      "source": [
        "trained_asr_model.save_to('/drive/MyDrive/nis_data/first_trained_model.nemo')"
      ],
      "execution_count": 26,
      "outputs": []
    },
    {
      "cell_type": "code",
      "metadata": {
        "id": "LTP1U66KSngB"
      },
      "source": [
        ""
      ],
      "execution_count": null,
      "outputs": []
    }
  ]
}