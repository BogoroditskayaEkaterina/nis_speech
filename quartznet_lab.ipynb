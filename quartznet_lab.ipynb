{
 "cells": [
  {
   "cell_type": "markdown",
   "id": "f653958e-14a2-499a-b64f-dff712e535d8",
   "metadata": {},
   "source": [
    "# Файнтюн QuartzNet на Farfield"
   ]
  },
  {
   "cell_type": "markdown",
   "id": "727c5e94-0a25-48f5-a0e6-8e475665b15f",
   "metadata": {
    "tags": []
   },
   "source": [
    "## Установка либ"
   ]
  },
  {
   "cell_type": "code",
   "execution_count": 14,
   "id": "9a0f3800-1abe-4817-a805-7e6bcb4fd5b4",
   "metadata": {
    "tags": []
   },
   "outputs": [
    {
     "name": "stdout",
     "output_type": "stream",
     "text": [
      "Reading package lists... Done\n",
      "Building dependency tree       \n",
      "Reading state information... Done\n",
      "build-essential is already the newest version (12.4ubuntu1).\n",
      "gcc is already the newest version (4:7.4.0-1ubuntu2.3).\n",
      "git is already the newest version (1:2.17.1-1ubuntu0.9).\n",
      "libsndfile1 is already the newest version (1.0.28-4ubuntu0.18.04.2).\n",
      "python3-dev is already the newest version (3.6.7-1~18.04).\n",
      "unzip is already the newest version (6.0-21ubuntu1.1).\n",
      "wget is already the newest version (1.19.4-1ubuntu2.2).\n",
      "ffmpeg is already the newest version (7:3.4.8-0ubuntu0.2).\n",
      "sox is already the newest version (14.4.2-3ubuntu0.18.04.1).\n",
      "0 upgraded, 0 newly installed, 0 to remove and 1 not upgraded.\n"
     ]
    }
   ],
   "source": [
    "!apt install git wget unzip python3-dev build-essential gcc sox libsndfile1 ffmpeg -y\n",
    "!pip install -q wandb nemo_toolkit[all]"
   ]
  },
  {
   "cell_type": "code",
   "execution_count": 16,
   "id": "dec77d82-ac06-4e3f-91c1-8a6acfcfd6ec",
   "metadata": {},
   "outputs": [],
   "source": [
    "!git clone https://github.com/NVIDIA/apex\n",
    "!cd apex && pip install -v --disable-pip-version-check --no-cache-dir --global-option=\"--cpp_ext\" ./"
   ]
  },
  {
   "cell_type": "markdown",
   "id": "2de2468b-e6ab-47d5-8831-de30f13b6584",
   "metadata": {},
   "source": [
    "## Подгрузка трейна/теста (с манифестами) и модели"
   ]
  },
  {
   "cell_type": "code",
   "execution_count": 14,
   "id": "36bc52e5-c93b-45c8-819b-e291e605059d",
   "metadata": {},
   "outputs": [
    {
     "name": "stdout",
     "output_type": "stream",
     "text": [
      "--2021-11-30 13:59:34--  https://sc.link/Kqr\n",
      "Resolving sc.link (sc.link)... 45.89.227.39\n",
      "Connecting to sc.link (sc.link)|45.89.227.39|:443... connected.\n",
      "HTTP request sent, awaiting response... 302 Found\n",
      "Location: https://n-ws-3jtx8.s3pd02.sbercloud.ru/b-ws-3jtx8-eir/golos/test.tar [following]\n",
      "--2021-11-30 13:59:34--  https://n-ws-3jtx8.s3pd02.sbercloud.ru/b-ws-3jtx8-eir/golos/test.tar\n",
      "Resolving n-ws-3jtx8.s3pd02.sbercloud.ru (n-ws-3jtx8.s3pd02.sbercloud.ru)... 37.18.122.129\n",
      "Connecting to n-ws-3jtx8.s3pd02.sbercloud.ru (n-ws-3jtx8.s3pd02.sbercloud.ru)|37.18.122.129|:443... connected.\n",
      "HTTP request sent, awaiting response... 200 OK\n",
      "Length: 1628508160 (1.5G) [application/octet-stream]\n",
      "Saving to: ‘test.tar’\n",
      "\n",
      "test.tar            100%[===================>]   1.52G  27.5MB/s    in 50s     \n",
      "\n",
      "2021-11-30 14:00:24 (31.3 MB/s) - ‘test.tar’ saved [1628508160/1628508160]\n",
      "\n"
     ]
    }
   ],
   "source": [
    "!wget 'https://sc.link/Kqr' -O 'test.tar'"
   ]
  },
  {
   "cell_type": "code",
   "execution_count": 15,
   "id": "e1eed68c-602d-4ef3-98ff-01b6d7c6325f",
   "metadata": {},
   "outputs": [
    {
     "name": "stdout",
     "output_type": "stream",
     "text": [
      "--2021-11-30 14:00:46--  https://sc.link/1Z3\n",
      "Resolving sc.link (sc.link)... 45.89.227.39\n",
      "Connecting to sc.link (sc.link)|45.89.227.39|:443... connected.\n",
      "HTTP request sent, awaiting response... 302 Found\n",
      "Location: https://n-ws-3jtx8.s3pd02.sbercloud.ru/b-ws-3jtx8-eir/golos/train_farfield.tar [following]\n",
      "--2021-11-30 14:00:47--  https://n-ws-3jtx8.s3pd02.sbercloud.ru/b-ws-3jtx8-eir/golos/train_farfield.tar\n",
      "Resolving n-ws-3jtx8.s3pd02.sbercloud.ru (n-ws-3jtx8.s3pd02.sbercloud.ru)... 37.18.122.129\n",
      "Connecting to n-ws-3jtx8.s3pd02.sbercloud.ru (n-ws-3jtx8.s3pd02.sbercloud.ru)|37.18.122.129|:443... connected.\n",
      "HTTP request sent, awaiting response... 200 OK\n",
      "Length: 15360092160 (14G) [application/octet-stream]\n",
      "Saving to: ‘train.tar’\n",
      "\n",
      "train.tar           100%[===================>]  14.30G  45.6MB/s    in 7m 19s  \n",
      "\n",
      "2021-11-30 14:08:07 (33.4 MB/s) - ‘train.tar’ saved [15360092160/15360092160]\n",
      "\n"
     ]
    }
   ],
   "source": [
    "!wget 'https://sc.link/1Z3' -O 'train.tar'"
   ]
  },
  {
   "cell_type": "code",
   "execution_count": 16,
   "id": "4d81307a-2f1a-4f4d-94f7-7a62abec3835",
   "metadata": {},
   "outputs": [
    {
     "name": "stdout",
     "output_type": "stream",
     "text": [
      "--2021-11-30 14:09:00--  https://github.com/karpnv/nis_speech/raw/master/train_manifest.jsonl.zip\n",
      "Resolving github.com (github.com)... 140.82.121.3\n",
      "Connecting to github.com (github.com)|140.82.121.3|:443... connected.\n",
      "HTTP request sent, awaiting response... 302 Found\n",
      "Location: https://raw.githubusercontent.com/karpnv/nis_speech/master/train_manifest.jsonl.zip [following]\n",
      "--2021-11-30 14:09:01--  https://raw.githubusercontent.com/karpnv/nis_speech/master/train_manifest.jsonl.zip\n",
      "Resolving raw.githubusercontent.com (raw.githubusercontent.com)... 185.199.108.133, 185.199.110.133, 185.199.109.133, ...\n",
      "Connecting to raw.githubusercontent.com (raw.githubusercontent.com)|185.199.108.133|:443... connected.\n",
      "HTTP request sent, awaiting response... 200 OK\n",
      "Length: 52145788 (50M) [application/zip]\n",
      "Saving to: ‘train_manifest.jsonl.zip’\n",
      "\n",
      "train_manifest.json 100%[===================>]  49.73M  62.4MB/s    in 0.8s    \n",
      "\n",
      "2021-11-30 14:09:03 (62.4 MB/s) - ‘train_manifest.jsonl.zip’ saved [52145788/52145788]\n",
      "\n"
     ]
    }
   ],
   "source": [
    "!wget 'https://github.com/karpnv/nis_speech/raw/master/train_manifest.jsonl.zip' -O 'train_manifest.jsonl.zip'"
   ]
  },
  {
   "cell_type": "code",
   "execution_count": 67,
   "id": "b51c7511-e0c8-4625-9fd3-b3e855ef3e42",
   "metadata": {},
   "outputs": [
    {
     "name": "stdout",
     "output_type": "stream",
     "text": [
      "--2021-11-30 14:47:33--  https://sc.link/ZMv\n",
      "Resolving sc.link (sc.link)... 45.89.227.39\n",
      "Connecting to sc.link (sc.link)|45.89.227.39|:443... connected.\n",
      "HTTP request sent, awaiting response... 302 Found\n",
      "Location: https://n-ws-3jtx8.s3pd02.sbercloud.ru/b-ws-3jtx8-eir/golos/QuartzNet15x5_golos.nemo [following]\n",
      "--2021-11-30 14:47:33--  https://n-ws-3jtx8.s3pd02.sbercloud.ru/b-ws-3jtx8-eir/golos/QuartzNet15x5_golos.nemo\n",
      "Resolving n-ws-3jtx8.s3pd02.sbercloud.ru (n-ws-3jtx8.s3pd02.sbercloud.ru)... 37.18.122.129\n",
      "Connecting to n-ws-3jtx8.s3pd02.sbercloud.ru (n-ws-3jtx8.s3pd02.sbercloud.ru)|37.18.122.129|:443... connected.\n",
      "HTTP request sent, awaiting response... 200 OK\n",
      "Length: 71179174 (68M) [application/octet-stream]\n",
      "Saving to: ‘asr/quartznet_golos.nemo’\n",
      "\n",
      "asr/quartznet_golos 100%[===================>]  67.88M  63.8MB/s    in 1.1s    \n",
      "\n",
      "2021-11-30 14:47:34 (63.8 MB/s) - ‘asr/quartznet_golos.nemo’ saved [71179174/71179174]\n",
      "\n"
     ]
    }
   ],
   "source": [
    "!wget 'https://sc.link/ZMv' -O 'asr/quartznet_golos.nemo'"
   ]
  },
  {
   "cell_type": "markdown",
   "id": "5c026c79-f184-45af-becc-6ee51cf7d021",
   "metadata": {},
   "source": [
    "## Распаковка и обработка данных и манифестов"
   ]
  },
  {
   "cell_type": "code",
   "execution_count": 17,
   "id": "55973850-0422-4b2e-b0f7-9a831e5c6d0d",
   "metadata": {},
   "outputs": [],
   "source": [
    "!mkdir asr"
   ]
  },
  {
   "cell_type": "code",
   "execution_count": 19,
   "id": "13aca643-85ed-48ac-8748-ad1ef6452d30",
   "metadata": {},
   "outputs": [],
   "source": [
    "# распакуем все данные\n",
    "!tar -xf train.tar --directory=asr && tar -xf test.tar --directory=asr && rm -rf asr/test/crowd"
   ]
  },
  {
   "cell_type": "code",
   "execution_count": 30,
   "id": "d3f50d1b-f62c-4d4d-8c33-63c016173e75",
   "metadata": {},
   "outputs": [
    {
     "name": "stdout",
     "output_type": "stream",
     "text": [
      "Archive:  train_manifest.jsonl.zip\n",
      "  inflating: asr/train_manifest.jsonl  \n"
     ]
    }
   ],
   "source": [
    "# оставляем только строки манифеста, относящиеся к farfield подвыборке\n",
    "!unzip train_manifest.jsonl.zip -d asr/train && cat asr/train/train_manifest.jsonl | grep farfield/ >> asr/train/train_farfield.jsonl "
   ]
  },
  {
   "cell_type": "code",
   "execution_count": 60,
   "id": "aaa4d0f5-8ba7-4134-aed0-2eb603adede3",
   "metadata": {},
   "outputs": [
    {
     "name": "stdout",
     "output_type": "stream",
     "text": [
      "{\"id\": \"855e01d6ba9a4aa59950d62037b87709\", \"audio_filepath\": \"farfield/855e01d6ba9a4aa59950d62037b87709.wav\", \"text\": \"\\u0430\\u0444\\u0438\\u043d\\u0430 \\u0445\\u043e\\u0442\\u0435\\u043b\\u0430 \\u043d\\u043e\\u043c\\u0435\\u0440 \\u0442\\u0435\\u043b\\u0435\\u0444\\u043e\\u043d\\u0430 \\u043f\\u043e\\u043c\\u0435\\u043d\\u044f\\u0442\\u044c \\u043a\\u0430\\u0440\\u0442\\u044b\", \"duration\": 5.4596875}\n"
     ]
    }
   ],
   "source": [
    "!head -1 asr/train/train_farfield.jsonl"
   ]
  },
  {
   "cell_type": "code",
   "execution_count": 59,
   "id": "88cfd33b-c2e3-4399-96c0-86e8e826dd45",
   "metadata": {},
   "outputs": [
    {
     "name": "stdout",
     "output_type": "stream",
     "text": [
      "{\"id\": \"58b586f67f5e634506e215df5996b82e\", \"audio_filepath\": \"files/58b586f67f5e634506e215df5996b82e.wav\", \"text\": \"\\u0434\\u0436\\u043e\\u0439 \\u0445\\u0432\\u0430\\u0442\\u0438\\u0442\", \"duration\": 1.696625}\n"
     ]
    }
   ],
   "source": [
    "!head -1 asr/test/farfield/manifest.jsonl"
   ]
  },
  {
   "cell_type": "code",
   "execution_count": 65,
   "id": "d7763077-c734-441e-949e-97d8ad5ed5c2",
   "metadata": {},
   "outputs": [],
   "source": [
    "!rm -f train.tar test.tar train_manifest.jsonl.zip  # удалим ненужные файлы\n",
    "!rm -f asr/train/train_manifest.jsonl  # полная версия трейн манифеста больше не нужна"
   ]
  },
  {
   "cell_type": "code",
   "execution_count": 1,
   "id": "02095608-7452-40a3-a35d-9cadf61a443c",
   "metadata": {},
   "outputs": [],
   "source": [
    "import glob\n",
    "import re\n",
    "import json\n",
    "import os\n",
    "import subprocess\n",
    "import tarfile"
   ]
  },
  {
   "cell_type": "code",
   "execution_count": 2,
   "id": "59dac66b-3965-4450-bba3-521e152fd65e",
   "metadata": {},
   "outputs": [],
   "source": [
    "data_dir = 'asr'"
   ]
  },
  {
   "cell_type": "code",
   "execution_count": 3,
   "id": "28b88e8d-13f7-4771-9004-d081e6327b05",
   "metadata": {},
   "outputs": [
    {
     "name": "stdout",
     "output_type": "stream",
     "text": [
      "******\n",
      "train_manifest: asr/train/train.jsonl\n",
      "test_manifest: asr/test/test.jsonl\n"
     ]
    }
   ],
   "source": [
    "# немного изменил функцию для обработки трейн манифеста\n",
    "# фильтрую сэмплы из трейн сета, в которых меньше 2 символов (потенциально может быть только шум)\n",
    "# фильтрую так же сэмплы длительностью меньше 0.15 секунд, это тоже мусор, даже короткое \"ок\" занимает больше времени при произнесении\n",
    "# фильтрую все сэмплы, в которых нет кириллических букв (а вдруг)\n",
    "\n",
    "def build_manifest(manifest_rel, manifest_abs, train=False):\n",
    "    manifest_path = os.path.split(os.path.abspath(manifest_rel))[0]\n",
    "    with open(manifest_rel, 'r') as fin:\n",
    "        with open(manifest_abs, 'w') as fout:\n",
    "            \n",
    "            for line in fin:\n",
    "                metadata = json.loads(line)\n",
    "                \n",
    "                if train and (\n",
    "                    metadata[\"duration\"] < 0.15 or \n",
    "                    len(metadata[\"text\"]) < 2 or\n",
    "                    re.match(r\"[^А-ЯЁа-яё]+\", metadata[\"text\"])\n",
    "                ):\n",
    "                    continue\n",
    "                    \n",
    "                metadata[\"audio_filepath\"] = os.path.join(manifest_path, metadata[\"audio_filepath\"])\n",
    "                json.dump(metadata, fout)\n",
    "                \n",
    "                fout.write('\\n')\n",
    "                \n",
    "# Обработка манифестов\n",
    "print(\"******\")\n",
    "\n",
    "train_rel = os.path.join(data_dir, 'train/train_farfield.jsonl')\n",
    "train_abs = os.path.join(data_dir, 'train/train.jsonl')\n",
    "\n",
    "if not os.path.isfile(train_abs):\n",
    "    build_manifest(train_rel, train_abs, train=True)\n",
    "\n",
    "train_manifest = train_abs\n",
    "print(\"train_manifest:\", train_manifest)\n",
    "\n",
    "test_rel = os.path.join(data_dir, 'test/farfield/manifest.jsonl')\n",
    "test_abs = os.path.join(data_dir, 'test/test.jsonl')\n",
    "\n",
    "if not os.path.isfile(test_abs):\n",
    "    build_manifest(test_rel, test_abs)\n",
    "    \n",
    "test_manifest = test_abs\n",
    "print(\"test_manifest:\", test_manifest)"
   ]
  },
  {
   "cell_type": "markdown",
   "id": "318f4dc7-aa37-4108-8162-ef2f008706cf",
   "metadata": {
    "tags": []
   },
   "source": [
    "## Импорты для работы с моделью"
   ]
  },
  {
   "cell_type": "code",
   "execution_count": 4,
   "id": "ea683567-b04c-4424-ad89-30cf67a900b7",
   "metadata": {
    "tags": []
   },
   "outputs": [],
   "source": [
    "import os\n",
    "import copy\n",
    "from pprint import pprint\n",
    "\n",
    "from omegaconf import DictConfig\n",
    "\n",
    "import nemo\n",
    "import nemo.collections.asr as nemo_asr\n",
    "\n",
    "import torch\n",
    "import pytorch_lightning as pl\n",
    "from pytorch_lightning.callbacks.early_stopping import EarlyStopping\n",
    "from pytorch_lightning.loggers import WandbLogger\n",
    "from pytorch_lightning.callbacks import DeviceStatsMonitor"
   ]
  },
  {
   "cell_type": "code",
   "execution_count": 5,
   "id": "c0bda195-cbe9-4464-bf5c-cf574f1c34b0",
   "metadata": {},
   "outputs": [],
   "source": [
    "os.environ[\"WANDB_API_KEY\"] = \"9b760e6f21b3d1121a980917c81a20c31ce61161\"\n",
    "# os.environ[\"WANDB_API_KEY\"] = \"****************************************\"\n",
    "os.environ[\"WANDB_MODE\"] = \"online\""
   ]
  },
  {
   "cell_type": "markdown",
   "id": "649d20d6-783a-4091-8b0f-dda58f4ecf0f",
   "metadata": {},
   "source": [
    "## Подготовка данных для обучения моделей и настройка параметров модели"
   ]
  },
  {
   "cell_type": "code",
   "execution_count": 6,
   "id": "9281a152-24e4-4433-84f7-f17e4ab26455",
   "metadata": {
    "tags": []
   },
   "outputs": [
    {
     "name": "stderr",
     "output_type": "stream",
     "text": [
      "Using 16bit native Automatic Mixed Precision (AMP)\n",
      "GPU available: True, used: True\n",
      "TPU available: False, using: 0 TPU cores\n",
      "IPU available: False, using: 0 IPUs\n"
     ]
    }
   ],
   "source": [
    "# early stopping в нашем случае можно не использовать, отслеживаю все по wandb и остановлю при надобности\n",
    "\n",
    "logger = WandbLogger(project=\"QuartzNet\", log_model=\"all\")\n",
    "\n",
    "trainer = pl.Trainer(\n",
    "    gpus=1,\n",
    "    max_epochs=2,\n",
    "    val_check_interval=0.1,\n",
    "    auto_lr_find=True,\n",
    "    auto_scale_batch_size=\"binsearch\",\n",
    "    enable_checkpointing=True,\n",
    "    precision=16,\n",
    "    logger=logger\n",
    ")"
   ]
  },
  {
   "cell_type": "code",
   "execution_count": 27,
   "id": "ddc8fc60-7d4c-4609-8be9-cfcf2fd46fe2",
   "metadata": {
    "tags": []
   },
   "outputs": [],
   "source": [
    "# заглушил вывод при загрузке ноутбука, чтобы было легче его читать\n",
    "asr_model = nemo_asr.models.EncDecCTCModel.restore_from(os.path.join(data_dir, \"quartznet_golos.nemo\"))"
   ]
  },
  {
   "cell_type": "code",
   "execution_count": 31,
   "id": "152d74fc-1445-438e-acbb-2fb6df0cb59a",
   "metadata": {},
   "outputs": [],
   "source": [
    "params_model = asr_model._cfg\n",
    "\n",
    "params_model['train_ds']['parser'] = 'base'\n",
    "params_model['validation_ds']['parser'] = 'base'\n",
    "params_model['test_ds']['parser'] = 'base'\n",
    "\n",
    "\n",
    "params_model['train_ds']['manifest_filepath'] = train_manifest\n",
    "params_model['validation_ds']['manifest_filepath'] = test_manifest\n",
    "params_model['test_ds']['manifest_filepath'] = test_manifest\n",
    "\n",
    "params_model['train_ds']['batch_size'] = 32\n",
    "params_model['validation_ds']['batch_size'] = 32\n",
    "params_model['test_ds']['batch_size'] = 32\n",
    "\n",
    "# источник: https://arxiv.org/pdf/2005.04290.pdf\n",
    "params_model[\"optim\"][\"sched\"][\"warmup_ratio\"] = 0.12\n",
    "params_model[\"optim\"][\"sched\"][\"warmup_steps\"] = None\n",
    "params_model[\"optim\"][\"lr\"] = 0.0005"
   ]
  },
  {
   "cell_type": "code",
   "execution_count": 32,
   "id": "9b31103e-2608-412f-bb62-39e18b3d029e",
   "metadata": {},
   "outputs": [],
   "source": [
    "params_asr = copy.deepcopy(params_model)"
   ]
  },
  {
   "cell_type": "code",
   "execution_count": 33,
   "id": "1b1604f3-7f65-4c40-b03e-044d34fd4550",
   "metadata": {
    "tags": []
   },
   "outputs": [
    {
     "name": "stdout",
     "output_type": "stream",
     "text": [
      "[NeMo I 2021-11-30 18:01:48 collections:173] Dataset loaded with 116348 files totalling 124.92 hours\n",
      "[NeMo I 2021-11-30 18:01:48 collections:174] 3 files were filtered totalling 0.02 hours\n",
      "[NeMo I 2021-11-30 18:01:48 collections:173] Dataset loaded with 1916 files totalling 1.41 hours\n",
      "[NeMo I 2021-11-30 18:01:48 collections:174] 0 files were filtered totalling 0.00 hours\n",
      "[NeMo I 2021-11-30 18:01:48 collections:173] Dataset loaded with 1916 files totalling 1.41 hours\n",
      "[NeMo I 2021-11-30 18:01:48 collections:174] 0 files were filtered totalling 0.00 hours\n"
     ]
    }
   ],
   "source": [
    "asr_model.setup_training_data(train_data_config=params_model['train_ds'])\n",
    "asr_model.setup_validation_data(val_data_config=params_model['validation_ds'])\n",
    "asr_model.setup_test_data(test_data_config=params_model['test_ds'])\n",
    "\n",
    "asr_model.set_trainer(trainer)"
   ]
  },
  {
   "cell_type": "code",
   "execution_count": 35,
   "id": "07895c0f-43c5-4379-a96a-b760c28e54b1",
   "metadata": {
    "tags": []
   },
   "outputs": [],
   "source": [
    "# заглушил вывод\n",
    "asr_model.setup_optimization(optim_config=DictConfig(params_asr[\"optim\"]))"
   ]
  },
  {
   "cell_type": "markdown",
   "id": "0dd79dd1-354a-41f9-a84a-9246b3e18670",
   "metadata": {},
   "source": [
    "## Обучение модели"
   ]
  },
  {
   "cell_type": "code",
   "execution_count": 36,
   "id": "380b2941-beb7-4f8a-83b6-fa947d000269",
   "metadata": {
    "tags": []
   },
   "outputs": [
    {
     "name": "stderr",
     "output_type": "stream",
     "text": [
      "[NeMo W 2021-11-30 18:01:57 patch_utils:50] torch.stft() signature has been updated for PyTorch 1.7+\n",
      "    Please update PyTorch to remain compatible with later versions of NeMo.\n",
      "[NeMo W 2021-11-30 18:01:58 nemo_logging:349] /opt/conda/lib/python3.7/site-packages/nemo/collections/asr/parts/submodules/jasper.py:280: UserWarning: __floordiv__ is deprecated, and its behavior will change in a future version of pytorch. It currently rounds toward 0 (like the 'trunc' function NOT 'floor'). This results in incorrect rounding for negative values. To keep the current behavior, use torch.div(a, b, rounding_mode='trunc'), or for actual floor division, use torch.div(a, b, rounding_mode='floor').\n",
      "      ) // self.conv.stride[0] + 1\n",
      "    \n"
     ]
    },
    {
     "name": "stdout",
     "output_type": "stream",
     "text": [
      "WER = 0.6023622047244095\n"
     ]
    }
   ],
   "source": [
    "# результаты предобученной модели на тест-сете без файнтюна\n",
    "\n",
    "asr_model.cuda()\n",
    "\n",
    "wer_nums = []\n",
    "wer_denoms = []\n",
    "\n",
    "for test_batch in asr_model.test_dataloader():\n",
    "    test_batch = [x.cuda() for x in test_batch]\n",
    "    targets = test_batch[2]\n",
    "    targets_lengths = test_batch[3]        \n",
    "    log_probs, encoded_len, greedy_predictions = asr_model(\n",
    "        input_signal=test_batch[0], input_signal_length=test_batch[1]\n",
    "    )\n",
    "    asr_model._wer.update(greedy_predictions, targets, targets_lengths)\n",
    "    _, wer_num, wer_denom = asr_model._wer.compute()\n",
    "    asr_model._wer.reset()\n",
    "    wer_nums.append(wer_num.detach().cpu().numpy())\n",
    "    wer_denoms.append(wer_denom.detach().cpu().numpy())\n",
    "\n",
    "    del test_batch, log_probs, targets, targets_lengths, encoded_len, greedy_predictions\n",
    "\n",
    "print(f\"WER = {sum(wer_nums) / sum(wer_denoms)}\")"
   ]
  },
  {
   "cell_type": "code",
   "execution_count": 37,
   "id": "9d65eaca-aff2-4318-ab91-77b7b9486c20",
   "metadata": {},
   "outputs": [
    {
     "name": "stderr",
     "output_type": "stream",
     "text": [
      "LOCAL_RANK: 0 - CUDA_VISIBLE_DEVICES: [0]\n",
      "LOCAL_RANK: 0 - CUDA_VISIBLE_DEVICES: [0]\n",
      "LOCAL_RANK: 0 - CUDA_VISIBLE_DEVICES: [0]\n",
      "[NeMo W 2021-11-30 18:02:12 modelPT:471] The lightning trainer received accelerator: <pytorch_lightning.accelerators.gpu.GPUAccelerator object at 0x7f214a583d10>. We recommend to use 'ddp' instead.\n"
     ]
    },
    {
     "name": "stdout",
     "output_type": "stream",
     "text": [
      "[NeMo I 2021-11-30 18:02:12 modelPT:561] Optimizer config = Novograd (\n",
      "    Parameter Group 0\n",
      "        amsgrad: False\n",
      "        betas: [0.9, 0.98]\n",
      "        eps: 1e-08\n",
      "        grad_averaging: False\n",
      "        lr: 0.0005\n",
      "        weight_decay: 0.001\n",
      "    )\n",
      "[NeMo I 2021-11-30 18:02:12 lr_scheduler:752] Scheduler \"<nemo.core.optim.lr_scheduler.CosineAnnealing object at 0x7f21477d0910>\" \n",
      "    will be used during training (effective maximum steps = 7272) - \n",
      "    Parameters : \n",
      "    (warmup_steps: null\n",
      "    warmup_ratio: 0.12\n",
      "    min_lr: 0.0\n",
      "    last_epoch: -1\n",
      "    max_steps: 7272\n",
      "    )\n"
     ]
    },
    {
     "name": "stderr",
     "output_type": "stream",
     "text": [
      "\u001b[34m\u001b[1mwandb\u001b[0m: Currently logged in as: \u001b[33masbabiy\u001b[0m (use `wandb login --relogin` to force relogin)\n"
     ]
    },
    {
     "data": {
      "text/html": [
       "\n",
       "                    Syncing run <strong><a href=\"https://wandb.ai/asbabiy/QuartzNet/runs/235ulhvu\" target=\"_blank\">pretty-lake-2</a></strong> to <a href=\"https://wandb.ai/asbabiy/QuartzNet\" target=\"_blank\">Weights & Biases</a> (<a href=\"https://docs.wandb.com/integrations/jupyter.html\" target=\"_blank\">docs</a>).<br/>\n",
       "\n",
       "                "
      ],
      "text/plain": [
       "<IPython.core.display.HTML object>"
      ]
     },
     "metadata": {},
     "output_type": "display_data"
    },
    {
     "name": "stderr",
     "output_type": "stream",
     "text": [
      "\n",
      "  | Name              | Type                              | Params\n",
      "------------------------------------------------------------------------\n",
      "0 | preprocessor      | AudioToMelSpectrogramPreprocessor | 0     \n",
      "1 | encoder           | ConvASREncoder                    | 18.9 M\n",
      "2 | decoder           | ConvASRDecoder                    | 34.9 K\n",
      "3 | loss              | CTCLoss                           | 0     \n",
      "4 | spec_augmentation | SpectrogramAugmentation           | 0     \n",
      "5 | _wer              | WER                               | 0     \n",
      "------------------------------------------------------------------------\n",
      "18.9 M    Trainable params\n",
      "0         Non-trainable params\n",
      "18.9 M    Total params\n",
      "37.859    Total estimated model params size (MB)\n",
      "\n",
      "  | Name              | Type                              | Params\n",
      "------------------------------------------------------------------------\n",
      "0 | preprocessor      | AudioToMelSpectrogramPreprocessor | 0     \n",
      "1 | encoder           | ConvASREncoder                    | 18.9 M\n",
      "2 | decoder           | ConvASRDecoder                    | 34.9 K\n",
      "3 | loss              | CTCLoss                           | 0     \n",
      "4 | spec_augmentation | SpectrogramAugmentation           | 0     \n",
      "5 | _wer              | WER                               | 0     \n",
      "------------------------------------------------------------------------\n",
      "18.9 M    Trainable params\n",
      "0         Non-trainable params\n",
      "18.9 M    Total params\n",
      "37.859    Total estimated model params size (MB)\n",
      "\n",
      "  | Name              | Type                              | Params\n",
      "------------------------------------------------------------------------\n",
      "0 | preprocessor      | AudioToMelSpectrogramPreprocessor | 0     \n",
      "1 | encoder           | ConvASREncoder                    | 18.9 M\n",
      "2 | decoder           | ConvASRDecoder                    | 34.9 K\n",
      "3 | loss              | CTCLoss                           | 0     \n",
      "4 | spec_augmentation | SpectrogramAugmentation           | 0     \n",
      "5 | _wer              | WER                               | 0     \n",
      "------------------------------------------------------------------------\n",
      "18.9 M    Trainable params\n",
      "0         Non-trainable params\n",
      "18.9 M    Total params\n",
      "37.859    Total estimated model params size (MB)\n"
     ]
    },
    {
     "data": {
      "application/vnd.jupyter.widget-view+json": {
       "model_id": "",
       "version_major": 2,
       "version_minor": 0
      },
      "text/plain": [
       "Validation sanity check: 0it [00:00, ?it/s]"
      ]
     },
     "metadata": {},
     "output_type": "display_data"
    },
    {
     "name": "stderr",
     "output_type": "stream",
     "text": [
      "[NeMo W 2021-11-30 18:02:18 nemo_logging:349] /opt/conda/lib/python3.7/site-packages/nemo/collections/asr/parts/submodules/jasper.py:280: UserWarning: __floordiv__ is deprecated, and its behavior will change in a future version of pytorch. It currently rounds toward 0 (like the 'trunc' function NOT 'floor'). This results in incorrect rounding for negative values. To keep the current behavior, use torch.div(a, b, rounding_mode='trunc'), or for actual floor division, use torch.div(a, b, rounding_mode='floor').\n",
      "      ) // self.conv.stride[0] + 1\n",
      "    \n"
     ]
    },
    {
     "data": {
      "application/vnd.jupyter.widget-view+json": {
       "model_id": "a099ebee11574e1e94222574d98b5594",
       "version_major": 2,
       "version_minor": 0
      },
      "text/plain": [
       "Training: 0it [00:00, ?it/s]"
      ]
     },
     "metadata": {},
     "output_type": "display_data"
    },
    {
     "name": "stderr",
     "output_type": "stream",
     "text": [
      "[NeMo W 2021-11-30 18:02:20 nemo_logging:349] /opt/conda/lib/python3.7/site-packages/torch/optim/lr_scheduler.py:134: UserWarning: Detected call of `lr_scheduler.step()` before `optimizer.step()`. In PyTorch 1.1.0 and later, you should call them in the opposite order: `optimizer.step()` before `lr_scheduler.step()`.  Failure to do this will result in PyTorch skipping the first value of the learning rate schedule. See more details at https://pytorch.org/docs/stable/optim.html#how-to-adjust-learning-rate\n",
      "      \"https://pytorch.org/docs/stable/optim.html#how-to-adjust-learning-rate\", UserWarning)\n",
      "    \n"
     ]
    },
    {
     "data": {
      "application/vnd.jupyter.widget-view+json": {
       "model_id": "",
       "version_major": 2,
       "version_minor": 0
      },
      "text/plain": [
       "Validating: 0it [00:00, ?it/s]"
      ]
     },
     "metadata": {},
     "output_type": "display_data"
    },
    {
     "data": {
      "application/vnd.jupyter.widget-view+json": {
       "model_id": "",
       "version_major": 2,
       "version_minor": 0
      },
      "text/plain": [
       "Validating: 0it [00:00, ?it/s]"
      ]
     },
     "metadata": {},
     "output_type": "display_data"
    },
    {
     "data": {
      "application/vnd.jupyter.widget-view+json": {
       "model_id": "",
       "version_major": 2,
       "version_minor": 0
      },
      "text/plain": [
       "Validating: 0it [00:00, ?it/s]"
      ]
     },
     "metadata": {},
     "output_type": "display_data"
    },
    {
     "data": {
      "application/vnd.jupyter.widget-view+json": {
       "model_id": "",
       "version_major": 2,
       "version_minor": 0
      },
      "text/plain": [
       "Validating: 0it [00:00, ?it/s]"
      ]
     },
     "metadata": {},
     "output_type": "display_data"
    },
    {
     "data": {
      "application/vnd.jupyter.widget-view+json": {
       "model_id": "",
       "version_major": 2,
       "version_minor": 0
      },
      "text/plain": [
       "Validating: 0it [00:00, ?it/s]"
      ]
     },
     "metadata": {},
     "output_type": "display_data"
    },
    {
     "data": {
      "application/vnd.jupyter.widget-view+json": {
       "model_id": "",
       "version_major": 2,
       "version_minor": 0
      },
      "text/plain": [
       "Validating: 0it [00:00, ?it/s]"
      ]
     },
     "metadata": {},
     "output_type": "display_data"
    },
    {
     "data": {
      "application/vnd.jupyter.widget-view+json": {
       "model_id": "",
       "version_major": 2,
       "version_minor": 0
      },
      "text/plain": [
       "Validating: 0it [00:00, ?it/s]"
      ]
     },
     "metadata": {},
     "output_type": "display_data"
    },
    {
     "data": {
      "application/vnd.jupyter.widget-view+json": {
       "model_id": "",
       "version_major": 2,
       "version_minor": 0
      },
      "text/plain": [
       "Validating: 0it [00:00, ?it/s]"
      ]
     },
     "metadata": {},
     "output_type": "display_data"
    },
    {
     "data": {
      "application/vnd.jupyter.widget-view+json": {
       "model_id": "",
       "version_major": 2,
       "version_minor": 0
      },
      "text/plain": [
       "Validating: 0it [00:00, ?it/s]"
      ]
     },
     "metadata": {},
     "output_type": "display_data"
    },
    {
     "data": {
      "application/vnd.jupyter.widget-view+json": {
       "model_id": "",
       "version_major": 2,
       "version_minor": 0
      },
      "text/plain": [
       "Validating: 0it [00:00, ?it/s]"
      ]
     },
     "metadata": {},
     "output_type": "display_data"
    },
    {
     "data": {
      "application/vnd.jupyter.widget-view+json": {
       "model_id": "",
       "version_major": 2,
       "version_minor": 0
      },
      "text/plain": [
       "Validating: 0it [00:00, ?it/s]"
      ]
     },
     "metadata": {},
     "output_type": "display_data"
    },
    {
     "data": {
      "application/vnd.jupyter.widget-view+json": {
       "model_id": "",
       "version_major": 2,
       "version_minor": 0
      },
      "text/plain": [
       "Validating: 0it [00:00, ?it/s]"
      ]
     },
     "metadata": {},
     "output_type": "display_data"
    },
    {
     "data": {
      "application/vnd.jupyter.widget-view+json": {
       "model_id": "",
       "version_major": 2,
       "version_minor": 0
      },
      "text/plain": [
       "Validating: 0it [00:00, ?it/s]"
      ]
     },
     "metadata": {},
     "output_type": "display_data"
    },
    {
     "data": {
      "application/vnd.jupyter.widget-view+json": {
       "model_id": "",
       "version_major": 2,
       "version_minor": 0
      },
      "text/plain": [
       "Validating: 0it [00:00, ?it/s]"
      ]
     },
     "metadata": {},
     "output_type": "display_data"
    },
    {
     "data": {
      "application/vnd.jupyter.widget-view+json": {
       "model_id": "",
       "version_major": 2,
       "version_minor": 0
      },
      "text/plain": [
       "Validating: 0it [00:00, ?it/s]"
      ]
     },
     "metadata": {},
     "output_type": "display_data"
    },
    {
     "data": {
      "application/vnd.jupyter.widget-view+json": {
       "model_id": "",
       "version_major": 2,
       "version_minor": 0
      },
      "text/plain": [
       "Validating: 0it [00:00, ?it/s]"
      ]
     },
     "metadata": {},
     "output_type": "display_data"
    },
    {
     "data": {
      "application/vnd.jupyter.widget-view+json": {
       "model_id": "",
       "version_major": 2,
       "version_minor": 0
      },
      "text/plain": [
       "Validating: 0it [00:00, ?it/s]"
      ]
     },
     "metadata": {},
     "output_type": "display_data"
    },
    {
     "data": {
      "application/vnd.jupyter.widget-view+json": {
       "model_id": "",
       "version_major": 2,
       "version_minor": 0
      },
      "text/plain": [
       "Validating: 0it [00:00, ?it/s]"
      ]
     },
     "metadata": {},
     "output_type": "display_data"
    },
    {
     "data": {
      "application/vnd.jupyter.widget-view+json": {
       "model_id": "",
       "version_major": 2,
       "version_minor": 0
      },
      "text/plain": [
       "Validating: 0it [00:00, ?it/s]"
      ]
     },
     "metadata": {},
     "output_type": "display_data"
    },
    {
     "data": {
      "application/vnd.jupyter.widget-view+json": {
       "model_id": "",
       "version_major": 2,
       "version_minor": 0
      },
      "text/plain": [
       "Validating: 0it [00:00, ?it/s]"
      ]
     },
     "metadata": {},
     "output_type": "display_data"
    }
   ],
   "source": [
    "# файнтюн модели 2 эпохи на train_farfield\n",
    "trainer.fit(asr_model)"
   ]
  },
  {
   "cell_type": "code",
   "execution_count": 38,
   "id": "9fae2090-4bb4-44aa-9a89-ee9ced2b1bed",
   "metadata": {},
   "outputs": [],
   "source": [
    "asr_model.save_to('quartznet_finetuned.nemo')"
   ]
  },
  {
   "cell_type": "code",
   "execution_count": 40,
   "id": "9198840f-1be6-4351-9373-b7956bc6689e",
   "metadata": {},
   "outputs": [
    {
     "name": "stdout",
     "output_type": "stream",
     "text": [
      "WER = 0.49797184442853737\n"
     ]
    }
   ],
   "source": [
    "# Результаты дообученной (2 эпохи) модели на тест-сете \n",
    "\n",
    "asr_model.cuda()\n",
    "\n",
    "wer_nums = []\n",
    "wer_denoms = []\n",
    "\n",
    "for test_batch in asr_model.test_dataloader():\n",
    "    test_batch = [x.cuda() for x in test_batch]\n",
    "    targets = test_batch[2]\n",
    "    targets_lengths = test_batch[3]        \n",
    "    log_probs, encoded_len, greedy_predictions = asr_model(\n",
    "        input_signal=test_batch[0], input_signal_length=test_batch[1]\n",
    "    )\n",
    "    asr_model._wer.update(greedy_predictions, targets, targets_lengths)\n",
    "    _, wer_num, wer_denom = asr_model._wer.compute()\n",
    "    asr_model._wer.reset()\n",
    "    wer_nums.append(wer_num.detach().cpu().numpy())\n",
    "    wer_denoms.append(wer_denom.detach().cpu().numpy())\n",
    "\n",
    "    del test_batch, log_probs, targets, targets_lengths, encoded_len, greedy_predictions\n",
    "\n",
    "print(f\"WER = {sum(wer_nums) / sum(wer_denoms)}\")"
   ]
  },
  {
   "cell_type": "markdown",
   "id": "c7564b7f-4164-48d8-9291-48eaaa8444a5",
   "metadata": {},
   "source": [
    "## Продолжение обучения из чекпойнта"
   ]
  },
  {
   "cell_type": "code",
   "execution_count": 9,
   "id": "8fbb81a5-c767-425d-8596-08db90392ad4",
   "metadata": {},
   "outputs": [],
   "source": [
    "asr_model_v2 = nemo_asr.models.EncDecCTCModel.restore_from(\"quartznet_finetuned.nemo\")"
   ]
  },
  {
   "cell_type": "code",
   "execution_count": 10,
   "id": "4fefe4d7-9914-4b7b-8fbb-c41f6a5a6ac0",
   "metadata": {},
   "outputs": [],
   "source": [
    "# из логов в wandb видно, что модель начала нормально сходиться только при lr < 1e-4, поставим его, cosine annealing все еще включен, так что попробуем дообучить еще немного\n",
    "# 2 эпохи показалось как-то маловато\n",
    "\n",
    "params_model = asr_model_v2._cfg\n",
    "\n",
    "params_model[\"optim\"][\"lr\"] = 0.0001\n",
    "params_asr_v2 = copy.deepcopy(params_model)"
   ]
  },
  {
   "cell_type": "code",
   "execution_count": 11,
   "id": "ce15e9ea-4e19-4031-9704-22d2ef48f030",
   "metadata": {},
   "outputs": [
    {
     "name": "stdout",
     "output_type": "stream",
     "text": [
      "[NeMo I 2021-11-30 19:16:11 collections:173] Dataset loaded with 116348 files totalling 124.92 hours\n",
      "[NeMo I 2021-11-30 19:16:11 collections:174] 3 files were filtered totalling 0.02 hours\n",
      "[NeMo I 2021-11-30 19:16:11 collections:173] Dataset loaded with 1916 files totalling 1.41 hours\n",
      "[NeMo I 2021-11-30 19:16:11 collections:174] 0 files were filtered totalling 0.00 hours\n",
      "[NeMo I 2021-11-30 19:16:11 collections:173] Dataset loaded with 1916 files totalling 1.41 hours\n",
      "[NeMo I 2021-11-30 19:16:11 collections:174] 0 files were filtered totalling 0.00 hours\n"
     ]
    }
   ],
   "source": [
    "asr_model_v2.setup_training_data(train_data_config=params_model['train_ds'])\n",
    "asr_model_v2.setup_validation_data(val_data_config=params_model['validation_ds'])\n",
    "asr_model_v2.setup_test_data(test_data_config=params_model['test_ds'])\n",
    "\n",
    "asr_model_v2.set_trainer(trainer)"
   ]
  },
  {
   "cell_type": "code",
   "execution_count": 14,
   "id": "fbccbe96-5b18-4335-8929-550ada14c0ae",
   "metadata": {},
   "outputs": [],
   "source": [
    "# заглушил вывод\n",
    "asr_model_v2.setup_optimization(optim_config=DictConfig(params_asr_v2[\"optim\"]))"
   ]
  },
  {
   "cell_type": "code",
   "execution_count": 15,
   "id": "f689b279-364a-4794-850e-7d1927cb7494",
   "metadata": {},
   "outputs": [
    {
     "name": "stderr",
     "output_type": "stream",
     "text": [
      "LOCAL_RANK: 0 - CUDA_VISIBLE_DEVICES: [0]\n",
      "[NeMo W 2021-11-30 19:16:28 modelPT:471] The lightning trainer received accelerator: <pytorch_lightning.accelerators.gpu.GPUAccelerator object at 0x7f5430055610>. We recommend to use 'ddp' instead.\n"
     ]
    },
    {
     "name": "stdout",
     "output_type": "stream",
     "text": [
      "[NeMo I 2021-11-30 19:16:28 modelPT:561] Optimizer config = Novograd (\n",
      "    Parameter Group 0\n",
      "        amsgrad: False\n",
      "        betas: [0.9, 0.98]\n",
      "        eps: 1e-08\n",
      "        grad_averaging: False\n",
      "        lr: 0.0001\n",
      "        weight_decay: 0.001\n",
      "    )\n",
      "[NeMo I 2021-11-30 19:16:28 lr_scheduler:752] Scheduler \"<nemo.core.optim.lr_scheduler.CosineAnnealing object at 0x7f542f325c90>\" \n",
      "    will be used during training (effective maximum steps = 7272) - \n",
      "    Parameters : \n",
      "    (warmup_steps: null\n",
      "    warmup_ratio: 0.12\n",
      "    min_lr: 0.0\n",
      "    last_epoch: -1\n",
      "    max_steps: 7272\n",
      "    )\n"
     ]
    },
    {
     "name": "stderr",
     "output_type": "stream",
     "text": [
      "\u001b[34m\u001b[1mwandb\u001b[0m: Currently logged in as: \u001b[33masbabiy\u001b[0m (use `wandb login --relogin` to force relogin)\n"
     ]
    },
    {
     "data": {
      "text/html": [
       "\n",
       "                    Syncing run <strong><a href=\"https://wandb.ai/asbabiy/QuartzNet/runs/2vts9ttx\" target=\"_blank\">swift-gorge-3</a></strong> to <a href=\"https://wandb.ai/asbabiy/QuartzNet\" target=\"_blank\">Weights & Biases</a> (<a href=\"https://docs.wandb.com/integrations/jupyter.html\" target=\"_blank\">docs</a>).<br/>\n",
       "\n",
       "                "
      ],
      "text/plain": [
       "<IPython.core.display.HTML object>"
      ]
     },
     "metadata": {},
     "output_type": "display_data"
    },
    {
     "name": "stderr",
     "output_type": "stream",
     "text": [
      "\n",
      "  | Name              | Type                              | Params\n",
      "------------------------------------------------------------------------\n",
      "0 | preprocessor      | AudioToMelSpectrogramPreprocessor | 0     \n",
      "1 | encoder           | ConvASREncoder                    | 18.9 M\n",
      "2 | decoder           | ConvASRDecoder                    | 34.9 K\n",
      "3 | loss              | CTCLoss                           | 0     \n",
      "4 | spec_augmentation | SpectrogramAugmentation           | 0     \n",
      "5 | _wer              | WER                               | 0     \n",
      "------------------------------------------------------------------------\n",
      "18.9 M    Trainable params\n",
      "0         Non-trainable params\n",
      "18.9 M    Total params\n",
      "37.859    Total estimated model params size (MB)\n"
     ]
    },
    {
     "data": {
      "application/vnd.jupyter.widget-view+json": {
       "model_id": "",
       "version_major": 2,
       "version_minor": 0
      },
      "text/plain": [
       "Validation sanity check: 0it [00:00, ?it/s]"
      ]
     },
     "metadata": {},
     "output_type": "display_data"
    },
    {
     "name": "stderr",
     "output_type": "stream",
     "text": [
      "[NeMo W 2021-11-30 19:16:35 patch_utils:50] torch.stft() signature has been updated for PyTorch 1.7+\n",
      "    Please update PyTorch to remain compatible with later versions of NeMo.\n",
      "[NeMo W 2021-11-30 19:16:35 nemo_logging:349] /opt/conda/lib/python3.7/site-packages/nemo/collections/asr/parts/submodules/jasper.py:280: UserWarning: __floordiv__ is deprecated, and its behavior will change in a future version of pytorch. It currently rounds toward 0 (like the 'trunc' function NOT 'floor'). This results in incorrect rounding for negative values. To keep the current behavior, use torch.div(a, b, rounding_mode='trunc'), or for actual floor division, use torch.div(a, b, rounding_mode='floor').\n",
      "      ) // self.conv.stride[0] + 1\n",
      "    \n"
     ]
    },
    {
     "data": {
      "application/vnd.jupyter.widget-view+json": {
       "model_id": "250409dc44c74f6b8a5855d8a21df266",
       "version_major": 2,
       "version_minor": 0
      },
      "text/plain": [
       "Training: 0it [00:00, ?it/s]"
      ]
     },
     "metadata": {},
     "output_type": "display_data"
    },
    {
     "name": "stderr",
     "output_type": "stream",
     "text": [
      "[NeMo W 2021-11-30 19:16:38 nemo_logging:349] /opt/conda/lib/python3.7/site-packages/torch/optim/lr_scheduler.py:134: UserWarning: Detected call of `lr_scheduler.step()` before `optimizer.step()`. In PyTorch 1.1.0 and later, you should call them in the opposite order: `optimizer.step()` before `lr_scheduler.step()`.  Failure to do this will result in PyTorch skipping the first value of the learning rate schedule. See more details at https://pytorch.org/docs/stable/optim.html#how-to-adjust-learning-rate\n",
      "      \"https://pytorch.org/docs/stable/optim.html#how-to-adjust-learning-rate\", UserWarning)\n",
      "    \n"
     ]
    },
    {
     "data": {
      "application/vnd.jupyter.widget-view+json": {
       "model_id": "",
       "version_major": 2,
       "version_minor": 0
      },
      "text/plain": [
       "Validating: 0it [00:00, ?it/s]"
      ]
     },
     "metadata": {},
     "output_type": "display_data"
    },
    {
     "data": {
      "application/vnd.jupyter.widget-view+json": {
       "model_id": "",
       "version_major": 2,
       "version_minor": 0
      },
      "text/plain": [
       "Validating: 0it [00:00, ?it/s]"
      ]
     },
     "metadata": {},
     "output_type": "display_data"
    },
    {
     "data": {
      "application/vnd.jupyter.widget-view+json": {
       "model_id": "",
       "version_major": 2,
       "version_minor": 0
      },
      "text/plain": [
       "Validating: 0it [00:00, ?it/s]"
      ]
     },
     "metadata": {},
     "output_type": "display_data"
    },
    {
     "data": {
      "application/vnd.jupyter.widget-view+json": {
       "model_id": "",
       "version_major": 2,
       "version_minor": 0
      },
      "text/plain": [
       "Validating: 0it [00:00, ?it/s]"
      ]
     },
     "metadata": {},
     "output_type": "display_data"
    },
    {
     "data": {
      "application/vnd.jupyter.widget-view+json": {
       "model_id": "",
       "version_major": 2,
       "version_minor": 0
      },
      "text/plain": [
       "Validating: 0it [00:00, ?it/s]"
      ]
     },
     "metadata": {},
     "output_type": "display_data"
    },
    {
     "data": {
      "application/vnd.jupyter.widget-view+json": {
       "model_id": "",
       "version_major": 2,
       "version_minor": 0
      },
      "text/plain": [
       "Validating: 0it [00:00, ?it/s]"
      ]
     },
     "metadata": {},
     "output_type": "display_data"
    },
    {
     "data": {
      "application/vnd.jupyter.widget-view+json": {
       "model_id": "",
       "version_major": 2,
       "version_minor": 0
      },
      "text/plain": [
       "Validating: 0it [00:00, ?it/s]"
      ]
     },
     "metadata": {},
     "output_type": "display_data"
    },
    {
     "data": {
      "application/vnd.jupyter.widget-view+json": {
       "model_id": "",
       "version_major": 2,
       "version_minor": 0
      },
      "text/plain": [
       "Validating: 0it [00:00, ?it/s]"
      ]
     },
     "metadata": {},
     "output_type": "display_data"
    },
    {
     "data": {
      "application/vnd.jupyter.widget-view+json": {
       "model_id": "",
       "version_major": 2,
       "version_minor": 0
      },
      "text/plain": [
       "Validating: 0it [00:00, ?it/s]"
      ]
     },
     "metadata": {},
     "output_type": "display_data"
    },
    {
     "data": {
      "application/vnd.jupyter.widget-view+json": {
       "model_id": "",
       "version_major": 2,
       "version_minor": 0
      },
      "text/plain": [
       "Validating: 0it [00:00, ?it/s]"
      ]
     },
     "metadata": {},
     "output_type": "display_data"
    },
    {
     "data": {
      "application/vnd.jupyter.widget-view+json": {
       "model_id": "",
       "version_major": 2,
       "version_minor": 0
      },
      "text/plain": [
       "Validating: 0it [00:00, ?it/s]"
      ]
     },
     "metadata": {},
     "output_type": "display_data"
    },
    {
     "data": {
      "application/vnd.jupyter.widget-view+json": {
       "model_id": "",
       "version_major": 2,
       "version_minor": 0
      },
      "text/plain": [
       "Validating: 0it [00:00, ?it/s]"
      ]
     },
     "metadata": {},
     "output_type": "display_data"
    },
    {
     "data": {
      "application/vnd.jupyter.widget-view+json": {
       "model_id": "",
       "version_major": 2,
       "version_minor": 0
      },
      "text/plain": [
       "Validating: 0it [00:00, ?it/s]"
      ]
     },
     "metadata": {},
     "output_type": "display_data"
    },
    {
     "data": {
      "application/vnd.jupyter.widget-view+json": {
       "model_id": "",
       "version_major": 2,
       "version_minor": 0
      },
      "text/plain": [
       "Validating: 0it [00:00, ?it/s]"
      ]
     },
     "metadata": {},
     "output_type": "display_data"
    },
    {
     "data": {
      "application/vnd.jupyter.widget-view+json": {
       "model_id": "",
       "version_major": 2,
       "version_minor": 0
      },
      "text/plain": [
       "Validating: 0it [00:00, ?it/s]"
      ]
     },
     "metadata": {},
     "output_type": "display_data"
    },
    {
     "data": {
      "application/vnd.jupyter.widget-view+json": {
       "model_id": "",
       "version_major": 2,
       "version_minor": 0
      },
      "text/plain": [
       "Validating: 0it [00:00, ?it/s]"
      ]
     },
     "metadata": {},
     "output_type": "display_data"
    },
    {
     "data": {
      "application/vnd.jupyter.widget-view+json": {
       "model_id": "",
       "version_major": 2,
       "version_minor": 0
      },
      "text/plain": [
       "Validating: 0it [00:00, ?it/s]"
      ]
     },
     "metadata": {},
     "output_type": "display_data"
    },
    {
     "data": {
      "application/vnd.jupyter.widget-view+json": {
       "model_id": "",
       "version_major": 2,
       "version_minor": 0
      },
      "text/plain": [
       "Validating: 0it [00:00, ?it/s]"
      ]
     },
     "metadata": {},
     "output_type": "display_data"
    },
    {
     "data": {
      "application/vnd.jupyter.widget-view+json": {
       "model_id": "",
       "version_major": 2,
       "version_minor": 0
      },
      "text/plain": [
       "Validating: 0it [00:00, ?it/s]"
      ]
     },
     "metadata": {},
     "output_type": "display_data"
    },
    {
     "data": {
      "application/vnd.jupyter.widget-view+json": {
       "model_id": "",
       "version_major": 2,
       "version_minor": 0
      },
      "text/plain": [
       "Validating: 0it [00:00, ?it/s]"
      ]
     },
     "metadata": {},
     "output_type": "display_data"
    }
   ],
   "source": [
    "# файнтюн модели ещё 2 эпохи (итого 4) на train_farfield\n",
    "trainer.fit(asr_model_v2)"
   ]
  },
  {
   "cell_type": "code",
   "execution_count": 16,
   "id": "967b15ed-f7b6-48bd-bb5f-ae88b13e8bd0",
   "metadata": {},
   "outputs": [],
   "source": [
    "asr_model_v2.save_to('quartznet_finetuned_v2.nemo')"
   ]
  },
  {
   "cell_type": "code",
   "execution_count": 17,
   "id": "ed504e31-cd4a-4729-9617-ea2eb0df7331",
   "metadata": {},
   "outputs": [
    {
     "name": "stdout",
     "output_type": "stream",
     "text": [
      "WER = 0.4896206156048676\n"
     ]
    }
   ],
   "source": [
    "# Результаты дообученной (4 эпохи) модели на тест-сете \n",
    "\n",
    "asr_model_v2.cuda()\n",
    "\n",
    "wer_nums = []\n",
    "wer_denoms = []\n",
    "\n",
    "for test_batch in asr_model_v2.test_dataloader():\n",
    "    test_batch = [x.cuda() for x in test_batch]\n",
    "    targets = test_batch[2]\n",
    "    targets_lengths = test_batch[3]        \n",
    "    log_probs, encoded_len, greedy_predictions = asr_model_v2(\n",
    "        input_signal=test_batch[0], input_signal_length=test_batch[1]\n",
    "    )\n",
    "    asr_model_v2._wer.update(greedy_predictions, targets, targets_lengths)\n",
    "    _, wer_num, wer_denom = asr_model_v2._wer.compute()\n",
    "    asr_model_v2._wer.reset()\n",
    "    wer_nums.append(wer_num.detach().cpu().numpy())\n",
    "    wer_denoms.append(wer_denom.detach().cpu().numpy())\n",
    "\n",
    "    del test_batch, log_probs, targets, targets_lengths, encoded_len, greedy_predictions\n",
    "\n",
    "print(f\"WER = {sum(wer_nums) / sum(wer_denoms)}\")"
   ]
  },
  {
   "cell_type": "markdown",
   "id": "ef9a0783-2d26-4e3e-8516-f068f9010c8a",
   "metadata": {},
   "source": [
    "## Оценка WER сторонним модулем и выводы"
   ]
  },
  {
   "cell_type": "markdown",
   "id": "67ef6b1c-5012-4d4c-aded-54eb6f975260",
   "metadata": {},
   "source": [
    "- WER, который репортит Trainer во время обучения модели, очень сильно отличается от того, что показывает прогон по тесту алгоритм в прошлой ячейке\n",
    "- Я логирую все результаты в wandb, а там WER колеблется в районе 0.16, в то время как алгоритм выше выдает в районе 0.49\n",
    "- К тому же, прогон алгоритма оценки на предобученной модели выдал WER 0.6, что очень странно, потому что в репозитории датасета Golos репортится, что на тесте farfield около 15%\n",
    "- Хотя там стоит greedy decoder (как и здесь), который, насколько я понял, вполне себе эвристический, небольшие различия в результатах допустимы, но тут различие слишком большое"
   ]
  },
  {
   "cell_type": "markdown",
   "id": "66e54196-c829-4573-89da-de0bb964f471",
   "metadata": {},
   "source": [
    "### Подготовка"
   ]
  },
  {
   "cell_type": "code",
   "execution_count": 18,
   "id": "f0eb963b-fe7d-4538-95b0-c75c61959f02",
   "metadata": {},
   "outputs": [],
   "source": [
    "!pip install -q jiwer"
   ]
  },
  {
   "cell_type": "code",
   "execution_count": 34,
   "id": "c1f7fa57-7153-489e-a2b0-4d9255ce6a1e",
   "metadata": {},
   "outputs": [],
   "source": [
    "from tqdm import tqdm\n",
    "from jiwer import wer"
   ]
  },
  {
   "cell_type": "code",
   "execution_count": 26,
   "id": "2e768e2d-6731-42fc-86af-099a0aa3b712",
   "metadata": {},
   "outputs": [],
   "source": [
    "with open(r\"asr/test/test.jsonl\") as file:\n",
    "    test_paths = [json.loads(line) for line in file]"
   ]
  },
  {
   "cell_type": "code",
   "execution_count": 27,
   "id": "f46d8302-1a7f-4fe3-82e2-3d8d1200bcf4",
   "metadata": {},
   "outputs": [],
   "source": [
    "test_audio = [item[\"audio_filepath\"] for item in test_paths]\n",
    "test_transcripts = [item[\"text\"] for item in test_paths]"
   ]
  },
  {
   "cell_type": "code",
   "execution_count": 28,
   "id": "9418d62a-60f3-4bf1-aa56-d0fd5fcc991f",
   "metadata": {},
   "outputs": [
    {
     "name": "stdout",
     "output_type": "stream",
     "text": [
      "Audio: /workspace/asr/test/farfield/files/58b586f67f5e634506e215df5996b82e.wav\n",
      "Transcript: джой хватит\n"
     ]
    }
   ],
   "source": [
    "print(\"Audio:\", test_audio[0])\n",
    "print(\"Transcript:\", test_transcripts[0])"
   ]
  },
  {
   "cell_type": "markdown",
   "id": "4c0899df-8dd1-4e5f-b4f4-bfdc47cb08b4",
   "metadata": {},
   "source": [
    "### Транскрибирование"
   ]
  },
  {
   "cell_type": "code",
   "execution_count": 30,
   "id": "211a2324-b97d-42c0-bcb6-0816febcde02",
   "metadata": {},
   "outputs": [
    {
     "data": {
      "application/vnd.jupyter.widget-view+json": {
       "model_id": "fd3540669e2b4a929b0f0e4880bd3fd3",
       "version_major": 2,
       "version_minor": 0
      },
      "text/plain": [
       "Transcribing:   0%|          | 0/479 [00:00<?, ?it/s]"
      ]
     },
     "metadata": {},
     "output_type": "display_data"
    }
   ],
   "source": [
    "model_transcriptions = asr_model_v2.transcribe(paths2audio_files=test_audio)"
   ]
  },
  {
   "cell_type": "code",
   "execution_count": 31,
   "id": "465ecece-f601-408c-ac20-ba5f451e8601",
   "metadata": {},
   "outputs": [
    {
     "name": "stdout",
     "output_type": "stream",
     "text": [
      "Predicted transcript: джой хватит\n"
     ]
    }
   ],
   "source": [
    "print(\"Predicted transcript:\", model_transcriptions[0])"
   ]
  },
  {
   "cell_type": "markdown",
   "id": "652bcba1-a411-405b-be1d-d3b12549fcd5",
   "metadata": {},
   "source": [
    "### Оценка WER"
   ]
  },
  {
   "cell_type": "code",
   "execution_count": 40,
   "id": "22d2fa39-b26b-4155-91cc-f8bde276f2d2",
   "metadata": {},
   "outputs": [
    {
     "name": "stderr",
     "output_type": "stream",
     "text": [
      "1907it [00:00, 1355454.62it/s]\n"
     ]
    }
   ],
   "source": [
    "for idx, transcript in tqdm(enumerate(model_transcriptions)):\n",
    "    if transcript == \"\":\n",
    "        model_transcriptions.pop(idx)\n",
    "        test_transcripts.pop(idx)\n",
    "\n",
    "assert len(model_transcriptions) == len(test_transcripts)"
   ]
  },
  {
   "cell_type": "code",
   "execution_count": 41,
   "id": "2500995a-1ace-461a-95da-6865645f5fc2",
   "metadata": {},
   "outputs": [],
   "source": [
    "wers = wer(test_transcripts, model_transcriptions)"
   ]
  },
  {
   "cell_type": "code",
   "execution_count": 51,
   "id": "356cb555-7652-433e-b97c-7d0abfa75843",
   "metadata": {},
   "outputs": [
    {
     "name": "stdout",
     "output_type": "stream",
     "text": [
      "Fine-tuned model WER: 22%\n"
     ]
    }
   ],
   "source": [
    "print(f\"Fine-tuned model WER: {round(wers * 100)}%\")"
   ]
  },
  {
   "cell_type": "markdown",
   "id": "ad4c09e1-8d5a-4f9f-9fc8-ff4de6d5bd11",
   "metadata": {},
   "source": [
    "- Результат всё ещё немного странный, учитывая, что во время обучания val_wer снижается, а в репозитории датасета зарепорчены 15% WER\n",
    "- Но этот результат уже гораздо более правдоподобный и считаю, что вполне достойный!"
   ]
  },
  {
   "cell_type": "markdown",
   "id": "64083320-dc17-4354-8630-4bc7774f6d41",
   "metadata": {},
   "source": [
    "#### Репорчу результаты модели на первых и вторых двух эпохах\n",
    "- 1ые две эпохи -- `https://wandb.ai/asbabiy/QuartzNet/reports/QuartzNet-1st-2-epochs---VmlldzoxMjg1MjE1`\n",
    "- 2ые две эпохи -- `https://wandb.ai/asbabiy/QuartzNet/reports/QuartzNet-2nd-2-epochs---VmlldzoxMjg1MjYw`"
   ]
  },
  {
   "cell_type": "markdown",
   "id": "dbe84944-7644-49de-a54b-553980aed235",
   "metadata": {},
   "source": [
    "##### Конец! Спасибо за лабу, хоть немного потыкался в ASR :)"
   ]
  }
 ],
 "metadata": {
  "kernelspec": {
   "display_name": "Python 3 (ipykernel)",
   "language": "python",
   "name": "python3"
  },
  "language_info": {
   "codemirror_mode": {
    "name": "ipython",
    "version": 3
   },
   "file_extension": ".py",
   "mimetype": "text/x-python",
   "name": "python",
   "nbconvert_exporter": "python",
   "pygments_lexer": "ipython3",
   "version": "3.7.11"
  }
 },
 "nbformat": 4,
 "nbformat_minor": 5
}
