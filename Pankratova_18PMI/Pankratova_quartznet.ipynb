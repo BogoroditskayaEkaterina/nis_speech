{
  "nbformat": 4,
  "nbformat_minor": 0,
  "metadata": {
    "accelerator": "GPU",
    "colab": {
      "name": "Копия блокнота \"Data_Explorer_NeMo_golos.ipynb\"",
      "provenance": [],
      "collapsed_sections": []
    },
    "kernelspec": {
      "display_name": "Python 3",
      "language": "python",
      "name": "python3"
    },
    "language_info": {
      "codemirror_mode": {
        "name": "ipython",
        "version": 3
      },
      "file_extension": ".py",
      "mimetype": "text/x-python",
      "name": "python",
      "nbconvert_exporter": "python",
      "pygments_lexer": "ipython3",
      "version": "3.7.7"
    },
    "pycharm": {
      "stem_cell": {
        "cell_type": "raw",
        "metadata": {
          "collapsed": false
        },
        "source": []
      }
    },
    "widgets": {
      "application/vnd.jupyter.widget-state+json": {
        "8dd0947cdfe84ae58208d6433e962ab5": {
          "model_module": "@jupyter-widgets/controls",
          "model_name": "HBoxModel",
          "model_module_version": "1.5.0",
          "state": {
            "_view_name": "HBoxView",
            "_dom_classes": [],
            "_model_name": "HBoxModel",
            "_view_module": "@jupyter-widgets/controls",
            "_model_module_version": "1.5.0",
            "_view_count": null,
            "_view_module_version": "1.5.0",
            "box_style": "",
            "layout": "IPY_MODEL_aaf9b69ac7bd4dedb19d5419ab9487c5",
            "_model_module": "@jupyter-widgets/controls",
            "children": [
              "IPY_MODEL_a3f0de7f43264299be35fd81dd5dd489",
              "IPY_MODEL_a9b432112d8b4ec0bd8de3087700929f",
              "IPY_MODEL_72c526800a294fc9b46ae09c2307d4ef"
            ]
          }
        },
        "aaf9b69ac7bd4dedb19d5419ab9487c5": {
          "model_module": "@jupyter-widgets/base",
          "model_name": "LayoutModel",
          "model_module_version": "1.2.0",
          "state": {
            "_view_name": "LayoutView",
            "grid_template_rows": null,
            "right": null,
            "justify_content": null,
            "_view_module": "@jupyter-widgets/base",
            "overflow": null,
            "_model_module_version": "1.2.0",
            "_view_count": null,
            "flex_flow": "row wrap",
            "width": "100%",
            "min_width": null,
            "border": null,
            "align_items": null,
            "bottom": null,
            "_model_module": "@jupyter-widgets/base",
            "top": null,
            "grid_column": null,
            "overflow_y": null,
            "overflow_x": null,
            "grid_auto_flow": null,
            "grid_area": null,
            "grid_template_columns": null,
            "flex": null,
            "_model_name": "LayoutModel",
            "justify_items": null,
            "grid_row": null,
            "max_height": null,
            "align_content": null,
            "visibility": null,
            "align_self": null,
            "height": null,
            "min_height": null,
            "padding": null,
            "grid_auto_rows": null,
            "grid_gap": null,
            "max_width": null,
            "order": null,
            "_view_module_version": "1.2.0",
            "grid_template_areas": null,
            "object_position": null,
            "object_fit": null,
            "grid_auto_columns": null,
            "margin": null,
            "display": "inline-flex",
            "left": null
          }
        },
        "a3f0de7f43264299be35fd81dd5dd489": {
          "model_module": "@jupyter-widgets/controls",
          "model_name": "HTMLModel",
          "model_module_version": "1.5.0",
          "state": {
            "_view_name": "HTMLView",
            "style": "IPY_MODEL_4fc6637a0040461082e0f2c8682c8e7d",
            "_dom_classes": [],
            "description": "",
            "_model_name": "HTMLModel",
            "placeholder": "​",
            "_view_module": "@jupyter-widgets/controls",
            "_model_module_version": "1.5.0",
            "value": "Validation sanity check:   0%",
            "_view_count": null,
            "_view_module_version": "1.5.0",
            "description_tooltip": null,
            "_model_module": "@jupyter-widgets/controls",
            "layout": "IPY_MODEL_baa6c7bb6e0d4cba91aaed734e57f2c5"
          }
        },
        "a9b432112d8b4ec0bd8de3087700929f": {
          "model_module": "@jupyter-widgets/controls",
          "model_name": "FloatProgressModel",
          "model_module_version": "1.5.0",
          "state": {
            "_view_name": "ProgressView",
            "style": "IPY_MODEL_d46d8deebed34c3481ef25b26d49b6dc",
            "_dom_classes": [],
            "description": "",
            "_model_name": "FloatProgressModel",
            "bar_style": "danger",
            "max": 2,
            "_view_module": "@jupyter-widgets/controls",
            "_model_module_version": "1.5.0",
            "value": 0,
            "_view_count": null,
            "_view_module_version": "1.5.0",
            "orientation": "horizontal",
            "min": 0,
            "description_tooltip": null,
            "_model_module": "@jupyter-widgets/controls",
            "layout": "IPY_MODEL_e2a2d25e9d0041989c9990b81aafe62b"
          }
        },
        "72c526800a294fc9b46ae09c2307d4ef": {
          "model_module": "@jupyter-widgets/controls",
          "model_name": "HTMLModel",
          "model_module_version": "1.5.0",
          "state": {
            "_view_name": "HTMLView",
            "style": "IPY_MODEL_82c453459d634baabb253e8233e34ebe",
            "_dom_classes": [],
            "description": "",
            "_model_name": "HTMLModel",
            "placeholder": "​",
            "_view_module": "@jupyter-widgets/controls",
            "_model_module_version": "1.5.0",
            "value": " 0/2 [01:48&lt;?, ?it/s]",
            "_view_count": null,
            "_view_module_version": "1.5.0",
            "description_tooltip": null,
            "_model_module": "@jupyter-widgets/controls",
            "layout": "IPY_MODEL_8c2b8edb180444c89ead7d7e6132d426"
          }
        },
        "4fc6637a0040461082e0f2c8682c8e7d": {
          "model_module": "@jupyter-widgets/controls",
          "model_name": "DescriptionStyleModel",
          "model_module_version": "1.5.0",
          "state": {
            "_view_name": "StyleView",
            "_model_name": "DescriptionStyleModel",
            "description_width": "",
            "_view_module": "@jupyter-widgets/base",
            "_model_module_version": "1.5.0",
            "_view_count": null,
            "_view_module_version": "1.2.0",
            "_model_module": "@jupyter-widgets/controls"
          }
        },
        "baa6c7bb6e0d4cba91aaed734e57f2c5": {
          "model_module": "@jupyter-widgets/base",
          "model_name": "LayoutModel",
          "model_module_version": "1.2.0",
          "state": {
            "_view_name": "LayoutView",
            "grid_template_rows": null,
            "right": null,
            "justify_content": null,
            "_view_module": "@jupyter-widgets/base",
            "overflow": null,
            "_model_module_version": "1.2.0",
            "_view_count": null,
            "flex_flow": null,
            "width": null,
            "min_width": null,
            "border": null,
            "align_items": null,
            "bottom": null,
            "_model_module": "@jupyter-widgets/base",
            "top": null,
            "grid_column": null,
            "overflow_y": null,
            "overflow_x": null,
            "grid_auto_flow": null,
            "grid_area": null,
            "grid_template_columns": null,
            "flex": null,
            "_model_name": "LayoutModel",
            "justify_items": null,
            "grid_row": null,
            "max_height": null,
            "align_content": null,
            "visibility": null,
            "align_self": null,
            "height": null,
            "min_height": null,
            "padding": null,
            "grid_auto_rows": null,
            "grid_gap": null,
            "max_width": null,
            "order": null,
            "_view_module_version": "1.2.0",
            "grid_template_areas": null,
            "object_position": null,
            "object_fit": null,
            "grid_auto_columns": null,
            "margin": null,
            "display": null,
            "left": null
          }
        },
        "d46d8deebed34c3481ef25b26d49b6dc": {
          "model_module": "@jupyter-widgets/controls",
          "model_name": "ProgressStyleModel",
          "model_module_version": "1.5.0",
          "state": {
            "_view_name": "StyleView",
            "_model_name": "ProgressStyleModel",
            "description_width": "",
            "_view_module": "@jupyter-widgets/base",
            "_model_module_version": "1.5.0",
            "_view_count": null,
            "_view_module_version": "1.2.0",
            "bar_color": null,
            "_model_module": "@jupyter-widgets/controls"
          }
        },
        "e2a2d25e9d0041989c9990b81aafe62b": {
          "model_module": "@jupyter-widgets/base",
          "model_name": "LayoutModel",
          "model_module_version": "1.2.0",
          "state": {
            "_view_name": "LayoutView",
            "grid_template_rows": null,
            "right": null,
            "justify_content": null,
            "_view_module": "@jupyter-widgets/base",
            "overflow": null,
            "_model_module_version": "1.2.0",
            "_view_count": null,
            "flex_flow": null,
            "width": null,
            "min_width": null,
            "border": null,
            "align_items": null,
            "bottom": null,
            "_model_module": "@jupyter-widgets/base",
            "top": null,
            "grid_column": null,
            "overflow_y": null,
            "overflow_x": null,
            "grid_auto_flow": null,
            "grid_area": null,
            "grid_template_columns": null,
            "flex": "2",
            "_model_name": "LayoutModel",
            "justify_items": null,
            "grid_row": null,
            "max_height": null,
            "align_content": null,
            "visibility": null,
            "align_self": null,
            "height": null,
            "min_height": null,
            "padding": null,
            "grid_auto_rows": null,
            "grid_gap": null,
            "max_width": null,
            "order": null,
            "_view_module_version": "1.2.0",
            "grid_template_areas": null,
            "object_position": null,
            "object_fit": null,
            "grid_auto_columns": null,
            "margin": null,
            "display": null,
            "left": null
          }
        },
        "82c453459d634baabb253e8233e34ebe": {
          "model_module": "@jupyter-widgets/controls",
          "model_name": "DescriptionStyleModel",
          "model_module_version": "1.5.0",
          "state": {
            "_view_name": "StyleView",
            "_model_name": "DescriptionStyleModel",
            "description_width": "",
            "_view_module": "@jupyter-widgets/base",
            "_model_module_version": "1.5.0",
            "_view_count": null,
            "_view_module_version": "1.2.0",
            "_model_module": "@jupyter-widgets/controls"
          }
        },
        "8c2b8edb180444c89ead7d7e6132d426": {
          "model_module": "@jupyter-widgets/base",
          "model_name": "LayoutModel",
          "model_module_version": "1.2.0",
          "state": {
            "_view_name": "LayoutView",
            "grid_template_rows": null,
            "right": null,
            "justify_content": null,
            "_view_module": "@jupyter-widgets/base",
            "overflow": null,
            "_model_module_version": "1.2.0",
            "_view_count": null,
            "flex_flow": null,
            "width": null,
            "min_width": null,
            "border": null,
            "align_items": null,
            "bottom": null,
            "_model_module": "@jupyter-widgets/base",
            "top": null,
            "grid_column": null,
            "overflow_y": null,
            "overflow_x": null,
            "grid_auto_flow": null,
            "grid_area": null,
            "grid_template_columns": null,
            "flex": null,
            "_model_name": "LayoutModel",
            "justify_items": null,
            "grid_row": null,
            "max_height": null,
            "align_content": null,
            "visibility": null,
            "align_self": null,
            "height": null,
            "min_height": null,
            "padding": null,
            "grid_auto_rows": null,
            "grid_gap": null,
            "max_width": null,
            "order": null,
            "_view_module_version": "1.2.0",
            "grid_template_areas": null,
            "object_position": null,
            "object_fit": null,
            "grid_auto_columns": null,
            "margin": null,
            "display": null,
            "left": null
          }
        },
        "77334b921ecc47d0b8abe650ce861bdc": {
          "model_module": "@jupyter-widgets/controls",
          "model_name": "HBoxModel",
          "model_module_version": "1.5.0",
          "state": {
            "_view_name": "HBoxView",
            "_dom_classes": [],
            "_model_name": "HBoxModel",
            "_view_module": "@jupyter-widgets/controls",
            "_model_module_version": "1.5.0",
            "_view_count": null,
            "_view_module_version": "1.5.0",
            "box_style": "",
            "layout": "IPY_MODEL_375009b868cb4476b1a751b60d1ae9f0",
            "_model_module": "@jupyter-widgets/controls",
            "children": [
              "IPY_MODEL_9a90f2d350e7400996e5c97a839c46d9",
              "IPY_MODEL_3271ea9234764d2e866d6a3b7a98a912",
              "IPY_MODEL_ef8af98cba45487f981336fe63767599"
            ]
          }
        },
        "375009b868cb4476b1a751b60d1ae9f0": {
          "model_module": "@jupyter-widgets/base",
          "model_name": "LayoutModel",
          "model_module_version": "1.2.0",
          "state": {
            "_view_name": "LayoutView",
            "grid_template_rows": null,
            "right": null,
            "justify_content": null,
            "_view_module": "@jupyter-widgets/base",
            "overflow": null,
            "_model_module_version": "1.2.0",
            "_view_count": null,
            "flex_flow": "row wrap",
            "width": "100%",
            "min_width": null,
            "border": null,
            "align_items": null,
            "bottom": null,
            "_model_module": "@jupyter-widgets/base",
            "top": null,
            "grid_column": null,
            "overflow_y": null,
            "overflow_x": null,
            "grid_auto_flow": null,
            "grid_area": null,
            "grid_template_columns": null,
            "flex": null,
            "_model_name": "LayoutModel",
            "justify_items": null,
            "grid_row": null,
            "max_height": null,
            "align_content": null,
            "visibility": null,
            "align_self": null,
            "height": null,
            "min_height": null,
            "padding": null,
            "grid_auto_rows": null,
            "grid_gap": null,
            "max_width": null,
            "order": null,
            "_view_module_version": "1.2.0",
            "grid_template_areas": null,
            "object_position": null,
            "object_fit": null,
            "grid_auto_columns": null,
            "margin": null,
            "display": "inline-flex",
            "left": null
          }
        },
        "9a90f2d350e7400996e5c97a839c46d9": {
          "model_module": "@jupyter-widgets/controls",
          "model_name": "HTMLModel",
          "model_module_version": "1.5.0",
          "state": {
            "_view_name": "HTMLView",
            "style": "IPY_MODEL_eef765d2dfb946df808044aadae9292f",
            "_dom_classes": [],
            "description": "",
            "_model_name": "HTMLModel",
            "placeholder": "​",
            "_view_module": "@jupyter-widgets/controls",
            "_model_module_version": "1.5.0",
            "value": "Epoch 0:   0%",
            "_view_count": null,
            "_view_module_version": "1.5.0",
            "description_tooltip": null,
            "_model_module": "@jupyter-widgets/controls",
            "layout": "IPY_MODEL_fab38b6046564b86a6c83956f15be2c1"
          }
        },
        "3271ea9234764d2e866d6a3b7a98a912": {
          "model_module": "@jupyter-widgets/controls",
          "model_name": "FloatProgressModel",
          "model_module_version": "1.5.0",
          "state": {
            "_view_name": "ProgressView",
            "style": "IPY_MODEL_0b3878f8a3d34049b7081ae233003d8b",
            "_dom_classes": [],
            "description": "",
            "_model_name": "FloatProgressModel",
            "bar_style": "",
            "max": 5075,
            "_view_module": "@jupyter-widgets/controls",
            "_model_module_version": "1.5.0",
            "value": 0,
            "_view_count": null,
            "_view_module_version": "1.5.0",
            "orientation": "horizontal",
            "min": 0,
            "description_tooltip": null,
            "_model_module": "@jupyter-widgets/controls",
            "layout": "IPY_MODEL_e6f18b73b14c49df85f14869b9e130e8"
          }
        },
        "ef8af98cba45487f981336fe63767599": {
          "model_module": "@jupyter-widgets/controls",
          "model_name": "HTMLModel",
          "model_module_version": "1.5.0",
          "state": {
            "_view_name": "HTMLView",
            "style": "IPY_MODEL_24819f69eb494c27b49727f9ac7d2822",
            "_dom_classes": [],
            "description": "",
            "_model_name": "HTMLModel",
            "placeholder": "​",
            "_view_module": "@jupyter-widgets/controls",
            "_model_module_version": "1.5.0",
            "value": " 0/5075 [00:00&lt;?, ?it/s]",
            "_view_count": null,
            "_view_module_version": "1.5.0",
            "description_tooltip": null,
            "_model_module": "@jupyter-widgets/controls",
            "layout": "IPY_MODEL_d484fd30c2ee4965acf0dfac88978f56"
          }
        },
        "eef765d2dfb946df808044aadae9292f": {
          "model_module": "@jupyter-widgets/controls",
          "model_name": "DescriptionStyleModel",
          "model_module_version": "1.5.0",
          "state": {
            "_view_name": "StyleView",
            "_model_name": "DescriptionStyleModel",
            "description_width": "",
            "_view_module": "@jupyter-widgets/base",
            "_model_module_version": "1.5.0",
            "_view_count": null,
            "_view_module_version": "1.2.0",
            "_model_module": "@jupyter-widgets/controls"
          }
        },
        "fab38b6046564b86a6c83956f15be2c1": {
          "model_module": "@jupyter-widgets/base",
          "model_name": "LayoutModel",
          "model_module_version": "1.2.0",
          "state": {
            "_view_name": "LayoutView",
            "grid_template_rows": null,
            "right": null,
            "justify_content": null,
            "_view_module": "@jupyter-widgets/base",
            "overflow": null,
            "_model_module_version": "1.2.0",
            "_view_count": null,
            "flex_flow": null,
            "width": null,
            "min_width": null,
            "border": null,
            "align_items": null,
            "bottom": null,
            "_model_module": "@jupyter-widgets/base",
            "top": null,
            "grid_column": null,
            "overflow_y": null,
            "overflow_x": null,
            "grid_auto_flow": null,
            "grid_area": null,
            "grid_template_columns": null,
            "flex": null,
            "_model_name": "LayoutModel",
            "justify_items": null,
            "grid_row": null,
            "max_height": null,
            "align_content": null,
            "visibility": null,
            "align_self": null,
            "height": null,
            "min_height": null,
            "padding": null,
            "grid_auto_rows": null,
            "grid_gap": null,
            "max_width": null,
            "order": null,
            "_view_module_version": "1.2.0",
            "grid_template_areas": null,
            "object_position": null,
            "object_fit": null,
            "grid_auto_columns": null,
            "margin": null,
            "display": null,
            "left": null
          }
        },
        "0b3878f8a3d34049b7081ae233003d8b": {
          "model_module": "@jupyter-widgets/controls",
          "model_name": "ProgressStyleModel",
          "model_module_version": "1.5.0",
          "state": {
            "_view_name": "StyleView",
            "_model_name": "ProgressStyleModel",
            "description_width": "",
            "_view_module": "@jupyter-widgets/base",
            "_model_module_version": "1.5.0",
            "_view_count": null,
            "_view_module_version": "1.2.0",
            "bar_color": null,
            "_model_module": "@jupyter-widgets/controls"
          }
        },
        "e6f18b73b14c49df85f14869b9e130e8": {
          "model_module": "@jupyter-widgets/base",
          "model_name": "LayoutModel",
          "model_module_version": "1.2.0",
          "state": {
            "_view_name": "LayoutView",
            "grid_template_rows": null,
            "right": null,
            "justify_content": null,
            "_view_module": "@jupyter-widgets/base",
            "overflow": null,
            "_model_module_version": "1.2.0",
            "_view_count": null,
            "flex_flow": null,
            "width": null,
            "min_width": null,
            "border": null,
            "align_items": null,
            "bottom": null,
            "_model_module": "@jupyter-widgets/base",
            "top": null,
            "grid_column": null,
            "overflow_y": null,
            "overflow_x": null,
            "grid_auto_flow": null,
            "grid_area": null,
            "grid_template_columns": null,
            "flex": "2",
            "_model_name": "LayoutModel",
            "justify_items": null,
            "grid_row": null,
            "max_height": null,
            "align_content": null,
            "visibility": null,
            "align_self": null,
            "height": null,
            "min_height": null,
            "padding": null,
            "grid_auto_rows": null,
            "grid_gap": null,
            "max_width": null,
            "order": null,
            "_view_module_version": "1.2.0",
            "grid_template_areas": null,
            "object_position": null,
            "object_fit": null,
            "grid_auto_columns": null,
            "margin": null,
            "display": null,
            "left": null
          }
        },
        "24819f69eb494c27b49727f9ac7d2822": {
          "model_module": "@jupyter-widgets/controls",
          "model_name": "DescriptionStyleModel",
          "model_module_version": "1.5.0",
          "state": {
            "_view_name": "StyleView",
            "_model_name": "DescriptionStyleModel",
            "description_width": "",
            "_view_module": "@jupyter-widgets/base",
            "_model_module_version": "1.5.0",
            "_view_count": null,
            "_view_module_version": "1.2.0",
            "_model_module": "@jupyter-widgets/controls"
          }
        },
        "d484fd30c2ee4965acf0dfac88978f56": {
          "model_module": "@jupyter-widgets/base",
          "model_name": "LayoutModel",
          "model_module_version": "1.2.0",
          "state": {
            "_view_name": "LayoutView",
            "grid_template_rows": null,
            "right": null,
            "justify_content": null,
            "_view_module": "@jupyter-widgets/base",
            "overflow": null,
            "_model_module_version": "1.2.0",
            "_view_count": null,
            "flex_flow": null,
            "width": null,
            "min_width": null,
            "border": null,
            "align_items": null,
            "bottom": null,
            "_model_module": "@jupyter-widgets/base",
            "top": null,
            "grid_column": null,
            "overflow_y": null,
            "overflow_x": null,
            "grid_auto_flow": null,
            "grid_area": null,
            "grid_template_columns": null,
            "flex": null,
            "_model_name": "LayoutModel",
            "justify_items": null,
            "grid_row": null,
            "max_height": null,
            "align_content": null,
            "visibility": null,
            "align_self": null,
            "height": null,
            "min_height": null,
            "padding": null,
            "grid_auto_rows": null,
            "grid_gap": null,
            "max_width": null,
            "order": null,
            "_view_module_version": "1.2.0",
            "grid_template_areas": null,
            "object_position": null,
            "object_fit": null,
            "grid_auto_columns": null,
            "margin": null,
            "display": null,
            "left": null
          }
        }
      }
    }
  },
  "cells": [
    {
      "cell_type": "code",
      "metadata": {
        "colab": {
          "base_uri": "https://localhost:8080/"
        },
        "id": "nf1aJcOBd1V_",
        "outputId": "a280aa09-53c6-48d1-9004-1160bc142bbf"
      },
      "source": [
        "from google.colab import drive\n",
        "drive.mount('/content/drive')\n",
        "\n",
        "BASE_DIR = '/content/drive/My Drive/'"
      ],
      "execution_count": 1,
      "outputs": [
        {
          "output_type": "stream",
          "name": "stdout",
          "text": [
            "Mounted at /content/drive\n"
          ]
        }
      ]
    },
    {
      "cell_type": "code",
      "metadata": {
        "id": "BSQA51NzjxHo"
      },
      "source": [
        "import zipfile\n",
        "\n",
        "def extract_zip_file(filename):\n",
        "    \n",
        "    if not zipfile.is_zipfile(filename):\n",
        "        raise ValueError('Your file has wrong extension.')\n",
        "    \n",
        "    z = zipfile.ZipFile(filename, 'r')\n",
        "    z.extractall()\n",
        "\n",
        "\n",
        "test_opus_filename = '/content/drive/My Drive/test_opus.zip'\n",
        "extract_zip_file(test_opus_filename)\n",
        "\n",
        "train_opus_filename = '/content/drive/My Drive/train_opus.zip'\n",
        "extract_zip_file(train_opus_filename)"
      ],
      "execution_count": 4,
      "outputs": []
    },
    {
      "cell_type": "code",
      "metadata": {
        "id": "lJz6FDU1lRzc"
      },
      "source": [
        "!pip install wget\n",
        "!apt-get install sox libsndfile1 ffmpeg\n",
        "!pip install unidecode\n",
        "\n",
        "## Install NeMo\n",
        "!python -m pip install nemo_toolkit[all]"
      ],
      "execution_count": null,
      "outputs": []
    },
    {
      "cell_type": "code",
      "metadata": {
        "id": "Yb4fuUvWlRzk",
        "scrolled": true
      },
      "source": [
        "import glob\n",
        "import os\n",
        "import subprocess\n",
        "import tarfile\n",
        "import wget\n",
        "from tqdm.notebook import tqdm\n",
        "\n",
        "\n",
        "# Папка, где будет размещаться датасет Golos\n",
        "data_dir = '/content'\n",
        "\n",
        "def load(golos_url, fname):\n",
        "  if not os.path.exists(os.path.join(data_dir, fname)):\n",
        "      golos_path = wget.download(golos_url, os.path.join(data_dir, fname))\n",
        "  else:\n",
        "      golos_path = os.path.join(data_dir, fname)\n",
        "  return golos_path"
      ],
      "execution_count": 46,
      "outputs": []
    },
    {
      "cell_type": "code",
      "metadata": {
        "id": "4_W0lhaQlRzx"
      },
      "source": [
        "import nemo\n",
        "import nemo.collections.asr as nemo_asr\n",
        "\n",
        "import logging\n",
        "logging.getLogger('nemo_logger').setLevel(logging.ERROR)"
      ],
      "execution_count": 58,
      "outputs": []
    },
    {
      "cell_type": "code",
      "metadata": {
        "colab": {
          "base_uri": "https://localhost:8080/"
        },
        "id": "KFZZpYult96G",
        "outputId": "0d6f4bb4-b049-40d2-c0b8-a4caf9cd9935"
      },
      "source": [
        "load(\"https://sc.link/ZMv\", \"QuartzNet15x5_golos.nemo\")\n",
        "asr_model = nemo_asr.models.EncDecCTCModel.restore_from(\"QuartzNet15x5_golos.nemo\")"
      ],
      "execution_count": 9,
      "outputs": [
        {
          "output_type": "stream",
          "name": "stderr",
          "text": [
            "[NeMo W 2021-11-30 11:43:57 modelPT:131] If you intend to do training or fine-tuning, please call the ModelPT.setup_training_data() method and provide a valid configuration file to setup the train data loader.\n",
            "    Train config : \n",
            "    manifest_filepath: train/golos_and_mcv.jsonl\n",
            "    sample_rate: 16000\n",
            "    labels:\n",
            "    - ' '\n",
            "    - а\n",
            "    - б\n",
            "    - в\n",
            "    - г\n",
            "    - д\n",
            "    - е\n",
            "    - ж\n",
            "    - з\n",
            "    - и\n",
            "    - й\n",
            "    - к\n",
            "    - л\n",
            "    - м\n",
            "    - н\n",
            "    - о\n",
            "    - п\n",
            "    - р\n",
            "    - с\n",
            "    - т\n",
            "    - у\n",
            "    - ф\n",
            "    - х\n",
            "    - ц\n",
            "    - ч\n",
            "    - ш\n",
            "    - щ\n",
            "    - ъ\n",
            "    - ы\n",
            "    - ь\n",
            "    - э\n",
            "    - ю\n",
            "    - я\n",
            "    batch_size: 64\n",
            "    trim_silence: false\n",
            "    max_duration: 20.0\n",
            "    min_duration: 0.1\n",
            "    num_workers: 20\n",
            "    shuffle: true\n",
            "    is_tarred: false\n",
            "    tarred_audio_filepaths: null\n",
            "    tarred_shard_strategy: scatter\n",
            "    parser: ru\n",
            "    \n",
            "[NeMo W 2021-11-30 11:43:57 modelPT:138] If you intend to do validation, please call the ModelPT.setup_validation_data() or ModelPT.setup_multiple_validation_data() method and provide a valid configuration file to setup the validation data loader(s). \n",
            "    Validation config : \n",
            "    manifest_filepath:\n",
            "    - test/mcv/dev_ru.jsonl\n",
            "    - test/mcv/test_ru.jsonl\n",
            "    - test/crowd/crowd.jsonl\n",
            "    - test/farfield/farfield.jsonl\n",
            "    sample_rate: 16000\n",
            "    labels:\n",
            "    - ' '\n",
            "    - а\n",
            "    - б\n",
            "    - в\n",
            "    - г\n",
            "    - д\n",
            "    - е\n",
            "    - ж\n",
            "    - з\n",
            "    - и\n",
            "    - й\n",
            "    - к\n",
            "    - л\n",
            "    - м\n",
            "    - н\n",
            "    - о\n",
            "    - п\n",
            "    - р\n",
            "    - с\n",
            "    - т\n",
            "    - у\n",
            "    - ф\n",
            "    - х\n",
            "    - ц\n",
            "    - ч\n",
            "    - ш\n",
            "    - щ\n",
            "    - ъ\n",
            "    - ы\n",
            "    - ь\n",
            "    - э\n",
            "    - ю\n",
            "    - я\n",
            "    batch_size: 64\n",
            "    num_workers: 20\n",
            "    shuffle: false\n",
            "    parser: ru\n",
            "    \n",
            "[NeMo W 2021-11-30 11:43:57 modelPT:144] Please call the ModelPT.setup_test_data() or ModelPT.setup_multiple_test_data() method and provide a valid configuration file to setup the test data loader(s).\n",
            "    Test config : \n",
            "    manifest_filepath: test/mcv/test_ru.jsonl\n",
            "    sample_rate: 16000\n",
            "    labels:\n",
            "    - ' '\n",
            "    - а\n",
            "    - б\n",
            "    - в\n",
            "    - г\n",
            "    - д\n",
            "    - е\n",
            "    - ж\n",
            "    - з\n",
            "    - и\n",
            "    - й\n",
            "    - к\n",
            "    - л\n",
            "    - м\n",
            "    - н\n",
            "    - о\n",
            "    - п\n",
            "    - р\n",
            "    - с\n",
            "    - т\n",
            "    - у\n",
            "    - ф\n",
            "    - х\n",
            "    - ц\n",
            "    - ч\n",
            "    - ш\n",
            "    - щ\n",
            "    - ъ\n",
            "    - ы\n",
            "    - ь\n",
            "    - э\n",
            "    - ю\n",
            "    - я\n",
            "    batch_size: 64\n",
            "    shuffle: false\n",
            "    parser: ru\n",
            "    \n"
          ]
        },
        {
          "output_type": "stream",
          "name": "stdout",
          "text": [
            "[NeMo I 2021-11-30 11:43:57 features:265] PADDING: 16\n",
            "[NeMo I 2021-11-30 11:43:57 features:282] STFT using torch\n",
            "[NeMo I 2021-11-30 11:43:58 save_restore_connector:149] Model EncDecCTCModel was successfully restored from /content/QuartzNet15x5_golos.nemo.\n"
          ]
        }
      ]
    },
    {
      "cell_type": "code",
      "metadata": {
        "colab": {
          "base_uri": "https://localhost:8080/"
        },
        "id": "tZY5Qnu_rmb0",
        "outputId": "628f1abc-b4cd-42fb-e72e-9ac3bd6601c4"
      },
      "source": [
        "import torch\n",
        "\n",
        "# load state dict from Pytorch checkpoint (.ckpt)\n",
        "\n",
        "state_dict = torch.load('drive/MyDrive/epoch=0-step=1547.ckpt')['state_dict']\n",
        "preprocessor = {v.split('preprocessor.')[-1] : k for (v, k) in state_dict.items() if v.startswith('preprocessor')}\n",
        "asr_model.preprocessor.load_state_dict(preprocessor)\n",
        "\n",
        "encoder = {v[8:] : k for (v, k) in state_dict.items() if v.startswith('encoder')}\n",
        "asr_model.encoder.load_state_dict(encoder)\n",
        "\n",
        "decoder = {v.split('decoder.')[-1] : k for (v, k) in state_dict.items() if v.startswith('decoder')}\n",
        "asr_model.decoder.load_state_dict(decoder)"
      ],
      "execution_count": 10,
      "outputs": [
        {
          "output_type": "execute_result",
          "data": {
            "text/plain": [
              "<All keys matched successfully>"
            ]
          },
          "metadata": {},
          "execution_count": 10
        }
      ]
    },
    {
      "cell_type": "code",
      "metadata": {
        "id": "mTbexFB90Iag"
      },
      "source": [
        "import json\n",
        "\n",
        "\n",
        "# load test manifest\n",
        "manifest_path = os.path.split(os.path.abspath(\"test_opus/farfield/manifest.jsonl\"))[0]\n",
        "with open(\"test_opus/farfield/manifest.jsonl\", 'r') as fin:\n",
        "    with open(\"test_opus/farfield/manifest_abs.jsonl\", 'w') as fout:\n",
        "        for line in fin:\n",
        "            metadata = json.loads(line)\n",
        "            metadata[\"audio_filepath\"] = os.path.join(manifest_path, metadata[\"audio_filepath\"])\n",
        "            json.dump(metadata, fout)\n",
        "            fout.write('\\n')\n",
        "\n",
        "\n",
        "# load val manifest\n",
        "i = 0\n",
        "manifest_path = os.path.split(os.path.abspath(\"test_opus/farfield/manifest.jsonl\"))[0]\n",
        "with open(\"test_opus/farfield/manifest.jsonl\", 'r') as fin:\n",
        "    with open(\"test_opus/farfield/manifest_val_abs.jsonl\", 'w') as fout:\n",
        "        for line in fin:\n",
        "            if i < 10:\n",
        "                i += 1\n",
        "                metadata = json.loads(line)\n",
        "                metadata[\"audio_filepath\"] = os.path.join(manifest_path, metadata[\"audio_filepath\"])\n",
        "                json.dump(metadata, fout)\n",
        "                fout.write('\\n')\n",
        "            else:\n",
        "                break\n",
        "\n",
        "\n",
        "# load train manifest\n",
        "i = 0\n",
        "manifest_path = os.path.split(os.path.abspath(\"/content/drive/My Drive/manifest.jsonl\"))[0]\n",
        "with open(\"/content/drive/My Drive/manifest.jsonl\", 'r') as fin:\n",
        "    with open(\"/content/drive/My Drive/manifest_abs.jsonl\", 'w') as fout:\n",
        "        for line in fin:\n",
        "            metadata = json.loads(line)\n",
        "            if metadata[\"audio_filepath\"].startswith('crowd'):\n",
        "                continue\n",
        "            \n",
        "            if i < 62000:  # just left 50% data\n",
        "                i += 1\n",
        "                metadata[\"audio_filepath\"] = os.path.join(\"/content/\", metadata[\"audio_filepath\"])\n",
        "                json.dump(metadata, fout)\n",
        "                fout.write('\\n')\n",
        "            else:\n",
        "                break"
      ],
      "execution_count": 53,
      "outputs": []
    },
    {
      "cell_type": "code",
      "metadata": {
        "id": "2hvbHNj4XM__"
      },
      "source": [
        "#! head \"/content/drive/My Drive/manifest_abs.jsonl\" # train"
      ],
      "execution_count": 13,
      "outputs": []
    },
    {
      "cell_type": "code",
      "metadata": {
        "id": "zrXH_HSLqr3F"
      },
      "source": [
        "#! head \"test_opus/farfield/manifest_abs.jsonl\" # test"
      ],
      "execution_count": 15,
      "outputs": []
    },
    {
      "cell_type": "code",
      "metadata": {
        "id": "xr-yhDz_YaBg"
      },
      "source": [
        "train_manifest = \"/content/drive/My Drive/manifest_abs.jsonl\"\n",
        "test_manifest = \"test_opus/farfield/manifest_abs.jsonl\"\n",
        "val_manifest = \"test_opus/farfield/manifest_val_abs.jsonl\""
      ],
      "execution_count": 54,
      "outputs": []
    },
    {
      "cell_type": "code",
      "metadata": {
        "id": "bxQpQrYq5l5c",
        "colab": {
          "base_uri": "https://localhost:8080/"
        },
        "outputId": "d169ce3e-2a05-4449-b1c0-543e63b47c78"
      },
      "source": [
        "def load_jsonl(path):\n",
        "    data = {}\n",
        "    with open(path, 'r', encoding='utf-8') as reader:\n",
        "        for line in reader:\n",
        "            dict_manifest = json.loads(line)\n",
        "            file = dict_manifest[\"id\"] + \".opus\"\n",
        "            data[file] = dict_manifest[\"text\"]\n",
        "    return data\n",
        "\n",
        "len(load_jsonl(train_manifest))"
      ],
      "execution_count": 29,
      "outputs": [
        {
          "output_type": "execute_result",
          "data": {
            "text/plain": [
              "62000"
            ]
          },
          "metadata": {},
          "execution_count": 29
        }
      ]
    },
    {
      "cell_type": "code",
      "metadata": {
        "id": "LfgYWqIk6kFr"
      },
      "source": [
        "#train_path = '/content/farfield/'\n",
        "#filenames = os.listdir(train_path)\n",
        "#train_files = [train_path + filename for filename in filenames]\n",
        "#\n",
        "#pairs = []\n",
        "#\n",
        "#for fname in tqdm(train_files):\n",
        "#    prediction = asr_model.transcribe(paths2audio_files=[fname], batch_size=1)[0]\n",
        "#    filename = fname.split('/content/farfield/')[-1]\n",
        "#    real_transcription = ground_truth_train[filename]\n",
        "#    pairs.append((fname, real_transcription, prediction))\n",
        "#\n",
        "#print('*****')"
      ],
      "execution_count": 49,
      "outputs": []
    },
    {
      "cell_type": "code",
      "metadata": {
        "id": "mRqwuhHAoCvo"
      },
      "source": [
        "params_model = asr_model._cfg\n",
        "\n",
        "params_model['train_ds']['parser'] = 'base'\n",
        "params_model['validation_ds']['parser'] = 'base'\n",
        "params_model['test_ds']['parser'] = 'base'\n",
        "params_model['train_ds']['manifest_filepath'] = train_manifest\n",
        "params_model['train_ds']['batch_size'] = 16\n",
        "params_model['validation_ds']['manifest_filepath'] = test_manifest\n",
        "params_model['validation_ds']['batch_size'] = 16\n",
        "params_model['test_ds']['manifest_filepath'] = test_manifest\n",
        "params_model['test_ds']['batch_size'] = 16\n",
        "\n",
        "params_model['optim']['lr'] = 0.0005"
      ],
      "execution_count": 55,
      "outputs": []
    },
    {
      "cell_type": "code",
      "metadata": {
        "id": "bqIAbBtOfkJy"
      },
      "source": [
        "from omegaconf import DictConfig\n",
        "import pytorch_lightning as pl\n",
        "from pytorch_lightning.callbacks import ModelCheckpoint\n",
        "\n",
        "\n",
        "class CusModelCheckpoint(ModelCheckpoint):\n",
        "    \n",
        "    def __init__(self):\n",
        "        pass\n",
        "\n",
        "    def on_validation_end(self, trainer, pl_module):\n",
        "        self.save_checkpoint(trainer, pl_module)\n",
        "\n",
        "    def on_train_epoch_end(self, trainer, pl_module, outputs):\n",
        "        self.save_checkpoint(trainer, pl_module)\n",
        "    \n",
        "ckpt_callback = CusModelCheckpoint()"
      ],
      "execution_count": 56,
      "outputs": []
    },
    {
      "cell_type": "code",
      "metadata": {
        "colab": {
          "base_uri": "https://localhost:8080/",
          "height": 1000,
          "referenced_widgets": [
            "8dd0947cdfe84ae58208d6433e962ab5",
            "aaf9b69ac7bd4dedb19d5419ab9487c5",
            "a3f0de7f43264299be35fd81dd5dd489",
            "a9b432112d8b4ec0bd8de3087700929f",
            "72c526800a294fc9b46ae09c2307d4ef",
            "4fc6637a0040461082e0f2c8682c8e7d",
            "baa6c7bb6e0d4cba91aaed734e57f2c5",
            "d46d8deebed34c3481ef25b26d49b6dc",
            "e2a2d25e9d0041989c9990b81aafe62b",
            "82c453459d634baabb253e8233e34ebe",
            "8c2b8edb180444c89ead7d7e6132d426",
            "77334b921ecc47d0b8abe650ce861bdc",
            "375009b868cb4476b1a751b60d1ae9f0",
            "9a90f2d350e7400996e5c97a839c46d9",
            "3271ea9234764d2e866d6a3b7a98a912",
            "ef8af98cba45487f981336fe63767599",
            "eef765d2dfb946df808044aadae9292f",
            "fab38b6046564b86a6c83956f15be2c1",
            "0b3878f8a3d34049b7081ae233003d8b",
            "e6f18b73b14c49df85f14869b9e130e8",
            "24819f69eb494c27b49727f9ac7d2822",
            "d484fd30c2ee4965acf0dfac88978f56"
          ]
        },
        "id": "r9nJuZdDenth",
        "outputId": "64c683c8-556e-42c7-a603-f74ffd0e88a7"
      },
      "source": [
        "asr_model.cuda()\n",
        "\n",
        "asr_model.setup_optimization(optim_config=DictConfig(params_model['optim']))\n",
        "asr_model.setup_training_data(train_data_config=params_model['train_ds'])\n",
        "asr_model.setup_validation_data(val_data_config=params_model['validation_ds'])\n",
        "\n",
        "trainer = pl.Trainer(gpus=1, max_epochs=1, val_check_interval=0.1)\n",
        "trainer.fit(asr_model)"
      ],
      "execution_count": 57,
      "outputs": [
        {
          "output_type": "stream",
          "name": "stderr",
          "text": [
            "[NeMo W 2021-11-30 12:14:30 modelPT:453] Trainer wasn't specified in model constructor. Make sure that you really wanted it.\n"
          ]
        },
        {
          "output_type": "stream",
          "name": "stdout",
          "text": [
            "[NeMo I 2021-11-30 12:14:30 modelPT:561] Optimizer config = Novograd (\n",
            "    Parameter Group 0\n",
            "        amsgrad: False\n",
            "        betas: [0.9, 0.98]\n",
            "        eps: 1e-08\n",
            "        grad_averaging: False\n",
            "        lr: 0.0005\n",
            "        weight_decay: 0.001\n",
            "    )\n"
          ]
        },
        {
          "output_type": "stream",
          "name": "stderr",
          "text": [
            "[NeMo W 2021-11-30 12:14:30 lr_scheduler:732] Neither `max_steps` nor `iters_per_batch` were provided to `optim.sched`, cannot compute effective `max_steps` !\n",
            "    Scheduler will not be instantiated !\n"
          ]
        },
        {
          "output_type": "stream",
          "name": "stdout",
          "text": [
            "[NeMo I 2021-11-30 12:14:39 collections:173] Dataset loaded with 61998 files totalling 72.20 hours\n",
            "[NeMo I 2021-11-30 12:14:39 collections:174] 2 files were filtered totalling 0.00 hours\n"
          ]
        },
        {
          "output_type": "stream",
          "name": "stderr",
          "text": [
            "[NeMo W 2021-11-30 12:14:39 nemo_logging:349] /usr/local/lib/python3.7/dist-packages/torch/utils/data/dataloader.py:481: UserWarning: This DataLoader will create 20 worker processes in total. Our suggested max number of worker in current system is 2, which is smaller than what this DataLoader is going to create. Please be aware that excessive worker creation might get DataLoader running slow or even freeze, lower the worker number to avoid potential slowness/freeze if necessary.\n",
            "      cpuset_checked))\n",
            "    \n"
          ]
        },
        {
          "output_type": "stream",
          "name": "stdout",
          "text": [
            "[NeMo I 2021-11-30 12:14:39 collections:173] Dataset loaded with 1916 files totalling 1.41 hours\n",
            "[NeMo I 2021-11-30 12:14:39 collections:174] 0 files were filtered totalling 0.00 hours\n"
          ]
        },
        {
          "output_type": "stream",
          "name": "stderr",
          "text": [
            "GPU available: True, used: True\n",
            "TPU available: False, using: 0 TPU cores\n",
            "IPU available: False, using: 0 IPUs\n",
            "LOCAL_RANK: 0 - CUDA_VISIBLE_DEVICES: [0]\n",
            "[NeMo W 2021-11-30 12:14:39 modelPT:453] Trainer wasn't specified in model constructor. Make sure that you really wanted it.\n"
          ]
        },
        {
          "output_type": "stream",
          "name": "stdout",
          "text": [
            "[NeMo I 2021-11-30 12:14:39 modelPT:561] Optimizer config = Novograd (\n",
            "    Parameter Group 0\n",
            "        amsgrad: False\n",
            "        betas: [0.9, 0.98]\n",
            "        eps: 1e-08\n",
            "        grad_averaging: False\n",
            "        lr: 0.0005\n",
            "        weight_decay: 0.001\n",
            "    )\n"
          ]
        },
        {
          "output_type": "stream",
          "name": "stderr",
          "text": [
            "[NeMo W 2021-11-30 12:14:39 lr_scheduler:732] Neither `max_steps` nor `iters_per_batch` were provided to `optim.sched`, cannot compute effective `max_steps` !\n",
            "    Scheduler will not be instantiated !\n",
            "\n",
            "  | Name              | Type                              | Params\n",
            "------------------------------------------------------------------------\n",
            "0 | preprocessor      | AudioToMelSpectrogramPreprocessor | 0     \n",
            "1 | encoder           | ConvASREncoder                    | 18.9 M\n",
            "2 | decoder           | ConvASRDecoder                    | 34.9 K\n",
            "3 | loss              | CTCLoss                           | 0     \n",
            "4 | spec_augmentation | SpectrogramAugmentation           | 0     \n",
            "5 | _wer              | WER                               | 0     \n",
            "------------------------------------------------------------------------\n",
            "18.9 M    Trainable params\n",
            "0         Non-trainable params\n",
            "18.9 M    Total params\n",
            "75.718    Total estimated model params size (MB)\n"
          ]
        },
        {
          "output_type": "display_data",
          "data": {
            "application/vnd.jupyter.widget-view+json": {
              "model_id": "8dd0947cdfe84ae58208d6433e962ab5",
              "version_minor": 0,
              "version_major": 2
            },
            "text/plain": [
              "Validation sanity check: 0it [00:00, ?it/s]"
            ]
          },
          "metadata": {}
        },
        {
          "output_type": "stream",
          "name": "stderr",
          "text": [
            "[NeMo W 2021-11-30 12:16:26 nemo_logging:349] /usr/local/lib/python3.7/dist-packages/nemo/collections/asr/parts/submodules/jasper.py:280: UserWarning: __floordiv__ is deprecated, and its behavior will change in a future version of pytorch. It currently rounds toward 0 (like the 'trunc' function NOT 'floor'). This results in incorrect rounding for negative values. To keep the current behavior, use torch.div(a, b, rounding_mode='trunc'), or for actual floor division, use torch.div(a, b, rounding_mode='floor').\n",
            "      ) // self.conv.stride[0] + 1\n",
            "    \n"
          ]
        },
        {
          "output_type": "display_data",
          "data": {
            "application/vnd.jupyter.widget-view+json": {
              "model_id": "77334b921ecc47d0b8abe650ce861bdc",
              "version_minor": 0,
              "version_major": 2
            },
            "text/plain": [
              "Training: 0it [00:00, ?it/s]"
            ]
          },
          "metadata": {}
        },
        {
          "output_type": "stream",
          "name": "stderr",
          "text": [
            "[NeMo W 2021-11-30 12:17:08 nemo_logging:349] /usr/local/lib/python3.7/dist-packages/pytorch_lightning/trainer/trainer.py:685: UserWarning: Detected KeyboardInterrupt, attempting graceful shutdown...\n",
            "      rank_zero_warn(\"Detected KeyboardInterrupt, attempting graceful shutdown...\")\n",
            "    \n"
          ]
        }
      ]
    },
    {
      "cell_type": "markdown",
      "metadata": {
        "id": "jpYXX-GslR0E"
      },
      "source": [
        "If you'd like to save this model checkpoint for loading later (e.g. for fine-tuning, or for continuing training), you can simply call `first_asr_model.save_to(<checkpoint_path>)`. Then, to restore your weights, you can rebuild the model using the config (let's say you call it `first_asr_model_continued` this time) and call `first_asr_model_continued.restore_from(<checkpoint_path>)`.\n"
      ]
    },
    {
      "cell_type": "markdown",
      "metadata": {
        "id": "6FiCfLX0D7py"
      },
      "source": [
        "Below is an example of a simple inference loop in pure PyTorch. It also shows how one can compute Word Error Rate (WER) metric between predictions and references."
      ]
    },
    {
      "cell_type": "code",
      "metadata": {
        "colab": {
          "base_uri": "https://localhost:8080/"
        },
        "id": "7mP4r1Gx_Ilt",
        "outputId": "18d6697d-3de0-466f-8dc2-01dfdc6b1fb2"
      },
      "source": [
        "# Bigger batch-size = bigger throughput\n",
        "# params['model']['validation_ds']['batch_size'] = 16\n",
        "# Setup the test data loader and make sure the model is on GPU\n",
        "asr_model.setup_test_data(test_data_config=params_model['test_ds'])\n",
        "asr_model.cuda()\n",
        "\n",
        "# We will be computing Word Error Rate (WER) metric between our hypothesis and predictions.\n",
        "# WER is computed as numerator/denominator.\n",
        "# We'll gather all the test batches' numerators and denominators.\n",
        "wer_nums = []\n",
        "wer_denoms = []\n",
        "\n",
        "# Loop over all test batches.\n",
        "# Iterating over the model's `test_dataloader` will give us:\n",
        "# (audio_signal, audio_signal_length, transcript_tokens, transcript_length)\n",
        "# See the AudioToCharDataset for more details.\n",
        "for test_batch in asr_model.test_dataloader():\n",
        "        test_batch = [x.cuda() for x in test_batch]\n",
        "        targets = test_batch[2]\n",
        "        targets_lengths = test_batch[3]        \n",
        "        log_probs, encoded_len, greedy_predictions = asr_model(\n",
        "            input_signal=test_batch[0], input_signal_length=test_batch[1]\n",
        "        )\n",
        "        # Notice the model has a helper object to compute WER\n",
        "        asr_model._wer.update(greedy_predictions, targets, targets_lengths)\n",
        "        _, wer_num, wer_denom = asr_model._wer.compute()\n",
        "        asr_model._wer.reset()\n",
        "        wer_nums.append(wer_num.detach().cpu().numpy())\n",
        "        wer_denoms.append(wer_denom.detach().cpu().numpy())\n",
        "\n",
        "        # Release tensors from GPU memory\n",
        "        del test_batch, log_probs, targets, targets_lengths, encoded_len, greedy_predictions\n",
        "\n",
        "# We need to sum all numerators and denominators first. Then divide.\n",
        "print(f\"WER = {sum(wer_nums)/sum(wer_denoms)}\")"
      ],
      "execution_count": 61,
      "outputs": [
        {
          "output_type": "stream",
          "name": "stdout",
          "text": [
            "WER = 0.5328017159760136\n"
          ]
        }
      ]
    },
    {
      "cell_type": "code",
      "metadata": {
        "id": "Ave2ecGsx538"
      },
      "source": [
        ""
      ],
      "execution_count": null,
      "outputs": []
    }
  ]
}