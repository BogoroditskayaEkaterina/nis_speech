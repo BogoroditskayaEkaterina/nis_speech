{
  "nbformat": 4,
  "nbformat_minor": 0,
  "metadata": {
    "colab": {
      "name": "ASR_HW.ipynb",
      "provenance": []
    },
    "kernelspec": {
      "name": "python3",
      "display_name": "Python 3"
    },
    "language_info": {
      "name": "python"
    },
    "accelerator": "GPU",
    "widgets": {
      "application/vnd.jupyter.widget-state+json": {
        "babc3aa114be4dada2124ff36067a31f": {
          "model_module": "@jupyter-widgets/controls",
          "model_name": "HBoxModel",
          "model_module_version": "1.5.0",
          "state": {
            "_view_name": "HBoxView",
            "_dom_classes": [],
            "_model_name": "HBoxModel",
            "_view_module": "@jupyter-widgets/controls",
            "_model_module_version": "1.5.0",
            "_view_count": null,
            "_view_module_version": "1.5.0",
            "box_style": "",
            "layout": "IPY_MODEL_c13a02315816446f878ba6b3b78776f8",
            "_model_module": "@jupyter-widgets/controls",
            "children": [
              "IPY_MODEL_3ad8759db6194ccb979a8d15457b06e6",
              "IPY_MODEL_78df0853b9d14d6b909d42acf92baf73",
              "IPY_MODEL_dd274ff981414caabc7c0266ec483735"
            ]
          }
        },
        "c13a02315816446f878ba6b3b78776f8": {
          "model_module": "@jupyter-widgets/base",
          "model_name": "LayoutModel",
          "model_module_version": "1.2.0",
          "state": {
            "_view_name": "LayoutView",
            "grid_template_rows": null,
            "right": null,
            "justify_content": null,
            "_view_module": "@jupyter-widgets/base",
            "overflow": null,
            "_model_module_version": "1.2.0",
            "_view_count": null,
            "flex_flow": null,
            "width": null,
            "min_width": null,
            "border": null,
            "align_items": null,
            "bottom": null,
            "_model_module": "@jupyter-widgets/base",
            "top": null,
            "grid_column": null,
            "overflow_y": null,
            "overflow_x": null,
            "grid_auto_flow": null,
            "grid_area": null,
            "grid_template_columns": null,
            "flex": null,
            "_model_name": "LayoutModel",
            "justify_items": null,
            "grid_row": null,
            "max_height": null,
            "align_content": null,
            "visibility": null,
            "align_self": null,
            "height": null,
            "min_height": null,
            "padding": null,
            "grid_auto_rows": null,
            "grid_gap": null,
            "max_width": null,
            "order": null,
            "_view_module_version": "1.2.0",
            "grid_template_areas": null,
            "object_position": null,
            "object_fit": null,
            "grid_auto_columns": null,
            "margin": null,
            "display": null,
            "left": null
          }
        },
        "3ad8759db6194ccb979a8d15457b06e6": {
          "model_module": "@jupyter-widgets/controls",
          "model_name": "HTMLModel",
          "model_module_version": "1.5.0",
          "state": {
            "_view_name": "HTMLView",
            "style": "IPY_MODEL_2f485ca71a4f43dab9aa7891dc36a94a",
            "_dom_classes": [],
            "description": "",
            "_model_name": "HTMLModel",
            "placeholder": "​",
            "_view_module": "@jupyter-widgets/controls",
            "_model_module_version": "1.5.0",
            "value": "Transcribing: 100%",
            "_view_count": null,
            "_view_module_version": "1.5.0",
            "description_tooltip": null,
            "_model_module": "@jupyter-widgets/controls",
            "layout": "IPY_MODEL_e00dd86ac1e6412f8577662705ee4dba"
          }
        },
        "78df0853b9d14d6b909d42acf92baf73": {
          "model_module": "@jupyter-widgets/controls",
          "model_name": "FloatProgressModel",
          "model_module_version": "1.5.0",
          "state": {
            "_view_name": "ProgressView",
            "style": "IPY_MODEL_0a3b42a5d45143488aaed31e36c3155b",
            "_dom_classes": [],
            "description": "",
            "_model_name": "FloatProgressModel",
            "bar_style": "success",
            "max": 1,
            "_view_module": "@jupyter-widgets/controls",
            "_model_module_version": "1.5.0",
            "value": 1,
            "_view_count": null,
            "_view_module_version": "1.5.0",
            "orientation": "horizontal",
            "min": 0,
            "description_tooltip": null,
            "_model_module": "@jupyter-widgets/controls",
            "layout": "IPY_MODEL_e2d1763f5c624167b590dfbd92fddc30"
          }
        },
        "dd274ff981414caabc7c0266ec483735": {
          "model_module": "@jupyter-widgets/controls",
          "model_name": "HTMLModel",
          "model_module_version": "1.5.0",
          "state": {
            "_view_name": "HTMLView",
            "style": "IPY_MODEL_0a3f86a03cc74102b23afd3c327d098f",
            "_dom_classes": [],
            "description": "",
            "_model_name": "HTMLModel",
            "placeholder": "​",
            "_view_module": "@jupyter-widgets/controls",
            "_model_module_version": "1.5.0",
            "value": " 1/1 [00:00&lt;00:00,  2.57it/s]",
            "_view_count": null,
            "_view_module_version": "1.5.0",
            "description_tooltip": null,
            "_model_module": "@jupyter-widgets/controls",
            "layout": "IPY_MODEL_ee9536c8bcfc4bac90bac5db979b4716"
          }
        },
        "2f485ca71a4f43dab9aa7891dc36a94a": {
          "model_module": "@jupyter-widgets/controls",
          "model_name": "DescriptionStyleModel",
          "model_module_version": "1.5.0",
          "state": {
            "_view_name": "StyleView",
            "_model_name": "DescriptionStyleModel",
            "description_width": "",
            "_view_module": "@jupyter-widgets/base",
            "_model_module_version": "1.5.0",
            "_view_count": null,
            "_view_module_version": "1.2.0",
            "_model_module": "@jupyter-widgets/controls"
          }
        },
        "e00dd86ac1e6412f8577662705ee4dba": {
          "model_module": "@jupyter-widgets/base",
          "model_name": "LayoutModel",
          "model_module_version": "1.2.0",
          "state": {
            "_view_name": "LayoutView",
            "grid_template_rows": null,
            "right": null,
            "justify_content": null,
            "_view_module": "@jupyter-widgets/base",
            "overflow": null,
            "_model_module_version": "1.2.0",
            "_view_count": null,
            "flex_flow": null,
            "width": null,
            "min_width": null,
            "border": null,
            "align_items": null,
            "bottom": null,
            "_model_module": "@jupyter-widgets/base",
            "top": null,
            "grid_column": null,
            "overflow_y": null,
            "overflow_x": null,
            "grid_auto_flow": null,
            "grid_area": null,
            "grid_template_columns": null,
            "flex": null,
            "_model_name": "LayoutModel",
            "justify_items": null,
            "grid_row": null,
            "max_height": null,
            "align_content": null,
            "visibility": null,
            "align_self": null,
            "height": null,
            "min_height": null,
            "padding": null,
            "grid_auto_rows": null,
            "grid_gap": null,
            "max_width": null,
            "order": null,
            "_view_module_version": "1.2.0",
            "grid_template_areas": null,
            "object_position": null,
            "object_fit": null,
            "grid_auto_columns": null,
            "margin": null,
            "display": null,
            "left": null
          }
        },
        "0a3b42a5d45143488aaed31e36c3155b": {
          "model_module": "@jupyter-widgets/controls",
          "model_name": "ProgressStyleModel",
          "model_module_version": "1.5.0",
          "state": {
            "_view_name": "StyleView",
            "_model_name": "ProgressStyleModel",
            "description_width": "",
            "_view_module": "@jupyter-widgets/base",
            "_model_module_version": "1.5.0",
            "_view_count": null,
            "_view_module_version": "1.2.0",
            "bar_color": null,
            "_model_module": "@jupyter-widgets/controls"
          }
        },
        "e2d1763f5c624167b590dfbd92fddc30": {
          "model_module": "@jupyter-widgets/base",
          "model_name": "LayoutModel",
          "model_module_version": "1.2.0",
          "state": {
            "_view_name": "LayoutView",
            "grid_template_rows": null,
            "right": null,
            "justify_content": null,
            "_view_module": "@jupyter-widgets/base",
            "overflow": null,
            "_model_module_version": "1.2.0",
            "_view_count": null,
            "flex_flow": null,
            "width": null,
            "min_width": null,
            "border": null,
            "align_items": null,
            "bottom": null,
            "_model_module": "@jupyter-widgets/base",
            "top": null,
            "grid_column": null,
            "overflow_y": null,
            "overflow_x": null,
            "grid_auto_flow": null,
            "grid_area": null,
            "grid_template_columns": null,
            "flex": null,
            "_model_name": "LayoutModel",
            "justify_items": null,
            "grid_row": null,
            "max_height": null,
            "align_content": null,
            "visibility": null,
            "align_self": null,
            "height": null,
            "min_height": null,
            "padding": null,
            "grid_auto_rows": null,
            "grid_gap": null,
            "max_width": null,
            "order": null,
            "_view_module_version": "1.2.0",
            "grid_template_areas": null,
            "object_position": null,
            "object_fit": null,
            "grid_auto_columns": null,
            "margin": null,
            "display": null,
            "left": null
          }
        },
        "0a3f86a03cc74102b23afd3c327d098f": {
          "model_module": "@jupyter-widgets/controls",
          "model_name": "DescriptionStyleModel",
          "model_module_version": "1.5.0",
          "state": {
            "_view_name": "StyleView",
            "_model_name": "DescriptionStyleModel",
            "description_width": "",
            "_view_module": "@jupyter-widgets/base",
            "_model_module_version": "1.5.0",
            "_view_count": null,
            "_view_module_version": "1.2.0",
            "_model_module": "@jupyter-widgets/controls"
          }
        },
        "ee9536c8bcfc4bac90bac5db979b4716": {
          "model_module": "@jupyter-widgets/base",
          "model_name": "LayoutModel",
          "model_module_version": "1.2.0",
          "state": {
            "_view_name": "LayoutView",
            "grid_template_rows": null,
            "right": null,
            "justify_content": null,
            "_view_module": "@jupyter-widgets/base",
            "overflow": null,
            "_model_module_version": "1.2.0",
            "_view_count": null,
            "flex_flow": null,
            "width": null,
            "min_width": null,
            "border": null,
            "align_items": null,
            "bottom": null,
            "_model_module": "@jupyter-widgets/base",
            "top": null,
            "grid_column": null,
            "overflow_y": null,
            "overflow_x": null,
            "grid_auto_flow": null,
            "grid_area": null,
            "grid_template_columns": null,
            "flex": null,
            "_model_name": "LayoutModel",
            "justify_items": null,
            "grid_row": null,
            "max_height": null,
            "align_content": null,
            "visibility": null,
            "align_self": null,
            "height": null,
            "min_height": null,
            "padding": null,
            "grid_auto_rows": null,
            "grid_gap": null,
            "max_width": null,
            "order": null,
            "_view_module_version": "1.2.0",
            "grid_template_areas": null,
            "object_position": null,
            "object_fit": null,
            "grid_auto_columns": null,
            "margin": null,
            "display": null,
            "left": null
          }
        },
        "fb9de9017595467786d56cb78a8f2442": {
          "model_module": "@jupyter-widgets/controls",
          "model_name": "HBoxModel",
          "model_module_version": "1.5.0",
          "state": {
            "_view_name": "HBoxView",
            "_dom_classes": [],
            "_model_name": "HBoxModel",
            "_view_module": "@jupyter-widgets/controls",
            "_model_module_version": "1.5.0",
            "_view_count": null,
            "_view_module_version": "1.5.0",
            "box_style": "",
            "layout": "IPY_MODEL_6bbc49abe7bb4ce2b678878669a8992d",
            "_model_module": "@jupyter-widgets/controls",
            "children": [
              "IPY_MODEL_fd60cb1407d54567a81b2f3bf206313b",
              "IPY_MODEL_2087e7e088b04cdfa98b97d88469703a",
              "IPY_MODEL_c9a5295ac0cf4d6d8acecff0c0054316"
            ]
          }
        },
        "6bbc49abe7bb4ce2b678878669a8992d": {
          "model_module": "@jupyter-widgets/base",
          "model_name": "LayoutModel",
          "model_module_version": "1.2.0",
          "state": {
            "_view_name": "LayoutView",
            "grid_template_rows": null,
            "right": null,
            "justify_content": null,
            "_view_module": "@jupyter-widgets/base",
            "overflow": null,
            "_model_module_version": "1.2.0",
            "_view_count": null,
            "flex_flow": "row wrap",
            "width": "100%",
            "min_width": null,
            "border": null,
            "align_items": null,
            "bottom": null,
            "_model_module": "@jupyter-widgets/base",
            "top": null,
            "grid_column": null,
            "overflow_y": null,
            "overflow_x": null,
            "grid_auto_flow": null,
            "grid_area": null,
            "grid_template_columns": null,
            "flex": null,
            "_model_name": "LayoutModel",
            "justify_items": null,
            "grid_row": null,
            "max_height": null,
            "align_content": null,
            "visibility": null,
            "align_self": null,
            "height": null,
            "min_height": null,
            "padding": null,
            "grid_auto_rows": null,
            "grid_gap": null,
            "max_width": null,
            "order": null,
            "_view_module_version": "1.2.0",
            "grid_template_areas": null,
            "object_position": null,
            "object_fit": null,
            "grid_auto_columns": null,
            "margin": null,
            "display": "inline-flex",
            "left": null
          }
        },
        "fd60cb1407d54567a81b2f3bf206313b": {
          "model_module": "@jupyter-widgets/controls",
          "model_name": "HTMLModel",
          "model_module_version": "1.5.0",
          "state": {
            "_view_name": "HTMLView",
            "style": "IPY_MODEL_1ebfb09663964ec7b4c8ebd7685c58ef",
            "_dom_classes": [],
            "description": "",
            "_model_name": "HTMLModel",
            "placeholder": "​",
            "_view_module": "@jupyter-widgets/controls",
            "_model_module_version": "1.5.0",
            "value": "Validation sanity check:   0%",
            "_view_count": null,
            "_view_module_version": "1.5.0",
            "description_tooltip": null,
            "_model_module": "@jupyter-widgets/controls",
            "layout": "IPY_MODEL_aa78ad14c7ce4a1d8d18fd9ac250854f"
          }
        },
        "2087e7e088b04cdfa98b97d88469703a": {
          "model_module": "@jupyter-widgets/controls",
          "model_name": "FloatProgressModel",
          "model_module_version": "1.5.0",
          "state": {
            "_view_name": "ProgressView",
            "style": "IPY_MODEL_2f8d587c894d482f8e6a168d39b6ff91",
            "_dom_classes": [],
            "description": "",
            "_model_name": "FloatProgressModel",
            "bar_style": "danger",
            "max": 2,
            "_view_module": "@jupyter-widgets/controls",
            "_model_module_version": "1.5.0",
            "value": 0,
            "_view_count": null,
            "_view_module_version": "1.5.0",
            "orientation": "horizontal",
            "min": 0,
            "description_tooltip": null,
            "_model_module": "@jupyter-widgets/controls",
            "layout": "IPY_MODEL_54c522d3ca7a48f6b74558a3bfc45558"
          }
        },
        "c9a5295ac0cf4d6d8acecff0c0054316": {
          "model_module": "@jupyter-widgets/controls",
          "model_name": "HTMLModel",
          "model_module_version": "1.5.0",
          "state": {
            "_view_name": "HTMLView",
            "style": "IPY_MODEL_6b76964508974cd0b467a5abc09460d7",
            "_dom_classes": [],
            "description": "",
            "_model_name": "HTMLModel",
            "placeholder": "​",
            "_view_module": "@jupyter-widgets/controls",
            "_model_module_version": "1.5.0",
            "value": " 0/2 [00:03&lt;?, ?it/s]",
            "_view_count": null,
            "_view_module_version": "1.5.0",
            "description_tooltip": null,
            "_model_module": "@jupyter-widgets/controls",
            "layout": "IPY_MODEL_d0f049fc8bf646758ab27094240d34d0"
          }
        },
        "1ebfb09663964ec7b4c8ebd7685c58ef": {
          "model_module": "@jupyter-widgets/controls",
          "model_name": "DescriptionStyleModel",
          "model_module_version": "1.5.0",
          "state": {
            "_view_name": "StyleView",
            "_model_name": "DescriptionStyleModel",
            "description_width": "",
            "_view_module": "@jupyter-widgets/base",
            "_model_module_version": "1.5.0",
            "_view_count": null,
            "_view_module_version": "1.2.0",
            "_model_module": "@jupyter-widgets/controls"
          }
        },
        "aa78ad14c7ce4a1d8d18fd9ac250854f": {
          "model_module": "@jupyter-widgets/base",
          "model_name": "LayoutModel",
          "model_module_version": "1.2.0",
          "state": {
            "_view_name": "LayoutView",
            "grid_template_rows": null,
            "right": null,
            "justify_content": null,
            "_view_module": "@jupyter-widgets/base",
            "overflow": null,
            "_model_module_version": "1.2.0",
            "_view_count": null,
            "flex_flow": null,
            "width": null,
            "min_width": null,
            "border": null,
            "align_items": null,
            "bottom": null,
            "_model_module": "@jupyter-widgets/base",
            "top": null,
            "grid_column": null,
            "overflow_y": null,
            "overflow_x": null,
            "grid_auto_flow": null,
            "grid_area": null,
            "grid_template_columns": null,
            "flex": null,
            "_model_name": "LayoutModel",
            "justify_items": null,
            "grid_row": null,
            "max_height": null,
            "align_content": null,
            "visibility": null,
            "align_self": null,
            "height": null,
            "min_height": null,
            "padding": null,
            "grid_auto_rows": null,
            "grid_gap": null,
            "max_width": null,
            "order": null,
            "_view_module_version": "1.2.0",
            "grid_template_areas": null,
            "object_position": null,
            "object_fit": null,
            "grid_auto_columns": null,
            "margin": null,
            "display": null,
            "left": null
          }
        },
        "2f8d587c894d482f8e6a168d39b6ff91": {
          "model_module": "@jupyter-widgets/controls",
          "model_name": "ProgressStyleModel",
          "model_module_version": "1.5.0",
          "state": {
            "_view_name": "StyleView",
            "_model_name": "ProgressStyleModel",
            "description_width": "",
            "_view_module": "@jupyter-widgets/base",
            "_model_module_version": "1.5.0",
            "_view_count": null,
            "_view_module_version": "1.2.0",
            "bar_color": null,
            "_model_module": "@jupyter-widgets/controls"
          }
        },
        "54c522d3ca7a48f6b74558a3bfc45558": {
          "model_module": "@jupyter-widgets/base",
          "model_name": "LayoutModel",
          "model_module_version": "1.2.0",
          "state": {
            "_view_name": "LayoutView",
            "grid_template_rows": null,
            "right": null,
            "justify_content": null,
            "_view_module": "@jupyter-widgets/base",
            "overflow": null,
            "_model_module_version": "1.2.0",
            "_view_count": null,
            "flex_flow": null,
            "width": null,
            "min_width": null,
            "border": null,
            "align_items": null,
            "bottom": null,
            "_model_module": "@jupyter-widgets/base",
            "top": null,
            "grid_column": null,
            "overflow_y": null,
            "overflow_x": null,
            "grid_auto_flow": null,
            "grid_area": null,
            "grid_template_columns": null,
            "flex": "2",
            "_model_name": "LayoutModel",
            "justify_items": null,
            "grid_row": null,
            "max_height": null,
            "align_content": null,
            "visibility": null,
            "align_self": null,
            "height": null,
            "min_height": null,
            "padding": null,
            "grid_auto_rows": null,
            "grid_gap": null,
            "max_width": null,
            "order": null,
            "_view_module_version": "1.2.0",
            "grid_template_areas": null,
            "object_position": null,
            "object_fit": null,
            "grid_auto_columns": null,
            "margin": null,
            "display": null,
            "left": null
          }
        },
        "6b76964508974cd0b467a5abc09460d7": {
          "model_module": "@jupyter-widgets/controls",
          "model_name": "DescriptionStyleModel",
          "model_module_version": "1.5.0",
          "state": {
            "_view_name": "StyleView",
            "_model_name": "DescriptionStyleModel",
            "description_width": "",
            "_view_module": "@jupyter-widgets/base",
            "_model_module_version": "1.5.0",
            "_view_count": null,
            "_view_module_version": "1.2.0",
            "_model_module": "@jupyter-widgets/controls"
          }
        },
        "d0f049fc8bf646758ab27094240d34d0": {
          "model_module": "@jupyter-widgets/base",
          "model_name": "LayoutModel",
          "model_module_version": "1.2.0",
          "state": {
            "_view_name": "LayoutView",
            "grid_template_rows": null,
            "right": null,
            "justify_content": null,
            "_view_module": "@jupyter-widgets/base",
            "overflow": null,
            "_model_module_version": "1.2.0",
            "_view_count": null,
            "flex_flow": null,
            "width": null,
            "min_width": null,
            "border": null,
            "align_items": null,
            "bottom": null,
            "_model_module": "@jupyter-widgets/base",
            "top": null,
            "grid_column": null,
            "overflow_y": null,
            "overflow_x": null,
            "grid_auto_flow": null,
            "grid_area": null,
            "grid_template_columns": null,
            "flex": null,
            "_model_name": "LayoutModel",
            "justify_items": null,
            "grid_row": null,
            "max_height": null,
            "align_content": null,
            "visibility": null,
            "align_self": null,
            "height": null,
            "min_height": null,
            "padding": null,
            "grid_auto_rows": null,
            "grid_gap": null,
            "max_width": null,
            "order": null,
            "_view_module_version": "1.2.0",
            "grid_template_areas": null,
            "object_position": null,
            "object_fit": null,
            "grid_auto_columns": null,
            "margin": null,
            "display": null,
            "left": null
          }
        },
        "89b80856947a4d4aa0c06edbe170def6": {
          "model_module": "@jupyter-widgets/controls",
          "model_name": "HBoxModel",
          "model_module_version": "1.5.0",
          "state": {
            "_view_name": "HBoxView",
            "_dom_classes": [],
            "_model_name": "HBoxModel",
            "_view_module": "@jupyter-widgets/controls",
            "_model_module_version": "1.5.0",
            "_view_count": null,
            "_view_module_version": "1.5.0",
            "box_style": "",
            "layout": "IPY_MODEL_442f6ba284a44b99b642ea903f76f454",
            "_model_module": "@jupyter-widgets/controls",
            "children": [
              "IPY_MODEL_4332abd8016e4549a16d33e53742f1a7",
              "IPY_MODEL_c571f2501b804eb4a81c4371bed71044",
              "IPY_MODEL_1bf0b58db76546b9a642bbe386b8ffb7"
            ]
          }
        },
        "442f6ba284a44b99b642ea903f76f454": {
          "model_module": "@jupyter-widgets/base",
          "model_name": "LayoutModel",
          "model_module_version": "1.2.0",
          "state": {
            "_view_name": "LayoutView",
            "grid_template_rows": null,
            "right": null,
            "justify_content": null,
            "_view_module": "@jupyter-widgets/base",
            "overflow": null,
            "_model_module_version": "1.2.0",
            "_view_count": null,
            "flex_flow": "row wrap",
            "width": "100%",
            "min_width": null,
            "border": null,
            "align_items": null,
            "bottom": null,
            "_model_module": "@jupyter-widgets/base",
            "top": null,
            "grid_column": null,
            "overflow_y": null,
            "overflow_x": null,
            "grid_auto_flow": null,
            "grid_area": null,
            "grid_template_columns": null,
            "flex": null,
            "_model_name": "LayoutModel",
            "justify_items": null,
            "grid_row": null,
            "max_height": null,
            "align_content": null,
            "visibility": null,
            "align_self": null,
            "height": null,
            "min_height": null,
            "padding": null,
            "grid_auto_rows": null,
            "grid_gap": null,
            "max_width": null,
            "order": null,
            "_view_module_version": "1.2.0",
            "grid_template_areas": null,
            "object_position": null,
            "object_fit": null,
            "grid_auto_columns": null,
            "margin": null,
            "display": "inline-flex",
            "left": null
          }
        },
        "4332abd8016e4549a16d33e53742f1a7": {
          "model_module": "@jupyter-widgets/controls",
          "model_name": "HTMLModel",
          "model_module_version": "1.5.0",
          "state": {
            "_view_name": "HTMLView",
            "style": "IPY_MODEL_eb1490be2dc840bd86a002fce5ca5d3f",
            "_dom_classes": [],
            "description": "",
            "_model_name": "HTMLModel",
            "placeholder": "​",
            "_view_module": "@jupyter-widgets/controls",
            "_model_module_version": "1.5.0",
            "value": "Epoch 4: 100%",
            "_view_count": null,
            "_view_module_version": "1.5.0",
            "description_tooltip": null,
            "_model_module": "@jupyter-widgets/controls",
            "layout": "IPY_MODEL_200d095b0fe74242a695142eb4d75d7d"
          }
        },
        "c571f2501b804eb4a81c4371bed71044": {
          "model_module": "@jupyter-widgets/controls",
          "model_name": "FloatProgressModel",
          "model_module_version": "1.5.0",
          "state": {
            "_view_name": "ProgressView",
            "style": "IPY_MODEL_8baf60018237415496feb28b3563b5fa",
            "_dom_classes": [],
            "description": "",
            "_model_name": "FloatProgressModel",
            "bar_style": "success",
            "max": 505,
            "_view_module": "@jupyter-widgets/controls",
            "_model_module_version": "1.5.0",
            "value": 505,
            "_view_count": null,
            "_view_module_version": "1.5.0",
            "orientation": "horizontal",
            "min": 0,
            "description_tooltip": null,
            "_model_module": "@jupyter-widgets/controls",
            "layout": "IPY_MODEL_2e605a7aa51649be8a6a3768186c7d89"
          }
        },
        "1bf0b58db76546b9a642bbe386b8ffb7": {
          "model_module": "@jupyter-widgets/controls",
          "model_name": "HTMLModel",
          "model_module_version": "1.5.0",
          "state": {
            "_view_name": "HTMLView",
            "style": "IPY_MODEL_742b16aeae5e4ead866aeb5c9bc9d228",
            "_dom_classes": [],
            "description": "",
            "_model_name": "HTMLModel",
            "placeholder": "​",
            "_view_module": "@jupyter-widgets/controls",
            "_model_module_version": "1.5.0",
            "value": " 505/505 [12:11&lt;00:00,  1.45s/it, loss=9.29, v_num=8z7y]",
            "_view_count": null,
            "_view_module_version": "1.5.0",
            "description_tooltip": null,
            "_model_module": "@jupyter-widgets/controls",
            "layout": "IPY_MODEL_3c0cc8110fb24d328300399914e2576e"
          }
        },
        "eb1490be2dc840bd86a002fce5ca5d3f": {
          "model_module": "@jupyter-widgets/controls",
          "model_name": "DescriptionStyleModel",
          "model_module_version": "1.5.0",
          "state": {
            "_view_name": "StyleView",
            "_model_name": "DescriptionStyleModel",
            "description_width": "",
            "_view_module": "@jupyter-widgets/base",
            "_model_module_version": "1.5.0",
            "_view_count": null,
            "_view_module_version": "1.2.0",
            "_model_module": "@jupyter-widgets/controls"
          }
        },
        "200d095b0fe74242a695142eb4d75d7d": {
          "model_module": "@jupyter-widgets/base",
          "model_name": "LayoutModel",
          "model_module_version": "1.2.0",
          "state": {
            "_view_name": "LayoutView",
            "grid_template_rows": null,
            "right": null,
            "justify_content": null,
            "_view_module": "@jupyter-widgets/base",
            "overflow": null,
            "_model_module_version": "1.2.0",
            "_view_count": null,
            "flex_flow": null,
            "width": null,
            "min_width": null,
            "border": null,
            "align_items": null,
            "bottom": null,
            "_model_module": "@jupyter-widgets/base",
            "top": null,
            "grid_column": null,
            "overflow_y": null,
            "overflow_x": null,
            "grid_auto_flow": null,
            "grid_area": null,
            "grid_template_columns": null,
            "flex": null,
            "_model_name": "LayoutModel",
            "justify_items": null,
            "grid_row": null,
            "max_height": null,
            "align_content": null,
            "visibility": null,
            "align_self": null,
            "height": null,
            "min_height": null,
            "padding": null,
            "grid_auto_rows": null,
            "grid_gap": null,
            "max_width": null,
            "order": null,
            "_view_module_version": "1.2.0",
            "grid_template_areas": null,
            "object_position": null,
            "object_fit": null,
            "grid_auto_columns": null,
            "margin": null,
            "display": null,
            "left": null
          }
        },
        "8baf60018237415496feb28b3563b5fa": {
          "model_module": "@jupyter-widgets/controls",
          "model_name": "ProgressStyleModel",
          "model_module_version": "1.5.0",
          "state": {
            "_view_name": "StyleView",
            "_model_name": "ProgressStyleModel",
            "description_width": "",
            "_view_module": "@jupyter-widgets/base",
            "_model_module_version": "1.5.0",
            "_view_count": null,
            "_view_module_version": "1.2.0",
            "bar_color": null,
            "_model_module": "@jupyter-widgets/controls"
          }
        },
        "2e605a7aa51649be8a6a3768186c7d89": {
          "model_module": "@jupyter-widgets/base",
          "model_name": "LayoutModel",
          "model_module_version": "1.2.0",
          "state": {
            "_view_name": "LayoutView",
            "grid_template_rows": null,
            "right": null,
            "justify_content": null,
            "_view_module": "@jupyter-widgets/base",
            "overflow": null,
            "_model_module_version": "1.2.0",
            "_view_count": null,
            "flex_flow": null,
            "width": null,
            "min_width": null,
            "border": null,
            "align_items": null,
            "bottom": null,
            "_model_module": "@jupyter-widgets/base",
            "top": null,
            "grid_column": null,
            "overflow_y": null,
            "overflow_x": null,
            "grid_auto_flow": null,
            "grid_area": null,
            "grid_template_columns": null,
            "flex": "2",
            "_model_name": "LayoutModel",
            "justify_items": null,
            "grid_row": null,
            "max_height": null,
            "align_content": null,
            "visibility": null,
            "align_self": null,
            "height": null,
            "min_height": null,
            "padding": null,
            "grid_auto_rows": null,
            "grid_gap": null,
            "max_width": null,
            "order": null,
            "_view_module_version": "1.2.0",
            "grid_template_areas": null,
            "object_position": null,
            "object_fit": null,
            "grid_auto_columns": null,
            "margin": null,
            "display": null,
            "left": null
          }
        },
        "742b16aeae5e4ead866aeb5c9bc9d228": {
          "model_module": "@jupyter-widgets/controls",
          "model_name": "DescriptionStyleModel",
          "model_module_version": "1.5.0",
          "state": {
            "_view_name": "StyleView",
            "_model_name": "DescriptionStyleModel",
            "description_width": "",
            "_view_module": "@jupyter-widgets/base",
            "_model_module_version": "1.5.0",
            "_view_count": null,
            "_view_module_version": "1.2.0",
            "_model_module": "@jupyter-widgets/controls"
          }
        },
        "3c0cc8110fb24d328300399914e2576e": {
          "model_module": "@jupyter-widgets/base",
          "model_name": "LayoutModel",
          "model_module_version": "1.2.0",
          "state": {
            "_view_name": "LayoutView",
            "grid_template_rows": null,
            "right": null,
            "justify_content": null,
            "_view_module": "@jupyter-widgets/base",
            "overflow": null,
            "_model_module_version": "1.2.0",
            "_view_count": null,
            "flex_flow": null,
            "width": null,
            "min_width": null,
            "border": null,
            "align_items": null,
            "bottom": null,
            "_model_module": "@jupyter-widgets/base",
            "top": null,
            "grid_column": null,
            "overflow_y": null,
            "overflow_x": null,
            "grid_auto_flow": null,
            "grid_area": null,
            "grid_template_columns": null,
            "flex": null,
            "_model_name": "LayoutModel",
            "justify_items": null,
            "grid_row": null,
            "max_height": null,
            "align_content": null,
            "visibility": null,
            "align_self": null,
            "height": null,
            "min_height": null,
            "padding": null,
            "grid_auto_rows": null,
            "grid_gap": null,
            "max_width": null,
            "order": null,
            "_view_module_version": "1.2.0",
            "grid_template_areas": null,
            "object_position": null,
            "object_fit": null,
            "grid_auto_columns": null,
            "margin": null,
            "display": null,
            "left": null
          }
        },
        "1c6b9a07d9e34c57a5d162f98a57b943": {
          "model_module": "@jupyter-widgets/controls",
          "model_name": "HBoxModel",
          "model_module_version": "1.5.0",
          "state": {
            "_view_name": "HBoxView",
            "_dom_classes": [],
            "_model_name": "HBoxModel",
            "_view_module": "@jupyter-widgets/controls",
            "_model_module_version": "1.5.0",
            "_view_count": null,
            "_view_module_version": "1.5.0",
            "box_style": "",
            "layout": "IPY_MODEL_b8e274fc98ce450984759044d137c0e7",
            "_model_module": "@jupyter-widgets/controls",
            "children": [
              "IPY_MODEL_32a8a1debb1e4224b1ca626e13d7cc41",
              "IPY_MODEL_d73ae88cad014084a3f7549620143f3b",
              "IPY_MODEL_e83dc263314a483fb19677dd9a132888"
            ]
          }
        },
        "b8e274fc98ce450984759044d137c0e7": {
          "model_module": "@jupyter-widgets/base",
          "model_name": "LayoutModel",
          "model_module_version": "1.2.0",
          "state": {
            "_view_name": "LayoutView",
            "grid_template_rows": null,
            "right": null,
            "justify_content": null,
            "_view_module": "@jupyter-widgets/base",
            "overflow": null,
            "_model_module_version": "1.2.0",
            "_view_count": null,
            "flex_flow": "row wrap",
            "width": "100%",
            "min_width": null,
            "border": null,
            "align_items": null,
            "bottom": null,
            "_model_module": "@jupyter-widgets/base",
            "top": null,
            "grid_column": null,
            "overflow_y": null,
            "overflow_x": null,
            "grid_auto_flow": null,
            "grid_area": null,
            "grid_template_columns": null,
            "flex": null,
            "_model_name": "LayoutModel",
            "justify_items": null,
            "grid_row": null,
            "max_height": null,
            "align_content": null,
            "visibility": null,
            "align_self": null,
            "height": null,
            "min_height": null,
            "padding": null,
            "grid_auto_rows": null,
            "grid_gap": null,
            "max_width": null,
            "order": null,
            "_view_module_version": "1.2.0",
            "grid_template_areas": null,
            "object_position": null,
            "object_fit": null,
            "grid_auto_columns": null,
            "margin": null,
            "display": "inline-flex",
            "left": null
          }
        },
        "32a8a1debb1e4224b1ca626e13d7cc41": {
          "model_module": "@jupyter-widgets/controls",
          "model_name": "HTMLModel",
          "model_module_version": "1.5.0",
          "state": {
            "_view_name": "HTMLView",
            "style": "IPY_MODEL_5900223c1dd74e968350db8ca42a95ee",
            "_dom_classes": [],
            "description": "",
            "_model_name": "HTMLModel",
            "placeholder": "​",
            "_view_module": "@jupyter-widgets/controls",
            "_model_module_version": "1.5.0",
            "value": "Validating: 100%",
            "_view_count": null,
            "_view_module_version": "1.5.0",
            "description_tooltip": null,
            "_model_module": "@jupyter-widgets/controls",
            "layout": "IPY_MODEL_c4460884f49a43afab9485ff6246059a"
          }
        },
        "d73ae88cad014084a3f7549620143f3b": {
          "model_module": "@jupyter-widgets/controls",
          "model_name": "FloatProgressModel",
          "model_module_version": "1.5.0",
          "state": {
            "_view_name": "ProgressView",
            "style": "IPY_MODEL_70044a56c38c4908b6bd0a03d052beca",
            "_dom_classes": [],
            "description": "",
            "_model_name": "FloatProgressModel",
            "bar_style": "",
            "max": 5,
            "_view_module": "@jupyter-widgets/controls",
            "_model_module_version": "1.5.0",
            "value": 5,
            "_view_count": null,
            "_view_module_version": "1.5.0",
            "orientation": "horizontal",
            "min": 0,
            "description_tooltip": null,
            "_model_module": "@jupyter-widgets/controls",
            "layout": "IPY_MODEL_b979d5db43d84f918770176e75f080a7"
          }
        },
        "e83dc263314a483fb19677dd9a132888": {
          "model_module": "@jupyter-widgets/controls",
          "model_name": "HTMLModel",
          "model_module_version": "1.5.0",
          "state": {
            "_view_name": "HTMLView",
            "style": "IPY_MODEL_0b6a248c2f184c39b506ebbba7c82290",
            "_dom_classes": [],
            "description": "",
            "_model_name": "HTMLModel",
            "placeholder": "​",
            "_view_module": "@jupyter-widgets/controls",
            "_model_module_version": "1.5.0",
            "value": " 5/5 [00:03&lt;00:00,  1.29it/s]",
            "_view_count": null,
            "_view_module_version": "1.5.0",
            "description_tooltip": null,
            "_model_module": "@jupyter-widgets/controls",
            "layout": "IPY_MODEL_eba864b14a96454dafd05289cf126023"
          }
        },
        "5900223c1dd74e968350db8ca42a95ee": {
          "model_module": "@jupyter-widgets/controls",
          "model_name": "DescriptionStyleModel",
          "model_module_version": "1.5.0",
          "state": {
            "_view_name": "StyleView",
            "_model_name": "DescriptionStyleModel",
            "description_width": "",
            "_view_module": "@jupyter-widgets/base",
            "_model_module_version": "1.5.0",
            "_view_count": null,
            "_view_module_version": "1.2.0",
            "_model_module": "@jupyter-widgets/controls"
          }
        },
        "c4460884f49a43afab9485ff6246059a": {
          "model_module": "@jupyter-widgets/base",
          "model_name": "LayoutModel",
          "model_module_version": "1.2.0",
          "state": {
            "_view_name": "LayoutView",
            "grid_template_rows": null,
            "right": null,
            "justify_content": null,
            "_view_module": "@jupyter-widgets/base",
            "overflow": null,
            "_model_module_version": "1.2.0",
            "_view_count": null,
            "flex_flow": null,
            "width": null,
            "min_width": null,
            "border": null,
            "align_items": null,
            "bottom": null,
            "_model_module": "@jupyter-widgets/base",
            "top": null,
            "grid_column": null,
            "overflow_y": null,
            "overflow_x": null,
            "grid_auto_flow": null,
            "grid_area": null,
            "grid_template_columns": null,
            "flex": null,
            "_model_name": "LayoutModel",
            "justify_items": null,
            "grid_row": null,
            "max_height": null,
            "align_content": null,
            "visibility": null,
            "align_self": null,
            "height": null,
            "min_height": null,
            "padding": null,
            "grid_auto_rows": null,
            "grid_gap": null,
            "max_width": null,
            "order": null,
            "_view_module_version": "1.2.0",
            "grid_template_areas": null,
            "object_position": null,
            "object_fit": null,
            "grid_auto_columns": null,
            "margin": null,
            "display": null,
            "left": null
          }
        },
        "70044a56c38c4908b6bd0a03d052beca": {
          "model_module": "@jupyter-widgets/controls",
          "model_name": "ProgressStyleModel",
          "model_module_version": "1.5.0",
          "state": {
            "_view_name": "StyleView",
            "_model_name": "ProgressStyleModel",
            "description_width": "",
            "_view_module": "@jupyter-widgets/base",
            "_model_module_version": "1.5.0",
            "_view_count": null,
            "_view_module_version": "1.2.0",
            "bar_color": null,
            "_model_module": "@jupyter-widgets/controls"
          }
        },
        "b979d5db43d84f918770176e75f080a7": {
          "model_module": "@jupyter-widgets/base",
          "model_name": "LayoutModel",
          "model_module_version": "1.2.0",
          "state": {
            "_view_name": "LayoutView",
            "grid_template_rows": null,
            "right": null,
            "justify_content": null,
            "_view_module": "@jupyter-widgets/base",
            "overflow": null,
            "_model_module_version": "1.2.0",
            "_view_count": null,
            "flex_flow": null,
            "width": null,
            "min_width": null,
            "border": null,
            "align_items": null,
            "bottom": null,
            "_model_module": "@jupyter-widgets/base",
            "top": null,
            "grid_column": null,
            "overflow_y": null,
            "overflow_x": null,
            "grid_auto_flow": null,
            "grid_area": null,
            "grid_template_columns": null,
            "flex": "2",
            "_model_name": "LayoutModel",
            "justify_items": null,
            "grid_row": null,
            "max_height": null,
            "align_content": null,
            "visibility": null,
            "align_self": null,
            "height": null,
            "min_height": null,
            "padding": null,
            "grid_auto_rows": null,
            "grid_gap": null,
            "max_width": null,
            "order": null,
            "_view_module_version": "1.2.0",
            "grid_template_areas": null,
            "object_position": null,
            "object_fit": null,
            "grid_auto_columns": null,
            "margin": null,
            "display": null,
            "left": null
          }
        },
        "0b6a248c2f184c39b506ebbba7c82290": {
          "model_module": "@jupyter-widgets/controls",
          "model_name": "DescriptionStyleModel",
          "model_module_version": "1.5.0",
          "state": {
            "_view_name": "StyleView",
            "_model_name": "DescriptionStyleModel",
            "description_width": "",
            "_view_module": "@jupyter-widgets/base",
            "_model_module_version": "1.5.0",
            "_view_count": null,
            "_view_module_version": "1.2.0",
            "_model_module": "@jupyter-widgets/controls"
          }
        },
        "eba864b14a96454dafd05289cf126023": {
          "model_module": "@jupyter-widgets/base",
          "model_name": "LayoutModel",
          "model_module_version": "1.2.0",
          "state": {
            "_view_name": "LayoutView",
            "grid_template_rows": null,
            "right": null,
            "justify_content": null,
            "_view_module": "@jupyter-widgets/base",
            "overflow": null,
            "_model_module_version": "1.2.0",
            "_view_count": null,
            "flex_flow": null,
            "width": null,
            "min_width": null,
            "border": null,
            "align_items": null,
            "bottom": null,
            "_model_module": "@jupyter-widgets/base",
            "top": null,
            "grid_column": null,
            "overflow_y": null,
            "overflow_x": null,
            "grid_auto_flow": null,
            "grid_area": null,
            "grid_template_columns": null,
            "flex": null,
            "_model_name": "LayoutModel",
            "justify_items": null,
            "grid_row": null,
            "max_height": null,
            "align_content": null,
            "visibility": null,
            "align_self": null,
            "height": null,
            "min_height": null,
            "padding": null,
            "grid_auto_rows": null,
            "grid_gap": null,
            "max_width": null,
            "order": null,
            "_view_module_version": "1.2.0",
            "grid_template_areas": null,
            "object_position": null,
            "object_fit": null,
            "grid_auto_columns": null,
            "margin": null,
            "display": null,
            "left": null
          }
        },
        "b2d73cc1e7154d57a3b20f6eb2a7ad1a": {
          "model_module": "@jupyter-widgets/controls",
          "model_name": "HBoxModel",
          "model_module_version": "1.5.0",
          "state": {
            "_view_name": "HBoxView",
            "_dom_classes": [],
            "_model_name": "HBoxModel",
            "_view_module": "@jupyter-widgets/controls",
            "_model_module_version": "1.5.0",
            "_view_count": null,
            "_view_module_version": "1.5.0",
            "box_style": "",
            "layout": "IPY_MODEL_8778414122524e80bd9265b37fa5c164",
            "_model_module": "@jupyter-widgets/controls",
            "children": [
              "IPY_MODEL_f04bda0f6a5645e0845e7a5ca2fb8d70",
              "IPY_MODEL_23f1bc09f20c4a23bfc0be4262078a9f",
              "IPY_MODEL_3d80d233007541c38aad9aed830c0ce0"
            ]
          }
        },
        "8778414122524e80bd9265b37fa5c164": {
          "model_module": "@jupyter-widgets/base",
          "model_name": "LayoutModel",
          "model_module_version": "1.2.0",
          "state": {
            "_view_name": "LayoutView",
            "grid_template_rows": null,
            "right": null,
            "justify_content": null,
            "_view_module": "@jupyter-widgets/base",
            "overflow": null,
            "_model_module_version": "1.2.0",
            "_view_count": null,
            "flex_flow": "row wrap",
            "width": "100%",
            "min_width": null,
            "border": null,
            "align_items": null,
            "bottom": null,
            "_model_module": "@jupyter-widgets/base",
            "top": null,
            "grid_column": null,
            "overflow_y": null,
            "overflow_x": null,
            "grid_auto_flow": null,
            "grid_area": null,
            "grid_template_columns": null,
            "flex": null,
            "_model_name": "LayoutModel",
            "justify_items": null,
            "grid_row": null,
            "max_height": null,
            "align_content": null,
            "visibility": null,
            "align_self": null,
            "height": null,
            "min_height": null,
            "padding": null,
            "grid_auto_rows": null,
            "grid_gap": null,
            "max_width": null,
            "order": null,
            "_view_module_version": "1.2.0",
            "grid_template_areas": null,
            "object_position": null,
            "object_fit": null,
            "grid_auto_columns": null,
            "margin": null,
            "display": "inline-flex",
            "left": null
          }
        },
        "f04bda0f6a5645e0845e7a5ca2fb8d70": {
          "model_module": "@jupyter-widgets/controls",
          "model_name": "HTMLModel",
          "model_module_version": "1.5.0",
          "state": {
            "_view_name": "HTMLView",
            "style": "IPY_MODEL_cbb5f77c6dde465eb5490dbc4856e69a",
            "_dom_classes": [],
            "description": "",
            "_model_name": "HTMLModel",
            "placeholder": "​",
            "_view_module": "@jupyter-widgets/controls",
            "_model_module_version": "1.5.0",
            "value": "Validating: 100%",
            "_view_count": null,
            "_view_module_version": "1.5.0",
            "description_tooltip": null,
            "_model_module": "@jupyter-widgets/controls",
            "layout": "IPY_MODEL_b506497a5e1e42d1928dd04863c3667b"
          }
        },
        "23f1bc09f20c4a23bfc0be4262078a9f": {
          "model_module": "@jupyter-widgets/controls",
          "model_name": "FloatProgressModel",
          "model_module_version": "1.5.0",
          "state": {
            "_view_name": "ProgressView",
            "style": "IPY_MODEL_c25636bc3098475790e43ecbf9b35225",
            "_dom_classes": [],
            "description": "",
            "_model_name": "FloatProgressModel",
            "bar_style": "",
            "max": 5,
            "_view_module": "@jupyter-widgets/controls",
            "_model_module_version": "1.5.0",
            "value": 5,
            "_view_count": null,
            "_view_module_version": "1.5.0",
            "orientation": "horizontal",
            "min": 0,
            "description_tooltip": null,
            "_model_module": "@jupyter-widgets/controls",
            "layout": "IPY_MODEL_43d36fdf1eaf4bd2bcca4af86414ff3d"
          }
        },
        "3d80d233007541c38aad9aed830c0ce0": {
          "model_module": "@jupyter-widgets/controls",
          "model_name": "HTMLModel",
          "model_module_version": "1.5.0",
          "state": {
            "_view_name": "HTMLView",
            "style": "IPY_MODEL_ae2830fd7ed74ff3a62aa0181cc49fd0",
            "_dom_classes": [],
            "description": "",
            "_model_name": "HTMLModel",
            "placeholder": "​",
            "_view_module": "@jupyter-widgets/controls",
            "_model_module_version": "1.5.0",
            "value": " 5/5 [00:04&lt;00:00,  1.05it/s]",
            "_view_count": null,
            "_view_module_version": "1.5.0",
            "description_tooltip": null,
            "_model_module": "@jupyter-widgets/controls",
            "layout": "IPY_MODEL_86a4e390df464ca1a2819f0de6034bbb"
          }
        },
        "cbb5f77c6dde465eb5490dbc4856e69a": {
          "model_module": "@jupyter-widgets/controls",
          "model_name": "DescriptionStyleModel",
          "model_module_version": "1.5.0",
          "state": {
            "_view_name": "StyleView",
            "_model_name": "DescriptionStyleModel",
            "description_width": "",
            "_view_module": "@jupyter-widgets/base",
            "_model_module_version": "1.5.0",
            "_view_count": null,
            "_view_module_version": "1.2.0",
            "_model_module": "@jupyter-widgets/controls"
          }
        },
        "b506497a5e1e42d1928dd04863c3667b": {
          "model_module": "@jupyter-widgets/base",
          "model_name": "LayoutModel",
          "model_module_version": "1.2.0",
          "state": {
            "_view_name": "LayoutView",
            "grid_template_rows": null,
            "right": null,
            "justify_content": null,
            "_view_module": "@jupyter-widgets/base",
            "overflow": null,
            "_model_module_version": "1.2.0",
            "_view_count": null,
            "flex_flow": null,
            "width": null,
            "min_width": null,
            "border": null,
            "align_items": null,
            "bottom": null,
            "_model_module": "@jupyter-widgets/base",
            "top": null,
            "grid_column": null,
            "overflow_y": null,
            "overflow_x": null,
            "grid_auto_flow": null,
            "grid_area": null,
            "grid_template_columns": null,
            "flex": null,
            "_model_name": "LayoutModel",
            "justify_items": null,
            "grid_row": null,
            "max_height": null,
            "align_content": null,
            "visibility": null,
            "align_self": null,
            "height": null,
            "min_height": null,
            "padding": null,
            "grid_auto_rows": null,
            "grid_gap": null,
            "max_width": null,
            "order": null,
            "_view_module_version": "1.2.0",
            "grid_template_areas": null,
            "object_position": null,
            "object_fit": null,
            "grid_auto_columns": null,
            "margin": null,
            "display": null,
            "left": null
          }
        },
        "c25636bc3098475790e43ecbf9b35225": {
          "model_module": "@jupyter-widgets/controls",
          "model_name": "ProgressStyleModel",
          "model_module_version": "1.5.0",
          "state": {
            "_view_name": "StyleView",
            "_model_name": "ProgressStyleModel",
            "description_width": "",
            "_view_module": "@jupyter-widgets/base",
            "_model_module_version": "1.5.0",
            "_view_count": null,
            "_view_module_version": "1.2.0",
            "bar_color": null,
            "_model_module": "@jupyter-widgets/controls"
          }
        },
        "43d36fdf1eaf4bd2bcca4af86414ff3d": {
          "model_module": "@jupyter-widgets/base",
          "model_name": "LayoutModel",
          "model_module_version": "1.2.0",
          "state": {
            "_view_name": "LayoutView",
            "grid_template_rows": null,
            "right": null,
            "justify_content": null,
            "_view_module": "@jupyter-widgets/base",
            "overflow": null,
            "_model_module_version": "1.2.0",
            "_view_count": null,
            "flex_flow": null,
            "width": null,
            "min_width": null,
            "border": null,
            "align_items": null,
            "bottom": null,
            "_model_module": "@jupyter-widgets/base",
            "top": null,
            "grid_column": null,
            "overflow_y": null,
            "overflow_x": null,
            "grid_auto_flow": null,
            "grid_area": null,
            "grid_template_columns": null,
            "flex": "2",
            "_model_name": "LayoutModel",
            "justify_items": null,
            "grid_row": null,
            "max_height": null,
            "align_content": null,
            "visibility": null,
            "align_self": null,
            "height": null,
            "min_height": null,
            "padding": null,
            "grid_auto_rows": null,
            "grid_gap": null,
            "max_width": null,
            "order": null,
            "_view_module_version": "1.2.0",
            "grid_template_areas": null,
            "object_position": null,
            "object_fit": null,
            "grid_auto_columns": null,
            "margin": null,
            "display": null,
            "left": null
          }
        },
        "ae2830fd7ed74ff3a62aa0181cc49fd0": {
          "model_module": "@jupyter-widgets/controls",
          "model_name": "DescriptionStyleModel",
          "model_module_version": "1.5.0",
          "state": {
            "_view_name": "StyleView",
            "_model_name": "DescriptionStyleModel",
            "description_width": "",
            "_view_module": "@jupyter-widgets/base",
            "_model_module_version": "1.5.0",
            "_view_count": null,
            "_view_module_version": "1.2.0",
            "_model_module": "@jupyter-widgets/controls"
          }
        },
        "86a4e390df464ca1a2819f0de6034bbb": {
          "model_module": "@jupyter-widgets/base",
          "model_name": "LayoutModel",
          "model_module_version": "1.2.0",
          "state": {
            "_view_name": "LayoutView",
            "grid_template_rows": null,
            "right": null,
            "justify_content": null,
            "_view_module": "@jupyter-widgets/base",
            "overflow": null,
            "_model_module_version": "1.2.0",
            "_view_count": null,
            "flex_flow": null,
            "width": null,
            "min_width": null,
            "border": null,
            "align_items": null,
            "bottom": null,
            "_model_module": "@jupyter-widgets/base",
            "top": null,
            "grid_column": null,
            "overflow_y": null,
            "overflow_x": null,
            "grid_auto_flow": null,
            "grid_area": null,
            "grid_template_columns": null,
            "flex": null,
            "_model_name": "LayoutModel",
            "justify_items": null,
            "grid_row": null,
            "max_height": null,
            "align_content": null,
            "visibility": null,
            "align_self": null,
            "height": null,
            "min_height": null,
            "padding": null,
            "grid_auto_rows": null,
            "grid_gap": null,
            "max_width": null,
            "order": null,
            "_view_module_version": "1.2.0",
            "grid_template_areas": null,
            "object_position": null,
            "object_fit": null,
            "grid_auto_columns": null,
            "margin": null,
            "display": null,
            "left": null
          }
        },
        "ef614e67e0174122825d3fcf120bdb2b": {
          "model_module": "@jupyter-widgets/controls",
          "model_name": "HBoxModel",
          "model_module_version": "1.5.0",
          "state": {
            "_view_name": "HBoxView",
            "_dom_classes": [],
            "_model_name": "HBoxModel",
            "_view_module": "@jupyter-widgets/controls",
            "_model_module_version": "1.5.0",
            "_view_count": null,
            "_view_module_version": "1.5.0",
            "box_style": "",
            "layout": "IPY_MODEL_9e3ebba016c346668a0a81a88613c815",
            "_model_module": "@jupyter-widgets/controls",
            "children": [
              "IPY_MODEL_e8a81c1403f441e8bc2044ef4ba79852",
              "IPY_MODEL_0781ed3867ac45b184e9dd85b94c47ce",
              "IPY_MODEL_a7b90bc2ba01473ab23c2d62c14152e5"
            ]
          }
        },
        "9e3ebba016c346668a0a81a88613c815": {
          "model_module": "@jupyter-widgets/base",
          "model_name": "LayoutModel",
          "model_module_version": "1.2.0",
          "state": {
            "_view_name": "LayoutView",
            "grid_template_rows": null,
            "right": null,
            "justify_content": null,
            "_view_module": "@jupyter-widgets/base",
            "overflow": null,
            "_model_module_version": "1.2.0",
            "_view_count": null,
            "flex_flow": "row wrap",
            "width": "100%",
            "min_width": null,
            "border": null,
            "align_items": null,
            "bottom": null,
            "_model_module": "@jupyter-widgets/base",
            "top": null,
            "grid_column": null,
            "overflow_y": null,
            "overflow_x": null,
            "grid_auto_flow": null,
            "grid_area": null,
            "grid_template_columns": null,
            "flex": null,
            "_model_name": "LayoutModel",
            "justify_items": null,
            "grid_row": null,
            "max_height": null,
            "align_content": null,
            "visibility": null,
            "align_self": null,
            "height": null,
            "min_height": null,
            "padding": null,
            "grid_auto_rows": null,
            "grid_gap": null,
            "max_width": null,
            "order": null,
            "_view_module_version": "1.2.0",
            "grid_template_areas": null,
            "object_position": null,
            "object_fit": null,
            "grid_auto_columns": null,
            "margin": null,
            "display": "inline-flex",
            "left": null
          }
        },
        "e8a81c1403f441e8bc2044ef4ba79852": {
          "model_module": "@jupyter-widgets/controls",
          "model_name": "HTMLModel",
          "model_module_version": "1.5.0",
          "state": {
            "_view_name": "HTMLView",
            "style": "IPY_MODEL_a50ffe8624bf45a0802197545065612e",
            "_dom_classes": [],
            "description": "",
            "_model_name": "HTMLModel",
            "placeholder": "​",
            "_view_module": "@jupyter-widgets/controls",
            "_model_module_version": "1.5.0",
            "value": "Validating: 100%",
            "_view_count": null,
            "_view_module_version": "1.5.0",
            "description_tooltip": null,
            "_model_module": "@jupyter-widgets/controls",
            "layout": "IPY_MODEL_fa89c7892eb14822ad15bfad7133a678"
          }
        },
        "0781ed3867ac45b184e9dd85b94c47ce": {
          "model_module": "@jupyter-widgets/controls",
          "model_name": "FloatProgressModel",
          "model_module_version": "1.5.0",
          "state": {
            "_view_name": "ProgressView",
            "style": "IPY_MODEL_6c6314bfdd984aa4a130f314f0fda2b8",
            "_dom_classes": [],
            "description": "",
            "_model_name": "FloatProgressModel",
            "bar_style": "",
            "max": 5,
            "_view_module": "@jupyter-widgets/controls",
            "_model_module_version": "1.5.0",
            "value": 5,
            "_view_count": null,
            "_view_module_version": "1.5.0",
            "orientation": "horizontal",
            "min": 0,
            "description_tooltip": null,
            "_model_module": "@jupyter-widgets/controls",
            "layout": "IPY_MODEL_104a7147f3214f919667cced04942910"
          }
        },
        "a7b90bc2ba01473ab23c2d62c14152e5": {
          "model_module": "@jupyter-widgets/controls",
          "model_name": "HTMLModel",
          "model_module_version": "1.5.0",
          "state": {
            "_view_name": "HTMLView",
            "style": "IPY_MODEL_5b60e863b3ef4f81927a3b98a35825f4",
            "_dom_classes": [],
            "description": "",
            "_model_name": "HTMLModel",
            "placeholder": "​",
            "_view_module": "@jupyter-widgets/controls",
            "_model_module_version": "1.5.0",
            "value": " 5/5 [00:04&lt;00:00,  1.09it/s]",
            "_view_count": null,
            "_view_module_version": "1.5.0",
            "description_tooltip": null,
            "_model_module": "@jupyter-widgets/controls",
            "layout": "IPY_MODEL_f509665b61e5474e8c726201b078a78f"
          }
        },
        "a50ffe8624bf45a0802197545065612e": {
          "model_module": "@jupyter-widgets/controls",
          "model_name": "DescriptionStyleModel",
          "model_module_version": "1.5.0",
          "state": {
            "_view_name": "StyleView",
            "_model_name": "DescriptionStyleModel",
            "description_width": "",
            "_view_module": "@jupyter-widgets/base",
            "_model_module_version": "1.5.0",
            "_view_count": null,
            "_view_module_version": "1.2.0",
            "_model_module": "@jupyter-widgets/controls"
          }
        },
        "fa89c7892eb14822ad15bfad7133a678": {
          "model_module": "@jupyter-widgets/base",
          "model_name": "LayoutModel",
          "model_module_version": "1.2.0",
          "state": {
            "_view_name": "LayoutView",
            "grid_template_rows": null,
            "right": null,
            "justify_content": null,
            "_view_module": "@jupyter-widgets/base",
            "overflow": null,
            "_model_module_version": "1.2.0",
            "_view_count": null,
            "flex_flow": null,
            "width": null,
            "min_width": null,
            "border": null,
            "align_items": null,
            "bottom": null,
            "_model_module": "@jupyter-widgets/base",
            "top": null,
            "grid_column": null,
            "overflow_y": null,
            "overflow_x": null,
            "grid_auto_flow": null,
            "grid_area": null,
            "grid_template_columns": null,
            "flex": null,
            "_model_name": "LayoutModel",
            "justify_items": null,
            "grid_row": null,
            "max_height": null,
            "align_content": null,
            "visibility": null,
            "align_self": null,
            "height": null,
            "min_height": null,
            "padding": null,
            "grid_auto_rows": null,
            "grid_gap": null,
            "max_width": null,
            "order": null,
            "_view_module_version": "1.2.0",
            "grid_template_areas": null,
            "object_position": null,
            "object_fit": null,
            "grid_auto_columns": null,
            "margin": null,
            "display": null,
            "left": null
          }
        },
        "6c6314bfdd984aa4a130f314f0fda2b8": {
          "model_module": "@jupyter-widgets/controls",
          "model_name": "ProgressStyleModel",
          "model_module_version": "1.5.0",
          "state": {
            "_view_name": "StyleView",
            "_model_name": "ProgressStyleModel",
            "description_width": "",
            "_view_module": "@jupyter-widgets/base",
            "_model_module_version": "1.5.0",
            "_view_count": null,
            "_view_module_version": "1.2.0",
            "bar_color": null,
            "_model_module": "@jupyter-widgets/controls"
          }
        },
        "104a7147f3214f919667cced04942910": {
          "model_module": "@jupyter-widgets/base",
          "model_name": "LayoutModel",
          "model_module_version": "1.2.0",
          "state": {
            "_view_name": "LayoutView",
            "grid_template_rows": null,
            "right": null,
            "justify_content": null,
            "_view_module": "@jupyter-widgets/base",
            "overflow": null,
            "_model_module_version": "1.2.0",
            "_view_count": null,
            "flex_flow": null,
            "width": null,
            "min_width": null,
            "border": null,
            "align_items": null,
            "bottom": null,
            "_model_module": "@jupyter-widgets/base",
            "top": null,
            "grid_column": null,
            "overflow_y": null,
            "overflow_x": null,
            "grid_auto_flow": null,
            "grid_area": null,
            "grid_template_columns": null,
            "flex": "2",
            "_model_name": "LayoutModel",
            "justify_items": null,
            "grid_row": null,
            "max_height": null,
            "align_content": null,
            "visibility": null,
            "align_self": null,
            "height": null,
            "min_height": null,
            "padding": null,
            "grid_auto_rows": null,
            "grid_gap": null,
            "max_width": null,
            "order": null,
            "_view_module_version": "1.2.0",
            "grid_template_areas": null,
            "object_position": null,
            "object_fit": null,
            "grid_auto_columns": null,
            "margin": null,
            "display": null,
            "left": null
          }
        },
        "5b60e863b3ef4f81927a3b98a35825f4": {
          "model_module": "@jupyter-widgets/controls",
          "model_name": "DescriptionStyleModel",
          "model_module_version": "1.5.0",
          "state": {
            "_view_name": "StyleView",
            "_model_name": "DescriptionStyleModel",
            "description_width": "",
            "_view_module": "@jupyter-widgets/base",
            "_model_module_version": "1.5.0",
            "_view_count": null,
            "_view_module_version": "1.2.0",
            "_model_module": "@jupyter-widgets/controls"
          }
        },
        "f509665b61e5474e8c726201b078a78f": {
          "model_module": "@jupyter-widgets/base",
          "model_name": "LayoutModel",
          "model_module_version": "1.2.0",
          "state": {
            "_view_name": "LayoutView",
            "grid_template_rows": null,
            "right": null,
            "justify_content": null,
            "_view_module": "@jupyter-widgets/base",
            "overflow": null,
            "_model_module_version": "1.2.0",
            "_view_count": null,
            "flex_flow": null,
            "width": null,
            "min_width": null,
            "border": null,
            "align_items": null,
            "bottom": null,
            "_model_module": "@jupyter-widgets/base",
            "top": null,
            "grid_column": null,
            "overflow_y": null,
            "overflow_x": null,
            "grid_auto_flow": null,
            "grid_area": null,
            "grid_template_columns": null,
            "flex": null,
            "_model_name": "LayoutModel",
            "justify_items": null,
            "grid_row": null,
            "max_height": null,
            "align_content": null,
            "visibility": null,
            "align_self": null,
            "height": null,
            "min_height": null,
            "padding": null,
            "grid_auto_rows": null,
            "grid_gap": null,
            "max_width": null,
            "order": null,
            "_view_module_version": "1.2.0",
            "grid_template_areas": null,
            "object_position": null,
            "object_fit": null,
            "grid_auto_columns": null,
            "margin": null,
            "display": null,
            "left": null
          }
        },
        "21bf7c94ab6f4318b4616c136c165874": {
          "model_module": "@jupyter-widgets/controls",
          "model_name": "HBoxModel",
          "model_module_version": "1.5.0",
          "state": {
            "_view_name": "HBoxView",
            "_dom_classes": [],
            "_model_name": "HBoxModel",
            "_view_module": "@jupyter-widgets/controls",
            "_model_module_version": "1.5.0",
            "_view_count": null,
            "_view_module_version": "1.5.0",
            "box_style": "",
            "layout": "IPY_MODEL_b249ec9a7ab14a7fba26d4222411ae28",
            "_model_module": "@jupyter-widgets/controls",
            "children": [
              "IPY_MODEL_d52276c89e244f4e808f0cc248ed9af5",
              "IPY_MODEL_9793fffdb9d54876afe36ec92f4d346a",
              "IPY_MODEL_d806b54a7ed8406ea91f83c833966fc0"
            ]
          }
        },
        "b249ec9a7ab14a7fba26d4222411ae28": {
          "model_module": "@jupyter-widgets/base",
          "model_name": "LayoutModel",
          "model_module_version": "1.2.0",
          "state": {
            "_view_name": "LayoutView",
            "grid_template_rows": null,
            "right": null,
            "justify_content": null,
            "_view_module": "@jupyter-widgets/base",
            "overflow": null,
            "_model_module_version": "1.2.0",
            "_view_count": null,
            "flex_flow": "row wrap",
            "width": "100%",
            "min_width": null,
            "border": null,
            "align_items": null,
            "bottom": null,
            "_model_module": "@jupyter-widgets/base",
            "top": null,
            "grid_column": null,
            "overflow_y": null,
            "overflow_x": null,
            "grid_auto_flow": null,
            "grid_area": null,
            "grid_template_columns": null,
            "flex": null,
            "_model_name": "LayoutModel",
            "justify_items": null,
            "grid_row": null,
            "max_height": null,
            "align_content": null,
            "visibility": null,
            "align_self": null,
            "height": null,
            "min_height": null,
            "padding": null,
            "grid_auto_rows": null,
            "grid_gap": null,
            "max_width": null,
            "order": null,
            "_view_module_version": "1.2.0",
            "grid_template_areas": null,
            "object_position": null,
            "object_fit": null,
            "grid_auto_columns": null,
            "margin": null,
            "display": "inline-flex",
            "left": null
          }
        },
        "d52276c89e244f4e808f0cc248ed9af5": {
          "model_module": "@jupyter-widgets/controls",
          "model_name": "HTMLModel",
          "model_module_version": "1.5.0",
          "state": {
            "_view_name": "HTMLView",
            "style": "IPY_MODEL_9417c32e6640459facf2cdb07fe74fa6",
            "_dom_classes": [],
            "description": "",
            "_model_name": "HTMLModel",
            "placeholder": "​",
            "_view_module": "@jupyter-widgets/controls",
            "_model_module_version": "1.5.0",
            "value": "Validating: 100%",
            "_view_count": null,
            "_view_module_version": "1.5.0",
            "description_tooltip": null,
            "_model_module": "@jupyter-widgets/controls",
            "layout": "IPY_MODEL_b6b0d4fd54c64fc2b14c93bbcaa501af"
          }
        },
        "9793fffdb9d54876afe36ec92f4d346a": {
          "model_module": "@jupyter-widgets/controls",
          "model_name": "FloatProgressModel",
          "model_module_version": "1.5.0",
          "state": {
            "_view_name": "ProgressView",
            "style": "IPY_MODEL_6684c34d32a24d129868f8b45dbfbb7f",
            "_dom_classes": [],
            "description": "",
            "_model_name": "FloatProgressModel",
            "bar_style": "",
            "max": 5,
            "_view_module": "@jupyter-widgets/controls",
            "_model_module_version": "1.5.0",
            "value": 5,
            "_view_count": null,
            "_view_module_version": "1.5.0",
            "orientation": "horizontal",
            "min": 0,
            "description_tooltip": null,
            "_model_module": "@jupyter-widgets/controls",
            "layout": "IPY_MODEL_4949771fba77496dabe6f3890582fe5e"
          }
        },
        "d806b54a7ed8406ea91f83c833966fc0": {
          "model_module": "@jupyter-widgets/controls",
          "model_name": "HTMLModel",
          "model_module_version": "1.5.0",
          "state": {
            "_view_name": "HTMLView",
            "style": "IPY_MODEL_36dbf0a5ecbe4c94a9abf22303ec80d4",
            "_dom_classes": [],
            "description": "",
            "_model_name": "HTMLModel",
            "placeholder": "​",
            "_view_module": "@jupyter-widgets/controls",
            "_model_module_version": "1.5.0",
            "value": " 5/5 [00:04&lt;00:00,  1.14it/s]",
            "_view_count": null,
            "_view_module_version": "1.5.0",
            "description_tooltip": null,
            "_model_module": "@jupyter-widgets/controls",
            "layout": "IPY_MODEL_bc6cd4278f4a485bb68cfab4ed7be989"
          }
        },
        "9417c32e6640459facf2cdb07fe74fa6": {
          "model_module": "@jupyter-widgets/controls",
          "model_name": "DescriptionStyleModel",
          "model_module_version": "1.5.0",
          "state": {
            "_view_name": "StyleView",
            "_model_name": "DescriptionStyleModel",
            "description_width": "",
            "_view_module": "@jupyter-widgets/base",
            "_model_module_version": "1.5.0",
            "_view_count": null,
            "_view_module_version": "1.2.0",
            "_model_module": "@jupyter-widgets/controls"
          }
        },
        "b6b0d4fd54c64fc2b14c93bbcaa501af": {
          "model_module": "@jupyter-widgets/base",
          "model_name": "LayoutModel",
          "model_module_version": "1.2.0",
          "state": {
            "_view_name": "LayoutView",
            "grid_template_rows": null,
            "right": null,
            "justify_content": null,
            "_view_module": "@jupyter-widgets/base",
            "overflow": null,
            "_model_module_version": "1.2.0",
            "_view_count": null,
            "flex_flow": null,
            "width": null,
            "min_width": null,
            "border": null,
            "align_items": null,
            "bottom": null,
            "_model_module": "@jupyter-widgets/base",
            "top": null,
            "grid_column": null,
            "overflow_y": null,
            "overflow_x": null,
            "grid_auto_flow": null,
            "grid_area": null,
            "grid_template_columns": null,
            "flex": null,
            "_model_name": "LayoutModel",
            "justify_items": null,
            "grid_row": null,
            "max_height": null,
            "align_content": null,
            "visibility": null,
            "align_self": null,
            "height": null,
            "min_height": null,
            "padding": null,
            "grid_auto_rows": null,
            "grid_gap": null,
            "max_width": null,
            "order": null,
            "_view_module_version": "1.2.0",
            "grid_template_areas": null,
            "object_position": null,
            "object_fit": null,
            "grid_auto_columns": null,
            "margin": null,
            "display": null,
            "left": null
          }
        },
        "6684c34d32a24d129868f8b45dbfbb7f": {
          "model_module": "@jupyter-widgets/controls",
          "model_name": "ProgressStyleModel",
          "model_module_version": "1.5.0",
          "state": {
            "_view_name": "StyleView",
            "_model_name": "ProgressStyleModel",
            "description_width": "",
            "_view_module": "@jupyter-widgets/base",
            "_model_module_version": "1.5.0",
            "_view_count": null,
            "_view_module_version": "1.2.0",
            "bar_color": null,
            "_model_module": "@jupyter-widgets/controls"
          }
        },
        "4949771fba77496dabe6f3890582fe5e": {
          "model_module": "@jupyter-widgets/base",
          "model_name": "LayoutModel",
          "model_module_version": "1.2.0",
          "state": {
            "_view_name": "LayoutView",
            "grid_template_rows": null,
            "right": null,
            "justify_content": null,
            "_view_module": "@jupyter-widgets/base",
            "overflow": null,
            "_model_module_version": "1.2.0",
            "_view_count": null,
            "flex_flow": null,
            "width": null,
            "min_width": null,
            "border": null,
            "align_items": null,
            "bottom": null,
            "_model_module": "@jupyter-widgets/base",
            "top": null,
            "grid_column": null,
            "overflow_y": null,
            "overflow_x": null,
            "grid_auto_flow": null,
            "grid_area": null,
            "grid_template_columns": null,
            "flex": "2",
            "_model_name": "LayoutModel",
            "justify_items": null,
            "grid_row": null,
            "max_height": null,
            "align_content": null,
            "visibility": null,
            "align_self": null,
            "height": null,
            "min_height": null,
            "padding": null,
            "grid_auto_rows": null,
            "grid_gap": null,
            "max_width": null,
            "order": null,
            "_view_module_version": "1.2.0",
            "grid_template_areas": null,
            "object_position": null,
            "object_fit": null,
            "grid_auto_columns": null,
            "margin": null,
            "display": null,
            "left": null
          }
        },
        "36dbf0a5ecbe4c94a9abf22303ec80d4": {
          "model_module": "@jupyter-widgets/controls",
          "model_name": "DescriptionStyleModel",
          "model_module_version": "1.5.0",
          "state": {
            "_view_name": "StyleView",
            "_model_name": "DescriptionStyleModel",
            "description_width": "",
            "_view_module": "@jupyter-widgets/base",
            "_model_module_version": "1.5.0",
            "_view_count": null,
            "_view_module_version": "1.2.0",
            "_model_module": "@jupyter-widgets/controls"
          }
        },
        "bc6cd4278f4a485bb68cfab4ed7be989": {
          "model_module": "@jupyter-widgets/base",
          "model_name": "LayoutModel",
          "model_module_version": "1.2.0",
          "state": {
            "_view_name": "LayoutView",
            "grid_template_rows": null,
            "right": null,
            "justify_content": null,
            "_view_module": "@jupyter-widgets/base",
            "overflow": null,
            "_model_module_version": "1.2.0",
            "_view_count": null,
            "flex_flow": null,
            "width": null,
            "min_width": null,
            "border": null,
            "align_items": null,
            "bottom": null,
            "_model_module": "@jupyter-widgets/base",
            "top": null,
            "grid_column": null,
            "overflow_y": null,
            "overflow_x": null,
            "grid_auto_flow": null,
            "grid_area": null,
            "grid_template_columns": null,
            "flex": null,
            "_model_name": "LayoutModel",
            "justify_items": null,
            "grid_row": null,
            "max_height": null,
            "align_content": null,
            "visibility": null,
            "align_self": null,
            "height": null,
            "min_height": null,
            "padding": null,
            "grid_auto_rows": null,
            "grid_gap": null,
            "max_width": null,
            "order": null,
            "_view_module_version": "1.2.0",
            "grid_template_areas": null,
            "object_position": null,
            "object_fit": null,
            "grid_auto_columns": null,
            "margin": null,
            "display": null,
            "left": null
          }
        },
        "51cc3688746e4bd9ac0671daeb2da5d2": {
          "model_module": "@jupyter-widgets/controls",
          "model_name": "HBoxModel",
          "model_module_version": "1.5.0",
          "state": {
            "_view_name": "HBoxView",
            "_dom_classes": [],
            "_model_name": "HBoxModel",
            "_view_module": "@jupyter-widgets/controls",
            "_model_module_version": "1.5.0",
            "_view_count": null,
            "_view_module_version": "1.5.0",
            "box_style": "",
            "layout": "IPY_MODEL_3af844f9e65840028372113e78ac1da5",
            "_model_module": "@jupyter-widgets/controls",
            "children": [
              "IPY_MODEL_1b4c044ce2974ae5976a2841422c064b",
              "IPY_MODEL_245c1843d9aa4fe4866bfd83f23048ea",
              "IPY_MODEL_6d5241e161864d129db49a4dcf072bb7"
            ]
          }
        },
        "3af844f9e65840028372113e78ac1da5": {
          "model_module": "@jupyter-widgets/base",
          "model_name": "LayoutModel",
          "model_module_version": "1.2.0",
          "state": {
            "_view_name": "LayoutView",
            "grid_template_rows": null,
            "right": null,
            "justify_content": null,
            "_view_module": "@jupyter-widgets/base",
            "overflow": null,
            "_model_module_version": "1.2.0",
            "_view_count": null,
            "flex_flow": "row wrap",
            "width": "100%",
            "min_width": null,
            "border": null,
            "align_items": null,
            "bottom": null,
            "_model_module": "@jupyter-widgets/base",
            "top": null,
            "grid_column": null,
            "overflow_y": null,
            "overflow_x": null,
            "grid_auto_flow": null,
            "grid_area": null,
            "grid_template_columns": null,
            "flex": null,
            "_model_name": "LayoutModel",
            "justify_items": null,
            "grid_row": null,
            "max_height": null,
            "align_content": null,
            "visibility": null,
            "align_self": null,
            "height": null,
            "min_height": null,
            "padding": null,
            "grid_auto_rows": null,
            "grid_gap": null,
            "max_width": null,
            "order": null,
            "_view_module_version": "1.2.0",
            "grid_template_areas": null,
            "object_position": null,
            "object_fit": null,
            "grid_auto_columns": null,
            "margin": null,
            "display": "inline-flex",
            "left": null
          }
        },
        "1b4c044ce2974ae5976a2841422c064b": {
          "model_module": "@jupyter-widgets/controls",
          "model_name": "HTMLModel",
          "model_module_version": "1.5.0",
          "state": {
            "_view_name": "HTMLView",
            "style": "IPY_MODEL_fc04afec7f3640ca9b8396055f25deda",
            "_dom_classes": [],
            "description": "",
            "_model_name": "HTMLModel",
            "placeholder": "​",
            "_view_module": "@jupyter-widgets/controls",
            "_model_module_version": "1.5.0",
            "value": "Validating: 100%",
            "_view_count": null,
            "_view_module_version": "1.5.0",
            "description_tooltip": null,
            "_model_module": "@jupyter-widgets/controls",
            "layout": "IPY_MODEL_f457f3ee17c8452cbe9547105ce44002"
          }
        },
        "245c1843d9aa4fe4866bfd83f23048ea": {
          "model_module": "@jupyter-widgets/controls",
          "model_name": "FloatProgressModel",
          "model_module_version": "1.5.0",
          "state": {
            "_view_name": "ProgressView",
            "style": "IPY_MODEL_9412b64c277443ad921e7b585ac823c5",
            "_dom_classes": [],
            "description": "",
            "_model_name": "FloatProgressModel",
            "bar_style": "",
            "max": 5,
            "_view_module": "@jupyter-widgets/controls",
            "_model_module_version": "1.5.0",
            "value": 5,
            "_view_count": null,
            "_view_module_version": "1.5.0",
            "orientation": "horizontal",
            "min": 0,
            "description_tooltip": null,
            "_model_module": "@jupyter-widgets/controls",
            "layout": "IPY_MODEL_9498718e120a4b8ca230b24f8f0c21eb"
          }
        },
        "6d5241e161864d129db49a4dcf072bb7": {
          "model_module": "@jupyter-widgets/controls",
          "model_name": "HTMLModel",
          "model_module_version": "1.5.0",
          "state": {
            "_view_name": "HTMLView",
            "style": "IPY_MODEL_540d42c4cf2e44f3a2577ef8bcdf1eaf",
            "_dom_classes": [],
            "description": "",
            "_model_name": "HTMLModel",
            "placeholder": "​",
            "_view_module": "@jupyter-widgets/controls",
            "_model_module_version": "1.5.0",
            "value": " 5/5 [00:04&lt;00:00,  1.15it/s]",
            "_view_count": null,
            "_view_module_version": "1.5.0",
            "description_tooltip": null,
            "_model_module": "@jupyter-widgets/controls",
            "layout": "IPY_MODEL_26508271fdae4190a955f75dd9c9bb68"
          }
        },
        "fc04afec7f3640ca9b8396055f25deda": {
          "model_module": "@jupyter-widgets/controls",
          "model_name": "DescriptionStyleModel",
          "model_module_version": "1.5.0",
          "state": {
            "_view_name": "StyleView",
            "_model_name": "DescriptionStyleModel",
            "description_width": "",
            "_view_module": "@jupyter-widgets/base",
            "_model_module_version": "1.5.0",
            "_view_count": null,
            "_view_module_version": "1.2.0",
            "_model_module": "@jupyter-widgets/controls"
          }
        },
        "f457f3ee17c8452cbe9547105ce44002": {
          "model_module": "@jupyter-widgets/base",
          "model_name": "LayoutModel",
          "model_module_version": "1.2.0",
          "state": {
            "_view_name": "LayoutView",
            "grid_template_rows": null,
            "right": null,
            "justify_content": null,
            "_view_module": "@jupyter-widgets/base",
            "overflow": null,
            "_model_module_version": "1.2.0",
            "_view_count": null,
            "flex_flow": null,
            "width": null,
            "min_width": null,
            "border": null,
            "align_items": null,
            "bottom": null,
            "_model_module": "@jupyter-widgets/base",
            "top": null,
            "grid_column": null,
            "overflow_y": null,
            "overflow_x": null,
            "grid_auto_flow": null,
            "grid_area": null,
            "grid_template_columns": null,
            "flex": null,
            "_model_name": "LayoutModel",
            "justify_items": null,
            "grid_row": null,
            "max_height": null,
            "align_content": null,
            "visibility": null,
            "align_self": null,
            "height": null,
            "min_height": null,
            "padding": null,
            "grid_auto_rows": null,
            "grid_gap": null,
            "max_width": null,
            "order": null,
            "_view_module_version": "1.2.0",
            "grid_template_areas": null,
            "object_position": null,
            "object_fit": null,
            "grid_auto_columns": null,
            "margin": null,
            "display": null,
            "left": null
          }
        },
        "9412b64c277443ad921e7b585ac823c5": {
          "model_module": "@jupyter-widgets/controls",
          "model_name": "ProgressStyleModel",
          "model_module_version": "1.5.0",
          "state": {
            "_view_name": "StyleView",
            "_model_name": "ProgressStyleModel",
            "description_width": "",
            "_view_module": "@jupyter-widgets/base",
            "_model_module_version": "1.5.0",
            "_view_count": null,
            "_view_module_version": "1.2.0",
            "bar_color": null,
            "_model_module": "@jupyter-widgets/controls"
          }
        },
        "9498718e120a4b8ca230b24f8f0c21eb": {
          "model_module": "@jupyter-widgets/base",
          "model_name": "LayoutModel",
          "model_module_version": "1.2.0",
          "state": {
            "_view_name": "LayoutView",
            "grid_template_rows": null,
            "right": null,
            "justify_content": null,
            "_view_module": "@jupyter-widgets/base",
            "overflow": null,
            "_model_module_version": "1.2.0",
            "_view_count": null,
            "flex_flow": null,
            "width": null,
            "min_width": null,
            "border": null,
            "align_items": null,
            "bottom": null,
            "_model_module": "@jupyter-widgets/base",
            "top": null,
            "grid_column": null,
            "overflow_y": null,
            "overflow_x": null,
            "grid_auto_flow": null,
            "grid_area": null,
            "grid_template_columns": null,
            "flex": "2",
            "_model_name": "LayoutModel",
            "justify_items": null,
            "grid_row": null,
            "max_height": null,
            "align_content": null,
            "visibility": null,
            "align_self": null,
            "height": null,
            "min_height": null,
            "padding": null,
            "grid_auto_rows": null,
            "grid_gap": null,
            "max_width": null,
            "order": null,
            "_view_module_version": "1.2.0",
            "grid_template_areas": null,
            "object_position": null,
            "object_fit": null,
            "grid_auto_columns": null,
            "margin": null,
            "display": null,
            "left": null
          }
        },
        "540d42c4cf2e44f3a2577ef8bcdf1eaf": {
          "model_module": "@jupyter-widgets/controls",
          "model_name": "DescriptionStyleModel",
          "model_module_version": "1.5.0",
          "state": {
            "_view_name": "StyleView",
            "_model_name": "DescriptionStyleModel",
            "description_width": "",
            "_view_module": "@jupyter-widgets/base",
            "_model_module_version": "1.5.0",
            "_view_count": null,
            "_view_module_version": "1.2.0",
            "_model_module": "@jupyter-widgets/controls"
          }
        },
        "26508271fdae4190a955f75dd9c9bb68": {
          "model_module": "@jupyter-widgets/base",
          "model_name": "LayoutModel",
          "model_module_version": "1.2.0",
          "state": {
            "_view_name": "LayoutView",
            "grid_template_rows": null,
            "right": null,
            "justify_content": null,
            "_view_module": "@jupyter-widgets/base",
            "overflow": null,
            "_model_module_version": "1.2.0",
            "_view_count": null,
            "flex_flow": null,
            "width": null,
            "min_width": null,
            "border": null,
            "align_items": null,
            "bottom": null,
            "_model_module": "@jupyter-widgets/base",
            "top": null,
            "grid_column": null,
            "overflow_y": null,
            "overflow_x": null,
            "grid_auto_flow": null,
            "grid_area": null,
            "grid_template_columns": null,
            "flex": null,
            "_model_name": "LayoutModel",
            "justify_items": null,
            "grid_row": null,
            "max_height": null,
            "align_content": null,
            "visibility": null,
            "align_self": null,
            "height": null,
            "min_height": null,
            "padding": null,
            "grid_auto_rows": null,
            "grid_gap": null,
            "max_width": null,
            "order": null,
            "_view_module_version": "1.2.0",
            "grid_template_areas": null,
            "object_position": null,
            "object_fit": null,
            "grid_auto_columns": null,
            "margin": null,
            "display": null,
            "left": null
          }
        },
        "f63824fd57584fcf946b291d6f86924b": {
          "model_module": "@jupyter-widgets/controls",
          "model_name": "HBoxModel",
          "model_module_version": "1.5.0",
          "state": {
            "_view_name": "HBoxView",
            "_dom_classes": [],
            "_model_name": "HBoxModel",
            "_view_module": "@jupyter-widgets/controls",
            "_model_module_version": "1.5.0",
            "_view_count": null,
            "_view_module_version": "1.5.0",
            "box_style": "",
            "layout": "IPY_MODEL_c2d9707a5016476a94f88cf6fd3b8ec7",
            "_model_module": "@jupyter-widgets/controls",
            "children": [
              "IPY_MODEL_86c8baefbb2443119d47ae4bcd538d99",
              "IPY_MODEL_84d808b95ab34caf9ec7b73615e1a18d",
              "IPY_MODEL_83819e5d06f84a53b7c766ddc2094294"
            ]
          }
        },
        "c2d9707a5016476a94f88cf6fd3b8ec7": {
          "model_module": "@jupyter-widgets/base",
          "model_name": "LayoutModel",
          "model_module_version": "1.2.0",
          "state": {
            "_view_name": "LayoutView",
            "grid_template_rows": null,
            "right": null,
            "justify_content": null,
            "_view_module": "@jupyter-widgets/base",
            "overflow": null,
            "_model_module_version": "1.2.0",
            "_view_count": null,
            "flex_flow": null,
            "width": null,
            "min_width": null,
            "border": null,
            "align_items": null,
            "bottom": null,
            "_model_module": "@jupyter-widgets/base",
            "top": null,
            "grid_column": null,
            "overflow_y": null,
            "overflow_x": null,
            "grid_auto_flow": null,
            "grid_area": null,
            "grid_template_columns": null,
            "flex": null,
            "_model_name": "LayoutModel",
            "justify_items": null,
            "grid_row": null,
            "max_height": null,
            "align_content": null,
            "visibility": null,
            "align_self": null,
            "height": null,
            "min_height": null,
            "padding": null,
            "grid_auto_rows": null,
            "grid_gap": null,
            "max_width": null,
            "order": null,
            "_view_module_version": "1.2.0",
            "grid_template_areas": null,
            "object_position": null,
            "object_fit": null,
            "grid_auto_columns": null,
            "margin": null,
            "display": null,
            "left": null
          }
        },
        "86c8baefbb2443119d47ae4bcd538d99": {
          "model_module": "@jupyter-widgets/controls",
          "model_name": "HTMLModel",
          "model_module_version": "1.5.0",
          "state": {
            "_view_name": "HTMLView",
            "style": "IPY_MODEL_a9308c9957394c93921e7555b7116a56",
            "_dom_classes": [],
            "description": "",
            "_model_name": "HTMLModel",
            "placeholder": "​",
            "_view_module": "@jupyter-widgets/controls",
            "_model_module_version": "1.5.0",
            "value": "Transcribing: 100%",
            "_view_count": null,
            "_view_module_version": "1.5.0",
            "description_tooltip": null,
            "_model_module": "@jupyter-widgets/controls",
            "layout": "IPY_MODEL_8c9dbdfab3d84aad91fd0c2f4e7f68af"
          }
        },
        "84d808b95ab34caf9ec7b73615e1a18d": {
          "model_module": "@jupyter-widgets/controls",
          "model_name": "FloatProgressModel",
          "model_module_version": "1.5.0",
          "state": {
            "_view_name": "ProgressView",
            "style": "IPY_MODEL_df6ba637738d4395bdb316d075322c9b",
            "_dom_classes": [],
            "description": "",
            "_model_name": "FloatProgressModel",
            "bar_style": "success",
            "max": 1,
            "_view_module": "@jupyter-widgets/controls",
            "_model_module_version": "1.5.0",
            "value": 1,
            "_view_count": null,
            "_view_module_version": "1.5.0",
            "orientation": "horizontal",
            "min": 0,
            "description_tooltip": null,
            "_model_module": "@jupyter-widgets/controls",
            "layout": "IPY_MODEL_8698c3e1fb4b4cb6aa0b54059d6d0088"
          }
        },
        "83819e5d06f84a53b7c766ddc2094294": {
          "model_module": "@jupyter-widgets/controls",
          "model_name": "HTMLModel",
          "model_module_version": "1.5.0",
          "state": {
            "_view_name": "HTMLView",
            "style": "IPY_MODEL_80b3119528a04c26ac29f62444a82f53",
            "_dom_classes": [],
            "description": "",
            "_model_name": "HTMLModel",
            "placeholder": "​",
            "_view_module": "@jupyter-widgets/controls",
            "_model_module_version": "1.5.0",
            "value": " 1/1 [00:01&lt;00:00,  1.81s/it]",
            "_view_count": null,
            "_view_module_version": "1.5.0",
            "description_tooltip": null,
            "_model_module": "@jupyter-widgets/controls",
            "layout": "IPY_MODEL_0c5b47cccb3f4a22b7f3f74da7f2a064"
          }
        },
        "a9308c9957394c93921e7555b7116a56": {
          "model_module": "@jupyter-widgets/controls",
          "model_name": "DescriptionStyleModel",
          "model_module_version": "1.5.0",
          "state": {
            "_view_name": "StyleView",
            "_model_name": "DescriptionStyleModel",
            "description_width": "",
            "_view_module": "@jupyter-widgets/base",
            "_model_module_version": "1.5.0",
            "_view_count": null,
            "_view_module_version": "1.2.0",
            "_model_module": "@jupyter-widgets/controls"
          }
        },
        "8c9dbdfab3d84aad91fd0c2f4e7f68af": {
          "model_module": "@jupyter-widgets/base",
          "model_name": "LayoutModel",
          "model_module_version": "1.2.0",
          "state": {
            "_view_name": "LayoutView",
            "grid_template_rows": null,
            "right": null,
            "justify_content": null,
            "_view_module": "@jupyter-widgets/base",
            "overflow": null,
            "_model_module_version": "1.2.0",
            "_view_count": null,
            "flex_flow": null,
            "width": null,
            "min_width": null,
            "border": null,
            "align_items": null,
            "bottom": null,
            "_model_module": "@jupyter-widgets/base",
            "top": null,
            "grid_column": null,
            "overflow_y": null,
            "overflow_x": null,
            "grid_auto_flow": null,
            "grid_area": null,
            "grid_template_columns": null,
            "flex": null,
            "_model_name": "LayoutModel",
            "justify_items": null,
            "grid_row": null,
            "max_height": null,
            "align_content": null,
            "visibility": null,
            "align_self": null,
            "height": null,
            "min_height": null,
            "padding": null,
            "grid_auto_rows": null,
            "grid_gap": null,
            "max_width": null,
            "order": null,
            "_view_module_version": "1.2.0",
            "grid_template_areas": null,
            "object_position": null,
            "object_fit": null,
            "grid_auto_columns": null,
            "margin": null,
            "display": null,
            "left": null
          }
        },
        "df6ba637738d4395bdb316d075322c9b": {
          "model_module": "@jupyter-widgets/controls",
          "model_name": "ProgressStyleModel",
          "model_module_version": "1.5.0",
          "state": {
            "_view_name": "StyleView",
            "_model_name": "ProgressStyleModel",
            "description_width": "",
            "_view_module": "@jupyter-widgets/base",
            "_model_module_version": "1.5.0",
            "_view_count": null,
            "_view_module_version": "1.2.0",
            "bar_color": null,
            "_model_module": "@jupyter-widgets/controls"
          }
        },
        "8698c3e1fb4b4cb6aa0b54059d6d0088": {
          "model_module": "@jupyter-widgets/base",
          "model_name": "LayoutModel",
          "model_module_version": "1.2.0",
          "state": {
            "_view_name": "LayoutView",
            "grid_template_rows": null,
            "right": null,
            "justify_content": null,
            "_view_module": "@jupyter-widgets/base",
            "overflow": null,
            "_model_module_version": "1.2.0",
            "_view_count": null,
            "flex_flow": null,
            "width": null,
            "min_width": null,
            "border": null,
            "align_items": null,
            "bottom": null,
            "_model_module": "@jupyter-widgets/base",
            "top": null,
            "grid_column": null,
            "overflow_y": null,
            "overflow_x": null,
            "grid_auto_flow": null,
            "grid_area": null,
            "grid_template_columns": null,
            "flex": null,
            "_model_name": "LayoutModel",
            "justify_items": null,
            "grid_row": null,
            "max_height": null,
            "align_content": null,
            "visibility": null,
            "align_self": null,
            "height": null,
            "min_height": null,
            "padding": null,
            "grid_auto_rows": null,
            "grid_gap": null,
            "max_width": null,
            "order": null,
            "_view_module_version": "1.2.0",
            "grid_template_areas": null,
            "object_position": null,
            "object_fit": null,
            "grid_auto_columns": null,
            "margin": null,
            "display": null,
            "left": null
          }
        },
        "80b3119528a04c26ac29f62444a82f53": {
          "model_module": "@jupyter-widgets/controls",
          "model_name": "DescriptionStyleModel",
          "model_module_version": "1.5.0",
          "state": {
            "_view_name": "StyleView",
            "_model_name": "DescriptionStyleModel",
            "description_width": "",
            "_view_module": "@jupyter-widgets/base",
            "_model_module_version": "1.5.0",
            "_view_count": null,
            "_view_module_version": "1.2.0",
            "_model_module": "@jupyter-widgets/controls"
          }
        },
        "0c5b47cccb3f4a22b7f3f74da7f2a064": {
          "model_module": "@jupyter-widgets/base",
          "model_name": "LayoutModel",
          "model_module_version": "1.2.0",
          "state": {
            "_view_name": "LayoutView",
            "grid_template_rows": null,
            "right": null,
            "justify_content": null,
            "_view_module": "@jupyter-widgets/base",
            "overflow": null,
            "_model_module_version": "1.2.0",
            "_view_count": null,
            "flex_flow": null,
            "width": null,
            "min_width": null,
            "border": null,
            "align_items": null,
            "bottom": null,
            "_model_module": "@jupyter-widgets/base",
            "top": null,
            "grid_column": null,
            "overflow_y": null,
            "overflow_x": null,
            "grid_auto_flow": null,
            "grid_area": null,
            "grid_template_columns": null,
            "flex": null,
            "_model_name": "LayoutModel",
            "justify_items": null,
            "grid_row": null,
            "max_height": null,
            "align_content": null,
            "visibility": null,
            "align_self": null,
            "height": null,
            "min_height": null,
            "padding": null,
            "grid_auto_rows": null,
            "grid_gap": null,
            "max_width": null,
            "order": null,
            "_view_module_version": "1.2.0",
            "grid_template_areas": null,
            "object_position": null,
            "object_fit": null,
            "grid_auto_columns": null,
            "margin": null,
            "display": null,
            "left": null
          }
        },
        "2ca6e16c907b42cb9752e4151fd72d48": {
          "model_module": "@jupyter-widgets/controls",
          "model_name": "HBoxModel",
          "model_module_version": "1.5.0",
          "state": {
            "_view_name": "HBoxView",
            "_dom_classes": [],
            "_model_name": "HBoxModel",
            "_view_module": "@jupyter-widgets/controls",
            "_model_module_version": "1.5.0",
            "_view_count": null,
            "_view_module_version": "1.5.0",
            "box_style": "",
            "layout": "IPY_MODEL_55141b5746034aab85254ff50eaa7e83",
            "_model_module": "@jupyter-widgets/controls",
            "children": [
              "IPY_MODEL_152f24a8c643447ab7fa0c38003fb240",
              "IPY_MODEL_e1ca9b54cffb4b56ab28eeb571153c58",
              "IPY_MODEL_6effdd083e6a4419b1a2dbd48a6ca314"
            ]
          }
        },
        "55141b5746034aab85254ff50eaa7e83": {
          "model_module": "@jupyter-widgets/base",
          "model_name": "LayoutModel",
          "model_module_version": "1.2.0",
          "state": {
            "_view_name": "LayoutView",
            "grid_template_rows": null,
            "right": null,
            "justify_content": null,
            "_view_module": "@jupyter-widgets/base",
            "overflow": null,
            "_model_module_version": "1.2.0",
            "_view_count": null,
            "flex_flow": "row wrap",
            "width": "100%",
            "min_width": null,
            "border": null,
            "align_items": null,
            "bottom": null,
            "_model_module": "@jupyter-widgets/base",
            "top": null,
            "grid_column": null,
            "overflow_y": null,
            "overflow_x": null,
            "grid_auto_flow": null,
            "grid_area": null,
            "grid_template_columns": null,
            "flex": null,
            "_model_name": "LayoutModel",
            "justify_items": null,
            "grid_row": null,
            "max_height": null,
            "align_content": null,
            "visibility": null,
            "align_self": null,
            "height": null,
            "min_height": null,
            "padding": null,
            "grid_auto_rows": null,
            "grid_gap": null,
            "max_width": null,
            "order": null,
            "_view_module_version": "1.2.0",
            "grid_template_areas": null,
            "object_position": null,
            "object_fit": null,
            "grid_auto_columns": null,
            "margin": null,
            "display": "inline-flex",
            "left": null
          }
        },
        "152f24a8c643447ab7fa0c38003fb240": {
          "model_module": "@jupyter-widgets/controls",
          "model_name": "HTMLModel",
          "model_module_version": "1.5.0",
          "state": {
            "_view_name": "HTMLView",
            "style": "IPY_MODEL_4387832b355845acbbd11b6124f34d7f",
            "_dom_classes": [],
            "description": "",
            "_model_name": "HTMLModel",
            "placeholder": "​",
            "_view_module": "@jupyter-widgets/controls",
            "_model_module_version": "1.5.0",
            "value": "Validation sanity check:   0%",
            "_view_count": null,
            "_view_module_version": "1.5.0",
            "description_tooltip": null,
            "_model_module": "@jupyter-widgets/controls",
            "layout": "IPY_MODEL_44ff01e3a83246b7918c4ca71fa091ea"
          }
        },
        "e1ca9b54cffb4b56ab28eeb571153c58": {
          "model_module": "@jupyter-widgets/controls",
          "model_name": "FloatProgressModel",
          "model_module_version": "1.5.0",
          "state": {
            "_view_name": "ProgressView",
            "style": "IPY_MODEL_4c9f0d059485403ca0810df1b17d6ba2",
            "_dom_classes": [],
            "description": "",
            "_model_name": "FloatProgressModel",
            "bar_style": "danger",
            "max": 2,
            "_view_module": "@jupyter-widgets/controls",
            "_model_module_version": "1.5.0",
            "value": 0,
            "_view_count": null,
            "_view_module_version": "1.5.0",
            "orientation": "horizontal",
            "min": 0,
            "description_tooltip": null,
            "_model_module": "@jupyter-widgets/controls",
            "layout": "IPY_MODEL_699acbfe105b453fa2be4f6d227d0deb"
          }
        },
        "6effdd083e6a4419b1a2dbd48a6ca314": {
          "model_module": "@jupyter-widgets/controls",
          "model_name": "HTMLModel",
          "model_module_version": "1.5.0",
          "state": {
            "_view_name": "HTMLView",
            "style": "IPY_MODEL_6b50d4ad98c245b088949f846a293975",
            "_dom_classes": [],
            "description": "",
            "_model_name": "HTMLModel",
            "placeholder": "​",
            "_view_module": "@jupyter-widgets/controls",
            "_model_module_version": "1.5.0",
            "value": " 0/2 [00:02&lt;?, ?it/s]",
            "_view_count": null,
            "_view_module_version": "1.5.0",
            "description_tooltip": null,
            "_model_module": "@jupyter-widgets/controls",
            "layout": "IPY_MODEL_a88f910237f947a5b1e4687206e52c76"
          }
        },
        "4387832b355845acbbd11b6124f34d7f": {
          "model_module": "@jupyter-widgets/controls",
          "model_name": "DescriptionStyleModel",
          "model_module_version": "1.5.0",
          "state": {
            "_view_name": "StyleView",
            "_model_name": "DescriptionStyleModel",
            "description_width": "",
            "_view_module": "@jupyter-widgets/base",
            "_model_module_version": "1.5.0",
            "_view_count": null,
            "_view_module_version": "1.2.0",
            "_model_module": "@jupyter-widgets/controls"
          }
        },
        "44ff01e3a83246b7918c4ca71fa091ea": {
          "model_module": "@jupyter-widgets/base",
          "model_name": "LayoutModel",
          "model_module_version": "1.2.0",
          "state": {
            "_view_name": "LayoutView",
            "grid_template_rows": null,
            "right": null,
            "justify_content": null,
            "_view_module": "@jupyter-widgets/base",
            "overflow": null,
            "_model_module_version": "1.2.0",
            "_view_count": null,
            "flex_flow": null,
            "width": null,
            "min_width": null,
            "border": null,
            "align_items": null,
            "bottom": null,
            "_model_module": "@jupyter-widgets/base",
            "top": null,
            "grid_column": null,
            "overflow_y": null,
            "overflow_x": null,
            "grid_auto_flow": null,
            "grid_area": null,
            "grid_template_columns": null,
            "flex": null,
            "_model_name": "LayoutModel",
            "justify_items": null,
            "grid_row": null,
            "max_height": null,
            "align_content": null,
            "visibility": null,
            "align_self": null,
            "height": null,
            "min_height": null,
            "padding": null,
            "grid_auto_rows": null,
            "grid_gap": null,
            "max_width": null,
            "order": null,
            "_view_module_version": "1.2.0",
            "grid_template_areas": null,
            "object_position": null,
            "object_fit": null,
            "grid_auto_columns": null,
            "margin": null,
            "display": null,
            "left": null
          }
        },
        "4c9f0d059485403ca0810df1b17d6ba2": {
          "model_module": "@jupyter-widgets/controls",
          "model_name": "ProgressStyleModel",
          "model_module_version": "1.5.0",
          "state": {
            "_view_name": "StyleView",
            "_model_name": "ProgressStyleModel",
            "description_width": "",
            "_view_module": "@jupyter-widgets/base",
            "_model_module_version": "1.5.0",
            "_view_count": null,
            "_view_module_version": "1.2.0",
            "bar_color": null,
            "_model_module": "@jupyter-widgets/controls"
          }
        },
        "699acbfe105b453fa2be4f6d227d0deb": {
          "model_module": "@jupyter-widgets/base",
          "model_name": "LayoutModel",
          "model_module_version": "1.2.0",
          "state": {
            "_view_name": "LayoutView",
            "grid_template_rows": null,
            "right": null,
            "justify_content": null,
            "_view_module": "@jupyter-widgets/base",
            "overflow": null,
            "_model_module_version": "1.2.0",
            "_view_count": null,
            "flex_flow": null,
            "width": null,
            "min_width": null,
            "border": null,
            "align_items": null,
            "bottom": null,
            "_model_module": "@jupyter-widgets/base",
            "top": null,
            "grid_column": null,
            "overflow_y": null,
            "overflow_x": null,
            "grid_auto_flow": null,
            "grid_area": null,
            "grid_template_columns": null,
            "flex": "2",
            "_model_name": "LayoutModel",
            "justify_items": null,
            "grid_row": null,
            "max_height": null,
            "align_content": null,
            "visibility": null,
            "align_self": null,
            "height": null,
            "min_height": null,
            "padding": null,
            "grid_auto_rows": null,
            "grid_gap": null,
            "max_width": null,
            "order": null,
            "_view_module_version": "1.2.0",
            "grid_template_areas": null,
            "object_position": null,
            "object_fit": null,
            "grid_auto_columns": null,
            "margin": null,
            "display": null,
            "left": null
          }
        },
        "6b50d4ad98c245b088949f846a293975": {
          "model_module": "@jupyter-widgets/controls",
          "model_name": "DescriptionStyleModel",
          "model_module_version": "1.5.0",
          "state": {
            "_view_name": "StyleView",
            "_model_name": "DescriptionStyleModel",
            "description_width": "",
            "_view_module": "@jupyter-widgets/base",
            "_model_module_version": "1.5.0",
            "_view_count": null,
            "_view_module_version": "1.2.0",
            "_model_module": "@jupyter-widgets/controls"
          }
        },
        "a88f910237f947a5b1e4687206e52c76": {
          "model_module": "@jupyter-widgets/base",
          "model_name": "LayoutModel",
          "model_module_version": "1.2.0",
          "state": {
            "_view_name": "LayoutView",
            "grid_template_rows": null,
            "right": null,
            "justify_content": null,
            "_view_module": "@jupyter-widgets/base",
            "overflow": null,
            "_model_module_version": "1.2.0",
            "_view_count": null,
            "flex_flow": null,
            "width": null,
            "min_width": null,
            "border": null,
            "align_items": null,
            "bottom": null,
            "_model_module": "@jupyter-widgets/base",
            "top": null,
            "grid_column": null,
            "overflow_y": null,
            "overflow_x": null,
            "grid_auto_flow": null,
            "grid_area": null,
            "grid_template_columns": null,
            "flex": null,
            "_model_name": "LayoutModel",
            "justify_items": null,
            "grid_row": null,
            "max_height": null,
            "align_content": null,
            "visibility": null,
            "align_self": null,
            "height": null,
            "min_height": null,
            "padding": null,
            "grid_auto_rows": null,
            "grid_gap": null,
            "max_width": null,
            "order": null,
            "_view_module_version": "1.2.0",
            "grid_template_areas": null,
            "object_position": null,
            "object_fit": null,
            "grid_auto_columns": null,
            "margin": null,
            "display": null,
            "left": null
          }
        },
        "7235122a0739494dbf8b7a04c2c2e3fc": {
          "model_module": "@jupyter-widgets/controls",
          "model_name": "HBoxModel",
          "model_module_version": "1.5.0",
          "state": {
            "_view_name": "HBoxView",
            "_dom_classes": [],
            "_model_name": "HBoxModel",
            "_view_module": "@jupyter-widgets/controls",
            "_model_module_version": "1.5.0",
            "_view_count": null,
            "_view_module_version": "1.5.0",
            "box_style": "",
            "layout": "IPY_MODEL_14a65ac2e29f4cc0adf740913329bfe2",
            "_model_module": "@jupyter-widgets/controls",
            "children": [
              "IPY_MODEL_095d980ad0b34718af57bea5f54b654c",
              "IPY_MODEL_87450fe0317e4e37b0a8f262420f54b5",
              "IPY_MODEL_66b50a62f94749fdac95b829a9be11ff"
            ]
          }
        },
        "14a65ac2e29f4cc0adf740913329bfe2": {
          "model_module": "@jupyter-widgets/base",
          "model_name": "LayoutModel",
          "model_module_version": "1.2.0",
          "state": {
            "_view_name": "LayoutView",
            "grid_template_rows": null,
            "right": null,
            "justify_content": null,
            "_view_module": "@jupyter-widgets/base",
            "overflow": null,
            "_model_module_version": "1.2.0",
            "_view_count": null,
            "flex_flow": "row wrap",
            "width": "100%",
            "min_width": null,
            "border": null,
            "align_items": null,
            "bottom": null,
            "_model_module": "@jupyter-widgets/base",
            "top": null,
            "grid_column": null,
            "overflow_y": null,
            "overflow_x": null,
            "grid_auto_flow": null,
            "grid_area": null,
            "grid_template_columns": null,
            "flex": null,
            "_model_name": "LayoutModel",
            "justify_items": null,
            "grid_row": null,
            "max_height": null,
            "align_content": null,
            "visibility": null,
            "align_self": null,
            "height": null,
            "min_height": null,
            "padding": null,
            "grid_auto_rows": null,
            "grid_gap": null,
            "max_width": null,
            "order": null,
            "_view_module_version": "1.2.0",
            "grid_template_areas": null,
            "object_position": null,
            "object_fit": null,
            "grid_auto_columns": null,
            "margin": null,
            "display": "inline-flex",
            "left": null
          }
        },
        "095d980ad0b34718af57bea5f54b654c": {
          "model_module": "@jupyter-widgets/controls",
          "model_name": "HTMLModel",
          "model_module_version": "1.5.0",
          "state": {
            "_view_name": "HTMLView",
            "style": "IPY_MODEL_dce51436705a46959f2e1c0d7cf96729",
            "_dom_classes": [],
            "description": "",
            "_model_name": "HTMLModel",
            "placeholder": "​",
            "_view_module": "@jupyter-widgets/controls",
            "_model_module_version": "1.5.0",
            "value": "Epoch 0: 100%",
            "_view_count": null,
            "_view_module_version": "1.5.0",
            "description_tooltip": null,
            "_model_module": "@jupyter-widgets/controls",
            "layout": "IPY_MODEL_6f342c13956249aa88709960862e7bc9"
          }
        },
        "87450fe0317e4e37b0a8f262420f54b5": {
          "model_module": "@jupyter-widgets/controls",
          "model_name": "FloatProgressModel",
          "model_module_version": "1.5.0",
          "state": {
            "_view_name": "ProgressView",
            "style": "IPY_MODEL_6e689eb999a94bae9d80ac78bb87e779",
            "_dom_classes": [],
            "description": "",
            "_model_name": "FloatProgressModel",
            "bar_style": "success",
            "max": 3700,
            "_view_module": "@jupyter-widgets/controls",
            "_model_module_version": "1.5.0",
            "value": 3700,
            "_view_count": null,
            "_view_module_version": "1.5.0",
            "orientation": "horizontal",
            "min": 0,
            "description_tooltip": null,
            "_model_module": "@jupyter-widgets/controls",
            "layout": "IPY_MODEL_7fa8b683f10647959bb543ab6c8bce1f"
          }
        },
        "66b50a62f94749fdac95b829a9be11ff": {
          "model_module": "@jupyter-widgets/controls",
          "model_name": "HTMLModel",
          "model_module_version": "1.5.0",
          "state": {
            "_view_name": "HTMLView",
            "style": "IPY_MODEL_3a9af49f69ba459999382af2586dd6cc",
            "_dom_classes": [],
            "description": "",
            "_model_name": "HTMLModel",
            "placeholder": "​",
            "_view_module": "@jupyter-widgets/controls",
            "_model_module_version": "1.5.0",
            "value": " 3700/3700 [1:32:43&lt;00:00,  1.50s/it, loss=7.69, v_num=lvx1]",
            "_view_count": null,
            "_view_module_version": "1.5.0",
            "description_tooltip": null,
            "_model_module": "@jupyter-widgets/controls",
            "layout": "IPY_MODEL_fb9b37d2798c44a898dfbb31c20fbd65"
          }
        },
        "dce51436705a46959f2e1c0d7cf96729": {
          "model_module": "@jupyter-widgets/controls",
          "model_name": "DescriptionStyleModel",
          "model_module_version": "1.5.0",
          "state": {
            "_view_name": "StyleView",
            "_model_name": "DescriptionStyleModel",
            "description_width": "",
            "_view_module": "@jupyter-widgets/base",
            "_model_module_version": "1.5.0",
            "_view_count": null,
            "_view_module_version": "1.2.0",
            "_model_module": "@jupyter-widgets/controls"
          }
        },
        "6f342c13956249aa88709960862e7bc9": {
          "model_module": "@jupyter-widgets/base",
          "model_name": "LayoutModel",
          "model_module_version": "1.2.0",
          "state": {
            "_view_name": "LayoutView",
            "grid_template_rows": null,
            "right": null,
            "justify_content": null,
            "_view_module": "@jupyter-widgets/base",
            "overflow": null,
            "_model_module_version": "1.2.0",
            "_view_count": null,
            "flex_flow": null,
            "width": null,
            "min_width": null,
            "border": null,
            "align_items": null,
            "bottom": null,
            "_model_module": "@jupyter-widgets/base",
            "top": null,
            "grid_column": null,
            "overflow_y": null,
            "overflow_x": null,
            "grid_auto_flow": null,
            "grid_area": null,
            "grid_template_columns": null,
            "flex": null,
            "_model_name": "LayoutModel",
            "justify_items": null,
            "grid_row": null,
            "max_height": null,
            "align_content": null,
            "visibility": null,
            "align_self": null,
            "height": null,
            "min_height": null,
            "padding": null,
            "grid_auto_rows": null,
            "grid_gap": null,
            "max_width": null,
            "order": null,
            "_view_module_version": "1.2.0",
            "grid_template_areas": null,
            "object_position": null,
            "object_fit": null,
            "grid_auto_columns": null,
            "margin": null,
            "display": null,
            "left": null
          }
        },
        "6e689eb999a94bae9d80ac78bb87e779": {
          "model_module": "@jupyter-widgets/controls",
          "model_name": "ProgressStyleModel",
          "model_module_version": "1.5.0",
          "state": {
            "_view_name": "StyleView",
            "_model_name": "ProgressStyleModel",
            "description_width": "",
            "_view_module": "@jupyter-widgets/base",
            "_model_module_version": "1.5.0",
            "_view_count": null,
            "_view_module_version": "1.2.0",
            "bar_color": null,
            "_model_module": "@jupyter-widgets/controls"
          }
        },
        "7fa8b683f10647959bb543ab6c8bce1f": {
          "model_module": "@jupyter-widgets/base",
          "model_name": "LayoutModel",
          "model_module_version": "1.2.0",
          "state": {
            "_view_name": "LayoutView",
            "grid_template_rows": null,
            "right": null,
            "justify_content": null,
            "_view_module": "@jupyter-widgets/base",
            "overflow": null,
            "_model_module_version": "1.2.0",
            "_view_count": null,
            "flex_flow": null,
            "width": null,
            "min_width": null,
            "border": null,
            "align_items": null,
            "bottom": null,
            "_model_module": "@jupyter-widgets/base",
            "top": null,
            "grid_column": null,
            "overflow_y": null,
            "overflow_x": null,
            "grid_auto_flow": null,
            "grid_area": null,
            "grid_template_columns": null,
            "flex": "2",
            "_model_name": "LayoutModel",
            "justify_items": null,
            "grid_row": null,
            "max_height": null,
            "align_content": null,
            "visibility": null,
            "align_self": null,
            "height": null,
            "min_height": null,
            "padding": null,
            "grid_auto_rows": null,
            "grid_gap": null,
            "max_width": null,
            "order": null,
            "_view_module_version": "1.2.0",
            "grid_template_areas": null,
            "object_position": null,
            "object_fit": null,
            "grid_auto_columns": null,
            "margin": null,
            "display": null,
            "left": null
          }
        },
        "3a9af49f69ba459999382af2586dd6cc": {
          "model_module": "@jupyter-widgets/controls",
          "model_name": "DescriptionStyleModel",
          "model_module_version": "1.5.0",
          "state": {
            "_view_name": "StyleView",
            "_model_name": "DescriptionStyleModel",
            "description_width": "",
            "_view_module": "@jupyter-widgets/base",
            "_model_module_version": "1.5.0",
            "_view_count": null,
            "_view_module_version": "1.2.0",
            "_model_module": "@jupyter-widgets/controls"
          }
        },
        "fb9b37d2798c44a898dfbb31c20fbd65": {
          "model_module": "@jupyter-widgets/base",
          "model_name": "LayoutModel",
          "model_module_version": "1.2.0",
          "state": {
            "_view_name": "LayoutView",
            "grid_template_rows": null,
            "right": null,
            "justify_content": null,
            "_view_module": "@jupyter-widgets/base",
            "overflow": null,
            "_model_module_version": "1.2.0",
            "_view_count": null,
            "flex_flow": null,
            "width": null,
            "min_width": null,
            "border": null,
            "align_items": null,
            "bottom": null,
            "_model_module": "@jupyter-widgets/base",
            "top": null,
            "grid_column": null,
            "overflow_y": null,
            "overflow_x": null,
            "grid_auto_flow": null,
            "grid_area": null,
            "grid_template_columns": null,
            "flex": null,
            "_model_name": "LayoutModel",
            "justify_items": null,
            "grid_row": null,
            "max_height": null,
            "align_content": null,
            "visibility": null,
            "align_self": null,
            "height": null,
            "min_height": null,
            "padding": null,
            "grid_auto_rows": null,
            "grid_gap": null,
            "max_width": null,
            "order": null,
            "_view_module_version": "1.2.0",
            "grid_template_areas": null,
            "object_position": null,
            "object_fit": null,
            "grid_auto_columns": null,
            "margin": null,
            "display": null,
            "left": null
          }
        },
        "39e7fcf555d94443a995b55b0096330a": {
          "model_module": "@jupyter-widgets/controls",
          "model_name": "HBoxModel",
          "model_module_version": "1.5.0",
          "state": {
            "_view_name": "HBoxView",
            "_dom_classes": [],
            "_model_name": "HBoxModel",
            "_view_module": "@jupyter-widgets/controls",
            "_model_module_version": "1.5.0",
            "_view_count": null,
            "_view_module_version": "1.5.0",
            "box_style": "",
            "layout": "IPY_MODEL_70a72b1791924aaaac719cbd50bf406f",
            "_model_module": "@jupyter-widgets/controls",
            "children": [
              "IPY_MODEL_3f9e349ff08b45059aabc56cc06a4ed4",
              "IPY_MODEL_f4aefbda007e45a2aa1ec09faa32c700",
              "IPY_MODEL_a6201293f1cb447caac95de9547d1a43"
            ]
          }
        },
        "70a72b1791924aaaac719cbd50bf406f": {
          "model_module": "@jupyter-widgets/base",
          "model_name": "LayoutModel",
          "model_module_version": "1.2.0",
          "state": {
            "_view_name": "LayoutView",
            "grid_template_rows": null,
            "right": null,
            "justify_content": null,
            "_view_module": "@jupyter-widgets/base",
            "overflow": null,
            "_model_module_version": "1.2.0",
            "_view_count": null,
            "flex_flow": "row wrap",
            "width": "100%",
            "min_width": null,
            "border": null,
            "align_items": null,
            "bottom": null,
            "_model_module": "@jupyter-widgets/base",
            "top": null,
            "grid_column": null,
            "overflow_y": null,
            "overflow_x": null,
            "grid_auto_flow": null,
            "grid_area": null,
            "grid_template_columns": null,
            "flex": null,
            "_model_name": "LayoutModel",
            "justify_items": null,
            "grid_row": null,
            "max_height": null,
            "align_content": null,
            "visibility": null,
            "align_self": null,
            "height": null,
            "min_height": null,
            "padding": null,
            "grid_auto_rows": null,
            "grid_gap": null,
            "max_width": null,
            "order": null,
            "_view_module_version": "1.2.0",
            "grid_template_areas": null,
            "object_position": null,
            "object_fit": null,
            "grid_auto_columns": null,
            "margin": null,
            "display": "inline-flex",
            "left": null
          }
        },
        "3f9e349ff08b45059aabc56cc06a4ed4": {
          "model_module": "@jupyter-widgets/controls",
          "model_name": "HTMLModel",
          "model_module_version": "1.5.0",
          "state": {
            "_view_name": "HTMLView",
            "style": "IPY_MODEL_caf706d8222f4a7b8fe72f3880c6c56f",
            "_dom_classes": [],
            "description": "",
            "_model_name": "HTMLModel",
            "placeholder": "​",
            "_view_module": "@jupyter-widgets/controls",
            "_model_module_version": "1.5.0",
            "value": "Validating: 100%",
            "_view_count": null,
            "_view_module_version": "1.5.0",
            "description_tooltip": null,
            "_model_module": "@jupyter-widgets/controls",
            "layout": "IPY_MODEL_6d40297522cb4f9184261c29f8f8eec1"
          }
        },
        "f4aefbda007e45a2aa1ec09faa32c700": {
          "model_module": "@jupyter-widgets/controls",
          "model_name": "FloatProgressModel",
          "model_module_version": "1.5.0",
          "state": {
            "_view_name": "ProgressView",
            "style": "IPY_MODEL_03aea75badd84cd9820ccd0b7a9f68dc",
            "_dom_classes": [],
            "description": "",
            "_model_name": "FloatProgressModel",
            "bar_style": "",
            "max": 5,
            "_view_module": "@jupyter-widgets/controls",
            "_model_module_version": "1.5.0",
            "value": 5,
            "_view_count": null,
            "_view_module_version": "1.5.0",
            "orientation": "horizontal",
            "min": 0,
            "description_tooltip": null,
            "_model_module": "@jupyter-widgets/controls",
            "layout": "IPY_MODEL_3c437b92a5fe46b7bfb42e704fdec27a"
          }
        },
        "a6201293f1cb447caac95de9547d1a43": {
          "model_module": "@jupyter-widgets/controls",
          "model_name": "HTMLModel",
          "model_module_version": "1.5.0",
          "state": {
            "_view_name": "HTMLView",
            "style": "IPY_MODEL_63ed31f348da40f8b0871c0397a21915",
            "_dom_classes": [],
            "description": "",
            "_model_name": "HTMLModel",
            "placeholder": "​",
            "_view_module": "@jupyter-widgets/controls",
            "_model_module_version": "1.5.0",
            "value": " 5/5 [00:03&lt;00:00,  1.42it/s]",
            "_view_count": null,
            "_view_module_version": "1.5.0",
            "description_tooltip": null,
            "_model_module": "@jupyter-widgets/controls",
            "layout": "IPY_MODEL_95868e1e3e00473589a99a333eeb6fce"
          }
        },
        "caf706d8222f4a7b8fe72f3880c6c56f": {
          "model_module": "@jupyter-widgets/controls",
          "model_name": "DescriptionStyleModel",
          "model_module_version": "1.5.0",
          "state": {
            "_view_name": "StyleView",
            "_model_name": "DescriptionStyleModel",
            "description_width": "",
            "_view_module": "@jupyter-widgets/base",
            "_model_module_version": "1.5.0",
            "_view_count": null,
            "_view_module_version": "1.2.0",
            "_model_module": "@jupyter-widgets/controls"
          }
        },
        "6d40297522cb4f9184261c29f8f8eec1": {
          "model_module": "@jupyter-widgets/base",
          "model_name": "LayoutModel",
          "model_module_version": "1.2.0",
          "state": {
            "_view_name": "LayoutView",
            "grid_template_rows": null,
            "right": null,
            "justify_content": null,
            "_view_module": "@jupyter-widgets/base",
            "overflow": null,
            "_model_module_version": "1.2.0",
            "_view_count": null,
            "flex_flow": null,
            "width": null,
            "min_width": null,
            "border": null,
            "align_items": null,
            "bottom": null,
            "_model_module": "@jupyter-widgets/base",
            "top": null,
            "grid_column": null,
            "overflow_y": null,
            "overflow_x": null,
            "grid_auto_flow": null,
            "grid_area": null,
            "grid_template_columns": null,
            "flex": null,
            "_model_name": "LayoutModel",
            "justify_items": null,
            "grid_row": null,
            "max_height": null,
            "align_content": null,
            "visibility": null,
            "align_self": null,
            "height": null,
            "min_height": null,
            "padding": null,
            "grid_auto_rows": null,
            "grid_gap": null,
            "max_width": null,
            "order": null,
            "_view_module_version": "1.2.0",
            "grid_template_areas": null,
            "object_position": null,
            "object_fit": null,
            "grid_auto_columns": null,
            "margin": null,
            "display": null,
            "left": null
          }
        },
        "03aea75badd84cd9820ccd0b7a9f68dc": {
          "model_module": "@jupyter-widgets/controls",
          "model_name": "ProgressStyleModel",
          "model_module_version": "1.5.0",
          "state": {
            "_view_name": "StyleView",
            "_model_name": "ProgressStyleModel",
            "description_width": "",
            "_view_module": "@jupyter-widgets/base",
            "_model_module_version": "1.5.0",
            "_view_count": null,
            "_view_module_version": "1.2.0",
            "bar_color": null,
            "_model_module": "@jupyter-widgets/controls"
          }
        },
        "3c437b92a5fe46b7bfb42e704fdec27a": {
          "model_module": "@jupyter-widgets/base",
          "model_name": "LayoutModel",
          "model_module_version": "1.2.0",
          "state": {
            "_view_name": "LayoutView",
            "grid_template_rows": null,
            "right": null,
            "justify_content": null,
            "_view_module": "@jupyter-widgets/base",
            "overflow": null,
            "_model_module_version": "1.2.0",
            "_view_count": null,
            "flex_flow": null,
            "width": null,
            "min_width": null,
            "border": null,
            "align_items": null,
            "bottom": null,
            "_model_module": "@jupyter-widgets/base",
            "top": null,
            "grid_column": null,
            "overflow_y": null,
            "overflow_x": null,
            "grid_auto_flow": null,
            "grid_area": null,
            "grid_template_columns": null,
            "flex": "2",
            "_model_name": "LayoutModel",
            "justify_items": null,
            "grid_row": null,
            "max_height": null,
            "align_content": null,
            "visibility": null,
            "align_self": null,
            "height": null,
            "min_height": null,
            "padding": null,
            "grid_auto_rows": null,
            "grid_gap": null,
            "max_width": null,
            "order": null,
            "_view_module_version": "1.2.0",
            "grid_template_areas": null,
            "object_position": null,
            "object_fit": null,
            "grid_auto_columns": null,
            "margin": null,
            "display": null,
            "left": null
          }
        },
        "63ed31f348da40f8b0871c0397a21915": {
          "model_module": "@jupyter-widgets/controls",
          "model_name": "DescriptionStyleModel",
          "model_module_version": "1.5.0",
          "state": {
            "_view_name": "StyleView",
            "_model_name": "DescriptionStyleModel",
            "description_width": "",
            "_view_module": "@jupyter-widgets/base",
            "_model_module_version": "1.5.0",
            "_view_count": null,
            "_view_module_version": "1.2.0",
            "_model_module": "@jupyter-widgets/controls"
          }
        },
        "95868e1e3e00473589a99a333eeb6fce": {
          "model_module": "@jupyter-widgets/base",
          "model_name": "LayoutModel",
          "model_module_version": "1.2.0",
          "state": {
            "_view_name": "LayoutView",
            "grid_template_rows": null,
            "right": null,
            "justify_content": null,
            "_view_module": "@jupyter-widgets/base",
            "overflow": null,
            "_model_module_version": "1.2.0",
            "_view_count": null,
            "flex_flow": null,
            "width": null,
            "min_width": null,
            "border": null,
            "align_items": null,
            "bottom": null,
            "_model_module": "@jupyter-widgets/base",
            "top": null,
            "grid_column": null,
            "overflow_y": null,
            "overflow_x": null,
            "grid_auto_flow": null,
            "grid_area": null,
            "grid_template_columns": null,
            "flex": null,
            "_model_name": "LayoutModel",
            "justify_items": null,
            "grid_row": null,
            "max_height": null,
            "align_content": null,
            "visibility": null,
            "align_self": null,
            "height": null,
            "min_height": null,
            "padding": null,
            "grid_auto_rows": null,
            "grid_gap": null,
            "max_width": null,
            "order": null,
            "_view_module_version": "1.2.0",
            "grid_template_areas": null,
            "object_position": null,
            "object_fit": null,
            "grid_auto_columns": null,
            "margin": null,
            "display": null,
            "left": null
          }
        }
      }
    }
  },
  "cells": [
    {
      "cell_type": "markdown",
      "metadata": {
        "id": "e2fY6Gmxnxk8"
      },
      "source": [
        "## Installs & Imports"
      ]
    },
    {
      "cell_type": "code",
      "metadata": {
        "id": "iXr6Q9gZC51X"
      },
      "source": [
        "!pip install wget\n",
        "!apt-get install sox libsndfile1 ffmpeg\n",
        "!pip install unidecode\n",
        "!python -m pip install nemo_toolkit[all]\n",
        "\n",
        "exit()"
      ],
      "execution_count": null,
      "outputs": []
    },
    {
      "cell_type": "code",
      "metadata": {
        "id": "-kMwi1W6b6bW"
      },
      "source": [
        "!pip install jsonlines\n",
        "!pip install python-Levenshtein"
      ],
      "execution_count": null,
      "outputs": []
    },
    {
      "cell_type": "code",
      "metadata": {
        "id": "1wpEvyrIDL0g"
      },
      "source": [
        "import librosa\n",
        "import IPython.display as ipd\n",
        "import glob\n",
        "import os\n",
        "import subprocess\n",
        "import tarfile\n",
        "import wget\n",
        "%matplotlib inline\n",
        "import librosa.display\n",
        "import matplotlib.pyplot as plt\n",
        "import numpy as np\n",
        "import json\n",
        "import pytorch_lightning as pl\n",
        "from omegaconf import DictConfig\n",
        "import pandas as pd\n",
        "from Levenshtein import distance as levenshtein_distance\n",
        "import jsonlines\n",
        "from pytorch_lightning.loggers import WandbLogger\n",
        "from pytorch_lightning import Trainer\n",
        "import copy\n",
        "from omegaconf import DictConfig"
      ],
      "execution_count": 1,
      "outputs": []
    },
    {
      "cell_type": "code",
      "metadata": {
        "id": "tenENmvFDbAR",
        "colab": {
          "base_uri": "https://localhost:8080/"
        },
        "outputId": "6ca72b03-ca8c-45df-ebd6-379925ba4585"
      },
      "source": [
        "import nemo\n",
        "import nemo.collections.asr as nemo_asr"
      ],
      "execution_count": 2,
      "outputs": [
        {
          "output_type": "stream",
          "name": "stderr",
          "text": [
            "[NeMo W 2021-11-30 15:35:19 optimizers:50] Apex was not found. Using the lamb or fused_adam optimizer will error out.\n",
            "################################################################################\n",
            "### WARNING, path does not exist: KALDI_ROOT=/mnt/matylda5/iveselyk/Tools/kaldi-trunk\n",
            "###          (please add 'export KALDI_ROOT=<your_path>' in your $HOME/.profile)\n",
            "###          (or run as: KALDI_ROOT=<your_path> python <your_script>.py)\n",
            "################################################################################\n",
            "\n"
          ]
        }
      ]
    },
    {
      "cell_type": "code",
      "metadata": {
        "id": "JL-cgK8gDA_S"
      },
      "source": [
        "data_dir = '/content'"
      ],
      "execution_count": 3,
      "outputs": []
    },
    {
      "cell_type": "markdown",
      "metadata": {
        "id": "8GIwLRcqDvdw"
      },
      "source": [
        "## Prepare data"
      ]
    },
    {
      "cell_type": "markdown",
      "metadata": {
        "id": "u7J45tqrHmnw"
      },
      "source": [
        "Скачаем тренировочные и тестовые данные и модель. В качестве трейна я взяла *train_farfield*, а в качестве теста - тоже *farfield* только из *test*"
      ]
    },
    {
      "cell_type": "code",
      "metadata": {
        "id": "8tUSAyglDDnU"
      },
      "source": [
        "def load(golos_url, fname):\n",
        "  if not os.path.exists(os.path.join(data_dir, fname)):\n",
        "      golos_path = wget.download(golos_url, os.path.join(data_dir, fname))\n",
        "      print(f\"Dataset downloaded at: {golos_path}\")\n",
        "  else:\n",
        "      print(\"Tarfile already exists.\")\n",
        "      golos_path = os.path.join(data_dir, fname)\n",
        "  return golos_path\n",
        "\n",
        "def load_data(link, data, dir = '/test/'):\n",
        "    golos_path = load(link, data)\n",
        "\n",
        "    if not os.path.exists(os.path.join(data_dir, dir)):\n",
        "        tar = tarfile.open(golos_path)\n",
        "        tar.extractall(path=data_dir)"
      ],
      "execution_count": 4,
      "outputs": []
    },
    {
      "cell_type": "code",
      "metadata": {
        "id": "Dy8-90WBEy2s"
      },
      "source": [
        "from google.colab import drive\n",
        "drive.mount('/content/drive')"
      ],
      "execution_count": null,
      "outputs": []
    },
    {
      "cell_type": "code",
      "metadata": {
        "id": "2urmqo1exF9L"
      },
      "source": [
        "load_data(\"https://sc.link/Kqr\", \"test.tar\", '/test/')\n",
        "load_data(\"https://sc.link/1Z3\", \"train_farfield.tar\", '/train_farfield/')"
      ],
      "execution_count": null,
      "outputs": []
    },
    {
      "cell_type": "code",
      "metadata": {
        "id": "kuFae9tADHeS"
      },
      "source": [
        "load(\"https://sc.link/ZMv\", \"QuartzNet15x5_golos.nemo\")\n",
        "asr_model = nemo_asr.models.EncDecCTCModel.restore_from(os.path.join(data_dir, \"QuartzNet15x5_golos.nemo\"))"
      ],
      "execution_count": null,
      "outputs": []
    },
    {
      "cell_type": "markdown",
      "metadata": {
        "id": "JdMMQyYsH7sM"
      },
      "source": [
        "Чтобы освободить место, удалим ненужные файлы"
      ]
    },
    {
      "cell_type": "code",
      "metadata": {
        "id": "HK2qMaak0QAm"
      },
      "source": [
        "!rm -rf '/content/train_farfield.tar'\n",
        "!rm -rf '/content/test.tar'\n",
        "!rm -rf '/content/test/crowd/'"
      ],
      "execution_count": 8,
      "outputs": []
    },
    {
      "cell_type": "markdown",
      "metadata": {
        "id": "3Ns9paolIBoA"
      },
      "source": [
        "Поправим манифесты и перенесем их, куда надо"
      ]
    },
    {
      "cell_type": "code",
      "metadata": {
        "colab": {
          "base_uri": "https://localhost:8080/"
        },
        "id": "L1xwxiezabYe",
        "outputId": "648cc472-4de3-40d5-c9cc-c7d0e336d3e3"
      },
      "source": [
        "import json\n",
        "\n",
        "def build_manifest(manifest_rel, manifest_abs):\n",
        "    manifest_path = os.path.split(os.path.abspath(manifest_rel))[0]\n",
        "    with open(manifest_rel, 'r') as fin:\n",
        "        with open(manifest_abs, 'w') as fout:\n",
        "            for line in fin:\n",
        "                metadata = json.loads(line)\n",
        "                if metadata[\"audio_filepath\"].startswith('farfield'):\n",
        "                    name=os.path.join(data_dir + \"/train/\", metadata[\"audio_filepath\"])\n",
        "                    name = name.split('.')\n",
        "                    name = name[0] + '.wav'\n",
        "                    metadata[\"audio_filepath\"] = name\n",
        "                    json.dump(metadata, fout)\n",
        "                    fout.write('\\n')\n",
        "                elif metadata[\"audio_filepath\"].startswith('files'):\n",
        "                    metadata[\"audio_filepath\"]=os.path.join(manifest_path, metadata[\"audio_filepath\"])\n",
        "                    json.dump(metadata, fout)\n",
        "                    fout.write('\\n')\n",
        "                \n",
        "print(\"******\")\n",
        "train_abs = os.path.join(data_dir, 'train/farfield/farfield_train.jsonl')\n",
        "if not os.path.isfile(train_abs):\n",
        "  build_manifest(\"/content/drive/MyDrive/manifest.jsonl\", train_abs)\n",
        "train_manifest = train_abs\n",
        "print(\"train_manifest\", train_manifest)\n",
        "\n",
        "test_rel = os.path.join(data_dir, 'test/farfield/manifest.jsonl')\n",
        "test_abs = os.path.join(data_dir, 'test/farfield/farfield_test.jsonl')\n",
        "if not os.path.isfile(test_abs):\n",
        "  build_manifest(test_rel, test_abs)\n",
        "test_manifest = test_abs\n",
        "print(\"test_manifest\", test_manifest)"
      ],
      "execution_count": null,
      "outputs": [
        {
          "output_type": "stream",
          "name": "stdout",
          "text": [
            "******\n",
            "train_manifest /content/train/farfield/farfield_train.jsonl\n",
            "test_manifest /content/test/farfield/farfield_test.jsonl\n"
          ]
        }
      ]
    },
    {
      "cell_type": "markdown",
      "metadata": {
        "id": "8tdGJ4bRIKZN"
      },
      "source": [
        "Проверим, сколько у нас файлов для трейна и теста"
      ]
    },
    {
      "cell_type": "code",
      "metadata": {
        "colab": {
          "base_uri": "https://localhost:8080/"
        },
        "id": "ZVsh0iToiEQN",
        "outputId": "6ca8fc17-d522-49d6-d428-b3957d555948"
      },
      "source": [
        "len(os.listdir(data_dir + \"/test/farfield/files/\")), len(os.listdir(data_dir + \"/train/farfield/\"))"
      ],
      "execution_count": null,
      "outputs": [
        {
          "output_type": "execute_result",
          "data": {
            "text/plain": [
              "(1916, 124004)"
            ]
          },
          "metadata": {},
          "execution_count": 64
        }
      ]
    },
    {
      "cell_type": "markdown",
      "metadata": {
        "id": "8akCfRLRITSy"
      },
      "source": [
        "Посмотрим на первые несколько строк манифеста"
      ]
    },
    {
      "cell_type": "code",
      "metadata": {
        "colab": {
          "base_uri": "https://localhost:8080/"
        },
        "id": "PKzLjsvyhyhR",
        "outputId": "51fd7f8b-894e-462b-b643-798ae1549a30"
      },
      "source": [
        "!head \"/content/train/farfield/farfield_train.jsonl\""
      ],
      "execution_count": null,
      "outputs": [
        {
          "output_type": "stream",
          "name": "stdout",
          "text": [
            "{\"id\": \"855e01d6ba9a4aa59950d62037b87709\", \"audio_filepath\": \"/content/train/farfield/855e01d6ba9a4aa59950d62037b87709.wav\", \"text\": \"\\u0430\\u0444\\u0438\\u043d\\u0430 \\u0445\\u043e\\u0442\\u0435\\u043b\\u0430 \\u043d\\u043e\\u043c\\u0435\\u0440 \\u0442\\u0435\\u043b\\u0435\\u0444\\u043e\\u043d\\u0430 \\u043f\\u043e\\u043c\\u0435\\u043d\\u044f\\u0442\\u044c \\u043a\\u0430\\u0440\\u0442\\u044b\", \"duration\": 5.4596875}\n",
            "{\"id\": \"f6075fae0c592183f107cf781117d9b5\", \"audio_filepath\": \"/content/train/farfield/f6075fae0c592183f107cf781117d9b5.wav\", \"text\": \"\\u0441\\u0430\\u043b\\u044e\\u0442 \\u0445\\u043e\\u0447\\u0443 \\u043f\\u043e\\u0433\\u043e\\u0432\\u043e\\u0440\\u0438\\u0442\\u044c \\u0441 \\u0434\\u0436\\u043e\\u0439\", \"duration\": 4.15125}\n",
            "{\"id\": \"2599a6cb55795b38ddd80b849d8670bc\", \"audio_filepath\": \"/content/train/farfield/2599a6cb55795b38ddd80b849d8670bc.wav\", \"text\": \"\\u0434\\u0436\\u043e\\u0439 \\u043a\\u0430\\u043a\\u0430\\u044f \\u0432\\u0430\\u043b\\u044e\\u0442\\u0430 \\u0432 \\u043a\\u0430\\u043c\\u0431\\u043e\\u0434\\u0436\\u0435\", \"duration\": 3.9185625}\n",
            "{\"id\": \"5f7483035b2f26b773b0d3fb125b779d\", \"audio_filepath\": \"/content/train/farfield/5f7483035b2f26b773b0d3fb125b779d.wav\", \"text\": \"\\u0441\\u0430\\u043b\\u044e\\u0442 \\u044f \\u043c\\u043e\\u0433\\u0443 \\u0447\\u0442\\u043e \\u043d\\u0438\\u0431\\u0443\\u0434\\u044c \\u0441\\u0434\\u0435\\u043b\\u0430\\u0442\\u044c\", \"duration\": 5.063625}\n",
            "{\"id\": \"4c95a12b71e1262ac937d2fe6a803906\", \"audio_filepath\": \"/content/train/farfield/4c95a12b71e1262ac937d2fe6a803906.wav\", \"text\": \"\\u0434\\u0436\\u043e\\u0439 \\u0441\\u043c\\u043e\\u0442\\u0440\\u0435\\u0442\\u044c \\u043e\\u043f\\u0435\\u0440\\u0430\\u0446\\u0438\\u044e \\u044b \\u0438 \\u0434\\u0440\\u0443\\u0433\\u0438\\u0435 \\u043f\\u0440\\u0438\\u043a\\u043b\\u044e\\u0447\\u0435\\u043d\\u0438\\u044f \\u0448\\u0443\\u0440\\u0438\\u043a\\u0430 \\u043e\\u043d\\u043b\\u0430\\u0439\\u043d\", \"duration\": 7.3826875}\n",
            "{\"id\": \"90655e9a042c4e79c424cd7dd82b37a6\", \"audio_filepath\": \"/content/train/farfield/90655e9a042c4e79c424cd7dd82b37a6.wav\", \"text\": \"\\u0441\\u0430\\u043b\\u044e\\u0442 \\u043d\\u0430 \\u043a\\u0430\\u043a\\u043e\\u043c \\u044f\\u0437\\u044b\\u043a\\u0435 \\u0441\\u043e\\u0437\\u0434\\u0430\\u043d\\u0430 \\u043a\\u0430\\u0432\\u043a\\u0430 \\u043d\\u0430 \\u043f\\u043b\\u044f\\u0436\\u0435\", \"duration\": 5.232625}\n",
            "{\"id\": \"14b5e99616d446c3887c8927403632a0\", \"audio_filepath\": \"/content/train/farfield/14b5e99616d446c3887c8927403632a0.wav\", \"text\": \"\\u0441\\u0431\\u0435\\u0440 \\u0447\\u0435\\u043c \\u043f\\u043b\\u0430\\u0442\\u0438\\u0442\\u044c \\u043d\\u0430 \\u043a\\u0430\\u043d\\u0430\\u0440\\u0430\\u0445\", \"duration\": 4.524}\n",
            "{\"id\": \"d71107319855ef21249be2ab0edea9c2\", \"audio_filepath\": \"/content/train/farfield/d71107319855ef21249be2ab0edea9c2.wav\", \"text\": \"\\u0430\\u0444\\u0438\\u043d\\u0430 \\u043d\\u0430 \\u043f\\u0430\\u0440\\u0443 \\u043c\\u0438\\u043d\\u0443\\u0442 \\u043f\\u0435\\u0440\\u0435\\u043c\\u043e\\u0442\\u0430\\u0439 \\u0432\\u043f\\u0435\\u0440\\u0435\\u0434\", \"duration\": 4.4630625}\n",
            "{\"id\": \"566e4f7d788d755e2fa76ab57837d7dd\", \"audio_filepath\": \"/content/train/farfield/566e4f7d788d755e2fa76ab57837d7dd.wav\", \"text\": \"\\u0430\\u0444\\u0438\\u043d\\u0430 \\u043f\\u043b\\u043e\\u0449\\u0430\\u0434\\u044c \\u043a\\u043e\\u0440\\u043e\\u043b\\u0435\\u0432\\u0441\\u0442\\u0432\\u0430 \\u0442\\u043e\\u043d\\u0433\\u0430\", \"duration\": 4.75025}\n",
            "{\"id\": \"40bf19adace8d787cd3c63784ed0b27b\", \"audio_filepath\": \"/content/train/farfield/40bf19adace8d787cd3c63784ed0b27b.wav\", \"text\": \"\\u0430\\u0444\\u0438\\u043d\\u0430 \\u0447\\u0442\\u043e \\u0442\\u0430\\u043a\\u043e\\u0435 \\u0434\\u0435\\u043b\\u0444\\u0442\", \"duration\": 3.74225}\n"
          ]
        }
      ]
    },
    {
      "cell_type": "markdown",
      "metadata": {
        "id": "IP59mSZGIYeP"
      },
      "source": [
        "Инициализируем данные в предобученной модели, чтобы затестить ее"
      ]
    },
    {
      "cell_type": "code",
      "metadata": {
        "id": "cgisyLKccM5V"
      },
      "source": [
        "params_model = asr_model._cfg\n",
        "\n",
        "params_model['train_ds']['parser']='base'\n",
        "params_model['validation_ds']['parser']='base'\n",
        "params_model['test_ds']['parser']='base'\n",
        "params_model['train_ds']['manifest_filepath'] = train_manifest\n",
        "params_model['train_ds']['batch_size']=16\n",
        "params_model['validation_ds']['manifest_filepath'] = test_manifest\n",
        "params_model['validation_ds']['batch_size']=16\n",
        "params_model['test_ds']['manifest_filepath'] = test_manifest\n",
        "params_model['test_ds']['batch_size']=16\n",
        "\n",
        "asr_model.setup_training_data(train_data_config=params_model['train_ds'])\n",
        "asr_model.setup_validation_data(val_data_config=params_model['validation_ds'])\n",
        "asr_model.setup_test_data(test_data_config=params_model['validation_ds'])"
      ],
      "execution_count": null,
      "outputs": []
    },
    {
      "cell_type": "markdown",
      "metadata": {
        "id": "I1qik5k3gEOv"
      },
      "source": [
        "## Test pretrained model"
      ]
    },
    {
      "cell_type": "markdown",
      "metadata": {
        "id": "FuWe2FwPIkse"
      },
      "source": [
        "Прежде чем начнем файнтьюнить нашу модель, нужно проверить, какой скор она выдает сейчас"
      ]
    },
    {
      "cell_type": "code",
      "metadata": {
        "colab": {
          "base_uri": "https://localhost:8080/"
        },
        "id": "Xs9Z863AYjgw",
        "outputId": "68621198-e796-4d3e-a875-7732b848466b"
      },
      "source": [
        "asr_model.cuda()\n",
        "\n",
        "wer_nums = []\n",
        "wer_denoms = []\n",
        "\n",
        "for test_batch in asr_model.test_dataloader():\n",
        "        test_batch = [x.cuda() for x in test_batch]\n",
        "        targets = test_batch[2]\n",
        "        targets_lengths = test_batch[3]        \n",
        "        log_probs, encoded_len, greedy_predictions = asr_model(\n",
        "            input_signal=test_batch[0], input_signal_length=test_batch[1]\n",
        "        )\n",
        "        asr_model._wer.update(greedy_predictions, targets, targets_lengths)\n",
        "        _, wer_num, wer_denom = asr_model._wer.compute()\n",
        "        asr_model._wer.reset()\n",
        "        wer_nums.append(wer_num.detach().cpu().numpy())\n",
        "        wer_denoms.append(wer_denom.detach().cpu().numpy())\n",
        "\n",
        "        del test_batch, log_probs, targets, targets_lengths, encoded_len, greedy_predictions\n",
        "\n",
        "print(f\"WER = {sum(wer_nums)/sum(wer_denoms)}\")"
      ],
      "execution_count": null,
      "outputs": [
        {
          "output_type": "stream",
          "name": "stderr",
          "text": [
            "[NeMo W 2021-11-27 08:20:34 nemo_logging:349] /usr/local/lib/python3.7/dist-packages/torch/utils/data/dataloader.py:481: UserWarning: This DataLoader will create 20 worker processes in total. Our suggested max number of worker in current system is 2, which is smaller than what this DataLoader is going to create. Please be aware that excessive worker creation might get DataLoader running slow or even freeze, lower the worker number to avoid potential slowness/freeze if necessary.\n",
            "      cpuset_checked))\n",
            "    \n",
            "[NeMo W 2021-11-27 08:20:35 nemo_logging:349] /usr/local/lib/python3.7/dist-packages/nemo/collections/asr/parts/submodules/jasper.py:280: UserWarning: __floordiv__ is deprecated, and its behavior will change in a future version of pytorch. It currently rounds toward 0 (like the 'trunc' function NOT 'floor'). This results in incorrect rounding for negative values. To keep the current behavior, use torch.div(a, b, rounding_mode='trunc'), or for actual floor division, use torch.div(a, b, rounding_mode='floor').\n",
            "      ) // self.conv.stride[0] + 1\n",
            "    \n"
          ]
        },
        {
          "output_type": "stream",
          "name": "stdout",
          "text": [
            "WER = 0.6570031018849917\n"
          ]
        }
      ]
    },
    {
      "cell_type": "markdown",
      "metadata": {
        "id": "QXuRCXoaIr81"
      },
      "source": [
        "Получили WER = 0.66"
      ]
    },
    {
      "cell_type": "markdown",
      "metadata": {
        "id": "ym9Omm-3gI_5"
      },
      "source": [
        "## EDA"
      ]
    },
    {
      "cell_type": "markdown",
      "metadata": {
        "id": "R3-JKv2eIyz-"
      },
      "source": [
        "Теперь можно поработать с данными, которые будем использовать для файн-тьюнинга. Сначала запишем данные из манифестов в датафреймы"
      ]
    },
    {
      "cell_type": "code",
      "metadata": {
        "id": "-P8KGIuvbIQb"
      },
      "source": [
        "def get_df(path):\n",
        "    data = []\n",
        "    with jsonlines.open(path) as reader:\n",
        "        for obj in reader:\n",
        "            data.append(obj)\n",
        "    return pd.DataFrame(data)\n",
        "\n",
        "train = get_df(train_manifest)\n",
        "test = get_df(test_manifest)"
      ],
      "execution_count": null,
      "outputs": []
    },
    {
      "cell_type": "code",
      "metadata": {
        "id": "rzBwiI9Cl23D"
      },
      "source": [
        "train.shape, test.shape"
      ],
      "execution_count": null,
      "outputs": []
    },
    {
      "cell_type": "markdown",
      "metadata": {
        "id": "EkvNb0HfJCNG"
      },
      "source": [
        "### 1. Пустые файлы"
      ]
    },
    {
      "cell_type": "markdown",
      "metadata": {
        "id": "H2c0eH1ZlS09"
      },
      "source": [
        "Проверим датасет на пустые строки"
      ]
    },
    {
      "cell_type": "code",
      "metadata": {
        "colab": {
          "base_uri": "https://localhost:8080/",
          "height": 49
        },
        "id": "iAWGNy3dlWmZ",
        "outputId": "fc47cbbc-66bc-4993-9c95-b486ac2c41e4"
      },
      "source": [
        "train[train['text'] == '']"
      ],
      "execution_count": null,
      "outputs": [
        {
          "output_type": "execute_result",
          "data": {
            "text/html": [
              "<div>\n",
              "<style scoped>\n",
              "    .dataframe tbody tr th:only-of-type {\n",
              "        vertical-align: middle;\n",
              "    }\n",
              "\n",
              "    .dataframe tbody tr th {\n",
              "        vertical-align: top;\n",
              "    }\n",
              "\n",
              "    .dataframe thead th {\n",
              "        text-align: right;\n",
              "    }\n",
              "</style>\n",
              "<table border=\"1\" class=\"dataframe\">\n",
              "  <thead>\n",
              "    <tr style=\"text-align: right;\">\n",
              "      <th></th>\n",
              "      <th>id</th>\n",
              "      <th>audio_filepath</th>\n",
              "      <th>text</th>\n",
              "      <th>duration</th>\n",
              "    </tr>\n",
              "  </thead>\n",
              "  <tbody>\n",
              "  </tbody>\n",
              "</table>\n",
              "</div>"
            ],
            "text/plain": [
              "Empty DataFrame\n",
              "Columns: [id, audio_filepath, text, duration]\n",
              "Index: []"
            ]
          },
          "metadata": {},
          "execution_count": 86
        }
      ]
    },
    {
      "cell_type": "code",
      "metadata": {
        "colab": {
          "base_uri": "https://localhost:8080/",
          "height": 423
        },
        "id": "5XHQpBzilIzU",
        "outputId": "16ebdce7-5ef7-491e-ebcc-d7e453358725"
      },
      "source": [
        "train[train['text'] == ' ']"
      ],
      "execution_count": null,
      "outputs": [
        {
          "output_type": "execute_result",
          "data": {
            "text/html": [
              "<div>\n",
              "<style scoped>\n",
              "    .dataframe tbody tr th:only-of-type {\n",
              "        vertical-align: middle;\n",
              "    }\n",
              "\n",
              "    .dataframe tbody tr th {\n",
              "        vertical-align: top;\n",
              "    }\n",
              "\n",
              "    .dataframe thead th {\n",
              "        text-align: right;\n",
              "    }\n",
              "</style>\n",
              "<table border=\"1\" class=\"dataframe\">\n",
              "  <thead>\n",
              "    <tr style=\"text-align: right;\">\n",
              "      <th></th>\n",
              "      <th>id</th>\n",
              "      <th>audio_filepath</th>\n",
              "      <th>text</th>\n",
              "      <th>duration</th>\n",
              "    </tr>\n",
              "  </thead>\n",
              "  <tbody>\n",
              "    <tr>\n",
              "      <th>43160</th>\n",
              "      <td>312a67dd1efccaff55be20c5056cf605</td>\n",
              "      <td>/content/train/farfield/312a67dd1efccaff55be20...</td>\n",
              "      <td></td>\n",
              "      <td>2.850188</td>\n",
              "    </tr>\n",
              "    <tr>\n",
              "      <th>43161</th>\n",
              "      <td>f1028d31a825bbcddca4825c7e5822b7</td>\n",
              "      <td>/content/train/farfield/f1028d31a825bbcddca482...</td>\n",
              "      <td></td>\n",
              "      <td>7.646312</td>\n",
              "    </tr>\n",
              "    <tr>\n",
              "      <th>43162</th>\n",
              "      <td>2ce28f5738e127f0d6c99a24723167a9</td>\n",
              "      <td>/content/train/farfield/2ce28f5738e127f0d6c99a...</td>\n",
              "      <td></td>\n",
              "      <td>7.410375</td>\n",
              "    </tr>\n",
              "    <tr>\n",
              "      <th>43163</th>\n",
              "      <td>3f986a309e5e17d298f2a88888688d46</td>\n",
              "      <td>/content/train/farfield/3f986a309e5e17d298f2a8...</td>\n",
              "      <td></td>\n",
              "      <td>0.089063</td>\n",
              "    </tr>\n",
              "    <tr>\n",
              "      <th>43164</th>\n",
              "      <td>b6ed54a0ae6e9cd3f46d38335b0c68b0</td>\n",
              "      <td>/content/train/farfield/b6ed54a0ae6e9cd3f46d38...</td>\n",
              "      <td></td>\n",
              "      <td>3.042312</td>\n",
              "    </tr>\n",
              "    <tr>\n",
              "      <th>...</th>\n",
              "      <td>...</td>\n",
              "      <td>...</td>\n",
              "      <td>...</td>\n",
              "      <td>...</td>\n",
              "    </tr>\n",
              "    <tr>\n",
              "      <th>123871</th>\n",
              "      <td>3a537fc4e0d262eca4192d488616e5e9</td>\n",
              "      <td>/content/train/farfield/3a537fc4e0d262eca4192d...</td>\n",
              "      <td></td>\n",
              "      <td>2.127375</td>\n",
              "    </tr>\n",
              "    <tr>\n",
              "      <th>123881</th>\n",
              "      <td>2ab9de6323ff434caa277500b8062e56</td>\n",
              "      <td>/content/train/farfield/2ab9de6323ff434caa2775...</td>\n",
              "      <td></td>\n",
              "      <td>9.947250</td>\n",
              "    </tr>\n",
              "    <tr>\n",
              "      <th>123882</th>\n",
              "      <td>b2298853166dae47a26214559f81a213</td>\n",
              "      <td>/content/train/farfield/b2298853166dae47a26214...</td>\n",
              "      <td></td>\n",
              "      <td>4.119250</td>\n",
              "    </tr>\n",
              "    <tr>\n",
              "      <th>123967</th>\n",
              "      <td>4174546e8fd483f17cdebc718f495d79</td>\n",
              "      <td>/content/train/farfield/4174546e8fd483f17cdebc...</td>\n",
              "      <td></td>\n",
              "      <td>2.009500</td>\n",
              "    </tr>\n",
              "    <tr>\n",
              "      <th>123968</th>\n",
              "      <td>a9dd8d974e4716a23e6384eade75f9a0</td>\n",
              "      <td>/content/train/farfield/a9dd8d974e4716a23e6384...</td>\n",
              "      <td></td>\n",
              "      <td>2.707937</td>\n",
              "    </tr>\n",
              "  </tbody>\n",
              "</table>\n",
              "<p>7651 rows × 4 columns</p>\n",
              "</div>"
            ],
            "text/plain": [
              "                                      id  ...  duration\n",
              "43160   312a67dd1efccaff55be20c5056cf605  ...  2.850188\n",
              "43161   f1028d31a825bbcddca4825c7e5822b7  ...  7.646312\n",
              "43162   2ce28f5738e127f0d6c99a24723167a9  ...  7.410375\n",
              "43163   3f986a309e5e17d298f2a88888688d46  ...  0.089063\n",
              "43164   b6ed54a0ae6e9cd3f46d38335b0c68b0  ...  3.042312\n",
              "...                                  ...  ...       ...\n",
              "123871  3a537fc4e0d262eca4192d488616e5e9  ...  2.127375\n",
              "123881  2ab9de6323ff434caa277500b8062e56  ...  9.947250\n",
              "123882  b2298853166dae47a26214559f81a213  ...  4.119250\n",
              "123967  4174546e8fd483f17cdebc718f495d79  ...  2.009500\n",
              "123968  a9dd8d974e4716a23e6384eade75f9a0  ...  2.707937\n",
              "\n",
              "[7651 rows x 4 columns]"
            ]
          },
          "metadata": {},
          "execution_count": 84
        }
      ]
    },
    {
      "cell_type": "markdown",
      "metadata": {
        "id": "Befyw57wovk9"
      },
      "source": [
        "Уберем их из датасета, а id запишем, чтобы в дальнейшем убрать из манифеста"
      ]
    },
    {
      "cell_type": "code",
      "metadata": {
        "id": "2Ffv0cSglaf_"
      },
      "source": [
        "id_to_del = train[train['text'] == ' '].id.tolist()"
      ],
      "execution_count": null,
      "outputs": []
    },
    {
      "cell_type": "code",
      "metadata": {
        "id": "6dhfOdTFlw93"
      },
      "source": [
        "train = train[train['text'] != ' ']"
      ],
      "execution_count": null,
      "outputs": []
    },
    {
      "cell_type": "code",
      "metadata": {
        "colab": {
          "base_uri": "https://localhost:8080/"
        },
        "id": "CjQc_w4alzGn",
        "outputId": "c1c1bfb2-f951-4abd-ce39-73b51ed19cea"
      },
      "source": [
        "train.shape"
      ],
      "execution_count": null,
      "outputs": [
        {
          "output_type": "execute_result",
          "data": {
            "text/plain": [
              "(116352, 4)"
            ]
          },
          "metadata": {},
          "execution_count": 94
        }
      ]
    },
    {
      "cell_type": "markdown",
      "metadata": {
        "id": "1sLrpSe4osOh"
      },
      "source": [
        "Теперь проверим на продолжительность"
      ]
    },
    {
      "cell_type": "code",
      "metadata": {
        "colab": {
          "base_uri": "https://localhost:8080/",
          "height": 112
        },
        "id": "C65IpqtogLHb",
        "outputId": "8e1c2737-5d81-4588-8855-a5fb2597f4aa"
      },
      "source": [
        "train[train['duration'] <= 1]"
      ],
      "execution_count": null,
      "outputs": [
        {
          "output_type": "execute_result",
          "data": {
            "text/html": [
              "<div>\n",
              "<style scoped>\n",
              "    .dataframe tbody tr th:only-of-type {\n",
              "        vertical-align: middle;\n",
              "    }\n",
              "\n",
              "    .dataframe tbody tr th {\n",
              "        vertical-align: top;\n",
              "    }\n",
              "\n",
              "    .dataframe thead th {\n",
              "        text-align: right;\n",
              "    }\n",
              "</style>\n",
              "<table border=\"1\" class=\"dataframe\">\n",
              "  <thead>\n",
              "    <tr style=\"text-align: right;\">\n",
              "      <th></th>\n",
              "      <th>id</th>\n",
              "      <th>audio_filepath</th>\n",
              "      <th>text</th>\n",
              "      <th>duration</th>\n",
              "    </tr>\n",
              "  </thead>\n",
              "  <tbody>\n",
              "    <tr>\n",
              "      <th>104795</th>\n",
              "      <td>d5a2cb0ea44e71d588d19d8642f0f3c4</td>\n",
              "      <td>/content/train/farfield/d5a2cb0ea44e71d588d19d...</td>\n",
              "      <td>салют давай продолжим просмотр видео</td>\n",
              "      <td>0.792125</td>\n",
              "    </tr>\n",
              "    <tr>\n",
              "      <th>110012</th>\n",
              "      <td>76f50f42458c0913f93292930873b669</td>\n",
              "      <td>/content/train/farfield/76f50f42458c0913f93292...</td>\n",
              "      <td>алиса поставь таймер на час</td>\n",
              "      <td>0.305125</td>\n",
              "    </tr>\n",
              "  </tbody>\n",
              "</table>\n",
              "</div>"
            ],
            "text/plain": [
              "                                      id  ...  duration\n",
              "104795  d5a2cb0ea44e71d588d19d8642f0f3c4  ...  0.792125\n",
              "110012  76f50f42458c0913f93292930873b669  ...  0.305125\n",
              "\n",
              "[2 rows x 4 columns]"
            ]
          },
          "metadata": {},
          "execution_count": 103
        }
      ]
    },
    {
      "cell_type": "code",
      "metadata": {
        "colab": {
          "base_uri": "https://localhost:8080/",
          "height": 75
        },
        "id": "RSLTRLp7mP_j",
        "outputId": "66d8b502-7fb2-4a55-df0f-62478021b3fa"
      },
      "source": [
        "example_file = data_dir + '/train/farfield/b9cbb9c2a8b9a4153772f916e1cfac9f.wav'\n",
        "\n",
        "audio, sample_rate = librosa.load(example_file)\n",
        "\n",
        "ipd.Audio(example_file, rate=sample_rate)"
      ],
      "execution_count": null,
      "outputs": [
        {
          "output_type": "execute_result",
          "data": {
            "text/html": [
              "\n",
              "                <audio controls=\"controls\" >\n",
              "                    <source src=\"data:audio/x-wav;base64,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\" type=\"audio/x-wav\" />\n",
              "                    Your browser does not support the audio element.\n",
              "                </audio>\n",
              "              "
            ],
            "text/plain": [
              "<IPython.lib.display.Audio object>"
            ]
          },
          "metadata": {},
          "execution_count": 102
        }
      ]
    },
    {
      "cell_type": "markdown",
      "metadata": {
        "id": "OMb2TEg8o6Dz"
      },
      "source": [
        "Тоже какой-то шум, уберем и это"
      ]
    },
    {
      "cell_type": "code",
      "metadata": {
        "id": "H3dVWlqZmtmG"
      },
      "source": [
        "id_to_del.extend(train[train['duration'] <= 1].id.tolist())"
      ],
      "execution_count": null,
      "outputs": []
    },
    {
      "cell_type": "code",
      "metadata": {
        "id": "5aINzLN5meZe"
      },
      "source": [
        "train = train[train['duration'] > 1]"
      ],
      "execution_count": null,
      "outputs": []
    },
    {
      "cell_type": "code",
      "metadata": {
        "colab": {
          "base_uri": "https://localhost:8080/"
        },
        "id": "4nCgTvxgm3S2",
        "outputId": "52eb1cf6-3cd9-4c03-9693-3ab73d518379"
      },
      "source": [
        "train.shape"
      ],
      "execution_count": null,
      "outputs": [
        {
          "output_type": "execute_result",
          "data": {
            "text/plain": [
              "(116350, 4)"
            ]
          },
          "metadata": {},
          "execution_count": 105
        }
      ]
    },
    {
      "cell_type": "markdown",
      "metadata": {
        "id": "MYIHj0UsJLLq"
      },
      "source": [
        "### 2. Расстояние Левенштейна"
      ]
    },
    {
      "cell_type": "markdown",
      "metadata": {
        "id": "_-WykM8VpAl2"
      },
      "source": [
        "Дальше отфильтруем наши данные с помощью расстояния Левенштейна. Сначала оттранскрибируем датасет"
      ]
    },
    {
      "cell_type": "code",
      "metadata": {
        "id": "w0kaPI2l05Tv"
      },
      "source": [
        "def transcr(path, df):\n",
        "    prefix = data_dir + path\n",
        "    files = [prefix + file + '.wav' for file in df.id.tolist()]\n",
        "    return asr_model.transcribe(paths2audio_files=files)\n",
        "\n",
        "transcriptions_train = transcr(\"/train/farfield/\", train)\n",
        "# transcriptions_test = transcr(\"/test/farfield/files/\", test)\n",
        "train['hypothesis'] = transcriptions_train\n",
        "# test['hypothesis'] = transcriptions_test"
      ],
      "execution_count": null,
      "outputs": []
    },
    {
      "cell_type": "code",
      "metadata": {
        "colab": {
          "base_uri": "https://localhost:8080/",
          "height": 580
        },
        "id": "G1bTx2q4zYYA",
        "outputId": "3d371d42-a645-4148-a301-1969a594b8bb"
      },
      "source": [
        "train"
      ],
      "execution_count": null,
      "outputs": [
        {
          "output_type": "execute_result",
          "data": {
            "text/html": [
              "<div>\n",
              "<style scoped>\n",
              "    .dataframe tbody tr th:only-of-type {\n",
              "        vertical-align: middle;\n",
              "    }\n",
              "\n",
              "    .dataframe tbody tr th {\n",
              "        vertical-align: top;\n",
              "    }\n",
              "\n",
              "    .dataframe thead th {\n",
              "        text-align: right;\n",
              "    }\n",
              "</style>\n",
              "<table border=\"1\" class=\"dataframe\">\n",
              "  <thead>\n",
              "    <tr style=\"text-align: right;\">\n",
              "      <th></th>\n",
              "      <th>id</th>\n",
              "      <th>audio_filepath</th>\n",
              "      <th>text</th>\n",
              "      <th>duration</th>\n",
              "      <th>hypothesis</th>\n",
              "    </tr>\n",
              "  </thead>\n",
              "  <tbody>\n",
              "    <tr>\n",
              "      <th>0</th>\n",
              "      <td>855e01d6ba9a4aa59950d62037b87709</td>\n",
              "      <td>/content/train/farfield/855e01d6ba9a4aa59950d6...</td>\n",
              "      <td>афина хотела номер телефона поменять карты</td>\n",
              "      <td>5.459688</td>\n",
              "      <td>афина хотела номер телефона поменять карты</td>\n",
              "    </tr>\n",
              "    <tr>\n",
              "      <th>1</th>\n",
              "      <td>f6075fae0c592183f107cf781117d9b5</td>\n",
              "      <td>/content/train/farfield/f6075fae0c592183f107cf...</td>\n",
              "      <td>салют хочу поговорить с джой</td>\n",
              "      <td>4.151250</td>\n",
              "      <td>салют хочу поговорить с джой</td>\n",
              "    </tr>\n",
              "    <tr>\n",
              "      <th>2</th>\n",
              "      <td>2599a6cb55795b38ddd80b849d8670bc</td>\n",
              "      <td>/content/train/farfield/2599a6cb55795b38ddd80b...</td>\n",
              "      <td>джой какая валюта в камбодже</td>\n",
              "      <td>3.918563</td>\n",
              "      <td>джой какая валюта вкомпоци</td>\n",
              "    </tr>\n",
              "    <tr>\n",
              "      <th>3</th>\n",
              "      <td>5f7483035b2f26b773b0d3fb125b779d</td>\n",
              "      <td>/content/train/farfield/5f7483035b2f26b773b0d3...</td>\n",
              "      <td>салют я могу что нибудь сделать</td>\n",
              "      <td>5.063625</td>\n",
              "      <td>оталют я могу что нибудь сделать</td>\n",
              "    </tr>\n",
              "    <tr>\n",
              "      <th>4</th>\n",
              "      <td>4c95a12b71e1262ac937d2fe6a803906</td>\n",
              "      <td>/content/train/farfield/4c95a12b71e1262ac937d2...</td>\n",
              "      <td>джой смотреть операцию ы и другие приключения ...</td>\n",
              "      <td>7.382688</td>\n",
              "      <td>жо и смотрет операцию и и другие приключения ш...</td>\n",
              "    </tr>\n",
              "    <tr>\n",
              "      <th>...</th>\n",
              "      <td>...</td>\n",
              "      <td>...</td>\n",
              "      <td>...</td>\n",
              "      <td>...</td>\n",
              "      <td>...</td>\n",
              "    </tr>\n",
              "    <tr>\n",
              "      <th>123998</th>\n",
              "      <td>caf1047099be937d61653f52623c910c</td>\n",
              "      <td>/content/train/farfield/caf1047099be937d61653f...</td>\n",
              "      <td>афина какие военные положения в россии ты знаешь</td>\n",
              "      <td>4.114312</td>\n",
              "      <td>афина какие военные положения в россии ты знаешь</td>\n",
              "    </tr>\n",
              "    <tr>\n",
              "      <th>123999</th>\n",
              "      <td>dc41f658cc2f3e9efe6d090366cb9682</td>\n",
              "      <td>/content/train/farfield/dc41f658cc2f3e9efe6d09...</td>\n",
              "      <td>джой могут ли соседи вызвать полицию</td>\n",
              "      <td>3.105938</td>\n",
              "      <td>джой могут ли соседи вееать в полицию</td>\n",
              "    </tr>\n",
              "    <tr>\n",
              "      <th>124000</th>\n",
              "      <td>47d0acc63fc917d5aac83a3874a70937</td>\n",
              "      <td>/content/train/farfield/47d0acc63fc917d5aac83a...</td>\n",
              "      <td>сбер с каким животным себя</td>\n",
              "      <td>2.986625</td>\n",
              "      <td>опять надо лдеть</td>\n",
              "    </tr>\n",
              "    <tr>\n",
              "      <th>124001</th>\n",
              "      <td>b4447dd9fbd5dc3307630fed765f3847</td>\n",
              "      <td>/content/train/farfield/b4447dd9fbd5dc3307630f...</td>\n",
              "      <td>афина какие реквизиты необходимы для проведени...</td>\n",
              "      <td>4.440875</td>\n",
              "      <td>афина какие реквизиты необходемы для проведени...</td>\n",
              "    </tr>\n",
              "    <tr>\n",
              "      <th>124002</th>\n",
              "      <td>f4b47ab1c562aaef719750855a986290</td>\n",
              "      <td>/content/train/farfield/f4b47ab1c562aaef719750...</td>\n",
              "      <td>афина чем является обшивка фермерских фюзеляжей</td>\n",
              "      <td>4.711000</td>\n",
              "      <td>афина чем является обшивка фермеских физлежей</td>\n",
              "    </tr>\n",
              "  </tbody>\n",
              "</table>\n",
              "<p>116350 rows × 5 columns</p>\n",
              "</div>"
            ],
            "text/plain": [
              "                                      id  ...                                         hypothesis\n",
              "0       855e01d6ba9a4aa59950d62037b87709  ...         афина хотела номер телефона поменять карты\n",
              "1       f6075fae0c592183f107cf781117d9b5  ...                       салют хочу поговорить с джой\n",
              "2       2599a6cb55795b38ddd80b849d8670bc  ...                         джой какая валюта вкомпоци\n",
              "3       5f7483035b2f26b773b0d3fb125b779d  ...                   оталют я могу что нибудь сделать\n",
              "4       4c95a12b71e1262ac937d2fe6a803906  ...  жо и смотрет операцию и и другие приключения ш...\n",
              "...                                  ...  ...                                                ...\n",
              "123998  caf1047099be937d61653f52623c910c  ...   афина какие военные положения в россии ты знаешь\n",
              "123999  dc41f658cc2f3e9efe6d090366cb9682  ...              джой могут ли соседи вееать в полицию\n",
              "124000  47d0acc63fc917d5aac83a3874a70937  ...                                   опять надо лдеть\n",
              "124001  b4447dd9fbd5dc3307630fed765f3847  ...  афина какие реквизиты необходемы для проведени...\n",
              "124002  f4b47ab1c562aaef719750855a986290  ...      афина чем является обшивка фермеских физлежей\n",
              "\n",
              "[116350 rows x 5 columns]"
            ]
          },
          "metadata": {},
          "execution_count": 107
        }
      ]
    },
    {
      "cell_type": "markdown",
      "metadata": {
        "id": "DvSe39_lJXZ5"
      },
      "source": [
        "Теперь посчитаем расстояние"
      ]
    },
    {
      "cell_type": "code",
      "metadata": {
        "id": "26lhZwpQg8z8"
      },
      "source": [
        "train['mistakes'] = train.apply(lambda x: 1 if x['text'] != x['hypothesis'] else 0, axis=1)\n",
        "train['distance'] = train.apply(lambda x: levenshtein_distance(x['text'], x['hypothesis']), axis = 1)"
      ],
      "execution_count": null,
      "outputs": []
    },
    {
      "cell_type": "code",
      "metadata": {
        "id": "2TSObAVKzu00"
      },
      "source": [
        "print(f'Всего: {train.shape}, ошибочных: {train[train['mistakes'] == 1].shape}')\n",
        "print('\\n')\n",
        "print(f'Процент сэмплов, в которых модель ошиблась {round(train[train[\"mistakes\"] == 1].shape[0]/train.shape[0], 2)} %')"
      ],
      "execution_count": null,
      "outputs": []
    },
    {
      "cell_type": "markdown",
      "metadata": {
        "id": "T6w_5qpJJ8He"
      },
      "source": [
        "Уберем сэмплы, в которых модель и так не ошибается"
      ]
    },
    {
      "cell_type": "code",
      "metadata": {
        "id": "DpCK2cH-1ED5"
      },
      "source": [
        "id_to_del.extend(train[train['mistakes'] == 0].id.tolist())"
      ],
      "execution_count": null,
      "outputs": []
    },
    {
      "cell_type": "markdown",
      "metadata": {
        "id": "24CcASGqKJW2"
      },
      "source": [
        "Отсортируем датафрейм по убыванию расстояния и посмотрим, что там происходит"
      ]
    },
    {
      "cell_type": "code",
      "metadata": {
        "colab": {
          "base_uri": "https://localhost:8080/",
          "height": 736
        },
        "id": "Lvig6yMazkAw",
        "outputId": "1f7bea6d-0044-4fa9-ad5d-5dc80aa59358"
      },
      "source": [
        "train[train['mistakes'] == 1].sort_values('distance', ascending=False)"
      ],
      "execution_count": null,
      "outputs": [
        {
          "output_type": "execute_result",
          "data": {
            "text/html": [
              "<div>\n",
              "<style scoped>\n",
              "    .dataframe tbody tr th:only-of-type {\n",
              "        vertical-align: middle;\n",
              "    }\n",
              "\n",
              "    .dataframe tbody tr th {\n",
              "        vertical-align: top;\n",
              "    }\n",
              "\n",
              "    .dataframe thead th {\n",
              "        text-align: right;\n",
              "    }\n",
              "</style>\n",
              "<table border=\"1\" class=\"dataframe\">\n",
              "  <thead>\n",
              "    <tr style=\"text-align: right;\">\n",
              "      <th></th>\n",
              "      <th>id</th>\n",
              "      <th>audio_filepath</th>\n",
              "      <th>text</th>\n",
              "      <th>duration</th>\n",
              "      <th>hypothesis</th>\n",
              "      <th>mistakes</th>\n",
              "      <th>distance</th>\n",
              "    </tr>\n",
              "  </thead>\n",
              "  <tbody>\n",
              "    <tr>\n",
              "      <th>1997</th>\n",
              "      <td>dbb941f119e1a6ed6f130d103d29b550</td>\n",
              "      <td>/content/train/farfield/dbb941f119e1a6ed6f130d...</td>\n",
              "      <td>афина сколько будет пятьсот семьдесят четыре п...</td>\n",
              "      <td>7.225000</td>\n",
              "      <td>афнаре</td>\n",
              "      <td>1</td>\n",
              "      <td>103</td>\n",
              "    </tr>\n",
              "    <tr>\n",
              "      <th>57423</th>\n",
              "      <td>895ed6b8e3577918c47b4baf3b3a1864</td>\n",
              "      <td>/content/train/farfield/895ed6b8e3577918c47b4b...</td>\n",
              "      <td>джой с чего вдруг на моей карте отрицательный ...</td>\n",
              "      <td>10.893562</td>\n",
              "      <td>олю  аани чль батьсетат тлатню еого</td>\n",
              "      <td>1</td>\n",
              "      <td>97</td>\n",
              "    </tr>\n",
              "    <tr>\n",
              "      <th>22614</th>\n",
              "      <td>6df0aa327f356e17ab3e8e05d9f51eb0</td>\n",
              "      <td>/content/train/farfield/6df0aa327f356e17ab3e8e...</td>\n",
              "      <td>афина есть ли способ создать свободное поле дл...</td>\n",
              "      <td>10.651563</td>\n",
              "      <td>афина есть ли спусобл афина ва люта бограбеш</td>\n",
              "      <td>1</td>\n",
              "      <td>97</td>\n",
              "    </tr>\n",
              "    <tr>\n",
              "      <th>57408</th>\n",
              "      <td>8d3f547402f8d594ad563700403af3a3</td>\n",
              "      <td>/content/train/farfield/8d3f547402f8d594ad5637...</td>\n",
              "      <td>сбер у меня такое настроение прямо сейчас хочу...</td>\n",
              "      <td>10.589375</td>\n",
              "      <td>той а летная партовка у меня такоеродение он ...</td>\n",
              "      <td>1</td>\n",
              "      <td>92</td>\n",
              "    </tr>\n",
              "    <tr>\n",
              "      <th>222</th>\n",
              "      <td>a4736bc8a5d9252ff33b6c6ffd8bbecd</td>\n",
              "      <td>/content/train/farfield/a4736bc8a5d9252ff33b6c...</td>\n",
              "      <td>салют почему у всех видео анатолия шария так м...</td>\n",
              "      <td>9.099438</td>\n",
              "      <td>а почему у всех виделол шртнков и</td>\n",
              "      <td>1</td>\n",
              "      <td>91</td>\n",
              "    </tr>\n",
              "    <tr>\n",
              "      <th>...</th>\n",
              "      <td>...</td>\n",
              "      <td>...</td>\n",
              "      <td>...</td>\n",
              "      <td>...</td>\n",
              "      <td>...</td>\n",
              "      <td>...</td>\n",
              "      <td>...</td>\n",
              "    </tr>\n",
              "    <tr>\n",
              "      <th>71559</th>\n",
              "      <td>2d4f90ed7f0cc31f72806965af3272c5</td>\n",
              "      <td>/content/train/farfield/2d4f90ed7f0cc31f728069...</td>\n",
              "      <td>джой включи изи гайс</td>\n",
              "      <td>2.501313</td>\n",
              "      <td>джой включи изи кайс</td>\n",
              "      <td>1</td>\n",
              "      <td>1</td>\n",
              "    </tr>\n",
              "    <tr>\n",
              "      <th>71557</th>\n",
              "      <td>1d0a3e249bfa5a931223a5a8edacacd1</td>\n",
              "      <td>/content/train/farfield/1d0a3e249bfa5a931223a5...</td>\n",
              "      <td>сколько денег у меня на карте два</td>\n",
              "      <td>2.864562</td>\n",
              "      <td>сколько денег у меня на карте дра</td>\n",
              "      <td>1</td>\n",
              "      <td>1</td>\n",
              "    </tr>\n",
              "    <tr>\n",
              "      <th>71556</th>\n",
              "      <td>3dc5b652ba910b518cefc0182e99b447</td>\n",
              "      <td>/content/train/farfield/3dc5b652ba910b518cefc0...</td>\n",
              "      <td>включи мелодию будильника на этом телефоне</td>\n",
              "      <td>2.847437</td>\n",
              "      <td>включи мелодию будильник на этом телефоне</td>\n",
              "      <td>1</td>\n",
              "      <td>1</td>\n",
              "    </tr>\n",
              "    <tr>\n",
              "      <th>71552</th>\n",
              "      <td>76539746bf339d734661dd92e5f07237</td>\n",
              "      <td>/content/train/farfield/76539746bf339d734661dd...</td>\n",
              "      <td>афина все хватит</td>\n",
              "      <td>2.147250</td>\n",
              "      <td>афиа все хватит</td>\n",
              "      <td>1</td>\n",
              "      <td>1</td>\n",
              "    </tr>\n",
              "    <tr>\n",
              "      <th>54562</th>\n",
              "      <td>1d03b433505e7c3cf0c6aeebfb5a8d6e</td>\n",
              "      <td>/content/train/farfield/1d03b433505e7c3cf0c6ae...</td>\n",
              "      <td>сбер снять деньги с банкомата</td>\n",
              "      <td>2.816375</td>\n",
              "      <td>сбер снять деньги с банкомат</td>\n",
              "      <td>1</td>\n",
              "      <td>1</td>\n",
              "    </tr>\n",
              "  </tbody>\n",
              "</table>\n",
              "<p>66890 rows × 7 columns</p>\n",
              "</div>"
            ],
            "text/plain": [
              "                                     id  ... distance\n",
              "1997   dbb941f119e1a6ed6f130d103d29b550  ...      103\n",
              "57423  895ed6b8e3577918c47b4baf3b3a1864  ...       97\n",
              "22614  6df0aa327f356e17ab3e8e05d9f51eb0  ...       97\n",
              "57408  8d3f547402f8d594ad563700403af3a3  ...       92\n",
              "222    a4736bc8a5d9252ff33b6c6ffd8bbecd  ...       91\n",
              "...                                 ...  ...      ...\n",
              "71559  2d4f90ed7f0cc31f72806965af3272c5  ...        1\n",
              "71557  1d0a3e249bfa5a931223a5a8edacacd1  ...        1\n",
              "71556  3dc5b652ba910b518cefc0182e99b447  ...        1\n",
              "71552  76539746bf339d734661dd92e5f07237  ...        1\n",
              "54562  1d03b433505e7c3cf0c6aeebfb5a8d6e  ...        1\n",
              "\n",
              "[66890 rows x 7 columns]"
            ]
          },
          "metadata": {},
          "execution_count": 115
        }
      ]
    },
    {
      "cell_type": "markdown",
      "metadata": {
        "id": "5kJla-NUKTQz"
      },
      "source": [
        "Построим гистограмму распределения расстояния на ошибочных"
      ]
    },
    {
      "cell_type": "code",
      "metadata": {
        "colab": {
          "base_uri": "https://localhost:8080/",
          "height": 316
        },
        "id": "d5cDLkxa1s_6",
        "outputId": "9dee1f37-8a45-4e07-f024-79a72a5bc429"
      },
      "source": [
        "train[train['mistakes'] == 1].sort_values('distance', ascending=False).hist('distance',bins=30)"
      ],
      "execution_count": null,
      "outputs": [
        {
          "output_type": "execute_result",
          "data": {
            "text/plain": [
              "array([[<matplotlib.axes._subplots.AxesSubplot object at 0x7f38a10bf750>]],\n",
              "      dtype=object)"
            ]
          },
          "metadata": {},
          "execution_count": 122
        },
        {
          "output_type": "display_data",
          "data": {
            "image/png": "[encoded data removed]",
            "text/plain": [
              "<Figure size 432x288 with 1 Axes>"
            ]
          },
          "metadata": {
            "needs_background": "light"
          }
        }
      ]
    },
    {
      "cell_type": "code",
      "metadata": {
        "colab": {
          "base_uri": "https://localhost:8080/",
          "height": 75
        },
        "id": "cwmM_u8v1nLm",
        "outputId": "1f19081a-64fa-447e-98f9-89a3c4240ac4"
      },
      "source": [
        "example_file = data_dir + '/train/farfield/a4736bc8a5d9252ff33b6c6ffd8bbecd.wav'\n",
        "\n",
        "audio, sample_rate = librosa.load(example_file)\n",
        "\n",
        "ipd.Audio(example_file, rate=sample_rate)"
      ],
      "execution_count": null,
      "outputs": [
        {
          "output_type": "execute_result",
          "data": {
            "text/html": [
              "\n",
              "                <audio controls=\"controls\" >\n",
              "                    <source src=\"data:audio/x-wav;base64,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\" type=\"audio/x-wav\" />\n",
              "                    Your browser does not support the audio element.\n",
              "                </audio>\n",
              "              "
            ],
            "text/plain": [
              "<IPython.lib.display.Audio object>"
            ]
          },
          "metadata": {},
          "execution_count": 131
        }
      ]
    },
    {
      "cell_type": "code",
      "metadata": {
        "colab": {
          "base_uri": "https://localhost:8080/",
          "height": 139,
          "referenced_widgets": [
            "babc3aa114be4dada2124ff36067a31f",
            "c13a02315816446f878ba6b3b78776f8",
            "3ad8759db6194ccb979a8d15457b06e6",
            "78df0853b9d14d6b909d42acf92baf73",
            "dd274ff981414caabc7c0266ec483735",
            "2f485ca71a4f43dab9aa7891dc36a94a",
            "e00dd86ac1e6412f8577662705ee4dba",
            "0a3b42a5d45143488aaed31e36c3155b",
            "e2d1763f5c624167b590dfbd92fddc30",
            "0a3f86a03cc74102b23afd3c327d098f",
            "ee9536c8bcfc4bac90bac5db979b4716"
          ]
        },
        "id": "60pexlnV2N4a",
        "outputId": "2d9df035-8717-4566-f70e-0aedd5371d3a"
      },
      "source": [
        "asr_model.transcribe(paths2audio_files=[data_dir + '/train/farfield/a4736bc8a5d9252ff33b6c6ffd8bbecd.wav'])"
      ],
      "execution_count": null,
      "outputs": [
        {
          "output_type": "display_data",
          "data": {
            "application/vnd.jupyter.widget-view+json": {
              "model_id": "babc3aa114be4dada2124ff36067a31f",
              "version_minor": 0,
              "version_major": 2
            },
            "text/plain": [
              "Transcribing:   0%|          | 0/1 [00:00<?, ?it/s]"
            ]
          },
          "metadata": {}
        },
        {
          "output_type": "stream",
          "name": "stderr",
          "text": [
            "[NeMo W 2021-11-27 10:04:06 nemo_logging:349] /usr/local/lib/python3.7/dist-packages/nemo/collections/asr/parts/submodules/jasper.py:280: UserWarning: __floordiv__ is deprecated, and its behavior will change in a future version of pytorch. It currently rounds toward 0 (like the 'trunc' function NOT 'floor'). This results in incorrect rounding for negative values. To keep the current behavior, use torch.div(a, b, rounding_mode='trunc'), or for actual floor division, use torch.div(a, b, rounding_mode='floor').\n",
            "      ) // self.conv.stride[0] + 1\n",
            "    \n"
          ]
        },
        {
          "output_type": "execute_result",
          "data": {
            "text/plain": [
              "['а почему у всех виделол шртнков и']"
            ]
          },
          "metadata": {},
          "execution_count": 132
        }
      ]
    },
    {
      "cell_type": "markdown",
      "metadata": {
        "id": "nXVc6TaJ2wjp"
      },
      "source": [
        "Получается, что файлы сами по себе неплохие, просто наша модель не смогла их прочитать. Тогда почему же она так сильно в них ошибается? Если посмотреть на вывод отсортированного датафрейма, то можно заметить, что наверху находятся довольно продолжительные файлы, а внизу относительно короткие. Это значит, что наша модель скорее всего не умеет читать длинные файлы. Для проверки этой гипотезы посмотрим на корреляцию между ошибками и продолжительностью звуковых дорожек"
      ]
    },
    {
      "cell_type": "markdown",
      "metadata": {
        "id": "lwYwJeWGK-q5"
      },
      "source": [
        "### 3. Продолжительность"
      ]
    },
    {
      "cell_type": "markdown",
      "metadata": {
        "id": "rOjpUtMz_K_M"
      },
      "source": [
        "Посмотрим, на распределение продолжительности записей отдельно для теста и для трейна. Это нам может показать, что модели и не нужно транскрибировать длинные дорожки, если их нет в тесте"
      ]
    },
    {
      "cell_type": "code",
      "metadata": {
        "colab": {
          "base_uri": "https://localhost:8080/",
          "height": 316
        },
        "id": "-Go1sJkM-0s_",
        "outputId": "f4b72936-ee5a-49d0-f514-47a1dfc2113c"
      },
      "source": [
        "test.hist('duration',bins=30)"
      ],
      "execution_count": null,
      "outputs": [
        {
          "output_type": "execute_result",
          "data": {
            "text/plain": [
              "array([[<matplotlib.axes._subplots.AxesSubplot object at 0x7f38a9439d10>]],\n",
              "      dtype=object)"
            ]
          },
          "metadata": {},
          "execution_count": 168
        },
        {
          "output_type": "display_data",
          "data": {
            "image/png": "[encoded data removed]",
            "text/plain": [
              "<Figure size 432x288 with 1 Axes>"
            ]
          },
          "metadata": {
            "needs_background": "light"
          }
        }
      ]
    },
    {
      "cell_type": "code",
      "metadata": {
        "colab": {
          "base_uri": "https://localhost:8080/",
          "height": 316
        },
        "id": "E1iob48i-6tz",
        "outputId": "a032f061-23b2-4272-d5c0-8f0ca9864387"
      },
      "source": [
        "train.hist('duration',bins=30)"
      ],
      "execution_count": null,
      "outputs": [
        {
          "output_type": "execute_result",
          "data": {
            "text/plain": [
              "array([[<matplotlib.axes._subplots.AxesSubplot object at 0x7f38860f5e90>]],\n",
              "      dtype=object)"
            ]
          },
          "metadata": {},
          "execution_count": 160
        },
        {
          "output_type": "display_data",
          "data": {
            "image/png": "[encoded data removed]",
            "text/plain": [
              "<Figure size 432x288 with 1 Axes>"
            ]
          },
          "metadata": {
            "needs_background": "light"
          }
        }
      ]
    },
    {
      "cell_type": "markdown",
      "metadata": {
        "id": "zlFwAzs-LSTk"
      },
      "source": [
        "Действительно, в трейне есть файлы гораздо больше тех, что в тесте"
      ]
    },
    {
      "cell_type": "markdown",
      "metadata": {
        "id": "qUqpJ92CLaYQ"
      },
      "source": [
        "А по графику нижу видно, что на продолжительных аудиофайлах модель больше ошибается, чем выдает правильные ответы"
      ]
    },
    {
      "cell_type": "code",
      "metadata": {
        "colab": {
          "base_uri": "https://localhost:8080/",
          "height": 587
        },
        "id": "6oIbC1Rt_aAz",
        "outputId": "a7e304ce-8c1f-4fde-d41d-f06f80f5c3dd"
      },
      "source": [
        "figure = plt.figure(figsize=(15,8))\n",
        "plt.hist([train[train['mistakes']==1]['duration'], \n",
        "          train[train['mistakes']==0]['duration']], \n",
        "         stacked=True, \n",
        "         bins=30, \n",
        "         label=['not correct','correct'])\n",
        "plt.xlabel('duration')\n",
        "plt.ylabel('Number of audio')\n",
        "plt.legend()"
      ],
      "execution_count": null,
      "outputs": [
        {
          "output_type": "stream",
          "name": "stderr",
          "text": [
            "[NeMo W 2021-11-27 10:45:53 nemo_logging:349] /usr/local/lib/python3.7/dist-packages/numpy/core/_asarray.py:83: VisibleDeprecationWarning: Creating an ndarray from ragged nested sequences (which is a list-or-tuple of lists-or-tuples-or ndarrays with different lengths or shapes) is deprecated. If you meant to do this, you must specify 'dtype=object' when creating the ndarray\n",
            "      return array(a, dtype, copy=False, order=order)\n",
            "    \n"
          ]
        },
        {
          "output_type": "execute_result",
          "data": {
            "text/plain": [
              "<matplotlib.legend.Legend at 0x7f38aaa21210>"
            ]
          },
          "metadata": {},
          "execution_count": 164
        },
        {
          "output_type": "display_data",
          "data": {
            "image/png": "[encoded data removed]",
            "text/plain": [
              "<Figure size 1080x576 with 1 Axes>"
            ]
          },
          "metadata": {
            "needs_background": "light"
          }
        }
      ]
    },
    {
      "cell_type": "markdown",
      "metadata": {
        "id": "QoZmoV8kLmjX"
      },
      "source": [
        "Чтобы разглядеть, что происходит на хвосте, увеличим масштаб и посмотрим только на файлы от 5 секунд"
      ]
    },
    {
      "cell_type": "code",
      "metadata": {
        "colab": {
          "base_uri": "https://localhost:8080/",
          "height": 587
        },
        "id": "xZhvwWB8Aj6-",
        "outputId": "7205c3f3-3bb6-43c7-cab2-2a2b5cc75486"
      },
      "source": [
        "figure = plt.figure(figsize=(15,8))\n",
        "sample = train[train['duration'] > 5]\n",
        "plt.hist([sample[sample['mistakes']==1]['duration'], \n",
        "          sample[sample['mistakes']==0]['duration']], \n",
        "         stacked=True, \n",
        "         bins=30, \n",
        "         label=['not correct','correct'])\n",
        "plt.xlabel('duration')\n",
        "plt.ylabel('Number of audio')\n",
        "plt.legend()"
      ],
      "execution_count": null,
      "outputs": [
        {
          "output_type": "stream",
          "name": "stderr",
          "text": [
            "[NeMo W 2021-11-27 10:47:14 nemo_logging:349] /usr/local/lib/python3.7/dist-packages/numpy/core/_asarray.py:83: VisibleDeprecationWarning: Creating an ndarray from ragged nested sequences (which is a list-or-tuple of lists-or-tuples-or ndarrays with different lengths or shapes) is deprecated. If you meant to do this, you must specify 'dtype=object' when creating the ndarray\n",
            "      return array(a, dtype, copy=False, order=order)\n",
            "    \n"
          ]
        },
        {
          "output_type": "execute_result",
          "data": {
            "text/plain": [
              "<matplotlib.legend.Legend at 0x7f38aabb4b50>"
            ]
          },
          "metadata": {},
          "execution_count": 165
        },
        {
          "output_type": "display_data",
          "data": {
            "image/png": "[encoded data removed]",
            "text/plain": [
              "<Figure size 1080x576 with 1 Axes>"
            ]
          },
          "metadata": {
            "needs_background": "light"
          }
        }
      ]
    },
    {
      "cell_type": "markdown",
      "metadata": {
        "id": "n1wTT4PALx27"
      },
      "source": [
        "И еще посмотрим на корреляцию между расстоянием Левенштейна и продолжительностью. Выходит, что чем длиннее аудиодорожка, тем больше расстояние"
      ]
    },
    {
      "cell_type": "code",
      "metadata": {
        "colab": {
          "base_uri": "https://localhost:8080/",
          "height": 297
        },
        "id": "Gt3erkd-Bq9X",
        "outputId": "2ba0719d-1db7-4170-eab3-7711fe5e240f"
      },
      "source": [
        "sample = train[['duration', 'distance']].groupby('distance', as_index=False).mean()\n",
        "sample.plot('distance', 'duration')"
      ],
      "execution_count": null,
      "outputs": [
        {
          "output_type": "execute_result",
          "data": {
            "text/plain": [
              "<matplotlib.axes._subplots.AxesSubplot at 0x7f38ab543dd0>"
            ]
          },
          "metadata": {},
          "execution_count": 177
        },
        {
          "output_type": "display_data",
          "data": {
            "image/png": "[encoded data removed]",
            "text/plain": [
              "<Figure size 432x288 with 1 Axes>"
            ]
          },
          "metadata": {
            "needs_background": "light"
          }
        }
      ]
    },
    {
      "cell_type": "markdown",
      "metadata": {
        "id": "3D8n73w-L-Cn"
      },
      "source": [
        "Наша гипотеза подтвердилась, так что можем убрать слишком длинные файлы из нашего датасета, чтобы не путать модель. Я убрала все файлы дольше 6 секунд, потому что по графику распределения продолжительности на тестовой выборке видно, что очень мало сэмплов длины больше 6"
      ]
    },
    {
      "cell_type": "code",
      "metadata": {
        "id": "WpdubgsoA2kD"
      },
      "source": [
        "id_to_del.extend(train[train['duration'] > 6].id.tolist())"
      ],
      "execution_count": null,
      "outputs": []
    },
    {
      "cell_type": "code",
      "metadata": {
        "id": "7hz8z_CfDv2c"
      },
      "source": [
        "id_to_del = list(set(id_to_del))"
      ],
      "execution_count": null,
      "outputs": []
    },
    {
      "cell_type": "markdown",
      "metadata": {
        "id": "vMw3p0zSMcS_"
      },
      "source": [
        "Проверим, сколько объектов обучающей выборки мы убрали"
      ]
    },
    {
      "cell_type": "code",
      "metadata": {
        "colab": {
          "base_uri": "https://localhost:8080/"
        },
        "id": "FAcb4PALDYu6",
        "outputId": "c0cb8ba2-c23a-4359-c089-a5500e3278aa"
      },
      "source": [
        "len(id_to_del)"
      ],
      "execution_count": null,
      "outputs": [
        {
          "output_type": "execute_result",
          "data": {
            "text/plain": [
              "64888"
            ]
          },
          "metadata": {},
          "execution_count": 186
        }
      ]
    },
    {
      "cell_type": "markdown",
      "metadata": {
        "id": "aGZ6YB4hMgv1"
      },
      "source": [
        "Довольно много, около половины. Запишем айдишники ненужных файлов в док, чтобы не потерять"
      ]
    },
    {
      "cell_type": "code",
      "metadata": {
        "id": "xwNkJjaj9YTt"
      },
      "source": [
        "with open('/content/drive/MyDrive/idx.txt', 'w', encoding='utf-8') as file:\n",
        "    file.write('\\n'.join(id_to_del))"
      ],
      "execution_count": null,
      "outputs": []
    },
    {
      "cell_type": "markdown",
      "metadata": {
        "id": "KzVMeJrqEdWQ"
      },
      "source": [
        "## Fine-tuning"
      ]
    },
    {
      "cell_type": "markdown",
      "metadata": {
        "id": "kUSi2UfTMrqQ"
      },
      "source": [
        "Теперь можем приступить к файн-тьюнингу! \n",
        "\n",
        "Подкачаем айдишники ненужных файлов, инициализируем обучающий минифест без них, инициализируем предобученную модель"
      ]
    },
    {
      "cell_type": "code",
      "metadata": {
        "id": "UIxhUfUlEiGh"
      },
      "source": [
        "load(\"https://sc.link/ZMv\", \"QuartzNet15x5_golos.nemo\")\n",
        "asr_model = nemo_asr.models.EncDecCTCModel.restore_from(os.path.join(data_dir, \"QuartzNet15x5_golos.nemo\"))"
      ],
      "execution_count": null,
      "outputs": []
    },
    {
      "cell_type": "code",
      "metadata": {
        "id": "2iXx3oiUESoy"
      },
      "source": [
        "with open('/content/drive/MyDrive/idx.txt', encoding='utf-8') as file:\n",
        "    id_to_del = file.read().split()"
      ],
      "execution_count": 4,
      "outputs": []
    },
    {
      "cell_type": "markdown",
      "metadata": {
        "id": "OLTUcv3xNJQ-"
      },
      "source": [
        "Проверка на то, что ничего не потерялось"
      ]
    },
    {
      "cell_type": "code",
      "metadata": {
        "colab": {
          "base_uri": "https://localhost:8080/"
        },
        "id": "uQI3ZJAVFTp4",
        "outputId": "55de645b-6f51-4ad1-be97-cf5317547aed"
      },
      "source": [
        "len(id_to_del)"
      ],
      "execution_count": 5,
      "outputs": [
        {
          "output_type": "execute_result",
          "data": {
            "text/plain": [
              "64888"
            ]
          },
          "metadata": {},
          "execution_count": 5
        }
      ]
    },
    {
      "cell_type": "markdown",
      "metadata": {
        "id": "ALm-Im4zNN19"
      },
      "source": [
        "На случай, если старый манифест, сохранился"
      ]
    },
    {
      "cell_type": "code",
      "metadata": {
        "id": "pRINEd8LFePx"
      },
      "source": [
        "!rm -rf '/content/train/farfield/farfield_train.jsonl'"
      ],
      "execution_count": null,
      "outputs": []
    },
    {
      "cell_type": "code",
      "metadata": {
        "colab": {
          "base_uri": "https://localhost:8080/"
        },
        "id": "NEl9-VZJ3kMa",
        "outputId": "95657506-b559-4c40-e157-4f4ddf926f7b"
      },
      "source": [
        "import json\n",
        "\n",
        "def build_manifest(manifest_rel, manifest_abs):\n",
        "    manifest_path = os.path.split(os.path.abspath(manifest_rel))[0]\n",
        "    with open(manifest_rel, 'r') as fin:\n",
        "        with open(manifest_abs, 'w') as fout:\n",
        "            for line in fin:\n",
        "                metadata = json.loads(line)\n",
        "                idx = metadata[\"id\"]\n",
        "                if metadata[\"audio_filepath\"].startswith('farfield') and idx not in id_to_del:\n",
        "                    name=os.path.join(data_dir + \"/train/\", metadata[\"audio_filepath\"])\n",
        "                    name = name.split('.')\n",
        "                    name = name[0] + '.wav'\n",
        "                    metadata[\"audio_filepath\"] = name\n",
        "                    json.dump(metadata, fout)\n",
        "                    fout.write('\\n')\n",
        "                elif metadata[\"audio_filepath\"].startswith('files'):\n",
        "                    metadata[\"audio_filepath\"]=os.path.join(manifest_path, metadata[\"audio_filepath\"])\n",
        "                    json.dump(metadata, fout)\n",
        "                    fout.write('\\n')\n",
        "                \n",
        "print(\"******\")\n",
        "train_abs = os.path.join(data_dir, 'train/farfield/farfield_train.jsonl')\n",
        "if not os.path.isfile(train_abs):\n",
        "  build_manifest(\"/content/drive/MyDrive/manifest.jsonl\", train_abs)\n",
        "train_manifest = train_abs\n",
        "print(\"train_manifest\", train_manifest)\n",
        "\n",
        "test_rel = os.path.join(data_dir, 'test/farfield/manifest.jsonl')\n",
        "test_abs = os.path.join(data_dir, 'test/farfield/farfield_test.jsonl')\n",
        "if not os.path.isfile(test_abs):\n",
        "  build_manifest(test_rel, test_abs)\n",
        "test_manifest = test_abs\n",
        "print(\"test_manifest\", test_manifest)"
      ],
      "execution_count": 10,
      "outputs": [
        {
          "output_type": "stream",
          "name": "stdout",
          "text": [
            "******\n",
            "train_manifest /content/train/farfield/farfield_train.jsonl\n",
            "test_manifest /content/test/farfield/farfield_test.jsonl\n"
          ]
        }
      ]
    },
    {
      "cell_type": "code",
      "metadata": {
        "id": "uTPwV-BWICJn"
      },
      "source": [
        "train_manifest = '/content/train/farfield/farfield_train.jsonl'\n",
        "test_manifest = '/content/test/farfield/farfield_test.jsonl'"
      ],
      "execution_count": 6,
      "outputs": []
    },
    {
      "cell_type": "code",
      "metadata": {
        "colab": {
          "base_uri": "https://localhost:8080/"
        },
        "id": "2fQy3SN85IaU",
        "outputId": "3dd1577e-7d17-43de-bd74-c3e031f75d5f"
      },
      "source": [
        "!head \"/content/test/farfield/farfield_test.jsonl\""
      ],
      "execution_count": 12,
      "outputs": [
        {
          "output_type": "stream",
          "name": "stdout",
          "text": [
            "{\"id\": \"58b586f67f5e634506e215df5996b82e\", \"audio_filepath\": \"/content/test/farfield/files/58b586f67f5e634506e215df5996b82e.wav\", \"text\": \"\\u0434\\u0436\\u043e\\u0439 \\u0445\\u0432\\u0430\\u0442\\u0438\\u0442\", \"duration\": 1.696625}\n",
            "{\"id\": \"26093ef7a8c5ec6a3c586a6a929c1bd3\", \"audio_filepath\": \"/content/test/farfield/files/26093ef7a8c5ec6a3c586a6a929c1bd3.wav\", \"text\": \"\\u0441\\u0430\\u043b\\u044e\\u0442 \\u0432\\u044b\\u0437\\u043e\\u0432 \\u0441\\u0432\\u0435\\u0442\\u043b\\u0430\\u043d\\u0435 \\u0432\\u0430\\u0441\\u0438\\u043b\\u044c\\u0435\\u0432\\u043d\\u0435 \\u043d\\u0438\\u043a\\u043e\\u043b\\u0435\\u043d\\u043a\\u043e\", \"duration\": 3.1720625}\n",
            "{\"id\": \"b42d13ab3dc159fac39a1120e8011f66\", \"audio_filepath\": \"/content/test/farfield/files/b42d13ab3dc159fac39a1120e8011f66.wav\", \"text\": \"\\u0441\\u0430\\u043b\\u044e\\u0442 \\u0445\\u0432\\u0430\\u0442\\u0438\\u0442\", \"duration\": 1.5226875}\n",
            "{\"id\": \"7e55843e745a239b35212e2caba77239\", \"audio_filepath\": \"/content/test/farfield/files/7e55843e745a239b35212e2caba77239.wav\", \"text\": \"\\u0434\\u0436\\u043e\\u0439 \\u0437\\u0432\\u043e\\u043d\\u043e\\u043a \\u044e\\u0440\\u0438\\u044e \\u0438\\u0432\\u0430\\u043d\\u043e\\u0432\\u0438\\u0447\\u0443 \\u0446\\u0430\\u0440\\u044c\\u043a\\u043e\\u0432\\u0443\", \"duration\": 3.0640625}\n",
            "{\"id\": \"a0c621e2819a3747e42d05940aab0446\", \"audio_filepath\": \"/content/test/farfield/files/a0c621e2819a3747e42d05940aab0446.wav\", \"text\": \"\\u0434\\u0436\\u043e\\u0439 \\u0432\\u044b\\u0439\\u0442\\u0438 \\u0438\\u0437 \\u0441\\u0446\\u0435\\u043d\\u0430\\u0440\\u0438\\u044f\", \"duration\": 2.31475}\n",
            "{\"id\": \"f293e3548bd266460c8ea6ac1fb76478\", \"audio_filepath\": \"/content/test/farfield/files/f293e3548bd266460c8ea6ac1fb76478.wav\", \"text\": \"\\u0441\\u0430\\u043b\\u044e\\u0442 \\u0432\\u044b\\u0439\\u0442\\u0438\", \"duration\": 1.310125}\n",
            "{\"id\": \"b3fc5f249351a9087ffedc0a34385463\", \"audio_filepath\": \"/content/test/farfield/files/b3fc5f249351a9087ffedc0a34385463.wav\", \"text\": \"\\u0441\\u0430\\u043b\\u044e\\u0442 \\u0437\\u0430\\u043a\\u0440\\u043e\\u0439\\u0441\\u044f\", \"duration\": 1.9009375}\n",
            "{\"id\": \"ee2144d4bc00e96131a9bef5c74edd97\", \"audio_filepath\": \"/content/test/farfield/files/ee2144d4bc00e96131a9bef5c74edd97.wav\", \"text\": \"\\u0441\\u0430\\u043b\\u044e\\u0442 \\u043d\\u0430\\u0431\\u0435\\u0440\\u0438 \\u0434\\u0430\\u043d\\u0438\\u043b\\u043e\\u0432\\u0430\", \"duration\": 1.8129375}\n",
            "{\"id\": \"94f4ad577967f9f61d5d88cd92b1339c\", \"audio_filepath\": \"/content/test/farfield/files/94f4ad577967f9f61d5d88cd92b1339c.wav\", \"text\": \"\\u0441\\u0431\\u0435\\u0440 \\u043c\\u043d\\u0435 \\u043d\\u0440\\u0430\\u0432\\u0438\\u0442\\u0441\\u044f\", \"duration\": 1.9945}\n",
            "{\"id\": \"a97958419827c57069bc3550c4353eb9\", \"audio_filepath\": \"/content/test/farfield/files/a97958419827c57069bc3550c4353eb9.wav\", \"text\": \"\\u0441\\u0430\\u043b\\u044e\\u0442 \\u043f\\u0440\\u0435\\u043a\\u0440\\u0430\\u0442\\u0438\", \"duration\": 1.4965}\n"
          ]
        }
      ]
    },
    {
      "cell_type": "code",
      "metadata": {
        "colab": {
          "base_uri": "https://localhost:8080/"
        },
        "id": "nlDo0rYv4ihT",
        "outputId": "54f595f6-8587-4687-f8ff-8e6776689d35"
      },
      "source": [
        "params_model = asr_model._cfg\n",
        "\n",
        "new_opt = copy.deepcopy(params_model['optim'])\n",
        "new_opt['lr'] = 0.0001\n",
        "asr_model.setup_optimization(optim_config=DictConfig(new_opt))\n",
        "\n",
        "params_model['train_ds']['parser']='base'\n",
        "params_model['validation_ds']['parser']='base'\n",
        "params_model['test_ds']['parser']='base'\n",
        "params_model['train_ds']['manifest_filepath'] = train_manifest\n",
        "params_model['train_ds']['batch_size']=16\n",
        "params_model['validation_ds']['manifest_filepath'] = test_manifest\n",
        "params_model['validation_ds']['batch_size']=16\n",
        "params_model['test_ds']['manifest_filepath'] = test_manifest\n",
        "params_model['test_ds']['batch_size']=16\n",
        "\n",
        "asr_model.setup_training_data(train_data_config=params_model['train_ds'])\n",
        "asr_model.setup_validation_data(val_data_config=params_model['validation_ds'])\n",
        "asr_model.setup_test_data(test_data_config=params_model['validation_ds'])"
      ],
      "execution_count": 8,
      "outputs": [
        {
          "output_type": "stream",
          "name": "stderr",
          "text": [
            "[NeMo W 2021-11-30 13:54:21 modelPT:453] Trainer wasn't specified in model constructor. Make sure that you really wanted it.\n"
          ]
        },
        {
          "output_type": "stream",
          "name": "stdout",
          "text": [
            "[NeMo I 2021-11-30 13:54:21 modelPT:561] Optimizer config = Novograd (\n",
            "    Parameter Group 0\n",
            "        amsgrad: False\n",
            "        betas: [0.9, 0.98]\n",
            "        eps: 1e-08\n",
            "        grad_averaging: False\n",
            "        lr: 0.0001\n",
            "        weight_decay: 0.001\n",
            "    )\n"
          ]
        },
        {
          "output_type": "stream",
          "name": "stderr",
          "text": [
            "[NeMo W 2021-11-30 13:54:21 lr_scheduler:732] Neither `max_steps` nor `iters_per_batch` were provided to `optim.sched`, cannot compute effective `max_steps` !\n",
            "    Scheduler will not be instantiated !\n"
          ]
        },
        {
          "output_type": "stream",
          "name": "stdout",
          "text": [
            "[NeMo I 2021-11-30 13:54:24 collections:173] Dataset loaded with 59115 files totalling 61.57 hours\n",
            "[NeMo I 2021-11-30 13:54:24 collections:174] 0 files were filtered totalling 0.00 hours\n"
          ]
        },
        {
          "output_type": "stream",
          "name": "stderr",
          "text": [
            "[NeMo W 2021-11-30 13:54:24 nemo_logging:349] /usr/local/lib/python3.7/dist-packages/torch/utils/data/dataloader.py:481: UserWarning: This DataLoader will create 20 worker processes in total. Our suggested max number of worker in current system is 2, which is smaller than what this DataLoader is going to create. Please be aware that excessive worker creation might get DataLoader running slow or even freeze, lower the worker number to avoid potential slowness/freeze if necessary.\n",
            "      cpuset_checked))\n",
            "    \n"
          ]
        },
        {
          "output_type": "stream",
          "name": "stdout",
          "text": [
            "[NeMo I 2021-11-30 13:54:24 collections:173] Dataset loaded with 1916 files totalling 1.41 hours\n",
            "[NeMo I 2021-11-30 13:54:24 collections:174] 0 files were filtered totalling 0.00 hours\n",
            "[NeMo I 2021-11-30 13:54:24 collections:173] Dataset loaded with 1916 files totalling 1.41 hours\n",
            "[NeMo I 2021-11-30 13:54:24 collections:174] 0 files were filtered totalling 0.00 hours\n"
          ]
        }
      ]
    },
    {
      "cell_type": "code",
      "metadata": {
        "colab": {
          "base_uri": "https://localhost:8080/"
        },
        "id": "ZGzion45rO9A",
        "outputId": "c1e4c147-ad9e-4ee7-efc4-375280ef3116"
      },
      "source": [
        "asr_model.cuda()\n",
        "\n",
        "wer_nums = []\n",
        "wer_denoms = []\n",
        "\n",
        "for test_batch in asr_model.test_dataloader():\n",
        "        test_batch = [x.cuda() for x in test_batch]\n",
        "        targets = test_batch[2]\n",
        "        targets_lengths = test_batch[3]        \n",
        "        log_probs, encoded_len, greedy_predictions = asr_model(\n",
        "            input_signal=test_batch[0], input_signal_length=test_batch[1]\n",
        "        )\n",
        "        asr_model._wer.update(greedy_predictions, targets, targets_lengths)\n",
        "        _, wer_num, wer_denom = asr_model._wer.compute()\n",
        "        asr_model._wer.reset()\n",
        "        wer_nums.append(wer_num.detach().cpu().numpy())\n",
        "        wer_denoms.append(wer_denom.detach().cpu().numpy())\n",
        "\n",
        "        del test_batch, log_probs, targets, targets_lengths, encoded_len, greedy_predictions\n",
        "\n",
        "print(f\"WER = {sum(wer_nums)/sum(wer_denoms)}\")"
      ],
      "execution_count": 9,
      "outputs": [
        {
          "output_type": "stream",
          "name": "stderr",
          "text": [
            "[NeMo W 2021-11-30 13:54:28 nemo_logging:349] /usr/local/lib/python3.7/dist-packages/torch/utils/data/dataloader.py:481: UserWarning: This DataLoader will create 20 worker processes in total. Our suggested max number of worker in current system is 2, which is smaller than what this DataLoader is going to create. Please be aware that excessive worker creation might get DataLoader running slow or even freeze, lower the worker number to avoid potential slowness/freeze if necessary.\n",
            "      cpuset_checked))\n",
            "    \n",
            "[NeMo W 2021-11-30 13:54:30 patch_utils:50] torch.stft() signature has been updated for PyTorch 1.7+\n",
            "    Please update PyTorch to remain compatible with later versions of NeMo.\n",
            "[NeMo W 2021-11-30 13:54:31 nemo_logging:349] /usr/local/lib/python3.7/dist-packages/nemo/collections/asr/parts/submodules/jasper.py:280: UserWarning: __floordiv__ is deprecated, and its behavior will change in a future version of pytorch. It currently rounds toward 0 (like the 'trunc' function NOT 'floor'). This results in incorrect rounding for negative values. To keep the current behavior, use torch.div(a, b, rounding_mode='trunc'), or for actual floor division, use torch.div(a, b, rounding_mode='floor').\n",
            "      ) // self.conv.stride[0] + 1\n",
            "    \n"
          ]
        },
        {
          "output_type": "stream",
          "name": "stdout",
          "text": [
            "WER = 0.6630875685993797\n"
          ]
        }
      ]
    },
    {
      "cell_type": "markdown",
      "metadata": {
        "id": "xbFhFeMQNSzb"
      },
      "source": [
        "Проверим, есть ли аугментации. А они уже есть"
      ]
    },
    {
      "cell_type": "code",
      "metadata": {
        "id": "AYotlBz4EqLi",
        "colab": {
          "base_uri": "https://localhost:8080/"
        },
        "outputId": "b32b8962-e359-4a7d-88cb-e1d8f1cc8be2"
      },
      "source": [
        "print(asr_model._cfg['spec_augment'])"
      ],
      "execution_count": null,
      "outputs": [
        {
          "output_type": "stream",
          "name": "stdout",
          "text": [
            "{'_target_': 'nemo.collections.asr.modules.SpectrogramAugmentation', 'rect_freq': 50, 'rect_masks': 5, 'rect_time': 120}\n"
          ]
        }
      ]
    },
    {
      "cell_type": "markdown",
      "metadata": {
        "id": "H2-yLkfJgWYd"
      },
      "source": [
        "Дообучим модель не на всех данных, а на 500 батчах, проверять будем на 5-ти, за 5 эпох. Отслеживать метрики будем с помощью wandb"
      ]
    },
    {
      "cell_type": "code",
      "metadata": {
        "id": "NJh59mLR7mBD",
        "colab": {
          "base_uri": "https://localhost:8080/"
        },
        "outputId": "0cec9f0e-e884-423b-c232-e414c6b67654"
      },
      "source": [
        "wandb_logger = WandbLogger(project=\"ASR\")\n",
        "trainer = Trainer(gpus=1, max_epochs=5, precision=16, logger=wandb_logger, limit_train_batches=500, limit_val_batches=5)"
      ],
      "execution_count": 10,
      "outputs": [
        {
          "output_type": "stream",
          "name": "stderr",
          "text": [
            "Using 16bit native Automatic Mixed Precision (AMP)\n",
            "GPU available: True, used: True\n",
            "TPU available: False, using: 0 TPU cores\n",
            "IPU available: False, using: 0 IPUs\n"
          ]
        }
      ]
    },
    {
      "cell_type": "code",
      "metadata": {
        "colab": {
          "base_uri": "https://localhost:8080/",
          "height": 726,
          "referenced_widgets": [
            "fb9de9017595467786d56cb78a8f2442",
            "6bbc49abe7bb4ce2b678878669a8992d",
            "fd60cb1407d54567a81b2f3bf206313b",
            "2087e7e088b04cdfa98b97d88469703a",
            "c9a5295ac0cf4d6d8acecff0c0054316",
            "1ebfb09663964ec7b4c8ebd7685c58ef",
            "aa78ad14c7ce4a1d8d18fd9ac250854f",
            "2f8d587c894d482f8e6a168d39b6ff91",
            "54c522d3ca7a48f6b74558a3bfc45558",
            "6b76964508974cd0b467a5abc09460d7",
            "d0f049fc8bf646758ab27094240d34d0",
            "89b80856947a4d4aa0c06edbe170def6",
            "442f6ba284a44b99b642ea903f76f454",
            "4332abd8016e4549a16d33e53742f1a7",
            "c571f2501b804eb4a81c4371bed71044",
            "1bf0b58db76546b9a642bbe386b8ffb7",
            "eb1490be2dc840bd86a002fce5ca5d3f",
            "200d095b0fe74242a695142eb4d75d7d",
            "8baf60018237415496feb28b3563b5fa",
            "2e605a7aa51649be8a6a3768186c7d89",
            "742b16aeae5e4ead866aeb5c9bc9d228",
            "3c0cc8110fb24d328300399914e2576e",
            "1c6b9a07d9e34c57a5d162f98a57b943",
            "b8e274fc98ce450984759044d137c0e7",
            "32a8a1debb1e4224b1ca626e13d7cc41",
            "d73ae88cad014084a3f7549620143f3b",
            "e83dc263314a483fb19677dd9a132888",
            "5900223c1dd74e968350db8ca42a95ee",
            "c4460884f49a43afab9485ff6246059a",
            "70044a56c38c4908b6bd0a03d052beca",
            "b979d5db43d84f918770176e75f080a7",
            "0b6a248c2f184c39b506ebbba7c82290",
            "eba864b14a96454dafd05289cf126023",
            "b2d73cc1e7154d57a3b20f6eb2a7ad1a",
            "8778414122524e80bd9265b37fa5c164",
            "f04bda0f6a5645e0845e7a5ca2fb8d70",
            "23f1bc09f20c4a23bfc0be4262078a9f",
            "3d80d233007541c38aad9aed830c0ce0",
            "cbb5f77c6dde465eb5490dbc4856e69a",
            "b506497a5e1e42d1928dd04863c3667b",
            "c25636bc3098475790e43ecbf9b35225",
            "43d36fdf1eaf4bd2bcca4af86414ff3d",
            "ae2830fd7ed74ff3a62aa0181cc49fd0",
            "86a4e390df464ca1a2819f0de6034bbb",
            "ef614e67e0174122825d3fcf120bdb2b",
            "9e3ebba016c346668a0a81a88613c815",
            "e8a81c1403f441e8bc2044ef4ba79852",
            "0781ed3867ac45b184e9dd85b94c47ce",
            "a7b90bc2ba01473ab23c2d62c14152e5",
            "a50ffe8624bf45a0802197545065612e",
            "fa89c7892eb14822ad15bfad7133a678",
            "6c6314bfdd984aa4a130f314f0fda2b8",
            "104a7147f3214f919667cced04942910",
            "5b60e863b3ef4f81927a3b98a35825f4",
            "f509665b61e5474e8c726201b078a78f",
            "21bf7c94ab6f4318b4616c136c165874",
            "b249ec9a7ab14a7fba26d4222411ae28",
            "d52276c89e244f4e808f0cc248ed9af5",
            "9793fffdb9d54876afe36ec92f4d346a",
            "d806b54a7ed8406ea91f83c833966fc0",
            "9417c32e6640459facf2cdb07fe74fa6",
            "b6b0d4fd54c64fc2b14c93bbcaa501af",
            "6684c34d32a24d129868f8b45dbfbb7f",
            "4949771fba77496dabe6f3890582fe5e",
            "36dbf0a5ecbe4c94a9abf22303ec80d4",
            "bc6cd4278f4a485bb68cfab4ed7be989",
            "51cc3688746e4bd9ac0671daeb2da5d2",
            "3af844f9e65840028372113e78ac1da5",
            "1b4c044ce2974ae5976a2841422c064b",
            "245c1843d9aa4fe4866bfd83f23048ea",
            "6d5241e161864d129db49a4dcf072bb7",
            "fc04afec7f3640ca9b8396055f25deda",
            "f457f3ee17c8452cbe9547105ce44002",
            "9412b64c277443ad921e7b585ac823c5",
            "9498718e120a4b8ca230b24f8f0c21eb",
            "540d42c4cf2e44f3a2577ef8bcdf1eaf",
            "26508271fdae4190a955f75dd9c9bb68"
          ]
        },
        "id": "_u8gmkWLoLNB",
        "outputId": "c64c4a83-0ccf-40a7-889a-3f5c62647be5"
      },
      "source": [
        "asr_model.cuda()\n",
        "trainer.fit(asr_model)"
      ],
      "execution_count": null,
      "outputs": [
        {
          "output_type": "stream",
          "name": "stderr",
          "text": [
            "LOCAL_RANK: 0 - CUDA_VISIBLE_DEVICES: [0]\n",
            "[NeMo W 2021-11-29 16:40:20 modelPT:453] Trainer wasn't specified in model constructor. Make sure that you really wanted it.\n"
          ]
        },
        {
          "output_type": "stream",
          "name": "stdout",
          "text": [
            "[NeMo I 2021-11-29 16:40:20 modelPT:561] Optimizer config = Novograd (\n",
            "    Parameter Group 0\n",
            "        amsgrad: False\n",
            "        betas: [0.9, 0.98]\n",
            "        eps: 1e-08\n",
            "        grad_averaging: False\n",
            "        lr: 0.0001\n",
            "        weight_decay: 0.001\n",
            "    )\n"
          ]
        },
        {
          "output_type": "stream",
          "name": "stderr",
          "text": [
            "[NeMo W 2021-11-29 16:40:20 lr_scheduler:732] Neither `max_steps` nor `iters_per_batch` were provided to `optim.sched`, cannot compute effective `max_steps` !\n",
            "    Scheduler will not be instantiated !\n"
          ]
        },
        {
          "output_type": "display_data",
          "data": {
            "application/javascript": [
              "\n",
              "        window._wandbApiKey = new Promise((resolve, reject) => {\n",
              "            function loadScript(url) {\n",
              "            return new Promise(function(resolve, reject) {\n",
              "                let newScript = document.createElement(\"script\");\n",
              "                newScript.onerror = reject;\n",
              "                newScript.onload = resolve;\n",
              "                document.body.appendChild(newScript);\n",
              "                newScript.src = url;\n",
              "            });\n",
              "            }\n",
              "            loadScript(\"https://cdn.jsdelivr.net/npm/postmate/build/postmate.min.js\").then(() => {\n",
              "            const iframe = document.createElement('iframe')\n",
              "            iframe.style.cssText = \"width:0;height:0;border:none\"\n",
              "            document.body.appendChild(iframe)\n",
              "            const handshake = new Postmate({\n",
              "                container: iframe,\n",
              "                url: 'https://wandb.ai/authorize'\n",
              "            });\n",
              "            const timeout = setTimeout(() => reject(\"Couldn't auto authenticate\"), 5000)\n",
              "            handshake.then(function(child) {\n",
              "                child.on('authorize', data => {\n",
              "                    clearTimeout(timeout)\n",
              "                    resolve(data)\n",
              "                });\n",
              "            });\n",
              "            })\n",
              "        });\n",
              "    "
            ],
            "text/plain": [
              "<IPython.core.display.Javascript object>"
            ]
          },
          "metadata": {}
        },
        {
          "output_type": "stream",
          "name": "stderr",
          "text": [
            "\u001b[34m\u001b[1mwandb\u001b[0m: Appending key for api.wandb.ai to your netrc file: /root/.netrc\n"
          ]
        },
        {
          "output_type": "display_data",
          "data": {
            "text/html": [
              "\n",
              "                    Syncing run <strong><a href=\"https://wandb.ai/julia_kor/ASR/runs/1qer8z7y\" target=\"_blank\">northern-moon-4</a></strong> to <a href=\"https://wandb.ai/julia_kor/ASR\" target=\"_blank\">Weights & Biases</a> (<a href=\"https://docs.wandb.com/integrations/jupyter.html\" target=\"_blank\">docs</a>).<br/>\n",
              "\n",
              "                "
            ],
            "text/plain": [
              "<IPython.core.display.HTML object>"
            ]
          },
          "metadata": {}
        },
        {
          "output_type": "stream",
          "name": "stderr",
          "text": [
            "\n",
            "  | Name              | Type                              | Params\n",
            "------------------------------------------------------------------------\n",
            "0 | preprocessor      | AudioToMelSpectrogramPreprocessor | 0     \n",
            "1 | encoder           | ConvASREncoder                    | 18.9 M\n",
            "2 | decoder           | ConvASRDecoder                    | 34.9 K\n",
            "3 | loss              | CTCLoss                           | 0     \n",
            "4 | spec_augmentation | SpectrogramAugmentation           | 0     \n",
            "5 | _wer              | WER                               | 0     \n",
            "------------------------------------------------------------------------\n",
            "18.9 M    Trainable params\n",
            "0         Non-trainable params\n",
            "18.9 M    Total params\n",
            "37.859    Total estimated model params size (MB)\n"
          ]
        },
        {
          "output_type": "display_data",
          "data": {
            "application/vnd.jupyter.widget-view+json": {
              "model_id": "fb9de9017595467786d56cb78a8f2442",
              "version_minor": 0,
              "version_major": 2
            },
            "text/plain": [
              "Validation sanity check: 0it [00:00, ?it/s]"
            ]
          },
          "metadata": {}
        },
        {
          "output_type": "stream",
          "name": "stderr",
          "text": [
            "[NeMo W 2021-11-29 16:40:40 nemo_logging:349] /usr/local/lib/python3.7/dist-packages/torch/utils/data/dataloader.py:481: UserWarning: This DataLoader will create 20 worker processes in total. Our suggested max number of worker in current system is 2, which is smaller than what this DataLoader is going to create. Please be aware that excessive worker creation might get DataLoader running slow or even freeze, lower the worker number to avoid potential slowness/freeze if necessary.\n",
            "      cpuset_checked))\n",
            "    \n",
            "[NeMo W 2021-11-29 16:40:42 nemo_logging:349] /usr/local/lib/python3.7/dist-packages/nemo/collections/asr/parts/submodules/jasper.py:280: UserWarning: __floordiv__ is deprecated, and its behavior will change in a future version of pytorch. It currently rounds toward 0 (like the 'trunc' function NOT 'floor'). This results in incorrect rounding for negative values. To keep the current behavior, use torch.div(a, b, rounding_mode='trunc'), or for actual floor division, use torch.div(a, b, rounding_mode='floor').\n",
            "      ) // self.conv.stride[0] + 1\n",
            "    \n"
          ]
        },
        {
          "output_type": "display_data",
          "data": {
            "application/vnd.jupyter.widget-view+json": {
              "model_id": "89b80856947a4d4aa0c06edbe170def6",
              "version_minor": 0,
              "version_major": 2
            },
            "text/plain": [
              "Training: 0it [00:00, ?it/s]"
            ]
          },
          "metadata": {}
        },
        {
          "output_type": "display_data",
          "data": {
            "application/vnd.jupyter.widget-view+json": {
              "model_id": "1c6b9a07d9e34c57a5d162f98a57b943",
              "version_minor": 0,
              "version_major": 2
            },
            "text/plain": [
              "Validating: 0it [00:00, ?it/s]"
            ]
          },
          "metadata": {}
        },
        {
          "output_type": "display_data",
          "data": {
            "application/vnd.jupyter.widget-view+json": {
              "model_id": "b2d73cc1e7154d57a3b20f6eb2a7ad1a",
              "version_minor": 0,
              "version_major": 2
            },
            "text/plain": [
              "Validating: 0it [00:00, ?it/s]"
            ]
          },
          "metadata": {}
        },
        {
          "output_type": "display_data",
          "data": {
            "application/vnd.jupyter.widget-view+json": {
              "model_id": "ef614e67e0174122825d3fcf120bdb2b",
              "version_minor": 0,
              "version_major": 2
            },
            "text/plain": [
              "Validating: 0it [00:00, ?it/s]"
            ]
          },
          "metadata": {}
        },
        {
          "output_type": "display_data",
          "data": {
            "application/vnd.jupyter.widget-view+json": {
              "model_id": "21bf7c94ab6f4318b4616c136c165874",
              "version_minor": 0,
              "version_major": 2
            },
            "text/plain": [
              "Validating: 0it [00:00, ?it/s]"
            ]
          },
          "metadata": {}
        },
        {
          "output_type": "display_data",
          "data": {
            "application/vnd.jupyter.widget-view+json": {
              "model_id": "51cc3688746e4bd9ac0671daeb2da5d2",
              "version_minor": 0,
              "version_major": 2
            },
            "text/plain": [
              "Validating: 0it [00:00, ?it/s]"
            ]
          },
          "metadata": {}
        }
      ]
    },
    {
      "cell_type": "code",
      "metadata": {
        "colab": {
          "base_uri": "https://localhost:8080/",
          "height": 139,
          "referenced_widgets": [
            "f63824fd57584fcf946b291d6f86924b",
            "c2d9707a5016476a94f88cf6fd3b8ec7",
            "86c8baefbb2443119d47ae4bcd538d99",
            "84d808b95ab34caf9ec7b73615e1a18d",
            "83819e5d06f84a53b7c766ddc2094294",
            "a9308c9957394c93921e7555b7116a56",
            "8c9dbdfab3d84aad91fd0c2f4e7f68af",
            "df6ba637738d4395bdb316d075322c9b",
            "8698c3e1fb4b4cb6aa0b54059d6d0088",
            "80b3119528a04c26ac29f62444a82f53",
            "0c5b47cccb3f4a22b7f3f74da7f2a064"
          ]
        },
        "id": "W9_c3CB2stIX",
        "outputId": "161d1bb7-b11e-49db-cc80-c7c52f4c06cd"
      },
      "source": [
        "asr_model.transcribe(paths2audio_files=[data_dir + '/train/farfield/855e01d6ba9a4aa59950d62037b87709.wav'])"
      ],
      "execution_count": null,
      "outputs": [
        {
          "output_type": "display_data",
          "data": {
            "application/vnd.jupyter.widget-view+json": {
              "model_id": "f63824fd57584fcf946b291d6f86924b",
              "version_minor": 0,
              "version_major": 2
            },
            "text/plain": [
              "Transcribing:   0%|          | 0/1 [00:00<?, ?it/s]"
            ]
          },
          "metadata": {}
        },
        {
          "output_type": "stream",
          "name": "stderr",
          "text": [
            "[NeMo W 2021-11-29 17:43:25 nemo_logging:349] /usr/local/lib/python3.7/dist-packages/nemo/collections/asr/parts/submodules/jasper.py:280: UserWarning: __floordiv__ is deprecated, and its behavior will change in a future version of pytorch. It currently rounds toward 0 (like the 'trunc' function NOT 'floor'). This results in incorrect rounding for negative values. To keep the current behavior, use torch.div(a, b, rounding_mode='trunc'), or for actual floor division, use torch.div(a, b, rounding_mode='floor').\n",
            "      ) // self.conv.stride[0] + 1\n",
            "    \n"
          ]
        },
        {
          "output_type": "execute_result",
          "data": {
            "text/plain": [
              "['афина хотела номер телефона поменять карты']"
            ]
          },
          "metadata": {},
          "execution_count": 19
        }
      ]
    },
    {
      "cell_type": "markdown",
      "metadata": {
        "id": "9Plm6XzwgnNm"
      },
      "source": [
        "Теперь проверим, какое качество дает дообученная модель"
      ]
    },
    {
      "cell_type": "code",
      "metadata": {
        "colab": {
          "base_uri": "https://localhost:8080/"
        },
        "id": "MvsquZYgxsqr",
        "outputId": "57dbd722-1e53-4440-9d20-e44e0167d4e7"
      },
      "source": [
        "asr_model.cuda()\n",
        "\n",
        "wer_nums = []\n",
        "wer_denoms = []\n",
        "\n",
        "for test_batch in asr_model.test_dataloader():\n",
        "        test_batch = [x.cuda() for x in test_batch]\n",
        "        targets = test_batch[2]\n",
        "        targets_lengths = test_batch[3]        \n",
        "        log_probs, encoded_len, greedy_predictions = asr_model(\n",
        "            input_signal=test_batch[0], input_signal_length=test_batch[1]\n",
        "        )\n",
        "        asr_model._wer.update(greedy_predictions, targets, targets_lengths)\n",
        "        _, wer_num, wer_denom = asr_model._wer.compute()\n",
        "        asr_model._wer.reset()\n",
        "        wer_nums.append(wer_num.detach().cpu().numpy())\n",
        "        wer_denoms.append(wer_denom.detach().cpu().numpy())\n",
        "\n",
        "        del test_batch, log_probs, targets, targets_lengths, encoded_len, greedy_predictions\n",
        "\n",
        "print(f\"WER = {sum(wer_nums)/sum(wer_denoms)}\")"
      ],
      "execution_count": null,
      "outputs": [
        {
          "output_type": "stream",
          "name": "stderr",
          "text": [
            "[NeMo W 2021-11-29 17:43:35 nemo_logging:349] /usr/local/lib/python3.7/dist-packages/torch/utils/data/dataloader.py:481: UserWarning: This DataLoader will create 20 worker processes in total. Our suggested max number of worker in current system is 2, which is smaller than what this DataLoader is going to create. Please be aware that excessive worker creation might get DataLoader running slow or even freeze, lower the worker number to avoid potential slowness/freeze if necessary.\n",
            "      cpuset_checked))\n",
            "    \n",
            "[NeMo W 2021-11-29 17:43:37 nemo_logging:349] /usr/local/lib/python3.7/dist-packages/nemo/collections/asr/parts/submodules/jasper.py:280: UserWarning: __floordiv__ is deprecated, and its behavior will change in a future version of pytorch. It currently rounds toward 0 (like the 'trunc' function NOT 'floor'). This results in incorrect rounding for negative values. To keep the current behavior, use torch.div(a, b, rounding_mode='trunc'), or for actual floor division, use torch.div(a, b, rounding_mode='floor').\n",
            "      ) // self.conv.stride[0] + 1\n",
            "    \n"
          ]
        },
        {
          "output_type": "stream",
          "name": "stdout",
          "text": [
            "WER = 0.5288713910761155\n"
          ]
        }
      ]
    },
    {
      "cell_type": "markdown",
      "metadata": {
        "id": "9quIYH6m1H_e"
      },
      "source": [
        "Мы добились WER = 0.53, что на 13% превосходит изначальное качество"
      ]
    },
    {
      "cell_type": "markdown",
      "metadata": {
        "id": "3pfUywtK1E52"
      },
      "source": [
        "Теперь на всех данных 1 эпоха"
      ]
    },
    {
      "cell_type": "code",
      "metadata": {
        "colab": {
          "base_uri": "https://localhost:8080/"
        },
        "id": "OQ9lGhDs0xXJ",
        "outputId": "dc52be79-572e-4bb0-fc16-29b06b99ac0a"
      },
      "source": [
        "wandb_logger = WandbLogger(project=\"ASR\")\n",
        "trainer = Trainer(gpus=1, max_epochs=1, precision=16, logger=wandb_logger, limit_val_batches=5)"
      ],
      "execution_count": null,
      "outputs": [
        {
          "output_type": "stream",
          "name": "stderr",
          "text": [
            "Using 16bit native Automatic Mixed Precision (AMP)\n",
            "GPU available: True, used: True\n",
            "TPU available: False, using: 0 TPU cores\n",
            "IPU available: False, using: 0 IPUs\n"
          ]
        }
      ]
    },
    {
      "cell_type": "code",
      "metadata": {
        "colab": {
          "base_uri": "https://localhost:8080/",
          "height": 726,
          "referenced_widgets": [
            "2ca6e16c907b42cb9752e4151fd72d48",
            "55141b5746034aab85254ff50eaa7e83",
            "152f24a8c643447ab7fa0c38003fb240",
            "e1ca9b54cffb4b56ab28eeb571153c58",
            "6effdd083e6a4419b1a2dbd48a6ca314",
            "4387832b355845acbbd11b6124f34d7f",
            "44ff01e3a83246b7918c4ca71fa091ea",
            "4c9f0d059485403ca0810df1b17d6ba2",
            "699acbfe105b453fa2be4f6d227d0deb",
            "6b50d4ad98c245b088949f846a293975",
            "a88f910237f947a5b1e4687206e52c76",
            "7235122a0739494dbf8b7a04c2c2e3fc",
            "14a65ac2e29f4cc0adf740913329bfe2",
            "095d980ad0b34718af57bea5f54b654c",
            "87450fe0317e4e37b0a8f262420f54b5",
            "66b50a62f94749fdac95b829a9be11ff",
            "dce51436705a46959f2e1c0d7cf96729",
            "6f342c13956249aa88709960862e7bc9",
            "6e689eb999a94bae9d80ac78bb87e779",
            "7fa8b683f10647959bb543ab6c8bce1f",
            "3a9af49f69ba459999382af2586dd6cc",
            "fb9b37d2798c44a898dfbb31c20fbd65",
            "39e7fcf555d94443a995b55b0096330a",
            "70a72b1791924aaaac719cbd50bf406f",
            "3f9e349ff08b45059aabc56cc06a4ed4",
            "f4aefbda007e45a2aa1ec09faa32c700",
            "a6201293f1cb447caac95de9547d1a43",
            "caf706d8222f4a7b8fe72f3880c6c56f",
            "6d40297522cb4f9184261c29f8f8eec1",
            "03aea75badd84cd9820ccd0b7a9f68dc",
            "3c437b92a5fe46b7bfb42e704fdec27a",
            "63ed31f348da40f8b0871c0397a21915",
            "95868e1e3e00473589a99a333eeb6fce"
          ]
        },
        "id": "BHTRFT9Z0x1x",
        "outputId": "9c4e6a41-0d9e-49fa-bac1-5b7c6ff6ae53"
      },
      "source": [
        "asr_model.cuda()\n",
        "trainer.fit(asr_model)"
      ],
      "execution_count": 11,
      "outputs": [
        {
          "output_type": "stream",
          "name": "stderr",
          "text": [
            "LOCAL_RANK: 0 - CUDA_VISIBLE_DEVICES: [0]\n",
            "[NeMo W 2021-11-30 13:57:19 modelPT:453] Trainer wasn't specified in model constructor. Make sure that you really wanted it.\n"
          ]
        },
        {
          "output_type": "stream",
          "name": "stdout",
          "text": [
            "[NeMo I 2021-11-30 13:57:19 modelPT:561] Optimizer config = Novograd (\n",
            "    Parameter Group 0\n",
            "        amsgrad: False\n",
            "        betas: [0.9, 0.98]\n",
            "        eps: 1e-08\n",
            "        grad_averaging: False\n",
            "        lr: 0.0001\n",
            "        weight_decay: 0.001\n",
            "    )\n"
          ]
        },
        {
          "output_type": "stream",
          "name": "stderr",
          "text": [
            "[NeMo W 2021-11-30 13:57:19 lr_scheduler:732] Neither `max_steps` nor `iters_per_batch` were provided to `optim.sched`, cannot compute effective `max_steps` !\n",
            "    Scheduler will not be instantiated !\n"
          ]
        },
        {
          "output_type": "display_data",
          "data": {
            "application/javascript": [
              "\n",
              "        window._wandbApiKey = new Promise((resolve, reject) => {\n",
              "            function loadScript(url) {\n",
              "            return new Promise(function(resolve, reject) {\n",
              "                let newScript = document.createElement(\"script\");\n",
              "                newScript.onerror = reject;\n",
              "                newScript.onload = resolve;\n",
              "                document.body.appendChild(newScript);\n",
              "                newScript.src = url;\n",
              "            });\n",
              "            }\n",
              "            loadScript(\"https://cdn.jsdelivr.net/npm/postmate/build/postmate.min.js\").then(() => {\n",
              "            const iframe = document.createElement('iframe')\n",
              "            iframe.style.cssText = \"width:0;height:0;border:none\"\n",
              "            document.body.appendChild(iframe)\n",
              "            const handshake = new Postmate({\n",
              "                container: iframe,\n",
              "                url: 'https://wandb.ai/authorize'\n",
              "            });\n",
              "            const timeout = setTimeout(() => reject(\"Couldn't auto authenticate\"), 5000)\n",
              "            handshake.then(function(child) {\n",
              "                child.on('authorize', data => {\n",
              "                    clearTimeout(timeout)\n",
              "                    resolve(data)\n",
              "                });\n",
              "            });\n",
              "            })\n",
              "        });\n",
              "    "
            ],
            "text/plain": [
              "<IPython.core.display.Javascript object>"
            ]
          },
          "metadata": {}
        },
        {
          "output_type": "stream",
          "name": "stderr",
          "text": [
            "\u001b[34m\u001b[1mwandb\u001b[0m: Appending key for api.wandb.ai to your netrc file: /root/.netrc\n"
          ]
        },
        {
          "output_type": "display_data",
          "data": {
            "text/html": [
              "\n",
              "                    Syncing run <strong><a href=\"https://wandb.ai/julia_kor/ASR/runs/28j7lvx1\" target=\"_blank\">swift-cloud-5</a></strong> to <a href=\"https://wandb.ai/julia_kor/ASR\" target=\"_blank\">Weights & Biases</a> (<a href=\"https://docs.wandb.com/integrations/jupyter.html\" target=\"_blank\">docs</a>).<br/>\n",
              "\n",
              "                "
            ],
            "text/plain": [
              "<IPython.core.display.HTML object>"
            ]
          },
          "metadata": {}
        },
        {
          "output_type": "stream",
          "name": "stderr",
          "text": [
            "\n",
            "  | Name              | Type                              | Params\n",
            "------------------------------------------------------------------------\n",
            "0 | preprocessor      | AudioToMelSpectrogramPreprocessor | 0     \n",
            "1 | encoder           | ConvASREncoder                    | 18.9 M\n",
            "2 | decoder           | ConvASRDecoder                    | 34.9 K\n",
            "3 | loss              | CTCLoss                           | 0     \n",
            "4 | spec_augmentation | SpectrogramAugmentation           | 0     \n",
            "5 | _wer              | WER                               | 0     \n",
            "------------------------------------------------------------------------\n",
            "18.9 M    Trainable params\n",
            "0         Non-trainable params\n",
            "18.9 M    Total params\n",
            "37.859    Total estimated model params size (MB)\n"
          ]
        },
        {
          "output_type": "display_data",
          "data": {
            "application/vnd.jupyter.widget-view+json": {
              "model_id": "2ca6e16c907b42cb9752e4151fd72d48",
              "version_minor": 0,
              "version_major": 2
            },
            "text/plain": [
              "Validation sanity check: 0it [00:00, ?it/s]"
            ]
          },
          "metadata": {}
        },
        {
          "output_type": "stream",
          "name": "stderr",
          "text": [
            "[NeMo W 2021-11-30 13:57:36 nemo_logging:349] /usr/local/lib/python3.7/dist-packages/torch/utils/data/dataloader.py:481: UserWarning: This DataLoader will create 20 worker processes in total. Our suggested max number of worker in current system is 2, which is smaller than what this DataLoader is going to create. Please be aware that excessive worker creation might get DataLoader running slow or even freeze, lower the worker number to avoid potential slowness/freeze if necessary.\n",
            "      cpuset_checked))\n",
            "    \n",
            "[NeMo W 2021-11-30 13:57:38 nemo_logging:349] /usr/local/lib/python3.7/dist-packages/nemo/collections/asr/parts/submodules/jasper.py:280: UserWarning: __floordiv__ is deprecated, and its behavior will change in a future version of pytorch. It currently rounds toward 0 (like the 'trunc' function NOT 'floor'). This results in incorrect rounding for negative values. To keep the current behavior, use torch.div(a, b, rounding_mode='trunc'), or for actual floor division, use torch.div(a, b, rounding_mode='floor').\n",
            "      ) // self.conv.stride[0] + 1\n",
            "    \n"
          ]
        },
        {
          "output_type": "display_data",
          "data": {
            "application/vnd.jupyter.widget-view+json": {
              "model_id": "7235122a0739494dbf8b7a04c2c2e3fc",
              "version_minor": 0,
              "version_major": 2
            },
            "text/plain": [
              "Training: 0it [00:00, ?it/s]"
            ]
          },
          "metadata": {}
        },
        {
          "output_type": "display_data",
          "data": {
            "application/vnd.jupyter.widget-view+json": {
              "model_id": "39e7fcf555d94443a995b55b0096330a",
              "version_minor": 0,
              "version_major": 2
            },
            "text/plain": [
              "Validating: 0it [00:00, ?it/s]"
            ]
          },
          "metadata": {}
        }
      ]
    },
    {
      "cell_type": "code",
      "metadata": {
        "id": "hH06r-7de0ZR"
      },
      "source": [
        "asr_model.save_to('/content/drive/MyDrive/my_model')"
      ],
      "execution_count": 13,
      "outputs": []
    },
    {
      "cell_type": "code",
      "metadata": {
        "id": "_vdRmR9HfdSH"
      },
      "source": [
        "asr_model_test = nemo_asr.models.EncDecCTCModel.restore_from('/content/drive/MyDrive/my_model')"
      ],
      "execution_count": null,
      "outputs": []
    },
    {
      "cell_type": "code",
      "metadata": {
        "id": "ZKCSPSRR1UFd",
        "colab": {
          "base_uri": "https://localhost:8080/"
        },
        "outputId": "17930e59-5558-4c1f-9114-1415674cd375"
      },
      "source": [
        "asr_model_test.cuda()\n",
        "\n",
        "wer_nums = []\n",
        "wer_denoms = []\n",
        "\n",
        "for test_batch in asr_model_test.test_dataloader():\n",
        "        test_batch = [x.cuda() for x in test_batch]\n",
        "        targets = test_batch[2]\n",
        "        targets_lengths = test_batch[3]        \n",
        "        log_probs, encoded_len, greedy_predictions = asr_model_test(\n",
        "            input_signal=test_batch[0], input_signal_length=test_batch[1]\n",
        "        )\n",
        "        asr_model_test._wer.update(greedy_predictions, targets, targets_lengths)\n",
        "        _, wer_num, wer_denom = asr_model_test._wer.compute()\n",
        "        asr_model_test._wer.reset()\n",
        "        wer_nums.append(wer_num.detach().cpu().numpy())\n",
        "        wer_denoms.append(wer_denom.detach().cpu().numpy())\n",
        "\n",
        "        del test_batch, log_probs, targets, targets_lengths, encoded_len, greedy_predictions\n",
        "\n",
        "print(f\"WER = {sum(wer_nums)/sum(wer_denoms)}\")"
      ],
      "execution_count": 15,
      "outputs": [
        {
          "output_type": "stream",
          "name": "stderr",
          "text": [
            "[NeMo W 2021-11-30 15:40:57 nemo_logging:349] /usr/local/lib/python3.7/dist-packages/torch/utils/data/dataloader.py:481: UserWarning: This DataLoader will create 20 worker processes in total. Our suggested max number of worker in current system is 2, which is smaller than what this DataLoader is going to create. Please be aware that excessive worker creation might get DataLoader running slow or even freeze, lower the worker number to avoid potential slowness/freeze if necessary.\n",
            "      cpuset_checked))\n",
            "    \n",
            "[NeMo W 2021-11-30 15:40:59 patch_utils:50] torch.stft() signature has been updated for PyTorch 1.7+\n",
            "    Please update PyTorch to remain compatible with later versions of NeMo.\n",
            "[NeMo W 2021-11-30 15:41:00 nemo_logging:349] /usr/local/lib/python3.7/dist-packages/nemo/collections/asr/parts/submodules/jasper.py:280: UserWarning: __floordiv__ is deprecated, and its behavior will change in a future version of pytorch. It currently rounds toward 0 (like the 'trunc' function NOT 'floor'). This results in incorrect rounding for negative values. To keep the current behavior, use torch.div(a, b, rounding_mode='trunc'), or for actual floor division, use torch.div(a, b, rounding_mode='floor').\n",
            "      ) // self.conv.stride[0] + 1\n",
            "    \n"
          ]
        },
        {
          "output_type": "stream",
          "name": "stdout",
          "text": [
            "WER = 0.5264853256979242\n"
          ]
        }
      ]
    },
    {
      "cell_type": "markdown",
      "metadata": {
        "id": "kpsTDymfg6FT"
      },
      "source": [
        "Здесь получилось 0.526, получше немного. Больше одной эпохи на обучение не хватает мощности. Не хватило даже, чтобы просто потестить, поэтому пришлось сохранять веса модели"
      ]
    }
  ]
}