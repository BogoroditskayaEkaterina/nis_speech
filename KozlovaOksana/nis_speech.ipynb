{
  "nbformat": 4,
  "nbformat_minor": 0,
  "metadata": {
    "colab": {
      "name": "nis_speech.ipynb",
      "provenance": [],
      "collapsed_sections": []
    },
    "kernelspec": {
      "name": "python3",
      "display_name": "Python 3"
    },
    "language_info": {
      "name": "python"
    },
    "accelerator": "GPU",
    "widgets": {
      "application/vnd.jupyter.widget-state+json": {
        "ca8681be0ea848e3a0e27164b21089ba": {
          "model_module": "@jupyter-widgets/controls",
          "model_name": "HBoxModel",
          "model_module_version": "1.5.0",
          "state": {
            "_view_name": "HBoxView",
            "_dom_classes": [],
            "_model_name": "HBoxModel",
            "_view_module": "@jupyter-widgets/controls",
            "_model_module_version": "1.5.0",
            "_view_count": null,
            "_view_module_version": "1.5.0",
            "box_style": "",
            "layout": "IPY_MODEL_b9a0e987e4ec488aafc220df75f6bac2",
            "_model_module": "@jupyter-widgets/controls",
            "children": [
              "IPY_MODEL_d864f4b9305d464b8edbb303d7acabb9",
              "IPY_MODEL_ab778afff0db47dfb872175336587d73",
              "IPY_MODEL_041dc05e91ac437aab358f5c63d060be"
            ]
          }
        },
        "b9a0e987e4ec488aafc220df75f6bac2": {
          "model_module": "@jupyter-widgets/base",
          "model_name": "LayoutModel",
          "model_module_version": "1.2.0",
          "state": {
            "_view_name": "LayoutView",
            "grid_template_rows": null,
            "right": null,
            "justify_content": null,
            "_view_module": "@jupyter-widgets/base",
            "overflow": null,
            "_model_module_version": "1.2.0",
            "_view_count": null,
            "flex_flow": "row wrap",
            "width": "100%",
            "min_width": null,
            "border": null,
            "align_items": null,
            "bottom": null,
            "_model_module": "@jupyter-widgets/base",
            "top": null,
            "grid_column": null,
            "overflow_y": null,
            "overflow_x": null,
            "grid_auto_flow": null,
            "grid_area": null,
            "grid_template_columns": null,
            "flex": null,
            "_model_name": "LayoutModel",
            "justify_items": null,
            "grid_row": null,
            "max_height": null,
            "align_content": null,
            "visibility": null,
            "align_self": null,
            "height": null,
            "min_height": null,
            "padding": null,
            "grid_auto_rows": null,
            "grid_gap": null,
            "max_width": null,
            "order": null,
            "_view_module_version": "1.2.0",
            "grid_template_areas": null,
            "object_position": null,
            "object_fit": null,
            "grid_auto_columns": null,
            "margin": null,
            "display": "inline-flex",
            "left": null
          }
        },
        "d864f4b9305d464b8edbb303d7acabb9": {
          "model_module": "@jupyter-widgets/controls",
          "model_name": "HTMLModel",
          "model_module_version": "1.5.0",
          "state": {
            "_view_name": "HTMLView",
            "style": "IPY_MODEL_ece7643b48bb419f914dcded1527d444",
            "_dom_classes": [],
            "description": "",
            "_model_name": "HTMLModel",
            "placeholder": "​",
            "_view_module": "@jupyter-widgets/controls",
            "_model_module_version": "1.5.0",
            "value": "Validation sanity check:   0%",
            "_view_count": null,
            "_view_module_version": "1.5.0",
            "description_tooltip": null,
            "_model_module": "@jupyter-widgets/controls",
            "layout": "IPY_MODEL_11e6b39a29e8426db0eb39a577670c59"
          }
        },
        "ab778afff0db47dfb872175336587d73": {
          "model_module": "@jupyter-widgets/controls",
          "model_name": "FloatProgressModel",
          "model_module_version": "1.5.0",
          "state": {
            "_view_name": "ProgressView",
            "style": "IPY_MODEL_f0f053083e18401585d8bf10b4533e5a",
            "_dom_classes": [],
            "description": "",
            "_model_name": "FloatProgressModel",
            "bar_style": "danger",
            "max": 2,
            "_view_module": "@jupyter-widgets/controls",
            "_model_module_version": "1.5.0",
            "value": 0,
            "_view_count": null,
            "_view_module_version": "1.5.0",
            "orientation": "horizontal",
            "min": 0,
            "description_tooltip": null,
            "_model_module": "@jupyter-widgets/controls",
            "layout": "IPY_MODEL_56ff40840a5348bba5fb8c23d747d06e"
          }
        },
        "041dc05e91ac437aab358f5c63d060be": {
          "model_module": "@jupyter-widgets/controls",
          "model_name": "HTMLModel",
          "model_module_version": "1.5.0",
          "state": {
            "_view_name": "HTMLView",
            "style": "IPY_MODEL_c3b5d8d045e4474dab4b0e0a9d469e7f",
            "_dom_classes": [],
            "description": "",
            "_model_name": "HTMLModel",
            "placeholder": "​",
            "_view_module": "@jupyter-widgets/controls",
            "_model_module_version": "1.5.0",
            "value": " 0/2 [00:03&lt;?, ?it/s]",
            "_view_count": null,
            "_view_module_version": "1.5.0",
            "description_tooltip": null,
            "_model_module": "@jupyter-widgets/controls",
            "layout": "IPY_MODEL_bb7e96a8c44545d59b7bf7a8a84f6f9f"
          }
        },
        "ece7643b48bb419f914dcded1527d444": {
          "model_module": "@jupyter-widgets/controls",
          "model_name": "DescriptionStyleModel",
          "model_module_version": "1.5.0",
          "state": {
            "_view_name": "StyleView",
            "_model_name": "DescriptionStyleModel",
            "description_width": "",
            "_view_module": "@jupyter-widgets/base",
            "_model_module_version": "1.5.0",
            "_view_count": null,
            "_view_module_version": "1.2.0",
            "_model_module": "@jupyter-widgets/controls"
          }
        },
        "11e6b39a29e8426db0eb39a577670c59": {
          "model_module": "@jupyter-widgets/base",
          "model_name": "LayoutModel",
          "model_module_version": "1.2.0",
          "state": {
            "_view_name": "LayoutView",
            "grid_template_rows": null,
            "right": null,
            "justify_content": null,
            "_view_module": "@jupyter-widgets/base",
            "overflow": null,
            "_model_module_version": "1.2.0",
            "_view_count": null,
            "flex_flow": null,
            "width": null,
            "min_width": null,
            "border": null,
            "align_items": null,
            "bottom": null,
            "_model_module": "@jupyter-widgets/base",
            "top": null,
            "grid_column": null,
            "overflow_y": null,
            "overflow_x": null,
            "grid_auto_flow": null,
            "grid_area": null,
            "grid_template_columns": null,
            "flex": null,
            "_model_name": "LayoutModel",
            "justify_items": null,
            "grid_row": null,
            "max_height": null,
            "align_content": null,
            "visibility": null,
            "align_self": null,
            "height": null,
            "min_height": null,
            "padding": null,
            "grid_auto_rows": null,
            "grid_gap": null,
            "max_width": null,
            "order": null,
            "_view_module_version": "1.2.0",
            "grid_template_areas": null,
            "object_position": null,
            "object_fit": null,
            "grid_auto_columns": null,
            "margin": null,
            "display": null,
            "left": null
          }
        },
        "f0f053083e18401585d8bf10b4533e5a": {
          "model_module": "@jupyter-widgets/controls",
          "model_name": "ProgressStyleModel",
          "model_module_version": "1.5.0",
          "state": {
            "_view_name": "StyleView",
            "_model_name": "ProgressStyleModel",
            "description_width": "",
            "_view_module": "@jupyter-widgets/base",
            "_model_module_version": "1.5.0",
            "_view_count": null,
            "_view_module_version": "1.2.0",
            "bar_color": null,
            "_model_module": "@jupyter-widgets/controls"
          }
        },
        "56ff40840a5348bba5fb8c23d747d06e": {
          "model_module": "@jupyter-widgets/base",
          "model_name": "LayoutModel",
          "model_module_version": "1.2.0",
          "state": {
            "_view_name": "LayoutView",
            "grid_template_rows": null,
            "right": null,
            "justify_content": null,
            "_view_module": "@jupyter-widgets/base",
            "overflow": null,
            "_model_module_version": "1.2.0",
            "_view_count": null,
            "flex_flow": null,
            "width": null,
            "min_width": null,
            "border": null,
            "align_items": null,
            "bottom": null,
            "_model_module": "@jupyter-widgets/base",
            "top": null,
            "grid_column": null,
            "overflow_y": null,
            "overflow_x": null,
            "grid_auto_flow": null,
            "grid_area": null,
            "grid_template_columns": null,
            "flex": "2",
            "_model_name": "LayoutModel",
            "justify_items": null,
            "grid_row": null,
            "max_height": null,
            "align_content": null,
            "visibility": null,
            "align_self": null,
            "height": null,
            "min_height": null,
            "padding": null,
            "grid_auto_rows": null,
            "grid_gap": null,
            "max_width": null,
            "order": null,
            "_view_module_version": "1.2.0",
            "grid_template_areas": null,
            "object_position": null,
            "object_fit": null,
            "grid_auto_columns": null,
            "margin": null,
            "display": null,
            "left": null
          }
        },
        "c3b5d8d045e4474dab4b0e0a9d469e7f": {
          "model_module": "@jupyter-widgets/controls",
          "model_name": "DescriptionStyleModel",
          "model_module_version": "1.5.0",
          "state": {
            "_view_name": "StyleView",
            "_model_name": "DescriptionStyleModel",
            "description_width": "",
            "_view_module": "@jupyter-widgets/base",
            "_model_module_version": "1.5.0",
            "_view_count": null,
            "_view_module_version": "1.2.0",
            "_model_module": "@jupyter-widgets/controls"
          }
        },
        "bb7e96a8c44545d59b7bf7a8a84f6f9f": {
          "model_module": "@jupyter-widgets/base",
          "model_name": "LayoutModel",
          "model_module_version": "1.2.0",
          "state": {
            "_view_name": "LayoutView",
            "grid_template_rows": null,
            "right": null,
            "justify_content": null,
            "_view_module": "@jupyter-widgets/base",
            "overflow": null,
            "_model_module_version": "1.2.0",
            "_view_count": null,
            "flex_flow": null,
            "width": null,
            "min_width": null,
            "border": null,
            "align_items": null,
            "bottom": null,
            "_model_module": "@jupyter-widgets/base",
            "top": null,
            "grid_column": null,
            "overflow_y": null,
            "overflow_x": null,
            "grid_auto_flow": null,
            "grid_area": null,
            "grid_template_columns": null,
            "flex": null,
            "_model_name": "LayoutModel",
            "justify_items": null,
            "grid_row": null,
            "max_height": null,
            "align_content": null,
            "visibility": null,
            "align_self": null,
            "height": null,
            "min_height": null,
            "padding": null,
            "grid_auto_rows": null,
            "grid_gap": null,
            "max_width": null,
            "order": null,
            "_view_module_version": "1.2.0",
            "grid_template_areas": null,
            "object_position": null,
            "object_fit": null,
            "grid_auto_columns": null,
            "margin": null,
            "display": null,
            "left": null
          }
        },
        "9a71793a8ba54905864d3c0fe4097943": {
          "model_module": "@jupyter-widgets/controls",
          "model_name": "HBoxModel",
          "model_module_version": "1.5.0",
          "state": {
            "_view_name": "HBoxView",
            "_dom_classes": [],
            "_model_name": "HBoxModel",
            "_view_module": "@jupyter-widgets/controls",
            "_model_module_version": "1.5.0",
            "_view_count": null,
            "_view_module_version": "1.5.0",
            "box_style": "",
            "layout": "IPY_MODEL_f181abb15d1e4ddcab88c1d3823f3670",
            "_model_module": "@jupyter-widgets/controls",
            "children": [
              "IPY_MODEL_e02ff349b73f48028321c61850708dbb",
              "IPY_MODEL_f214a762754740af812a203771f92370",
              "IPY_MODEL_dfdf47180c7941b7835e86ce81ec58cb"
            ]
          }
        },
        "f181abb15d1e4ddcab88c1d3823f3670": {
          "model_module": "@jupyter-widgets/base",
          "model_name": "LayoutModel",
          "model_module_version": "1.2.0",
          "state": {
            "_view_name": "LayoutView",
            "grid_template_rows": null,
            "right": null,
            "justify_content": null,
            "_view_module": "@jupyter-widgets/base",
            "overflow": null,
            "_model_module_version": "1.2.0",
            "_view_count": null,
            "flex_flow": "row wrap",
            "width": "100%",
            "min_width": null,
            "border": null,
            "align_items": null,
            "bottom": null,
            "_model_module": "@jupyter-widgets/base",
            "top": null,
            "grid_column": null,
            "overflow_y": null,
            "overflow_x": null,
            "grid_auto_flow": null,
            "grid_area": null,
            "grid_template_columns": null,
            "flex": null,
            "_model_name": "LayoutModel",
            "justify_items": null,
            "grid_row": null,
            "max_height": null,
            "align_content": null,
            "visibility": null,
            "align_self": null,
            "height": null,
            "min_height": null,
            "padding": null,
            "grid_auto_rows": null,
            "grid_gap": null,
            "max_width": null,
            "order": null,
            "_view_module_version": "1.2.0",
            "grid_template_areas": null,
            "object_position": null,
            "object_fit": null,
            "grid_auto_columns": null,
            "margin": null,
            "display": "inline-flex",
            "left": null
          }
        },
        "e02ff349b73f48028321c61850708dbb": {
          "model_module": "@jupyter-widgets/controls",
          "model_name": "HTMLModel",
          "model_module_version": "1.5.0",
          "state": {
            "_view_name": "HTMLView",
            "style": "IPY_MODEL_88c1a091e5984f728ec3b6f5b8552a17",
            "_dom_classes": [],
            "description": "",
            "_model_name": "HTMLModel",
            "placeholder": "​",
            "_view_module": "@jupyter-widgets/controls",
            "_model_module_version": "1.5.0",
            "value": "Epoch 0: 100%",
            "_view_count": null,
            "_view_module_version": "1.5.0",
            "description_tooltip": null,
            "_model_module": "@jupyter-widgets/controls",
            "layout": "IPY_MODEL_6af394393523410496acdb853b0018cb"
          }
        },
        "f214a762754740af812a203771f92370": {
          "model_module": "@jupyter-widgets/controls",
          "model_name": "FloatProgressModel",
          "model_module_version": "1.5.0",
          "state": {
            "_view_name": "ProgressView",
            "style": "IPY_MODEL_4f0e7350cb9543d584e423fc2acfab69",
            "_dom_classes": [],
            "description": "",
            "_model_name": "FloatProgressModel",
            "bar_style": "success",
            "max": 2058,
            "_view_module": "@jupyter-widgets/controls",
            "_model_module_version": "1.5.0",
            "value": 2058,
            "_view_count": null,
            "_view_module_version": "1.5.0",
            "orientation": "horizontal",
            "min": 0,
            "description_tooltip": null,
            "_model_module": "@jupyter-widgets/controls",
            "layout": "IPY_MODEL_0ba5db45bff948c686870d735d3a560c"
          }
        },
        "dfdf47180c7941b7835e86ce81ec58cb": {
          "model_module": "@jupyter-widgets/controls",
          "model_name": "HTMLModel",
          "model_module_version": "1.5.0",
          "state": {
            "_view_name": "HTMLView",
            "style": "IPY_MODEL_309b4dba344d4088b244b0b03b66a0b5",
            "_dom_classes": [],
            "description": "",
            "_model_name": "HTMLModel",
            "placeholder": "​",
            "_view_module": "@jupyter-widgets/controls",
            "_model_module_version": "1.5.0",
            "value": " 2058/2058 [1:04:46&lt;00:00,  1.89s/it, loss=3.29, v_num=2]",
            "_view_count": null,
            "_view_module_version": "1.5.0",
            "description_tooltip": null,
            "_model_module": "@jupyter-widgets/controls",
            "layout": "IPY_MODEL_e37ef3914a284c7ca034522968509e5d"
          }
        },
        "88c1a091e5984f728ec3b6f5b8552a17": {
          "model_module": "@jupyter-widgets/controls",
          "model_name": "DescriptionStyleModel",
          "model_module_version": "1.5.0",
          "state": {
            "_view_name": "StyleView",
            "_model_name": "DescriptionStyleModel",
            "description_width": "",
            "_view_module": "@jupyter-widgets/base",
            "_model_module_version": "1.5.0",
            "_view_count": null,
            "_view_module_version": "1.2.0",
            "_model_module": "@jupyter-widgets/controls"
          }
        },
        "6af394393523410496acdb853b0018cb": {
          "model_module": "@jupyter-widgets/base",
          "model_name": "LayoutModel",
          "model_module_version": "1.2.0",
          "state": {
            "_view_name": "LayoutView",
            "grid_template_rows": null,
            "right": null,
            "justify_content": null,
            "_view_module": "@jupyter-widgets/base",
            "overflow": null,
            "_model_module_version": "1.2.0",
            "_view_count": null,
            "flex_flow": null,
            "width": null,
            "min_width": null,
            "border": null,
            "align_items": null,
            "bottom": null,
            "_model_module": "@jupyter-widgets/base",
            "top": null,
            "grid_column": null,
            "overflow_y": null,
            "overflow_x": null,
            "grid_auto_flow": null,
            "grid_area": null,
            "grid_template_columns": null,
            "flex": null,
            "_model_name": "LayoutModel",
            "justify_items": null,
            "grid_row": null,
            "max_height": null,
            "align_content": null,
            "visibility": null,
            "align_self": null,
            "height": null,
            "min_height": null,
            "padding": null,
            "grid_auto_rows": null,
            "grid_gap": null,
            "max_width": null,
            "order": null,
            "_view_module_version": "1.2.0",
            "grid_template_areas": null,
            "object_position": null,
            "object_fit": null,
            "grid_auto_columns": null,
            "margin": null,
            "display": null,
            "left": null
          }
        },
        "4f0e7350cb9543d584e423fc2acfab69": {
          "model_module": "@jupyter-widgets/controls",
          "model_name": "ProgressStyleModel",
          "model_module_version": "1.5.0",
          "state": {
            "_view_name": "StyleView",
            "_model_name": "ProgressStyleModel",
            "description_width": "",
            "_view_module": "@jupyter-widgets/base",
            "_model_module_version": "1.5.0",
            "_view_count": null,
            "_view_module_version": "1.2.0",
            "bar_color": null,
            "_model_module": "@jupyter-widgets/controls"
          }
        },
        "0ba5db45bff948c686870d735d3a560c": {
          "model_module": "@jupyter-widgets/base",
          "model_name": "LayoutModel",
          "model_module_version": "1.2.0",
          "state": {
            "_view_name": "LayoutView",
            "grid_template_rows": null,
            "right": null,
            "justify_content": null,
            "_view_module": "@jupyter-widgets/base",
            "overflow": null,
            "_model_module_version": "1.2.0",
            "_view_count": null,
            "flex_flow": null,
            "width": null,
            "min_width": null,
            "border": null,
            "align_items": null,
            "bottom": null,
            "_model_module": "@jupyter-widgets/base",
            "top": null,
            "grid_column": null,
            "overflow_y": null,
            "overflow_x": null,
            "grid_auto_flow": null,
            "grid_area": null,
            "grid_template_columns": null,
            "flex": "2",
            "_model_name": "LayoutModel",
            "justify_items": null,
            "grid_row": null,
            "max_height": null,
            "align_content": null,
            "visibility": null,
            "align_self": null,
            "height": null,
            "min_height": null,
            "padding": null,
            "grid_auto_rows": null,
            "grid_gap": null,
            "max_width": null,
            "order": null,
            "_view_module_version": "1.2.0",
            "grid_template_areas": null,
            "object_position": null,
            "object_fit": null,
            "grid_auto_columns": null,
            "margin": null,
            "display": null,
            "left": null
          }
        },
        "309b4dba344d4088b244b0b03b66a0b5": {
          "model_module": "@jupyter-widgets/controls",
          "model_name": "DescriptionStyleModel",
          "model_module_version": "1.5.0",
          "state": {
            "_view_name": "StyleView",
            "_model_name": "DescriptionStyleModel",
            "description_width": "",
            "_view_module": "@jupyter-widgets/base",
            "_model_module_version": "1.5.0",
            "_view_count": null,
            "_view_module_version": "1.2.0",
            "_model_module": "@jupyter-widgets/controls"
          }
        },
        "e37ef3914a284c7ca034522968509e5d": {
          "model_module": "@jupyter-widgets/base",
          "model_name": "LayoutModel",
          "model_module_version": "1.2.0",
          "state": {
            "_view_name": "LayoutView",
            "grid_template_rows": null,
            "right": null,
            "justify_content": null,
            "_view_module": "@jupyter-widgets/base",
            "overflow": null,
            "_model_module_version": "1.2.0",
            "_view_count": null,
            "flex_flow": null,
            "width": null,
            "min_width": null,
            "border": null,
            "align_items": null,
            "bottom": null,
            "_model_module": "@jupyter-widgets/base",
            "top": null,
            "grid_column": null,
            "overflow_y": null,
            "overflow_x": null,
            "grid_auto_flow": null,
            "grid_area": null,
            "grid_template_columns": null,
            "flex": null,
            "_model_name": "LayoutModel",
            "justify_items": null,
            "grid_row": null,
            "max_height": null,
            "align_content": null,
            "visibility": null,
            "align_self": null,
            "height": null,
            "min_height": null,
            "padding": null,
            "grid_auto_rows": null,
            "grid_gap": null,
            "max_width": null,
            "order": null,
            "_view_module_version": "1.2.0",
            "grid_template_areas": null,
            "object_position": null,
            "object_fit": null,
            "grid_auto_columns": null,
            "margin": null,
            "display": null,
            "left": null
          }
        },
        "d97583319116412c9d4a575e2223ac44": {
          "model_module": "@jupyter-widgets/controls",
          "model_name": "HBoxModel",
          "model_module_version": "1.5.0",
          "state": {
            "_view_name": "HBoxView",
            "_dom_classes": [],
            "_model_name": "HBoxModel",
            "_view_module": "@jupyter-widgets/controls",
            "_model_module_version": "1.5.0",
            "_view_count": null,
            "_view_module_version": "1.5.0",
            "box_style": "",
            "layout": "IPY_MODEL_16999141548c4fad94210f2b53974afe",
            "_model_module": "@jupyter-widgets/controls",
            "children": [
              "IPY_MODEL_09cc2f5726384bad8bd6a2ddb6c90ff2",
              "IPY_MODEL_cf6ba1b217664548887d977ba350c806",
              "IPY_MODEL_5cdc86cb909947009ed9faa58c55d140"
            ]
          }
        },
        "16999141548c4fad94210f2b53974afe": {
          "model_module": "@jupyter-widgets/base",
          "model_name": "LayoutModel",
          "model_module_version": "1.2.0",
          "state": {
            "_view_name": "LayoutView",
            "grid_template_rows": null,
            "right": null,
            "justify_content": null,
            "_view_module": "@jupyter-widgets/base",
            "overflow": null,
            "_model_module_version": "1.2.0",
            "_view_count": null,
            "flex_flow": "row wrap",
            "width": "100%",
            "min_width": null,
            "border": null,
            "align_items": null,
            "bottom": null,
            "_model_module": "@jupyter-widgets/base",
            "top": null,
            "grid_column": null,
            "overflow_y": null,
            "overflow_x": null,
            "grid_auto_flow": null,
            "grid_area": null,
            "grid_template_columns": null,
            "flex": null,
            "_model_name": "LayoutModel",
            "justify_items": null,
            "grid_row": null,
            "max_height": null,
            "align_content": null,
            "visibility": null,
            "align_self": null,
            "height": null,
            "min_height": null,
            "padding": null,
            "grid_auto_rows": null,
            "grid_gap": null,
            "max_width": null,
            "order": null,
            "_view_module_version": "1.2.0",
            "grid_template_areas": null,
            "object_position": null,
            "object_fit": null,
            "grid_auto_columns": null,
            "margin": null,
            "display": "inline-flex",
            "left": null
          }
        },
        "09cc2f5726384bad8bd6a2ddb6c90ff2": {
          "model_module": "@jupyter-widgets/controls",
          "model_name": "HTMLModel",
          "model_module_version": "1.5.0",
          "state": {
            "_view_name": "HTMLView",
            "style": "IPY_MODEL_ea757e81f518451f94de43aaf2a052d9",
            "_dom_classes": [],
            "description": "",
            "_model_name": "HTMLModel",
            "placeholder": "​",
            "_view_module": "@jupyter-widgets/controls",
            "_model_module_version": "1.5.0",
            "value": "Validating: 100%",
            "_view_count": null,
            "_view_module_version": "1.5.0",
            "description_tooltip": null,
            "_model_module": "@jupyter-widgets/controls",
            "layout": "IPY_MODEL_a1a3887adc2b4ecfa02d2410648f6b38"
          }
        },
        "cf6ba1b217664548887d977ba350c806": {
          "model_module": "@jupyter-widgets/controls",
          "model_name": "FloatProgressModel",
          "model_module_version": "1.5.0",
          "state": {
            "_view_name": "ProgressView",
            "style": "IPY_MODEL_86cf2ffe0fb54c1aa4d528fc5848b097",
            "_dom_classes": [],
            "description": "",
            "_model_name": "FloatProgressModel",
            "bar_style": "",
            "max": 120,
            "_view_module": "@jupyter-widgets/controls",
            "_model_module_version": "1.5.0",
            "value": 120,
            "_view_count": null,
            "_view_module_version": "1.5.0",
            "orientation": "horizontal",
            "min": 0,
            "description_tooltip": null,
            "_model_module": "@jupyter-widgets/controls",
            "layout": "IPY_MODEL_dfcffd3ba13d4f458ce7e115c9e924b8"
          }
        },
        "5cdc86cb909947009ed9faa58c55d140": {
          "model_module": "@jupyter-widgets/controls",
          "model_name": "HTMLModel",
          "model_module_version": "1.5.0",
          "state": {
            "_view_name": "HTMLView",
            "style": "IPY_MODEL_6df2ea5c9b2b4d728f32559a15759be3",
            "_dom_classes": [],
            "description": "",
            "_model_name": "HTMLModel",
            "placeholder": "​",
            "_view_module": "@jupyter-widgets/controls",
            "_model_module_version": "1.5.0",
            "value": " 120/120 [00:41&lt;00:00,  3.02it/s]",
            "_view_count": null,
            "_view_module_version": "1.5.0",
            "description_tooltip": null,
            "_model_module": "@jupyter-widgets/controls",
            "layout": "IPY_MODEL_f19b4b65bcda4c7cb8e0b1a4b0491deb"
          }
        },
        "ea757e81f518451f94de43aaf2a052d9": {
          "model_module": "@jupyter-widgets/controls",
          "model_name": "DescriptionStyleModel",
          "model_module_version": "1.5.0",
          "state": {
            "_view_name": "StyleView",
            "_model_name": "DescriptionStyleModel",
            "description_width": "",
            "_view_module": "@jupyter-widgets/base",
            "_model_module_version": "1.5.0",
            "_view_count": null,
            "_view_module_version": "1.2.0",
            "_model_module": "@jupyter-widgets/controls"
          }
        },
        "a1a3887adc2b4ecfa02d2410648f6b38": {
          "model_module": "@jupyter-widgets/base",
          "model_name": "LayoutModel",
          "model_module_version": "1.2.0",
          "state": {
            "_view_name": "LayoutView",
            "grid_template_rows": null,
            "right": null,
            "justify_content": null,
            "_view_module": "@jupyter-widgets/base",
            "overflow": null,
            "_model_module_version": "1.2.0",
            "_view_count": null,
            "flex_flow": null,
            "width": null,
            "min_width": null,
            "border": null,
            "align_items": null,
            "bottom": null,
            "_model_module": "@jupyter-widgets/base",
            "top": null,
            "grid_column": null,
            "overflow_y": null,
            "overflow_x": null,
            "grid_auto_flow": null,
            "grid_area": null,
            "grid_template_columns": null,
            "flex": null,
            "_model_name": "LayoutModel",
            "justify_items": null,
            "grid_row": null,
            "max_height": null,
            "align_content": null,
            "visibility": null,
            "align_self": null,
            "height": null,
            "min_height": null,
            "padding": null,
            "grid_auto_rows": null,
            "grid_gap": null,
            "max_width": null,
            "order": null,
            "_view_module_version": "1.2.0",
            "grid_template_areas": null,
            "object_position": null,
            "object_fit": null,
            "grid_auto_columns": null,
            "margin": null,
            "display": null,
            "left": null
          }
        },
        "86cf2ffe0fb54c1aa4d528fc5848b097": {
          "model_module": "@jupyter-widgets/controls",
          "model_name": "ProgressStyleModel",
          "model_module_version": "1.5.0",
          "state": {
            "_view_name": "StyleView",
            "_model_name": "ProgressStyleModel",
            "description_width": "",
            "_view_module": "@jupyter-widgets/base",
            "_model_module_version": "1.5.0",
            "_view_count": null,
            "_view_module_version": "1.2.0",
            "bar_color": null,
            "_model_module": "@jupyter-widgets/controls"
          }
        },
        "dfcffd3ba13d4f458ce7e115c9e924b8": {
          "model_module": "@jupyter-widgets/base",
          "model_name": "LayoutModel",
          "model_module_version": "1.2.0",
          "state": {
            "_view_name": "LayoutView",
            "grid_template_rows": null,
            "right": null,
            "justify_content": null,
            "_view_module": "@jupyter-widgets/base",
            "overflow": null,
            "_model_module_version": "1.2.0",
            "_view_count": null,
            "flex_flow": null,
            "width": null,
            "min_width": null,
            "border": null,
            "align_items": null,
            "bottom": null,
            "_model_module": "@jupyter-widgets/base",
            "top": null,
            "grid_column": null,
            "overflow_y": null,
            "overflow_x": null,
            "grid_auto_flow": null,
            "grid_area": null,
            "grid_template_columns": null,
            "flex": "2",
            "_model_name": "LayoutModel",
            "justify_items": null,
            "grid_row": null,
            "max_height": null,
            "align_content": null,
            "visibility": null,
            "align_self": null,
            "height": null,
            "min_height": null,
            "padding": null,
            "grid_auto_rows": null,
            "grid_gap": null,
            "max_width": null,
            "order": null,
            "_view_module_version": "1.2.0",
            "grid_template_areas": null,
            "object_position": null,
            "object_fit": null,
            "grid_auto_columns": null,
            "margin": null,
            "display": null,
            "left": null
          }
        },
        "6df2ea5c9b2b4d728f32559a15759be3": {
          "model_module": "@jupyter-widgets/controls",
          "model_name": "DescriptionStyleModel",
          "model_module_version": "1.5.0",
          "state": {
            "_view_name": "StyleView",
            "_model_name": "DescriptionStyleModel",
            "description_width": "",
            "_view_module": "@jupyter-widgets/base",
            "_model_module_version": "1.5.0",
            "_view_count": null,
            "_view_module_version": "1.2.0",
            "_model_module": "@jupyter-widgets/controls"
          }
        },
        "f19b4b65bcda4c7cb8e0b1a4b0491deb": {
          "model_module": "@jupyter-widgets/base",
          "model_name": "LayoutModel",
          "model_module_version": "1.2.0",
          "state": {
            "_view_name": "LayoutView",
            "grid_template_rows": null,
            "right": null,
            "justify_content": null,
            "_view_module": "@jupyter-widgets/base",
            "overflow": null,
            "_model_module_version": "1.2.0",
            "_view_count": null,
            "flex_flow": null,
            "width": null,
            "min_width": null,
            "border": null,
            "align_items": null,
            "bottom": null,
            "_model_module": "@jupyter-widgets/base",
            "top": null,
            "grid_column": null,
            "overflow_y": null,
            "overflow_x": null,
            "grid_auto_flow": null,
            "grid_area": null,
            "grid_template_columns": null,
            "flex": null,
            "_model_name": "LayoutModel",
            "justify_items": null,
            "grid_row": null,
            "max_height": null,
            "align_content": null,
            "visibility": null,
            "align_self": null,
            "height": null,
            "min_height": null,
            "padding": null,
            "grid_auto_rows": null,
            "grid_gap": null,
            "max_width": null,
            "order": null,
            "_view_module_version": "1.2.0",
            "grid_template_areas": null,
            "object_position": null,
            "object_fit": null,
            "grid_auto_columns": null,
            "margin": null,
            "display": null,
            "left": null
          }
        }
      }
    }
  },
  "cells": [
    {
      "cell_type": "code",
      "metadata": {
        "colab": {
          "base_uri": "https://localhost:8080/"
        },
        "id": "yzOYX0z-2aXH",
        "outputId": "ed76ce18-9dbb-4027-82b2-617dccea4f6f"
      },
      "source": [
        "from google.colab import drive\n",
        "drive.mount('/content/drive')"
      ],
      "execution_count": null,
      "outputs": [
        {
          "output_type": "stream",
          "name": "stdout",
          "text": [
            "Drive already mounted at /content/drive; to attempt to forcibly remount, call drive.mount(\"/content/drive\", force_remount=True).\n"
          ]
        }
      ]
    },
    {
      "cell_type": "code",
      "metadata": {
        "id": "qxjd0r_KT3u_"
      },
      "source": [
        "drive.flush_and_unmount()"
      ],
      "execution_count": null,
      "outputs": []
    },
    {
      "cell_type": "code",
      "metadata": {
        "colab": {
          "base_uri": "https://localhost:8080/"
        },
        "id": "M27WBU_OzPNy",
        "outputId": "ab0f3cd9-4b0f-4dea-bd27-43d2b4d0238d"
      },
      "source": [
        "# If you're using Google Colab and not running locally, run this cell.\n",
        "\n",
        "## Install dependencies\n",
        "!pip install wget\n",
        "!apt-get install sox libsndfile1 ffmpeg\n",
        "!pip install unidecode\n",
        "\n",
        "\n",
        "## Install NeMo\n",
        "!python -m pip install nemo_toolkit[all]\n",
        "\n",
        "# !pip install torchtext==0.10.1\n",
        "# !pip install matplotlib==3.1.3\n",
        "\"\"\"\n",
        "Remember to restart the runtime for the kernel to pick up any upgraded packages (e.g. matplotlib)!\n",
        "Alternatively, you can uncomment the exit() below to crash and restart the kernel, in the case\n",
        "that you want to use the \"Run All Cells\" (or similar) option.\n",
        "\"\"\"\n",
        "exit()"
      ],
      "execution_count": null,
      "outputs": [
        {
          "output_type": "stream",
          "name": "stdout",
          "text": [
            "Collecting wget\n",
            "  Downloading wget-3.2.zip (10 kB)\n",
            "Building wheels for collected packages: wget\n",
            "  Building wheel for wget (setup.py) ... \u001b[?25l\u001b[?25hdone\n",
            "  Created wheel for wget: filename=wget-3.2-py3-none-any.whl size=9672 sha256=ae8ee08c528d3636331bb455ddf9e95fdddc9aee2dc20c5cb9ac2559e2a2f061\n",
            "  Stored in directory: /root/.cache/pip/wheels/a1/b6/7c/0e63e34eb06634181c63adacca38b79ff8f35c37e3c13e3c02\n",
            "Successfully built wget\n",
            "Installing collected packages: wget\n",
            "Successfully installed wget-3.2\n",
            "Reading package lists... Done\n",
            "Building dependency tree       \n",
            "Reading state information... Done\n",
            "libsndfile1 is already the newest version (1.0.28-4ubuntu0.18.04.2).\n",
            "ffmpeg is already the newest version (7:3.4.8-0ubuntu0.2).\n",
            "The following additional packages will be installed:\n",
            "  libmagic-mgc libmagic1 libopencore-amrnb0 libopencore-amrwb0 libsox-fmt-alsa\n",
            "  libsox-fmt-base libsox3\n",
            "Suggested packages:\n",
            "  file libsox-fmt-all\n",
            "The following NEW packages will be installed:\n",
            "  libmagic-mgc libmagic1 libopencore-amrnb0 libopencore-amrwb0 libsox-fmt-alsa\n",
            "  libsox-fmt-base libsox3 sox\n",
            "0 upgraded, 8 newly installed, 0 to remove and 37 not upgraded.\n",
            "Need to get 760 kB of archives.\n",
            "After this operation, 6,717 kB of additional disk space will be used.\n",
            "Get:1 http://archive.ubuntu.com/ubuntu bionic/universe amd64 libopencore-amrnb0 amd64 0.1.3-2.1 [92.0 kB]\n",
            "Get:2 http://archive.ubuntu.com/ubuntu bionic/universe amd64 libopencore-amrwb0 amd64 0.1.3-2.1 [45.8 kB]\n",
            "Get:3 http://archive.ubuntu.com/ubuntu bionic-updates/main amd64 libmagic-mgc amd64 1:5.32-2ubuntu0.4 [184 kB]\n",
            "Get:4 http://archive.ubuntu.com/ubuntu bionic-updates/main amd64 libmagic1 amd64 1:5.32-2ubuntu0.4 [68.6 kB]\n",
            "Get:5 http://archive.ubuntu.com/ubuntu bionic-updates/universe amd64 libsox3 amd64 14.4.2-3ubuntu0.18.04.1 [226 kB]\n",
            "Get:6 http://archive.ubuntu.com/ubuntu bionic-updates/universe amd64 libsox-fmt-alsa amd64 14.4.2-3ubuntu0.18.04.1 [10.6 kB]\n",
            "Get:7 http://archive.ubuntu.com/ubuntu bionic-updates/universe amd64 libsox-fmt-base amd64 14.4.2-3ubuntu0.18.04.1 [32.1 kB]\n",
            "Get:8 http://archive.ubuntu.com/ubuntu bionic-updates/universe amd64 sox amd64 14.4.2-3ubuntu0.18.04.1 [101 kB]\n",
            "Fetched 760 kB in 1s (792 kB/s)\n",
            "Selecting previously unselected package libopencore-amrnb0:amd64.\n",
            "(Reading database ... 155222 files and directories currently installed.)\n",
            "Preparing to unpack .../0-libopencore-amrnb0_0.1.3-2.1_amd64.deb ...\n",
            "Unpacking libopencore-amrnb0:amd64 (0.1.3-2.1) ...\n",
            "Selecting previously unselected package libopencore-amrwb0:amd64.\n",
            "Preparing to unpack .../1-libopencore-amrwb0_0.1.3-2.1_amd64.deb ...\n",
            "Unpacking libopencore-amrwb0:amd64 (0.1.3-2.1) ...\n",
            "Selecting previously unselected package libmagic-mgc.\n",
            "Preparing to unpack .../2-libmagic-mgc_1%3a5.32-2ubuntu0.4_amd64.deb ...\n",
            "Unpacking libmagic-mgc (1:5.32-2ubuntu0.4) ...\n",
            "Selecting previously unselected package libmagic1:amd64.\n",
            "Preparing to unpack .../3-libmagic1_1%3a5.32-2ubuntu0.4_amd64.deb ...\n",
            "Unpacking libmagic1:amd64 (1:5.32-2ubuntu0.4) ...\n",
            "Selecting previously unselected package libsox3:amd64.\n",
            "Preparing to unpack .../4-libsox3_14.4.2-3ubuntu0.18.04.1_amd64.deb ...\n",
            "Unpacking libsox3:amd64 (14.4.2-3ubuntu0.18.04.1) ...\n",
            "Selecting previously unselected package libsox-fmt-alsa:amd64.\n",
            "Preparing to unpack .../5-libsox-fmt-alsa_14.4.2-3ubuntu0.18.04.1_amd64.deb ...\n",
            "Unpacking libsox-fmt-alsa:amd64 (14.4.2-3ubuntu0.18.04.1) ...\n",
            "Selecting previously unselected package libsox-fmt-base:amd64.\n",
            "Preparing to unpack .../6-libsox-fmt-base_14.4.2-3ubuntu0.18.04.1_amd64.deb ...\n",
            "Unpacking libsox-fmt-base:amd64 (14.4.2-3ubuntu0.18.04.1) ...\n",
            "Selecting previously unselected package sox.\n",
            "Preparing to unpack .../7-sox_14.4.2-3ubuntu0.18.04.1_amd64.deb ...\n",
            "Unpacking sox (14.4.2-3ubuntu0.18.04.1) ...\n",
            "Setting up libmagic-mgc (1:5.32-2ubuntu0.4) ...\n",
            "Setting up libmagic1:amd64 (1:5.32-2ubuntu0.4) ...\n",
            "Setting up libopencore-amrnb0:amd64 (0.1.3-2.1) ...\n",
            "Setting up libopencore-amrwb0:amd64 (0.1.3-2.1) ...\n",
            "Setting up libsox3:amd64 (14.4.2-3ubuntu0.18.04.1) ...\n",
            "Setting up libsox-fmt-base:amd64 (14.4.2-3ubuntu0.18.04.1) ...\n",
            "Setting up libsox-fmt-alsa:amd64 (14.4.2-3ubuntu0.18.04.1) ...\n",
            "Setting up sox (14.4.2-3ubuntu0.18.04.1) ...\n",
            "Processing triggers for libc-bin (2.27-3ubuntu1.3) ...\n",
            "/sbin/ldconfig.real: /usr/local/lib/python3.7/dist-packages/ideep4py/lib/libmkldnn.so.0 is not a symbolic link\n",
            "\n",
            "Processing triggers for man-db (2.8.3-2ubuntu0.1) ...\n",
            "Processing triggers for mime-support (3.60ubuntu1) ...\n",
            "Collecting unidecode\n",
            "  Downloading Unidecode-1.3.2-py3-none-any.whl (235 kB)\n",
            "\u001b[K     |████████████████████████████████| 235 kB 5.3 MB/s \n",
            "\u001b[?25hInstalling collected packages: unidecode\n",
            "Successfully installed unidecode-1.3.2\n",
            "Collecting nemo_toolkit[all]\n",
            "  Downloading nemo_toolkit-1.5.0-py3-none-any.whl (2.7 MB)\n",
            "\u001b[K     |████████████████████████████████| 2.7 MB 5.2 MB/s \n",
            "\u001b[?25hRequirement already satisfied: wrapt in /usr/local/lib/python3.7/dist-packages (from nemo_toolkit[all]) (1.13.3)\n",
            "Requirement already satisfied: torch in /usr/local/lib/python3.7/dist-packages (from nemo_toolkit[all]) (1.10.0+cu111)\n",
            "Requirement already satisfied: tqdm>=4.41.0 in /usr/local/lib/python3.7/dist-packages (from nemo_toolkit[all]) (4.62.3)\n",
            "Requirement already satisfied: wget in /usr/local/lib/python3.7/dist-packages (from nemo_toolkit[all]) (3.2)\n",
            "Collecting ruamel.yaml\n",
            "  Downloading ruamel.yaml-0.17.17-py3-none-any.whl (109 kB)\n",
            "\u001b[K     |████████████████████████████████| 109 kB 51.0 MB/s \n",
            "\u001b[?25hCollecting sentencepiece<1.0.0\n",
            "  Downloading sentencepiece-0.1.96-cp37-cp37m-manylinux_2_17_x86_64.manylinux2014_x86_64.whl (1.2 MB)\n",
            "\u001b[K     |████████████████████████████████| 1.2 MB 38.7 MB/s \n",
            "\u001b[?25hRequirement already satisfied: scikit-learn in /usr/local/lib/python3.7/dist-packages (from nemo_toolkit[all]) (1.0.1)\n",
            "Collecting onnx>=1.7.0\n",
            "  Downloading onnx-1.10.2-cp37-cp37m-manylinux_2_12_x86_64.manylinux2010_x86_64.whl (12.7 MB)\n",
            "\u001b[K     |████████████████████████████████| 12.7 MB 12.1 MB/s \n",
            "\u001b[?25hRequirement already satisfied: numpy>=1.18.2 in /usr/local/lib/python3.7/dist-packages (from nemo_toolkit[all]) (1.19.5)\n",
            "Requirement already satisfied: numba in /usr/local/lib/python3.7/dist-packages (from nemo_toolkit[all]) (0.51.2)\n",
            "Requirement already satisfied: python-dateutil in /usr/local/lib/python3.7/dist-packages (from nemo_toolkit[all]) (2.8.2)\n",
            "Requirement already satisfied: unidecode in /usr/local/lib/python3.7/dist-packages (from nemo_toolkit[all]) (1.3.2)\n",
            "Collecting frozendict\n",
            "  Downloading frozendict-2.1.1-py3-none-any.whl (12 kB)\n",
            "Collecting kaldiio\n",
            "  Downloading kaldiio-2.17.2.tar.gz (24 kB)\n",
            "Collecting sacrebleu[ja]\n",
            "  Downloading sacrebleu-2.0.0-py3-none-any.whl (90 kB)\n",
            "\u001b[K     |████████████████████████████████| 90 kB 9.3 MB/s \n",
            "\u001b[?25hCollecting pytorch-lightning>=1.5.0\n",
            "  Downloading pytorch_lightning-1.5.3-py3-none-any.whl (523 kB)\n",
            "\u001b[K     |████████████████████████████████| 523 kB 40.5 MB/s \n",
            "\u001b[?25hRequirement already satisfied: packaging in /usr/local/lib/python3.7/dist-packages (from nemo_toolkit[all]) (21.3)\n",
            "Requirement already satisfied: nltk in /usr/local/lib/python3.7/dist-packages (from nemo_toolkit[all]) (3.2.5)\n",
            "Requirement already satisfied: scipy in /usr/local/lib/python3.7/dist-packages (from nemo_toolkit[all]) (1.4.1)\n",
            "Requirement already satisfied: editdistance in /usr/local/lib/python3.7/dist-packages (from nemo_toolkit[all]) (0.5.3)\n",
            "Collecting kaldi-python-io\n",
            "  Downloading kaldi-python-io-1.2.2.tar.gz (8.8 kB)\n",
            "Collecting sphinxcontrib-bibtex\n",
            "  Downloading sphinxcontrib_bibtex-2.4.1-py3-none-any.whl (38 kB)\n",
            "Requirement already satisfied: pandas in /usr/local/lib/python3.7/dist-packages (from nemo_toolkit[all]) (1.1.5)\n",
            "Collecting braceexpand\n",
            "  Downloading braceexpand-0.1.7-py2.py3-none-any.whl (5.9 kB)\n",
            "Collecting parameterized\n",
            "  Downloading parameterized-0.8.1-py2.py3-none-any.whl (26 kB)\n",
            "Requirement already satisfied: inflect in /usr/local/lib/python3.7/dist-packages (from nemo_toolkit[all]) (2.1.0)\n",
            "Collecting omegaconf>=2.1.0\n",
            "  Downloading omegaconf-2.1.1-py3-none-any.whl (74 kB)\n",
            "\u001b[K     |████████████████████████████████| 74 kB 3.4 MB/s \n",
            "\u001b[?25hCollecting attrdict\n",
            "  Downloading attrdict-2.0.1-py2.py3-none-any.whl (9.9 kB)\n",
            "Requirement already satisfied: sphinx in /usr/local/lib/python3.7/dist-packages (from nemo_toolkit[all]) (1.8.6)\n",
            "Collecting boto3\n",
            "  Downloading boto3-1.20.16-py3-none-any.whl (131 kB)\n",
            "\u001b[K     |████████████████████████████████| 131 kB 44.9 MB/s \n",
            "\u001b[?25hCollecting pesq\n",
            "  Downloading pesq-0.0.3.tar.gz (35 kB)\n",
            "Collecting black==19.10b0\n",
            "  Downloading black-19.10b0-py36-none-any.whl (97 kB)\n",
            "\u001b[K     |████████████████████████████████| 97 kB 6.9 MB/s \n",
            "\u001b[?25hRequirement already satisfied: librosa in /usr/local/lib/python3.7/dist-packages (from nemo_toolkit[all]) (0.8.1)\n",
            "Requirement already satisfied: pyyaml<6 in /usr/local/lib/python3.7/dist-packages (from nemo_toolkit[all]) (3.13)\n",
            "Collecting pyannote.metrics\n",
            "  Downloading pyannote.metrics-3.1-py3-none-any.whl (49 kB)\n",
            "\u001b[K     |████████████████████████████████| 49 kB 5.7 MB/s \n",
            "\u001b[?25hCollecting matplotlib>=3.3.2\n",
            "  Downloading matplotlib-3.5.0-cp37-cp37m-manylinux_2_5_x86_64.manylinux1_x86_64.whl (11.2 MB)\n",
            "\u001b[K     |████████████████████████████████| 11.2 MB 35.3 MB/s \n",
            "\u001b[?25hCollecting isort[requirements]<5\n",
            "  Downloading isort-4.3.21-py2.py3-none-any.whl (42 kB)\n",
            "\u001b[K     |████████████████████████████████| 42 kB 1.0 MB/s \n",
            "\u001b[?25hCollecting pypinyin\n",
            "  Downloading pypinyin-0.44.0-py2.py3-none-any.whl (1.3 MB)\n",
            "\u001b[K     |████████████████████████████████| 1.3 MB 41.6 MB/s \n",
            "\u001b[?25hRequirement already satisfied: regex in /usr/local/lib/python3.7/dist-packages (from nemo_toolkit[all]) (2019.12.20)\n",
            "Requirement already satisfied: pytest in /usr/local/lib/python3.7/dist-packages (from nemo_toolkit[all]) (3.6.4)\n",
            "Collecting pytest-runner\n",
            "  Using cached pytest_runner-5.3.1-py3-none-any.whl (7.1 kB)\n",
            "Requirement already satisfied: gdown in /usr/local/lib/python3.7/dist-packages (from nemo_toolkit[all]) (3.6.4)\n",
            "Collecting nltk>=3.6.5\n",
            "  Downloading nltk-3.6.5-py3-none-any.whl (1.5 MB)\n",
            "\u001b[K     |████████████████████████████████| 1.5 MB 49.3 MB/s \n",
            "\u001b[?25hCollecting hydra-core>=1.1.0\n",
            "  Downloading hydra_core-1.1.1-py3-none-any.whl (145 kB)\n",
            "\u001b[K     |████████████████████████████████| 145 kB 46.8 MB/s \n",
            "\u001b[?25hCollecting pangu\n",
            "  Downloading pangu-4.0.6.1-py3-none-any.whl (6.4 kB)\n",
            "Collecting marshmallow\n",
            "  Downloading marshmallow-3.14.1-py3-none-any.whl (47 kB)\n",
            "\u001b[K     |████████████████████████████████| 47 kB 4.5 MB/s \n",
            "\u001b[?25hCollecting wordninja==2.0.0\n",
            "  Downloading wordninja-2.0.0.tar.gz (541 kB)\n",
            "\u001b[K     |████████████████████████████████| 541 kB 46.6 MB/s \n",
            "\u001b[?25hCollecting sacremoses>=0.0.43\n",
            "  Downloading sacremoses-0.0.46-py3-none-any.whl (895 kB)\n",
            "\u001b[K     |████████████████████████████████| 895 kB 45.6 MB/s \n",
            "\u001b[?25hCollecting youtokentome>=1.0.5\n",
            "  Downloading youtokentome-1.0.6-cp37-cp37m-manylinux2010_x86_64.whl (1.7 MB)\n",
            "\u001b[K     |████████████████████████████████| 1.7 MB 34.9 MB/s \n",
            "\u001b[?25hCollecting torch-stft\n",
            "  Downloading torch_stft-0.1.4-py3-none-any.whl (6.2 kB)\n",
            "Collecting kaldi-io\n",
            "  Downloading kaldi_io-0.9.4-py3-none-any.whl (14 kB)\n",
            "Collecting rapidfuzz\n",
            "  Downloading rapidfuzz-1.8.3-cp37-cp37m-manylinux_2_12_x86_64.manylinux2010_x86_64.whl (854 kB)\n",
            "\u001b[K     |████████████████████████████████| 854 kB 43.2 MB/s \n",
            "\u001b[?25hRequirement already satisfied: soundfile in /usr/local/lib/python3.7/dist-packages (from nemo_toolkit[all]) (0.10.3.post1)\n",
            "Collecting webdataset<=0.1.62,>=0.1.48\n",
            "  Downloading webdataset-0.1.62-py3-none-any.whl (32 kB)\n",
            "Collecting pystoi\n",
            "  Downloading pystoi-0.3.3.tar.gz (7.0 kB)\n",
            "Requirement already satisfied: jieba in /usr/local/lib/python3.7/dist-packages (from nemo_toolkit[all]) (0.42.1)\n",
            "Requirement already satisfied: ipywidgets in /usr/local/lib/python3.7/dist-packages (from nemo_toolkit[all]) (7.6.5)\n",
            "Requirement already satisfied: pillow in /usr/local/lib/python3.7/dist-packages (from nemo_toolkit[all]) (7.1.2)\n",
            "Requirement already satisfied: torchvision in /usr/local/lib/python3.7/dist-packages (from nemo_toolkit[all]) (0.11.1+cu111)\n",
            "Collecting transformers>=4.0.1\n",
            "  Downloading transformers-4.12.5-py3-none-any.whl (3.1 MB)\n",
            "\u001b[K     |████████████████████████████████| 3.1 MB 46.1 MB/s \n",
            "\u001b[?25hCollecting g2p-en\n",
            "  Downloading g2p_en-2.1.0-py3-none-any.whl (3.1 MB)\n",
            "\u001b[K     |████████████████████████████████| 3.1 MB 32.6 MB/s \n",
            "\u001b[?25hCollecting sox\n",
            "  Downloading sox-1.4.1-py2.py3-none-any.whl (39 kB)\n",
            "Collecting wandb\n",
            "  Downloading wandb-0.12.7-py2.py3-none-any.whl (1.7 MB)\n",
            "\u001b[K     |████████████████████████████████| 1.7 MB 39.3 MB/s \n",
            "\u001b[?25hCollecting torchmetrics>=0.4.1rc0\n",
            "  Downloading torchmetrics-0.6.0-py3-none-any.whl (329 kB)\n",
            "\u001b[K     |████████████████████████████████| 329 kB 47.0 MB/s \n",
            "\u001b[?25hCollecting opencc\n",
            "  Downloading OpenCC-1.1.3-cp37-cp37m-manylinux1_x86_64.whl (766 kB)\n",
            "\u001b[K     |████████████████████████████████| 766 kB 44.6 MB/s \n",
            "\u001b[?25hCollecting pyannote.core\n",
            "  Downloading pyannote.core-4.3-py3-none-any.whl (59 kB)\n",
            "\u001b[K     |████████████████████████████████| 59 kB 6.5 MB/s \n",
            "\u001b[?25hCollecting pydub\n",
            "  Downloading pydub-0.25.1-py2.py3-none-any.whl (32 kB)\n",
            "Collecting fasttext\n",
            "  Downloading fasttext-0.9.2.tar.gz (68 kB)\n",
            "\u001b[K     |████████████████████████████████| 68 kB 7.1 MB/s \n",
            "\u001b[?25hRequirement already satisfied: h5py in /usr/local/lib/python3.7/dist-packages (from nemo_toolkit[all]) (3.1.0)\n",
            "Requirement already satisfied: matplotlib in /usr/local/lib/python3.7/dist-packages (from nemo_toolkit[all]) (3.2.2)\n",
            "Requirement already satisfied: toml>=0.9.4 in /usr/local/lib/python3.7/dist-packages (from black==19.10b0->nemo_toolkit[all]) (0.10.2)\n",
            "Requirement already satisfied: click>=6.5 in /usr/local/lib/python3.7/dist-packages (from black==19.10b0->nemo_toolkit[all]) (7.1.2)\n",
            "Collecting typed-ast>=1.4.0\n",
            "  Downloading typed_ast-1.5.0-cp37-cp37m-manylinux_2_5_x86_64.manylinux1_x86_64.manylinux_2_12_x86_64.manylinux2010_x86_64.whl (843 kB)\n",
            "\u001b[K     |████████████████████████████████| 843 kB 31.5 MB/s \n",
            "\u001b[?25hRequirement already satisfied: attrs>=18.1.0 in /usr/local/lib/python3.7/dist-packages (from black==19.10b0->nemo_toolkit[all]) (21.2.0)\n",
            "Collecting pathspec<1,>=0.6\n",
            "  Downloading pathspec-0.9.0-py2.py3-none-any.whl (31 kB)\n",
            "Requirement already satisfied: appdirs in /usr/local/lib/python3.7/dist-packages (from black==19.10b0->nemo_toolkit[all]) (1.4.4)\n",
            "Collecting antlr4-python3-runtime==4.8\n",
            "  Downloading antlr4-python3-runtime-4.8.tar.gz (112 kB)\n",
            "\u001b[K     |████████████████████████████████| 112 kB 49.5 MB/s \n",
            "\u001b[?25hRequirement already satisfied: importlib-resources in /usr/local/lib/python3.7/dist-packages (from hydra-core>=1.1.0->nemo_toolkit[all]) (5.4.0)\n",
            "Collecting pyyaml<6\n",
            "  Downloading PyYAML-5.4.1-cp37-cp37m-manylinux1_x86_64.whl (636 kB)\n",
            "\u001b[K     |████████████████████████████████| 636 kB 40.7 MB/s \n",
            "\u001b[?25hCollecting pipreqs\n",
            "  Downloading pipreqs-0.4.11-py2.py3-none-any.whl (32 kB)\n",
            "Collecting pip-api\n",
            "  Downloading pip_api-0.0.23-py3-none-any.whl (107 kB)\n",
            "\u001b[K     |████████████████████████████████| 107 kB 45.3 MB/s \n",
            "\u001b[?25hRequirement already satisfied: joblib in /usr/local/lib/python3.7/dist-packages (from nltk>=3.6.5->nemo_toolkit[all]) (1.1.0)\n",
            "Collecting regex\n",
            "  Downloading regex-2021.11.10-cp37-cp37m-manylinux_2_17_x86_64.manylinux2014_x86_64.whl (749 kB)\n",
            "\u001b[K     |████████████████████████████████| 749 kB 50.5 MB/s \n",
            "\u001b[?25hRequirement already satisfied: protobuf in /usr/local/lib/python3.7/dist-packages (from onnx>=1.7.0->nemo_toolkit[all]) (3.17.3)\n",
            "Requirement already satisfied: six in /usr/local/lib/python3.7/dist-packages (from onnx>=1.7.0->nemo_toolkit[all]) (1.15.0)\n",
            "Requirement already satisfied: typing-extensions>=3.6.2.1 in /usr/local/lib/python3.7/dist-packages (from onnx>=1.7.0->nemo_toolkit[all]) (3.10.0.2)\n",
            "Requirement already satisfied: tensorboard>=2.2.0 in /usr/local/lib/python3.7/dist-packages (from pytorch-lightning>=1.5.0->nemo_toolkit[all]) (2.7.0)\n",
            "Collecting fsspec[http]!=2021.06.0,>=2021.05.0\n",
            "  Downloading fsspec-2021.11.1-py3-none-any.whl (132 kB)\n",
            "\u001b[K     |████████████████████████████████| 132 kB 44.4 MB/s \n",
            "\u001b[?25hCollecting pyDeprecate==0.3.1\n",
            "  Downloading pyDeprecate-0.3.1-py3-none-any.whl (10 kB)\n",
            "Collecting future>=0.17.1\n",
            "  Downloading future-0.18.2.tar.gz (829 kB)\n",
            "\u001b[K     |████████████████████████████████| 829 kB 48.2 MB/s \n",
            "\u001b[?25hRequirement already satisfied: requests in /usr/local/lib/python3.7/dist-packages (from fsspec[http]!=2021.06.0,>=2021.05.0->pytorch-lightning>=1.5.0->nemo_toolkit[all]) (2.23.0)\n",
            "Collecting aiohttp\n",
            "  Downloading aiohttp-3.8.1-cp37-cp37m-manylinux_2_5_x86_64.manylinux1_x86_64.manylinux_2_12_x86_64.manylinux2010_x86_64.whl (1.1 MB)\n",
            "\u001b[K     |████████████████████████████████| 1.1 MB 37.0 MB/s \n",
            "\u001b[?25hRequirement already satisfied: pyparsing!=3.0.5,>=2.0.2 in /usr/local/lib/python3.7/dist-packages (from packaging->nemo_toolkit[all]) (3.0.6)\n",
            "Requirement already satisfied: google-auth-oauthlib<0.5,>=0.4.1 in /usr/local/lib/python3.7/dist-packages (from tensorboard>=2.2.0->pytorch-lightning>=1.5.0->nemo_toolkit[all]) (0.4.6)\n",
            "Requirement already satisfied: google-auth<3,>=1.6.3 in /usr/local/lib/python3.7/dist-packages (from tensorboard>=2.2.0->pytorch-lightning>=1.5.0->nemo_toolkit[all]) (1.35.0)\n",
            "Requirement already satisfied: setuptools>=41.0.0 in /usr/local/lib/python3.7/dist-packages (from tensorboard>=2.2.0->pytorch-lightning>=1.5.0->nemo_toolkit[all]) (57.4.0)\n",
            "Requirement already satisfied: tensorboard-data-server<0.7.0,>=0.6.0 in /usr/local/lib/python3.7/dist-packages (from tensorboard>=2.2.0->pytorch-lightning>=1.5.0->nemo_toolkit[all]) (0.6.1)\n",
            "Requirement already satisfied: markdown>=2.6.8 in /usr/local/lib/python3.7/dist-packages (from tensorboard>=2.2.0->pytorch-lightning>=1.5.0->nemo_toolkit[all]) (3.3.6)\n",
            "Requirement already satisfied: grpcio>=1.24.3 in /usr/local/lib/python3.7/dist-packages (from tensorboard>=2.2.0->pytorch-lightning>=1.5.0->nemo_toolkit[all]) (1.42.0)\n",
            "Requirement already satisfied: werkzeug>=0.11.15 in /usr/local/lib/python3.7/dist-packages (from tensorboard>=2.2.0->pytorch-lightning>=1.5.0->nemo_toolkit[all]) (1.0.1)\n",
            "Requirement already satisfied: absl-py>=0.4 in /usr/local/lib/python3.7/dist-packages (from tensorboard>=2.2.0->pytorch-lightning>=1.5.0->nemo_toolkit[all]) (0.12.0)\n",
            "Requirement already satisfied: tensorboard-plugin-wit>=1.6.0 in /usr/local/lib/python3.7/dist-packages (from tensorboard>=2.2.0->pytorch-lightning>=1.5.0->nemo_toolkit[all]) (1.8.0)\n",
            "Requirement already satisfied: wheel>=0.26 in /usr/local/lib/python3.7/dist-packages (from tensorboard>=2.2.0->pytorch-lightning>=1.5.0->nemo_toolkit[all]) (0.37.0)\n",
            "Requirement already satisfied: cachetools<5.0,>=2.0.0 in /usr/local/lib/python3.7/dist-packages (from google-auth<3,>=1.6.3->tensorboard>=2.2.0->pytorch-lightning>=1.5.0->nemo_toolkit[all]) (4.2.4)\n",
            "Requirement already satisfied: rsa<5,>=3.1.4 in /usr/local/lib/python3.7/dist-packages (from google-auth<3,>=1.6.3->tensorboard>=2.2.0->pytorch-lightning>=1.5.0->nemo_toolkit[all]) (4.7.2)\n",
            "Requirement already satisfied: pyasn1-modules>=0.2.1 in /usr/local/lib/python3.7/dist-packages (from google-auth<3,>=1.6.3->tensorboard>=2.2.0->pytorch-lightning>=1.5.0->nemo_toolkit[all]) (0.2.8)\n",
            "Requirement already satisfied: requests-oauthlib>=0.7.0 in /usr/local/lib/python3.7/dist-packages (from google-auth-oauthlib<0.5,>=0.4.1->tensorboard>=2.2.0->pytorch-lightning>=1.5.0->nemo_toolkit[all]) (1.3.0)\n",
            "Requirement already satisfied: importlib-metadata>=4.4 in /usr/local/lib/python3.7/dist-packages (from markdown>=2.6.8->tensorboard>=2.2.0->pytorch-lightning>=1.5.0->nemo_toolkit[all]) (4.8.2)\n",
            "Requirement already satisfied: zipp>=0.5 in /usr/local/lib/python3.7/dist-packages (from importlib-metadata>=4.4->markdown>=2.6.8->tensorboard>=2.2.0->pytorch-lightning>=1.5.0->nemo_toolkit[all]) (3.6.0)\n",
            "Requirement already satisfied: pyasn1<0.5.0,>=0.4.6 in /usr/local/lib/python3.7/dist-packages (from pyasn1-modules>=0.2.1->google-auth<3,>=1.6.3->tensorboard>=2.2.0->pytorch-lightning>=1.5.0->nemo_toolkit[all]) (0.4.8)\n",
            "Requirement already satisfied: idna<3,>=2.5 in /usr/local/lib/python3.7/dist-packages (from requests->fsspec[http]!=2021.06.0,>=2021.05.0->pytorch-lightning>=1.5.0->nemo_toolkit[all]) (2.10)\n",
            "Requirement already satisfied: certifi>=2017.4.17 in /usr/local/lib/python3.7/dist-packages (from requests->fsspec[http]!=2021.06.0,>=2021.05.0->pytorch-lightning>=1.5.0->nemo_toolkit[all]) (2021.10.8)\n",
            "Requirement already satisfied: chardet<4,>=3.0.2 in /usr/local/lib/python3.7/dist-packages (from requests->fsspec[http]!=2021.06.0,>=2021.05.0->pytorch-lightning>=1.5.0->nemo_toolkit[all]) (3.0.4)\n",
            "Requirement already satisfied: urllib3!=1.25.0,!=1.25.1,<1.26,>=1.21.1 in /usr/local/lib/python3.7/dist-packages (from requests->fsspec[http]!=2021.06.0,>=2021.05.0->pytorch-lightning>=1.5.0->nemo_toolkit[all]) (1.24.3)\n",
            "Requirement already satisfied: oauthlib>=3.0.0 in /usr/local/lib/python3.7/dist-packages (from requests-oauthlib>=0.7.0->google-auth-oauthlib<0.5,>=0.4.1->tensorboard>=2.2.0->pytorch-lightning>=1.5.0->nemo_toolkit[all]) (3.1.1)\n",
            "Requirement already satisfied: filelock in /usr/local/lib/python3.7/dist-packages (from transformers>=4.0.1->nemo_toolkit[all]) (3.4.0)\n",
            "Collecting huggingface-hub<1.0,>=0.1.0\n",
            "  Downloading huggingface_hub-0.1.2-py3-none-any.whl (59 kB)\n",
            "\u001b[K     |████████████████████████████████| 59 kB 6.6 MB/s \n",
            "\u001b[?25hCollecting tokenizers<0.11,>=0.10.1\n",
            "  Downloading tokenizers-0.10.3-cp37-cp37m-manylinux_2_5_x86_64.manylinux1_x86_64.manylinux_2_12_x86_64.manylinux2010_x86_64.whl (3.3 MB)\n",
            "\u001b[K     |████████████████████████████████| 3.3 MB 36.7 MB/s \n",
            "\u001b[?25hCollecting yarl<2.0,>=1.0\n",
            "  Downloading yarl-1.7.2-cp37-cp37m-manylinux_2_5_x86_64.manylinux1_x86_64.manylinux_2_12_x86_64.manylinux2010_x86_64.whl (271 kB)\n",
            "\u001b[K     |████████████████████████████████| 271 kB 49.0 MB/s \n",
            "\u001b[?25hCollecting async-timeout<5.0,>=4.0.0a3\n",
            "  Downloading async_timeout-4.0.1-py3-none-any.whl (5.7 kB)\n",
            "Collecting asynctest==0.13.0\n",
            "  Downloading asynctest-0.13.0-py3-none-any.whl (26 kB)\n",
            "Collecting aiosignal>=1.1.2\n",
            "  Downloading aiosignal-1.2.0-py3-none-any.whl (8.2 kB)\n",
            "Collecting frozenlist>=1.1.1\n",
            "  Downloading frozenlist-1.2.0-cp37-cp37m-manylinux_2_5_x86_64.manylinux1_x86_64.manylinux_2_12_x86_64.manylinux2010_x86_64.whl (192 kB)\n",
            "\u001b[K     |████████████████████████████████| 192 kB 45.1 MB/s \n",
            "\u001b[?25hRequirement already satisfied: charset-normalizer<3.0,>=2.0 in /usr/local/lib/python3.7/dist-packages (from aiohttp->fsspec[http]!=2021.06.0,>=2021.05.0->pytorch-lightning>=1.5.0->nemo_toolkit[all]) (2.0.7)\n",
            "Collecting multidict<7.0,>=4.5\n",
            "  Downloading multidict-5.2.0-cp37-cp37m-manylinux_2_5_x86_64.manylinux1_x86_64.manylinux_2_12_x86_64.manylinux2010_x86_64.whl (160 kB)\n",
            "\u001b[K     |████████████████████████████████| 160 kB 47.0 MB/s \n",
            "\u001b[?25hCollecting s3transfer<0.6.0,>=0.5.0\n",
            "  Downloading s3transfer-0.5.0-py3-none-any.whl (79 kB)\n",
            "\u001b[K     |████████████████████████████████| 79 kB 7.8 MB/s \n",
            "\u001b[?25hCollecting jmespath<1.0.0,>=0.7.1\n",
            "  Downloading jmespath-0.10.0-py2.py3-none-any.whl (24 kB)\n",
            "Collecting botocore<1.24.0,>=1.23.16\n",
            "  Downloading botocore-1.23.16-py3-none-any.whl (8.3 MB)\n",
            "\u001b[K     |████████████████████████████████| 8.3 MB 36.5 MB/s \n",
            "\u001b[?25hCollecting urllib3!=1.25.0,!=1.25.1,<1.26,>=1.21.1\n",
            "  Downloading urllib3-1.25.11-py2.py3-none-any.whl (127 kB)\n",
            "\u001b[K     |████████████████████████████████| 127 kB 49.4 MB/s \n",
            "\u001b[?25hCollecting pybind11>=2.2\n",
            "  Using cached pybind11-2.8.1-py2.py3-none-any.whl (208 kB)\n",
            "Collecting distance>=0.1.3\n",
            "  Downloading Distance-0.1.3.tar.gz (180 kB)\n",
            "\u001b[K     |████████████████████████████████| 180 kB 45.7 MB/s \n",
            "\u001b[?25hRequirement already satisfied: cached-property in /usr/local/lib/python3.7/dist-packages (from h5py->nemo_toolkit[all]) (1.5.2)\n",
            "Requirement already satisfied: ipykernel>=4.5.1 in /usr/local/lib/python3.7/dist-packages (from ipywidgets->nemo_toolkit[all]) (4.10.1)\n",
            "Requirement already satisfied: widgetsnbextension~=3.5.0 in /usr/local/lib/python3.7/dist-packages (from ipywidgets->nemo_toolkit[all]) (3.5.2)\n",
            "Requirement already satisfied: nbformat>=4.2.0 in /usr/local/lib/python3.7/dist-packages (from ipywidgets->nemo_toolkit[all]) (5.1.3)\n",
            "Requirement already satisfied: ipython-genutils~=0.2.0 in /usr/local/lib/python3.7/dist-packages (from ipywidgets->nemo_toolkit[all]) (0.2.0)\n",
            "Requirement already satisfied: ipython>=4.0.0 in /usr/local/lib/python3.7/dist-packages (from ipywidgets->nemo_toolkit[all]) (5.5.0)\n",
            "Requirement already satisfied: jupyterlab-widgets>=1.0.0 in /usr/local/lib/python3.7/dist-packages (from ipywidgets->nemo_toolkit[all]) (1.0.2)\n",
            "Requirement already satisfied: traitlets>=4.3.1 in /usr/local/lib/python3.7/dist-packages (from ipywidgets->nemo_toolkit[all]) (5.1.1)\n",
            "Requirement already satisfied: tornado>=4.0 in /usr/local/lib/python3.7/dist-packages (from ipykernel>=4.5.1->ipywidgets->nemo_toolkit[all]) (5.1.1)\n",
            "Requirement already satisfied: jupyter-client in /usr/local/lib/python3.7/dist-packages (from ipykernel>=4.5.1->ipywidgets->nemo_toolkit[all]) (5.3.5)\n",
            "Requirement already satisfied: pickleshare in /usr/local/lib/python3.7/dist-packages (from ipython>=4.0.0->ipywidgets->nemo_toolkit[all]) (0.7.5)\n",
            "Requirement already satisfied: pexpect in /usr/local/lib/python3.7/dist-packages (from ipython>=4.0.0->ipywidgets->nemo_toolkit[all]) (4.8.0)\n",
            "Requirement already satisfied: decorator in /usr/local/lib/python3.7/dist-packages (from ipython>=4.0.0->ipywidgets->nemo_toolkit[all]) (4.4.2)\n",
            "Requirement already satisfied: pygments in /usr/local/lib/python3.7/dist-packages (from ipython>=4.0.0->ipywidgets->nemo_toolkit[all]) (2.6.1)\n",
            "Requirement already satisfied: prompt-toolkit<2.0.0,>=1.0.4 in /usr/local/lib/python3.7/dist-packages (from ipython>=4.0.0->ipywidgets->nemo_toolkit[all]) (1.0.18)\n",
            "Requirement already satisfied: simplegeneric>0.8 in /usr/local/lib/python3.7/dist-packages (from ipython>=4.0.0->ipywidgets->nemo_toolkit[all]) (0.8.1)\n",
            "Requirement already satisfied: jupyter-core in /usr/local/lib/python3.7/dist-packages (from nbformat>=4.2.0->ipywidgets->nemo_toolkit[all]) (4.9.1)\n",
            "Requirement already satisfied: jsonschema!=2.5.0,>=2.4 in /usr/local/lib/python3.7/dist-packages (from nbformat>=4.2.0->ipywidgets->nemo_toolkit[all]) (2.6.0)\n",
            "Requirement already satisfied: wcwidth in /usr/local/lib/python3.7/dist-packages (from prompt-toolkit<2.0.0,>=1.0.4->ipython>=4.0.0->ipywidgets->nemo_toolkit[all]) (0.2.5)\n",
            "Requirement already satisfied: notebook>=4.4.1 in /usr/local/lib/python3.7/dist-packages (from widgetsnbextension~=3.5.0->ipywidgets->nemo_toolkit[all]) (5.3.1)\n",
            "Requirement already satisfied: nbconvert in /usr/local/lib/python3.7/dist-packages (from notebook>=4.4.1->widgetsnbextension~=3.5.0->ipywidgets->nemo_toolkit[all]) (5.6.1)\n",
            "Requirement already satisfied: jinja2 in /usr/local/lib/python3.7/dist-packages (from notebook>=4.4.1->widgetsnbextension~=3.5.0->ipywidgets->nemo_toolkit[all]) (2.11.3)\n",
            "Requirement already satisfied: terminado>=0.8.1 in /usr/local/lib/python3.7/dist-packages (from notebook>=4.4.1->widgetsnbextension~=3.5.0->ipywidgets->nemo_toolkit[all]) (0.12.1)\n",
            "Requirement already satisfied: Send2Trash in /usr/local/lib/python3.7/dist-packages (from notebook>=4.4.1->widgetsnbextension~=3.5.0->ipywidgets->nemo_toolkit[all]) (1.8.0)\n",
            "Requirement already satisfied: pyzmq>=13 in /usr/local/lib/python3.7/dist-packages (from jupyter-client->ipykernel>=4.5.1->ipywidgets->nemo_toolkit[all]) (22.3.0)\n",
            "Requirement already satisfied: ptyprocess in /usr/local/lib/python3.7/dist-packages (from terminado>=0.8.1->notebook>=4.4.1->widgetsnbextension~=3.5.0->ipywidgets->nemo_toolkit[all]) (0.7.0)\n",
            "Requirement already satisfied: MarkupSafe>=0.23 in /usr/local/lib/python3.7/dist-packages (from jinja2->notebook>=4.4.1->widgetsnbextension~=3.5.0->ipywidgets->nemo_toolkit[all]) (2.0.1)\n",
            "Requirement already satisfied: pooch>=1.0 in /usr/local/lib/python3.7/dist-packages (from librosa->nemo_toolkit[all]) (1.5.2)\n",
            "Requirement already satisfied: resampy>=0.2.2 in /usr/local/lib/python3.7/dist-packages (from librosa->nemo_toolkit[all]) (0.2.2)\n",
            "Requirement already satisfied: audioread>=2.0.0 in /usr/local/lib/python3.7/dist-packages (from librosa->nemo_toolkit[all]) (2.1.9)\n",
            "Requirement already satisfied: llvmlite<0.35,>=0.34.0.dev0 in /usr/local/lib/python3.7/dist-packages (from numba->nemo_toolkit[all]) (0.34.0)\n",
            "Requirement already satisfied: threadpoolctl>=2.0.0 in /usr/local/lib/python3.7/dist-packages (from scikit-learn->nemo_toolkit[all]) (3.0.0)\n",
            "Requirement already satisfied: cffi>=1.0 in /usr/local/lib/python3.7/dist-packages (from soundfile->nemo_toolkit[all]) (1.15.0)\n",
            "Requirement already satisfied: pycparser in /usr/local/lib/python3.7/dist-packages (from cffi>=1.0->soundfile->nemo_toolkit[all]) (2.21)\n",
            "Requirement already satisfied: cycler>=0.10 in /usr/local/lib/python3.7/dist-packages (from matplotlib->nemo_toolkit[all]) (0.11.0)\n",
            "Requirement already satisfied: kiwisolver>=1.0.1 in /usr/local/lib/python3.7/dist-packages (from matplotlib->nemo_toolkit[all]) (1.3.2)\n",
            "Requirement already satisfied: mistune<2,>=0.8.1 in /usr/local/lib/python3.7/dist-packages (from nbconvert->notebook>=4.4.1->widgetsnbextension~=3.5.0->ipywidgets->nemo_toolkit[all]) (0.8.4)\n",
            "Requirement already satisfied: pandocfilters>=1.4.1 in /usr/local/lib/python3.7/dist-packages (from nbconvert->notebook>=4.4.1->widgetsnbextension~=3.5.0->ipywidgets->nemo_toolkit[all]) (1.5.0)\n",
            "Requirement already satisfied: bleach in /usr/local/lib/python3.7/dist-packages (from nbconvert->notebook>=4.4.1->widgetsnbextension~=3.5.0->ipywidgets->nemo_toolkit[all]) (4.1.0)\n",
            "Requirement already satisfied: defusedxml in /usr/local/lib/python3.7/dist-packages (from nbconvert->notebook>=4.4.1->widgetsnbextension~=3.5.0->ipywidgets->nemo_toolkit[all]) (0.7.1)\n",
            "Requirement already satisfied: entrypoints>=0.2.2 in /usr/local/lib/python3.7/dist-packages (from nbconvert->notebook>=4.4.1->widgetsnbextension~=3.5.0->ipywidgets->nemo_toolkit[all]) (0.3)\n",
            "Requirement already satisfied: testpath in /usr/local/lib/python3.7/dist-packages (from nbconvert->notebook>=4.4.1->widgetsnbextension~=3.5.0->ipywidgets->nemo_toolkit[all]) (0.5.0)\n",
            "Requirement already satisfied: webencodings in /usr/local/lib/python3.7/dist-packages (from bleach->nbconvert->notebook>=4.4.1->widgetsnbextension~=3.5.0->ipywidgets->nemo_toolkit[all]) (0.5.1)\n",
            "Requirement already satisfied: pytz>=2017.2 in /usr/local/lib/python3.7/dist-packages (from pandas->nemo_toolkit[all]) (2018.9)\n",
            "Requirement already satisfied: pip in /usr/local/lib/python3.7/dist-packages (from pip-api->isort[requirements]<5->nemo_toolkit[all]) (21.1.3)\n",
            "Requirement already satisfied: docopt in /usr/local/lib/python3.7/dist-packages (from pipreqs->isort[requirements]<5->nemo_toolkit[all]) (0.6.2)\n",
            "Collecting yarg\n",
            "  Downloading yarg-0.1.9-py2.py3-none-any.whl (19 kB)\n",
            "Collecting simplejson>=3.8.1\n",
            "  Downloading simplejson-3.17.6-cp37-cp37m-manylinux_2_5_x86_64.manylinux1_x86_64.manylinux_2_12_x86_64.manylinux2010_x86_64.whl (130 kB)\n",
            "\u001b[K     |████████████████████████████████| 130 kB 47.8 MB/s \n",
            "\u001b[?25hRequirement already satisfied: sortedcontainers>=2.0.4 in /usr/local/lib/python3.7/dist-packages (from pyannote.core->nemo_toolkit[all]) (2.4.0)\n",
            "Collecting pyannote.database>=4.0.1\n",
            "  Downloading pyannote.database-4.1.1-py3-none-any.whl (41 kB)\n",
            "\u001b[K     |████████████████████████████████| 41 kB 271 kB/s \n",
            "\u001b[?25hRequirement already satisfied: tabulate>=0.7.7 in /usr/local/lib/python3.7/dist-packages (from pyannote.metrics->nemo_toolkit[all]) (0.8.9)\n",
            "Requirement already satisfied: sympy>=1.1 in /usr/local/lib/python3.7/dist-packages (from pyannote.metrics->nemo_toolkit[all]) (1.7.1)\n",
            "Collecting typer[all]>=0.2.1\n",
            "  Downloading typer-0.4.0-py3-none-any.whl (27 kB)\n",
            "Requirement already satisfied: mpmath>=0.19 in /usr/local/lib/python3.7/dist-packages (from sympy>=1.1->pyannote.metrics->nemo_toolkit[all]) (1.2.1)\n",
            "Collecting colorama<0.5.0,>=0.4.3\n",
            "  Downloading colorama-0.4.4-py2.py3-none-any.whl (16 kB)\n",
            "Collecting shellingham<2.0.0,>=1.3.0\n",
            "  Downloading shellingham-1.4.0-py2.py3-none-any.whl (9.4 kB)\n",
            "Requirement already satisfied: py>=1.5.0 in /usr/local/lib/python3.7/dist-packages (from pytest->nemo_toolkit[all]) (1.11.0)\n",
            "Requirement already satisfied: more-itertools>=4.0.0 in /usr/local/lib/python3.7/dist-packages (from pytest->nemo_toolkit[all]) (8.11.0)\n",
            "Requirement already satisfied: pluggy<0.8,>=0.5 in /usr/local/lib/python3.7/dist-packages (from pytest->nemo_toolkit[all]) (0.7.1)\n",
            "Requirement already satisfied: atomicwrites>=1.0 in /usr/local/lib/python3.7/dist-packages (from pytest->nemo_toolkit[all]) (1.4.0)\n",
            "Collecting ruamel.yaml.clib>=0.1.2\n",
            "  Downloading ruamel.yaml.clib-0.2.6-cp37-cp37m-manylinux1_x86_64.whl (546 kB)\n",
            "\u001b[K     |████████████████████████████████| 546 kB 46.0 MB/s \n",
            "\u001b[?25hCollecting portalocker\n",
            "  Downloading portalocker-2.3.2-py2.py3-none-any.whl (15 kB)\n",
            "Collecting mecab-python3==1.0.3\n",
            "  Downloading mecab_python3-1.0.3-cp37-cp37m-manylinux1_x86_64.whl (487 kB)\n",
            "\u001b[K     |████████████████████████████████| 487 kB 46.1 MB/s \n",
            "\u001b[?25hCollecting ipadic<2.0,>=1.0\n",
            "  Downloading ipadic-1.0.0.tar.gz (13.4 MB)\n",
            "\u001b[K     |████████████████████████████████| 13.4 MB 39.2 MB/s \n",
            "\u001b[?25hRequirement already satisfied: imagesize in /usr/local/lib/python3.7/dist-packages (from sphinx->nemo_toolkit[all]) (1.3.0)\n",
            "Requirement already satisfied: alabaster<0.8,>=0.7 in /usr/local/lib/python3.7/dist-packages (from sphinx->nemo_toolkit[all]) (0.7.12)\n",
            "Requirement already satisfied: sphinxcontrib-websupport in /usr/local/lib/python3.7/dist-packages (from sphinx->nemo_toolkit[all]) (1.2.4)\n",
            "Requirement already satisfied: babel!=2.0,>=1.3 in /usr/local/lib/python3.7/dist-packages (from sphinx->nemo_toolkit[all]) (2.9.1)\n",
            "Requirement already satisfied: docutils<0.18,>=0.11 in /usr/local/lib/python3.7/dist-packages (from sphinx->nemo_toolkit[all]) (0.17.1)\n",
            "Requirement already satisfied: snowballstemmer>=1.1 in /usr/local/lib/python3.7/dist-packages (from sphinx->nemo_toolkit[all]) (2.2.0)\n",
            "Collecting pybtex>=0.20\n",
            "  Downloading pybtex-0.24.0-py2.py3-none-any.whl (561 kB)\n",
            "\u001b[K     |████████████████████████████████| 561 kB 40.3 MB/s \n",
            "\u001b[?25hCollecting pybtex-docutils>=1.0.0\n",
            "  Downloading pybtex_docutils-1.0.1-py3-none-any.whl (4.8 kB)\n",
            "Collecting sphinx\n",
            "  Downloading Sphinx-4.3.1-py3-none-any.whl (3.1 MB)\n",
            "\u001b[K     |████████████████████████████████| 3.1 MB 34.0 MB/s \n",
            "\u001b[?25hCollecting latexcodec>=1.0.4\n",
            "  Downloading latexcodec-2.0.1-py2.py3-none-any.whl (18 kB)\n",
            "Collecting sphinxcontrib-applehelp\n",
            "  Downloading sphinxcontrib_applehelp-1.0.2-py2.py3-none-any.whl (121 kB)\n",
            "\u001b[K     |████████████████████████████████| 121 kB 49.6 MB/s \n",
            "\u001b[?25hCollecting sphinxcontrib-devhelp\n",
            "  Downloading sphinxcontrib_devhelp-1.0.2-py2.py3-none-any.whl (84 kB)\n",
            "\u001b[K     |████████████████████████████████| 84 kB 3.5 MB/s \n",
            "\u001b[?25hCollecting sphinxcontrib-htmlhelp>=2.0.0\n",
            "  Downloading sphinxcontrib_htmlhelp-2.0.0-py2.py3-none-any.whl (100 kB)\n",
            "\u001b[K     |████████████████████████████████| 100 kB 10.0 MB/s \n",
            "\u001b[?25hRequirement already satisfied: sphinxcontrib-serializinghtml>=1.1.5 in /usr/local/lib/python3.7/dist-packages (from sphinx->nemo_toolkit[all]) (1.1.5)\n",
            "Collecting sphinxcontrib-qthelp\n",
            "  Downloading sphinxcontrib_qthelp-1.0.3-py2.py3-none-any.whl (90 kB)\n",
            "\u001b[K     |████████████████████████████████| 90 kB 9.6 MB/s \n",
            "\u001b[?25hCollecting sphinxcontrib-jsmath\n",
            "  Downloading sphinxcontrib_jsmath-1.0.1-py2.py3-none-any.whl (5.1 kB)\n",
            "Collecting yaspin>=1.0.0\n",
            "  Downloading yaspin-2.1.0-py3-none-any.whl (18 kB)\n",
            "Collecting shortuuid>=0.5.0\n",
            "  Downloading shortuuid-1.0.8-py3-none-any.whl (9.5 kB)\n",
            "Requirement already satisfied: psutil>=5.0.0 in /usr/local/lib/python3.7/dist-packages (from wandb->nemo_toolkit[all]) (5.4.8)\n",
            "Collecting GitPython>=1.0.0\n",
            "  Downloading GitPython-3.1.24-py3-none-any.whl (180 kB)\n",
            "\u001b[K     |████████████████████████████████| 180 kB 46.7 MB/s \n",
            "\u001b[?25hCollecting configparser>=3.8.1\n",
            "  Downloading configparser-5.1.0-py3-none-any.whl (19 kB)\n",
            "Collecting subprocess32>=3.5.3\n",
            "  Downloading subprocess32-3.5.4.tar.gz (97 kB)\n",
            "\u001b[K     |████████████████████████████████| 97 kB 6.1 MB/s \n",
            "\u001b[?25hCollecting docker-pycreds>=0.4.0\n",
            "  Downloading docker_pycreds-0.4.0-py2.py3-none-any.whl (9.0 kB)\n",
            "Collecting sentry-sdk>=1.0.0\n",
            "  Downloading sentry_sdk-1.5.0-py2.py3-none-any.whl (140 kB)\n",
            "\u001b[K     |████████████████████████████████| 140 kB 42.3 MB/s \n",
            "\u001b[?25hRequirement already satisfied: promise<3,>=2.0 in /usr/local/lib/python3.7/dist-packages (from wandb->nemo_toolkit[all]) (2.3)\n",
            "Collecting pathtools\n",
            "  Downloading pathtools-0.1.2.tar.gz (11 kB)\n",
            "Collecting gitdb<5,>=4.0.1\n",
            "  Downloading gitdb-4.0.9-py3-none-any.whl (63 kB)\n",
            "\u001b[K     |████████████████████████████████| 63 kB 1.5 MB/s \n",
            "\u001b[?25hCollecting smmap<6,>=3.0.1\n",
            "  Downloading smmap-5.0.0-py3-none-any.whl (24 kB)\n",
            "Requirement already satisfied: termcolor<2.0.0,>=1.1.0 in /usr/local/lib/python3.7/dist-packages (from yaspin>=1.0.0->wandb->nemo_toolkit[all]) (1.1.0)\n",
            "Building wheels for collected packages: wordninja, antlr4-python3-runtime, future, fasttext, distance, kaldi-python-io, kaldiio, pesq, pystoi, ipadic, subprocess32, pathtools\n",
            "  Building wheel for wordninja (setup.py) ... \u001b[?25l\u001b[?25hdone\n",
            "  Created wheel for wordninja: filename=wordninja-2.0.0-py3-none-any.whl size=541551 sha256=10d509c9ea4c9ce7b5fc1b587d18dd9716b8f5eb3888a504ff9143d4783e2d38\n",
            "  Stored in directory: /root/.cache/pip/wheels/dd/3f/eb/a2692e3d2b9deb1487b09ba4967dd6920bd5032bfd9ff7acfc\n",
            "  Building wheel for antlr4-python3-runtime (setup.py) ... \u001b[?25l\u001b[?25hdone\n",
            "  Created wheel for antlr4-python3-runtime: filename=antlr4_python3_runtime-4.8-py3-none-any.whl size=141230 sha256=8897e7d70235938e4a9f3f327bcdf8c5c9d4123444017dcd84b9fa3acca8c9f2\n",
            "  Stored in directory: /root/.cache/pip/wheels/ca/33/b7/336836125fc9bb4ceaa4376d8abca10ca8bc84ddc824baea6c\n",
            "  Building wheel for future (setup.py) ... \u001b[?25l\u001b[?25hdone\n",
            "  Created wheel for future: filename=future-0.18.2-py3-none-any.whl size=491070 sha256=199c11f740655cecaa1b79ec294502e67ad186b782c9fed4446550344abd8195\n",
            "  Stored in directory: /root/.cache/pip/wheels/56/b0/fe/4410d17b32f1f0c3cf54cdfb2bc04d7b4b8f4ae377e2229ba0\n",
            "  Building wheel for fasttext (setup.py) ... \u001b[?25l\u001b[?25hdone\n",
            "  Created wheel for fasttext: filename=fasttext-0.9.2-cp37-cp37m-linux_x86_64.whl size=3122655 sha256=4d678774b6b3953a3a21121204f9efc1f1efcd303026745122b35e5876d9190a\n",
            "  Stored in directory: /root/.cache/pip/wheels/4e/ca/bf/b020d2be95f7641801a6597a29c8f4f19e38f9c02a345bab9b\n",
            "  Building wheel for distance (setup.py) ... \u001b[?25l\u001b[?25hdone\n",
            "  Created wheel for distance: filename=Distance-0.1.3-py3-none-any.whl size=16275 sha256=b3351e6c80729f5b0b838acbaef16853c6a5fb7abb85a7904d5f0bd91cfe3498\n",
            "  Stored in directory: /root/.cache/pip/wheels/b2/10/1b/96fca621a1be378e2fe104cfb0d160bb6cdf3d04a3d35266cc\n",
            "  Building wheel for kaldi-python-io (setup.py) ... \u001b[?25l\u001b[?25hdone\n",
            "  Created wheel for kaldi-python-io: filename=kaldi_python_io-1.2.2-py3-none-any.whl size=8968 sha256=50bebc02e39f4ab59aac957766544b932bdb19f135978486b2f7dffc49b82667\n",
            "  Stored in directory: /root/.cache/pip/wheels/a9/26/38/7678d1ff6cd1bbcbfc0d80b0a29d94d917dfa9ad790b4a85a9\n",
            "  Building wheel for kaldiio (setup.py) ... \u001b[?25l\u001b[?25hdone\n",
            "  Created wheel for kaldiio: filename=kaldiio-2.17.2-py3-none-any.whl size=24472 sha256=2adcc7272baec70aa6b3a510e7fcba9df3a2b52465fc2f184ca33ab0d1dd5ecf\n",
            "  Stored in directory: /root/.cache/pip/wheels/04/07/e8/45641287c59bf6ce41e22259f8680b521c31e6306cb88392ac\n",
            "  Building wheel for pesq (setup.py) ... \u001b[?25l\u001b[?25hdone\n",
            "  Created wheel for pesq: filename=pesq-0.0.3-cp37-cp37m-linux_x86_64.whl size=209977 sha256=fb13b07cc6f22c425a2e0896ed5b6f3e657ca5d34a00b744e89fcd885c9f46a0\n",
            "  Stored in directory: /root/.cache/pip/wheels/4f/67/5b/aa7cf31fe0c7199e35c604bb7bc91c629a13726bf221fedba0\n",
            "  Building wheel for pystoi (setup.py) ... \u001b[?25l\u001b[?25hdone\n",
            "  Created wheel for pystoi: filename=pystoi-0.3.3-py2.py3-none-any.whl size=7793 sha256=2b5ad0fae2f5f90754cee2ef3697697a34e5813af6a63981ec509f2a618676f3\n",
            "  Stored in directory: /root/.cache/pip/wheels/46/4a/ad/3ab460193ed0535430b4b1575f255aa6bae69df17453628e86\n",
            "  Building wheel for ipadic (setup.py) ... \u001b[?25l\u001b[?25hdone\n",
            "  Created wheel for ipadic: filename=ipadic-1.0.0-py3-none-any.whl size=13556723 sha256=f4039d83d4fddd95189fb2b121b7d259c14f9ffbdfd03fff41b583254fb05373\n",
            "  Stored in directory: /root/.cache/pip/wheels/33/8b/99/cf0d27191876637cd3639a560f93aa982d7855ce826c94348b\n",
            "  Building wheel for subprocess32 (setup.py) ... \u001b[?25l\u001b[?25hdone\n",
            "  Created wheel for subprocess32: filename=subprocess32-3.5.4-py3-none-any.whl size=6502 sha256=ef2f33fa006183399afaa6b281331d9c3311548224e98f3947e4ea94cf1c8ca0\n",
            "  Stored in directory: /root/.cache/pip/wheels/50/ca/fa/8fca8d246e64f19488d07567547ddec8eb084e8c0d7a59226a\n",
            "  Building wheel for pathtools (setup.py) ... \u001b[?25l\u001b[?25hdone\n",
            "  Created wheel for pathtools: filename=pathtools-0.1.2-py3-none-any.whl size=8807 sha256=bf50f297d2d7701dbdde6bfa99d580690f147b380702b204ad3080a659ee08b6\n",
            "  Stored in directory: /root/.cache/pip/wheels/3e/31/09/fa59cef12cdcfecc627b3d24273699f390e71828921b2cbba2\n",
            "Successfully built wordninja antlr4-python3-runtime future fasttext distance kaldi-python-io kaldiio pesq pystoi ipadic subprocess32 pathtools\n",
            "Installing collected packages: urllib3, multidict, frozenlist, yarl, typer, smmap, simplejson, shellingham, pyyaml, latexcodec, jmespath, colorama, asynctest, async-timeout, aiosignal, yarg, sphinxcontrib-qthelp, sphinxcontrib-jsmath, sphinxcontrib-htmlhelp, sphinxcontrib-devhelp, sphinxcontrib-applehelp, ruamel.yaml.clib, regex, pybtex, pyannote.core, portalocker, gitdb, fsspec, botocore, antlr4-python3-runtime, aiohttp, yaspin, typed-ast, torchmetrics, tokenizers, subprocess32, sphinx, shortuuid, sentry-sdk, sentencepiece, sacremoses, sacrebleu, s3transfer, ruamel.yaml, pyDeprecate, pybtex-docutils, pybind11, pyannote.database, pipreqs, pip-api, pathtools, pathspec, onnx, omegaconf, nltk, mecab-python3, isort, ipadic, huggingface-hub, GitPython, future, frozendict, docker-pycreds, distance, configparser, braceexpand, youtokentome, wordninja, webdataset, wandb, transformers, torch-stft, sphinxcontrib-bibtex, sox, rapidfuzz, pytorch-lightning, pytest-runner, pystoi, pypinyin, pydub, pyannote.metrics, pesq, parameterized, pangu, opencc, nemo-toolkit, marshmallow, kaldiio, kaldi-python-io, kaldi-io, hydra-core, g2p-en, fasttext, boto3, black, attrdict\n",
            "  Attempting uninstall: urllib3\n",
            "    Found existing installation: urllib3 1.24.3\n",
            "    Uninstalling urllib3-1.24.3:\n",
            "      Successfully uninstalled urllib3-1.24.3\n",
            "  Attempting uninstall: pyyaml\n",
            "    Found existing installation: PyYAML 3.13\n",
            "    Uninstalling PyYAML-3.13:\n",
            "      Successfully uninstalled PyYAML-3.13\n",
            "  Attempting uninstall: regex\n",
            "    Found existing installation: regex 2019.12.20\n",
            "    Uninstalling regex-2019.12.20:\n",
            "      Successfully uninstalled regex-2019.12.20\n",
            "  Attempting uninstall: sphinx\n",
            "    Found existing installation: Sphinx 1.8.6\n",
            "    Uninstalling Sphinx-1.8.6:\n",
            "      Successfully uninstalled Sphinx-1.8.6\n",
            "  Attempting uninstall: nltk\n",
            "    Found existing installation: nltk 3.2.5\n",
            "    Uninstalling nltk-3.2.5:\n",
            "      Successfully uninstalled nltk-3.2.5\n",
            "  Attempting uninstall: future\n",
            "    Found existing installation: future 0.16.0\n",
            "    Uninstalling future-0.16.0:\n",
            "      Successfully uninstalled future-0.16.0\n",
            "\u001b[31mERROR: pip's dependency resolver does not currently take into account all the packages that are installed. This behaviour is the source of the following dependency conflicts.\n",
            "datascience 0.10.6 requires folium==0.2.1, but you have folium 0.8.3 which is incompatible.\u001b[0m\n",
            "Successfully installed GitPython-3.1.24 aiohttp-3.8.1 aiosignal-1.2.0 antlr4-python3-runtime-4.8 async-timeout-4.0.1 asynctest-0.13.0 attrdict-2.0.1 black-19.10b0 boto3-1.20.16 botocore-1.23.16 braceexpand-0.1.7 colorama-0.4.4 configparser-5.1.0 distance-0.1.3 docker-pycreds-0.4.0 fasttext-0.9.2 frozendict-2.1.1 frozenlist-1.2.0 fsspec-2021.11.1 future-0.18.2 g2p-en-2.1.0 gitdb-4.0.9 huggingface-hub-0.1.2 hydra-core-1.1.1 ipadic-1.0.0 isort-4.3.21 jmespath-0.10.0 kaldi-io-0.9.4 kaldi-python-io-1.2.2 kaldiio-2.17.2 latexcodec-2.0.1 marshmallow-3.14.1 mecab-python3-1.0.3 multidict-5.2.0 nemo-toolkit-1.5.0 nltk-3.6.5 omegaconf-2.1.1 onnx-1.10.2 opencc-1.1.3 pangu-4.0.6.1 parameterized-0.8.1 pathspec-0.9.0 pathtools-0.1.2 pesq-0.0.3 pip-api-0.0.23 pipreqs-0.4.11 portalocker-2.3.2 pyDeprecate-0.3.1 pyannote.core-4.3 pyannote.database-4.1.1 pyannote.metrics-3.1 pybind11-2.8.1 pybtex-0.24.0 pybtex-docutils-1.0.1 pydub-0.25.1 pypinyin-0.44.0 pystoi-0.3.3 pytest-runner-5.3.1 pytorch-lightning-1.5.3 pyyaml-5.4.1 rapidfuzz-1.8.3 regex-2021.11.10 ruamel.yaml-0.17.17 ruamel.yaml.clib-0.2.6 s3transfer-0.5.0 sacrebleu-2.0.0 sacremoses-0.0.46 sentencepiece-0.1.96 sentry-sdk-1.5.0 shellingham-1.4.0 shortuuid-1.0.8 simplejson-3.17.6 smmap-5.0.0 sox-1.4.1 sphinx-4.3.1 sphinxcontrib-applehelp-1.0.2 sphinxcontrib-bibtex-2.4.1 sphinxcontrib-devhelp-1.0.2 sphinxcontrib-htmlhelp-2.0.0 sphinxcontrib-jsmath-1.0.1 sphinxcontrib-qthelp-1.0.3 subprocess32-3.5.4 tokenizers-0.10.3 torch-stft-0.1.4 torchmetrics-0.6.0 transformers-4.12.5 typed-ast-1.5.0 typer-0.4.0 urllib3-1.25.11 wandb-0.12.7 webdataset-0.1.62 wordninja-2.0.0 yarg-0.1.9 yarl-1.7.2 yaspin-2.1.0 youtokentome-1.0.6\n"
          ]
        }
      ]
    },
    {
      "cell_type": "code",
      "metadata": {
        "id": "cfa4-Obl0u7y"
      },
      "source": [
        "data_dir = '/content'"
      ],
      "execution_count": null,
      "outputs": []
    },
    {
      "cell_type": "code",
      "metadata": {
        "id": "-UJUZdld00h2"
      },
      "source": [
        "import glob\n",
        "import os\n",
        "import subprocess\n",
        "import tarfile\n",
        "import wget\n",
        "\n",
        "# Загрузка датасета Golos\n",
        "def load(golos_url, fname):\n",
        "  if not os.path.exists(os.path.join(data_dir, fname)):\n",
        "      golos_path = wget.download(golos_url, os.path.join(data_dir, fname))\n",
        "      print(f\"Dataset downloaded at: {golos_path}\")\n",
        "  else:\n",
        "      print(\"Tarfile already exists.\")\n",
        "      golos_path = os.path.join(data_dir, fname)\n",
        "  return golos_path\n",
        "\n",
        "#golos_path = load(\"https://sc.link/Kqr\", \"test.tar\")\n",
        "\n",
        "#if not os.path.exists(os.path.join(data_dir, '/test/')):\n",
        "#    tar = tarfile.open(golos_path)\n",
        "#    tar.extractall(path=data_dir)"
      ],
      "execution_count": null,
      "outputs": []
    },
    {
      "cell_type": "code",
      "metadata": {
        "colab": {
          "base_uri": "https://localhost:8080/"
        },
        "id": "abkl8oUS00sM",
        "outputId": "cd2df28c-947c-46bf-9216-23fbf6e6caf0"
      },
      "source": [
        "# NeMo's \"core\" package\n",
        "import nemo\n",
        "# NeMo's ASR collection - this collections contains complete ASR models and\n",
        "# building blocks (modules) for ASR\n",
        "import nemo.collections.asr as nemo_asr"
      ],
      "execution_count": null,
      "outputs": [
        {
          "output_type": "stream",
          "name": "stderr",
          "text": [
            "[NeMo W 2021-11-30 13:21:17 optimizers:50] Apex was not found. Using the lamb or fused_adam optimizer will error out.\n",
            "################################################################################\n",
            "### WARNING, path does not exist: KALDI_ROOT=/mnt/matylda5/iveselyk/Tools/kaldi-trunk\n",
            "###          (please add 'export KALDI_ROOT=<your_path>' in your $HOME/.profile)\n",
            "###          (or run as: KALDI_ROOT=<your_path> python <your_script>.py)\n",
            "################################################################################\n",
            "\n"
          ]
        }
      ]
    },
    {
      "cell_type": "code",
      "metadata": {
        "colab": {
          "base_uri": "https://localhost:8080/"
        },
        "id": "Vc79-rYl1Har",
        "outputId": "4b504175-98a7-47b4-9382-864ffaab3ed0"
      },
      "source": [
        "# asr_model = nemo_asr.models.EncDecCTCModel.from_pretrained(model_name=\"stt_ru_quartznet15x5\")\n",
        "\n",
        "load(\"https://sc.link/ZMv\", \"QuartzNet15x5_golos.nemo\")\n",
        "asr_model = nemo_asr.models.EncDecCTCModel.restore_from(os.path.join(data_dir, \"QuartzNet15x5_golos.nemo\"))"
      ],
      "execution_count": null,
      "outputs": [
        {
          "output_type": "stream",
          "name": "stdout",
          "text": [
            "Tarfile already exists.\n"
          ]
        },
        {
          "output_type": "stream",
          "name": "stderr",
          "text": [
            "[NeMo W 2021-11-30 13:21:35 modelPT:131] If you intend to do training or fine-tuning, please call the ModelPT.setup_training_data() method and provide a valid configuration file to setup the train data loader.\n",
            "    Train config : \n",
            "    manifest_filepath: train/golos_and_mcv.jsonl\n",
            "    sample_rate: 16000\n",
            "    labels:\n",
            "    - ' '\n",
            "    - а\n",
            "    - б\n",
            "    - в\n",
            "    - г\n",
            "    - д\n",
            "    - е\n",
            "    - ж\n",
            "    - з\n",
            "    - и\n",
            "    - й\n",
            "    - к\n",
            "    - л\n",
            "    - м\n",
            "    - н\n",
            "    - о\n",
            "    - п\n",
            "    - р\n",
            "    - с\n",
            "    - т\n",
            "    - у\n",
            "    - ф\n",
            "    - х\n",
            "    - ц\n",
            "    - ч\n",
            "    - ш\n",
            "    - щ\n",
            "    - ъ\n",
            "    - ы\n",
            "    - ь\n",
            "    - э\n",
            "    - ю\n",
            "    - я\n",
            "    batch_size: 64\n",
            "    trim_silence: false\n",
            "    max_duration: 20.0\n",
            "    min_duration: 0.1\n",
            "    num_workers: 20\n",
            "    shuffle: true\n",
            "    is_tarred: false\n",
            "    tarred_audio_filepaths: null\n",
            "    tarred_shard_strategy: scatter\n",
            "    parser: ru\n",
            "    \n",
            "[NeMo W 2021-11-30 13:21:35 modelPT:138] If you intend to do validation, please call the ModelPT.setup_validation_data() or ModelPT.setup_multiple_validation_data() method and provide a valid configuration file to setup the validation data loader(s). \n",
            "    Validation config : \n",
            "    manifest_filepath:\n",
            "    - test/mcv/dev_ru.jsonl\n",
            "    - test/mcv/test_ru.jsonl\n",
            "    - test/crowd/crowd.jsonl\n",
            "    - test/farfield/farfield.jsonl\n",
            "    sample_rate: 16000\n",
            "    labels:\n",
            "    - ' '\n",
            "    - а\n",
            "    - б\n",
            "    - в\n",
            "    - г\n",
            "    - д\n",
            "    - е\n",
            "    - ж\n",
            "    - з\n",
            "    - и\n",
            "    - й\n",
            "    - к\n",
            "    - л\n",
            "    - м\n",
            "    - н\n",
            "    - о\n",
            "    - п\n",
            "    - р\n",
            "    - с\n",
            "    - т\n",
            "    - у\n",
            "    - ф\n",
            "    - х\n",
            "    - ц\n",
            "    - ч\n",
            "    - ш\n",
            "    - щ\n",
            "    - ъ\n",
            "    - ы\n",
            "    - ь\n",
            "    - э\n",
            "    - ю\n",
            "    - я\n",
            "    batch_size: 64\n",
            "    num_workers: 20\n",
            "    shuffle: false\n",
            "    parser: ru\n",
            "    \n",
            "[NeMo W 2021-11-30 13:21:35 modelPT:144] Please call the ModelPT.setup_test_data() or ModelPT.setup_multiple_test_data() method and provide a valid configuration file to setup the test data loader(s).\n",
            "    Test config : \n",
            "    manifest_filepath: test/mcv/test_ru.jsonl\n",
            "    sample_rate: 16000\n",
            "    labels:\n",
            "    - ' '\n",
            "    - а\n",
            "    - б\n",
            "    - в\n",
            "    - г\n",
            "    - д\n",
            "    - е\n",
            "    - ж\n",
            "    - з\n",
            "    - и\n",
            "    - й\n",
            "    - к\n",
            "    - л\n",
            "    - м\n",
            "    - н\n",
            "    - о\n",
            "    - п\n",
            "    - р\n",
            "    - с\n",
            "    - т\n",
            "    - у\n",
            "    - ф\n",
            "    - х\n",
            "    - ц\n",
            "    - ч\n",
            "    - ш\n",
            "    - щ\n",
            "    - ъ\n",
            "    - ы\n",
            "    - ь\n",
            "    - э\n",
            "    - ю\n",
            "    - я\n",
            "    batch_size: 64\n",
            "    shuffle: false\n",
            "    parser: ru\n",
            "    \n"
          ]
        },
        {
          "output_type": "stream",
          "name": "stdout",
          "text": [
            "[NeMo I 2021-11-30 13:21:35 features:265] PADDING: 16\n",
            "[NeMo I 2021-11-30 13:21:35 features:282] STFT using torch\n",
            "[NeMo I 2021-11-30 13:21:46 save_restore_connector:149] Model EncDecCTCModel was successfully restored from /content/QuartzNet15x5_golos.nemo.\n"
          ]
        }
      ]
    },
    {
      "cell_type": "code",
      "metadata": {
        "colab": {
          "base_uri": "https://localhost:8080/"
        },
        "id": "TBqAZXLR_Eog",
        "outputId": "e9ef15eb-a216-4da5-b1a3-9b689a21f223"
      },
      "source": [
        "farfield_data_train = load('https://sc.link/1Z3', 'farfield_data_train.tar')"
      ],
      "execution_count": null,
      "outputs": [
        {
          "output_type": "stream",
          "name": "stdout",
          "text": [
            "Dataset downloaded at: /content/farfield_data_train.tar\n"
          ]
        }
      ]
    },
    {
      "cell_type": "code",
      "metadata": {
        "id": "w9oIDaA3_ErR"
      },
      "source": [
        "if not os.path.exists(os.path.join(data_dir, '/farfield_train/')):\n",
        "    tar = tarfile.open(farfield_data_train)\n",
        "    tar.extractall(path=data_dir)"
      ],
      "execution_count": null,
      "outputs": []
    },
    {
      "cell_type": "code",
      "metadata": {
        "id": "ePst3U60_Etr"
      },
      "source": [
        "!rm -rf farfield_data_train.tar"
      ],
      "execution_count": null,
      "outputs": []
    },
    {
      "cell_type": "code",
      "metadata": {
        "id": "o0-4AsXHm0nX"
      },
      "source": [
        "# --- Building Manifest Files --- #\n",
        "import json\n",
        "\n",
        "# Function to build a manifest\n",
        "def build_manifest(manifest_rel, manifest_abs):\n",
        "    manifest_path = '/content/train'\n",
        "    with open(manifest_rel, 'r') as fin:\n",
        "        with open(manifest_abs, 'w') as fout:\n",
        "            for line in fin:\n",
        "                metadata = json.loads(line)\n",
        "                #print(metadata)\n",
        "                metadata[\"audio_filepath\"]=os.path.join(manifest_path, metadata[\"audio_filepath\"])\n",
        "                json.dump(metadata, fout)\n",
        "                fout.write('\\n')\n",
        "                "
      ],
      "execution_count": null,
      "outputs": []
    },
    {
      "cell_type": "code",
      "metadata": {
        "id": "xr9sEHP8-6nf",
        "colab": {
          "base_uri": "https://localhost:8080/"
        },
        "outputId": "789f1a02-fd6a-4c1d-e3f2-886c7c5dad6a"
      },
      "source": [
        "# Building Manifests\n",
        "print(\"******\")\n",
        "train_rel = '/content/drive/MyDrive/train_farfield_25.jsonl'\n",
        "train_abs = '/content/train/farfield/farfield.jsonl'\n",
        "build_manifest(train_rel, train_abs)\n",
        "train_manifest = train_abs\n",
        "print(\"train_manifest\", train_manifest)"
      ],
      "execution_count": null,
      "outputs": [
        {
          "output_type": "stream",
          "name": "stdout",
          "text": [
            "******\n",
            "train_manifest /content/train/farfield/farfield.jsonl\n"
          ]
        }
      ]
    },
    {
      "cell_type": "code",
      "metadata": {
        "colab": {
          "base_uri": "https://localhost:8080/"
        },
        "id": "y_a0aQgWS1JG",
        "outputId": "a7e75166-d48c-407b-be5e-bd2d1c11381e"
      },
      "source": [
        "! head /content/train/farfield/farfield.jsonl"
      ],
      "execution_count": null,
      "outputs": [
        {
          "output_type": "stream",
          "name": "stdout",
          "text": [
            "{\"id\": \"855e01d6ba9a4aa59950d62037b87709\", \"audio_filepath\": \"/content/train/farfield/855e01d6ba9a4aa59950d62037b87709.wav\", \"text\": \"\\u0430\\u0444\\u0438\\u043d\\u0430 \\u0445\\u043e\\u0442\\u0435\\u043b\\u0430 \\u043d\\u043e\\u043c\\u0435\\u0440 \\u0442\\u0435\\u043b\\u0435\\u0444\\u043e\\u043d\\u0430 \\u043f\\u043e\\u043c\\u0435\\u043d\\u044f\\u0442\\u044c \\u043a\\u0430\\u0440\\u0442\\u044b\", \"duration\": 5.4596875}\n",
            "{\"id\": \"f6075fae0c592183f107cf781117d9b5\", \"audio_filepath\": \"/content/train/farfield/f6075fae0c592183f107cf781117d9b5.wav\", \"text\": \"\\u0441\\u0430\\u043b\\u044e\\u0442 \\u0445\\u043e\\u0447\\u0443 \\u043f\\u043e\\u0433\\u043e\\u0432\\u043e\\u0440\\u0438\\u0442\\u044c \\u0441 \\u0434\\u0436\\u043e\\u0439\", \"duration\": 4.15125}\n",
            "{\"id\": \"2599a6cb55795b38ddd80b849d8670bc\", \"audio_filepath\": \"/content/train/farfield/2599a6cb55795b38ddd80b849d8670bc.wav\", \"text\": \"\\u0434\\u0436\\u043e\\u0439 \\u043a\\u0430\\u043a\\u0430\\u044f \\u0432\\u0430\\u043b\\u044e\\u0442\\u0430 \\u0432 \\u043a\\u0430\\u043c\\u0431\\u043e\\u0434\\u0436\\u0435\", \"duration\": 3.9185625}\n",
            "{\"id\": \"5f7483035b2f26b773b0d3fb125b779d\", \"audio_filepath\": \"/content/train/farfield/5f7483035b2f26b773b0d3fb125b779d.wav\", \"text\": \"\\u0441\\u0430\\u043b\\u044e\\u0442 \\u044f \\u043c\\u043e\\u0433\\u0443 \\u0447\\u0442\\u043e \\u043d\\u0438\\u0431\\u0443\\u0434\\u044c \\u0441\\u0434\\u0435\\u043b\\u0430\\u0442\\u044c\", \"duration\": 5.063625}\n",
            "{\"id\": \"4c95a12b71e1262ac937d2fe6a803906\", \"audio_filepath\": \"/content/train/farfield/4c95a12b71e1262ac937d2fe6a803906.wav\", \"text\": \"\\u0434\\u0436\\u043e\\u0439 \\u0441\\u043c\\u043e\\u0442\\u0440\\u0435\\u0442\\u044c \\u043e\\u043f\\u0435\\u0440\\u0430\\u0446\\u0438\\u044e \\u044b \\u0438 \\u0434\\u0440\\u0443\\u0433\\u0438\\u0435 \\u043f\\u0440\\u0438\\u043a\\u043b\\u044e\\u0447\\u0435\\u043d\\u0438\\u044f \\u0448\\u0443\\u0440\\u0438\\u043a\\u0430 \\u043e\\u043d\\u043b\\u0430\\u0439\\u043d\", \"duration\": 7.3826875}\n",
            "{\"id\": \"90655e9a042c4e79c424cd7dd82b37a6\", \"audio_filepath\": \"/content/train/farfield/90655e9a042c4e79c424cd7dd82b37a6.wav\", \"text\": \"\\u0441\\u0430\\u043b\\u044e\\u0442 \\u043d\\u0430 \\u043a\\u0430\\u043a\\u043e\\u043c \\u044f\\u0437\\u044b\\u043a\\u0435 \\u0441\\u043e\\u0437\\u0434\\u0430\\u043d\\u0430 \\u043a\\u0430\\u0432\\u043a\\u0430 \\u043d\\u0430 \\u043f\\u043b\\u044f\\u0436\\u0435\", \"duration\": 5.232625}\n",
            "{\"id\": \"14b5e99616d446c3887c8927403632a0\", \"audio_filepath\": \"/content/train/farfield/14b5e99616d446c3887c8927403632a0.wav\", \"text\": \"\\u0441\\u0431\\u0435\\u0440 \\u0447\\u0435\\u043c \\u043f\\u043b\\u0430\\u0442\\u0438\\u0442\\u044c \\u043d\\u0430 \\u043a\\u0430\\u043d\\u0430\\u0440\\u0430\\u0445\", \"duration\": 4.524}\n",
            "{\"id\": \"d71107319855ef21249be2ab0edea9c2\", \"audio_filepath\": \"/content/train/farfield/d71107319855ef21249be2ab0edea9c2.wav\", \"text\": \"\\u0430\\u0444\\u0438\\u043d\\u0430 \\u043d\\u0430 \\u043f\\u0430\\u0440\\u0443 \\u043c\\u0438\\u043d\\u0443\\u0442 \\u043f\\u0435\\u0440\\u0435\\u043c\\u043e\\u0442\\u0430\\u0439 \\u0432\\u043f\\u0435\\u0440\\u0435\\u0434\", \"duration\": 4.4630625}\n",
            "{\"id\": \"566e4f7d788d755e2fa76ab57837d7dd\", \"audio_filepath\": \"/content/train/farfield/566e4f7d788d755e2fa76ab57837d7dd.wav\", \"text\": \"\\u0430\\u0444\\u0438\\u043d\\u0430 \\u043f\\u043b\\u043e\\u0449\\u0430\\u0434\\u044c \\u043a\\u043e\\u0440\\u043e\\u043b\\u0435\\u0432\\u0441\\u0442\\u0432\\u0430 \\u0442\\u043e\\u043d\\u0433\\u0430\", \"duration\": 4.75025}\n",
            "{\"id\": \"40bf19adace8d787cd3c63784ed0b27b\", \"audio_filepath\": \"/content/train/farfield/40bf19adace8d787cd3c63784ed0b27b.wav\", \"text\": \"\\u0430\\u0444\\u0438\\u043d\\u0430 \\u0447\\u0442\\u043e \\u0442\\u0430\\u043a\\u043e\\u0435 \\u0434\\u0435\\u043b\\u0444\\u0442\", \"duration\": 3.74225}\n"
          ]
        }
      ]
    },
    {
      "cell_type": "code",
      "metadata": {
        "colab": {
          "base_uri": "https://localhost:8080/"
        },
        "id": "rxlgvCdOL72e",
        "outputId": "2f46a5b6-a174-452e-fdd5-dc51fac19582"
      },
      "source": [
        "farfield_data_test = load(\"https://sc.link/Kqr\", \"test.tar\")\n",
        "\n",
        "if not os.path.exists(os.path.join(data_dir, '/test/')):\n",
        "    tar = tarfile.open(farfield_data_test)\n",
        "    tar.extractall(path=data_dir)"
      ],
      "execution_count": null,
      "outputs": [
        {
          "output_type": "stream",
          "name": "stdout",
          "text": [
            "Tarfile already exists.\n"
          ]
        }
      ]
    },
    {
      "cell_type": "code",
      "metadata": {
        "id": "_vunMvVaUe5l"
      },
      "source": [
        "# --- Building Manifest Files --- #\n",
        "import json\n",
        "\n",
        "# Function to build a manifest\n",
        "def build_manifest(manifest_rel, manifest_abs):\n",
        "    manifest_path = '/content/test/farfield'\n",
        "    with open(manifest_rel, 'r') as fin:\n",
        "        with open(manifest_abs, 'w') as fout:\n",
        "            for line in fin:\n",
        "                metadata = json.loads(line)\n",
        "                #print(metadata)\n",
        "                metadata[\"audio_filepath\"]=os.path.join(manifest_path, metadata[\"audio_filepath\"])\n",
        "                json.dump(metadata, fout)\n",
        "                fout.write('\\n')"
      ],
      "execution_count": null,
      "outputs": []
    },
    {
      "cell_type": "code",
      "metadata": {
        "colab": {
          "base_uri": "https://localhost:8080/"
        },
        "id": "kfq-gpaALm01",
        "outputId": "b6297f5d-65fe-4308-c8c7-f36f4ab2f2c9"
      },
      "source": [
        "print(\"******\")\n",
        "test_rel = os.path.join('/content/test/farfield/manifest.jsonl')\n",
        "test_abs = os.path.join('/content/test/farfield/farfield.jsonl')\n",
        "build_manifest(test_rel, test_abs)\n",
        "test_manifest = test_abs\n",
        "print(\"test_manifest\", test_manifest)"
      ],
      "execution_count": null,
      "outputs": [
        {
          "output_type": "stream",
          "name": "stdout",
          "text": [
            "******\n",
            "test_manifest /content/test/farfield/farfield.jsonl\n"
          ]
        }
      ]
    },
    {
      "cell_type": "code",
      "metadata": {
        "id": "TB9UsvZ6-6vf"
      },
      "source": [
        "#test_manifest /content/test/farfield/farfield.jsonl\n",
        "#train_manifest /content/train/farfield/farfield.jsonl"
      ],
      "execution_count": null,
      "outputs": []
    },
    {
      "cell_type": "code",
      "metadata": {
        "id": "h6SMSdIS-6y1",
        "colab": {
          "base_uri": "https://localhost:8080/"
        },
        "outputId": "3e6f37ae-fa42-4272-f2f9-94cef53439b1"
      },
      "source": [
        "!head /content/test/farfield/farfield.jsonl"
      ],
      "execution_count": null,
      "outputs": [
        {
          "output_type": "stream",
          "name": "stdout",
          "text": [
            "{\"id\": \"58b586f67f5e634506e215df5996b82e\", \"audio_filepath\": \"/content/test/farfield/files/58b586f67f5e634506e215df5996b82e.wav\", \"text\": \"\\u0434\\u0436\\u043e\\u0439 \\u0445\\u0432\\u0430\\u0442\\u0438\\u0442\", \"duration\": 1.696625}\n",
            "{\"id\": \"26093ef7a8c5ec6a3c586a6a929c1bd3\", \"audio_filepath\": \"/content/test/farfield/files/26093ef7a8c5ec6a3c586a6a929c1bd3.wav\", \"text\": \"\\u0441\\u0430\\u043b\\u044e\\u0442 \\u0432\\u044b\\u0437\\u043e\\u0432 \\u0441\\u0432\\u0435\\u0442\\u043b\\u0430\\u043d\\u0435 \\u0432\\u0430\\u0441\\u0438\\u043b\\u044c\\u0435\\u0432\\u043d\\u0435 \\u043d\\u0438\\u043a\\u043e\\u043b\\u0435\\u043d\\u043a\\u043e\", \"duration\": 3.1720625}\n",
            "{\"id\": \"b42d13ab3dc159fac39a1120e8011f66\", \"audio_filepath\": \"/content/test/farfield/files/b42d13ab3dc159fac39a1120e8011f66.wav\", \"text\": \"\\u0441\\u0430\\u043b\\u044e\\u0442 \\u0445\\u0432\\u0430\\u0442\\u0438\\u0442\", \"duration\": 1.5226875}\n",
            "{\"id\": \"7e55843e745a239b35212e2caba77239\", \"audio_filepath\": \"/content/test/farfield/files/7e55843e745a239b35212e2caba77239.wav\", \"text\": \"\\u0434\\u0436\\u043e\\u0439 \\u0437\\u0432\\u043e\\u043d\\u043e\\u043a \\u044e\\u0440\\u0438\\u044e \\u0438\\u0432\\u0430\\u043d\\u043e\\u0432\\u0438\\u0447\\u0443 \\u0446\\u0430\\u0440\\u044c\\u043a\\u043e\\u0432\\u0443\", \"duration\": 3.0640625}\n",
            "{\"id\": \"a0c621e2819a3747e42d05940aab0446\", \"audio_filepath\": \"/content/test/farfield/files/a0c621e2819a3747e42d05940aab0446.wav\", \"text\": \"\\u0434\\u0436\\u043e\\u0439 \\u0432\\u044b\\u0439\\u0442\\u0438 \\u0438\\u0437 \\u0441\\u0446\\u0435\\u043d\\u0430\\u0440\\u0438\\u044f\", \"duration\": 2.31475}\n",
            "{\"id\": \"f293e3548bd266460c8ea6ac1fb76478\", \"audio_filepath\": \"/content/test/farfield/files/f293e3548bd266460c8ea6ac1fb76478.wav\", \"text\": \"\\u0441\\u0430\\u043b\\u044e\\u0442 \\u0432\\u044b\\u0439\\u0442\\u0438\", \"duration\": 1.310125}\n",
            "{\"id\": \"b3fc5f249351a9087ffedc0a34385463\", \"audio_filepath\": \"/content/test/farfield/files/b3fc5f249351a9087ffedc0a34385463.wav\", \"text\": \"\\u0441\\u0430\\u043b\\u044e\\u0442 \\u0437\\u0430\\u043a\\u0440\\u043e\\u0439\\u0441\\u044f\", \"duration\": 1.9009375}\n",
            "{\"id\": \"ee2144d4bc00e96131a9bef5c74edd97\", \"audio_filepath\": \"/content/test/farfield/files/ee2144d4bc00e96131a9bef5c74edd97.wav\", \"text\": \"\\u0441\\u0430\\u043b\\u044e\\u0442 \\u043d\\u0430\\u0431\\u0435\\u0440\\u0438 \\u0434\\u0430\\u043d\\u0438\\u043b\\u043e\\u0432\\u0430\", \"duration\": 1.8129375}\n",
            "{\"id\": \"94f4ad577967f9f61d5d88cd92b1339c\", \"audio_filepath\": \"/content/test/farfield/files/94f4ad577967f9f61d5d88cd92b1339c.wav\", \"text\": \"\\u0441\\u0431\\u0435\\u0440 \\u043c\\u043d\\u0435 \\u043d\\u0440\\u0430\\u0432\\u0438\\u0442\\u0441\\u044f\", \"duration\": 1.9945}\n",
            "{\"id\": \"a97958419827c57069bc3550c4353eb9\", \"audio_filepath\": \"/content/test/farfield/files/a97958419827c57069bc3550c4353eb9.wav\", \"text\": \"\\u0441\\u0430\\u043b\\u044e\\u0442 \\u043f\\u0440\\u0435\\u043a\\u0440\\u0430\\u0442\\u0438\", \"duration\": 1.4965}\n"
          ]
        }
      ]
    },
    {
      "cell_type": "code",
      "metadata": {
        "id": "8qdlRdB01Zd1"
      },
      "source": [
        "def calculate_wer(reference, hypothesis):\n",
        "    \"\"\"\n",
        "        Calculation of WER with Levenshtein distance.\n",
        "        Works only for iterables up to 254 elements (uint8).\n",
        "        O(nm) time and space complexity.\n",
        "\n",
        "        >>> calculate_wer(\"who is there\".split(), \"is there\".split())\n",
        "        1\n",
        "        >>> calculate_wer(\"who is there\".split(), \"\".split())\n",
        "        3\n",
        "        >>> calculate_wer(\"\".split(), \"who is there\".split())\n",
        "        3\n",
        "    \"\"\"\n",
        "    # initialisation\n",
        "    d = np.zeros((len(reference) + 1) * (len(hypothesis) + 1),\n",
        "                    dtype=np.uint8)\n",
        "    d = d.reshape((len(reference) + 1, len(hypothesis) + 1))\n",
        "    for i in range(len(reference) + 1):\n",
        "        for j in range(len(hypothesis) + 1):\n",
        "            if i == 0:\n",
        "                d[0][j] = j\n",
        "            elif j == 0:\n",
        "                d[i][0] = i\n",
        "\n",
        "    # computation\n",
        "    for i in range(1, len(reference) + 1):\n",
        "        for j in range(1, len(hypothesis) + 1):\n",
        "            if reference[i - 1] == hypothesis[j - 1]:\n",
        "                d[i][j] = d[i - 1][j - 1]\n",
        "            else:\n",
        "                substitution = d[i - 1][j - 1] + 1\n",
        "                insertion = d[i][j - 1] + 1\n",
        "                deletion = d[i - 1][j] + 1\n",
        "                d[i][j] = min(substitution, insertion, deletion)\n",
        "\n",
        "    return d[len(reference)][len(hypothesis)] / float(len(reference)) "
      ],
      "execution_count": null,
      "outputs": []
    },
    {
      "cell_type": "code",
      "metadata": {
        "id": "2hIuLRrPVhjo"
      },
      "source": [
        ""
      ],
      "execution_count": null,
      "outputs": []
    },
    {
      "cell_type": "code",
      "metadata": {
        "colab": {
          "base_uri": "https://localhost:8080/"
        },
        "id": "WSMOiZ2HV6C8",
        "outputId": "2cf2739c-3ca8-47a2-de85-eba87a438a77"
      },
      "source": [
        "import pytorch_lightning as pl\n",
        "trainer = pl.Trainer(gpus=1, max_epochs=1, precision=16)"
      ],
      "execution_count": null,
      "outputs": [
        {
          "output_type": "stream",
          "name": "stderr",
          "text": [
            "Using 16bit native Automatic Mixed Precision (AMP)\n",
            "GPU available: True, used: True\n",
            "TPU available: False, using: 0 TPU cores\n",
            "IPU available: False, using: 0 IPUs\n"
          ]
        }
      ]
    },
    {
      "cell_type": "code",
      "metadata": {
        "id": "nC_Irffh1Zgi"
      },
      "source": [
        "params_model = asr_model._cfg\n",
        "\n",
        "# --- Config Information ---#\n",
        "# try:\n",
        "#     from ruamel.yaml import YAML\n",
        "# except ModuleNotFoundError:\n",
        "#     from ruamel_yaml import YAML\n",
        "# config_path = '/usr/local/lib/python3.7/dist-packages/nemo/collections/asr/models/configs/'\n",
        "\n",
        "# yaml = YAML(typ='safe')\n",
        "# with open(config_path) as f:\n",
        "#     params = yaml.load(f)\n",
        "# print(params)\n",
        "params_model['train_ds']['parser']='base'\n",
        "params_model['validation_ds']['parser']='base'\n",
        "params_model['test_ds']['parser']='base'\n",
        "params_model['train_ds']['manifest_filepath'] = train_manifest\n",
        "params_model['train_ds']['batch_size']=16\n",
        "params_model['validation_ds']['manifest_filepath'] = test_manifest\n",
        "params_model['validation_ds']['batch_size']=16\n",
        "params_model['test_ds']['manifest_filepath'] = test_manifest\n",
        "params_model['test_ds']['batch_size']=16"
      ],
      "execution_count": null,
      "outputs": []
    },
    {
      "cell_type": "code",
      "metadata": {
        "id": "938kcqdM1nWl"
      },
      "source": [
        "params_model['optim']['lr'] = 0.0001"
      ],
      "execution_count": null,
      "outputs": []
    },
    {
      "cell_type": "code",
      "metadata": {
        "id": "W3LtxCj9VjfQ"
      },
      "source": [
        "params_model['dropout'] = 0.4"
      ],
      "execution_count": null,
      "outputs": []
    },
    {
      "cell_type": "code",
      "metadata": {
        "id": "661B9fP1BAPX"
      },
      "source": [
        "first_asr_model = asr_model"
      ],
      "execution_count": null,
      "outputs": []
    },
    {
      "cell_type": "code",
      "metadata": {
        "colab": {
          "base_uri": "https://localhost:8080/"
        },
        "id": "gameNEIl82Mi",
        "outputId": "38582b8e-dcfd-4ba0-e01a-ef8f751ce4d7"
      },
      "source": [
        "import copy\n",
        "from omegaconf import DictConfig\n",
        "opt = copy.deepcopy(params_model['optim'])\n",
        "opt['lr'] = 0.0001\n",
        "first_asr_model.setup_optimization(optim_config=DictConfig(opt))"
      ],
      "execution_count": null,
      "outputs": [
        {
          "output_type": "stream",
          "name": "stderr",
          "text": [
            "[NeMo W 2021-11-30 13:23:53 modelPT:453] Trainer wasn't specified in model constructor. Make sure that you really wanted it.\n"
          ]
        },
        {
          "output_type": "stream",
          "name": "stdout",
          "text": [
            "[NeMo I 2021-11-30 13:23:53 modelPT:561] Optimizer config = Novograd (\n",
            "    Parameter Group 0\n",
            "        amsgrad: False\n",
            "        betas: [0.9, 0.98]\n",
            "        eps: 1e-08\n",
            "        grad_averaging: False\n",
            "        lr: 0.0001\n",
            "        weight_decay: 0.001\n",
            "    )\n"
          ]
        },
        {
          "output_type": "stream",
          "name": "stderr",
          "text": [
            "[NeMo W 2021-11-30 13:23:53 lr_scheduler:732] Neither `max_steps` nor `iters_per_batch` were provided to `optim.sched`, cannot compute effective `max_steps` !\n",
            "    Scheduler will not be instantiated !\n"
          ]
        },
        {
          "output_type": "execute_result",
          "data": {
            "text/plain": [
              "(Novograd (\n",
              " Parameter Group 0\n",
              "     amsgrad: False\n",
              "     betas: [0.9, 0.98]\n",
              "     eps: 1e-08\n",
              "     grad_averaging: False\n",
              "     lr: 0.0001\n",
              "     weight_decay: 0.001\n",
              " ), None)"
            ]
          },
          "metadata": {},
          "execution_count": 20
        }
      ]
    },
    {
      "cell_type": "code",
      "metadata": {
        "colab": {
          "base_uri": "https://localhost:8080/"
        },
        "id": "7On0PQiV9Hl-",
        "outputId": "25a3e1ac-4fcb-4450-8118-9f377231777d"
      },
      "source": [
        "first_asr_model.setup_training_data(train_data_config=params_model['train_ds'])\n",
        "first_asr_model.setup_test_data(test_data_config=params_model['test_ds'])\n",
        "# Point to the new validation data for fine-tuning\n",
        "first_asr_model.setup_validation_data(val_data_config=params_model['validation_ds'])"
      ],
      "execution_count": null,
      "outputs": [
        {
          "output_type": "stream",
          "name": "stdout",
          "text": [
            "[NeMo I 2021-11-30 13:23:59 collections:173] Dataset loaded with 31001 files totalling 41.84 hours\n",
            "[NeMo I 2021-11-30 13:23:59 collections:174] 0 files were filtered totalling 0.00 hours\n"
          ]
        },
        {
          "output_type": "stream",
          "name": "stderr",
          "text": [
            "[NeMo W 2021-11-30 13:23:59 nemo_logging:349] /usr/local/lib/python3.7/dist-packages/torch/utils/data/dataloader.py:481: UserWarning: This DataLoader will create 20 worker processes in total. Our suggested max number of worker in current system is 2, which is smaller than what this DataLoader is going to create. Please be aware that excessive worker creation might get DataLoader running slow or even freeze, lower the worker number to avoid potential slowness/freeze if necessary.\n",
            "      cpuset_checked))\n",
            "    \n"
          ]
        },
        {
          "output_type": "stream",
          "name": "stdout",
          "text": [
            "[NeMo I 2021-11-30 13:23:59 collections:173] Dataset loaded with 1916 files totalling 1.41 hours\n",
            "[NeMo I 2021-11-30 13:23:59 collections:174] 0 files were filtered totalling 0.00 hours\n",
            "[NeMo I 2021-11-30 13:23:59 collections:173] Dataset loaded with 1916 files totalling 1.41 hours\n",
            "[NeMo I 2021-11-30 13:23:59 collections:174] 0 files were filtered totalling 0.00 hours\n"
          ]
        }
      ]
    },
    {
      "cell_type": "code",
      "metadata": {
        "colab": {
          "base_uri": "https://localhost:8080/"
        },
        "id": "1ODT13y19UEh",
        "outputId": "20820b85-22c7-474c-ea5b-325e33c5de13"
      },
      "source": [
        "first_asr_model.cuda()\n",
        "\n",
        "# We will be computing Word Error Rate (WER) metric between our hypothesis and predictions.\n",
        "# WER is computed as numerator/denominator.\n",
        "# We'll gather all the test batches' numerators and denominators.\n",
        "wer_nums = []\n",
        "wer_denoms = []\n",
        "\n",
        "# Loop over all test batches.\n",
        "# Iterating over the model's `test_dataloader` will give us:\n",
        "# (audio_signal, audio_signal_length, transcript_tokens, transcript_length)\n",
        "# See the AudioToCharDataset for more details.\n",
        "for test_batch in first_asr_model.test_dataloader():\n",
        "        test_batch = [x.cuda() for x in test_batch]\n",
        "        targets = test_batch[2]\n",
        "        targets_lengths = test_batch[3]        \n",
        "        log_probs, encoded_len, greedy_predictions = first_asr_model(\n",
        "            input_signal=test_batch[0], input_signal_length=test_batch[1]\n",
        "        )\n",
        "        # Notice the model has a helper object to compute WER\n",
        "        first_asr_model._wer.update(greedy_predictions, targets, targets_lengths)\n",
        "        _, wer_num, wer_denom = first_asr_model._wer.compute()\n",
        "        first_asr_model._wer.reset()\n",
        "        wer_nums.append(wer_num.detach().cpu().numpy())\n",
        "        wer_denoms.append(wer_denom.detach().cpu().numpy())\n",
        "\n",
        "        # Release tensors from GPU memory\n",
        "        del test_batch, log_probs, targets, targets_lengths, encoded_len, greedy_predictions\n",
        "\n",
        "# We need to sum all numerators and denominators first. Then divide.\n",
        "print(f\"WER = {sum(wer_nums)/sum(wer_denoms)}\")"
      ],
      "execution_count": null,
      "outputs": [
        {
          "output_type": "stream",
          "name": "stderr",
          "text": [
            "[NeMo W 2021-11-30 13:24:02 patch_utils:50] torch.stft() signature has been updated for PyTorch 1.7+\n",
            "    Please update PyTorch to remain compatible with later versions of NeMo.\n",
            "[NeMo W 2021-11-30 13:24:02 nemo_logging:349] /usr/local/lib/python3.7/dist-packages/nemo/collections/asr/parts/submodules/jasper.py:280: UserWarning: __floordiv__ is deprecated, and its behavior will change in a future version of pytorch. It currently rounds toward 0 (like the 'trunc' function NOT 'floor'). This results in incorrect rounding for negative values. To keep the current behavior, use torch.div(a, b, rounding_mode='trunc'), or for actual floor division, use torch.div(a, b, rounding_mode='floor').\n",
            "      ) // self.conv.stride[0] + 1\n",
            "    \n"
          ]
        },
        {
          "output_type": "stream",
          "name": "stdout",
          "text": [
            "WER = 0.6603435934144596\n"
          ]
        }
      ]
    },
    {
      "cell_type": "code",
      "metadata": {
        "id": "qajtpvsi1zdX",
        "colab": {
          "base_uri": "https://localhost:8080/",
          "height": 687,
          "referenced_widgets": [
            "ca8681be0ea848e3a0e27164b21089ba",
            "b9a0e987e4ec488aafc220df75f6bac2",
            "d864f4b9305d464b8edbb303d7acabb9",
            "ab778afff0db47dfb872175336587d73",
            "041dc05e91ac437aab358f5c63d060be",
            "ece7643b48bb419f914dcded1527d444",
            "11e6b39a29e8426db0eb39a577670c59",
            "f0f053083e18401585d8bf10b4533e5a",
            "56ff40840a5348bba5fb8c23d747d06e",
            "c3b5d8d045e4474dab4b0e0a9d469e7f",
            "bb7e96a8c44545d59b7bf7a8a84f6f9f",
            "9a71793a8ba54905864d3c0fe4097943",
            "f181abb15d1e4ddcab88c1d3823f3670",
            "e02ff349b73f48028321c61850708dbb",
            "f214a762754740af812a203771f92370",
            "dfdf47180c7941b7835e86ce81ec58cb",
            "88c1a091e5984f728ec3b6f5b8552a17",
            "6af394393523410496acdb853b0018cb",
            "4f0e7350cb9543d584e423fc2acfab69",
            "0ba5db45bff948c686870d735d3a560c",
            "309b4dba344d4088b244b0b03b66a0b5",
            "e37ef3914a284c7ca034522968509e5d",
            "d97583319116412c9d4a575e2223ac44",
            "16999141548c4fad94210f2b53974afe",
            "09cc2f5726384bad8bd6a2ddb6c90ff2",
            "cf6ba1b217664548887d977ba350c806",
            "5cdc86cb909947009ed9faa58c55d140",
            "ea757e81f518451f94de43aaf2a052d9",
            "a1a3887adc2b4ecfa02d2410648f6b38",
            "86cf2ffe0fb54c1aa4d528fc5848b097",
            "dfcffd3ba13d4f458ce7e115c9e924b8",
            "6df2ea5c9b2b4d728f32559a15759be3",
            "f19b4b65bcda4c7cb8e0b1a4b0491deb"
          ]
        },
        "outputId": "1bf92c76-5fc4-4d87-bd20-6e9961d075bd"
      },
      "source": [
        "# Start training!!!\n",
        "trainer.fit(first_asr_model)"
      ],
      "execution_count": null,
      "outputs": [
        {
          "output_type": "stream",
          "name": "stderr",
          "text": [
            "LOCAL_RANK: 0 - CUDA_VISIBLE_DEVICES: [0]\n",
            "[NeMo W 2021-11-30 13:26:42 modelPT:453] Trainer wasn't specified in model constructor. Make sure that you really wanted it.\n"
          ]
        },
        {
          "output_type": "stream",
          "name": "stdout",
          "text": [
            "[NeMo I 2021-11-30 13:26:42 modelPT:561] Optimizer config = Novograd (\n",
            "    Parameter Group 0\n",
            "        amsgrad: False\n",
            "        betas: [0.9, 0.98]\n",
            "        eps: 1e-08\n",
            "        grad_averaging: False\n",
            "        lr: 0.0001\n",
            "        weight_decay: 0.001\n",
            "    )\n"
          ]
        },
        {
          "output_type": "stream",
          "name": "stderr",
          "text": [
            "[NeMo W 2021-11-30 13:26:42 lr_scheduler:732] Neither `max_steps` nor `iters_per_batch` were provided to `optim.sched`, cannot compute effective `max_steps` !\n",
            "    Scheduler will not be instantiated !\n",
            "\n",
            "  | Name              | Type                              | Params\n",
            "------------------------------------------------------------------------\n",
            "0 | preprocessor      | AudioToMelSpectrogramPreprocessor | 0     \n",
            "1 | encoder           | ConvASREncoder                    | 18.9 M\n",
            "2 | decoder           | ConvASRDecoder                    | 34.9 K\n",
            "3 | loss              | CTCLoss                           | 0     \n",
            "4 | spec_augmentation | SpectrogramAugmentation           | 0     \n",
            "5 | _wer              | WER                               | 0     \n",
            "------------------------------------------------------------------------\n",
            "18.9 M    Trainable params\n",
            "0         Non-trainable params\n",
            "18.9 M    Total params\n",
            "37.859    Total estimated model params size (MB)\n"
          ]
        },
        {
          "output_type": "display_data",
          "data": {
            "application/vnd.jupyter.widget-view+json": {
              "model_id": "ca8681be0ea848e3a0e27164b21089ba",
              "version_minor": 0,
              "version_major": 2
            },
            "text/plain": [
              "Validation sanity check: 0it [00:00, ?it/s]"
            ]
          },
          "metadata": {}
        },
        {
          "output_type": "stream",
          "name": "stderr",
          "text": [
            "[NeMo W 2021-11-30 13:26:43 nemo_logging:349] /usr/local/lib/python3.7/dist-packages/torch/utils/data/dataloader.py:481: UserWarning: This DataLoader will create 20 worker processes in total. Our suggested max number of worker in current system is 2, which is smaller than what this DataLoader is going to create. Please be aware that excessive worker creation might get DataLoader running slow or even freeze, lower the worker number to avoid potential slowness/freeze if necessary.\n",
            "      cpuset_checked))\n",
            "    \n",
            "[NeMo W 2021-11-30 13:26:46 nemo_logging:349] /usr/local/lib/python3.7/dist-packages/nemo/collections/asr/parts/submodules/jasper.py:280: UserWarning: __floordiv__ is deprecated, and its behavior will change in a future version of pytorch. It currently rounds toward 0 (like the 'trunc' function NOT 'floor'). This results in incorrect rounding for negative values. To keep the current behavior, use torch.div(a, b, rounding_mode='trunc'), or for actual floor division, use torch.div(a, b, rounding_mode='floor').\n",
            "      ) // self.conv.stride[0] + 1\n",
            "    \n"
          ]
        },
        {
          "output_type": "display_data",
          "data": {
            "application/vnd.jupyter.widget-view+json": {
              "model_id": "9a71793a8ba54905864d3c0fe4097943",
              "version_minor": 0,
              "version_major": 2
            },
            "text/plain": [
              "Training: 0it [00:00, ?it/s]"
            ]
          },
          "metadata": {}
        },
        {
          "output_type": "display_data",
          "data": {
            "application/vnd.jupyter.widget-view+json": {
              "model_id": "d97583319116412c9d4a575e2223ac44",
              "version_minor": 0,
              "version_major": 2
            },
            "text/plain": [
              "Validating: 0it [00:00, ?it/s]"
            ]
          },
          "metadata": {}
        }
      ]
    },
    {
      "cell_type": "code",
      "metadata": {
        "id": "aMBmrfTH2CZq"
      },
      "source": [
        "first_asr_model.save_to('/content/drive/MyDrive/first_asr_model.nemo')"
      ],
      "execution_count": null,
      "outputs": []
    },
    {
      "cell_type": "code",
      "metadata": {
        "id": "V4kLPCZI2Rc2",
        "colab": {
          "base_uri": "https://localhost:8080/"
        },
        "outputId": "5f8fd9de-af74-4db8-fc18-de255ac30a83"
      },
      "source": [
        "# Bigger batch-size = bigger throughput\n",
        "# params['model']['validation_ds']['batch_size'] = 16\n",
        "# Setup the test data loader and make sure the model is on GPU\n",
        "# first_asr_model.setup_test_data(test_data_config=params['model']['validation_ds'])\n",
        "first_asr_model.cuda()\n",
        "\n",
        "# We will be computing Word Error Rate (WER) metric between our hypothesis and predictions.\n",
        "# WER is computed as numerator/denominator.\n",
        "# We'll gather all the test batches' numerators and denominators.\n",
        "wer_nums = []\n",
        "wer_denoms = []\n",
        "\n",
        "# Loop over all test batches.\n",
        "# Iterating over the model's `test_dataloader` will give us:\n",
        "# (audio_signal, audio_signal_length, transcript_tokens, transcript_length)\n",
        "# See the AudioToCharDataset for more details.\n",
        "for test_batch in first_asr_model.test_dataloader():\n",
        "        test_batch = [x.cuda() for x in test_batch]\n",
        "        targets = test_batch[2]\n",
        "        targets_lengths = test_batch[3]        \n",
        "        log_probs, encoded_len, greedy_predictions = first_asr_model(\n",
        "            input_signal=test_batch[0], input_signal_length=test_batch[1]\n",
        "        )\n",
        "        # Notice the model has a helper object to compute WER\n",
        "        first_asr_model._wer.update(greedy_predictions, targets, targets_lengths)\n",
        "        _, wer_num, wer_denom = first_asr_model._wer.compute()\n",
        "        first_asr_model._wer.reset()\n",
        "        wer_nums.append(wer_num.detach().cpu().numpy())\n",
        "        wer_denoms.append(wer_denom.detach().cpu().numpy())\n",
        "\n",
        "        # Release tensors from GPU memory\n",
        "        del test_batch, log_probs, targets, targets_lengths, encoded_len, greedy_predictions\n",
        "\n",
        "# We need to sum all numerators and denominators first. Then divide.\n",
        "print(f\"WER = {sum(wer_nums)/sum(wer_denoms)}\")"
      ],
      "execution_count": null,
      "outputs": [
        {
          "output_type": "stream",
          "name": "stderr",
          "text": [
            "[NeMo W 2021-11-30 14:31:47 nemo_logging:349] /usr/local/lib/python3.7/dist-packages/nemo/collections/asr/parts/submodules/jasper.py:280: UserWarning: __floordiv__ is deprecated, and its behavior will change in a future version of pytorch. It currently rounds toward 0 (like the 'trunc' function NOT 'floor'). This results in incorrect rounding for negative values. To keep the current behavior, use torch.div(a, b, rounding_mode='trunc'), or for actual floor division, use torch.div(a, b, rounding_mode='floor').\n",
            "      ) // self.conv.stride[0] + 1\n",
            "    \n"
          ]
        },
        {
          "output_type": "stream",
          "name": "stdout",
          "text": [
            "WER = 0.5697924123120973\n"
          ]
        }
      ]
    },
    {
      "cell_type": "code",
      "metadata": {
        "id": "RjDccmDRpV3t"
      },
      "source": [
        ""
      ],
      "execution_count": null,
      "outputs": []
    }
  ]
}